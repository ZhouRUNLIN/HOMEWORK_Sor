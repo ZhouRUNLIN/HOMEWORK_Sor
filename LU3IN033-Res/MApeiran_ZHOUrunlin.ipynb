{
 "cells": [
  {
   "cell_type": "markdown",
   "metadata": {},
   "source": [
    "## IA & Data science (LU3IN0226) -- 2022-2023\n",
    "*&copy; Equipe pédagogique: Christophe Marsala, Olivier Schwander, Jean-Noël Vittaut.*\n"
   ]
  },
  {
   "cell_type": "markdown",
   "metadata": {},
   "source": [
    "<font size=\"+1\" color=\"RED\">**[Q]**</font> **Indiquer dans la boîte ci-dessous vos noms et prénoms :**"
   ]
  },
  {
   "cell_type": "markdown",
   "metadata": {},
   "source": [
    "MA Peiran 28717249\n",
    "ZHOU Runlin 28717281"
   ]
  },
  {
   "cell_type": "markdown",
   "metadata": {},
   "source": [
    "<font color=\"RED\" size=\"+1\">**[Q]**</font> **Renommer ce fichier ipython**\n",
    "\n",
    "Tout en haut de cette page, cliquer sur <tt>tme-01</tt> et rajouter à la suite de <tt>tme-01</tt> les noms des membres du binômes séparés par un tiret.\n",
    "\n",
    "Par exemple, pour le binôme Luke Skywalker et Han Solo, le nom de fichier devient : <pre>tme-01-Skywalker-Solo</pre>\n",
    "\n",
    "Penser à sauvegarder fréquemment le fichier en cours de travail :\n",
    "- soit en cliquant sur l'icône \"disquette\"\n",
    "- soit par la combinaison de touches [Ctrl]-S"
   ]
  },
  {
   "cell_type": "markdown",
   "metadata": {},
   "source": [
    "<font color=\"RED\" size=\"+1\">IMPORTANT: soumission de votre fichier final</font>\n",
    "\n",
    "**Nom à donner au fichier à poster** : *Nom1_Nom2.ipynb* \n",
    "- *Nom1* et *Nom2* : noms des membres du binôme\n",
    "- ne pas compresser ou faire une archive: il faut rendre le fichier ipython tel quel, éventuellement, si vous avez d'autres fichiers vous les rendez séparément.\n",
    "\n",
    "**Echancier pour la soumission de votre compte-rendu:**\n",
    "- le compte-rendu d'une séance doit être remis obligatoirement <font color=\"RED\">avant le début de la séance suivante</font>.\n",
    "\n",
    "**Le compte-rendu est soumis sur la page Moodle.**"
   ]
  },
  {
   "cell_type": "markdown",
   "metadata": {},
   "source": [
    "## Semaine 1: structures de données\n"
   ]
  },
  {
   "cell_type": "markdown",
   "metadata": {},
   "source": [
    "## Présentation ##\n",
    "\n",
    "### Objectifs de ce TME 1\n",
    "\n",
    "Le travail à réaliser est le suivant :\n",
    "- apprendre à utiliser jupyter notebook (cf doc: <https://docs.jupyter.org/en/latest/>).\n",
    "- se documenter sur les structures de données qui seront utilisées pour programmer tout au long du semestre: numpy et pandas.\n",
    "- implémenter des premières fonctions qui seront utiles ce semestre."
   ]
  },
  {
   "cell_type": "markdown",
   "metadata": {},
   "source": [
    "## Apprendre à utiliser jupyter notebook\n",
    "\n",
    "Ce document est dynamique: il est composé de \"boîtes\" qui peuvent être \"compilées\" par la commande \"Run Cells\" du menu \"Cell\" (ou bien en cliquant sur l'icône >| ou par la combinaison des touches [SHIFT][ENTREE]).\n",
    "\n",
    "Il y a **2 types principaux** de boîtes :\n",
    "- les boîtes \"Markdown\": tout ce qui est tapé dans ces boîtes est du texte qui sera rendu \"joliment\" après avoir été compilé. On peut y écrire des commandes en Latex pour définir des équations, et il reconnaît certaines balises HTML. En cliquant 2 fois dans une boîte Markdown compilée, on a accès à son contenu et on peut alors le modifier.\n",
    "- les boîtes \"Code\": dans ces boîtes, on écrit du code Python. La compilation de la boîte produit l'exécution de ce code Python et produit une boîte \"Out\" dans laquelle le résultat de la dernière commande est affiché. On peut y écrire tout code Python valide. Ce type de boîtes se reconnaît par \"In [n]\" inscrit à côté de leur coin haut gauche (\"n\" est un entier).\n",
    "\n",
    "Le type d'une boîte peut être modifié à l'aide du menu en haut de la page (juste au dessus du texte).\n",
    "\n",
    "L'icône \"+\" permet de créer une nouvelle boîte juste en dessous de la boîte active.\n",
    "\n",
    "L'icône avec les ciseaux permet d'effacer la boîte active (attention ! c'est **irréversible !**).\n",
    "\n",
    "Pour en savoir plus :\n",
    "- http://ipython.org/\n",
    "\n",
    "Vous pouvez aussi vous référer à la documentation Python:\n",
    "- https://www.python.org/\n",
    "\n",
    "\n",
    "Dans ce qui suit, les boîtes Markdown commençant par <font color=\"RED\" size=\"+1\">**[Q]**</font> posent des questions auxquelles il faut répondre dans la boîte qui suit directement (éventuellement, en créant des nouvelles boîtes de type \"Code\" ou \"Markdown\", à votre convenance).\n",
    "Certaines des boîtes \"Code\" à remplir sont suivies d'une sortie \"Out[.]:\" qui montre un exemple de résultat attendu. \n",
    "\n",
    "N'hésitez pas à créer de nouvelles boîtes \"Code\" ou \"Markdown\" dans ce document si vous en avez besoin (cela est même conseillé !).\n"
   ]
  },
  {
   "cell_type": "code",
   "execution_count": 1,
   "metadata": {},
   "outputs": [
    {
     "name": "stdout",
     "output_type": "stream",
     "text": [
      "Un essai quelconque :\n"
     ]
    },
    {
     "data": {
      "text/plain": [
       "5"
      ]
     },
     "execution_count": 1,
     "metadata": {},
     "output_type": "execute_result"
    }
   ],
   "source": [
    "# exemple de boîte de code :\n",
    "#    --> sélectionner cette boîte (en cliquant à l'intérieur)\n",
    "#    --> effectuer \"Run Cells\" du Menu \"Cell\" (ou bien cliquer sur l'icône >|)\n",
    "# \n",
    "\n",
    "print(\"Un essai quelconque :\")\n",
    "2+3\n"
   ]
  },
  {
   "cell_type": "code",
   "execution_count": 2,
   "metadata": {},
   "outputs": [
    {
     "name": "stdout",
     "output_type": "stream",
     "text": [
      "Version Python:  3.9.6 (default, Sep 19 2022, 08:35:27) \n",
      "[GCC 10.2.1 20210110]\n"
     ]
    }
   ],
   "source": [
    "import sys\n",
    "print(\"Version Python: \", sys.version)\n",
    "# Attention : la sortie dépend de votre ordinateur...\n"
   ]
  },
  {
   "cell_type": "markdown",
   "metadata": {},
   "source": [
    "<font color=\"RED\" size=\"+1\">**[Q]**</font> Dans la boîte \"Code\" suivante, donner les instructions Python pour effectuer le calcul : \n",
    "$$-\\frac{1}{3}\\log_2(\\frac{1}{3})-\\frac{2}{3}\\log_2(\\frac{2}{3})$$\n",
    "\n",
    "Dont la valeur à trouver est :\n",
    "    0.9182958340544896"
   ]
  },
  {
   "cell_type": "code",
   "execution_count": 3,
   "metadata": {},
   "outputs": [
    {
     "data": {
      "text/plain": [
       "0.9182958340544898"
      ]
     },
     "execution_count": 3,
     "metadata": {},
     "output_type": "execute_result"
    }
   ],
   "source": [
    "import math\n",
    "-math.log(1/3)/(3*math.log(2))-2*math.log(2/3)/(3*math.log(2))"
   ]
  },
  {
   "cell_type": "markdown",
   "metadata": {},
   "source": [
    "<div class=\"alert alert-block alert-danger\">\n",
    "<font style=\"BACKGROUND-COLOR: lightgray\" color='red'> Important</font> :\n",
    "en lisant le texte d'un fichier jupyter sur votre ordinateur, pensez bien à exécuter les boîtes \"Code\" dans l'ordre de leur apparition. Toute la page se comporte comme une session Python unique et il pour exécuter certaines boîtes il est nécessaire que les précédentes aient été exécutées au préalable.\n",
    "    \n",
    "De même, vous pouvez réinitialiser complètement la session en cliquant sur Noyau et redémarrer.\n",
    "</div>"
   ]
  },
  {
   "cell_type": "markdown",
   "metadata": {},
   "source": [
    "<font color=\"RED\" size=\"+1\">**[Q]**</font> Dans la boîte \"Code\" suivante, écrire la fonction <tt>calcul</tt> qui, étant donné un réel $x$ de [0,1] rend la valeur du calcul $$-x\\log_2(x)-(1-x)\\log_2(1-x)$$ si $x\\not= 0$ et $x \\not= 1$ ou la valeur $0.0$ sinon."
   ]
  },
  {
   "cell_type": "code",
   "execution_count": 4,
   "metadata": {},
   "outputs": [],
   "source": [
    "def calcul(x:float):\n",
    "    if x in [0,1]:\n",
    "        return 0.0\n",
    "    return -x*math.log(x)/math.log(2)-(1-x)*math.log(1-x)/math.log(2)"
   ]
  },
  {
   "cell_type": "code",
   "execution_count": 5,
   "metadata": {},
   "outputs": [
    {
     "data": {
      "text/plain": [
       "0.0"
      ]
     },
     "execution_count": 5,
     "metadata": {},
     "output_type": "execute_result"
    }
   ],
   "source": [
    "calcul(0)"
   ]
  },
  {
   "cell_type": "code",
   "execution_count": 6,
   "metadata": {},
   "outputs": [
    {
     "data": {
      "text/plain": [
       "0.9182958340544896"
      ]
     },
     "execution_count": 6,
     "metadata": {},
     "output_type": "execute_result"
    }
   ],
   "source": [
    "calcul(1/3)"
   ]
  },
  {
   "cell_type": "code",
   "execution_count": 7,
   "metadata": {},
   "outputs": [
    {
     "data": {
      "text/plain": [
       "1.0"
      ]
     },
     "execution_count": 7,
     "metadata": {},
     "output_type": "execute_result"
    }
   ],
   "source": [
    "calcul(0.5)"
   ]
  },
  {
   "cell_type": "markdown",
   "metadata": {},
   "source": [
    "## Documentation\n",
    "\n",
    "\n",
    "Dans un premier temps, et c'est un des objectifs de cette séance, vous devez prendre en main les libraries **numpy**, **pandas** et **matplotlib**:\n",
    "\n",
    "- Numpy = <http://scipy.github.io/old-wiki/pages/Tentative_NumPy_Tutorial>\n",
    "  ou bien <https://realpython.com/numpy-tutorial/>\n",
    "- Pandas = http://pandas.pydata.org/pandas-docs/stable/10min.html\n",
    "- Matplotlib = https://matplotlib.org/stable/index.html\n",
    "\n",
    "Lisez ces pages et pratiquez ces tutoriaux afin de bien vous familiariser avec ces outils."
   ]
  },
  {
   "cell_type": "markdown",
   "metadata": {},
   "source": [
    "<font color=\"RED\" size=\"+1\">**[Q]**</font> Donner dans la boîte suivante les grandes caractéristiques de chacunes de ces 3 librairies: A quoi servent-elles ? Que permettent-elles de représenter ? Quelle est leur utilité et leurs spécificités ? etc. etc.\n",
    "\n",
    "Donner des exemples de leurs utilisations spécifiques."
   ]
  },
  {
   "cell_type": "markdown",
   "metadata": {},
   "source": [
    "JiAO GEI NI LE"
   ]
  },
  {
   "cell_type": "markdown",
   "metadata": {},
   "source": [
    "<div class=\"alert alert-block alert-info\">\n",
    "    Pour utiliser les 3 librairies précédentes, vous devrez d'abord les importer dans Jupyter par les commandes données dans la boite suivante.\n",
    "\n",
    "Si une librairie n'est pas installée, une erreur peut se produire lors de son import. Il est alors nécessaire de l'installer. Par exemple, pour la librairie pandas sur les machines de la PPTI:\n",
    "- dans un terminal, exécuter la commande:\n",
    "    \n",
    "        pip install --user -U --proxy http://proxy:3128 pandas\n",
    "\n",
    "(le proxy n'est nécessaire que pour les salles machines, vous n'avez pas à l'utiliser sur vos machines personnelles).\n",
    "- une fois la librairie installée, il est nécessaire de relancer le noyau Python de Jupyter:\n",
    "    dans le menu de Jupyter tout en haut de la page, choisir \"<tt>Kernel -> restart</tt>\"\n",
    "</div>\n"
   ]
  },
  {
   "cell_type": "code",
   "execution_count": 8,
   "metadata": {},
   "outputs": [],
   "source": [
    "import numpy as np\n",
    "import pandas as pd\n",
    "from datetime import datetime as dt\n",
    "import matplotlib.pyplot as plt\n",
    "%matplotlib inline  "
   ]
  },
  {
   "cell_type": "markdown",
   "metadata": {},
   "source": [
    "## Programmation et expérimentation ##\n",
    "\n",
    "Le jeu de données (ou *dataset*) qui sera utilisé dans cette séance pour valider vos fonctions correspond à des données concernant des prix dans différents états d'Amérique du Nord. \n",
    "\n",
    "\n",
    "La référence de ce dataset est disponible ici : <https://github.com/amitkaps/weed/blob/master/1-Acquire.ipynb>\n",
    "\n",
    "Ces données sont aussi fournies dans le fichier <tt>data-01.zip</tt> à télécharger sur le site Moodle.\n",
    "\n",
    "Elles se composent de trois fichiers:\n",
    "* <tt>\"data-01/Weed_Price.csv\"</tt>: prix par date et par état (pour trois qualités différentes)\n",
    "* <tt>\"data-01/Demographics_State.csv\"</tt>: informations démographiques sur chaque état\n",
    "* <tt>\"data-01/Population_State.csv\"</tt>: population de chaque état\n",
    "\n",
    "La première étape est de télécharger ces fichiers dans des dataframes pandas.\n",
    "\n",
    "Comme ce sont des fichiers <a href=\"https://fr.wikipedia.org/wiki/Comma-separated_values\"><tt>CSV</tt></a>, on utilise la librairie Pandas qui contient une fonction de lecture de ce type de fichiers."
   ]
  },
  {
   "cell_type": "code",
   "execution_count": 9,
   "metadata": {},
   "outputs": [],
   "source": [
    "# Chargement des fichiers de données :\n",
    "\n",
    "prices_pd = pd.read_csv(\"data-01/Weed_Price.csv\", parse_dates=[-1])\n",
    "demography_pd = pd.read_csv(\"data-01/Demographics_State.csv\")\n",
    "population_pd = pd.read_csv(\"data-01/Population_State.csv\")"
   ]
  },
  {
   "cell_type": "markdown",
   "metadata": {},
   "source": [
    "<font color=\"RED\" size=\"+1\">**[Q]**</font> **Des dataframes**\n",
    "Commencer par regarder la documentation de la fonction <tt>read_csv</tt> de la librairie Pandas. Que rend cette fonction (quel est le type de ce qui est rendu) ?"
   ]
  },
  {
   "cell_type": "markdown",
   "metadata": {},
   "source": [
    "Dataframe (pandas.core.frame.DataFrame)"
   ]
  },
  {
   "cell_type": "markdown",
   "metadata": {},
   "source": [
    "<font color=\"RED\" size=\"+1\">**[Q]**</font> **Des dataframes**\n",
    "\n",
    "Les dataframes Pandas permettent de stocker ensemble des données dont les valeurs peuvent être différentes. Cela peut s'apparenter à une feuille Excel (ou Libreoffice) : chaque ligne correspond à une même donnée (un \"exemple\") et contient dans chaque colonne des valeurs qui peuvent être de différents types.\n",
    "\n",
    "Examiner le type des trois variables qui viennent d'être définies. Pour cela, utiliser la fonction <tt>type</tt> de Python: par exemple <tt>type(prices_pd)</tt>."
   ]
  },
  {
   "cell_type": "code",
   "execution_count": 11,
   "metadata": {},
   "outputs": [
    {
     "name": "stdout",
     "output_type": "stream",
     "text": [
      "<class 'pandas.core.frame.DataFrame'>\n"
     ]
    }
   ],
   "source": [
    "# type de prices_pd:\n",
    "print(type(prices_pd))\n"
   ]
  },
  {
   "cell_type": "code",
   "execution_count": 12,
   "metadata": {},
   "outputs": [
    {
     "name": "stdout",
     "output_type": "stream",
     "text": [
      "<class 'pandas.core.frame.DataFrame'>\n"
     ]
    }
   ],
   "source": [
    "# type de demography_pd\n",
    "print(type(demography_pd))\n"
   ]
  },
  {
   "cell_type": "code",
   "execution_count": 13,
   "metadata": {},
   "outputs": [
    {
     "name": "stdout",
     "output_type": "stream",
     "text": [
      "<class 'pandas.core.frame.DataFrame'>\n"
     ]
    }
   ],
   "source": [
    "# type de population_pd\n",
    "print(type(population_pd))\n"
   ]
  },
  {
   "cell_type": "markdown",
   "metadata": {},
   "source": [
    "**Important**: chaque fois que vous utilisez une commande, regardez le type du résultat obtenu (liste, DataFrame, Series, array,...) cela vous permettra de savoir ce que vous pouvez appliquer sur ce résultat."
   ]
  },
  {
   "cell_type": "markdown",
   "metadata": {},
   "source": [
    "<font color=\"RED\" size=\"+1\">**[Q]**</font> **En savoir plus sur les données...**\n",
    "\n",
    "* Commencer par se familiariser avec les données en les visualisant et en affichant des exemples de lignes ou de colonnes que ces DataFrames contiennent. Pour cela, manipuler les fonctions des librairies que vous venez de découvrir (par exemple, <tt>head()</tt>, <tt>tail()</tt>, ...)."
   ]
  },
  {
   "cell_type": "code",
   "execution_count": 16,
   "metadata": {},
   "outputs": [
    {
     "data": {
      "text/html": [
       "<div>\n",
       "<style scoped>\n",
       "    .dataframe tbody tr th:only-of-type {\n",
       "        vertical-align: middle;\n",
       "    }\n",
       "\n",
       "    .dataframe tbody tr th {\n",
       "        vertical-align: top;\n",
       "    }\n",
       "\n",
       "    .dataframe thead th {\n",
       "        text-align: right;\n",
       "    }\n",
       "</style>\n",
       "<table border=\"1\" class=\"dataframe\">\n",
       "  <thead>\n",
       "    <tr style=\"text-align: right;\">\n",
       "      <th></th>\n",
       "      <th>State</th>\n",
       "      <th>HighQ</th>\n",
       "      <th>HighQN</th>\n",
       "      <th>MedQ</th>\n",
       "      <th>MedQN</th>\n",
       "      <th>LowQ</th>\n",
       "      <th>LowQN</th>\n",
       "      <th>date</th>\n",
       "    </tr>\n",
       "  </thead>\n",
       "  <tbody>\n",
       "    <tr>\n",
       "      <th>0</th>\n",
       "      <td>Alabama</td>\n",
       "      <td>339.06</td>\n",
       "      <td>1042</td>\n",
       "      <td>198.64</td>\n",
       "      <td>933</td>\n",
       "      <td>149.49</td>\n",
       "      <td>123</td>\n",
       "      <td>2014-01-01</td>\n",
       "    </tr>\n",
       "    <tr>\n",
       "      <th>1</th>\n",
       "      <td>Alaska</td>\n",
       "      <td>288.75</td>\n",
       "      <td>252</td>\n",
       "      <td>260.60</td>\n",
       "      <td>297</td>\n",
       "      <td>388.58</td>\n",
       "      <td>26</td>\n",
       "      <td>2014-01-01</td>\n",
       "    </tr>\n",
       "    <tr>\n",
       "      <th>2</th>\n",
       "      <td>Arizona</td>\n",
       "      <td>303.31</td>\n",
       "      <td>1941</td>\n",
       "      <td>209.35</td>\n",
       "      <td>1625</td>\n",
       "      <td>189.45</td>\n",
       "      <td>222</td>\n",
       "      <td>2014-01-01</td>\n",
       "    </tr>\n",
       "    <tr>\n",
       "      <th>3</th>\n",
       "      <td>Arkansas</td>\n",
       "      <td>361.85</td>\n",
       "      <td>576</td>\n",
       "      <td>185.62</td>\n",
       "      <td>544</td>\n",
       "      <td>125.87</td>\n",
       "      <td>112</td>\n",
       "      <td>2014-01-01</td>\n",
       "    </tr>\n",
       "    <tr>\n",
       "      <th>4</th>\n",
       "      <td>California</td>\n",
       "      <td>248.78</td>\n",
       "      <td>12096</td>\n",
       "      <td>193.56</td>\n",
       "      <td>12812</td>\n",
       "      <td>192.92</td>\n",
       "      <td>778</td>\n",
       "      <td>2014-01-01</td>\n",
       "    </tr>\n",
       "    <tr>\n",
       "      <th>5</th>\n",
       "      <td>Colorado</td>\n",
       "      <td>236.31</td>\n",
       "      <td>2161</td>\n",
       "      <td>195.29</td>\n",
       "      <td>1728</td>\n",
       "      <td>213.50</td>\n",
       "      <td>128</td>\n",
       "      <td>2014-01-01</td>\n",
       "    </tr>\n",
       "    <tr>\n",
       "      <th>6</th>\n",
       "      <td>Connecticut</td>\n",
       "      <td>347.90</td>\n",
       "      <td>1294</td>\n",
       "      <td>273.97</td>\n",
       "      <td>1316</td>\n",
       "      <td>257.36</td>\n",
       "      <td>91</td>\n",
       "      <td>2014-01-01</td>\n",
       "    </tr>\n",
       "    <tr>\n",
       "      <th>7</th>\n",
       "      <td>Delaware</td>\n",
       "      <td>373.18</td>\n",
       "      <td>347</td>\n",
       "      <td>226.25</td>\n",
       "      <td>273</td>\n",
       "      <td>199.88</td>\n",
       "      <td>34</td>\n",
       "      <td>2014-01-01</td>\n",
       "    </tr>\n",
       "    <tr>\n",
       "      <th>8</th>\n",
       "      <td>District of Columbia</td>\n",
       "      <td>352.26</td>\n",
       "      <td>433</td>\n",
       "      <td>295.67</td>\n",
       "      <td>349</td>\n",
       "      <td>213.72</td>\n",
       "      <td>39</td>\n",
       "      <td>2014-01-01</td>\n",
       "    </tr>\n",
       "    <tr>\n",
       "      <th>9</th>\n",
       "      <td>Florida</td>\n",
       "      <td>306.43</td>\n",
       "      <td>6506</td>\n",
       "      <td>220.03</td>\n",
       "      <td>5237</td>\n",
       "      <td>158.26</td>\n",
       "      <td>514</td>\n",
       "      <td>2014-01-01</td>\n",
       "    </tr>\n",
       "    <tr>\n",
       "      <th>10</th>\n",
       "      <td>Georgia</td>\n",
       "      <td>332.21</td>\n",
       "      <td>3099</td>\n",
       "      <td>213.52</td>\n",
       "      <td>2269</td>\n",
       "      <td>153.45</td>\n",
       "      <td>229</td>\n",
       "      <td>2014-01-01</td>\n",
       "    </tr>\n",
       "    <tr>\n",
       "      <th>11</th>\n",
       "      <td>Hawaii</td>\n",
       "      <td>310.96</td>\n",
       "      <td>328</td>\n",
       "      <td>270.38</td>\n",
       "      <td>350</td>\n",
       "      <td>160.46</td>\n",
       "      <td>25</td>\n",
       "      <td>2014-01-01</td>\n",
       "    </tr>\n",
       "    <tr>\n",
       "      <th>12</th>\n",
       "      <td>Idaho</td>\n",
       "      <td>276.05</td>\n",
       "      <td>315</td>\n",
       "      <td>254.96</td>\n",
       "      <td>445</td>\n",
       "      <td>132.61</td>\n",
       "      <td>20</td>\n",
       "      <td>2014-01-01</td>\n",
       "    </tr>\n",
       "    <tr>\n",
       "      <th>13</th>\n",
       "      <td>Illinois</td>\n",
       "      <td>359.74</td>\n",
       "      <td>4008</td>\n",
       "      <td>287.23</td>\n",
       "      <td>3644</td>\n",
       "      <td>181.25</td>\n",
       "      <td>329</td>\n",
       "      <td>2014-01-01</td>\n",
       "    </tr>\n",
       "    <tr>\n",
       "      <th>14</th>\n",
       "      <td>Indiana</td>\n",
       "      <td>336.80</td>\n",
       "      <td>1665</td>\n",
       "      <td>206.24</td>\n",
       "      <td>1446</td>\n",
       "      <td>154.05</td>\n",
       "      <td>248</td>\n",
       "      <td>2014-01-01</td>\n",
       "    </tr>\n",
       "  </tbody>\n",
       "</table>\n",
       "</div>"
      ],
      "text/plain": [
       "                   State   HighQ  HighQN    MedQ  MedQN    LowQ  LowQN  \\\n",
       "0                Alabama  339.06    1042  198.64    933  149.49    123   \n",
       "1                 Alaska  288.75     252  260.60    297  388.58     26   \n",
       "2                Arizona  303.31    1941  209.35   1625  189.45    222   \n",
       "3               Arkansas  361.85     576  185.62    544  125.87    112   \n",
       "4             California  248.78   12096  193.56  12812  192.92    778   \n",
       "5               Colorado  236.31    2161  195.29   1728  213.50    128   \n",
       "6            Connecticut  347.90    1294  273.97   1316  257.36     91   \n",
       "7               Delaware  373.18     347  226.25    273  199.88     34   \n",
       "8   District of Columbia  352.26     433  295.67    349  213.72     39   \n",
       "9                Florida  306.43    6506  220.03   5237  158.26    514   \n",
       "10               Georgia  332.21    3099  213.52   2269  153.45    229   \n",
       "11                Hawaii  310.96     328  270.38    350  160.46     25   \n",
       "12                 Idaho  276.05     315  254.96    445  132.61     20   \n",
       "13              Illinois  359.74    4008  287.23   3644  181.25    329   \n",
       "14               Indiana  336.80    1665  206.24   1446  154.05    248   \n",
       "\n",
       "         date  \n",
       "0  2014-01-01  \n",
       "1  2014-01-01  \n",
       "2  2014-01-01  \n",
       "3  2014-01-01  \n",
       "4  2014-01-01  \n",
       "5  2014-01-01  \n",
       "6  2014-01-01  \n",
       "7  2014-01-01  \n",
       "8  2014-01-01  \n",
       "9  2014-01-01  \n",
       "10 2014-01-01  \n",
       "11 2014-01-01  \n",
       "12 2014-01-01  \n",
       "13 2014-01-01  \n",
       "14 2014-01-01  "
      ]
     },
     "execution_count": 16,
     "metadata": {},
     "output_type": "execute_result"
    }
   ],
   "source": [
    "# 15 premières lignes de prices_pd\n",
    "prices_pd.head(15)\n"
   ]
  },
  {
   "cell_type": "code",
   "execution_count": 17,
   "metadata": {},
   "outputs": [
    {
     "data": {
      "text/html": [
       "<div>\n",
       "<style scoped>\n",
       "    .dataframe tbody tr th:only-of-type {\n",
       "        vertical-align: middle;\n",
       "    }\n",
       "\n",
       "    .dataframe tbody tr th {\n",
       "        vertical-align: top;\n",
       "    }\n",
       "\n",
       "    .dataframe thead th {\n",
       "        text-align: right;\n",
       "    }\n",
       "</style>\n",
       "<table border=\"1\" class=\"dataframe\">\n",
       "  <thead>\n",
       "    <tr style=\"text-align: right;\">\n",
       "      <th></th>\n",
       "      <th>State</th>\n",
       "      <th>HighQ</th>\n",
       "      <th>HighQN</th>\n",
       "      <th>MedQ</th>\n",
       "      <th>MedQN</th>\n",
       "      <th>LowQ</th>\n",
       "      <th>LowQN</th>\n",
       "      <th>date</th>\n",
       "    </tr>\n",
       "  </thead>\n",
       "  <tbody>\n",
       "    <tr>\n",
       "      <th>22892</th>\n",
       "      <td>Utah</td>\n",
       "      <td>290.42</td>\n",
       "      <td>959</td>\n",
       "      <td>238.08</td>\n",
       "      <td>1055</td>\n",
       "      <td>NaN</td>\n",
       "      <td>62</td>\n",
       "      <td>2014-12-31</td>\n",
       "    </tr>\n",
       "    <tr>\n",
       "      <th>22893</th>\n",
       "      <td>Vermont</td>\n",
       "      <td>371.23</td>\n",
       "      <td>357</td>\n",
       "      <td>308.86</td>\n",
       "      <td>367</td>\n",
       "      <td>NaN</td>\n",
       "      <td>32</td>\n",
       "      <td>2014-12-31</td>\n",
       "    </tr>\n",
       "    <tr>\n",
       "      <th>22894</th>\n",
       "      <td>Virginia</td>\n",
       "      <td>364.98</td>\n",
       "      <td>3513</td>\n",
       "      <td>293.12</td>\n",
       "      <td>3079</td>\n",
       "      <td>NaN</td>\n",
       "      <td>284</td>\n",
       "      <td>2014-12-31</td>\n",
       "    </tr>\n",
       "    <tr>\n",
       "      <th>22895</th>\n",
       "      <td>Washington</td>\n",
       "      <td>233.05</td>\n",
       "      <td>3337</td>\n",
       "      <td>189.92</td>\n",
       "      <td>3562</td>\n",
       "      <td>NaN</td>\n",
       "      <td>160</td>\n",
       "      <td>2014-12-31</td>\n",
       "    </tr>\n",
       "    <tr>\n",
       "      <th>22896</th>\n",
       "      <td>West Virginia</td>\n",
       "      <td>359.35</td>\n",
       "      <td>551</td>\n",
       "      <td>224.03</td>\n",
       "      <td>545</td>\n",
       "      <td>NaN</td>\n",
       "      <td>60</td>\n",
       "      <td>2014-12-31</td>\n",
       "    </tr>\n",
       "    <tr>\n",
       "      <th>22897</th>\n",
       "      <td>Wisconsin</td>\n",
       "      <td>350.52</td>\n",
       "      <td>2244</td>\n",
       "      <td>272.71</td>\n",
       "      <td>2221</td>\n",
       "      <td>NaN</td>\n",
       "      <td>167</td>\n",
       "      <td>2014-12-31</td>\n",
       "    </tr>\n",
       "    <tr>\n",
       "      <th>22898</th>\n",
       "      <td>Wyoming</td>\n",
       "      <td>322.27</td>\n",
       "      <td>131</td>\n",
       "      <td>351.86</td>\n",
       "      <td>197</td>\n",
       "      <td>NaN</td>\n",
       "      <td>12</td>\n",
       "      <td>2014-12-31</td>\n",
       "    </tr>\n",
       "  </tbody>\n",
       "</table>\n",
       "</div>"
      ],
      "text/plain": [
       "               State   HighQ  HighQN    MedQ  MedQN  LowQ  LowQN       date\n",
       "22892           Utah  290.42     959  238.08   1055   NaN     62 2014-12-31\n",
       "22893        Vermont  371.23     357  308.86    367   NaN     32 2014-12-31\n",
       "22894       Virginia  364.98    3513  293.12   3079   NaN    284 2014-12-31\n",
       "22895     Washington  233.05    3337  189.92   3562   NaN    160 2014-12-31\n",
       "22896  West Virginia  359.35     551  224.03    545   NaN     60 2014-12-31\n",
       "22897      Wisconsin  350.52    2244  272.71   2221   NaN    167 2014-12-31\n",
       "22898        Wyoming  322.27     131  351.86    197   NaN     12 2014-12-31"
      ]
     },
     "execution_count": 17,
     "metadata": {},
     "output_type": "execute_result"
    }
   ],
   "source": [
    "# 7 dernières lignes de prices_pd\n",
    "prices_pd.tail(7)\n"
   ]
  },
  {
   "cell_type": "markdown",
   "metadata": {},
   "source": [
    "<font color=\"RED\" size=\"+1\">**[Q]**</font> **Sélection de lignes et colonnes..**\n",
    "\n",
    "En utilisant les mécanismes de sélection qu'offrent les dataframes (slicing,...), donner les commandes permettant d'obtenir:\n",
    "1) seulement les lignes qui concernent l'état \"Hawaii\".\n",
    "\n",
    "2) seulement les valeurs des colonnes \"date\", \"HighQ\", et \"MedQ\", dans cet ordre, qui concernent les lignes de l'état \"Hawaii\".\n"
   ]
  },
  {
   "cell_type": "code",
   "execution_count": 19,
   "metadata": {},
   "outputs": [
    {
     "data": {
      "text/html": [
       "<div>\n",
       "<style scoped>\n",
       "    .dataframe tbody tr th:only-of-type {\n",
       "        vertical-align: middle;\n",
       "    }\n",
       "\n",
       "    .dataframe tbody tr th {\n",
       "        vertical-align: top;\n",
       "    }\n",
       "\n",
       "    .dataframe thead th {\n",
       "        text-align: right;\n",
       "    }\n",
       "</style>\n",
       "<table border=\"1\" class=\"dataframe\">\n",
       "  <thead>\n",
       "    <tr style=\"text-align: right;\">\n",
       "      <th></th>\n",
       "      <th>State</th>\n",
       "      <th>HighQ</th>\n",
       "      <th>HighQN</th>\n",
       "      <th>MedQ</th>\n",
       "      <th>MedQN</th>\n",
       "      <th>LowQ</th>\n",
       "      <th>LowQN</th>\n",
       "      <th>date</th>\n",
       "    </tr>\n",
       "  </thead>\n",
       "  <tbody>\n",
       "    <tr>\n",
       "      <th>11</th>\n",
       "      <td>Hawaii</td>\n",
       "      <td>310.96</td>\n",
       "      <td>328</td>\n",
       "      <td>270.38</td>\n",
       "      <td>350</td>\n",
       "      <td>160.46</td>\n",
       "      <td>25</td>\n",
       "      <td>2014-01-01</td>\n",
       "    </tr>\n",
       "    <tr>\n",
       "      <th>62</th>\n",
       "      <td>Hawaii</td>\n",
       "      <td>307.64</td>\n",
       "      <td>452</td>\n",
       "      <td>263.45</td>\n",
       "      <td>522</td>\n",
       "      <td>NaN</td>\n",
       "      <td>30</td>\n",
       "      <td>2015-01-01</td>\n",
       "    </tr>\n",
       "    <tr>\n",
       "      <th>113</th>\n",
       "      <td>Hawaii</td>\n",
       "      <td>307.76</td>\n",
       "      <td>338</td>\n",
       "      <td>272.99</td>\n",
       "      <td>370</td>\n",
       "      <td>162.11</td>\n",
       "      <td>26</td>\n",
       "      <td>2014-02-01</td>\n",
       "    </tr>\n",
       "    <tr>\n",
       "      <th>164</th>\n",
       "      <td>Hawaii</td>\n",
       "      <td>306.34</td>\n",
       "      <td>464</td>\n",
       "      <td>261.94</td>\n",
       "      <td>542</td>\n",
       "      <td>NaN</td>\n",
       "      <td>30</td>\n",
       "      <td>2015-02-01</td>\n",
       "    </tr>\n",
       "    <tr>\n",
       "      <th>215</th>\n",
       "      <td>Hawaii</td>\n",
       "      <td>307.96</td>\n",
       "      <td>353</td>\n",
       "      <td>274.35</td>\n",
       "      <td>382</td>\n",
       "      <td>167.62</td>\n",
       "      <td>27</td>\n",
       "      <td>2014-03-01</td>\n",
       "    </tr>\n",
       "    <tr>\n",
       "      <th>...</th>\n",
       "      <td>...</td>\n",
       "      <td>...</td>\n",
       "      <td>...</td>\n",
       "      <td>...</td>\n",
       "      <td>...</td>\n",
       "      <td>...</td>\n",
       "      <td>...</td>\n",
       "      <td>...</td>\n",
       "    </tr>\n",
       "    <tr>\n",
       "      <th>22655</th>\n",
       "      <td>Hawaii</td>\n",
       "      <td>309.64</td>\n",
       "      <td>408</td>\n",
       "      <td>265.58</td>\n",
       "      <td>455</td>\n",
       "      <td>174.23</td>\n",
       "      <td>29</td>\n",
       "      <td>2014-07-31</td>\n",
       "    </tr>\n",
       "    <tr>\n",
       "      <th>22706</th>\n",
       "      <td>Hawaii</td>\n",
       "      <td>310.00</td>\n",
       "      <td>417</td>\n",
       "      <td>267.17</td>\n",
       "      <td>467</td>\n",
       "      <td>NaN</td>\n",
       "      <td>29</td>\n",
       "      <td>2014-08-31</td>\n",
       "    </tr>\n",
       "    <tr>\n",
       "      <th>22757</th>\n",
       "      <td>Hawaii</td>\n",
       "      <td>310.97</td>\n",
       "      <td>426</td>\n",
       "      <td>267.10</td>\n",
       "      <td>482</td>\n",
       "      <td>NaN</td>\n",
       "      <td>29</td>\n",
       "      <td>2014-10-31</td>\n",
       "    </tr>\n",
       "    <tr>\n",
       "      <th>22808</th>\n",
       "      <td>Hawaii</td>\n",
       "      <td>310.96</td>\n",
       "      <td>328</td>\n",
       "      <td>270.38</td>\n",
       "      <td>350</td>\n",
       "      <td>160.46</td>\n",
       "      <td>25</td>\n",
       "      <td>2013-12-31</td>\n",
       "    </tr>\n",
       "    <tr>\n",
       "      <th>22859</th>\n",
       "      <td>Hawaii</td>\n",
       "      <td>307.64</td>\n",
       "      <td>452</td>\n",
       "      <td>263.45</td>\n",
       "      <td>522</td>\n",
       "      <td>NaN</td>\n",
       "      <td>30</td>\n",
       "      <td>2014-12-31</td>\n",
       "    </tr>\n",
       "  </tbody>\n",
       "</table>\n",
       "<p>449 rows × 8 columns</p>\n",
       "</div>"
      ],
      "text/plain": [
       "        State   HighQ  HighQN    MedQ  MedQN    LowQ  LowQN       date\n",
       "11     Hawaii  310.96     328  270.38    350  160.46     25 2014-01-01\n",
       "62     Hawaii  307.64     452  263.45    522     NaN     30 2015-01-01\n",
       "113    Hawaii  307.76     338  272.99    370  162.11     26 2014-02-01\n",
       "164    Hawaii  306.34     464  261.94    542     NaN     30 2015-02-01\n",
       "215    Hawaii  307.96     353  274.35    382  167.62     27 2014-03-01\n",
       "...       ...     ...     ...     ...    ...     ...    ...        ...\n",
       "22655  Hawaii  309.64     408  265.58    455  174.23     29 2014-07-31\n",
       "22706  Hawaii  310.00     417  267.17    467     NaN     29 2014-08-31\n",
       "22757  Hawaii  310.97     426  267.10    482     NaN     29 2014-10-31\n",
       "22808  Hawaii  310.96     328  270.38    350  160.46     25 2013-12-31\n",
       "22859  Hawaii  307.64     452  263.45    522     NaN     30 2014-12-31\n",
       "\n",
       "[449 rows x 8 columns]"
      ]
     },
     "execution_count": 19,
     "metadata": {},
     "output_type": "execute_result"
    }
   ],
   "source": [
    "# Les lignes concernant l'état \"Hawaii\"\n",
    "\n",
    "prices_pd[prices_pd[\"State\"]==\"Hawaii\"]"
   ]
  },
  {
   "cell_type": "code",
   "execution_count": 24,
   "metadata": {},
   "outputs": [
    {
     "data": {
      "text/html": [
       "<div>\n",
       "<style scoped>\n",
       "    .dataframe tbody tr th:only-of-type {\n",
       "        vertical-align: middle;\n",
       "    }\n",
       "\n",
       "    .dataframe tbody tr th {\n",
       "        vertical-align: top;\n",
       "    }\n",
       "\n",
       "    .dataframe thead th {\n",
       "        text-align: right;\n",
       "    }\n",
       "</style>\n",
       "<table border=\"1\" class=\"dataframe\">\n",
       "  <thead>\n",
       "    <tr style=\"text-align: right;\">\n",
       "      <th></th>\n",
       "      <th>date</th>\n",
       "      <th>HighQ</th>\n",
       "      <th>MedQ</th>\n",
       "    </tr>\n",
       "  </thead>\n",
       "  <tbody>\n",
       "    <tr>\n",
       "      <th>11</th>\n",
       "      <td>2014-01-01</td>\n",
       "      <td>310.96</td>\n",
       "      <td>270.38</td>\n",
       "    </tr>\n",
       "    <tr>\n",
       "      <th>62</th>\n",
       "      <td>2015-01-01</td>\n",
       "      <td>307.64</td>\n",
       "      <td>263.45</td>\n",
       "    </tr>\n",
       "    <tr>\n",
       "      <th>113</th>\n",
       "      <td>2014-02-01</td>\n",
       "      <td>307.76</td>\n",
       "      <td>272.99</td>\n",
       "    </tr>\n",
       "    <tr>\n",
       "      <th>164</th>\n",
       "      <td>2015-02-01</td>\n",
       "      <td>306.34</td>\n",
       "      <td>261.94</td>\n",
       "    </tr>\n",
       "    <tr>\n",
       "      <th>215</th>\n",
       "      <td>2014-03-01</td>\n",
       "      <td>307.96</td>\n",
       "      <td>274.35</td>\n",
       "    </tr>\n",
       "    <tr>\n",
       "      <th>...</th>\n",
       "      <td>...</td>\n",
       "      <td>...</td>\n",
       "      <td>...</td>\n",
       "    </tr>\n",
       "    <tr>\n",
       "      <th>22655</th>\n",
       "      <td>2014-07-31</td>\n",
       "      <td>309.64</td>\n",
       "      <td>265.58</td>\n",
       "    </tr>\n",
       "    <tr>\n",
       "      <th>22706</th>\n",
       "      <td>2014-08-31</td>\n",
       "      <td>310.00</td>\n",
       "      <td>267.17</td>\n",
       "    </tr>\n",
       "    <tr>\n",
       "      <th>22757</th>\n",
       "      <td>2014-10-31</td>\n",
       "      <td>310.97</td>\n",
       "      <td>267.10</td>\n",
       "    </tr>\n",
       "    <tr>\n",
       "      <th>22808</th>\n",
       "      <td>2013-12-31</td>\n",
       "      <td>310.96</td>\n",
       "      <td>270.38</td>\n",
       "    </tr>\n",
       "    <tr>\n",
       "      <th>22859</th>\n",
       "      <td>2014-12-31</td>\n",
       "      <td>307.64</td>\n",
       "      <td>263.45</td>\n",
       "    </tr>\n",
       "  </tbody>\n",
       "</table>\n",
       "<p>449 rows × 3 columns</p>\n",
       "</div>"
      ],
      "text/plain": [
       "            date   HighQ    MedQ\n",
       "11    2014-01-01  310.96  270.38\n",
       "62    2015-01-01  307.64  263.45\n",
       "113   2014-02-01  307.76  272.99\n",
       "164   2015-02-01  306.34  261.94\n",
       "215   2014-03-01  307.96  274.35\n",
       "...          ...     ...     ...\n",
       "22655 2014-07-31  309.64  265.58\n",
       "22706 2014-08-31  310.00  267.17\n",
       "22757 2014-10-31  310.97  267.10\n",
       "22808 2013-12-31  310.96  270.38\n",
       "22859 2014-12-31  307.64  263.45\n",
       "\n",
       "[449 rows x 3 columns]"
      ]
     },
     "execution_count": 24,
     "metadata": {},
     "output_type": "execute_result"
    }
   ],
   "source": [
    "# Les valeurs de la colonne \"HighQ\" ne concernant que les lignes de l'état \"Hawaii\" \n",
    "prices_pd[prices_pd[\"State\"]==\"Hawaii\"][[\"date\",\"HighQ\",\"MedQ\"]]\n"
   ]
  },
  {
   "cell_type": "markdown",
   "metadata": {},
   "source": [
    "Les types des données peuvent être récupérés à travers la méthode <tt>dtypes</tt>:"
   ]
  },
  {
   "cell_type": "code",
   "execution_count": 25,
   "metadata": {},
   "outputs": [
    {
     "data": {
      "text/plain": [
       "State             object\n",
       "HighQ            float64\n",
       "HighQN             int64\n",
       "MedQ             float64\n",
       "MedQN              int64\n",
       "LowQ             float64\n",
       "LowQN              int64\n",
       "date      datetime64[ns]\n",
       "dtype: object"
      ]
     },
     "execution_count": 25,
     "metadata": {},
     "output_type": "execute_result"
    }
   ],
   "source": [
    "prices_pd.dtypes"
   ]
  },
  {
   "cell_type": "markdown",
   "metadata": {},
   "source": [
    "Il y a beaucoup de fonction s à découvrir pour obtenir des informations utiles sur les DataFrames. Par exemple, la liste des états peut être obtenue ainsi:\n"
   ]
  },
  {
   "cell_type": "code",
   "execution_count": 26,
   "metadata": {},
   "outputs": [],
   "source": [
    "les_etats = np.unique(prices_pd[\"State\"].values)"
   ]
  },
  {
   "cell_type": "code",
   "execution_count": 27,
   "metadata": {},
   "outputs": [
    {
     "name": "stdout",
     "output_type": "stream",
     "text": [
      "['Alabama' 'Alaska' 'Arizona' 'Arkansas' 'California' 'Colorado'\n",
      " 'Connecticut' 'Delaware' 'District of Columbia' 'Florida' 'Georgia'\n",
      " 'Hawaii' 'Idaho' 'Illinois' 'Indiana' 'Iowa' 'Kansas' 'Kentucky'\n",
      " 'Louisiana' 'Maine' 'Maryland' 'Massachusetts' 'Michigan' 'Minnesota'\n",
      " 'Mississippi' 'Missouri' 'Montana' 'Nebraska' 'Nevada' 'New Hampshire'\n",
      " 'New Jersey' 'New Mexico' 'New York' 'North Carolina' 'North Dakota'\n",
      " 'Ohio' 'Oklahoma' 'Oregon' 'Pennsylvania' 'Rhode Island' 'South Carolina'\n",
      " 'South Dakota' 'Tennessee' 'Texas' 'Utah' 'Vermont' 'Virginia'\n",
      " 'Washington' 'West Virginia' 'Wisconsin' 'Wyoming']\n"
     ]
    }
   ],
   "source": [
    "# Afficher la liste des états :\n",
    "print(les_etats)\n"
   ]
  },
  {
   "cell_type": "markdown",
   "metadata": {},
   "source": [
    "Comparer le nombre de valeurs de :\n",
    "\n",
    "        prices_pd[\"MedQ\"].values\n",
    "\n",
    "et de \n",
    "\n",
    "        np.unique(prices_pd[\"MedQ\"].values\n",
    "\n",
    "Expliquer ce qui se passe.        "
   ]
  },
  {
   "cell_type": "code",
   "execution_count": 33,
   "metadata": {},
   "outputs": [
    {
     "name": "stdout",
     "output_type": "stream",
     "text": [
      "False\n"
     ]
    }
   ],
   "source": [
    "# Tester l'égalité :\n",
    "\n",
    "print(prices_pd[\"MedQ\"].values.size==np.unique(prices_pd[\"MedQ\"].values).size)"
   ]
  },
  {
   "cell_type": "markdown",
   "metadata": {},
   "source": [
    "unique hanshu hui shanchu chongfu xiang"
   ]
  },
  {
   "cell_type": "markdown",
   "metadata": {},
   "source": [
    "## Implémentation de mesures classiques ##\n"
   ]
  },
  {
   "cell_type": "markdown",
   "metadata": {},
   "source": [
    "Nous allons maintenant écrire les fonctions permettant de calculer des mesures ''basiques'' sur des données unidimensionnelles. Pour cela, nous allons travailler avec la structure <tt>array</tt> de numpy. Pour convertir une colonne de DataFrame en '<tt>array</tt>, voici commment faire:"
   ]
  },
  {
   "cell_type": "markdown",
   "metadata": {},
   "source": [
    "### Moyenne"
   ]
  },
  {
   "cell_type": "markdown",
   "metadata": {},
   "source": [
    "<font color=\"RED\" size=\"+1\">**[Q]**</font> **La moyenne**\n",
    "\n",
    "\n",
    "Ecrire la fonction moyenne(valeurs) qui calcule la moyenne des éléments d'un tableau (en utilisant la boucle ''for'', sans utiliser les fonctions déjà implémentées dans numpy)"
   ]
  },
  {
   "cell_type": "code",
   "execution_count": 36,
   "metadata": {},
   "outputs": [],
   "source": [
    "def moyenne(valeurs):\n",
    "    if len(valeurs)==0:\n",
    "        return 0\n",
    "    i=0\n",
    "    for line in valeurs:\n",
    "        i+=line\n",
    "    return i/len(valeurs)"
   ]
  },
  {
   "cell_type": "code",
   "execution_count": 37,
   "metadata": {},
   "outputs": [
    {
     "data": {
      "text/plain": [
       "0        198.64\n",
       "1        260.60\n",
       "2        209.35\n",
       "3        185.62\n",
       "4        193.56\n",
       "          ...  \n",
       "22894    293.12\n",
       "22895    189.92\n",
       "22896    224.03\n",
       "22897    272.71\n",
       "22898    351.86\n",
       "Name: MedQ, Length: 22899, dtype: float64"
      ]
     },
     "execution_count": 37,
     "metadata": {},
     "output_type": "execute_result"
    }
   ],
   "source": [
    "prices_pd[\"MedQ\"]"
   ]
  },
  {
   "cell_type": "markdown",
   "metadata": {},
   "source": [
    "Tester la fonction moyenne et comparer vos résultats avec l'implémentation de base de python donnée ci-dessous:"
   ]
  },
  {
   "cell_type": "code",
   "execution_count": 38,
   "metadata": {},
   "outputs": [
    {
     "name": "stdout",
     "output_type": "stream",
     "text": [
      "La moyenne (MedQ) est avec ma fonction : 247.618306 dollars\n",
      "La moyenne (MedQ) est avec mean        : 247.618306 dollars\n"
     ]
    }
   ],
   "source": [
    "print(\"La moyenne (MedQ) est avec ma fonction : %f dollars\" % moyenne(prices_pd[\"MedQ\"]))\n",
    "print(\"La moyenne (MedQ) est avec mean        : %f dollars\" % prices_pd[\"MedQ\"].mean())"
   ]
  },
  {
   "cell_type": "markdown",
   "metadata": {},
   "source": [
    "<font color=\"RED\" size=\"+1\">**[Q]**</font> **Moyennes sur les qualités**\n",
    "\n",
    "Calculer:\n",
    "* La moyenne des prix pour les qualités medium et high\n",
    "* La moyenne des prix pour les qualités medium et high dans l'état de ''New York''\n",
    "\n",
    "Les calculs seront fait d'une part à l'aide de votre fonction, et d'autre part à l'aide des fonctions de python. "
   ]
  },
  {
   "cell_type": "code",
   "execution_count": 41,
   "metadata": {},
   "outputs": [
    {
     "name": "stdout",
     "output_type": "stream",
     "text": [
      "247.61830603956537\n",
      "329.75985414210226\n",
      "265.37694877505584\n",
      "346.91276169265035\n"
     ]
    }
   ],
   "source": [
    "print(moyenne(prices_pd[\"MedQ\"]))\n",
    "print(moyenne(prices_pd[\"HighQ\"]))\n",
    "print(moyenne(prices_pd[prices_pd[\"State\"]==\"New York\"][\"MedQ\"]))\n",
    "print(moyenne(prices_pd[prices_pd[\"State\"]==\"New York\"][\"HighQ\"]))"
   ]
  },
  {
   "cell_type": "markdown",
   "metadata": {},
   "source": [
    "<font color=\"RED\" size=\"+1\">**[Q]**</font> **Moyenne sur les états**\n",
    "\n",
    "Calculez la moyenne des prix qualités medium et high dans tous les états -- la liste des états est obtenues ainsi states=np.unique(prices_pd[\"State\"].values)\n",
    "\n",
    "Pour cela, vous pouvez (devez) le faire de deux manières:\n",
    "* Faire une boucle sur chacun des états\n",
    "* Utiliser la fonction groupby comme expliqué ici : http://pandas.pydata.org/pandas-docs/stable/groupby.html\n",
    " et ici : https://www.kaggle.com/crawford/python-groupby-tutorial\n"
   ]
  },
  {
   "cell_type": "code",
   "execution_count": 60,
   "metadata": {},
   "outputs": [
    {
     "name": "stdout",
     "output_type": "stream",
     "text": [
      "Alabama : 204.60616926503337\n",
      "Alaska : 262.0463919821821\n",
      "Arizona : 209.3653452115812\n",
      "Arkansas : 190.4146547884188\n",
      "California : 191.26890868596863\n",
      "Colorado : 196.5325167037864\n",
      "Connecticut : 271.323897550111\n",
      "Delaware : 231.23031180400875\n",
      "District of Columbia : 288.2513140311806\n",
      "Florida : 217.88256124721573\n",
      "Georgia : 215.94363028953245\n",
      "Hawaii : 268.73815144766115\n",
      "Idaho : 249.82242761692677\n",
      "Illinois : 284.18008908685954\n",
      "Indiana : 211.9895100222718\n",
      "Iowa : 289.9455233853002\n",
      "Kansas : 261.24307349665946\n",
      "Kentucky : 179.93376391982198\n",
      "Louisiana : 243.11788418708247\n",
      "Maine : 248.43817371937624\n",
      "Maryland : 254.14044543429824\n",
      "Massachusetts : 290.1978841870826\n",
      "Michigan : 273.3523385300668\n",
      "Minnesota : 275.85006681514506\n",
      "Mississippi : 148.23160356347432\n",
      "Missouri : 244.81220489977727\n",
      "Montana : 248.39855233853018\n",
      "Nebraska : 248.16064587973275\n",
      "Nevada : 226.21741648106928\n",
      "New Hampshire : 290.10775055679323\n",
      "New Jersey : 288.72701559020027\n",
      "New Mexico : 209.24224944320733\n",
      "New York : 265.37694877505584\n",
      "North Carolina : 245.69922048997807\n",
      "North Dakota : 349.0666815144772\n",
      "Ohio : 216.95316258351872\n",
      "Oklahoma : 233.82200445434296\n",
      "Oregon : 183.88986636971052\n",
      "Pennsylvania : 267.8913363028955\n",
      "Rhode Island : 258.1722939866367\n",
      "South Carolina : 203.33977728285097\n",
      "South Dakota : 351.9448106904231\n",
      "Tennessee : 225.80886414253902\n",
      "Texas : 233.53683741648115\n",
      "Utah : 237.37189309576863\n",
      "Vermont : 315.5475501113591\n",
      "Virginia : 290.4080846325166\n",
      "Washington : 189.92498886414256\n",
      "West Virginia : 215.88380846325174\n",
      "Wisconsin : 271.6481737193764\n",
      "Wyoming : 358.53483296213864\n",
      "                           HighQ\n",
      "State                           \n",
      "Alabama               339.561849\n",
      "Alaska                291.482004\n",
      "Arizona               300.667483\n",
      "Arkansas              348.056147\n",
      "California            245.376125\n",
      "Colorado              238.918708\n",
      "Connecticut           341.694076\n",
      "Delaware              366.781849\n",
      "District of Columbia  348.177416\n",
      "Florida               302.570312\n",
      "Georgia               326.659644\n",
      "Hawaii                309.918931\n",
      "Idaho                 275.639376\n",
      "Illinois              355.463341\n",
      "Indiana               333.191114\n",
      "Iowa                  367.095791\n",
      "Kansas                350.819198\n",
      "Kentucky              338.855167\n",
      "Louisiana             366.832539\n",
      "Maine                 315.390089\n",
      "Maryland              370.985167\n",
      "Massachusetts         349.011648\n",
      "Michigan              292.090512\n",
      "Minnesota             358.243274\n",
      "Mississippi           337.559287\n",
      "Missouri              359.276637\n",
      "Montana               267.831737\n",
      "Nebraska              341.559354\n",
      "Nevada                267.820111\n",
      "New Hampshire         359.476036\n",
      "New Jersey            349.321693\n",
      "New Mexico            289.562539\n",
      "New York              346.912762\n",
      "North Carolina        349.475033\n",
      "North Dakota          398.668753\n",
      "Ohio                  334.554655\n",
      "Oklahoma              361.573140\n",
      "Oregon                208.496236\n",
      "Pennsylvania          366.125679\n",
      "Rhode Island          323.838352\n",
      "South Carolina        341.692918\n",
      "South Dakota          375.818486\n",
      "Tennessee             352.753007\n",
      "Texas                 337.105212\n",
      "Utah                  289.596058\n",
      "Vermont               374.250445\n",
      "Virginia              368.146993\n",
      "Washington            233.387817\n",
      "West Virginia         357.394566\n",
      "Wisconsin             353.052517\n",
      "Wyoming               339.020780\n"
     ]
    }
   ],
   "source": [
    "for s in np.unique(prices_pd[\"State\"].values):\n",
    "    l=prices_pd[prices_pd[\"State\"]==s][\"MedQ\"].values\n",
    "    print(s+\" : \"+str(moyenne(l)))\n",
    "    \n",
    "print(prices_pd.groupby(\"State\")[[\"HighQ\"]].sum()/prices_pd.groupby(\"State\")[[\"HighQ\"]].count())\n"
   ]
  },
  {
   "cell_type": "markdown",
   "metadata": {},
   "source": [
    "<font color=\"RED\" size=\"+1\">**[Q]**</font> **D'autres moyennes**\n",
    "\n",
    "Calculer la moyenne (avec les deux fonctions) sur le prix de la basse qualité. Que constatez vous ? Expliquez..."
   ]
  },
  {
   "cell_type": "code",
   "execution_count": 61,
   "metadata": {},
   "outputs": [
    {
     "name": "stdout",
     "output_type": "stream",
     "text": [
      "Alabama : nan\n",
      "Alaska : nan\n",
      "Arizona : nan\n",
      "Arkansas : nan\n",
      "California : nan\n",
      "Colorado : nan\n",
      "Connecticut : nan\n",
      "Delaware : nan\n",
      "District of Columbia : nan\n",
      "Florida : nan\n",
      "Georgia : nan\n",
      "Hawaii : nan\n",
      "Idaho : nan\n",
      "Illinois : nan\n",
      "Indiana : nan\n",
      "Iowa : nan\n",
      "Kansas : nan\n",
      "Kentucky : nan\n",
      "Louisiana : nan\n",
      "Maine : nan\n",
      "Maryland : nan\n",
      "Massachusetts : nan\n",
      "Michigan : nan\n",
      "Minnesota : nan\n",
      "Mississippi : nan\n",
      "Missouri : nan\n",
      "Montana : nan\n",
      "Nebraska : nan\n",
      "Nevada : nan\n",
      "New Hampshire : nan\n",
      "New Jersey : nan\n",
      "New Mexico : nan\n",
      "New York : nan\n",
      "North Carolina : nan\n",
      "North Dakota : nan\n",
      "Ohio : nan\n",
      "Oklahoma : nan\n",
      "Oregon : nan\n",
      "Pennsylvania : nan\n",
      "Rhode Island : nan\n",
      "South Carolina : nan\n",
      "South Dakota : nan\n",
      "Tennessee : nan\n",
      "Texas : nan\n",
      "Utah : nan\n",
      "Vermont : nan\n",
      "Virginia : nan\n",
      "Washington : nan\n",
      "West Virginia : nan\n",
      "Wisconsin : nan\n",
      "Wyoming : nan\n",
      "                            LowQ\n",
      "State                           \n",
      "Alabama               146.832603\n",
      "Alaska                387.232727\n",
      "Arizona               190.826860\n",
      "Arkansas              127.345455\n",
      "California            190.795992\n",
      "Colorado              226.790620\n",
      "Connecticut           253.024876\n",
      "Delaware              205.045992\n",
      "District of Columbia  210.563554\n",
      "Florida               153.205372\n",
      "Georgia               150.264091\n",
      "Hawaii                167.093843\n",
      "Idaho                 139.962851\n",
      "Illinois              186.545165\n",
      "Indiana               158.931653\n",
      "Iowa                  248.595537\n",
      "Kansas                120.199256\n",
      "Kentucky              124.156860\n",
      "Louisiana             146.776983\n",
      "Maine                 244.951653\n",
      "Maryland              190.185083\n",
      "Massachusetts         220.070000\n",
      "Michigan              252.644917\n",
      "Minnesota             182.683306\n",
      "Mississippi           142.751942\n",
      "Missouri              147.508595\n",
      "Montana               659.851074\n",
      "Nebraska              137.895909\n",
      "Nevada                241.792934\n",
      "New Hampshire         639.807810\n",
      "New Jersey            228.611777\n",
      "New Mexico             80.890950\n",
      "New York              201.340000\n",
      "North Carolina        150.810620\n",
      "North Dakota          333.968223\n",
      "Ohio                  165.169628\n",
      "Oklahoma              119.893926\n",
      "Oregon                170.173388\n",
      "Pennsylvania          193.229752\n",
      "Rhode Island          203.000661\n",
      "South Carolina        184.467603\n",
      "South Dakota          124.318017\n",
      "Tennessee             190.121570\n",
      "Texas                 143.362893\n",
      "Utah                  193.844298\n",
      "Vermont               189.600744\n",
      "Virginia              224.239008\n",
      "Washington            143.183388\n",
      "West Virginia         155.715165\n",
      "Wisconsin             239.565083\n",
      "Wyoming               161.300000\n"
     ]
    }
   ],
   "source": [
    "for s in np.unique(prices_pd[\"State\"].values):\n",
    "    l=prices_pd[prices_pd[\"State\"]==s][\"LowQ\"].values\n",
    "    print(s+\" : \"+str(moyenne(l)))\n",
    "    \n",
    "print(prices_pd.groupby(\"State\")[[\"LowQ\"]].sum()/prices_pd.groupby(\"State\")[[\"LowQ\"]].count())"
   ]
  },
  {
   "cell_type": "markdown",
   "metadata": {},
   "source": [
    "<font color=\"RED\" size=\"+1\">**[Q]**</font> **Modification de données**\n",
    "\n",
    "Remplacez le <tt>NAN</tt> de la colonne <tt>LowQ</tt> à l'aide de la fonction décrite ici: http://pandas.pydata.org/pandas-docs/version/0.17.1/generated/pandas.DataFrame.fillna.html. \n",
    "\n",
    "Nous souhaitons plus particulièrement utiliser la méthode <tt>fill</tt> après avoir trié par état et par date grâce à l'utilisation de la fonction <tt>sort</tt> : \n",
    "\n",
    "            prices_sorted = prices_pd.sort_values(by=['State', 'date'], inplace=False)\n",
    "\n",
    "Expliquer le résultat de cette commande.\n",
    "Que se passerait-il si on utilisait <tt>inplace=True</tt> ?"
   ]
  },
  {
   "cell_type": "code",
   "execution_count": 76,
   "metadata": {},
   "outputs": [
    {
     "data": {
      "text/html": [
       "<div>\n",
       "<style scoped>\n",
       "    .dataframe tbody tr th:only-of-type {\n",
       "        vertical-align: middle;\n",
       "    }\n",
       "\n",
       "    .dataframe tbody tr th {\n",
       "        vertical-align: top;\n",
       "    }\n",
       "\n",
       "    .dataframe thead th {\n",
       "        text-align: right;\n",
       "    }\n",
       "</style>\n",
       "<table border=\"1\" class=\"dataframe\">\n",
       "  <thead>\n",
       "    <tr style=\"text-align: right;\">\n",
       "      <th></th>\n",
       "      <th>State</th>\n",
       "      <th>HighQ</th>\n",
       "      <th>HighQN</th>\n",
       "      <th>MedQ</th>\n",
       "      <th>MedQN</th>\n",
       "      <th>LowQ</th>\n",
       "      <th>LowQN</th>\n",
       "      <th>date</th>\n",
       "    </tr>\n",
       "  </thead>\n",
       "  <tbody>\n",
       "    <tr>\n",
       "      <th>20094</th>\n",
       "      <td>Alabama</td>\n",
       "      <td>339.65</td>\n",
       "      <td>1033</td>\n",
       "      <td>198.04</td>\n",
       "      <td>926</td>\n",
       "      <td>147.15</td>\n",
       "      <td>122</td>\n",
       "      <td>2013-12-27</td>\n",
       "    </tr>\n",
       "    <tr>\n",
       "      <th>20859</th>\n",
       "      <td>Alabama</td>\n",
       "      <td>339.65</td>\n",
       "      <td>1033</td>\n",
       "      <td>198.04</td>\n",
       "      <td>926</td>\n",
       "      <td>147.15</td>\n",
       "      <td>122</td>\n",
       "      <td>2013-12-28</td>\n",
       "    </tr>\n",
       "    <tr>\n",
       "      <th>21573</th>\n",
       "      <td>Alabama</td>\n",
       "      <td>339.75</td>\n",
       "      <td>1036</td>\n",
       "      <td>198.26</td>\n",
       "      <td>929</td>\n",
       "      <td>149.49</td>\n",
       "      <td>123</td>\n",
       "      <td>2013-12-29</td>\n",
       "    </tr>\n",
       "    <tr>\n",
       "      <th>22287</th>\n",
       "      <td>Alabama</td>\n",
       "      <td>339.75</td>\n",
       "      <td>1036</td>\n",
       "      <td>198.81</td>\n",
       "      <td>930</td>\n",
       "      <td>149.49</td>\n",
       "      <td>123</td>\n",
       "      <td>2013-12-30</td>\n",
       "    </tr>\n",
       "    <tr>\n",
       "      <th>22797</th>\n",
       "      <td>Alabama</td>\n",
       "      <td>339.42</td>\n",
       "      <td>1040</td>\n",
       "      <td>198.68</td>\n",
       "      <td>932</td>\n",
       "      <td>149.49</td>\n",
       "      <td>123</td>\n",
       "      <td>2013-12-31</td>\n",
       "    </tr>\n",
       "    <tr>\n",
       "      <th>...</th>\n",
       "      <td>...</td>\n",
       "      <td>...</td>\n",
       "      <td>...</td>\n",
       "      <td>...</td>\n",
       "      <td>...</td>\n",
       "      <td>...</td>\n",
       "      <td>...</td>\n",
       "      <td>...</td>\n",
       "    </tr>\n",
       "    <tr>\n",
       "      <th>4997</th>\n",
       "      <td>Wyoming</td>\n",
       "      <td>313.72</td>\n",
       "      <td>148</td>\n",
       "      <td>317.38</td>\n",
       "      <td>226</td>\n",
       "      <td>161.30</td>\n",
       "      <td>13</td>\n",
       "      <td>2015-06-07</td>\n",
       "    </tr>\n",
       "    <tr>\n",
       "      <th>5762</th>\n",
       "      <td>Wyoming</td>\n",
       "      <td>313.72</td>\n",
       "      <td>148</td>\n",
       "      <td>317.38</td>\n",
       "      <td>226</td>\n",
       "      <td>161.30</td>\n",
       "      <td>13</td>\n",
       "      <td>2015-06-08</td>\n",
       "    </tr>\n",
       "    <tr>\n",
       "      <th>6527</th>\n",
       "      <td>Wyoming</td>\n",
       "      <td>313.72</td>\n",
       "      <td>148</td>\n",
       "      <td>317.38</td>\n",
       "      <td>226</td>\n",
       "      <td>161.30</td>\n",
       "      <td>13</td>\n",
       "      <td>2015-06-09</td>\n",
       "    </tr>\n",
       "    <tr>\n",
       "      <th>7343</th>\n",
       "      <td>Wyoming</td>\n",
       "      <td>313.72</td>\n",
       "      <td>148</td>\n",
       "      <td>317.38</td>\n",
       "      <td>226</td>\n",
       "      <td>161.30</td>\n",
       "      <td>13</td>\n",
       "      <td>2015-06-10</td>\n",
       "    </tr>\n",
       "    <tr>\n",
       "      <th>8159</th>\n",
       "      <td>Wyoming</td>\n",
       "      <td>313.72</td>\n",
       "      <td>148</td>\n",
       "      <td>317.38</td>\n",
       "      <td>226</td>\n",
       "      <td>161.30</td>\n",
       "      <td>13</td>\n",
       "      <td>2015-06-11</td>\n",
       "    </tr>\n",
       "  </tbody>\n",
       "</table>\n",
       "<p>22899 rows × 8 columns</p>\n",
       "</div>"
      ],
      "text/plain": [
       "         State   HighQ  HighQN    MedQ  MedQN    LowQ  LowQN       date\n",
       "20094  Alabama  339.65    1033  198.04    926  147.15    122 2013-12-27\n",
       "20859  Alabama  339.65    1033  198.04    926  147.15    122 2013-12-28\n",
       "21573  Alabama  339.75    1036  198.26    929  149.49    123 2013-12-29\n",
       "22287  Alabama  339.75    1036  198.81    930  149.49    123 2013-12-30\n",
       "22797  Alabama  339.42    1040  198.68    932  149.49    123 2013-12-31\n",
       "...        ...     ...     ...     ...    ...     ...    ...        ...\n",
       "4997   Wyoming  313.72     148  317.38    226  161.30     13 2015-06-07\n",
       "5762   Wyoming  313.72     148  317.38    226  161.30     13 2015-06-08\n",
       "6527   Wyoming  313.72     148  317.38    226  161.30     13 2015-06-09\n",
       "7343   Wyoming  313.72     148  317.38    226  161.30     13 2015-06-10\n",
       "8159   Wyoming  313.72     148  317.38    226  161.30     13 2015-06-11\n",
       "\n",
       "[22899 rows x 8 columns]"
      ]
     },
     "execution_count": 76,
     "metadata": {},
     "output_type": "execute_result"
    }
   ],
   "source": [
    "prices_sorted = prices_pd.sort_values(by=['State', 'date'], inplace=False)\n",
    "prices_sorted=prices_sorted.fillna(method=\"ffill\",inplace=False)\n",
    "prices_sorted"
   ]
  },
  {
   "cell_type": "markdown",
   "metadata": {},
   "source": [
    "<font color=\"RED\" size=\"+1\">**[Q]**</font> **Changements des résultats**\n",
    "\n",
    "\n",
    "Recalculer la moyenne des prix pour la qualité <tt>Low</tt>. Qu'en est-il maintenant ? "
   ]
  },
  {
   "cell_type": "code",
   "execution_count": 77,
   "metadata": {},
   "outputs": [
    {
     "name": "stdout",
     "output_type": "stream",
     "text": [
      "Alabama : 145.97850779510173\n",
      "Alaska : 394.6539643652535\n",
      "Arizona : 188.5001336302889\n",
      "Arkansas : 126.77126948774998\n",
      "California : 189.78358574610345\n",
      "Colorado : 226.78111358574705\n",
      "Connecticut : 251.6257238307371\n",
      "Delaware : 204.96024498886467\n",
      "District of Columbia : 210.22536748329742\n",
      "Florida : 152.28545657015562\n",
      "Georgia : 148.03545657015587\n",
      "Hawaii : 170.38378619153744\n",
      "Idaho : 150.82788418708165\n",
      "Illinois : 189.70080178173686\n",
      "Indiana : 157.27581291759313\n",
      "Iowa : 248.9203118040103\n",
      "Kansas : 120.90496659242882\n",
      "Kentucky : 123.76643652561164\n",
      "Louisiana : 145.5336080178182\n",
      "Maine : 257.85957683741464\n",
      "Maryland : 188.72129175946466\n",
      "Massachusetts : 221.39314031180496\n",
      "Michigan : 257.8015144766155\n",
      "Minnesota : 183.26267260579166\n",
      "Mississippi : 143.48868596881871\n",
      "Missouri : 146.85919821826207\n",
      "Montana : 619.2020489977699\n",
      "Nebraska : 135.80935412026827\n",
      "Nevada : 238.33389755010936\n",
      "New Hampshire : 629.3343429844102\n",
      "New Jersey : 226.79452115812833\n",
      "New Mexico : 87.3402449888641\n",
      "New York : 204.57639198218294\n",
      "North Carolina : 151.09155902004363\n",
      "North Dakota : 335.1400445434291\n",
      "Ohio : 165.22973273942242\n",
      "Oklahoma : 121.14149220489908\n",
      "Oregon : 173.51425389754922\n",
      "Pennsylvania : 193.0592873051228\n",
      "Rhode Island : 204.9320489977737\n",
      "South Carolina : 184.85135857461168\n",
      "South Dakota : 124.14374164810751\n",
      "Tennessee : 187.53910913140328\n",
      "Texas : 143.6289532293997\n",
      "Utah : 200.07075723830866\n",
      "Vermont : 190.1351893095764\n",
      "Virginia : 224.29939866369585\n",
      "Washington : 140.11601336302851\n",
      "West Virginia : 150.9457906458807\n",
      "Wisconsin : 245.99864142539104\n",
      "Wyoming : 161.30000000000135\n",
      "                            LowQ\n",
      "State                           \n",
      "Alabama               145.978508\n",
      "Alaska                394.653964\n",
      "Arizona               188.500134\n",
      "Arkansas              126.771269\n",
      "California            189.783586\n",
      "Colorado              226.781114\n",
      "Connecticut           251.625724\n",
      "Delaware              204.960245\n",
      "District of Columbia  210.225367\n",
      "Florida               152.285457\n",
      "Georgia               148.035457\n",
      "Hawaii                170.383786\n",
      "Idaho                 150.827884\n",
      "Illinois              189.700802\n",
      "Indiana               157.275813\n",
      "Iowa                  248.920312\n",
      "Kansas                120.904967\n",
      "Kentucky              123.766437\n",
      "Louisiana             145.533608\n",
      "Maine                 257.859577\n",
      "Maryland              188.721292\n",
      "Massachusetts         221.393140\n",
      "Michigan              257.801514\n",
      "Minnesota             183.262673\n",
      "Mississippi           143.488686\n",
      "Missouri              146.859198\n",
      "Montana               619.202049\n",
      "Nebraska              135.809354\n",
      "Nevada                238.333898\n",
      "New Hampshire         629.334343\n",
      "New Jersey            226.794521\n",
      "New Mexico             87.340245\n",
      "New York              204.576392\n",
      "North Carolina        151.091559\n",
      "North Dakota          335.140045\n",
      "Ohio                  165.229733\n",
      "Oklahoma              121.141492\n",
      "Oregon                173.514254\n",
      "Pennsylvania          193.059287\n",
      "Rhode Island          204.932049\n",
      "South Carolina        184.851359\n",
      "South Dakota          124.143742\n",
      "Tennessee             187.539109\n",
      "Texas                 143.628953\n",
      "Utah                  200.070757\n",
      "Vermont               190.135189\n",
      "Virginia              224.299399\n",
      "Washington            140.116013\n",
      "West Virginia         150.945791\n",
      "Wisconsin             245.998641\n",
      "Wyoming               161.300000\n"
     ]
    }
   ],
   "source": [
    "for s in np.unique(prices_sorted[\"State\"].values):\n",
    "    l=prices_sorted[prices_sorted[\"State\"]==s][\"LowQ\"].values\n",
    "    print(s+\" : \"+str(moyenne(l)))\n",
    "    \n",
    "print(prices_sorted.groupby(\"State\")[[\"LowQ\"]].sum()/prices_sorted.groupby(\"State\")[[\"LowQ\"]].count())"
   ]
  },
  {
   "cell_type": "markdown",
   "metadata": {},
   "source": [
    "<font color=\"RED\" size=\"+1\">**[Q]**</font> **Tracé d'histogrammes**\n",
    "\n",
    "Donner les instructions Python pour tracer l'histogramme des moyennes des prix (<tt>LowQ</tt>) par état. \n",
    "\n",
    "Pour vous aider à construire un histogramme, vous pouvez étudier la page suivante:\n",
    "https://matplotlib.org/stable/api/_as_gen/matplotlib.pyplot.hist.html"
   ]
  },
  {
   "cell_type": "code",
   "execution_count": 78,
   "metadata": {
    "scrolled": true
   },
   "outputs": [
    {
     "data": {
      "text/plain": [
       "(array([1483., 6411., 3222.,  296.,  382.,   64.,    0.,   88.,  214.,\n",
       "         182.]),\n",
       " array([ 63.7  , 130.795, 197.89 , 264.985, 332.08 , 399.175, 466.27 ,\n",
       "        533.365, 600.46 , 667.555, 734.65 ]),\n",
       " <BarContainer object of 10 artists>)"
      ]
     },
     "execution_count": 78,
     "metadata": {},
     "output_type": "execute_result"
    },
    {
     "data": {
      "image/png": "[encoded data removed]",
      "text/plain": [
       "<Figure size 640x480 with 1 Axes>"
      ]
     },
     "metadata": {},
     "output_type": "display_data"
    }
   ],
   "source": [
    "# Par exemple, tracé de l'histograme des valeurs \"LowQ\" sur l'ensemble des données:\n",
    "plt.hist(prices_pd[\"LowQ\"])"
   ]
  },
  {
   "cell_type": "markdown",
   "metadata": {},
   "source": [
    "<font color=\"RED\" size=\"+1\">**[Q]**</font> **Estimation de densité**\n",
    "\n",
    "Nous allons maintenant nous intéresser au calcul du nombre d'états concernés par une fourchette de prix. Pour cela:\n",
    "* Calculer le tableau des prix moyens de la facon suivante\n",
    "    \n"
   ]
  },
  {
   "cell_type": "code",
   "execution_count": 81,
   "metadata": {},
   "outputs": [
    {
     "data": {
      "text/plain": [
       "array([146.83260331, 387.23272727, 190.8268595 , 127.34545455,\n",
       "       190.79599174, 226.79061983, 253.02487603, 205.04599174,\n",
       "       210.56355372, 153.2053719 , 150.26409091, 167.09384298,\n",
       "       139.96285124, 186.54516529, 158.93165289, 248.59553719,\n",
       "       120.1992562 , 124.1568595 , 146.77698347, 244.95165289,\n",
       "       190.18508264, 220.07      , 252.64491736, 182.68330579,\n",
       "       142.75194215, 147.50859504, 659.85107438, 137.89590909,\n",
       "       241.79293388, 639.80780992, 228.61177686,  80.89095041,\n",
       "       201.34      , 150.81061983, 333.96822314, 165.1696281 ,\n",
       "       119.89392562, 170.17338843, 193.22975207, 203.00066116,\n",
       "       184.46760331, 124.31801653, 190.12157025, 143.36289256,\n",
       "       193.84429752, 189.6007438 , 224.23900826, 143.18338843,\n",
       "       155.71516529, 239.56508264, 161.3       ])"
      ]
     },
     "execution_count": 81,
     "metadata": {},
     "output_type": "execute_result"
    }
   ],
   "source": [
    "prix_moyens=prices_pd[[\"State\",\"LowQ\"]].groupby([\"State\"]).mean()\n",
    "#print(prix_moyens)\n",
    "#print(\"===========\")\n",
    "prix_moyens=prix_moyens.values.ravel()\n",
    "\n",
    "prix_moyens"
   ]
  },
  {
   "cell_type": "code",
   "execution_count": 28,
   "metadata": {},
   "outputs": [
    {
     "data": {
      "text/plain": [
       "(array([ 7., 26., 14.,  0.,  1.,  1.,  0.,  0.,  0.,  2.]),\n",
       " array([ 80.89095041, 138.78696281, 196.68297521, 254.5789876 ,\n",
       "        312.475     , 370.3710124 , 428.26702479, 486.16303719,\n",
       "        544.05904959, 601.95506198, 659.85107438]),\n",
       " <BarContainer object of 10 artists>)"
      ]
     },
     "execution_count": 28,
     "metadata": {},
     "output_type": "execute_result"
    },
    {
     "data": {
      "image/png": "[encoded data removed]",
      "text/plain": [
       "<Figure size 432x288 with 1 Axes>"
      ]
     },
     "metadata": {
      "needs_background": "light"
     },
     "output_type": "display_data"
    }
   ],
   "source": [
    "# Histogramme:\n",
    "plt.hist(prix_moyens)"
   ]
  },
  {
   "cell_type": "markdown",
   "metadata": {},
   "source": [
    "<font color=\"RED\" size=\"+1\">**[Q]**</font> **Bornes de variations**\n",
    "\n",
    "* Calculer les valeurs min et max des prix moyens"
   ]
  },
  {
   "cell_type": "code",
   "execution_count": 85,
   "metadata": {},
   "outputs": [
    {
     "name": "stdout",
     "output_type": "stream",
     "text": [
      "80.89095041322314\n",
      "659.8510743801653\n"
     ]
    }
   ],
   "source": [
    "print(prix_moyens.min())\n",
    "print(prix_moyens.max())"
   ]
  },
  {
   "cell_type": "markdown",
   "metadata": {},
   "source": [
    "<font color=\"RED\" size=\"+1\">**[Q]**</font> **Calcul d'un effectif**\n",
    "\n",
    "Pour mieux contrôler le tracé de l'histogramme, il est préférable de donner la taille de l'intervalle de discrétisation à utiliser pour calculer les effectifs.\n",
    "\n",
    "En utilisant l'option bins de la fonction de matplotlib `hist`, tracer l'histogramme avec un intervalle de discrétisation de taille 20."
   ]
  },
  {
   "cell_type": "code",
   "execution_count": 86,
   "metadata": {},
   "outputs": [
    {
     "data": {
      "text/plain": [
       "(array([ 1.,  6., 15., 11.,  6.,  8.,  0.,  0.,  1.,  0.,  1.,  0.,  0.,\n",
       "         0.,  0.,  0.,  0.,  0.,  0.,  2.]),\n",
       " array([ 80.89095041, 109.83895661, 138.78696281, 167.73496901,\n",
       "        196.68297521, 225.6309814 , 254.5789876 , 283.5269938 ,\n",
       "        312.475     , 341.4230062 , 370.3710124 , 399.3190186 ,\n",
       "        428.26702479, 457.21503099, 486.16303719, 515.11104339,\n",
       "        544.05904959, 573.00705579, 601.95506198, 630.90306818,\n",
       "        659.85107438]),\n",
       " <BarContainer object of 20 artists>)"
      ]
     },
     "execution_count": 86,
     "metadata": {},
     "output_type": "execute_result"
    },
    {
     "data": {
      "image/png": "[encoded data removed]",
      "text/plain": [
       "<Figure size 640x480 with 1 Axes>"
      ]
     },
     "metadata": {},
     "output_type": "display_data"
    }
   ],
   "source": [
    "plt.hist(prix_moyens,20)"
   ]
  },
  {
   "cell_type": "markdown",
   "metadata": {},
   "source": [
    "<font color=\"RED\" size=\"+1\">**[Q]**</font> **Changement d'échelle**\n",
    "\n",
    "Même chose mais avec maintenant un intervalle de taille 40."
   ]
  },
  {
   "cell_type": "code",
   "execution_count": 87,
   "metadata": {},
   "outputs": [
    {
     "data": {
      "text/plain": [
       "(array([ 1.,  0.,  3.,  3., 10.,  5.,  1., 10.,  4.,  2.,  3.,  5.,  0.,\n",
       "         0.,  0.,  0.,  0.,  1.,  0.,  0.,  0.,  1.,  0.,  0.,  0.,  0.,\n",
       "         0.,  0.,  0.,  0.,  0.,  0.,  0.,  0.,  0.,  0.,  0.,  0.,  1.,\n",
       "         1.]),\n",
       " array([ 80.89095041,  95.36495351, 109.83895661, 124.31295971,\n",
       "        138.78696281, 153.26096591, 167.73496901, 182.20897211,\n",
       "        196.68297521, 211.15697831, 225.6309814 , 240.1049845 ,\n",
       "        254.5789876 , 269.0529907 , 283.5269938 , 298.0009969 ,\n",
       "        312.475     , 326.9490031 , 341.4230062 , 355.8970093 ,\n",
       "        370.3710124 , 384.8450155 , 399.3190186 , 413.79302169,\n",
       "        428.26702479, 442.74102789, 457.21503099, 471.68903409,\n",
       "        486.16303719, 500.63704029, 515.11104339, 529.58504649,\n",
       "        544.05904959, 558.53305269, 573.00705579, 587.48105888,\n",
       "        601.95506198, 616.42906508, 630.90306818, 645.37707128,\n",
       "        659.85107438]),\n",
       " <BarContainer object of 40 artists>)"
      ]
     },
     "execution_count": 87,
     "metadata": {},
     "output_type": "execute_result"
    },
    {
     "data": {
      "image/png": "[encoded data removed]",
      "text/plain": [
       "<Figure size 640x480 with 1 Axes>"
      ]
     },
     "metadata": {},
     "output_type": "display_data"
    }
   ],
   "source": [
    "plt.hist(prix_moyens,40)"
   ]
  },
  {
   "cell_type": "code",
   "execution_count": 29,
   "metadata": {},
   "outputs": [
    {
     "data": {
      "text/plain": [
       "(array([ 1.,  6., 15., 11.,  6.,  8.,  0.,  0.,  1.,  0.,  1.,  0.,  0.,\n",
       "         0.,  0.,  0.,  0.,  0.,  0.,  2.]),\n",
       " array([ 80.89095041, 109.83895661, 138.78696281, 167.73496901,\n",
       "        196.68297521, 225.6309814 , 254.5789876 , 283.5269938 ,\n",
       "        312.475     , 341.4230062 , 370.3710124 , 399.3190186 ,\n",
       "        428.26702479, 457.21503099, 486.16303719, 515.11104339,\n",
       "        544.05904959, 573.00705579, 601.95506198, 630.90306818,\n",
       "        659.85107438]),\n",
       " <BarContainer object of 20 artists>)"
      ]
     },
     "execution_count": 29,
     "metadata": {},
     "output_type": "execute_result"
    },
    {
     "data": {
      "image/png": "[encoded data removed]",
      "text/plain": [
       "<Figure size 432x288 with 1 Axes>"
      ]
     },
     "metadata": {
      "needs_background": "light"
     },
     "output_type": "display_data"
    }
   ],
   "source": []
  },
  {
   "cell_type": "markdown",
   "metadata": {},
   "source": [
    "### Variance\n",
    "\n",
    "<font color=\"RED\" size=\"+1\">**[Q]**</font> **Calcul de variances**\n",
    "\n",
    "On souhaite maintenant rajouter une colonne <tt>HighQ_var</tt> aux données originales contenant la variance des prix par état. Donner les intructions Python correspondantes.\n",
    "\n",
    "**ATTENTION**, cela suppose de traiter les états (State) les uns après les autres..."
   ]
  },
  {
   "cell_type": "code",
   "execution_count": 93,
   "metadata": {},
   "outputs": [
    {
     "name": "stdout",
     "output_type": "stream",
     "text": [
      "                           HighQ\n",
      "State                           \n",
      "Alabama                 2.370749\n",
      "Alaska                 31.137567\n",
      "Arizona                 4.063247\n",
      "Arkansas               47.141986\n",
      "California              2.982686\n",
      "Colorado                6.356718\n",
      "Connecticut            18.372574\n",
      "Delaware               24.827685\n",
      "District of Columbia    3.976920\n",
      "Florida                 5.258257\n",
      "Georgia                13.400555\n",
      "Hawaii                  9.469260\n",
      "Idaho                   0.840436\n",
      "Illinois                5.790658\n",
      "Indiana                 3.453509\n",
      "Iowa                    7.875726\n",
      "Kansas                  3.951313\n",
      "Kentucky                1.074988\n",
      "Louisiana              23.778186\n",
      "Maine                  22.066151\n",
      "Maryland               34.891397\n",
      "Massachusetts          12.740908\n",
      "Michigan               18.449891\n",
      "Minnesota              79.051308\n",
      "Mississippi             7.309370\n",
      "Missouri               54.772887\n",
      "Montana                10.967851\n",
      "Nebraska               30.419953\n",
      "Nevada                  1.848997\n",
      "New Hampshire          51.118775\n",
      "New Jersey             12.833771\n",
      "New Mexico              6.427070\n",
      "New York               12.245147\n",
      "North Carolina         16.311250\n",
      "North Dakota           55.694703\n",
      "Ohio                    2.698508\n",
      "Oklahoma               31.829491\n",
      "Oregon                  7.561688\n",
      "Pennsylvania           12.866467\n",
      "Rhode Island           44.814466\n",
      "South Carolina         14.913978\n",
      "South Dakota          138.362692\n",
      "Tennessee              14.840045\n",
      "Texas                  16.169573\n",
      "Utah                    4.275242\n",
      "Vermont                12.881744\n",
      "Virginia               11.862465\n",
      "Washington              1.347089\n",
      "West Virginia           8.248240\n",
      "Wisconsin              11.744638\n",
      "Wyoming               219.612495\n"
     ]
    }
   ],
   "source": [
    "print(prices_pd.groupby(\"State\").var(numeric_only=True)[[\"HighQ\"]])"
   ]
  },
  {
   "cell_type": "markdown",
   "metadata": {},
   "source": [
    "# Travail de synthèse : La Californie\n",
    "\n",
    "Pandas permet de faire la synthèse de données de la manière suivante (pour le DataFrame de nom <tt>df</tt>): \n",
    "    \n",
    "    df.describe()\n",
    "    \n",
    "\n",
    "<font color=\"RED\" size=\"+1\">**[Q]**</font> Vérifier que les valeurs trouvées sur l'état de la Californie correspondent aux valeurs trouvées grâce à vos différentes fonctions. \n",
    "\n",
    "Pour cela, donner dans ce qui suit le code qui utilise vos fonctions (moyennes, variance, et quartiles) ainsi que le résutlats de la fonction <tt>describe</tt>.\n"
   ]
  },
  {
   "cell_type": "code",
   "execution_count": 103,
   "metadata": {},
   "outputs": [
    {
     "name": "stdout",
     "output_type": "stream",
     "text": [
      "            HighQ        HighQN        MedQ         MedQN        LowQ  \\\n",
      "count  449.000000    449.000000  449.000000    449.000000  242.000000   \n",
      "mean   245.376125  14947.073497  191.268909  16769.821826  190.795992   \n",
      "std      1.727046   1656.133565    1.524028   2433.943191    1.586186   \n",
      "min    241.840000  12021.000000  187.850000  12724.000000  187.830000   \n",
      "25%    244.480000  13610.000000  190.260000  14826.000000  189.420000   \n",
      "50%    245.310000  15037.000000  191.570000  16793.000000  191.075000   \n",
      "75%    246.220000  16090.000000  192.550000  18435.000000  192.200000   \n",
      "max    248.820000  18492.000000  193.630000  22027.000000  193.880000   \n",
      "\n",
      "             LowQN  \n",
      "count   449.000000  \n",
      "mean    976.298441  \n",
      "std     120.246714  \n",
      "min     770.000000  \n",
      "25%     878.000000  \n",
      "50%     982.000000  \n",
      "75%    1060.000000  \n",
      "max    1232.000000  \n",
      "                           HighQ\n",
      "State                           \n",
      "Alabama                 2.370749\n",
      "Alaska                 31.137567\n",
      "Arizona                 4.063247\n",
      "Arkansas               47.141986\n",
      "California              2.982686\n",
      "Colorado                6.356718\n",
      "Connecticut            18.372574\n",
      "Delaware               24.827685\n",
      "District of Columbia    3.976920\n",
      "Florida                 5.258257\n",
      "Georgia                13.400555\n",
      "Hawaii                  9.469260\n",
      "Idaho                   0.840436\n",
      "Illinois                5.790658\n",
      "Indiana                 3.453509\n",
      "Iowa                    7.875726\n",
      "Kansas                  3.951313\n",
      "Kentucky                1.074988\n",
      "Louisiana              23.778186\n",
      "Maine                  22.066151\n",
      "Maryland               34.891397\n",
      "Massachusetts          12.740908\n",
      "Michigan               18.449891\n",
      "Minnesota              79.051308\n",
      "Mississippi             7.309370\n",
      "Missouri               54.772887\n",
      "Montana                10.967851\n",
      "Nebraska               30.419953\n",
      "Nevada                  1.848997\n",
      "New Hampshire          51.118775\n",
      "New Jersey             12.833771\n",
      "New Mexico              6.427070\n",
      "New York               12.245147\n",
      "North Carolina         16.311250\n",
      "North Dakota           55.694703\n",
      "Ohio                    2.698508\n",
      "Oklahoma               31.829491\n",
      "Oregon                  7.561688\n",
      "Pennsylvania           12.866467\n",
      "Rhode Island           44.814466\n",
      "South Carolina         14.913978\n",
      "South Dakota          138.362692\n",
      "Tennessee              14.840045\n",
      "Texas                  16.169573\n",
      "Utah                    4.275242\n",
      "Vermont                12.881744\n",
      "Virginia               11.862465\n",
      "Washington              1.347089\n",
      "West Virginia           8.248240\n",
      "Wisconsin              11.744638\n",
      "Wyoming               219.612495\n"
     ]
    }
   ],
   "source": [
    "print(prices_pd[prices_pd[\"State\"]==\"California\"].describe())\n",
    "varM=prices_pd.groupby(\"State\").var(numeric_only=True)[[\"HighQ\"]]\n",
    "print(varM)"
   ]
  },
  {
   "cell_type": "markdown",
   "metadata": {},
   "source": [
    "<font color=\"RED\" size=\"+1\">**[Q]**</font> **Matrice de corrélation**\n",
    "\n",
    "\n",
    "Nous allons maintenant nous intéresser à calculer la corrélation entre les prix à New York et les prix en Californie.\n",
    "\n",
    "Commencer par représenter le nuage des points des prix (par date) en Californie (axe $X$) et à New York (axe $Y$) pour la bonne qualité.\n",
    "\n",
    "Pour cela,  on commence par créer un DataFrame avec ces informations:"
   ]
  },
  {
   "cell_type": "code",
   "execution_count": 104,
   "metadata": {},
   "outputs": [
    {
     "data": {
      "text/html": [
       "<div>\n",
       "<style scoped>\n",
       "    .dataframe tbody tr th:only-of-type {\n",
       "        vertical-align: middle;\n",
       "    }\n",
       "\n",
       "    .dataframe tbody tr th {\n",
       "        vertical-align: top;\n",
       "    }\n",
       "\n",
       "    .dataframe thead th {\n",
       "        text-align: right;\n",
       "    }\n",
       "</style>\n",
       "<table border=\"1\" class=\"dataframe\">\n",
       "  <thead>\n",
       "    <tr style=\"text-align: right;\">\n",
       "      <th></th>\n",
       "      <th>State_x</th>\n",
       "      <th>HighQ_x</th>\n",
       "      <th>HighQN_x</th>\n",
       "      <th>MedQ_x</th>\n",
       "      <th>MedQN_x</th>\n",
       "      <th>LowQ_x</th>\n",
       "      <th>LowQN_x</th>\n",
       "      <th>date</th>\n",
       "      <th>State_y</th>\n",
       "      <th>HighQ_y</th>\n",
       "      <th>HighQN_y</th>\n",
       "      <th>MedQ_y</th>\n",
       "      <th>MedQN_y</th>\n",
       "      <th>LowQ_y</th>\n",
       "      <th>LowQN_y</th>\n",
       "    </tr>\n",
       "  </thead>\n",
       "  <tbody>\n",
       "    <tr>\n",
       "      <th>0</th>\n",
       "      <td>California</td>\n",
       "      <td>248.77</td>\n",
       "      <td>12021</td>\n",
       "      <td>193.44</td>\n",
       "      <td>12724</td>\n",
       "      <td>193.88</td>\n",
       "      <td>770</td>\n",
       "      <td>2013-12-27</td>\n",
       "      <td>New York</td>\n",
       "      <td>351.98</td>\n",
       "      <td>5773</td>\n",
       "      <td>268.83</td>\n",
       "      <td>5786</td>\n",
       "      <td>190.31</td>\n",
       "      <td>479</td>\n",
       "    </tr>\n",
       "    <tr>\n",
       "      <th>1</th>\n",
       "      <td>California</td>\n",
       "      <td>248.74</td>\n",
       "      <td>12025</td>\n",
       "      <td>193.44</td>\n",
       "      <td>12728</td>\n",
       "      <td>193.88</td>\n",
       "      <td>770</td>\n",
       "      <td>2013-12-28</td>\n",
       "      <td>New York</td>\n",
       "      <td>351.92</td>\n",
       "      <td>5775</td>\n",
       "      <td>268.83</td>\n",
       "      <td>5786</td>\n",
       "      <td>190.31</td>\n",
       "      <td>479</td>\n",
       "    </tr>\n",
       "    <tr>\n",
       "      <th>2</th>\n",
       "      <td>California</td>\n",
       "      <td>248.76</td>\n",
       "      <td>12047</td>\n",
       "      <td>193.55</td>\n",
       "      <td>12760</td>\n",
       "      <td>193.60</td>\n",
       "      <td>772</td>\n",
       "      <td>2013-12-29</td>\n",
       "      <td>New York</td>\n",
       "      <td>351.99</td>\n",
       "      <td>5785</td>\n",
       "      <td>269.02</td>\n",
       "      <td>5806</td>\n",
       "      <td>190.75</td>\n",
       "      <td>480</td>\n",
       "    </tr>\n",
       "    <tr>\n",
       "      <th>3</th>\n",
       "      <td>California</td>\n",
       "      <td>248.82</td>\n",
       "      <td>12065</td>\n",
       "      <td>193.54</td>\n",
       "      <td>12779</td>\n",
       "      <td>193.80</td>\n",
       "      <td>773</td>\n",
       "      <td>2013-12-30</td>\n",
       "      <td>New York</td>\n",
       "      <td>352.02</td>\n",
       "      <td>5791</td>\n",
       "      <td>268.98</td>\n",
       "      <td>5814</td>\n",
       "      <td>190.75</td>\n",
       "      <td>480</td>\n",
       "    </tr>\n",
       "    <tr>\n",
       "      <th>4</th>\n",
       "      <td>California</td>\n",
       "      <td>248.76</td>\n",
       "      <td>12082</td>\n",
       "      <td>193.54</td>\n",
       "      <td>12792</td>\n",
       "      <td>193.80</td>\n",
       "      <td>773</td>\n",
       "      <td>2013-12-31</td>\n",
       "      <td>New York</td>\n",
       "      <td>351.97</td>\n",
       "      <td>5794</td>\n",
       "      <td>268.93</td>\n",
       "      <td>5818</td>\n",
       "      <td>190.75</td>\n",
       "      <td>480</td>\n",
       "    </tr>\n",
       "  </tbody>\n",
       "</table>\n",
       "</div>"
      ],
      "text/plain": [
       "      State_x  HighQ_x  HighQN_x  MedQ_x  MedQN_x  LowQ_x  LowQN_x       date  \\\n",
       "0  California   248.77     12021  193.44    12724  193.88      770 2013-12-27   \n",
       "1  California   248.74     12025  193.44    12728  193.88      770 2013-12-28   \n",
       "2  California   248.76     12047  193.55    12760  193.60      772 2013-12-29   \n",
       "3  California   248.82     12065  193.54    12779  193.80      773 2013-12-30   \n",
       "4  California   248.76     12082  193.54    12792  193.80      773 2013-12-31   \n",
       "\n",
       "    State_y  HighQ_y  HighQN_y  MedQ_y  MedQN_y  LowQ_y  LowQN_y  \n",
       "0  New York   351.98      5773  268.83     5786  190.31      479  \n",
       "1  New York   351.92      5775  268.83     5786  190.31      479  \n",
       "2  New York   351.99      5785  269.02     5806  190.75      480  \n",
       "3  New York   352.02      5791  268.98     5814  190.75      480  \n",
       "4  New York   351.97      5794  268.93     5818  190.75      480  "
      ]
     },
     "execution_count": 104,
     "metadata": {},
     "output_type": "execute_result"
    }
   ],
   "source": [
    "prix_ny=prices_pd[prices_pd['State']=='New York']\n",
    "prix_ca=prices_pd[prices_pd['State']=='California']\n",
    "prix_ca_ny=prix_ca.merge(prix_ny,on='date')\n",
    "prix_ca_ny.head()\n",
    "\n",
    "# Exécuter cette boîte et commenter le résultat obtenu"
   ]
  },
  {
   "cell_type": "markdown",
   "metadata": {},
   "source": [
    "<font color=\"RED\" size=\"+1\">**[Q]**</font> **Nuages de points**\n",
    "\n",
    "\n",
    "Représenter graphiquement le nuage des points : voir <http://matplotlib.org/examples/shapes_and_collections/scatter_demo.html>"
   ]
  },
  {
   "cell_type": "code",
   "execution_count": 114,
   "metadata": {},
   "outputs": [
    {
     "data": {
      "image/png": "[encoded data removed]",
      "text/plain": [
       "<Figure size 640x480 with 1 Axes>"
      ]
     },
     "metadata": {},
     "output_type": "display_data"
    }
   ],
   "source": [
    "N = len(prix_ca_ny)\n",
    "x = prix_ca_ny[[\"HighQ_x\"]]\n",
    "y = prix_ca_ny[[\"HighQ_y\"]]\n",
    "colors = np.random.rand(N)\n",
    "area = np.pi * (15 * np.random.rand(N))**2  # 0 to 15 point radii\n",
    "\n",
    "plt.scatter(x, y, s=area, c=colors, alpha=0.5)\n",
    "plt.show()"
   ]
  },
  {
   "cell_type": "markdown",
   "metadata": {},
   "source": [
    "<font color=\"RED\" size=\"+1\">**[Q]**</font> **Corrélations**\n",
    "\n",
    "A l'aide de la fonction moyenne écrite précédemment, écrire une fonction <tt>correlation(x,y)</tt> qui calcule la corrélation lineaire entre deux tableaux Numpy."
   ]
  },
  {
   "cell_type": "code",
   "execution_count": null,
   "metadata": {},
   "outputs": [],
   "source": []
  },
  {
   "cell_type": "code",
   "execution_count": null,
   "metadata": {},
   "outputs": [],
   "source": [
    "# Appliquer votre fonction avec l'instruction suivante:\n",
    "\n",
    "# print(\"La correlation est :%f\"%correlation(prix_ca_ny[\"HighQ_x\"].values,prix_ca_ny[\"HighQ_y\"].values))"
   ]
  },
  {
   "cell_type": "markdown",
   "metadata": {},
   "source": [
    "<font color=\"RED\" size=\"+1\">**[Q]**</font> **Matrice de corrélations**\n",
    "\n",
    "Calculer la matrice des corrélations pour toutes les combinaisons d'états."
   ]
  },
  {
   "cell_type": "code",
   "execution_count": null,
   "metadata": {},
   "outputs": [],
   "source": []
  },
  {
   "cell_type": "markdown",
   "metadata": {},
   "source": [
    "<font color=\"RED\" size=\"+1\">**[Q]**</font> **D'autres corrélations...**\n",
    "\n",
    "\n",
    "Calculer les correlations entre le prix (<tt>low</tt> et <tt>high</tt>) en fonction du revenu moyen par état disponible dans le tableau <tt>demography_pd</tt> chargé au début de cette feuille Jupyter. \n",
    "\n",
    "Que peut-on en conclure ?"
   ]
  },
  {
   "cell_type": "code",
   "execution_count": null,
   "metadata": {},
   "outputs": [],
   "source": []
  }
 ],
 "metadata": {
  "kernelspec": {
   "display_name": "Python 3 (ipykernel)",
   "language": "python",
   "name": "python3"
  },
  "language_info": {
   "codemirror_mode": {
    "name": "ipython",
    "version": 3
   },
   "file_extension": ".py",
   "mimetype": "text/x-python",
   "name": "python",
   "nbconvert_exporter": "python",
   "pygments_lexer": "ipython3",
   "version": "3.9.6"
  }
 },
 "nbformat": 4,
 "nbformat_minor": 1
}
