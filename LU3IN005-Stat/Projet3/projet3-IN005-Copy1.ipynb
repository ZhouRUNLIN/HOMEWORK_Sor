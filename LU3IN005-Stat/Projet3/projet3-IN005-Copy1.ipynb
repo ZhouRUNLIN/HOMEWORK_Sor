{
 "cells": [
  {
   "cell_type": "markdown",
   "id": "6bd395e6",
   "metadata": {},
   "source": [
    "# Projet3 : Chaines de Markov et épidémiologie "
   ]
  },
  {
   "cell_type": "code",
   "execution_count": 1,
   "id": "b0f10386",
   "metadata": {},
   "outputs": [],
   "source": [
    "#quelques bibliothèque utiles\n",
    "import numpy as np\n",
    "import random as rd\n",
    "import time\n",
    "import matplotlib.pyplot as plt"
   ]
  },
  {
   "cell_type": "markdown",
   "id": "4da4a2c2",
   "metadata": {},
   "source": [
    "# Partie 1\n",
    "### Question 1 : \n",
    "A partir de la séquence d’observation S, S, S, I, I, I, I, I, I, R, on peut déduir les pobabilité de transition comme la formule suivant : $p(x|y)=P(c_i|c_{i-1})$ avec $x, y \\in \\{S, I, R \\}$\n",
    "\n",
    "Et la matrice de probabilité de transitions est :\n",
    "$$\\begin{matrix}\n",
    " & S & I & R \\\\\n",
    "S & \\frac{2}{3} & \\frac{1}{3} & 0 \\\\\n",
    "I & 0 & \\frac{5}{6} & \\frac{1}{6} \\\\\n",
    "R & 0 & 0 & 1 \n",
    "\\end{matrix}$$"
   ]
  },
  {
   "cell_type": "code",
   "execution_count": 2,
   "id": "5d8a7e6f",
   "metadata": {},
   "outputs": [
    {
     "data": {
      "text/plain": [
       "array([[0., 0., 0., ..., 0., 0., 0.],\n",
       "       [0., 0., 0., ..., 2., 2., 2.],\n",
       "       [0., 0., 0., ..., 2., 2., 2.],\n",
       "       ...,\n",
       "       [0., 0., 0., ..., 1., 1., 1.],\n",
       "       [0., 0., 1., ..., 2., 2., 2.],\n",
       "       [0., 0., 0., ..., 1., 1., 1.]])"
      ]
     },
     "execution_count": 2,
     "metadata": {},
     "output_type": "execute_result"
    }
   ],
   "source": [
    "#Partie 1; Question 2 lire des données\n",
    "np.loadtxt('data_exo.txt')"
   ]
  },
  {
   "cell_type": "code",
   "execution_count": 3,
   "id": "1cc2bb1a",
   "metadata": {},
   "outputs": [],
   "source": [
    "#Partie 1; Question 1.3\n",
    "def matriceTransition(ficNom):\n",
    "    \"\"\"\n",
    "    Entree : nom du ficher\n",
    "    Sortie : la matrice de probabilité de transitions\n",
    "    \"\"\"\n",
    "    ls = np.loadtxt(ficNom)\n",
    "    ss, si, ii, ir, rr, rs = 0, 0, 0, 0, 0, 0  \n",
    "    \n",
    "    for i in range(0, len(ls)):\n",
    "        l = len(ls[i])\n",
    "        #les cas different\n",
    "        for j in range(1, l):\n",
    "            if(ls[i][j-1] == 0 and ls[i][j] == 0):\n",
    "                ss+=1\n",
    "            if(ls[i][j-1] == 0 and ls[i][j] == 1):\n",
    "                si+=1\n",
    "            if(ls[i][j-1] == 1 and ls[i][j] == 1):\n",
    "                ii+=1\n",
    "            if(ls[i][j-1] == 1 and ls[i][j] == 2):\n",
    "                ir+=1\n",
    "            if(ls[i][j-1] == 2 and ls[i][j] == 2):\n",
    "                rr+=1\n",
    "            if(ls[i][j-1] == 2 and ls[i][j] == 0):\n",
    "                rs+=1\n",
    "    #calculation\n",
    "    return np.array([[ss/(ss + si), (si/(ss + si)), 0], \n",
    "                    [0, ii/(ii + ir), ir/(ii + ir)], \n",
    "                    [rs/(rs + rr), 0, rr/(rs + rr)]])\n",
    "        "
   ]
  },
  {
   "cell_type": "code",
   "execution_count": 4,
   "id": "308afb0c",
   "metadata": {},
   "outputs": [
    {
     "data": {
      "text/plain": [
       "array([[0.93082918, 0.06917082, 0.        ],\n",
       "       [0.        , 0.93518148, 0.06481852],\n",
       "       [0.04065945, 0.        , 0.95934055]])"
      ]
     },
     "execution_count": 4,
     "metadata": {},
     "output_type": "execute_result"
    }
   ],
   "source": [
    "#test pour matriceTransition()\n",
    "matriceTransition('data_exo.txt')"
   ]
  },
  {
   "cell_type": "markdown",
   "id": "775a51a9",
   "metadata": {},
   "source": [
    "# Partie 2 \n",
    "### Question 1:\n",
    "A partir du graphe de transition, la matrice de transition A est :\n",
    "$$\\begin{matrix}\n",
    " & S & I & R \\\\\n",
    "S & 0.92 & 0.08 & 0 \\\\\n",
    "I & 0 & 0.93 & 0.07 \\\\\n",
    "R & 0 & 0 & 1 \n",
    "\\end{matrix}$$\n",
    "\n",
    "Pour vérifier si une matrice de transition est stochastique, on doit ajouter la valeur de contenue de chaque ligne. Si la somme vaut 1, la matrice est stochastique."
   ]
  },
  {
   "cell_type": "code",
   "execution_count": 5,
   "id": "46ff6157",
   "metadata": {},
   "outputs": [],
   "source": [
    "def verifierMat(matrice):\n",
    "    \"\"\"\n",
    "    Entree : une matrice en format de list[list[float]]\n",
    "    Sorite : retourne 1 si la matrice est stochastique, et 0 sinon\n",
    "    \"\"\"\n",
    "    #parcours la matrice\n",
    "    for i in range(len(matrice)):\n",
    "        sommeLigne=0\n",
    "        for j in range(len(matrice[i])):\n",
    "            sommeLigne+=matrice[i][j]\n",
    "        if not sommeLigne==1:\n",
    "            return 0\n",
    "    return 1"
   ]
  },
  {
   "cell_type": "code",
   "execution_count": 6,
   "id": "3422248f",
   "metadata": {},
   "outputs": [
    {
     "name": "stdout",
     "output_type": "stream",
     "text": [
      "1\n"
     ]
    }
   ],
   "source": [
    "#test pour verifierMat()\n",
    "MatA=np.array([[0.92, 0.08, 0], [0, 0.93, 0.07], [0, 0, 1]])\n",
    "print(verifierMat(MatA))"
   ]
  },
  {
   "cell_type": "markdown",
   "id": "89527b11",
   "metadata": {},
   "source": [
    "### Question 2 :\n",
    "Au temps t = 0, un individu a une probabilité de 0.9 d’être sain et 0.1 d’être infecté.\n",
    "Donc, on a : $\\pi_0 = [0.9, 0.1, 0]$\n",
    "\n",
    "# Distribution $π_t$\n",
    "### Question 1 :\n",
    "$\\pi_1[0]=\\pi_0[0]*P_{ss}=0.828$ <br>\n",
    "$\\pi_1[1]=\\pi_0[0]*P_{si}+\\pi_0[1]*P_{ii}=0.165$ <br>\n",
    "$\\pi_1[2]=\\pi_0[2]+\\pi_0[1]*P_{ir}=0.007$ <br>\n",
    "\n",
    "\n",
    "### Question 2 :\n",
    "$\\pi_2[0]=\\pi_1[0]*P_{ss}=0.76176$ <br>\n",
    "$\\pi_2[1]=\\pi_1[0]*P_{si}+\\pi_1[1]*P_{ii}=0.21969$ <br>\n",
    "$\\pi_2[2]=\\pi_1[1]*P_{ir}=0.01855$ <br>\n"
   ]
  },
  {
   "cell_type": "code",
   "execution_count": 7,
   "id": "7b9f5a43",
   "metadata": {},
   "outputs": [],
   "source": [
    "#Question 3 : La distribution théorique dans chaque états\n",
    "def calDistribution(t, matrice, pi_0):\n",
    "    \"\"\"\n",
    "    Entree : \n",
    "        t: le temps pour chaque états\n",
    "        matrice : la matrice de transition\n",
    "        pi_0 : distribution de probabilité initiale\n",
    "    Sortie :\n",
    "        distribution théorique des effectifs\n",
    "    \"\"\"\n",
    "    res=list(pi_0)\n",
    "    for i in range(t):\n",
    "        tmp=res\n",
    "        #calculation pour les 3 états : S, I, R\n",
    "        res[0]=tmp[0]*matrice[0][0]\n",
    "        res[1]=tmp[0]*matrice[0][1] + tmp[1]*matrice[1][1]\n",
    "        res[2]+=tmp[1]*matrice[1][2]\n",
    "\n",
    "    return res\n",
    "\n",
    "# Question 4 : Tracer la graphe de la probabilité transitions\n",
    "def drawGraphe(t, matrice, pi_0):\n",
    "    \"\"\"\n",
    "        Entree : Comme calDistribution()\n",
    "        Sortie : Présneter une Graphique linéaire pliable pour les trois états\n",
    "    \"\"\"\n",
    "    sain, infecte, gueri, T=[], [], [], []\n",
    "    \n",
    "    #boucle forte pour stocker les données aux listes\n",
    "    for i in range(t):\n",
    "        distribution=calDistribution(i, matrice, pi_0)\n",
    "        T.append(i)\n",
    "        sain.append(distribution[0])\n",
    "        infecte.append(distribution[1])\n",
    "        gueri.append(distribution[2])   \n",
    "    \n",
    "    #la création du graphe\n",
    "    x=np.arange(20,350)\n",
    "    l1=plt.plot(T, sain,'r--',label='Sain')\n",
    "    l2=plt.plot(T, infecte,'g--',label='Infecté')\n",
    "    l3=plt.plot(T, gueri,'b--',label='Guéri')\n",
    "    plt.plot(T, sain,'r--', T, infecte,'g--', T, gueri, 'b--')\n",
    "    plt.title('Repartition théorique des effectifs')\n",
    "    plt.xlabel('temps')\n",
    "    plt.ylabel('probabilité')\n",
    "    plt.legend()\n",
    "    plt.show()"
   ]
  },
  {
   "cell_type": "code",
   "execution_count": 8,
   "id": "5dd4e7c8",
   "metadata": {},
   "outputs": [
    {
     "data": {
      "image/png": "[encoded data removed]",
      "text/plain": [
       "<Figure size 432x288 with 1 Axes>"
      ]
     },
     "metadata": {
      "needs_background": "light"
     },
     "output_type": "display_data"
    }
   ],
   "source": [
    "# test pour calDistribution() et drawGraphe()\n",
    "pi_0=[0.9, 0.1, 0]\n",
    "drawGraphe(150, MatA, pi_0)"
   ]
  },
  {
   "cell_type": "markdown",
   "id": "0ef71f7a",
   "metadata": {},
   "source": [
    "A partir du graphique, nous pouvons analyser :<br>\n",
    "Après environ 10 jours, le nombre de personnes infectées atteint un maximum ; après environ 100 jours, tout le monde est guéri (ou n'a jamais été infecté).\n",
    "\n",
    "# Tirage aléatoire des états\n",
    "\n"
   ]
  },
  {
   "cell_type": "code",
   "execution_count": 9,
   "id": "6627f75e",
   "metadata": {},
   "outputs": [],
   "source": [
    "def creatMarkov(nbSequence, matrice, pi_0):\n",
    "    \"\"\"\n",
    "    Entree : \n",
    "        nbSequence : la taille de liste T\n",
    "        matrice, pi_0 : le même\n",
    "    Sortie : \n",
    "        une chaine Markov en base de \"matrice\" et \" pi_0\"\n",
    "    \"\"\"\n",
    "    chaine=[]\n",
    "    prob=rd.uniform(0, 1)       #creer une valeur au hasard entre (0, 1)\n",
    "    \n",
    "    #insertion du premier letter\n",
    "    if prob > pi_0[0]:\n",
    "        chaine.append(1)\n",
    "    else:\n",
    "        chaine.append(0)\n",
    "        while(len(chaine) < nbSequence):      #transitions 0->0\n",
    "            prob=rd.uniform(0, 1)\n",
    "            if prob > matrice[0][0]:      \n",
    "                chaine.append(1)              #on utilise \"break\" ici,\n",
    "                break                         #car il n'y pas une transition de 1->0\n",
    "            chaine.append(0)\n",
    "    \n",
    "    while(len(chaine) < nbSequence):          #transitions 1->1\n",
    "        prob=rd.uniform(0, 1)\n",
    "        if prob > matrice[1][1]:\n",
    "            chaine.append(2)\n",
    "            break\n",
    "        chaine.append(1)\n",
    "        \n",
    "    for i in range(len(chaine), nbSequence):  #transition 2->2\n",
    "        chaine.append(2)\n",
    "    \n",
    "    return chaine"
   ]
  },
  {
   "cell_type": "code",
   "execution_count": 10,
   "id": "93a937a1",
   "metadata": {},
   "outputs": [
    {
     "name": "stdout",
     "output_type": "stream",
     "text": [
      "[0, 0, 0, 0, 0, 0, 0, 0, 0, 0, 0, 0, 0, 0, 1, 1, 1, 1, 1, 1, 1, 1, 1, 1, 1, 1, 1, 1, 1, 1, 1, 2, 2, 2, 2, 2, 2, 2, 2, 2, 2, 2, 2, 2, 2, 2, 2, 2, 2, 2, 2, 2, 2, 2, 2, 2, 2, 2, 2, 2, 2, 2, 2, 2, 2, 2, 2, 2, 2, 2, 2, 2, 2, 2, 2, 2, 2, 2, 2, 2, 2, 2, 2, 2, 2, 2, 2, 2, 2, 2, 2, 2, 2, 2, 2, 2, 2, 2, 2, 2, 2, 2, 2, 2, 2, 2, 2, 2, 2, 2, 2, 2, 2, 2, 2, 2, 2, 2, 2, 2, 2, 2, 2, 2, 2, 2, 2, 2, 2, 2, 2, 2, 2, 2, 2, 2, 2, 2, 2, 2, 2, 2, 2, 2, 2, 2, 2, 2, 2, 2]\n"
     ]
    }
   ],
   "source": [
    "#test pour creatMarkov()\n",
    "print(creatMarkov(150, MatA, pi_0))"
   ]
  },
  {
   "cell_type": "markdown",
   "id": "c6a994ae",
   "metadata": {},
   "source": [
    "# Partie 2 \n",
    "### Question 1:\n",
    "Ce processus peut être simulé avec une chaîne de Markov. Il n'y a pas de différence essentielle entre les modèles SIRS et SIR."
   ]
  },
  {
   "cell_type": "markdown",
   "id": "2c237fea",
   "metadata": {},
   "source": [
    "### Question 2:\n",
    "A partir du graphe de transition, la matrice de transition A est :\n",
    "$$\\begin{matrix}\n",
    " & S & I & R \\\\\n",
    "S & 0.92 & 0.08 & 0 \\\\\n",
    "I & 0 & 0.93 & 0.07 \\\\\n",
    "R & 0.02 & 0 & 0.98 \n",
    "\\end{matrix}$$\n",
    "\n",
    "Pour vérifier si une matrice de transition est stochastique, on doit ajouter la valeur de contenue de chaque ligne. Si la somme vaut 1, la matrice est stochastique."
   ]
  },
  {
   "cell_type": "markdown",
   "id": "4b069cad",
   "metadata": {},
   "source": [
    "### Question 3:\n",
    "Ce modèle est périodique, mais pas irréductible"
   ]
  },
  {
   "cell_type": "markdown",
   "id": "39d9789b",
   "metadata": {},
   "source": [
    "### Question 4:\n",
    "Car pi*A=pi et pi[0]+pi[1]+pi[2]=1\n",
    "On a pi=[7/43,8/43,28/43]"
   ]
  },
  {
   "cell_type": "code",
   "execution_count": 11,
   "id": "f98d8043",
   "metadata": {},
   "outputs": [
    {
     "data": {
      "image/png": "[encoded data removed]",
      "text/plain": [
       "<Figure size 432x288 with 1 Axes>"
      ]
     },
     "metadata": {
      "needs_background": "light"
     },
     "output_type": "display_data"
    }
   ],
   "source": [
    "#Question 3.5 :\n",
    "def calDistribution_universel(t, matrice, pi_0):\n",
    "    \"\"\"\n",
    "    Entree : \n",
    "        t: le temps pour chaque états\n",
    "        matrice : la matrice de transition\n",
    "        pi_0 : distribution de probabilité initiale\n",
    "    Sortie :\n",
    "        distribution théorique des effectifs\n",
    "    \"\"\"\n",
    "    res=list(pi_0)\n",
    "    for i in range(t):\n",
    "        tmp=res.copy()\n",
    "        #calculation pour les 3 états : S, I, R\n",
    "        res[0]=tmp[0]*matrice[0][0]+tmp[1]*matrice[1][0]+tmp[2]*matrice[2][0]\n",
    "        res[1]=tmp[0]*matrice[0][1]+tmp[1]*matrice[1][1]+tmp[2]*matrice[2][1]\n",
    "        res[2]=tmp[0]*matrice[0][2]+tmp[1]*matrice[1][2]+tmp[2]*matrice[2][2]\n",
    "\n",
    "    return res\n",
    "\n",
    "p0=[0.9,0.1,0]\n",
    "m=[[0.92,0.08,0],[0,0.93,0.07],[0.02,0,0.98]]\n",
    "drawGraphe(200,m,p0)\n",
    "#S diminue rapidement, I augmente d'abord puis diminue, R augmente régulièrement"
   ]
  },
  {
   "cell_type": "code",
   "execution_count": 12,
   "id": "3153c747",
   "metadata": {},
   "outputs": [
    {
     "data": {
      "image/png": "[encoded data removed]",
      "text/plain": [
       "<Figure size 432x288 with 1 Axes>"
      ]
     },
     "metadata": {
      "needs_background": "light"
     },
     "output_type": "display_data"
    }
   ],
   "source": [
    "#Question 3.6 :\n",
    "p0=[0.1,0.9,0]\n",
    "drawGraphe(200,m,p0)"
   ]
  },
  {
   "cell_type": "code",
   "execution_count": 13,
   "id": "daca8f21",
   "metadata": {},
   "outputs": [
    {
     "data": {
      "image/png": "[encoded data removed]",
      "text/plain": [
       "<Figure size 432x288 with 1 Axes>"
      ]
     },
     "metadata": {
      "needs_background": "light"
     },
     "output_type": "display_data"
    }
   ],
   "source": [
    "p0=[0.0,0.1,0.9]\n",
    "drawGraphe(200,m,p0)"
   ]
  },
  {
   "cell_type": "code",
   "execution_count": 14,
   "id": "3feff6a4",
   "metadata": {},
   "outputs": [],
   "source": [
    "#Quelle que soit la situation initiale, les proportions des trois groupes SIR tendent \n",
    "#vers la même valeur après une période de transmission suffisamment longue."
   ]
  },
  {
   "cell_type": "code",
   "execution_count": null,
   "id": "898b5674",
   "metadata": {},
   "outputs": [],
   "source": []
  },
  {
   "cell_type": "code",
   "execution_count": null,
   "id": "27375f35",
   "metadata": {},
   "outputs": [],
   "source": []
  }
 ],
 "metadata": {
  "kernelspec": {
   "display_name": "Python 3 (ipykernel)",
   "language": "python",
   "name": "python3"
  },
  "language_info": {
   "codemirror_mode": {
    "name": "ipython",
    "version": 3
   },
   "file_extension": ".py",
   "mimetype": "text/x-python",
   "name": "python",
   "nbconvert_exporter": "python",
   "pygments_lexer": "ipython3",
   "version": "3.9.12"
  }
 },
 "nbformat": 4,
 "nbformat_minor": 5
}
