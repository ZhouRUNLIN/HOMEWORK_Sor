{
  "cells": [
    {
      "cell_type": "markdown",
      "metadata": {
        "id": "mhlOdxDuxJFl"
      },
      "source": [
        "# TP 3 et 4 plan d'exécution de requêtes\n",
        "\n",
        "date de modification: 01/02/2024\n",
        "\n",
        "BINOME\n",
        "\n",
        "NOM 1: ZHOU\n",
        "\n",
        "Prénom 1: runlin\n",
        "\n",
        "Numéro : 28717281\n",
        "\n",
        "NOM 2: ZHANG \n",
        "\n",
        "Prénom 2: zhile\n",
        "\n",
        "Numéro : 21201131"
      ]
    },
    {
      "cell_type": "markdown",
      "metadata": {
        "id": "N-qZLyyUyqOG"
      },
      "source": [
        "# Préparation"
      ]
    },
    {
      "cell_type": "markdown",
      "metadata": {
        "id": "PDaYAsBbyqOG"
      },
      "source": [
        "installer DuckDB\n"
      ]
    },
    {
      "cell_type": "code",
      "execution_count": 1,
      "metadata": {
        "id": "k67DX_2ZyqOG"
      },
      "outputs": [],
      "source": [
        "# duckdb est déjà installé sur les machines de colab\n",
        "# !pip install duckdb --pre"
      ]
    },
    {
      "cell_type": "markdown",
      "metadata": {
        "id": "Ol3_TLTOR8uO"
      },
      "source": [
        "Les lib nécessaires pour ce TP"
      ]
    },
    {
      "cell_type": "code",
      "execution_count": 2,
      "metadata": {
        "id": "BXhPzl81Rzj2"
      },
      "outputs": [],
      "source": [
        "import duckdb\n",
        "\n",
        "import sqlite3\n",
        "\n",
        "import time\n",
        "import pandas as pd\n",
        "dataStroePath = \"temp/\""
      ]
    },
    {
      "cell_type": "markdown",
      "metadata": {
        "id": "wqrSv4J7yqOG"
      },
      "source": [
        "## Créer les données\n"
      ]
    },
    {
      "cell_type": "markdown",
      "metadata": {
        "id": "tc9UcCQzyqOH"
      },
      "source": [
        "On utilise la base de données du benchmark TPC-H.\n",
        "DuckDB propose la procedure *dbgen* pour générer la base de données.\n",
        "Les données sont stockées dans le fichier *tpch.db*\n",
        "\n",
        "\n",
        "Comprendre le [schéma des données TPC-H](https://nuage.lip6.fr/s/RramHt5W3RomySs) (ou cf moodle).\n",
        "\n",
        "La taille de la base est paramétrée par le scale factor *sf=0.2*\n"
      ]
    },
    {
      "cell_type": "code",
      "execution_count": 4,
      "metadata": {
        "colab": {
          "base_uri": "https://localhost:8080/",
          "height": 66,
          "referenced_widgets": [
            "2de08d04207c4726ba0caabea5f437e3",
            "50f4eb056cc5490884565b4ce68e61fa",
            "348bcb0d61e7401897e1a41d3704a620"
          ]
        },
        "id": "jtmocYU5yqOH",
        "outputId": "1683efc7-4ce0-47f5-e857-9ef8bc9efccc"
      },
      "outputs": [
        {
          "data": {
            "text/plain": [
              "<duckdb.duckdb.DuckDBPyConnection at 0x103665f30>"
            ]
          },
          "execution_count": 4,
          "metadata": {},
          "output_type": "execute_result"
        }
      ],
      "source": [
        "# db = duckdb.connect(':memory:')\n",
        "db = duckdb.connect('tpch.db')\n",
        "db.execute(\"CALL dbgen(sf=0.1)\")"
      ]
    },
    {
      "cell_type": "markdown",
      "metadata": {
        "id": "5WxeLxifyqOH"
      },
      "source": [
        "## Consulter la BD"
      ]
    },
    {
      "cell_type": "markdown",
      "metadata": {
        "id": "s6R8H2n7yqOH"
      },
      "source": [
        "Il y a 8 tables. La commande `SHOW TABLES` retourne le nom des tables.\n",
        "\n",
        "Note: la fonction  `.df()` ajoutée à la fin de l'expression sert à importer le résultat de la requête dans un dataframe pandas afin d'avoir un rendu \"ergonomique\" dans colab ."
      ]
    },
    {
      "cell_type": "code",
      "execution_count": 5,
      "metadata": {
        "colab": {
          "base_uri": "https://localhost:8080/",
          "height": 297
        },
        "id": "ihm4EqxlyqOH",
        "outputId": "b03829fb-4001-4264-fd6f-2cb8df000d2f"
      },
      "outputs": [
        {
          "data": {
            "text/html": [
              "<div>\n",
              "<style scoped>\n",
              "    .dataframe tbody tr th:only-of-type {\n",
              "        vertical-align: middle;\n",
              "    }\n",
              "\n",
              "    .dataframe tbody tr th {\n",
              "        vertical-align: top;\n",
              "    }\n",
              "\n",
              "    .dataframe thead th {\n",
              "        text-align: right;\n",
              "    }\n",
              "</style>\n",
              "<table border=\"1\" class=\"dataframe\">\n",
              "  <thead>\n",
              "    <tr style=\"text-align: right;\">\n",
              "      <th></th>\n",
              "      <th>name</th>\n",
              "    </tr>\n",
              "  </thead>\n",
              "  <tbody>\n",
              "    <tr>\n",
              "      <th>0</th>\n",
              "      <td>customer</td>\n",
              "    </tr>\n",
              "    <tr>\n",
              "      <th>1</th>\n",
              "      <td>lineitem</td>\n",
              "    </tr>\n",
              "    <tr>\n",
              "      <th>2</th>\n",
              "      <td>nation</td>\n",
              "    </tr>\n",
              "    <tr>\n",
              "      <th>3</th>\n",
              "      <td>orders</td>\n",
              "    </tr>\n",
              "    <tr>\n",
              "      <th>4</th>\n",
              "      <td>part</td>\n",
              "    </tr>\n",
              "    <tr>\n",
              "      <th>5</th>\n",
              "      <td>partsupp</td>\n",
              "    </tr>\n",
              "    <tr>\n",
              "      <th>6</th>\n",
              "      <td>region</td>\n",
              "    </tr>\n",
              "    <tr>\n",
              "      <th>7</th>\n",
              "      <td>supplier</td>\n",
              "    </tr>\n",
              "  </tbody>\n",
              "</table>\n",
              "</div>"
            ],
            "text/plain": [
              "       name\n",
              "0  customer\n",
              "1  lineitem\n",
              "2    nation\n",
              "3    orders\n",
              "4      part\n",
              "5  partsupp\n",
              "6    region\n",
              "7  supplier"
            ]
          },
          "execution_count": 5,
          "metadata": {},
          "output_type": "execute_result"
        }
      ],
      "source": [
        "db.execute(\"SHOW TABLES\").df()"
      ]
    },
    {
      "cell_type": "markdown",
      "metadata": {
        "id": "SDU31ZGgyqOH"
      },
      "source": [
        "La commande `DESCRIBE` retourne une description des attributs d'une table.\n",
        "\n",
        "Exemple affichant les attributs de la table *Lineitem* :"
      ]
    },
    {
      "cell_type": "code",
      "execution_count": 6,
      "metadata": {
        "colab": {
          "base_uri": "https://localhost:8080/",
          "height": 545
        },
        "id": "clFOxijayqOI",
        "outputId": "d101c089-e3ce-4ce6-ff8d-522fd21cd8e7"
      },
      "outputs": [
        {
          "data": {
            "text/html": [
              "<div>\n",
              "<style scoped>\n",
              "    .dataframe tbody tr th:only-of-type {\n",
              "        vertical-align: middle;\n",
              "    }\n",
              "\n",
              "    .dataframe tbody tr th {\n",
              "        vertical-align: top;\n",
              "    }\n",
              "\n",
              "    .dataframe thead th {\n",
              "        text-align: right;\n",
              "    }\n",
              "</style>\n",
              "<table border=\"1\" class=\"dataframe\">\n",
              "  <thead>\n",
              "    <tr style=\"text-align: right;\">\n",
              "      <th></th>\n",
              "      <th>column_name</th>\n",
              "      <th>column_type</th>\n",
              "      <th>null</th>\n",
              "      <th>key</th>\n",
              "      <th>default</th>\n",
              "      <th>extra</th>\n",
              "    </tr>\n",
              "  </thead>\n",
              "  <tbody>\n",
              "    <tr>\n",
              "      <th>0</th>\n",
              "      <td>l_orderkey</td>\n",
              "      <td>INTEGER</td>\n",
              "      <td>NO</td>\n",
              "      <td>None</td>\n",
              "      <td>None</td>\n",
              "      <td>NaN</td>\n",
              "    </tr>\n",
              "    <tr>\n",
              "      <th>1</th>\n",
              "      <td>l_partkey</td>\n",
              "      <td>INTEGER</td>\n",
              "      <td>NO</td>\n",
              "      <td>None</td>\n",
              "      <td>None</td>\n",
              "      <td>NaN</td>\n",
              "    </tr>\n",
              "    <tr>\n",
              "      <th>2</th>\n",
              "      <td>l_suppkey</td>\n",
              "      <td>INTEGER</td>\n",
              "      <td>NO</td>\n",
              "      <td>None</td>\n",
              "      <td>None</td>\n",
              "      <td>NaN</td>\n",
              "    </tr>\n",
              "    <tr>\n",
              "      <th>3</th>\n",
              "      <td>l_linenumber</td>\n",
              "      <td>INTEGER</td>\n",
              "      <td>NO</td>\n",
              "      <td>None</td>\n",
              "      <td>None</td>\n",
              "      <td>NaN</td>\n",
              "    </tr>\n",
              "    <tr>\n",
              "      <th>4</th>\n",
              "      <td>l_quantity</td>\n",
              "      <td>DECIMAL(15,2)</td>\n",
              "      <td>NO</td>\n",
              "      <td>None</td>\n",
              "      <td>None</td>\n",
              "      <td>NaN</td>\n",
              "    </tr>\n",
              "    <tr>\n",
              "      <th>5</th>\n",
              "      <td>l_extendedprice</td>\n",
              "      <td>DECIMAL(15,2)</td>\n",
              "      <td>NO</td>\n",
              "      <td>None</td>\n",
              "      <td>None</td>\n",
              "      <td>NaN</td>\n",
              "    </tr>\n",
              "    <tr>\n",
              "      <th>6</th>\n",
              "      <td>l_discount</td>\n",
              "      <td>DECIMAL(15,2)</td>\n",
              "      <td>NO</td>\n",
              "      <td>None</td>\n",
              "      <td>None</td>\n",
              "      <td>NaN</td>\n",
              "    </tr>\n",
              "    <tr>\n",
              "      <th>7</th>\n",
              "      <td>l_tax</td>\n",
              "      <td>DECIMAL(15,2)</td>\n",
              "      <td>NO</td>\n",
              "      <td>None</td>\n",
              "      <td>None</td>\n",
              "      <td>NaN</td>\n",
              "    </tr>\n",
              "    <tr>\n",
              "      <th>8</th>\n",
              "      <td>l_returnflag</td>\n",
              "      <td>VARCHAR</td>\n",
              "      <td>NO</td>\n",
              "      <td>None</td>\n",
              "      <td>None</td>\n",
              "      <td>NaN</td>\n",
              "    </tr>\n",
              "    <tr>\n",
              "      <th>9</th>\n",
              "      <td>l_linestatus</td>\n",
              "      <td>VARCHAR</td>\n",
              "      <td>NO</td>\n",
              "      <td>None</td>\n",
              "      <td>None</td>\n",
              "      <td>NaN</td>\n",
              "    </tr>\n",
              "    <tr>\n",
              "      <th>10</th>\n",
              "      <td>l_shipdate</td>\n",
              "      <td>DATE</td>\n",
              "      <td>NO</td>\n",
              "      <td>None</td>\n",
              "      <td>None</td>\n",
              "      <td>NaN</td>\n",
              "    </tr>\n",
              "    <tr>\n",
              "      <th>11</th>\n",
              "      <td>l_commitdate</td>\n",
              "      <td>DATE</td>\n",
              "      <td>NO</td>\n",
              "      <td>None</td>\n",
              "      <td>None</td>\n",
              "      <td>NaN</td>\n",
              "    </tr>\n",
              "    <tr>\n",
              "      <th>12</th>\n",
              "      <td>l_receiptdate</td>\n",
              "      <td>DATE</td>\n",
              "      <td>NO</td>\n",
              "      <td>None</td>\n",
              "      <td>None</td>\n",
              "      <td>NaN</td>\n",
              "    </tr>\n",
              "    <tr>\n",
              "      <th>13</th>\n",
              "      <td>l_shipinstruct</td>\n",
              "      <td>VARCHAR</td>\n",
              "      <td>NO</td>\n",
              "      <td>None</td>\n",
              "      <td>None</td>\n",
              "      <td>NaN</td>\n",
              "    </tr>\n",
              "    <tr>\n",
              "      <th>14</th>\n",
              "      <td>l_shipmode</td>\n",
              "      <td>VARCHAR</td>\n",
              "      <td>NO</td>\n",
              "      <td>None</td>\n",
              "      <td>None</td>\n",
              "      <td>NaN</td>\n",
              "    </tr>\n",
              "    <tr>\n",
              "      <th>15</th>\n",
              "      <td>l_comment</td>\n",
              "      <td>VARCHAR</td>\n",
              "      <td>NO</td>\n",
              "      <td>None</td>\n",
              "      <td>None</td>\n",
              "      <td>NaN</td>\n",
              "    </tr>\n",
              "  </tbody>\n",
              "</table>\n",
              "</div>"
            ],
            "text/plain": [
              "        column_name    column_type null   key default  extra\n",
              "0        l_orderkey        INTEGER   NO  None    None    NaN\n",
              "1         l_partkey        INTEGER   NO  None    None    NaN\n",
              "2         l_suppkey        INTEGER   NO  None    None    NaN\n",
              "3      l_linenumber        INTEGER   NO  None    None    NaN\n",
              "4        l_quantity  DECIMAL(15,2)   NO  None    None    NaN\n",
              "5   l_extendedprice  DECIMAL(15,2)   NO  None    None    NaN\n",
              "6        l_discount  DECIMAL(15,2)   NO  None    None    NaN\n",
              "7             l_tax  DECIMAL(15,2)   NO  None    None    NaN\n",
              "8      l_returnflag        VARCHAR   NO  None    None    NaN\n",
              "9      l_linestatus        VARCHAR   NO  None    None    NaN\n",
              "10       l_shipdate           DATE   NO  None    None    NaN\n",
              "11     l_commitdate           DATE   NO  None    None    NaN\n",
              "12    l_receiptdate           DATE   NO  None    None    NaN\n",
              "13   l_shipinstruct        VARCHAR   NO  None    None    NaN\n",
              "14       l_shipmode        VARCHAR   NO  None    None    NaN\n",
              "15        l_comment        VARCHAR   NO  None    None    NaN"
            ]
          },
          "execution_count": 6,
          "metadata": {},
          "output_type": "execute_result"
        }
      ],
      "source": [
        "db.execute(\"DESCRIBE lineitem\").df()"
      ]
    },
    {
      "cell_type": "markdown",
      "metadata": {
        "id": "5S_20A3eyqOI"
      },
      "source": [
        "La clause  `LIMIT N` est ajoutée à la fin d'une requête pour calculer seulement les N premiers tuples du résultat.\n",
        "\n",
        "Exemple pour afficher 10 tuples de la table Lineitem :"
      ]
    },
    {
      "cell_type": "code",
      "execution_count": 7,
      "metadata": {
        "colab": {
          "base_uri": "https://localhost:8080/",
          "height": 668
        },
        "id": "giT6V1WsyqOI",
        "outputId": "aa61b6e0-1730-4f97-a96b-cc38e7b4010c"
      },
      "outputs": [
        {
          "data": {
            "text/html": [
              "<div>\n",
              "<style scoped>\n",
              "    .dataframe tbody tr th:only-of-type {\n",
              "        vertical-align: middle;\n",
              "    }\n",
              "\n",
              "    .dataframe tbody tr th {\n",
              "        vertical-align: top;\n",
              "    }\n",
              "\n",
              "    .dataframe thead th {\n",
              "        text-align: right;\n",
              "    }\n",
              "</style>\n",
              "<table border=\"1\" class=\"dataframe\">\n",
              "  <thead>\n",
              "    <tr style=\"text-align: right;\">\n",
              "      <th></th>\n",
              "      <th>l_orderkey</th>\n",
              "      <th>l_partkey</th>\n",
              "      <th>l_suppkey</th>\n",
              "      <th>l_linenumber</th>\n",
              "      <th>l_quantity</th>\n",
              "      <th>l_extendedprice</th>\n",
              "      <th>l_discount</th>\n",
              "      <th>l_tax</th>\n",
              "      <th>l_returnflag</th>\n",
              "      <th>l_linestatus</th>\n",
              "      <th>l_shipdate</th>\n",
              "      <th>l_commitdate</th>\n",
              "      <th>l_receiptdate</th>\n",
              "      <th>l_shipinstruct</th>\n",
              "      <th>l_shipmode</th>\n",
              "      <th>l_comment</th>\n",
              "    </tr>\n",
              "  </thead>\n",
              "  <tbody>\n",
              "    <tr>\n",
              "      <th>0</th>\n",
              "      <td>1</td>\n",
              "      <td>15519</td>\n",
              "      <td>785</td>\n",
              "      <td>1</td>\n",
              "      <td>17.0</td>\n",
              "      <td>24386.67</td>\n",
              "      <td>0.04</td>\n",
              "      <td>0.02</td>\n",
              "      <td>N</td>\n",
              "      <td>O</td>\n",
              "      <td>1996-03-13</td>\n",
              "      <td>1996-02-12</td>\n",
              "      <td>1996-03-22</td>\n",
              "      <td>DELIVER IN PERSON</td>\n",
              "      <td>TRUCK</td>\n",
              "      <td>to beans x-ray carefull</td>\n",
              "    </tr>\n",
              "    <tr>\n",
              "      <th>1</th>\n",
              "      <td>1</td>\n",
              "      <td>6731</td>\n",
              "      <td>732</td>\n",
              "      <td>2</td>\n",
              "      <td>36.0</td>\n",
              "      <td>58958.28</td>\n",
              "      <td>0.09</td>\n",
              "      <td>0.06</td>\n",
              "      <td>N</td>\n",
              "      <td>O</td>\n",
              "      <td>1996-04-12</td>\n",
              "      <td>1996-02-28</td>\n",
              "      <td>1996-04-20</td>\n",
              "      <td>TAKE BACK RETURN</td>\n",
              "      <td>MAIL</td>\n",
              "      <td>according to the final foxes. qui</td>\n",
              "    </tr>\n",
              "    <tr>\n",
              "      <th>2</th>\n",
              "      <td>1</td>\n",
              "      <td>6370</td>\n",
              "      <td>371</td>\n",
              "      <td>3</td>\n",
              "      <td>8.0</td>\n",
              "      <td>10210.96</td>\n",
              "      <td>0.10</td>\n",
              "      <td>0.02</td>\n",
              "      <td>N</td>\n",
              "      <td>O</td>\n",
              "      <td>1996-01-29</td>\n",
              "      <td>1996-03-05</td>\n",
              "      <td>1996-01-31</td>\n",
              "      <td>TAKE BACK RETURN</td>\n",
              "      <td>REG AIR</td>\n",
              "      <td>ourts cajole above the furiou</td>\n",
              "    </tr>\n",
              "    <tr>\n",
              "      <th>3</th>\n",
              "      <td>1</td>\n",
              "      <td>214</td>\n",
              "      <td>465</td>\n",
              "      <td>4</td>\n",
              "      <td>28.0</td>\n",
              "      <td>31197.88</td>\n",
              "      <td>0.09</td>\n",
              "      <td>0.06</td>\n",
              "      <td>N</td>\n",
              "      <td>O</td>\n",
              "      <td>1996-04-21</td>\n",
              "      <td>1996-03-30</td>\n",
              "      <td>1996-05-16</td>\n",
              "      <td>NONE</td>\n",
              "      <td>AIR</td>\n",
              "      <td>s cajole busily above t</td>\n",
              "    </tr>\n",
              "    <tr>\n",
              "      <th>4</th>\n",
              "      <td>1</td>\n",
              "      <td>2403</td>\n",
              "      <td>160</td>\n",
              "      <td>5</td>\n",
              "      <td>24.0</td>\n",
              "      <td>31329.60</td>\n",
              "      <td>0.10</td>\n",
              "      <td>0.04</td>\n",
              "      <td>N</td>\n",
              "      <td>O</td>\n",
              "      <td>1996-03-30</td>\n",
              "      <td>1996-03-14</td>\n",
              "      <td>1996-04-01</td>\n",
              "      <td>NONE</td>\n",
              "      <td>FOB</td>\n",
              "      <td>the regular, regular pa</td>\n",
              "    </tr>\n",
              "    <tr>\n",
              "      <th>5</th>\n",
              "      <td>1</td>\n",
              "      <td>1564</td>\n",
              "      <td>67</td>\n",
              "      <td>6</td>\n",
              "      <td>32.0</td>\n",
              "      <td>46897.92</td>\n",
              "      <td>0.07</td>\n",
              "      <td>0.02</td>\n",
              "      <td>N</td>\n",
              "      <td>O</td>\n",
              "      <td>1996-01-30</td>\n",
              "      <td>1996-02-07</td>\n",
              "      <td>1996-02-03</td>\n",
              "      <td>DELIVER IN PERSON</td>\n",
              "      <td>MAIL</td>\n",
              "      <td>rouches. special</td>\n",
              "    </tr>\n",
              "    <tr>\n",
              "      <th>6</th>\n",
              "      <td>2</td>\n",
              "      <td>10617</td>\n",
              "      <td>138</td>\n",
              "      <td>1</td>\n",
              "      <td>38.0</td>\n",
              "      <td>58049.18</td>\n",
              "      <td>0.00</td>\n",
              "      <td>0.05</td>\n",
              "      <td>N</td>\n",
              "      <td>O</td>\n",
              "      <td>1997-01-28</td>\n",
              "      <td>1997-01-14</td>\n",
              "      <td>1997-02-02</td>\n",
              "      <td>TAKE BACK RETURN</td>\n",
              "      <td>RAIL</td>\n",
              "      <td>re. enticingly regular instruct</td>\n",
              "    </tr>\n",
              "    <tr>\n",
              "      <th>7</th>\n",
              "      <td>3</td>\n",
              "      <td>430</td>\n",
              "      <td>181</td>\n",
              "      <td>1</td>\n",
              "      <td>45.0</td>\n",
              "      <td>59869.35</td>\n",
              "      <td>0.06</td>\n",
              "      <td>0.00</td>\n",
              "      <td>R</td>\n",
              "      <td>F</td>\n",
              "      <td>1994-02-02</td>\n",
              "      <td>1994-01-04</td>\n",
              "      <td>1994-02-23</td>\n",
              "      <td>NONE</td>\n",
              "      <td>AIR</td>\n",
              "      <td>s cajole above the pinto beans. iro</td>\n",
              "    </tr>\n",
              "    <tr>\n",
              "      <th>8</th>\n",
              "      <td>3</td>\n",
              "      <td>1904</td>\n",
              "      <td>658</td>\n",
              "      <td>2</td>\n",
              "      <td>49.0</td>\n",
              "      <td>88489.10</td>\n",
              "      <td>0.10</td>\n",
              "      <td>0.00</td>\n",
              "      <td>R</td>\n",
              "      <td>F</td>\n",
              "      <td>1993-11-09</td>\n",
              "      <td>1993-12-20</td>\n",
              "      <td>1993-11-24</td>\n",
              "      <td>TAKE BACK RETURN</td>\n",
              "      <td>RAIL</td>\n",
              "      <td>ecial pinto beans. sly</td>\n",
              "    </tr>\n",
              "    <tr>\n",
              "      <th>9</th>\n",
              "      <td>3</td>\n",
              "      <td>12845</td>\n",
              "      <td>370</td>\n",
              "      <td>3</td>\n",
              "      <td>27.0</td>\n",
              "      <td>47461.68</td>\n",
              "      <td>0.06</td>\n",
              "      <td>0.07</td>\n",
              "      <td>A</td>\n",
              "      <td>F</td>\n",
              "      <td>1994-01-16</td>\n",
              "      <td>1993-11-22</td>\n",
              "      <td>1994-01-23</td>\n",
              "      <td>DELIVER IN PERSON</td>\n",
              "      <td>SHIP</td>\n",
              "      <td>e carefully fina</td>\n",
              "    </tr>\n",
              "  </tbody>\n",
              "</table>\n",
              "</div>"
            ],
            "text/plain": [
              "   l_orderkey  l_partkey  l_suppkey  l_linenumber  l_quantity  \\\n",
              "0           1      15519        785             1        17.0   \n",
              "1           1       6731        732             2        36.0   \n",
              "2           1       6370        371             3         8.0   \n",
              "3           1        214        465             4        28.0   \n",
              "4           1       2403        160             5        24.0   \n",
              "5           1       1564         67             6        32.0   \n",
              "6           2      10617        138             1        38.0   \n",
              "7           3        430        181             1        45.0   \n",
              "8           3       1904        658             2        49.0   \n",
              "9           3      12845        370             3        27.0   \n",
              "\n",
              "   l_extendedprice  l_discount  l_tax l_returnflag l_linestatus l_shipdate  \\\n",
              "0         24386.67        0.04   0.02            N            O 1996-03-13   \n",
              "1         58958.28        0.09   0.06            N            O 1996-04-12   \n",
              "2         10210.96        0.10   0.02            N            O 1996-01-29   \n",
              "3         31197.88        0.09   0.06            N            O 1996-04-21   \n",
              "4         31329.60        0.10   0.04            N            O 1996-03-30   \n",
              "5         46897.92        0.07   0.02            N            O 1996-01-30   \n",
              "6         58049.18        0.00   0.05            N            O 1997-01-28   \n",
              "7         59869.35        0.06   0.00            R            F 1994-02-02   \n",
              "8         88489.10        0.10   0.00            R            F 1993-11-09   \n",
              "9         47461.68        0.06   0.07            A            F 1994-01-16   \n",
              "\n",
              "  l_commitdate l_receiptdate     l_shipinstruct l_shipmode  \\\n",
              "0   1996-02-12    1996-03-22  DELIVER IN PERSON      TRUCK   \n",
              "1   1996-02-28    1996-04-20   TAKE BACK RETURN       MAIL   \n",
              "2   1996-03-05    1996-01-31   TAKE BACK RETURN    REG AIR   \n",
              "3   1996-03-30    1996-05-16               NONE        AIR   \n",
              "4   1996-03-14    1996-04-01               NONE        FOB   \n",
              "5   1996-02-07    1996-02-03  DELIVER IN PERSON       MAIL   \n",
              "6   1997-01-14    1997-02-02   TAKE BACK RETURN       RAIL   \n",
              "7   1994-01-04    1994-02-23               NONE        AIR   \n",
              "8   1993-12-20    1993-11-24   TAKE BACK RETURN       RAIL   \n",
              "9   1993-11-22    1994-01-23  DELIVER IN PERSON       SHIP   \n",
              "\n",
              "                             l_comment  \n",
              "0              to beans x-ray carefull  \n",
              "1    according to the final foxes. qui  \n",
              "2        ourts cajole above the furiou  \n",
              "3              s cajole busily above t  \n",
              "4              the regular, regular pa  \n",
              "5                    rouches. special   \n",
              "6      re. enticingly regular instruct  \n",
              "7  s cajole above the pinto beans. iro  \n",
              "8               ecial pinto beans. sly  \n",
              "9                     e carefully fina  "
            ]
          },
          "execution_count": 7,
          "metadata": {},
          "output_type": "execute_result"
        }
      ],
      "source": [
        "db.execute(\"SELECT * FROM lineitem LIMIT 10\").df()"
      ]
    },
    {
      "cell_type": "markdown",
      "metadata": {
        "id": "VOF1bSJRyqOI"
      },
      "source": [
        "La commande `SUMMARIZE` donne un aperçu statistique des données d'une table.\n",
        "Elle retourne pour chaque attribut, les bornes min et max du domaine, le nombre approximatif de valeurs uniques ainsi que la distribution décrite par la moyenne, l'écart type et les quartiles 25, 50 (médiane) et 75."
      ]
    },
    {
      "cell_type": "code",
      "execution_count": 8,
      "metadata": {
        "colab": {
          "base_uri": "https://localhost:8080/",
          "height": 684
        },
        "id": "2AwS8KhZyqOI",
        "outputId": "a2a3a414-9e22-4a49-fc25-eb2dbc513544"
      },
      "outputs": [
        {
          "data": {
            "text/html": [
              "<div>\n",
              "<style scoped>\n",
              "    .dataframe tbody tr th:only-of-type {\n",
              "        vertical-align: middle;\n",
              "    }\n",
              "\n",
              "    .dataframe tbody tr th {\n",
              "        vertical-align: top;\n",
              "    }\n",
              "\n",
              "    .dataframe thead th {\n",
              "        text-align: right;\n",
              "    }\n",
              "</style>\n",
              "<table border=\"1\" class=\"dataframe\">\n",
              "  <thead>\n",
              "    <tr style=\"text-align: right;\">\n",
              "      <th></th>\n",
              "      <th>column_name</th>\n",
              "      <th>column_type</th>\n",
              "      <th>min</th>\n",
              "      <th>max</th>\n",
              "      <th>approx_unique</th>\n",
              "      <th>avg</th>\n",
              "      <th>std</th>\n",
              "      <th>q25</th>\n",
              "      <th>q50</th>\n",
              "      <th>q75</th>\n",
              "      <th>count</th>\n",
              "      <th>null_percentage</th>\n",
              "    </tr>\n",
              "  </thead>\n",
              "  <tbody>\n",
              "    <tr>\n",
              "      <th>0</th>\n",
              "      <td>l_orderkey</td>\n",
              "      <td>INTEGER</td>\n",
              "      <td>1</td>\n",
              "      <td>600000</td>\n",
              "      <td>156886</td>\n",
              "      <td>300087.32032628893</td>\n",
              "      <td>173380.15954532725</td>\n",
              "      <td>152438</td>\n",
              "      <td>300461</td>\n",
              "      <td>449237</td>\n",
              "      <td>600572</td>\n",
              "      <td>0.0%</td>\n",
              "    </tr>\n",
              "    <tr>\n",
              "      <th>1</th>\n",
              "      <td>l_partkey</td>\n",
              "      <td>INTEGER</td>\n",
              "      <td>1</td>\n",
              "      <td>20000</td>\n",
              "      <td>19915</td>\n",
              "      <td>10003.995747387491</td>\n",
              "      <td>5768.962517282622</td>\n",
              "      <td>5014</td>\n",
              "      <td>9999</td>\n",
              "      <td>15011</td>\n",
              "      <td>600572</td>\n",
              "      <td>0.0%</td>\n",
              "    </tr>\n",
              "    <tr>\n",
              "      <th>2</th>\n",
              "      <td>l_suppkey</td>\n",
              "      <td>INTEGER</td>\n",
              "      <td>1</td>\n",
              "      <td>1000</td>\n",
              "      <td>1010</td>\n",
              "      <td>500.55533391500103</td>\n",
              "      <td>288.5557626111972</td>\n",
              "      <td>251</td>\n",
              "      <td>501</td>\n",
              "      <td>750</td>\n",
              "      <td>600572</td>\n",
              "      <td>0.0%</td>\n",
              "    </tr>\n",
              "    <tr>\n",
              "      <th>3</th>\n",
              "      <td>l_linenumber</td>\n",
              "      <td>INTEGER</td>\n",
              "      <td>1</td>\n",
              "      <td>7</td>\n",
              "      <td>7</td>\n",
              "      <td>3.001215507882485</td>\n",
              "      <td>1.7321171926128305</td>\n",
              "      <td>1</td>\n",
              "      <td>3</td>\n",
              "      <td>4</td>\n",
              "      <td>600572</td>\n",
              "      <td>0.0%</td>\n",
              "    </tr>\n",
              "    <tr>\n",
              "      <th>4</th>\n",
              "      <td>l_quantity</td>\n",
              "      <td>DECIMAL(15,2)</td>\n",
              "      <td>1.00</td>\n",
              "      <td>50.00</td>\n",
              "      <td>50</td>\n",
              "      <td>25.53366124294839</td>\n",
              "      <td>14.420188609142427</td>\n",
              "      <td>13</td>\n",
              "      <td>26</td>\n",
              "      <td>38</td>\n",
              "      <td>600572</td>\n",
              "      <td>0.0%</td>\n",
              "    </tr>\n",
              "    <tr>\n",
              "      <th>5</th>\n",
              "      <td>l_extendedprice</td>\n",
              "      <td>DECIMAL(15,2)</td>\n",
              "      <td>901.00</td>\n",
              "      <td>95949.50</td>\n",
              "      <td>130790</td>\n",
              "      <td>35992.236201887536</td>\n",
              "      <td>22014.18174976397</td>\n",
              "      <td>17591</td>\n",
              "      <td>34469</td>\n",
              "      <td>51719</td>\n",
              "      <td>600572</td>\n",
              "      <td>0.0%</td>\n",
              "    </tr>\n",
              "    <tr>\n",
              "      <th>6</th>\n",
              "      <td>l_discount</td>\n",
              "      <td>DECIMAL(15,2)</td>\n",
              "      <td>0.00</td>\n",
              "      <td>0.10</td>\n",
              "      <td>11</td>\n",
              "      <td>0.050073929520523766</td>\n",
              "      <td>0.0316031281910522</td>\n",
              "      <td>0</td>\n",
              "      <td>0</td>\n",
              "      <td>0</td>\n",
              "      <td>600572</td>\n",
              "      <td>0.0%</td>\n",
              "    </tr>\n",
              "    <tr>\n",
              "      <th>7</th>\n",
              "      <td>l_tax</td>\n",
              "      <td>DECIMAL(15,2)</td>\n",
              "      <td>0.00</td>\n",
              "      <td>0.08</td>\n",
              "      <td>9</td>\n",
              "      <td>0.040041626982276896</td>\n",
              "      <td>0.025797304713675383</td>\n",
              "      <td>0</td>\n",
              "      <td>0</td>\n",
              "      <td>0</td>\n",
              "      <td>600572</td>\n",
              "      <td>0.0%</td>\n",
              "    </tr>\n",
              "    <tr>\n",
              "      <th>8</th>\n",
              "      <td>l_returnflag</td>\n",
              "      <td>VARCHAR</td>\n",
              "      <td>A</td>\n",
              "      <td>R</td>\n",
              "      <td>3</td>\n",
              "      <td>None</td>\n",
              "      <td>None</td>\n",
              "      <td>None</td>\n",
              "      <td>None</td>\n",
              "      <td>None</td>\n",
              "      <td>600572</td>\n",
              "      <td>0.0%</td>\n",
              "    </tr>\n",
              "    <tr>\n",
              "      <th>9</th>\n",
              "      <td>l_linestatus</td>\n",
              "      <td>VARCHAR</td>\n",
              "      <td>F</td>\n",
              "      <td>O</td>\n",
              "      <td>2</td>\n",
              "      <td>None</td>\n",
              "      <td>None</td>\n",
              "      <td>None</td>\n",
              "      <td>None</td>\n",
              "      <td>None</td>\n",
              "      <td>600572</td>\n",
              "      <td>0.0%</td>\n",
              "    </tr>\n",
              "    <tr>\n",
              "      <th>10</th>\n",
              "      <td>l_shipdate</td>\n",
              "      <td>DATE</td>\n",
              "      <td>1992-01-03</td>\n",
              "      <td>1998-12-01</td>\n",
              "      <td>2515</td>\n",
              "      <td>None</td>\n",
              "      <td>None</td>\n",
              "      <td>None</td>\n",
              "      <td>None</td>\n",
              "      <td>None</td>\n",
              "      <td>600572</td>\n",
              "      <td>0.0%</td>\n",
              "    </tr>\n",
              "    <tr>\n",
              "      <th>11</th>\n",
              "      <td>l_commitdate</td>\n",
              "      <td>DATE</td>\n",
              "      <td>1992-01-31</td>\n",
              "      <td>1998-10-31</td>\n",
              "      <td>2460</td>\n",
              "      <td>None</td>\n",
              "      <td>None</td>\n",
              "      <td>None</td>\n",
              "      <td>None</td>\n",
              "      <td>None</td>\n",
              "      <td>600572</td>\n",
              "      <td>0.0%</td>\n",
              "    </tr>\n",
              "    <tr>\n",
              "      <th>12</th>\n",
              "      <td>l_receiptdate</td>\n",
              "      <td>DATE</td>\n",
              "      <td>1992-01-04</td>\n",
              "      <td>1998-12-27</td>\n",
              "      <td>2542</td>\n",
              "      <td>None</td>\n",
              "      <td>None</td>\n",
              "      <td>None</td>\n",
              "      <td>None</td>\n",
              "      <td>None</td>\n",
              "      <td>600572</td>\n",
              "      <td>0.0%</td>\n",
              "    </tr>\n",
              "    <tr>\n",
              "      <th>13</th>\n",
              "      <td>l_shipinstruct</td>\n",
              "      <td>VARCHAR</td>\n",
              "      <td>COLLECT COD</td>\n",
              "      <td>TAKE BACK RETURN</td>\n",
              "      <td>4</td>\n",
              "      <td>None</td>\n",
              "      <td>None</td>\n",
              "      <td>None</td>\n",
              "      <td>None</td>\n",
              "      <td>None</td>\n",
              "      <td>600572</td>\n",
              "      <td>0.0%</td>\n",
              "    </tr>\n",
              "    <tr>\n",
              "      <th>14</th>\n",
              "      <td>l_shipmode</td>\n",
              "      <td>VARCHAR</td>\n",
              "      <td>AIR</td>\n",
              "      <td>TRUCK</td>\n",
              "      <td>7</td>\n",
              "      <td>None</td>\n",
              "      <td>None</td>\n",
              "      <td>None</td>\n",
              "      <td>None</td>\n",
              "      <td>None</td>\n",
              "      <td>600572</td>\n",
              "      <td>0.0%</td>\n",
              "    </tr>\n",
              "    <tr>\n",
              "      <th>15</th>\n",
              "      <td>l_comment</td>\n",
              "      <td>VARCHAR</td>\n",
              "      <td>Tiresias above the blit</td>\n",
              "      <td>zzle. slyly</td>\n",
              "      <td>523942</td>\n",
              "      <td>None</td>\n",
              "      <td>None</td>\n",
              "      <td>None</td>\n",
              "      <td>None</td>\n",
              "      <td>None</td>\n",
              "      <td>600572</td>\n",
              "      <td>0.0%</td>\n",
              "    </tr>\n",
              "  </tbody>\n",
              "</table>\n",
              "</div>"
            ],
            "text/plain": [
              "        column_name    column_type                       min  \\\n",
              "0        l_orderkey        INTEGER                         1   \n",
              "1         l_partkey        INTEGER                         1   \n",
              "2         l_suppkey        INTEGER                         1   \n",
              "3      l_linenumber        INTEGER                         1   \n",
              "4        l_quantity  DECIMAL(15,2)                      1.00   \n",
              "5   l_extendedprice  DECIMAL(15,2)                    901.00   \n",
              "6        l_discount  DECIMAL(15,2)                      0.00   \n",
              "7             l_tax  DECIMAL(15,2)                      0.00   \n",
              "8      l_returnflag        VARCHAR                         A   \n",
              "9      l_linestatus        VARCHAR                         F   \n",
              "10       l_shipdate           DATE                1992-01-03   \n",
              "11     l_commitdate           DATE                1992-01-31   \n",
              "12    l_receiptdate           DATE                1992-01-04   \n",
              "13   l_shipinstruct        VARCHAR               COLLECT COD   \n",
              "14       l_shipmode        VARCHAR                       AIR   \n",
              "15        l_comment        VARCHAR   Tiresias above the blit   \n",
              "\n",
              "                 max approx_unique                   avg  \\\n",
              "0             600000        156886    300087.32032628893   \n",
              "1              20000         19915    10003.995747387491   \n",
              "2               1000          1010    500.55533391500103   \n",
              "3                  7             7     3.001215507882485   \n",
              "4              50.00            50     25.53366124294839   \n",
              "5           95949.50        130790    35992.236201887536   \n",
              "6               0.10            11  0.050073929520523766   \n",
              "7               0.08             9  0.040041626982276896   \n",
              "8                  R             3                  None   \n",
              "9                  O             2                  None   \n",
              "10        1998-12-01          2515                  None   \n",
              "11        1998-10-31          2460                  None   \n",
              "12        1998-12-27          2542                  None   \n",
              "13  TAKE BACK RETURN             4                  None   \n",
              "14             TRUCK             7                  None   \n",
              "15       zzle. slyly        523942                  None   \n",
              "\n",
              "                     std     q25     q50     q75   count null_percentage  \n",
              "0     173380.15954532725  152438  300461  449237  600572            0.0%  \n",
              "1      5768.962517282622    5014    9999   15011  600572            0.0%  \n",
              "2      288.5557626111972     251     501     750  600572            0.0%  \n",
              "3     1.7321171926128305       1       3       4  600572            0.0%  \n",
              "4     14.420188609142427      13      26      38  600572            0.0%  \n",
              "5      22014.18174976397   17591   34469   51719  600572            0.0%  \n",
              "6     0.0316031281910522       0       0       0  600572            0.0%  \n",
              "7   0.025797304713675383       0       0       0  600572            0.0%  \n",
              "8                   None    None    None    None  600572            0.0%  \n",
              "9                   None    None    None    None  600572            0.0%  \n",
              "10                  None    None    None    None  600572            0.0%  \n",
              "11                  None    None    None    None  600572            0.0%  \n",
              "12                  None    None    None    None  600572            0.0%  \n",
              "13                  None    None    None    None  600572            0.0%  \n",
              "14                  None    None    None    None  600572            0.0%  \n",
              "15                  None    None    None    None  600572            0.0%  "
            ]
          },
          "execution_count": 8,
          "metadata": {},
          "output_type": "execute_result"
        }
      ],
      "source": [
        "db.execute(\"SUMMARIZE lineitem\").df()"
      ]
    },
    {
      "cell_type": "markdown",
      "metadata": {
        "id": "ReE-x0fpWSFC"
      },
      "source": [
        "# Requêtes"
      ]
    },
    {
      "cell_type": "markdown",
      "metadata": {
        "id": "3m82qQT3yqOK"
      },
      "source": [
        "On considère les requêtes suivantes qui sont des versions simplifiées d'une des requêtes du benchmark TPC-H :"
      ]
    },
    {
      "cell_type": "code",
      "execution_count": 10,
      "metadata": {
        "id": "yrQtYNfbyqOK"
      },
      "outputs": [],
      "source": [
        "query1 = \"\"\"\n",
        "SELECT\n",
        "    o_shippriority, count(*) as nb\n",
        "FROM\n",
        "    customer\n",
        "    JOIN orders ON (c_custkey=o_custkey)\n",
        "    JOIN lineitem ON (l_orderkey=o_orderkey)\n",
        "WHERE\n",
        "    c_mktsegment = 'BUILDING'\n",
        "    AND o_orderdate < CAST('1995-03-15' AS date)\n",
        "    AND l_shipdate > CAST('1995-03-15' AS date)\n",
        "GROUP BY\n",
        "    o_shippriority\n",
        "ORDER BY nb desc\n",
        "LIMIT 50;\n",
        "\"\"\"\n",
        "\n",
        "\n",
        "query2 = \"\"\"\n",
        "SELECT\n",
        "    l_orderkey,\n",
        "    sum(l_extendedprice * (1 - l_discount)) AS revenue,\n",
        "    o_orderdate,\n",
        "    o_shippriority\n",
        "FROM\n",
        "    customer\n",
        "    JOIN orders ON (c_custkey=o_custkey)\n",
        "    JOIN lineitem ON (l_orderkey=o_orderkey)\n",
        "WHERE\n",
        "    c_mktsegment = 'BUILDING'\n",
        "    AND o_orderdate < CAST('1995-03-15' AS date)\n",
        "    AND l_shipdate > CAST('1995-03-15' AS date)\n",
        "GROUP BY\n",
        "    l_orderkey,\n",
        "    o_orderdate,\n",
        "    o_shippriority\n",
        "ORDER BY\n",
        "    revenue DESC,\n",
        "    o_orderdate\n",
        "LIMIT 50;\n",
        "\"\"\"\n",
        "\n",
        "query = query1"
      ]
    },
    {
      "cell_type": "markdown",
      "metadata": {
        "id": "8XS37jGcmfU8"
      },
      "source": [
        "## Exécuter une requête"
      ]
    },
    {
      "cell_type": "markdown",
      "metadata": {
        "id": "yT1lictImrdb"
      },
      "source": [
        "On définit la fonction `run_query` pour exécuter une requête et mesurer sa durée en millisecondes."
      ]
    },
    {
      "cell_type": "code",
      "execution_count": 11,
      "metadata": {
        "id": "Vd-Ad8TUmMZs"
      },
      "outputs": [],
      "source": [
        "# par défaut on exécute la requête dans DuckDB (db)\n",
        "def run_query(q, connection=db):\n",
        "  start = time.time()\n",
        "  connection.execute(q).fetchall()\n",
        "  end = time.time()\n",
        "  return(f\"{(end - start)*1000:.0f}ms\")\n"
      ]
    },
    {
      "cell_type": "markdown",
      "metadata": {
        "id": "Z9ABFeHDmpmD"
      },
      "source": [
        "Exécuter la première requête dans DuckDB"
      ]
    },
    {
      "cell_type": "code",
      "execution_count": 12,
      "metadata": {
        "colab": {
          "base_uri": "https://localhost:8080/",
          "height": 35
        },
        "id": "cIdSXEqjmjnk",
        "outputId": "93aff26c-93ac-49ae-9a89-194a3e5752f3"
      },
      "outputs": [
        {
          "data": {
            "text/plain": [
              "'10ms'"
            ]
          },
          "execution_count": 12,
          "metadata": {},
          "output_type": "execute_result"
        }
      ],
      "source": [
        "run_query(query)"
      ]
    },
    {
      "cell_type": "markdown",
      "metadata": {
        "id": "rZ6hPAIXyqOJ"
      },
      "source": [
        "# Comparaison DuckDB versus SQLite"
      ]
    },
    {
      "cell_type": "markdown",
      "metadata": {
        "id": "VoLIFyZiyqOJ"
      },
      "source": [
        "L'objectif est de comparer les performances de deux SGBD en mémoire :\n",
        "DuckDB (très rapide) et SQLite (très populaire)\n",
        "\n",
        "On veut montrer que DuckDB est plus rapide que SQLite pour traiter des requêtes \"réalistes\" de l'application TPC-H.\n"
      ]
    },
    {
      "cell_type": "markdown",
      "metadata": {
        "id": "pnFzjf80yqOJ"
      },
      "source": [
        "## Configuration de SQLite"
      ]
    },
    {
      "cell_type": "markdown",
      "metadata": {
        "id": "0nv3Q_5myqOK"
      },
      "source": [
        "Initialiser SQLite."
      ]
    },
    {
      "cell_type": "code",
      "execution_count": 14,
      "metadata": {
        "id": "KlpgVprayqOK"
      },
      "outputs": [],
      "source": [
        "# sqlite = sqlite3.connect(':memory:', check_same_thread=False)\n",
        "!rm -f tpch_sqlite.db\n",
        "sqlite = sqlite3.connect('tpch_sqlite.db', check_same_thread=False)"
      ]
    },
    {
      "cell_type": "markdown",
      "metadata": {
        "id": "ldLCt2a4yqOK"
      },
      "source": [
        "On peut transférer les données depuis DuckDB vers SQLite par l'intermédaire d'un dataFrame pandas.\n",
        "*   On exporte chaque table de DuckDB vers un dataframe en utilisant  la commande `.df()`\n",
        "*   Puis on utilise la fonction `to_sql` d'un dataframe pandas pour générer les instructions SQL permettant d'importer les données dans SQLite.\n"
      ]
    },
    {
      "cell_type": "code",
      "execution_count": 15,
      "metadata": {
        "id": "wLBnzdzryqOK"
      },
      "outputs": [],
      "source": [
        "table_list = db.execute(\"SHOW TABLES\").fetchall()\n",
        "\n",
        "# peut durer de 20s à  1 minute\n",
        "\n",
        "for table in table_list:\n",
        "  tname = table[0]\n",
        "  table_data = db.table(tname).df()\n",
        "  # table_data.to_sql(tname, sqlite)\n",
        "  table_data.to_sql(tname, sqlite, if_exists='replace')\n"
      ]
    },
    {
      "cell_type": "markdown",
      "metadata": {
        "id": "wMwA3TQ2yqOK"
      },
      "source": [
        "## Comparer les performances"
      ]
    },
    {
      "cell_type": "markdown",
      "metadata": {
        "id": "-IdfYefxyqOL"
      },
      "source": [
        "On exécute la même requête dans les 2 SGBD: DuckDB et SQLite. Puis on compare les temps d'exécution."
      ]
    },
    {
      "cell_type": "code",
      "execution_count": 16,
      "metadata": {
        "colab": {
          "base_uri": "https://localhost:8080/",
          "height": 369
        },
        "id": "6yhfg7hbyqOL",
        "outputId": "b2516ac0-4a32-478e-e99f-073773edd0c4"
      },
      "outputs": [
        {
          "name": "stdout",
          "output_type": "stream",
          "text": [
            "On exécute la requête: \n",
            "SELECT\n",
            "    o_shippriority, count(*) as nb\n",
            "FROM\n",
            "    customer\n",
            "    JOIN orders ON (c_custkey=o_custkey)\n",
            "    JOIN lineitem ON (l_orderkey=o_orderkey)\n",
            "WHERE\n",
            "    c_mktsegment = 'BUILDING'\n",
            "    AND o_orderdate < CAST('1995-03-15' AS date)\n",
            "    AND l_shipdate > CAST('1995-03-15' AS date)\n",
            "GROUP BY\n",
            "    o_shippriority\n",
            "ORDER BY nb desc\n",
            "LIMIT 50;\n",
            "\n",
            "Les durées d'exécution sont: \n"
          ]
        },
        {
          "data": {
            "text/html": [
              "<div>\n",
              "<style scoped>\n",
              "    .dataframe tbody tr th:only-of-type {\n",
              "        vertical-align: middle;\n",
              "    }\n",
              "\n",
              "    .dataframe tbody tr th {\n",
              "        vertical-align: top;\n",
              "    }\n",
              "\n",
              "    .dataframe thead th {\n",
              "        text-align: right;\n",
              "    }\n",
              "</style>\n",
              "<table border=\"1\" class=\"dataframe\">\n",
              "  <thead>\n",
              "    <tr style=\"text-align: right;\">\n",
              "      <th></th>\n",
              "      <th>DuckDB</th>\n",
              "      <th>SQLite</th>\n",
              "    </tr>\n",
              "  </thead>\n",
              "  <tbody>\n",
              "    <tr>\n",
              "      <th>0</th>\n",
              "      <td>7ms</td>\n",
              "      <td>19ms</td>\n",
              "    </tr>\n",
              "  </tbody>\n",
              "</table>\n",
              "</div>"
            ],
            "text/plain": [
              "  DuckDB SQLite\n",
              "0    7ms   19ms"
            ]
          },
          "execution_count": 16,
          "metadata": {},
          "output_type": "execute_result"
        }
      ],
      "source": [
        "print(\"On exécute la requête:\", query)\n",
        "\n",
        "duckdb_result = run_query(query, db)\n",
        "sqlite_result = run_query(query, sqlite)\n",
        "\n",
        "print(\"Les durées d'exécution sont: \")\n",
        "\n",
        "pd.DataFrame.from_dict({\n",
        "    'DuckDB': [duckdb_result],\n",
        "    'SQLite': [sqlite_result]\n",
        "})"
      ]
    },
    {
      "cell_type": "markdown",
      "metadata": {
        "id": "tMWkW_JzdsQB"
      },
      "source": [
        "On constate que DuckDB est environ 20 fois plus rapide que SQLite pour cette requête."
      ]
    },
    {
      "cell_type": "markdown",
      "metadata": {
        "id": "SXShf1yuyqOL"
      },
      "source": [
        "Afin de montrer l'efficacité de l'optimiseur de requêtes,\n",
        "on demande à DuckDB d'exécuter la requête sans l'optimiser.\n",
        "\n",
        "La commande  `PRAGMA disable_optimizer` désactive l'optimiseur de requête.\n",
        "Puis on re-exécute la requête pour mesurer sa durée."
      ]
    },
    {
      "cell_type": "code",
      "execution_count": 17,
      "metadata": {
        "colab": {
          "base_uri": "https://localhost:8080/",
          "height": 80
        },
        "id": "0sxFm5dSyqOL",
        "outputId": "7ee9e492-5c22-4fb3-8b8b-1f436cbbc23d"
      },
      "outputs": [
        {
          "data": {
            "text/html": [
              "<div>\n",
              "<style scoped>\n",
              "    .dataframe tbody tr th:only-of-type {\n",
              "        vertical-align: middle;\n",
              "    }\n",
              "\n",
              "    .dataframe tbody tr th {\n",
              "        vertical-align: top;\n",
              "    }\n",
              "\n",
              "    .dataframe thead th {\n",
              "        text-align: right;\n",
              "    }\n",
              "</style>\n",
              "<table border=\"1\" class=\"dataframe\">\n",
              "  <thead>\n",
              "    <tr style=\"text-align: right;\">\n",
              "      <th></th>\n",
              "      <th>DuckDB</th>\n",
              "      <th>DuckDB (sans optimisation de requête)</th>\n",
              "      <th>SQLite</th>\n",
              "    </tr>\n",
              "  </thead>\n",
              "  <tbody>\n",
              "    <tr>\n",
              "      <th>0</th>\n",
              "      <td>7ms</td>\n",
              "      <td>43ms</td>\n",
              "      <td>19ms</td>\n",
              "    </tr>\n",
              "  </tbody>\n",
              "</table>\n",
              "</div>"
            ],
            "text/plain": [
              "  DuckDB DuckDB (sans optimisation de requête) SQLite\n",
              "0    7ms                                  43ms   19ms"
            ]
          },
          "execution_count": 17,
          "metadata": {},
          "output_type": "execute_result"
        }
      ],
      "source": [
        "db.execute(\"PRAGMA disable_optimizer\")\n",
        "duckdb_unoptimized_result = run_query(query)\n",
        "db.execute(\"PRAGMA enable_optimizer\")\n",
        "\n",
        "pd.DataFrame.from_dict({\n",
        "    'DuckDB': [duckdb_result],\n",
        "    'DuckDB (sans optimisation de requête)': [duckdb_unoptimized_result],\n",
        "    'SQLite': [sqlite_result]\n",
        "})"
      ]
    },
    {
      "cell_type": "markdown",
      "metadata": {
        "id": "WzOQOpOYhPRg"
      },
      "source": [
        "On constate que la requête sans optimisation s'exécute beaucoup plus lentement (durée presque 5 fois plus longue!) que celle optimisée."
      ]
    },
    {
      "cell_type": "markdown",
      "metadata": {
        "id": "mdJR7VZAyqOL"
      },
      "source": [
        "# Plan d'une requête\n",
        "L'écart de durée entre la requête optimisée et celle non optimisée vient du fait qu'elles ont des plans d'exécution différents\n",
        "\n",
        "On peut visualiser le **plan** d'exécution d'une requête en préfixant la requête par `EXPLAIN`.\n",
        "\n",
        "La commande `EXPLAIN` ne fait qu'afficher le plan d'exécution ; elle n'exécute **pas** la requête.\n",
        "\n",
        "Le plan affiché est appelé *plan physique* car il indique pour chaque opérateur du plan, le nom de l'algorithme utilisé:\n",
        "*   HASH_GROUP_BY : regroupement par hachage puis agrégation\n",
        "*   HASH_JOIN : jointure par hachage\n",
        "*   FILTER : sélection en pipeline\n",
        "*   SEQ_SCAN : lecture séquentielle d'une table\n",
        "\n",
        "De plus le plan indique la cardinalité estimée **EC** pour certains opérateurs, en particulier pour les sélections et les jointures."
      ]
    },
    {
      "cell_type": "code",
      "execution_count": 18,
      "metadata": {
        "colab": {
          "base_uri": "https://localhost:8080/"
        },
        "id": "sSWVmQmqyqOL",
        "outputId": "ded43ef1-6181-4ac4-aaf9-e56c98c6a4ff"
      },
      "outputs": [
        {
          "name": "stdout",
          "output_type": "stream",
          "text": [
            "\n",
            "SELECT\n",
            "    o_shippriority, count(*) as nb\n",
            "FROM\n",
            "    customer\n",
            "    JOIN orders ON (c_custkey=o_custkey)\n",
            "    JOIN lineitem ON (l_orderkey=o_orderkey)\n",
            "WHERE\n",
            "    c_mktsegment = 'BUILDING'\n",
            "    AND o_orderdate < CAST('1995-03-15' AS date)\n",
            "    AND l_shipdate > CAST('1995-03-15' AS date)\n",
            "GROUP BY\n",
            "    o_shippriority\n",
            "ORDER BY nb desc\n",
            "LIMIT 50;\n",
            "\n",
            "┌───────────────────────────┐                                                          \n",
            "│           TOP_N           │                                                          \n",
            "│   ─ ─ ─ ─ ─ ─ ─ ─ ─ ─ ─   │                                                          \n",
            "│           Top 50          │                                                          \n",
            "│   ─ ─ ─ ─ ─ ─ ─ ─ ─ ─ ─   │                                                          \n",
            "│     count_star() DESC     │                                                          \n",
            "└─────────────┬─────────────┘                                                                                       \n",
            "┌─────────────┴─────────────┐                                                          \n",
            "│         PROJECTION        │                                                          \n",
            "│   ─ ─ ─ ─ ─ ─ ─ ─ ─ ─ ─   │                                                          \n",
            "│__internal_decompress_integ│                                                          \n",
            "│     ral_integer(#0, 0)    │                                                          \n",
            "│             #1            │                                                          \n",
            "└─────────────┬─────────────┘                                                                                       \n",
            "┌─────────────┴─────────────┐                                                          \n",
            "│   PERFECT_HASH_GROUP_BY   │                                                          \n",
            "│   ─ ─ ─ ─ ─ ─ ─ ─ ─ ─ ─   │                                                          \n",
            "│             #0            │                                                          \n",
            "│        count_star()       │                                                          \n",
            "└─────────────┬─────────────┘                                                                                       \n",
            "┌─────────────┴─────────────┐                                                          \n",
            "│         PROJECTION        │                                                          \n",
            "│   ─ ─ ─ ─ ─ ─ ─ ─ ─ ─ ─   │                                                          \n",
            "│       o_shippriority      │                                                          \n",
            "└─────────────┬─────────────┘                                                                                       \n",
            "┌─────────────┴─────────────┐                                                          \n",
            "│         PROJECTION        │                                                          \n",
            "│   ─ ─ ─ ─ ─ ─ ─ ─ ─ ─ ─   │                                                          \n",
            "│             #0            │                                                          \n",
            "│             #1            │                                                          \n",
            "│__internal_compress_integra│                                                          \n",
            "│     l_utinyint(#2, 0)     │                                                          \n",
            "└─────────────┬─────────────┘                                                                                       \n",
            "┌─────────────┴─────────────┐                                                          \n",
            "│         HASH_JOIN         │                                                          \n",
            "│   ─ ─ ─ ─ ─ ─ ─ ─ ─ ─ ─   │                                                          \n",
            "│           INNER           │                                                          \n",
            "│  l_orderkey = o_orderkey  ├──────────────┐                                           \n",
            "│   ─ ─ ─ ─ ─ ─ ─ ─ ─ ─ ─   │              │                                           \n",
            "│          EC: 3136         │              │                                           \n",
            "└─────────────┬─────────────┘              │                                                                        \n",
            "┌─────────────┴─────────────┐┌─────────────┴─────────────┐                             \n",
            "│         SEQ_SCAN          ││         HASH_JOIN         │                             \n",
            "│   ─ ─ ─ ─ ─ ─ ─ ─ ─ ─ ─   ││   ─ ─ ─ ─ ─ ─ ─ ─ ─ ─ ─   │                             \n",
            "│          lineitem         ││           INNER           │                             \n",
            "│   ─ ─ ─ ─ ─ ─ ─ ─ ─ ─ ─   ││   o_custkey = c_custkey   │                             \n",
            "│         l_orderkey        ││   ─ ─ ─ ─ ─ ─ ─ ─ ─ ─ ─   │                             \n",
            "│   ─ ─ ─ ─ ─ ─ ─ ─ ─ ─ ─   ││          EC: 3854         ├──────────────┐              \n",
            "│Filters: l_shipdate>1995-03││                           │              │              \n",
            "│ -15 AND l_shipdate IS NOT ││                           │              │              \n",
            "│            NULL           ││                           │              │              \n",
            "│   ─ ─ ─ ─ ─ ─ ─ ─ ─ ─ ─   ││                           │              │              \n",
            "│         EC: 120114        ││                           │              │              \n",
            "└───────────────────────────┘└─────────────┬─────────────┘              │                                           \n",
            "                             ┌─────────────┴─────────────┐┌─────────────┴─────────────┐\n",
            "                             │         SEQ_SCAN          ││           FILTER          │\n",
            "                             │   ─ ─ ─ ─ ─ ─ ─ ─ ─ ─ ─   ││   ─ ─ ─ ─ ─ ─ ─ ─ ─ ─ ─   │\n",
            "                             │           orders          ││    (c_custkey <= 14999)   │\n",
            "                             │   ─ ─ ─ ─ ─ ─ ─ ─ ─ ─ ─   ││   ─ ─ ─ ─ ─ ─ ─ ─ ─ ─ ─   │\n",
            "                             │         o_custkey         ││          EC: 3000         │\n",
            "                             │         o_orderkey        ││                           │\n",
            "                             │       o_shippriority      ││                           │\n",
            "                             │   ─ ─ ─ ─ ─ ─ ─ ─ ─ ─ ─   ││                           │\n",
            "                             │ Filters: o_orderdate<1995 ││                           │\n",
            "                             │-03-15 AND o_orderdate...  ││                           │\n",
            "                             │            NULL           ││                           │\n",
            "                             │   ─ ─ ─ ─ ─ ─ ─ ─ ─ ─ ─   ││                           │\n",
            "                             │         EC: 30000         ││                           │\n",
            "                             └───────────────────────────┘└─────────────┬─────────────┘                             \n",
            "                                                          ┌─────────────┴─────────────┐\n",
            "                                                          │         SEQ_SCAN          │\n",
            "                                                          │   ─ ─ ─ ─ ─ ─ ─ ─ ─ ─ ─   │\n",
            "                                                          │          customer         │\n",
            "                                                          │   ─ ─ ─ ─ ─ ─ ─ ─ ─ ─ ─   │\n",
            "                                                          │         c_custkey         │\n",
            "                                                          │   ─ ─ ─ ─ ─ ─ ─ ─ ─ ─ ─   │\n",
            "                                                          │   Filters: c_mktsegment   │\n",
            "                                                          │=BUILDING AND c_mktseg...  │\n",
            "                                                          │            NULL           │\n",
            "                                                          │   ─ ─ ─ ─ ─ ─ ─ ─ ─ ─ ─   │\n",
            "                                                          │          EC: 3000         │\n",
            "                                                          └───────────────────────────┘                             \n",
            "\n"
          ]
        }
      ],
      "source": [
        "def explain_query(query):\n",
        "  print(db.execute(\"EXPLAIN \" + query).fetchall()[0][1])\n",
        "\n",
        "print(query)\n",
        "explain_query(query)"
      ]
    },
    {
      "cell_type": "markdown",
      "metadata": {
        "id": "4CV1ob5YeFRi"
      },
      "source": [
        "Remarque : vous pourriez invoquer `PRAGMA explain_output='all'` pour afficher, en plus du plan physique, le plan logique avant son optimisation et le plan logique optimisé, mais ce n'est pas demandé dans ce TP."
      ]
    },
    {
      "cell_type": "markdown",
      "metadata": {
        "id": "Oa2by26CyqOM"
      },
      "source": [
        "# Rapport d'exécution d'un plan\n",
        "\n",
        "On peut afficher un rapport **après** l'exécution d'un plan pour connaitre la quantité de données traitées par chaque opération du plan. On appelle cela le *profil* de l'exécution.\n",
        "\n",
        "La fonction  `run_and_profile_query` active le mode profil afin de sauvegarder les informations de profil dans un fichier.\n",
        "La requête est ensuite exécutée puis les informations de profil produites pendant l'exécution sont affichées.\n",
        "\n",
        "On peut lire dans le profil, pour chaque opérateur, la durée écoulée, le nombre de tuples consommés en entrée ainsi que le nombre de tuples produits pour l'opérateur suivant.\n",
        "\n",
        "Plus spécifiquement, l'opérateur de lecture séquentielle `SEQ_SCAN` (sequential scan) indique le nombre de tuples lus dans une table.\n",
        "L'opérateur `HASH_GROUP_BY` indique le nombre de groupes créés.\n",
        "\n",
        "Remarque: pour les opérateurs qui matérialisent leur sortie, le nombre de tuples produits représente la cardinalité du résultat intermédiaire.\n",
        "\n",
        "Les cardinalités intermédiaires sont importantes car elles peuvent expliquer pourquoi un opérateur a pris beaucoup de temps pour être traité.\n",
        "Dans de nombreuses situations, il est possible de réduire la cardinalité des résultats intermédiaires et modifiant l'ordre des opérations et la façon dont elles sont traitées.\n"
      ]
    },
    {
      "cell_type": "code",
      "execution_count": 19,
      "metadata": {
        "id": "QhP65gAgyqOM"
      },
      "outputs": [],
      "source": [
        "def run_and_profile_query(query):\n",
        "  db.execute(\"PRAGMA enable_profiling\")\n",
        "  db.execute(\"PRAGMA profiling_output='out.log'\")\n",
        "  db.execute(query)\n",
        "  db.execute(\"PRAGMA disable_profiling\")\n",
        "  with open('out.log', 'r') as f:\n",
        "    output = f.read()\n",
        "  print(output)\n",
        "\n",
        "#run_and_profile_query(query)"
      ]
    },
    {
      "cell_type": "markdown",
      "metadata": {
        "id": "TEp2RjWOyqOM"
      },
      "source": [
        "\n",
        "# Exercice 1 : Optimiser un première requête\n",
        "\n",
        "Pour mieux comprendre le fonctionnement de l'optimiseur de requêtes, on propose d'optimiser la requête \"à la main\" en SQL.\n",
        "Pour cela, on désactive l'optimiseur de requêtes avec la commande `PRAGMA disable_optimizer`. Cela signifie que le SGBD va traduire la requête SQL dans un plan qui sera \"le plus proche possible\" de l'ordre des insctructions écrites dans la requête SQL.\n"
      ]
    },
    {
      "cell_type": "markdown",
      "metadata": {
        "id": "NZPyYpaNiTUQ"
      },
      "source": [
        "## Requête à optimiser"
      ]
    },
    {
      "cell_type": "code",
      "execution_count": 20,
      "metadata": {
        "id": "smF-h5iEyqOM"
      },
      "outputs": [],
      "source": [
        "query1_cross_product = \"\"\"\n",
        "SELECT\n",
        "    o_shippriority, count(*) as nb\n",
        "FROM\n",
        "    customer,\n",
        "    orders,\n",
        "    lineitem\n",
        "WHERE\n",
        "    c_custkey=o_custkey\n",
        "    AND l_orderkey=o_orderkey\n",
        "    AND c_mktsegment = 'BUILDING'\n",
        "    AND o_orderdate < CAST('1995-03-15' AS date)\n",
        "    AND l_shipdate > CAST('1995-03-15' AS date)\n",
        "GROUP BY\n",
        "    o_shippriority\n",
        "ORDER BY nb desc\n",
        "LIMIT 50;\n",
        "\"\"\"\n",
        "\n",
        "query2_cross_product = \"\"\"\n",
        "SELECT\n",
        "    l_orderkey,\n",
        "    sum(l_extendedprice * (1 - l_discount)) AS revenue,\n",
        "    o_orderdate,\n",
        "    o_shippriority\n",
        "FROM\n",
        "    customer,\n",
        "    orders,\n",
        "    lineitem\n",
        "WHERE\n",
        "    c_custkey=o_custkey\n",
        "    AND l_orderkey=o_orderkey\n",
        "    AND c_mktsegment = 'BUILDING'\n",
        "    AND o_orderdate < CAST('1995-03-15' AS date)\n",
        "    AND l_shipdate > CAST('1995-03-15' AS date)\n",
        "GROUP BY\n",
        "    l_orderkey,\n",
        "    o_orderdate,\n",
        "    o_shippriority\n",
        "ORDER BY\n",
        "    revenue DESC,\n",
        "    o_orderdate\n",
        "LIMIT 50;\n",
        "\"\"\""
      ]
    },
    {
      "cell_type": "markdown",
      "metadata": {
        "id": "1sjmYhCMlEZN"
      },
      "source": [
        "Afficher le plan de la requête"
      ]
    },
    {
      "cell_type": "code",
      "execution_count": 21,
      "metadata": {
        "colab": {
          "base_uri": "https://localhost:8080/"
        },
        "id": "gxYMIvcXyqOM",
        "outputId": "5c553409-fad3-4cc7-9a24-173e09f968b9"
      },
      "outputs": [
        {
          "name": "stdout",
          "output_type": "stream",
          "text": [
            "┌───────────────────────────┐                                                          \n",
            "│           LIMIT           │                                                          \n",
            "└─────────────┬─────────────┘                                                                                       \n",
            "┌─────────────┴─────────────┐                                                          \n",
            "│          ORDER_BY         │                                                          \n",
            "│   ─ ─ ─ ─ ─ ─ ─ ─ ─ ─ ─   │                                                          \n",
            "│          ORDERS:          │                                                          \n",
            "│     count_star() DESC     │                                                          \n",
            "└─────────────┬─────────────┘                                                                                       \n",
            "┌─────────────┴─────────────┐                                                          \n",
            "│       HASH_GROUP_BY       │                                                          \n",
            "│   ─ ─ ─ ─ ─ ─ ─ ─ ─ ─ ─   │                                                          \n",
            "│             #0            │                                                          \n",
            "│        count_star()       │                                                          \n",
            "└─────────────┬─────────────┘                                                                                       \n",
            "┌─────────────┴─────────────┐                                                          \n",
            "│         PROJECTION        │                                                          \n",
            "│   ─ ─ ─ ─ ─ ─ ─ ─ ─ ─ ─   │                                                          \n",
            "│       o_shippriority      │                                                          \n",
            "└─────────────┬─────────────┘                                                                                       \n",
            "┌─────────────┴─────────────┐                                                          \n",
            "│           FILTER          │                                                          \n",
            "│   ─ ─ ─ ─ ─ ─ ─ ─ ─ ─ ─   │                                                          \n",
            "│  ((c_custkey = o_custkey) │                                                          \n",
            "│ AND (l_orderkey = o_o...  │                                                          \n",
            "│    AND (c_mktsegment =    │                                                          \n",
            "│'BUILDING') AND (o_ord...  │                                                          \n",
            "│ CAST('1995-03-15' AS ...  │                                                          \n",
            "│ AND (l_shipdate > CAS...  │                                                          \n",
            "│     -03-15' AS DATE)))    │                                                          \n",
            "│   ─ ─ ─ ─ ─ ─ ─ ─ ─ ─ ─   │                                                          \n",
            "│         EC: 600572        │                                                          \n",
            "└─────────────┬─────────────┘                                                                                       \n",
            "┌─────────────┴─────────────┐                                                          \n",
            "│       CROSS_PRODUCT       ├───────────────────────────────────────────┐              \n",
            "└─────────────┬─────────────┘                                           │                                           \n",
            "┌─────────────┴─────────────┐                             ┌─────────────┴─────────────┐\n",
            "│       CROSS_PRODUCT       │                             │         SEQ_SCAN          │\n",
            "│                           │                             │   ─ ─ ─ ─ ─ ─ ─ ─ ─ ─ ─   │\n",
            "│                           │                             │          lineitem         │\n",
            "│                           ├──────────────┐              │   ─ ─ ─ ─ ─ ─ ─ ─ ─ ─ ─   │\n",
            "│                           │              │              │   ─ ─ ─ ─ ─ ─ ─ ─ ─ ─ ─   │\n",
            "│                           │              │              │         EC: 600572        │\n",
            "└─────────────┬─────────────┘              │              └───────────────────────────┘                             \n",
            "┌─────────────┴─────────────┐┌─────────────┴─────────────┐                             \n",
            "│         SEQ_SCAN          ││         SEQ_SCAN          │                             \n",
            "│   ─ ─ ─ ─ ─ ─ ─ ─ ─ ─ ─   ││   ─ ─ ─ ─ ─ ─ ─ ─ ─ ─ ─   │                             \n",
            "│          customer         ││           orders          │                             \n",
            "│   ─ ─ ─ ─ ─ ─ ─ ─ ─ ─ ─   ││   ─ ─ ─ ─ ─ ─ ─ ─ ─ ─ ─   │                             \n",
            "│   ─ ─ ─ ─ ─ ─ ─ ─ ─ ─ ─   ││   ─ ─ ─ ─ ─ ─ ─ ─ ─ ─ ─   │                             \n",
            "│         EC: 15000         ││         EC: 150000        │                             \n",
            "└───────────────────────────┘└───────────────────────────┘                                                          \n",
            "\n"
          ]
        }
      ],
      "source": [
        "db.execute(\"PRAGMA disable_optimizer\")\n",
        "explain_query(query1_cross_product)\n",
        "\n",
        "# Note: ne pas executer cette requête car son plan est tres lent!"
      ]
    },
    {
      "cell_type": "code",
      "execution_count": 22,
      "metadata": {
        "colab": {
          "base_uri": "https://localhost:8080/"
        },
        "id": "QSjAWzaAmSAa",
        "outputId": "97f44995-4b5c-4979-e051-8b251c153e0c"
      },
      "outputs": [
        {
          "name": "stdout",
          "output_type": "stream",
          "text": [
            "┌───────────────────────────┐                                                          \n",
            "│           LIMIT           │                                                          \n",
            "└─────────────┬─────────────┘                                                                                       \n",
            "┌─────────────┴─────────────┐                                                          \n",
            "│          ORDER_BY         │                                                          \n",
            "│   ─ ─ ─ ─ ─ ─ ─ ─ ─ ─ ─   │                                                          \n",
            "│          ORDERS:          │                                                          \n",
            "│       sum((lineitem       │                                                          \n",
            "│.l_extendedprice * (1 ...  │                                                          \n",
            "│    .l_discount))) DESC    │                                                          \n",
            "│   orders.o_orderdate ASC  │                                                          \n",
            "└─────────────┬─────────────┘                                                                                       \n",
            "┌─────────────┴─────────────┐                                                          \n",
            "│         PROJECTION        │                                                          \n",
            "│   ─ ─ ─ ─ ─ ─ ─ ─ ─ ─ ─   │                                                          \n",
            "│         l_orderkey        │                                                          \n",
            "│          revenue          │                                                          \n",
            "│        o_orderdate        │                                                          \n",
            "│       o_shippriority      │                                                          \n",
            "└─────────────┬─────────────┘                                                                                       \n",
            "┌─────────────┴─────────────┐                                                          \n",
            "│       HASH_GROUP_BY       │                                                          \n",
            "│   ─ ─ ─ ─ ─ ─ ─ ─ ─ ─ ─   │                                                          \n",
            "│             #0            │                                                          \n",
            "│             #1            │                                                          \n",
            "│             #2            │                                                          \n",
            "│          sum(#3)          │                                                          \n",
            "└─────────────┬─────────────┘                                                                                       \n",
            "┌─────────────┴─────────────┐                                                          \n",
            "│         PROJECTION        │                                                          \n",
            "│   ─ ─ ─ ─ ─ ─ ─ ─ ─ ─ ─   │                                                          \n",
            "│         l_orderkey        │                                                          \n",
            "│        o_orderdate        │                                                          \n",
            "│       o_shippriority      │                                                          \n",
            "│ (l_extendedprice * (CAST(1│                                                          \n",
            "│     AS DECIMAL(16,2)) -   │                                                          \n",
            "│        l_discount))       │                                                          \n",
            "└─────────────┬─────────────┘                                                                                       \n",
            "┌─────────────┴─────────────┐                                                          \n",
            "│           FILTER          │                                                          \n",
            "│   ─ ─ ─ ─ ─ ─ ─ ─ ─ ─ ─   │                                                          \n",
            "│  ((c_custkey = o_custkey) │                                                          \n",
            "│ AND (l_orderkey = o_o...  │                                                          \n",
            "│    AND (c_mktsegment =    │                                                          \n",
            "│'BUILDING') AND (o_ord...  │                                                          \n",
            "│ CAST('1995-03-15' AS ...  │                                                          \n",
            "│ AND (l_shipdate > CAS...  │                                                          \n",
            "│     -03-15' AS DATE)))    │                                                          \n",
            "│   ─ ─ ─ ─ ─ ─ ─ ─ ─ ─ ─   │                                                          \n",
            "│         EC: 600572        │                                                          \n",
            "└─────────────┬─────────────┘                                                                                       \n",
            "┌─────────────┴─────────────┐                                                          \n",
            "│       CROSS_PRODUCT       ├───────────────────────────────────────────┐              \n",
            "└─────────────┬─────────────┘                                           │                                           \n",
            "┌─────────────┴─────────────┐                             ┌─────────────┴─────────────┐\n",
            "│       CROSS_PRODUCT       │                             │         SEQ_SCAN          │\n",
            "│                           │                             │   ─ ─ ─ ─ ─ ─ ─ ─ ─ ─ ─   │\n",
            "│                           │                             │          lineitem         │\n",
            "│                           ├──────────────┐              │   ─ ─ ─ ─ ─ ─ ─ ─ ─ ─ ─   │\n",
            "│                           │              │              │   ─ ─ ─ ─ ─ ─ ─ ─ ─ ─ ─   │\n",
            "│                           │              │              │         EC: 600572        │\n",
            "└─────────────┬─────────────┘              │              └───────────────────────────┘                             \n",
            "┌─────────────┴─────────────┐┌─────────────┴─────────────┐                             \n",
            "│         SEQ_SCAN          ││         SEQ_SCAN          │                             \n",
            "│   ─ ─ ─ ─ ─ ─ ─ ─ ─ ─ ─   ││   ─ ─ ─ ─ ─ ─ ─ ─ ─ ─ ─   │                             \n",
            "│          customer         ││           orders          │                             \n",
            "│   ─ ─ ─ ─ ─ ─ ─ ─ ─ ─ ─   ││   ─ ─ ─ ─ ─ ─ ─ ─ ─ ─ ─   │                             \n",
            "│   ─ ─ ─ ─ ─ ─ ─ ─ ─ ─ ─   ││   ─ ─ ─ ─ ─ ─ ─ ─ ─ ─ ─   │                             \n",
            "│         EC: 15000         ││         EC: 150000        │                             \n",
            "└───────────────────────────┘└───────────────────────────┘                                                          \n",
            "\n"
          ]
        }
      ],
      "source": [
        "explain_query(query2_cross_product)"
      ]
    },
    {
      "cell_type": "markdown",
      "metadata": {
        "id": "-xd10hmPyqON"
      },
      "source": [
        "On voit que le plan ne contient aucune jointure mais des produits cartésiens suivis de sélections. Or les produits cartésiens sont coûteux à calculer!\n",
        "\n",
        "On évite d'exécuter cette requête pendant le TP car cela  prendrait trop de temps...\n",
        "\n"
      ]
    },
    {
      "cell_type": "markdown",
      "metadata": {
        "id": "GCqE6WSIoMWR"
      },
      "source": [
        "On remplace les produits cartésiens par des jointures en ajoutant  des `JOIN` dans la clause `FROM` (comme dans query1).\n",
        "\n",
        "Cela rend la requête plus rapide et on peut l'exécuter pour mesurer sa durée."
      ]
    },
    {
      "cell_type": "code",
      "execution_count": 23,
      "metadata": {
        "colab": {
          "base_uri": "https://localhost:8080/"
        },
        "id": "paCc0Ah1yqOO",
        "outputId": "017d1cd6-5e12-4d12-91cc-675ca8273d81"
      },
      "outputs": [
        {
          "name": "stdout",
          "output_type": "stream",
          "text": [
            "┌───────────────────────────┐                                                          \n",
            "│           LIMIT           │                                                          \n",
            "└─────────────┬─────────────┘                                                                                       \n",
            "┌─────────────┴─────────────┐                                                          \n",
            "│          ORDER_BY         │                                                          \n",
            "│   ─ ─ ─ ─ ─ ─ ─ ─ ─ ─ ─   │                                                          \n",
            "│          ORDERS:          │                                                          \n",
            "│     count_star() DESC     │                                                          \n",
            "└─────────────┬─────────────┘                                                                                       \n",
            "┌─────────────┴─────────────┐                                                          \n",
            "│       HASH_GROUP_BY       │                                                          \n",
            "│   ─ ─ ─ ─ ─ ─ ─ ─ ─ ─ ─   │                                                          \n",
            "│             #0            │                                                          \n",
            "│        count_star()       │                                                          \n",
            "└─────────────┬─────────────┘                                                                                       \n",
            "┌─────────────┴─────────────┐                                                          \n",
            "│         PROJECTION        │                                                          \n",
            "│   ─ ─ ─ ─ ─ ─ ─ ─ ─ ─ ─   │                                                          \n",
            "│       o_shippriority      │                                                          \n",
            "└─────────────┬─────────────┘                                                                                       \n",
            "┌─────────────┴─────────────┐                                                          \n",
            "│           FILTER          │                                                          \n",
            "│   ─ ─ ─ ─ ─ ─ ─ ─ ─ ─ ─   │                                                          \n",
            "│((c_mktsegment = 'BUILDING'│                                                          \n",
            "│ ) AND (o_orderdate < CAST(│                                                          \n",
            "│'1995-03-15' AS DATE)) AND │                                                          \n",
            "│(l_shipdate > CAST('1995-03│                                                          \n",
            "│      -15' AS DATE)))      │                                                          \n",
            "│   ─ ─ ─ ─ ─ ─ ─ ─ ─ ─ ─   │                                                          \n",
            "│         EC: 600572        │                                                          \n",
            "└─────────────┬─────────────┘                                                                                       \n",
            "┌─────────────┴─────────────┐                                                          \n",
            "│         HASH_JOIN         │                                                          \n",
            "│   ─ ─ ─ ─ ─ ─ ─ ─ ─ ─ ─   │                                                          \n",
            "│           INNER           │                                                          \n",
            "│  o_orderkey = l_orderkey  ├───────────────────────────────────────────┐              \n",
            "│   ─ ─ ─ ─ ─ ─ ─ ─ ─ ─ ─   │                                           │              \n",
            "│         EC: 600572        │                                           │              \n",
            "└─────────────┬─────────────┘                                           │                                           \n",
            "┌─────────────┴─────────────┐                             ┌─────────────┴─────────────┐\n",
            "│         HASH_JOIN         │                             │         SEQ_SCAN          │\n",
            "│   ─ ─ ─ ─ ─ ─ ─ ─ ─ ─ ─   │                             │   ─ ─ ─ ─ ─ ─ ─ ─ ─ ─ ─   │\n",
            "│           INNER           │                             │          lineitem         │\n",
            "│   c_custkey = o_custkey   ├──────────────┐              │   ─ ─ ─ ─ ─ ─ ─ ─ ─ ─ ─   │\n",
            "│   ─ ─ ─ ─ ─ ─ ─ ─ ─ ─ ─   │              │              │   ─ ─ ─ ─ ─ ─ ─ ─ ─ ─ ─   │\n",
            "│         EC: 150000        │              │              │         EC: 600572        │\n",
            "└─────────────┬─────────────┘              │              └───────────────────────────┘                             \n",
            "┌─────────────┴─────────────┐┌─────────────┴─────────────┐                             \n",
            "│         SEQ_SCAN          ││         SEQ_SCAN          │                             \n",
            "│   ─ ─ ─ ─ ─ ─ ─ ─ ─ ─ ─   ││   ─ ─ ─ ─ ─ ─ ─ ─ ─ ─ ─   │                             \n",
            "│          customer         ││           orders          │                             \n",
            "│   ─ ─ ─ ─ ─ ─ ─ ─ ─ ─ ─   ││   ─ ─ ─ ─ ─ ─ ─ ─ ─ ─ ─   │                             \n",
            "│   ─ ─ ─ ─ ─ ─ ─ ─ ─ ─ ─   ││   ─ ─ ─ ─ ─ ─ ─ ─ ─ ─ ─   │                             \n",
            "│         EC: 15000         ││         EC: 150000        │                             \n",
            "└───────────────────────────┘└───────────────────────────┘                                                          \n",
            "\n",
            "┌─────────────────────────────────────┐\n",
            "│┌───────────────────────────────────┐│\n",
            "││    Query Profiling Information    ││\n",
            "│└───────────────────────────────────┘│\n",
            "└─────────────────────────────────────┘\n",
            " SELECT     o_shippriority, count(*) as nb FROM     customer     JOIN orders ON (c_custkey=o_custkey)     JOIN lineitem ON (l_orderkey=o_orderkey) WHERE     c_mktsegment = 'BUILDING'     AND o_orderdate < CAST('1995-03-15' AS date)     AND l_shipdate > CAST('1995-03-15' AS date) GROUP BY     o_shippriority ORDER BY nb desc LIMIT 50; \n",
            "┌─────────────────────────────────────┐\n",
            "│┌───────────────────────────────────┐│\n",
            "││        Total Time: 0.0328s        ││\n",
            "│└───────────────────────────────────┘│\n",
            "└─────────────────────────────────────┘\n",
            "┌───────────────────────────┐                                                          \n",
            "│           LIMIT           │                                                          \n",
            "│   ─ ─ ─ ─ ─ ─ ─ ─ ─ ─ ─   │                                                          \n",
            "│             0             │                                                          \n",
            "│          (0.00s)          │                                                          \n",
            "└─────────────┬─────────────┘                                                                                       \n",
            "┌─────────────┴─────────────┐                                                          \n",
            "│          ORDER_BY         │                                                          \n",
            "│   ─ ─ ─ ─ ─ ─ ─ ─ ─ ─ ─   │                                                          \n",
            "│          ORDERS:          │                                                          \n",
            "│     count_star() DESC     │                                                          \n",
            "│   ─ ─ ─ ─ ─ ─ ─ ─ ─ ─ ─   │                                                          \n",
            "│             1             │                                                          \n",
            "│          (0.00s)          │                                                          \n",
            "└─────────────┬─────────────┘                                                                                       \n",
            "┌─────────────┴─────────────┐                                                          \n",
            "│       HASH_GROUP_BY       │                                                          \n",
            "│   ─ ─ ─ ─ ─ ─ ─ ─ ─ ─ ─   │                                                          \n",
            "│             #0            │                                                          \n",
            "│        count_star()       │                                                          \n",
            "│   ─ ─ ─ ─ ─ ─ ─ ─ ─ ─ ─   │                                                          \n",
            "│             1             │                                                          \n",
            "│          (0.00s)          │                                                          \n",
            "└─────────────┬─────────────┘                                                                                       \n",
            "┌─────────────┴─────────────┐                                                          \n",
            "│         PROJECTION        │                                                          \n",
            "│   ─ ─ ─ ─ ─ ─ ─ ─ ─ ─ ─   │                                                          \n",
            "│       o_shippriority      │                                                          \n",
            "│   ─ ─ ─ ─ ─ ─ ─ ─ ─ ─ ─   │                                                          \n",
            "│            3321           │                                                          \n",
            "│          (0.00s)          │                                                          \n",
            "└─────────────┬─────────────┘                                                                                       \n",
            "┌─────────────┴─────────────┐                                                          \n",
            "│           FILTER          │                                                          \n",
            "│   ─ ─ ─ ─ ─ ─ ─ ─ ─ ─ ─   │                                                          \n",
            "│((c_mktsegment = 'BUILDING'│                                                          \n",
            "│ ) AND (o_orderdate < CAST(│                                                          \n",
            "│'1995-03-15' AS DATE)) AND │                                                          \n",
            "│(l_shipdate > CAST('1995-03│                                                          \n",
            "│      -15' AS DATE)))      │                                                          \n",
            "│   ─ ─ ─ ─ ─ ─ ─ ─ ─ ─ ─   │                                                          \n",
            "│         EC: 600572        │                                                          \n",
            "│   ─ ─ ─ ─ ─ ─ ─ ─ ─ ─ ─   │                                                          \n",
            "│            3321           │                                                          \n",
            "│          (0.01s)          │                                                          \n",
            "└─────────────┬─────────────┘                                                                                       \n",
            "┌─────────────┴─────────────┐                                                          \n",
            "│         HASH_JOIN         │                                                          \n",
            "│   ─ ─ ─ ─ ─ ─ ─ ─ ─ ─ ─   │                                                          \n",
            "│           INNER           │                                                          \n",
            "│  o_orderkey = l_orderkey  │                                                          \n",
            "│   ─ ─ ─ ─ ─ ─ ─ ─ ─ ─ ─   ├───────────────────────────────────────────┐              \n",
            "│         EC: 600572        │                                           │              \n",
            "│   ─ ─ ─ ─ ─ ─ ─ ─ ─ ─ ─   │                                           │              \n",
            "│           600572          │                                           │              \n",
            "│          (0.02s)          │                                           │              \n",
            "└─────────────┬─────────────┘                                           │                                           \n",
            "┌─────────────┴─────────────┐                             ┌─────────────┴─────────────┐\n",
            "│         HASH_JOIN         │                             │         SEQ_SCAN          │\n",
            "│   ─ ─ ─ ─ ─ ─ ─ ─ ─ ─ ─   │                             │   ─ ─ ─ ─ ─ ─ ─ ─ ─ ─ ─   │\n",
            "│           INNER           │                             │          lineitem         │\n",
            "│   c_custkey = o_custkey   │                             │   ─ ─ ─ ─ ─ ─ ─ ─ ─ ─ ─   │\n",
            "│   ─ ─ ─ ─ ─ ─ ─ ─ ─ ─ ─   ├──────────────┐              │   ─ ─ ─ ─ ─ ─ ─ ─ ─ ─ ─   │\n",
            "│         EC: 150000        │              │              │         EC: 600572        │\n",
            "│   ─ ─ ─ ─ ─ ─ ─ ─ ─ ─ ─   │              │              │   ─ ─ ─ ─ ─ ─ ─ ─ ─ ─ ─   │\n",
            "│           150000          │              │              │           600572          │\n",
            "│          (0.01s)          │              │              │          (0.00s)          │\n",
            "└─────────────┬─────────────┘              │              └───────────────────────────┘                             \n",
            "┌─────────────┴─────────────┐┌─────────────┴─────────────┐                             \n",
            "│         SEQ_SCAN          ││         SEQ_SCAN          │                             \n",
            "│   ─ ─ ─ ─ ─ ─ ─ ─ ─ ─ ─   ││   ─ ─ ─ ─ ─ ─ ─ ─ ─ ─ ─   │                             \n",
            "│          customer         ││           orders          │                             \n",
            "│   ─ ─ ─ ─ ─ ─ ─ ─ ─ ─ ─   ││   ─ ─ ─ ─ ─ ─ ─ ─ ─ ─ ─   │                             \n",
            "│   ─ ─ ─ ─ ─ ─ ─ ─ ─ ─ ─   ││   ─ ─ ─ ─ ─ ─ ─ ─ ─ ─ ─   │                             \n",
            "│         EC: 15000         ││         EC: 150000        │                             \n",
            "│   ─ ─ ─ ─ ─ ─ ─ ─ ─ ─ ─   ││   ─ ─ ─ ─ ─ ─ ─ ─ ─ ─ ─   │                             \n",
            "│           15000           ││           150000          │                             \n",
            "│          (0.00s)          ││          (0.00s)          │                             \n",
            "└───────────────────────────┘└───────────────────────────┘                                                          \n",
            "\n"
          ]
        }
      ],
      "source": [
        "query_join = \"\"\"\n",
        "SELECT\n",
        "    o_shippriority, count(*) as nb\n",
        "FROM\n",
        "    customer\n",
        "    JOIN orders ON (c_custkey=o_custkey)\n",
        "    JOIN lineitem ON (l_orderkey=o_orderkey)\n",
        "WHERE\n",
        "    c_mktsegment = 'BUILDING'\n",
        "    AND o_orderdate < CAST('1995-03-15' AS date)\n",
        "    AND l_shipdate > CAST('1995-03-15' AS date)\n",
        "GROUP BY\n",
        "    o_shippriority\n",
        "ORDER BY nb desc\n",
        "LIMIT 50;\n",
        "\"\"\"\n",
        "\n",
        "explain_query(query_join)\n",
        "run_query(query_join)\n",
        "run_and_profile_query(query_join)"
      ]
    },
    {
      "cell_type": "markdown",
      "metadata": {
        "id": "F-y-9bozyqOO"
      },
      "source": [
        "## a) Traiter les sélections avant les jointures\n",
        "\n",
        "Proposer d'autres écritures SQL équivalentes de la requête pour qu'elle soit traitée encore plus rapidement.\n",
        "\n",
        "Utiliser des requêtes imbriquées pour pousser (ou non) les sélections et les projections.\n",
        "\n",
        "Vérifier que la requête proposées est bien équivalente à la requête initiale\n",
        "(avoir le même résultat est une condition nécessaire).\n",
        "\n"
      ]
    },
    {
      "cell_type": "code",
      "execution_count": 53,
      "metadata": {
        "colab": {
          "base_uri": "https://localhost:8080/",
          "height": 1000
        },
        "id": "R1C1YQBRyqOO",
        "outputId": "10df4b84-1fcb-47ea-eb83-f42cfea3eeb1"
      },
      "outputs": [
        {
          "data": {
            "text/plain": [
              "'52ms'"
            ]
          },
          "execution_count": 53,
          "metadata": {},
          "output_type": "execute_result"
        }
      ],
      "source": [
        "query_join_2 = \"\"\"\n",
        "SELECT\n",
        "    l_orderkey,\n",
        "    sum(l_extendedprice * (1 - l_discount)) AS revenue,\n",
        "    o_orderdate,\n",
        "    o_shippriority\n",
        "FROM\n",
        "    customer\n",
        "    JOIN orders ON (c_custkey=o_custkey)\n",
        "    JOIN lineitem ON (l_orderkey=o_orderkey)\n",
        "WHERE\n",
        "    c_mktsegment = 'BUILDING'\n",
        "    AND o_orderdate < CAST('1995-03-15' AS date)\n",
        "    AND l_shipdate > CAST('1995-03-15' AS date)\n",
        "GROUP BY\n",
        "    l_orderkey,\n",
        "    o_orderdate,\n",
        "    o_shippriority\n",
        "ORDER BY\n",
        "    revenue DESC,\n",
        "    o_orderdate\n",
        "LIMIT 50;\n",
        "\"\"\"\n",
        "\n",
        "\n",
        "run_query(query_join_2)\n",
        "# run_and_profile_query(query_join_2)"
      ]
    },
    {
      "cell_type": "markdown",
      "metadata": {
        "id": "3dU25DR9i9O9"
      },
      "source": [
        "## b) Ordre des jointures\n",
        "\n",
        "On peut voir que les tables sont jointes dans l'ordre Order,Customer, Lineitem\n",
        "\n",
        "Re-ecrire la requête pour que les tables ne soient pas jointes dans des ordres différents. Est ce que cela change la durée de la requête ?"
      ]
    },
    {
      "cell_type": "code",
      "execution_count": 54,
      "metadata": {
        "colab": {
          "base_uri": "https://localhost:8080/"
        },
        "id": "SwHAgRGJmSAa",
        "outputId": "bf58c57f-d333-4e9b-d785-c3ced147c3aa"
      },
      "outputs": [
        {
          "data": {
            "text/plain": [
              "'19ms'"
            ]
          },
          "execution_count": 54,
          "metadata": {},
          "output_type": "execute_result"
        }
      ],
      "source": [
        "query_join_3 = \"\"\"\n",
        "SELECT\n",
        "    l_orderkey,\n",
        "    sum(l_extendedprice * (1 - l_discount)) AS revenue,\n",
        "    o_orderdate,\n",
        "    o_shippriority\n",
        "FROM\n",
        "    lineitem\n",
        "    JOIN orders ON (l_orderkey=o_orderkey)\n",
        "    JOIN customer ON (o_custkey=c_custkey)\n",
        "WHERE\n",
        "    c_mktsegment = 'BUILDING'\n",
        "    AND o_orderdate < CAST('1995-03-15' AS date)\n",
        "    AND l_shipdate > CAST('1995-03-15' AS date)\n",
        "GROUP BY\n",
        "    l_orderkey,\n",
        "    o_orderdate,\n",
        "    o_shippriority\n",
        "ORDER BY\n",
        "    revenue DESC,\n",
        "    o_orderdate\n",
        "LIMIT 50;\n",
        "\"\"\"\n",
        "\n",
        "run_query(query_join_3)"
      ]
    },
    {
      "cell_type": "markdown",
      "metadata": {
        "id": "Uspop7-Ijnh1"
      },
      "source": [
        "## c) Index\n",
        "\n",
        "Créer des index et montrer si cela a un effet sur la durée de la requête."
      ]
    },
    {
      "cell_type": "code",
      "execution_count": 26,
      "metadata": {
        "id": "C2d412zyjp3e"
      },
      "outputs": [],
      "source": [
        "# Créer des index et montrer si cela a un effet sur la durée de la requête.\n",
        "def create_index(table, column):\n",
        "    db.execute(f\"CREATE INDEX idx_{table}_{column} ON {table}({column})\")\n",
        "\n",
        "def del_all_index(list_index):\n",
        "  for table, column in list_index:\n",
        "    db.execute(f\"DROP INDEX IF EXISTS idx_{table}_{column}\")\n",
        "\n",
        "\n",
        "## 创建索引\n",
        "del_all_index([(\"customer\", \"c_custkey\"),\n",
        "               (\"region\", \"r_regionkey\"),\n",
        "               (\"nation\", \"n_regionkey\"),\n",
        "               (\"supplier\", \"s_nationkey\"),\n",
        "               (\"customer\", \"c_nationkey\"),\n",
        "               (\"orders\", \"o_custkey\"),\n",
        "               (\"lineitem\", \"l_orderkey\"),\n",
        "               (\"lineitem\", \"l_shipdate\")])\n",
        "create_index(\"customer\", \"c_custkey\")\n",
        "create_index(\"region\", \"r_regionkey\")\n",
        "create_index(\"nation\", \"n_regionkey\")\n",
        "create_index(\"supplier\", \"s_nationkey\")\n",
        "create_index(\"customer\", \"c_nationkey\")\n",
        "create_index(\"orders\", \"o_custkey\")\n",
        "create_index(\"lineitem\", \"l_shipdate\")"
      ]
    },
    {
      "cell_type": "markdown",
      "metadata": {
        "id": "PaWu2U-PyqOP"
      },
      "source": [
        "# Exercice 2 : Optimiser les requêtes TPCH\n",
        "\n",
        "Optimiser chaque requête de TPC-H.\n",
        "Vous pouvez les obtenir avec `SELECT * FROM tpch_queries()`\n"
      ]
    },
    {
      "cell_type": "code",
      "execution_count": 27,
      "metadata": {
        "colab": {
          "base_uri": "https://localhost:8080/"
        },
        "id": "PYymZpUFvVZb",
        "outputId": "c54c2b91-bb4e-4c17-d153-f832e5a146cd"
      },
      "outputs": [
        {
          "name": "stdout",
          "output_type": "stream",
          "text": [
            "### requete  1 :\n",
            "SELECT\n",
            "    l_returnflag,\n",
            "    l_linestatus,\n",
            "    sum(l_quantity) AS sum_qty,\n",
            "    sum(l_extendedprice) AS sum_base_price,\n",
            "    sum(l_extendedprice * (1 - l_discount)) AS sum_disc_price,\n",
            "    sum(l_extendedprice * (1 - l_discount) * (1 + l_tax)) AS sum_charge,\n",
            "    avg(l_quantity) AS avg_qty,\n",
            "    avg(l_extendedprice) AS avg_price,\n",
            "    avg(l_discount) AS avg_disc,\n",
            "    count(*) AS count_order\n",
            "FROM\n",
            "    lineitem\n",
            "WHERE\n",
            "    l_shipdate <= CAST('1998-09-02' AS date)\n",
            "GROUP BY\n",
            "    l_returnflag,\n",
            "    l_linestatus\n",
            "ORDER BY\n",
            "    l_returnflag,\n",
            "    l_linestatus;\n",
            "\n",
            "### requete  2 :\n",
            "SELECT\n",
            "    s_acctbal,\n",
            "    s_name,\n",
            "    n_name,\n",
            "    p_partkey,\n",
            "    p_mfgr,\n",
            "    s_address,\n",
            "    s_phone,\n",
            "    s_comment\n",
            "FROM\n",
            "    part,\n",
            "    supplier,\n",
            "    partsupp,\n",
            "    nation,\n",
            "    region\n",
            "WHERE\n",
            "    p_partkey = ps_partkey\n",
            "    AND s_suppkey = ps_suppkey\n",
            "    AND p_size = 15\n",
            "    AND p_type LIKE '%BRASS'\n",
            "    AND s_nationkey = n_nationkey\n",
            "    AND n_regionkey = r_regionkey\n",
            "    AND r_name = 'EUROPE'\n",
            "    AND ps_supplycost = (\n",
            "        SELECT\n",
            "            min(ps_supplycost)\n",
            "        FROM\n",
            "            partsupp,\n",
            "            supplier,\n",
            "            nation,\n",
            "            region\n",
            "        WHERE\n",
            "            p_partkey = ps_partkey\n",
            "            AND s_suppkey = ps_suppkey\n",
            "            AND s_nationkey = n_nationkey\n",
            "            AND n_regionkey = r_regionkey\n",
            "            AND r_name = 'EUROPE')\n",
            "ORDER BY\n",
            "    s_acctbal DESC,\n",
            "    n_name,\n",
            "    s_name,\n",
            "    p_partkey\n",
            "LIMIT 100;\n",
            "\n",
            "### requete  3 :\n",
            "SELECT\n",
            "    l_orderkey,\n",
            "    sum(l_extendedprice * (1 - l_discount)) AS revenue,\n",
            "    o_orderdate,\n",
            "    o_shippriority\n",
            "FROM\n",
            "    customer,\n",
            "    orders,\n",
            "    lineitem\n",
            "WHERE\n",
            "    c_mktsegment = 'BUILDING'\n",
            "    AND c_custkey = o_custkey\n",
            "    AND l_orderkey = o_orderkey\n",
            "    AND o_orderdate < CAST('1995-03-15' AS date)\n",
            "    AND l_shipdate > CAST('1995-03-15' AS date)\n",
            "GROUP BY\n",
            "    l_orderkey,\n",
            "    o_orderdate,\n",
            "    o_shippriority\n",
            "ORDER BY\n",
            "    revenue DESC,\n",
            "    o_orderdate\n",
            "LIMIT 10;\n",
            "\n",
            "### requete  4 :\n",
            "SELECT\n",
            "    o_orderpriority,\n",
            "    count(*) AS order_count\n",
            "FROM\n",
            "    orders\n",
            "WHERE\n",
            "    o_orderdate >= CAST('1993-07-01' AS date)\n",
            "    AND o_orderdate < CAST('1993-10-01' AS date)\n",
            "    AND EXISTS (\n",
            "        SELECT\n",
            "            *\n",
            "        FROM\n",
            "            lineitem\n",
            "        WHERE\n",
            "            l_orderkey = o_orderkey\n",
            "            AND l_commitdate < l_receiptdate)\n",
            "GROUP BY\n",
            "    o_orderpriority\n",
            "ORDER BY\n",
            "    o_orderpriority;\n",
            "\n",
            "### requete  5 :\n",
            "SELECT\n",
            "    n_name,\n",
            "    sum(l_extendedprice * (1 - l_discount)) AS revenue\n",
            "FROM\n",
            "    customer,\n",
            "    orders,\n",
            "    lineitem,\n",
            "    supplier,\n",
            "    nation,\n",
            "    region\n",
            "WHERE\n",
            "    c_custkey = o_custkey\n",
            "    AND l_orderkey = o_orderkey\n",
            "    AND l_suppkey = s_suppkey\n",
            "    AND c_nationkey = s_nationkey\n",
            "    AND s_nationkey = n_nationkey\n",
            "    AND n_regionkey = r_regionkey\n",
            "    AND r_name = 'ASIA'\n",
            "    AND o_orderdate >= CAST('1994-01-01' AS date)\n",
            "    AND o_orderdate < CAST('1995-01-01' AS date)\n",
            "GROUP BY\n",
            "    n_name\n",
            "ORDER BY\n",
            "    revenue DESC;\n",
            "\n"
          ]
        }
      ],
      "source": [
        "queries = db.execute(\"SELECT * FROM tpch_queries()\").fetchall()\n",
        "\n",
        "# for id, sql in queries:\n",
        "for id, sql in queries[:5]:\n",
        "  print('### requete ', id, ':')\n",
        "  print(sql)"
      ]
    },
    {
      "cell_type": "code",
      "execution_count": 59,
      "metadata": {
        "colab": {
          "base_uri": "https://localhost:8080/",
          "height": 35
        },
        "id": "X2xK87zYmSAb",
        "outputId": "7c87ffc0-e5f6-479d-9998-64e7a2fc520c"
      },
      "outputs": [
        {
          "name": "stdout",
          "output_type": "stream",
          "text": [
            "22ms\n",
            "10ms\n"
          ]
        }
      ],
      "source": [
        "### requete 1 :\n",
        "req_TPCH_1=\"\"\"\n",
        "SELECT\n",
        "    l_returnflag,\n",
        "    l_linestatus,\n",
        "    sum(l_quantity) AS sum_qty,\n",
        "    sum(l_extendedprice) AS sum_base_price,\n",
        "    sum(l_extendedprice * (1 - l_discount)) AS sum_disc_price,\n",
        "    sum(l_extendedprice * (1 - l_discount) * (1 + l_tax)) AS sum_charge,\n",
        "    avg(l_quantity) AS avg_qty,\n",
        "    avg(l_extendedprice) AS avg_price,\n",
        "    avg(l_discount) AS avg_disc,\n",
        "    count(*) AS count_order\n",
        "FROM\n",
        "    lineitem\n",
        "WHERE\n",
        "    l_shipdate <= CAST('1998-09-02' AS date)\n",
        "GROUP BY\n",
        "    l_returnflag,\n",
        "    l_linestatus\n",
        "ORDER BY\n",
        "    l_returnflag,\n",
        "    l_linestatus;\n",
        "\"\"\"\n",
        "\n",
        "req_TPCH_1_opt=\"\"\"\n",
        "SELECT\n",
        "    l_returnflag,\n",
        "    l_linestatus,\n",
        "    sum(l_quantity) AS sum_qty,\n",
        "    sum(l_extendedprice) AS sum_base_price,\n",
        "    sum(l_extendedprice * (1 - l_discount)) AS sum_disc_price,\n",
        "    sum(l_extendedprice * (1 - l_discount) * (1 + l_tax)) AS sum_charge,\n",
        "    avg(l_quantity) AS avg_qty,\n",
        "    avg(l_extendedprice) AS avg_price,\n",
        "    avg(l_discount) AS avg_disc,\n",
        "    count(*) AS count_order\n",
        "FROM\n",
        "    (SELECT l_returnflag, l_linestatus, l_quantity, l_extendedprice, l_discount, l_tax, l_quantity FROM lineitem WHERE l_shipdate <= CAST('1998-09-02' AS date))\n",
        "GROUP BY\n",
        "    l_returnflag,\n",
        "    l_linestatus\n",
        "ORDER BY\n",
        "    l_returnflag,\n",
        "    l_linestatus;\n",
        "\"\"\"\n",
        "\n",
        "print(run_query(req_TPCH_1_opt))"
      ]
    },
    {
      "cell_type": "code",
      "execution_count": 104,
      "metadata": {
        "colab": {
          "base_uri": "https://localhost:8080/",
          "height": 35
        },
        "id": "faHHULrtmSAb",
        "outputId": "59f6ca1d-b79f-4b39-ab43-ed0fdfb609e9"
      },
      "outputs": [
        {
          "name": "stdout",
          "output_type": "stream",
          "text": [
            "7ms\n",
            "11ms\n"
          ]
        }
      ],
      "source": [
        "### requete  2 :\n",
        "req_TPCH_2=\"\"\"\n",
        "SELECT\n",
        "    s_acctbal,\n",
        "    s_name,\n",
        "    n_name,\n",
        "    p_partkey,\n",
        "    p_mfgr,\n",
        "    s_address,\n",
        "    s_phone,\n",
        "    s_comment\n",
        "FROM\n",
        "    part,\n",
        "    supplier,\n",
        "    partsupp,\n",
        "    nation,\n",
        "    region\n",
        "WHERE\n",
        "    p_partkey = ps_partkey\n",
        "    AND s_suppkey = ps_suppkey\n",
        "    AND p_size = 15\n",
        "    AND p_type LIKE '%BRASS'\n",
        "    AND s_nationkey = n_nationkey\n",
        "    AND n_regionkey = r_regionkey\n",
        "    AND r_name = 'EUROPE'\n",
        "    AND ps_supplycost = (\n",
        "        SELECT\n",
        "            min(ps_supplycost)\n",
        "        FROM\n",
        "            partsupp,\n",
        "            supplier,\n",
        "            nation,\n",
        "            region\n",
        "        WHERE\n",
        "            p_partkey = ps_partkey\n",
        "            AND s_suppkey = ps_suppkey\n",
        "            AND s_nationkey = n_nationkey\n",
        "            AND n_regionkey = r_regionkey\n",
        "            AND r_name = 'EUROPE')\n",
        "ORDER BY\n",
        "    s_acctbal DESC,\n",
        "    n_name,\n",
        "    s_name,\n",
        "    p_partkey\n",
        "LIMIT 100;\n",
        "\"\"\"\n",
        "\n",
        "req_TPCH_2_opt=\"\"\"\n",
        "SELECT\n",
        "    s_acctbal,\n",
        "    s_name,\n",
        "    n_name,\n",
        "    p_partkey,\n",
        "    p_mfgr,\n",
        "    s_address,\n",
        "    s_phone,\n",
        "    s_comment\n",
        "FROM\n",
        "    partsupp\n",
        "    JOIN (SELECT * FROM part WHERE p_size = 15 AND p_type LIKE '%BRASS') ON (ps_partkey=p_partkey)\n",
        "    JOIN supplier ON (ps_suppkey=s_suppkey)\n",
        "    JOIN nation ON (s_nationkey=n_nationkey)\n",
        "WHERE\n",
        "    ps_supplycost = (\n",
        "        SELECT\n",
        "            min(ps_supplycost)\n",
        "        FROM\n",
        "            (SELECT * FROM region WHERE r_name = 'EUROPE')\n",
        "            JOIN nation ON (r_regionkey=n_regionkey)\n",
        "            JOIN supplier ON (n_nationkey=s_nationkey)\n",
        "            JOIN partsupp ON (s_suppkey=ps_suppkey)\n",
        "    )\n",
        "ORDER BY\n",
        "    s_acctbal DESC,\n",
        "    n_name,\n",
        "    s_name,\n",
        "    p_partkey\n",
        "LIMIT 100;\n",
        "\"\"\"\n",
        "\n",
        "print(run_query(req_TPCH_2_opt))"
      ]
    },
    {
      "cell_type": "code",
      "execution_count": 105,
      "metadata": {
        "colab": {
          "base_uri": "https://localhost:8080/",
          "height": 35
        },
        "id": "i_X56AAJmSAb",
        "outputId": "3106e4a5-c000-439a-f73a-9862060e6c21"
      },
      "outputs": [
        {
          "name": "stdout",
          "output_type": "stream",
          "text": [
            "34ms\n"
          ]
        }
      ],
      "source": [
        "### requete  3 :\n",
        "req_TPCH_3=\"\"\"\n",
        "SELECT\n",
        "    l_orderkey,\n",
        "    sum(l_extendedprice * (1 - l_discount)) AS revenue,\n",
        "    o_orderdate,\n",
        "    o_shippriority\n",
        "FROM\n",
        "    customer,\n",
        "    orders,\n",
        "    lineitem\n",
        "WHERE\n",
        "    c_mktsegment = 'BUILDING'\n",
        "    AND c_custkey = o_custkey\n",
        "    AND l_orderkey = o_orderkey\n",
        "    AND o_orderdate < CAST('1995-03-15' AS date)\n",
        "    AND l_shipdate > CAST('1995-03-15' AS date)\n",
        "GROUP BY\n",
        "    l_orderkey,\n",
        "    o_orderdate,\n",
        "    o_shippriority\n",
        "ORDER BY\n",
        "    revenue DESC,\n",
        "    o_orderdate\n",
        "LIMIT 10;\n",
        "\"\"\"\n",
        "req_TPCH_3_opt=\"\"\"\n",
        "SELECT\n",
        "    l_orderkey,\n",
        "    sum(l_extendedprice * (1 - l_discount)) AS revenue,\n",
        "    o_orderdate,\n",
        "    o_shippriority\n",
        "FROM\n",
        "    (SELECT * from lineitem WHERE l_shipdate > CAST('1995-03-15' AS date))\n",
        "    JOIN (SELECT * FROM orders WHERE o_orderdate < CAST('1995-03-15' AS date)) ON (o_orderkey=l_orderkey)\n",
        "    JOIN (SELECT * FROM customer WHERE c_mktsegment = 'BUILDING') ON (o_custkey=c_custkey)\n",
        "GROUP BY\n",
        "    l_orderkey,\n",
        "    o_orderdate,\n",
        "    o_shippriority\n",
        "ORDER BY\n",
        "    revenue DESC,\n",
        "    o_orderdate\n",
        "LIMIT 10;\n",
        "\"\"\"\n",
        "\n",
        "print(run_query(req_TPCH_3_opt))"
      ]
    },
    {
      "cell_type": "code",
      "execution_count": 106,
      "metadata": {
        "colab": {
          "base_uri": "https://localhost:8080/"
        },
        "id": "gZgIDgBYmSAc",
        "outputId": "2a358abc-6077-4631-9726-f7add149b0e1"
      },
      "outputs": [
        {
          "name": "stdout",
          "output_type": "stream",
          "text": [
            "17ms\n"
          ]
        }
      ],
      "source": [
        "### requete  4 :\n",
        "req_TPCH_4=\"\"\"\n",
        "SELECT\n",
        "    o_orderpriority,\n",
        "    count(*) AS order_count\n",
        "FROM\n",
        "    orders\n",
        "WHERE\n",
        "    o_orderdate >= CAST('1993-07-01' AS date)\n",
        "    AND o_orderdate < CAST('1993-10-01' AS date)\n",
        "    AND EXISTS (\n",
        "        SELECT\n",
        "            *\n",
        "        FROM\n",
        "            lineitem\n",
        "        WHERE\n",
        "            l_orderkey = o_orderkey\n",
        "            AND l_commitdate < l_receiptdate)\n",
        "GROUP BY\n",
        "    o_orderpriority\n",
        "ORDER BY\n",
        "    o_orderpriority;\n",
        "\"\"\"\n",
        "\n",
        "req_TPCH_4_opt=\"\"\"\n",
        "SELECT\n",
        "    o_orderpriority,\n",
        "    count(*) AS order_count\n",
        "FROM\n",
        "    (SELECT * FROM lineitem WHERE l_commitdate < l_receiptdate)\n",
        "    JOIN (SELECT * FROM orders WHERE o_orderdate >= CAST('1993-07-01' AS date) AND o_orderdate < CAST('1993-10-01' AS date)) ON (o_orderkey = l_orderkey)\n",
        "GROUP BY\n",
        "    o_orderpriority\n",
        "ORDER BY\n",
        "    o_orderpriority;\n",
        "\"\"\"\n",
        "\n",
        "print(run_query(req_TPCH_4_opt))"
      ]
    },
    {
      "cell_type": "code",
      "execution_count": 123,
      "metadata": {
        "colab": {
          "base_uri": "https://localhost:8080/",
          "height": 35
        },
        "id": "4zyClsjDmSAc",
        "outputId": "f3ab1101-d0cd-483c-9415-2f8c7c717e24"
      },
      "outputs": [
        {
          "data": {
            "text/plain": [
              "'54ms'"
            ]
          },
          "execution_count": 123,
          "metadata": {},
          "output_type": "execute_result"
        }
      ],
      "source": [
        "### requete  5 :\n",
        "# Optimiser chaque requête de TPC-H.\n",
        "req_TPCH_5=\"\"\"\n",
        "SELECT\n",
        "    n_name,\n",
        "    sum(l_extendedprice * (1 - l_discount)) AS revenue\n",
        "FROM\n",
        "    customer,\n",
        "    orders,\n",
        "    lineitem,\n",
        "    supplier,\n",
        "    nation,\n",
        "    region\n",
        "WHERE\n",
        "    c_custkey = o_custkey\n",
        "    AND l_orderkey = o_orderkey\n",
        "    AND l_suppkey = s_suppkey\n",
        "    AND c_nationkey = s_nationkey\n",
        "    AND s_nationkey = n_nationkey\n",
        "    AND n_regionkey = r_regionkey\n",
        "    AND r_name = 'ASIA'\n",
        "    AND o_orderdate >= CAST('1994-01-01' AS date)\n",
        "    AND o_orderdate < CAST('1995-01-01' AS date)\n",
        "GROUP BY\n",
        "    n_name\n",
        "ORDER BY\n",
        "    revenue DESC;\"\"\"\n",
        "\n",
        "req_TPCH_5_opt=\"\"\"\n",
        "SELECT\n",
        "    n_name,\n",
        "    sum(l_extendedprice * (1 - l_discount)) AS revenue\n",
        "FROM\n",
        "    (SELECT * FROM region WHERE r_name='ASIA')\n",
        "    JOIN nation ON (r_regionkey=n_regionkey)\n",
        "    JOIN customer ON (n_nationkey=c_nationkey)\n",
        "    JOIN (SELECT * FROM orders WHERE o_orderdate >= CAST('1994-01-01' AS date) AND o_orderdate < CAST('1995-01-01' AS date)) ON (c_custkey=o_custkey)\n",
        "    JOIN lineitem ON (o_orderkey=l_orderkey)\n",
        "    JOIN supplier ON (n_nationkey=s_nationkey)\n",
        "GROUP BY\n",
        "    n_name\n",
        "ORDER BY\n",
        "    revenue DESC;\"\"\"\n",
        "\n",
        "run_query(req_TPCH_5_opt)"
      ]
    },
    {
      "cell_type": "markdown",
      "metadata": {
        "id": "ppG5HOuXkdKB"
      },
      "source": [
        "# Exercice 3 : Cardinalités\n",
        "\n",
        "On considère le plan (optimisé) de la requête `query1`.\n",
        "\n",
        "Expliquer comment est calculée chaque valeur de cardinalité estimée **EC**."
      ]
    },
    {
      "cell_type": "markdown",
      "metadata": {
        "id": "WuvBoBcekdCl"
      },
      "source": [
        " à compléter"
      ]
    },
    {
      "cell_type": "markdown",
      "metadata": {
        "id": "bqTXoZF0yqOP"
      },
      "source": [
        "# Exercice 4 : Optimiser une requête avec 6 tables\n",
        "\n",
        "Soit la requête suivante qui accède à 6 tables."
      ]
    },
    {
      "cell_type": "code",
      "execution_count": 33,
      "metadata": {
        "id": "5jl5rrXPyqOP"
      },
      "outputs": [],
      "source": [
        "query_6_tables = \"\"\"\n",
        "SELECT\n",
        "    nation,\n",
        "    o_year,\n",
        "    sum(amount) AS sum_profit\n",
        "FROM (\n",
        "    SELECT\n",
        "        n_name AS nation,\n",
        "        extract(year FROM o_orderdate) AS o_year,\n",
        "        l_extendedprice * (1 - l_discount) - ps_supplycost * l_quantity AS amount\n",
        "    FROM\n",
        "        part,\n",
        "        supplier,\n",
        "        lineitem,\n",
        "        partsupp,\n",
        "        orders,\n",
        "        nation\n",
        "    WHERE\n",
        "        s_suppkey = l_suppkey\n",
        "        AND ps_suppkey = l_suppkey\n",
        "        AND ps_partkey = l_partkey\n",
        "        AND p_partkey = l_partkey\n",
        "        AND o_orderkey = l_orderkey\n",
        "        AND s_nationkey = n_nationkey\n",
        "        AND p_name LIKE '%green%') AS profit\n",
        "GROUP BY\n",
        "    nation,\n",
        "    o_year\n",
        "ORDER BY\n",
        "    nation,\n",
        "    o_year DESC;\n",
        "\"\"\""
      ]
    },
    {
      "cell_type": "markdown",
      "metadata": {
        "id": "IqSuROg4mLfl"
      },
      "source": [
        "## a) Enumérer les ordres de jointure\n",
        "Combien d'ordre de jointures sont possibles ?"
      ]
    },
    {
      "cell_type": "markdown",
      "metadata": {
        "id": "FcvxsOP5mfHo"
      },
      "source": [
        "à compléter"
      ]
    },
    {
      "cell_type": "markdown",
      "metadata": {
        "id": "DQZx3sZB5P9S"
      },
      "source": [
        "6 * 5 * 4 * 3 * 2 * 1 = 720"
      ]
    },
    {
      "cell_type": "markdown",
      "metadata": {
        "id": "TB6ExfjLmiUD"
      },
      "source": [
        "## b) Requête optimale\n",
        " Re-*écrire* cette requête pour qu'elle s'exécute le plus rapidement possible."
      ]
    },
    {
      "cell_type": "code",
      "execution_count": 42,
      "metadata": {
        "colab": {
          "base_uri": "https://localhost:8080/"
        },
        "id": "Yz2Sk-ONwRdU",
        "outputId": "721317de-5c44-4430-8570-60ba15ebc2f8"
      },
      "outputs": [
        {
          "name": "stdout",
          "output_type": "stream",
          "text": [
            "73ms\n"
          ]
        }
      ],
      "source": [
        "query_6_tables_opt2 =  \"\"\"\n",
        "SELECT\n",
        "    n_name,\n",
        "    o_year,\n",
        "    sum(l_extendedprice * (1 - l_discount) - ps_supplycost * l_quantity) AS sum_profit\n",
        "FROM \n",
        "    (SELECT extract(year FROM o_orderdate) AS o_year, o_orderkey FROM orders)\n",
        "    JOIN lineitem ON (o_orderkey=l_orderkey)\n",
        "    JOIN partsupp ON (l_suppkey=ps_suppkey AND l_partkey=ps_partkey)\n",
        "    JOIN (SELECT * FROM part WHERE p_name LIKE '%green%') ON (l_partkey=p_partkey)\n",
        "    JOIN supplier ON (l_suppkey=s_suppkey)\n",
        "    JOIN nation ON (s_nationkey=n_nationkey)\n",
        "GROUP BY\n",
        "    n_name,\n",
        "    o_year\n",
        "ORDER BY\n",
        "    n_name,\n",
        "    o_year DESC;\n",
        "\"\"\"\n",
        "print(run_query(query_6_tables_opt2))\n"
      ]
    }
  ],
  "metadata": {
    "colab": {
      "provenance": []
    },
    "kernelspec": {
      "display_name": "Python 3",
      "name": "python3"
    },
    "language_info": {
      "codemirror_mode": {
        "name": "ipython",
        "version": 3
      },
      "file_extension": ".py",
      "mimetype": "text/x-python",
      "name": "python",
      "nbconvert_exporter": "python",
      "pygments_lexer": "ipython3",
      "version": "3.11.7"
    },
    "widgets": {
      "application/vnd.jupyter.widget-state+json": {
        "2de08d04207c4726ba0caabea5f437e3": {
          "model_module": "@jupyter-widgets/controls",
          "model_module_version": "1.5.0",
          "model_name": "FloatProgressModel",
          "state": {
            "_dom_classes": [],
            "_model_module": "@jupyter-widgets/controls",
            "_model_module_version": "1.5.0",
            "_model_name": "FloatProgressModel",
            "_view_count": null,
            "_view_module": "@jupyter-widgets/controls",
            "_view_module_version": "1.5.0",
            "_view_name": "ProgressView",
            "bar_style": "",
            "description": "",
            "description_tooltip": null,
            "layout": "IPY_MODEL_50f4eb056cc5490884565b4ce68e61fa",
            "max": 100,
            "min": 0,
            "orientation": "horizontal",
            "style": "IPY_MODEL_348bcb0d61e7401897e1a41d3704a620",
            "value": 100
          }
        },
        "348bcb0d61e7401897e1a41d3704a620": {
          "model_module": "@jupyter-widgets/controls",
          "model_module_version": "1.5.0",
          "model_name": "ProgressStyleModel",
          "state": {
            "_model_module": "@jupyter-widgets/controls",
            "_model_module_version": "1.5.0",
            "_model_name": "ProgressStyleModel",
            "_view_count": null,
            "_view_module": "@jupyter-widgets/base",
            "_view_module_version": "1.2.0",
            "_view_name": "StyleView",
            "bar_color": "black",
            "description_width": ""
          }
        },
        "50f4eb056cc5490884565b4ce68e61fa": {
          "model_module": "@jupyter-widgets/base",
          "model_module_version": "1.2.0",
          "model_name": "LayoutModel",
          "state": {
            "_model_module": "@jupyter-widgets/base",
            "_model_module_version": "1.2.0",
            "_model_name": "LayoutModel",
            "_view_count": null,
            "_view_module": "@jupyter-widgets/base",
            "_view_module_version": "1.2.0",
            "_view_name": "LayoutView",
            "align_content": null,
            "align_items": null,
            "align_self": null,
            "border": null,
            "bottom": null,
            "display": null,
            "flex": null,
            "flex_flow": null,
            "grid_area": null,
            "grid_auto_columns": null,
            "grid_auto_flow": null,
            "grid_auto_rows": null,
            "grid_column": null,
            "grid_gap": null,
            "grid_row": null,
            "grid_template_areas": null,
            "grid_template_columns": null,
            "grid_template_rows": null,
            "height": null,
            "justify_content": null,
            "justify_items": null,
            "left": null,
            "margin": null,
            "max_height": null,
            "max_width": null,
            "min_height": null,
            "min_width": null,
            "object_fit": null,
            "object_position": null,
            "order": null,
            "overflow": null,
            "overflow_x": null,
            "overflow_y": null,
            "padding": null,
            "right": null,
            "top": null,
            "visibility": null,
            "width": "auto"
          }
        }
      }
    }
  },
  "nbformat": 4,
  "nbformat_minor": 0
}
