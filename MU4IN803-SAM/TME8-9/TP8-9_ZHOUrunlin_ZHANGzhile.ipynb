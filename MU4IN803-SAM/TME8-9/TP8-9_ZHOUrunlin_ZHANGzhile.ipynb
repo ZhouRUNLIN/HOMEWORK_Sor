{
  "cells": [
    {
      "cell_type": "markdown",
      "metadata": {
        "id": "hU_Uc7uXH7d_"
      },
      "source": [
        "# SAM 2024 : TP Requêtes multi-sources pour l'open data\n",
        "\n",
        "Séances 8 et 9\n",
        "\n",
        "date du document : 28/03/2024\n",
        "\n",
        "\n",
        "Objectif : Comprendre et réaliser des jointures entre deux sources réelles distantes lorsque l'accès aux sources est conforme aux standards de l'*open data*.  \n",
        "\n",
        "Contexte : On considère deux sources réelles ainsi que des exemples de requêtes pouvant être posées sur chacune d'entre elles.\n",
        "\n",
        "On vous demande de mettre en oeuvre des scénarios de requêtes **MULTI** sources.\n",
        "\n",
        "Pour 2024 : Faire l'exercice 3 en priorité\n",
        "\n",
        "\n"
      ]
    },
    {
      "cell_type": "markdown",
      "metadata": {},
      "source": [
        "- ZHOU Runlin  28717281\n",
        "- ZHANG Zhile  21201131"
      ]
    },
    {
      "cell_type": "markdown",
      "metadata": {
        "id": "1Hr9i-Fg3EJZ"
      },
      "source": [
        "## Préparation\n",
        "\n",
        "**Copier** ce notebook dans votre drive et l'exécuter dans l'environnement colab de google\n"
      ]
    },
    {
      "cell_type": "code",
      "execution_count": 1,
      "metadata": {
        "colab": {
          "base_uri": "https://localhost:8080/"
        },
        "id": "jDf3fu9UHy7i",
        "outputId": "7ad50b38-2f8c-4e13-a68d-09b64d076e54"
      },
      "outputs": [],
      "source": [
        "# !pip install SPARQLWrapper"
      ]
    },
    {
      "cell_type": "markdown",
      "metadata": {
        "id": "U4iuSiRuvKgb"
      },
      "source": [
        "### Manipuler le résultat d'une requête\n",
        "Fonctions **tableauResultat** pour extraire  le résultat d'une requête"
      ]
    },
    {
      "cell_type": "code",
      "execution_count": 2,
      "metadata": {
        "colab": {
          "base_uri": "https://localhost:8080/"
        },
        "id": "-aXA-jUgDCKU",
        "outputId": "28e6a6b0-ee64-4384-ec7c-a04a0c7a0802"
      },
      "outputs": [
        {
          "name": "stdout",
          "output_type": "stream",
          "text": [
            "fonctions définies\n"
          ]
        }
      ],
      "source": [
        "import pandas as pd\n",
        "\n",
        "#pd.set_option('max_columns', None)\n",
        "pd.set_option('max_colwidth', None)\n",
        "\n",
        "# Déterminer la liste des noms d'attributs du résultat, en tenant compte des attributs optionnels.\n",
        "def schemaResultat(resultats, limit=100):\n",
        "  d = {}\n",
        "  for elt in resultats[:limit]:\n",
        "    for (pos, nom) in enumerate(elt):\n",
        "      sum_pos, nb = d.get(nom, (0, 0))\n",
        "      d[nom] = (sum_pos + pos, nb + 1)\n",
        "  mean_pos_by_name = [(sum_pos / nb, nom) for (nom, (sum_pos, nb)) in d.items()]\n",
        "  colonnes = [nom for (mean_pos, nom) in sorted(mean_pos_by_name)]\n",
        "  return colonnes\n",
        "\n",
        "def tableauResultat(resultats, limit=100, colonnes=None):\n",
        "  if colonnes is None :\n",
        "    colonnes = schemaResultat(resultats, limit)\n",
        "  tableau = []\n",
        "  for elt in resultats[:limit]:\n",
        "    row = {name:v.value for name, v in elt.items()}\n",
        "    tableau.append([row.get(n, \"\") for n in colonnes])\n",
        "  return tableau\n",
        "\n",
        "print (\"fonctions définies\")"
      ]
    },
    {
      "cell_type": "markdown",
      "metadata": {
        "id": "HwrY17qTKqx5"
      },
      "source": [
        "Afficher le résultat"
      ]
    },
    {
      "cell_type": "code",
      "execution_count": 3,
      "metadata": {
        "colab": {
          "base_uri": "https://localhost:8080/"
        },
        "id": "5hh7i-9IKnuf",
        "outputId": "735957ff-87d7-4485-b080-10895fb1e1ee"
      },
      "outputs": [
        {
          "name": "stdout",
          "output_type": "stream",
          "text": [
            "fonctions définies\n"
          ]
        }
      ],
      "source": [
        "def afficherResultat(resultats, limit=100):\n",
        "  print(len(resultats), \"éléments\")\n",
        "  colonnes = schemaResultat(resultats, limit)\n",
        "  print(\"schéma: \", colonnes)\n",
        "  result = tableauResultat(resultats, limit, colonnes)\n",
        "  return pd.DataFrame(result, columns = colonnes)\n",
        "\n",
        "print (\"fonctions définies\")"
      ]
    },
    {
      "cell_type": "markdown",
      "metadata": {
        "id": "tfI9a4lklAKf"
      },
      "source": [
        "### Importer le pilote pour accéder aux sources"
      ]
    },
    {
      "cell_type": "code",
      "execution_count": 4,
      "metadata": {
        "colab": {
          "base_uri": "https://localhost:8080/"
        },
        "id": "kFXKS-euk4T4",
        "outputId": "0bf1bfe3-9884-4aed-8dec-f5913055ac0e"
      },
      "outputs": [
        {
          "name": "stdout",
          "output_type": "stream",
          "text": [
            "pilote importé\n"
          ]
        }
      ],
      "source": [
        "from SPARQLWrapper import SPARQLWrapper2\n",
        "print(\"pilote importé\")"
      ]
    },
    {
      "cell_type": "markdown",
      "metadata": {
        "id": "wM0f7svUC2LE"
      },
      "source": [
        "### Préparer l'accès à la source BNF"
      ]
    },
    {
      "cell_type": "code",
      "execution_count": 5,
      "metadata": {
        "colab": {
          "base_uri": "https://localhost:8080/"
        },
        "id": "0RziFSRYDBpE",
        "outputId": "64ae9758-ae09-4d7c-df10-8a8fe5b5b6fc"
      },
      "outputs": [
        {
          "name": "stdout",
          "output_type": "stream",
          "text": [
            "\n",
            "PREFIX dc: <http://purl.org/dc/terms/>\n",
            "PREFIX xsd: <http://www.w3.org/2001/XMLSchema#>\n",
            "\n",
            "PREFIX foaf: <http://xmlns.com/foaf/0.1/>\n",
            "PREFIX rda: <http://rdaregistry.info/Elements/w/#>\n",
            "PREFIX owl: <http://www.w3.org/2002/07/owl#>\n",
            "\n",
            "PREFIX bnf: <http://data.bnf.fr/ontology/bnf-onto/>\n",
            "\n",
            "PREFIX bio: <http://vocab.org/bio/0.1/>\n",
            "PREFIX voc2: <http://rdvocab.info/ElementsGr2/>\n",
            "\n"
          ]
        }
      ],
      "source": [
        "# Connexion à la BNF\n",
        "BNF = SPARQLWrapper2(\"http://data.bnf.fr/sparql\")\n",
        "\n",
        "BNF_prefix = \"\"\"\n",
        "PREFIX dc: <http://purl.org/dc/terms/>\n",
        "PREFIX xsd: <http://www.w3.org/2001/XMLSchema#>\n",
        "\n",
        "PREFIX foaf: <http://xmlns.com/foaf/0.1/>\n",
        "PREFIX rda: <http://rdaregistry.info/Elements/w/#>\n",
        "PREFIX owl: <http://www.w3.org/2002/07/owl#>\n",
        "\n",
        "PREFIX bnf: <http://data.bnf.fr/ontology/bnf-onto/>\n",
        "\n",
        "PREFIX bio: <http://vocab.org/bio/0.1/>\n",
        "PREFIX voc2: <http://rdvocab.info/ElementsGr2/>\n",
        "\"\"\"\n",
        "print(BNF_prefix)"
      ]
    },
    {
      "cell_type": "markdown",
      "metadata": {
        "id": "IOLb2KSfDLdR"
      },
      "source": [
        "### Préparer l'accès à la source DBPEDIA"
      ]
    },
    {
      "cell_type": "code",
      "execution_count": 6,
      "metadata": {
        "id": "pIJSoRGDDLdR"
      },
      "outputs": [],
      "source": [
        "# Connexion à DBPEDIA France.\n",
        "DBPEDIA = SPARQLWrapper2(\"http://fr.dbpedia.org/sparql\")\n",
        "\n",
        "DBPEDIA_prefix =  \"\"\"\n",
        "PREFIX dc:   <http://purl.org/dc/terms/>\n",
        "PREFIX xsd:  <http://www.w3.org/2001/XMLSchema#>\n",
        "\n",
        "PREFIX foaf: <http://xmlns.com/foaf/0.1/>\n",
        "PREFIX rdf:  <http://www.w3.org/1999/02/22-rdf-syntax-ns#>\n",
        "PREFIX rdfs: <http://www.w3.org/2000/01/rdf-schema#>\n",
        "\n",
        "PREFIX dbo:  <http://dbpedia.org/ontology/>\n",
        "\n",
        "# Dans cette source, les noms de propriétés sont en français\n",
        "PREFIX dbp:  <http://fr.dbpedia.org/property/>\n",
        "\"\"\"\n",
        "# print(DBPEDIA_prefix)"
      ]
    },
    {
      "cell_type": "markdown",
      "metadata": {
        "id": "FTXujqEYg-mv"
      },
      "source": [
        "## Source 1 : La bibliothèque BNF"
      ]
    },
    {
      "cell_type": "markdown",
      "metadata": {
        "id": "TgJO3oVK40yT"
      },
      "source": [
        "### BNF P1: Le nom des personnes\n",
        "On suppose les relations :\n",
        "*    **CrééPar**(ouvrage, auteur)\n",
        "*    **Nom**(auteur, nom)\n",
        "\n",
        "En SQL, la requête s'exprimerait ainsi:\n",
        "\n",
        "> select distinct n.nom\n",
        "\n",
        "> from CrééPar c, Nom n\n",
        "\n",
        "> where c.auteur = n.auteur"
      ]
    },
    {
      "cell_type": "code",
      "execution_count": 7,
      "metadata": {
        "colab": {
          "base_uri": "https://localhost:8080/"
        },
        "id": "W7NBgmGq5P_b",
        "outputId": "2afa852e-8d9c-4eed-8eb1-0780ccc40a5c"
      },
      "outputs": [
        {
          "name": "stdout",
          "output_type": "stream",
          "text": [
            "['Claude Baival']\n",
            "['Musée national du Château de Versailles et de Trianon']\n",
            "['Henry Bordeaux']\n",
            "['Paul Jungers']\n",
            "[\"École nationale supérieure d'art. Dijon\"]\n"
          ]
        }
      ],
      "source": [
        "requete = BNF_prefix + \"\"\"\n",
        "SELECT distinct ?nom\n",
        "WHERE {\n",
        "  ?ouvrage dc:creator ?auteur .       # un ouvrage est créé par au moins un auteur\n",
        "  ?auteur foaf:name ?nom              # un auteur a un nom\n",
        "}\n",
        "LIMIT 5\n",
        "\"\"\"\n",
        "\n",
        "BNF.setQuery(requete)\n",
        "resultats = BNF.query().bindings\n",
        "for r in tableauResultat(resultats):\n",
        "  print(r)"
      ]
    },
    {
      "cell_type": "markdown",
      "metadata": {
        "id": "M0qSrFgKhHS2"
      },
      "source": [
        "### BNF T1: liste de thèmes\n",
        "#### Les *themes* des oeuvres dont l'auteur est référencé dans dbpedia france\n",
        "\n",
        "En SQL, cette requête pourrait s'exprimer sur les tables suivantes\n",
        "\n",
        "**créé_par** (livre, auteur)\n",
        "\n",
        "**type_d_expression** (livre, type_expre)  -- exple de tpye d'expression: textuelle\n",
        "\n",
        "**écrit_en** (livre, langue)\n",
        "\n",
        "**sujet** (livre, thème)\n",
        "\n",
        "**auteur_équivalent** (auteur, auteur_source2)\n",
        "\n",
        "et une condition SQL serait : WHERE auteur_source2 like 'http://fr.dbpedia.org%'"
      ]
    },
    {
      "cell_type": "code",
      "execution_count": 8,
      "metadata": {
        "colab": {
          "base_uri": "https://localhost:8080/",
          "height": 711
        },
        "id": "RI4C0Q9hhRe9",
        "outputId": "4ab769dd-d007-47b6-dd21-c1f4cd3b2349"
      },
      "outputs": [
        {
          "name": "stdout",
          "output_type": "stream",
          "text": [
            "20 éléments\n",
            "schéma:  ['theme']\n"
          ]
        },
        {
          "data": {
            "text/html": [
              "<div>\n",
              "<style scoped>\n",
              "    .dataframe tbody tr th:only-of-type {\n",
              "        vertical-align: middle;\n",
              "    }\n",
              "\n",
              "    .dataframe tbody tr th {\n",
              "        vertical-align: top;\n",
              "    }\n",
              "\n",
              "    .dataframe thead th {\n",
              "        text-align: right;\n",
              "    }\n",
              "</style>\n",
              "<table border=\"1\" class=\"dataframe\">\n",
              "  <thead>\n",
              "    <tr style=\"text-align: right;\">\n",
              "      <th></th>\n",
              "      <th>theme</th>\n",
              "    </tr>\n",
              "  </thead>\n",
              "  <tbody>\n",
              "    <tr>\n",
              "      <th>0</th>\n",
              "      <td>Administration publique</td>\n",
              "    </tr>\n",
              "    <tr>\n",
              "      <th>1</th>\n",
              "      <td>Anthropologie. Ethnologie</td>\n",
              "    </tr>\n",
              "    <tr>\n",
              "      <th>2</th>\n",
              "      <td>Architecture</td>\n",
              "    </tr>\n",
              "    <tr>\n",
              "      <th>3</th>\n",
              "      <td>Archéologie. Préhistoire. Histoire ancienne</td>\n",
              "    </tr>\n",
              "    <tr>\n",
              "      <th>4</th>\n",
              "      <td>Art</td>\n",
              "    </tr>\n",
              "    <tr>\n",
              "      <th>5</th>\n",
              "      <td>Art et science militaires</td>\n",
              "    </tr>\n",
              "    <tr>\n",
              "      <th>6</th>\n",
              "      <td>Arts du spectacle</td>\n",
              "    </tr>\n",
              "    <tr>\n",
              "      <th>7</th>\n",
              "      <td>Arts graphiques</td>\n",
              "    </tr>\n",
              "    <tr>\n",
              "      <th>8</th>\n",
              "      <td>Astronomie</td>\n",
              "    </tr>\n",
              "    <tr>\n",
              "      <th>9</th>\n",
              "      <td>Audiovisuel</td>\n",
              "    </tr>\n",
              "    <tr>\n",
              "      <th>10</th>\n",
              "      <td>Biologie</td>\n",
              "    </tr>\n",
              "    <tr>\n",
              "      <th>11</th>\n",
              "      <td>Botanique</td>\n",
              "    </tr>\n",
              "    <tr>\n",
              "      <th>12</th>\n",
              "      <td>Chimie</td>\n",
              "    </tr>\n",
              "    <tr>\n",
              "      <th>13</th>\n",
              "      <td>Dessin. Arts décoratifs</td>\n",
              "    </tr>\n",
              "    <tr>\n",
              "      <th>14</th>\n",
              "      <td>Droit</td>\n",
              "    </tr>\n",
              "    <tr>\n",
              "      <th>15</th>\n",
              "      <td>Ethnonymes</td>\n",
              "    </tr>\n",
              "    <tr>\n",
              "      <th>16</th>\n",
              "      <td>Géographie</td>\n",
              "    </tr>\n",
              "    <tr>\n",
              "      <th>17</th>\n",
              "      <td>Géographie de l'Europe</td>\n",
              "    </tr>\n",
              "    <tr>\n",
              "      <th>18</th>\n",
              "      <td>Géographie de la France</td>\n",
              "    </tr>\n",
              "    <tr>\n",
              "      <th>19</th>\n",
              "      <td>Géographie du reste du monde</td>\n",
              "    </tr>\n",
              "  </tbody>\n",
              "</table>\n",
              "</div>"
            ],
            "text/plain": [
              "                                          theme\n",
              "0                       Administration publique\n",
              "1                     Anthropologie. Ethnologie\n",
              "2                                  Architecture\n",
              "3   Archéologie. Préhistoire. Histoire ancienne\n",
              "4                                           Art\n",
              "5                     Art et science militaires\n",
              "6                             Arts du spectacle\n",
              "7                               Arts graphiques\n",
              "8                                    Astronomie\n",
              "9                                   Audiovisuel\n",
              "10                                     Biologie\n",
              "11                                    Botanique\n",
              "12                                       Chimie\n",
              "13                      Dessin. Arts décoratifs\n",
              "14                                        Droit\n",
              "15                                   Ethnonymes\n",
              "16                                   Géographie\n",
              "17                       Géographie de l'Europe\n",
              "18                      Géographie de la France\n",
              "19                 Géographie du reste du monde"
            ]
          },
          "execution_count": 8,
          "metadata": {},
          "output_type": "execute_result"
        }
      ],
      "source": [
        "requete = BNF_prefix + \"\"\"\n",
        "SELECT distinct ?theme\n",
        "WHERE {\n",
        "\n",
        "  # une oeuvre est associée a (au moins) un auteur\n",
        "  ?livre dc:creator ?auteur .\n",
        "\n",
        "  # un livre est un ouvrage dont la forme d'expression est textuelle (te)\n",
        "  ?livre rda:P10004 <http://data.bnf.fr/vocabulary/work-form/te> .\n",
        "\n",
        "  # livre écrit en langue française\n",
        "  ?livre dc:language <http://id.loc.gov/vocabulary/iso639-2/fre> .\n",
        "\n",
        "  # le livre a au moins un theme\n",
        "  ?livre bnf:subject ?theme.\n",
        "\n",
        "  # l'auteur existe également dans une autre source,\n",
        "  # on dit qu'il est \"aligné\" avec un autre instance du même individu.\n",
        "  ?auteur owl:sameAs ?auteurDbpedia .\n",
        "\n",
        "  # la référence externe \"pointe\" vers dbpedia\n",
        "  FILTER ( regex(?auteurDbpedia, \"http://fr.dbpedia.org\")  )\n",
        "\n",
        "}\n",
        "ORDER BY ?theme\n",
        "LIMIT 20\n",
        "\"\"\"\n",
        "\n",
        "BNF.setQuery(requete)\n",
        "resultats = BNF.query().bindings\n",
        "afficherResultat(resultats)\n",
        "\n",
        "# Exemple:\n",
        "# Informatique\n",
        "# Langues\n",
        "# Philosophie"
      ]
    },
    {
      "cell_type": "markdown",
      "metadata": {
        "id": "K5mu8CL-H2Qo"
      },
      "source": [
        "###  BNF A1 : une liste d'auteurs\n",
        "\n",
        "A1 : Liste des auteurs de livres écrits en français et nés pendant une certaine période, par exemple au 20eme siècle. Afficher le nom de l'auteur, son année et lieu de naissance.\n",
        "\n"
      ]
    },
    {
      "cell_type": "code",
      "execution_count": 9,
      "metadata": {
        "colab": {
          "base_uri": "https://localhost:8080/",
          "height": 711
        },
        "id": "JG98_IoJIX0s",
        "outputId": "36cbc5ea-3c00-4b8a-eb7e-f4a66c0d186f"
      },
      "outputs": [
        {
          "name": "stdout",
          "output_type": "stream",
          "text": [
            "20 éléments\n",
            "schéma:  ['nom', 'naissance', 'lieu']\n"
          ]
        },
        {
          "data": {
            "text/html": [
              "<div>\n",
              "<style scoped>\n",
              "    .dataframe tbody tr th:only-of-type {\n",
              "        vertical-align: middle;\n",
              "    }\n",
              "\n",
              "    .dataframe tbody tr th {\n",
              "        vertical-align: top;\n",
              "    }\n",
              "\n",
              "    .dataframe thead th {\n",
              "        text-align: right;\n",
              "    }\n",
              "</style>\n",
              "<table border=\"1\" class=\"dataframe\">\n",
              "  <thead>\n",
              "    <tr style=\"text-align: right;\">\n",
              "      <th></th>\n",
              "      <th>nom</th>\n",
              "      <th>naissance</th>\n",
              "      <th>lieu</th>\n",
              "    </tr>\n",
              "  </thead>\n",
              "  <tbody>\n",
              "    <tr>\n",
              "      <th>0</th>\n",
              "      <td>Alex Pol Axely</td>\n",
              "      <td>1920</td>\n",
              "      <td>Chaillé-les-Marais (Vendée)</td>\n",
              "    </tr>\n",
              "    <tr>\n",
              "      <th>1</th>\n",
              "      <td>Alexandra Pecker</td>\n",
              "      <td>1906</td>\n",
              "      <td>Paris</td>\n",
              "    </tr>\n",
              "    <tr>\n",
              "      <th>2</th>\n",
              "      <td>Marie-Françoise Christout</td>\n",
              "      <td>1928</td>\n",
              "      <td>Neuilly-sur-Seine</td>\n",
              "    </tr>\n",
              "    <tr>\n",
              "      <th>3</th>\n",
              "      <td>Gabriel Cousin</td>\n",
              "      <td>1918</td>\n",
              "      <td>Droué (Loir et Cher)</td>\n",
              "    </tr>\n",
              "    <tr>\n",
              "      <th>4</th>\n",
              "      <td>Éric Muraise</td>\n",
              "      <td>1908</td>\n",
              "      <td>Châteauroux (Indre)</td>\n",
              "    </tr>\n",
              "    <tr>\n",
              "      <th>5</th>\n",
              "      <td>Marc Peyre</td>\n",
              "      <td>1904</td>\n",
              "      <td>Marseille</td>\n",
              "    </tr>\n",
              "    <tr>\n",
              "      <th>6</th>\n",
              "      <td>Jean Savatier</td>\n",
              "      <td>1922</td>\n",
              "      <td>Poitiers (Vienne</td>\n",
              "    </tr>\n",
              "    <tr>\n",
              "      <th>7</th>\n",
              "      <td>Hans Ludwig Cohn Jaffé</td>\n",
              "      <td>1915</td>\n",
              "      <td>Francfort-sur-le-Main, Allemagne</td>\n",
              "    </tr>\n",
              "    <tr>\n",
              "      <th>8</th>\n",
              "      <td>Jean Canu</td>\n",
              "      <td>1910</td>\n",
              "      <td>Tourlaville, Manche</td>\n",
              "    </tr>\n",
              "    <tr>\n",
              "      <th>9</th>\n",
              "      <td>Albert Ayme</td>\n",
              "      <td>1920</td>\n",
              "      <td>Montpellier (Hérault)</td>\n",
              "    </tr>\n",
              "    <tr>\n",
              "      <th>10</th>\n",
              "      <td>Pierre Bovet</td>\n",
              "      <td>1946</td>\n",
              "      <td>Lausanne (Suisse)</td>\n",
              "    </tr>\n",
              "    <tr>\n",
              "      <th>11</th>\n",
              "      <td>Jim Alcheik</td>\n",
              "      <td>1931</td>\n",
              "      <td>Duperré (Algérie)</td>\n",
              "    </tr>\n",
              "    <tr>\n",
              "      <th>12</th>\n",
              "      <td>Raymond Lepoutre</td>\n",
              "      <td>1922</td>\n",
              "      <td>Bruxelles</td>\n",
              "    </tr>\n",
              "    <tr>\n",
              "      <th>13</th>\n",
              "      <td>Jacob Rabin</td>\n",
              "      <td>1912</td>\n",
              "      <td>Petaḥ-Tiqva (Palestine, aujourd'hui Israël)</td>\n",
              "    </tr>\n",
              "    <tr>\n",
              "      <th>14</th>\n",
              "      <td>Louis Parrens</td>\n",
              "      <td>1904</td>\n",
              "      <td>Paris</td>\n",
              "    </tr>\n",
              "    <tr>\n",
              "      <th>15</th>\n",
              "      <td>Jacqueline Karageorghis</td>\n",
              "      <td>1932</td>\n",
              "      <td>Saint-Étienne (Loire)</td>\n",
              "    </tr>\n",
              "    <tr>\n",
              "      <th>16</th>\n",
              "      <td>Pascal Kern</td>\n",
              "      <td>1952</td>\n",
              "      <td>Paris</td>\n",
              "    </tr>\n",
              "    <tr>\n",
              "      <th>17</th>\n",
              "      <td>Henri Frère</td>\n",
              "      <td>1908</td>\n",
              "      <td>Saint-Génis-des-Fontaines (Pyrénées-Orientales)</td>\n",
              "    </tr>\n",
              "    <tr>\n",
              "      <th>18</th>\n",
              "      <td>Alain Hervé du Penhoat</td>\n",
              "      <td>1930</td>\n",
              "      <td>Cléder (Finistère)</td>\n",
              "    </tr>\n",
              "    <tr>\n",
              "      <th>19</th>\n",
              "      <td>Jean Brian</td>\n",
              "      <td>1911</td>\n",
              "      <td>Embrun (Hautes-Alpes)</td>\n",
              "    </tr>\n",
              "  </tbody>\n",
              "</table>\n",
              "</div>"
            ],
            "text/plain": [
              "                          nom naissance  \\\n",
              "0              Alex Pol Axely      1920   \n",
              "1            Alexandra Pecker      1906   \n",
              "2   Marie-Françoise Christout      1928   \n",
              "3              Gabriel Cousin      1918   \n",
              "4                Éric Muraise      1908   \n",
              "5                  Marc Peyre      1904   \n",
              "6               Jean Savatier      1922   \n",
              "7      Hans Ludwig Cohn Jaffé      1915   \n",
              "8                   Jean Canu      1910   \n",
              "9                 Albert Ayme      1920   \n",
              "10               Pierre Bovet      1946   \n",
              "11                Jim Alcheik      1931   \n",
              "12           Raymond Lepoutre      1922   \n",
              "13                Jacob Rabin      1912   \n",
              "14              Louis Parrens      1904   \n",
              "15    Jacqueline Karageorghis      1932   \n",
              "16                Pascal Kern      1952   \n",
              "17                Henri Frère      1908   \n",
              "18     Alain Hervé du Penhoat      1930   \n",
              "19                 Jean Brian      1911   \n",
              "\n",
              "                                               lieu  \n",
              "0                       Chaillé-les-Marais (Vendée)  \n",
              "1                                             Paris  \n",
              "2                                 Neuilly-sur-Seine  \n",
              "3                              Droué (Loir et Cher)  \n",
              "4                               Châteauroux (Indre)  \n",
              "5                                         Marseille  \n",
              "6                                  Poitiers (Vienne  \n",
              "7                  Francfort-sur-le-Main, Allemagne  \n",
              "8                               Tourlaville, Manche  \n",
              "9                             Montpellier (Hérault)  \n",
              "10                                Lausanne (Suisse)  \n",
              "11                                Duperré (Algérie)  \n",
              "12                                        Bruxelles  \n",
              "13     Petaḥ-Tiqva (Palestine, aujourd'hui Israël)  \n",
              "14                                            Paris  \n",
              "15                            Saint-Étienne (Loire)  \n",
              "16                                            Paris  \n",
              "17  Saint-Génis-des-Fontaines (Pyrénées-Orientales)  \n",
              "18                               Cléder (Finistère)  \n",
              "19                            Embrun (Hautes-Alpes)  "
            ]
          },
          "execution_count": 9,
          "metadata": {},
          "output_type": "execute_result"
        }
      ],
      "source": [
        "requete_a1 = BNF_prefix + \"\"\"\n",
        "SELECT distinct ?nom  ?naissance ?lieu\n",
        "WHERE {\n",
        "\n",
        "# une oeuvre est associée a (au moins) un auteur\n",
        "?livre dc:creator ?auteur.\n",
        "\n",
        "# livre écrit en français\n",
        "?livre dc:language <http://id.loc.gov/vocabulary/iso639-2/fre> .\n",
        "\n",
        "# un auteur a un nom\n",
        "?auteur foaf:name ?nom .\n",
        "\n",
        "# un auteur a une année et un lieu de naissance\n",
        "?auteur bio:birth ?naissance.\n",
        "?auteur voc2:placeOfBirth ?lieu\n",
        "\n",
        "# on sélectionne les années de naissance dans l'intervalle [1900, 2000]\n",
        "FILTER (xsd:integer (?naissance) > '1900'^^xsd:integer\n",
        "     && xsd:integer (?naissance) < '2000'^^xsd:integer )\n",
        "}\n",
        "#ORDER BY ?nom\n",
        "LIMIT 20\n",
        "\"\"\"\n",
        "\n",
        "BNF.setQuery(requete_a1)\n",
        "resultats = BNF.query().bindings\n",
        "afficherResultat(resultats)"
      ]
    },
    {
      "cell_type": "markdown",
      "metadata": {
        "id": "5rDrC98fmkw1"
      },
      "source": [
        "###  BNF A2 : les auteurs de la BNF référencés dans dbpedia\n",
        "Les auteurs ayant un identifiant externe pointant vers dbpedia\n"
      ]
    },
    {
      "cell_type": "code",
      "execution_count": 10,
      "metadata": {
        "colab": {
          "base_uri": "https://localhost:8080/",
          "height": 397
        },
        "id": "qDfx7tAqzUqp",
        "outputId": "1367823d-a166-4152-ba9b-778789f7ff73"
      },
      "outputs": [
        {
          "name": "stdout",
          "output_type": "stream",
          "text": [
            "10 éléments\n",
            "schéma:  ['nom', 'naissance', 'auteurDbpedia']\n"
          ]
        },
        {
          "data": {
            "text/html": [
              "<div>\n",
              "<style scoped>\n",
              "    .dataframe tbody tr th:only-of-type {\n",
              "        vertical-align: middle;\n",
              "    }\n",
              "\n",
              "    .dataframe tbody tr th {\n",
              "        vertical-align: top;\n",
              "    }\n",
              "\n",
              "    .dataframe thead th {\n",
              "        text-align: right;\n",
              "    }\n",
              "</style>\n",
              "<table border=\"1\" class=\"dataframe\">\n",
              "  <thead>\n",
              "    <tr style=\"text-align: right;\">\n",
              "      <th></th>\n",
              "      <th>nom</th>\n",
              "      <th>naissance</th>\n",
              "      <th>auteurDbpedia</th>\n",
              "    </tr>\n",
              "  </thead>\n",
              "  <tbody>\n",
              "    <tr>\n",
              "      <th>0</th>\n",
              "      <td>Vickie Gendreau</td>\n",
              "      <td>1989</td>\n",
              "      <td>http://fr.dbpedia.org/resource/Vickie_Gendreau</td>\n",
              "    </tr>\n",
              "    <tr>\n",
              "      <th>1</th>\n",
              "      <td>Axl Cendres</td>\n",
              "      <td>1982</td>\n",
              "      <td>http://fr.dbpedia.org/resource/Axl_Cendres</td>\n",
              "    </tr>\n",
              "    <tr>\n",
              "      <th>2</th>\n",
              "      <td>Geneviève Castrée</td>\n",
              "      <td>1981</td>\n",
              "      <td>http://fr.dbpedia.org/resource/Genevi%C3%A8ve_Castr%C3%A9e</td>\n",
              "    </tr>\n",
              "    <tr>\n",
              "      <th>3</th>\n",
              "      <td>Isabelle Périer</td>\n",
              "      <td>1978</td>\n",
              "      <td>http://fr.dbpedia.org/resource/Isabelle_P%C3%A9rier</td>\n",
              "    </tr>\n",
              "    <tr>\n",
              "      <th>4</th>\n",
              "      <td>Nathanaël Dupré La Tour</td>\n",
              "      <td>1977</td>\n",
              "      <td>http://fr.dbpedia.org/resource/Nathana%C3%ABl_Dupr%C3%A9_La_Tour</td>\n",
              "    </tr>\n",
              "    <tr>\n",
              "      <th>5</th>\n",
              "      <td>Coralie Delaume</td>\n",
              "      <td>1976</td>\n",
              "      <td>http://fr.dbpedia.org/resource/Coralie_Delaume</td>\n",
              "    </tr>\n",
              "    <tr>\n",
              "      <th>6</th>\n",
              "      <td>Claire Guézengar</td>\n",
              "      <td>1972</td>\n",
              "      <td>http://fr.dbpedia.org/resource/Claire_Guezengar</td>\n",
              "    </tr>\n",
              "    <tr>\n",
              "      <th>7</th>\n",
              "      <td>Philippe Nassif</td>\n",
              "      <td>1971</td>\n",
              "      <td>http://fr.dbpedia.org/resource/Philippe_Nassif</td>\n",
              "    </tr>\n",
              "    <tr>\n",
              "      <th>8</th>\n",
              "      <td>Fatou Cissé</td>\n",
              "      <td>1971</td>\n",
              "      <td>http://fr.dbpedia.org/resource/Fatou_Fanny-Ciss%C3%A9</td>\n",
              "    </tr>\n",
              "    <tr>\n",
              "      <th>9</th>\n",
              "      <td>Benoït Violier</td>\n",
              "      <td>1971</td>\n",
              "      <td>http://fr.dbpedia.org/resource/Beno%C3%AEt_Violier</td>\n",
              "    </tr>\n",
              "  </tbody>\n",
              "</table>\n",
              "</div>"
            ],
            "text/plain": [
              "                       nom naissance  \\\n",
              "0          Vickie Gendreau      1989   \n",
              "1              Axl Cendres      1982   \n",
              "2        Geneviève Castrée      1981   \n",
              "3          Isabelle Périer      1978   \n",
              "4  Nathanaël Dupré La Tour      1977   \n",
              "5          Coralie Delaume      1976   \n",
              "6         Claire Guézengar      1972   \n",
              "7          Philippe Nassif      1971   \n",
              "8              Fatou Cissé      1971   \n",
              "9           Benoït Violier      1971   \n",
              "\n",
              "                                                      auteurDbpedia  \n",
              "0                    http://fr.dbpedia.org/resource/Vickie_Gendreau  \n",
              "1                        http://fr.dbpedia.org/resource/Axl_Cendres  \n",
              "2        http://fr.dbpedia.org/resource/Genevi%C3%A8ve_Castr%C3%A9e  \n",
              "3               http://fr.dbpedia.org/resource/Isabelle_P%C3%A9rier  \n",
              "4  http://fr.dbpedia.org/resource/Nathana%C3%ABl_Dupr%C3%A9_La_Tour  \n",
              "5                    http://fr.dbpedia.org/resource/Coralie_Delaume  \n",
              "6                   http://fr.dbpedia.org/resource/Claire_Guezengar  \n",
              "7                    http://fr.dbpedia.org/resource/Philippe_Nassif  \n",
              "8             http://fr.dbpedia.org/resource/Fatou_Fanny-Ciss%C3%A9  \n",
              "9                http://fr.dbpedia.org/resource/Beno%C3%AEt_Violier  "
            ]
          },
          "execution_count": 10,
          "metadata": {},
          "output_type": "execute_result"
        }
      ],
      "source": [
        "requete = BNF_prefix + \"\"\"\n",
        "SELECT distinct ?nom  ?naissance ?auteurDbpedia\n",
        "WHERE {\n",
        "\n",
        "# une oeuvre est associée a (au moins) un auteur\n",
        "?livre dc:creator ?auteur.\n",
        "\n",
        "# livre écrit en français\n",
        "?livre dc:language <http://id.loc.gov/vocabulary/iso639-2/fre> .\n",
        "\n",
        "# un auteur a un nom, et une année de naissance\n",
        "?auteur foaf:name ?nom ; bio:birth ?naissance .\n",
        "\n",
        "# l'auteur existe également dans une source externe,\n",
        "# on dit qu'il est \"aligné\" avec un autre instance du même individu.\n",
        "?auteur owl:sameAs ?auteurDbpedia .\n",
        "\n",
        "# naissance dans l'intervalle [1900, 2000] et la référence externe \"pointe\" vers dbpedia\n",
        "FILTER (xsd:integer (?naissance) > '1900'^^xsd:integer\n",
        "     && xsd:integer (?naissance) < '2000'^^xsd:integer\n",
        "     && regex(?auteurDbpedia, \"http://fr.dbpedia.org\")\n",
        "     )\n",
        "}\n",
        "ORDER BY desc(?naissance)\n",
        "LIMIT 10\n",
        "\"\"\"\n",
        "\n",
        "BNF.setQuery(requete)\n",
        "\n",
        "resultats = BNF.query().bindings\n",
        "afficherResultat(resultats)"
      ]
    },
    {
      "cell_type": "markdown",
      "metadata": {
        "id": "SdArE9Sd8TpF"
      },
      "source": [
        "### BNF A3 : Les auteurs d'une oeuvre philosophique\n",
        "\n",
        "Voir T1 pour la liste des thèmes possibles autres que la philosophie.\n",
        "\n",
        "On se limite aux oeuvres écrite en français et sont l'auteur est référencé dans dbpedia france."
      ]
    },
    {
      "cell_type": "code",
      "execution_count": 11,
      "metadata": {
        "colab": {
          "base_uri": "https://localhost:8080/",
          "height": 241
        },
        "id": "8yqeCT3F8cO-",
        "outputId": "c89b229d-0ea6-4262-c77f-0cd128b44c1c"
      },
      "outputs": [
        {
          "name": "stdout",
          "output_type": "stream",
          "text": [
            "20 éléments\n",
            "schéma:  ['nom', 'auteurDbpedia']\n"
          ]
        },
        {
          "data": {
            "text/html": [
              "<div>\n",
              "<style scoped>\n",
              "    .dataframe tbody tr th:only-of-type {\n",
              "        vertical-align: middle;\n",
              "    }\n",
              "\n",
              "    .dataframe tbody tr th {\n",
              "        vertical-align: top;\n",
              "    }\n",
              "\n",
              "    .dataframe thead th {\n",
              "        text-align: right;\n",
              "    }\n",
              "</style>\n",
              "<table border=\"1\" class=\"dataframe\">\n",
              "  <thead>\n",
              "    <tr style=\"text-align: right;\">\n",
              "      <th></th>\n",
              "      <th>nom</th>\n",
              "      <th>auteurDbpedia</th>\n",
              "    </tr>\n",
              "  </thead>\n",
              "  <tbody>\n",
              "    <tr>\n",
              "      <th>0</th>\n",
              "      <td>Alexis Carrel</td>\n",
              "      <td>http://fr.dbpedia.org/resource/Alexis_Carrel</td>\n",
              "    </tr>\n",
              "    <tr>\n",
              "      <th>1</th>\n",
              "      <td>Antoine de Rivarol</td>\n",
              "      <td>http://fr.dbpedia.org/resource/Antoine_de_Rivarol</td>\n",
              "    </tr>\n",
              "    <tr>\n",
              "      <th>2</th>\n",
              "      <td>Bernard-Henri Lévy</td>\n",
              "      <td>http://fr.dbpedia.org/resource/Bernard-Henri_L%C3%A9vy</td>\n",
              "    </tr>\n",
              "    <tr>\n",
              "      <th>3</th>\n",
              "      <td>Bernard de Fontenelle</td>\n",
              "      <td>http://fr.dbpedia.org/resource/Bernard_Le_Bouyer_de_Fontenelle</td>\n",
              "    </tr>\n",
              "    <tr>\n",
              "      <th>4</th>\n",
              "      <td>Claude Guillon</td>\n",
              "      <td>http://fr.dbpedia.org/resource/Claude_Guillon_%28%C3%A9crivain%29</td>\n",
              "    </tr>\n",
              "  </tbody>\n",
              "</table>\n",
              "</div>"
            ],
            "text/plain": [
              "                     nom  \\\n",
              "0          Alexis Carrel   \n",
              "1     Antoine de Rivarol   \n",
              "2     Bernard-Henri Lévy   \n",
              "3  Bernard de Fontenelle   \n",
              "4         Claude Guillon   \n",
              "\n",
              "                                                       auteurDbpedia  \n",
              "0                       http://fr.dbpedia.org/resource/Alexis_Carrel  \n",
              "1                  http://fr.dbpedia.org/resource/Antoine_de_Rivarol  \n",
              "2             http://fr.dbpedia.org/resource/Bernard-Henri_L%C3%A9vy  \n",
              "3     http://fr.dbpedia.org/resource/Bernard_Le_Bouyer_de_Fontenelle  \n",
              "4  http://fr.dbpedia.org/resource/Claude_Guillon_%28%C3%A9crivain%29  "
            ]
          },
          "execution_count": 11,
          "metadata": {},
          "output_type": "execute_result"
        }
      ],
      "source": [
        "requete = BNF_prefix + \"\"\"\n",
        "SELECT distinct ?nom ?auteurDbpedia ?type_ouvrage\n",
        "WHERE {\n",
        "\n",
        "  ?livre dc:creator ?auteur .\n",
        "\n",
        "  # un livre est un ouvrage textuel\n",
        "  # (revoir la formulation de ce triplet...)\n",
        "  # ?livre rda:P10004 <http://data.bnf.fr/vocabulary/work-form/te> .\n",
        "\n",
        "  # le livre existe également dans une autre source\n",
        "  ?livre owl:sameAs ?livreWiki .\n",
        "\n",
        "  # livre écrit en français\n",
        "  ?livre dc:language <http://id.loc.gov/vocabulary/iso639-2/fre> .\n",
        "\n",
        "  # le livre a pour theme \"Philosophie\"\n",
        "  ?livre bnf:subject \"Philosophie\" .\n",
        "\n",
        "  # le nom de l'auteur\n",
        "  ?auteur foaf:name ?nom .\n",
        "\n",
        "  # l'auteur existe également dans une autre source\n",
        "  ?auteur owl:sameAs ?auteurDbpedia .\n",
        "\n",
        "  FILTER ( regex(?livreWiki, \"http://wikidata.org\")\n",
        "       &&  regex(?auteurDbpedia, \"http://fr.dbpedia.org\")\n",
        "  )\n",
        "}\n",
        "ORDER BY ?auteurDbpedia\n",
        "\n",
        "LIMIT 20\n",
        "\"\"\"\n",
        "\n",
        "BNF.setQuery(requete)\n",
        "resultats =  BNF.query().bindings\n",
        "afficherResultat(resultats, 5)"
      ]
    },
    {
      "cell_type": "markdown",
      "metadata": {
        "id": "YKeWGRI4HPPu"
      },
      "source": [
        "###  BNF L1 : Les livres avec leurs auteurs\n",
        "\n",
        "Les livres écrit en français au 21eme siècle,  référencés dans wikidata et dont l'auteur est référencé dans dbpedia"
      ]
    },
    {
      "cell_type": "code",
      "execution_count": 12,
      "metadata": {
        "colab": {
          "base_uri": "https://localhost:8080/",
          "height": 798
        },
        "id": "EOf7x6RIGvRP",
        "outputId": "80443807-194e-454a-9814-43d6da0ec656"
      },
      "outputs": [
        {
          "name": "stdout",
          "output_type": "stream",
          "text": [
            "20 éléments\n",
            "schéma:  ['annee', 'nom', 'titre', 'auteurDbpedia']\n"
          ]
        },
        {
          "data": {
            "text/html": [
              "<div>\n",
              "<style scoped>\n",
              "    .dataframe tbody tr th:only-of-type {\n",
              "        vertical-align: middle;\n",
              "    }\n",
              "\n",
              "    .dataframe tbody tr th {\n",
              "        vertical-align: top;\n",
              "    }\n",
              "\n",
              "    .dataframe thead th {\n",
              "        text-align: right;\n",
              "    }\n",
              "</style>\n",
              "<table border=\"1\" class=\"dataframe\">\n",
              "  <thead>\n",
              "    <tr style=\"text-align: right;\">\n",
              "      <th></th>\n",
              "      <th>annee</th>\n",
              "      <th>nom</th>\n",
              "      <th>titre</th>\n",
              "      <th>auteurDbpedia</th>\n",
              "    </tr>\n",
              "  </thead>\n",
              "  <tbody>\n",
              "    <tr>\n",
              "      <th>0</th>\n",
              "      <td>2001</td>\n",
              "      <td>Catherine Millet</td>\n",
              "      <td>La vie sexuelle de Catherine M.</td>\n",
              "      <td>http://fr.dbpedia.org/resource/Catherine_Millet</td>\n",
              "    </tr>\n",
              "    <tr>\n",
              "      <th>1</th>\n",
              "      <td>2006</td>\n",
              "      <td>Jonathan Littell</td>\n",
              "      <td>Les Bienveillantes</td>\n",
              "      <td>http://fr.dbpedia.org/resource/Jonathan_Littell</td>\n",
              "    </tr>\n",
              "    <tr>\n",
              "      <th>2</th>\n",
              "      <td>2006</td>\n",
              "      <td>Pascal Quignard</td>\n",
              "      <td>Villa Amalia</td>\n",
              "      <td>http://fr.dbpedia.org/resource/Pascal_Quignard</td>\n",
              "    </tr>\n",
              "    <tr>\n",
              "      <th>3</th>\n",
              "      <td>2001</td>\n",
              "      <td>Claude Simon</td>\n",
              "      <td>Le tramway</td>\n",
              "      <td>http://fr.dbpedia.org/resource/Claude_Simon</td>\n",
              "    </tr>\n",
              "    <tr>\n",
              "      <th>4</th>\n",
              "      <td>2001</td>\n",
              "      <td>Michel Houellebecq</td>\n",
              "      <td>Plateforme</td>\n",
              "      <td>http://fr.dbpedia.org/resource/Michel_Houellebecq</td>\n",
              "    </tr>\n",
              "    <tr>\n",
              "      <th>5</th>\n",
              "      <td>2015</td>\n",
              "      <td>Michel Houellebecq</td>\n",
              "      <td>Soumission</td>\n",
              "      <td>http://fr.dbpedia.org/resource/Michel_Houellebecq</td>\n",
              "    </tr>\n",
              "    <tr>\n",
              "      <th>6</th>\n",
              "      <td>2003</td>\n",
              "      <td>J. M. G. Le Clézio</td>\n",
              "      <td>Révolutions</td>\n",
              "      <td>http://fr.dbpedia.org/resource/J._M._G._Le_Cl%C3%A9zio</td>\n",
              "    </tr>\n",
              "    <tr>\n",
              "      <th>7</th>\n",
              "      <td>2001</td>\n",
              "      <td>Yves Bonnefoy</td>\n",
              "      <td>Les planches courbes</td>\n",
              "      <td>http://fr.dbpedia.org/resource/Yves_Bonnefoy</td>\n",
              "    </tr>\n",
              "    <tr>\n",
              "      <th>8</th>\n",
              "      <td>2002</td>\n",
              "      <td>André Gide</td>\n",
              "      <td>Le ramier</td>\n",
              "      <td>http://fr.dbpedia.org/resource/Andr%C3%A9_Gide</td>\n",
              "    </tr>\n",
              "    <tr>\n",
              "      <th>9</th>\n",
              "      <td>2004</td>\n",
              "      <td>Alain Damasio</td>\n",
              "      <td>La horde du contrevent</td>\n",
              "      <td>http://fr.dbpedia.org/resource/Alain_Damasio</td>\n",
              "    </tr>\n",
              "    <tr>\n",
              "      <th>10</th>\n",
              "      <td>2013</td>\n",
              "      <td>Thomas Piketty</td>\n",
              "      <td>Le capital au XXIe siècle</td>\n",
              "      <td>http://fr.dbpedia.org/resource/Thomas_Piketty</td>\n",
              "    </tr>\n",
              "    <tr>\n",
              "      <th>11</th>\n",
              "      <td>2007</td>\n",
              "      <td>Nathacha Appanah</td>\n",
              "      <td>Le dernier frère</td>\n",
              "      <td>http://fr.dbpedia.org/resource/Nathacha_Appanah</td>\n",
              "    </tr>\n",
              "    <tr>\n",
              "      <th>12</th>\n",
              "      <td>2005</td>\n",
              "      <td>Michel Onfray</td>\n",
              "      <td>Traité d'athéologie</td>\n",
              "      <td>http://fr.dbpedia.org/resource/Michel_Onfray</td>\n",
              "    </tr>\n",
              "    <tr>\n",
              "      <th>13</th>\n",
              "      <td>2012</td>\n",
              "      <td>Waǧdī Muʿawwaḍ</td>\n",
              "      <td>Anima</td>\n",
              "      <td>http://fr.dbpedia.org/resource/Wajdi_Mouawad</td>\n",
              "    </tr>\n",
              "    <tr>\n",
              "      <th>14</th>\n",
              "      <td>2010</td>\n",
              "      <td>Jean Echenoz</td>\n",
              "      <td>Des éclairs</td>\n",
              "      <td>http://fr.dbpedia.org/resource/Jean_Echenoz</td>\n",
              "    </tr>\n",
              "    <tr>\n",
              "      <th>15</th>\n",
              "      <td>2008</td>\n",
              "      <td>Jean Echenoz</td>\n",
              "      <td>Courir</td>\n",
              "      <td>http://fr.dbpedia.org/resource/Jean_Echenoz</td>\n",
              "    </tr>\n",
              "    <tr>\n",
              "      <th>16</th>\n",
              "      <td>2018</td>\n",
              "      <td>Peter Gelderloos</td>\n",
              "      <td>Comment la non-violence protège l'État : essai sur l'inefficacité des mouvements sociaux</td>\n",
              "      <td>http://fr.dbpedia.org/resource/Peter_Gelderloos</td>\n",
              "    </tr>\n",
              "    <tr>\n",
              "      <th>17</th>\n",
              "      <td>2007</td>\n",
              "      <td>Comité invisible. France</td>\n",
              "      <td>L'insurrection qui vient</td>\n",
              "      <td>http://fr.dbpedia.org/resource/Comit%C3%A9_invisible</td>\n",
              "    </tr>\n",
              "    <tr>\n",
              "      <th>18</th>\n",
              "      <td>2014</td>\n",
              "      <td>Édouard Louis</td>\n",
              "      <td>En finir avec Eddy Bellegueule</td>\n",
              "      <td>http://fr.dbpedia.org/resource/%C3%89douard_Louis</td>\n",
              "    </tr>\n",
              "    <tr>\n",
              "      <th>19</th>\n",
              "      <td>2010</td>\n",
              "      <td>Michel Onfray</td>\n",
              "      <td>Le crépuscule d'une idole</td>\n",
              "      <td>http://fr.dbpedia.org/resource/Michel_Onfray</td>\n",
              "    </tr>\n",
              "  </tbody>\n",
              "</table>\n",
              "</div>"
            ],
            "text/plain": [
              "   annee                       nom  \\\n",
              "0   2001          Catherine Millet   \n",
              "1   2006          Jonathan Littell   \n",
              "2   2006           Pascal Quignard   \n",
              "3   2001              Claude Simon   \n",
              "4   2001        Michel Houellebecq   \n",
              "5   2015        Michel Houellebecq   \n",
              "6   2003        J. M. G. Le Clézio   \n",
              "7   2001             Yves Bonnefoy   \n",
              "8   2002                André Gide   \n",
              "9   2004             Alain Damasio   \n",
              "10  2013            Thomas Piketty   \n",
              "11  2007          Nathacha Appanah   \n",
              "12  2005             Michel Onfray   \n",
              "13  2012           Waǧdī Muʿawwaḍ   \n",
              "14  2010              Jean Echenoz   \n",
              "15  2008              Jean Echenoz   \n",
              "16  2018          Peter Gelderloos   \n",
              "17  2007  Comité invisible. France   \n",
              "18  2014             Édouard Louis   \n",
              "19  2010             Michel Onfray   \n",
              "\n",
              "                                                                                       titre  \\\n",
              "0                                                            La vie sexuelle de Catherine M.   \n",
              "1                                                                         Les Bienveillantes   \n",
              "2                                                                               Villa Amalia   \n",
              "3                                                                                 Le tramway   \n",
              "4                                                                                 Plateforme   \n",
              "5                                                                                 Soumission   \n",
              "6                                                                                Révolutions   \n",
              "7                                                                       Les planches courbes   \n",
              "8                                                                                  Le ramier   \n",
              "9                                                                     La horde du contrevent   \n",
              "10                                                                 Le capital au XXIe siècle   \n",
              "11                                                                          Le dernier frère   \n",
              "12                                                                       Traité d'athéologie   \n",
              "13                                                                                     Anima   \n",
              "14                                                                               Des éclairs   \n",
              "15                                                                                    Courir   \n",
              "16  Comment la non-violence protège l'État : essai sur l'inefficacité des mouvements sociaux   \n",
              "17                                                                  L'insurrection qui vient   \n",
              "18                                                            En finir avec Eddy Bellegueule   \n",
              "19                                                                 Le crépuscule d'une idole   \n",
              "\n",
              "                                             auteurDbpedia  \n",
              "0          http://fr.dbpedia.org/resource/Catherine_Millet  \n",
              "1          http://fr.dbpedia.org/resource/Jonathan_Littell  \n",
              "2           http://fr.dbpedia.org/resource/Pascal_Quignard  \n",
              "3              http://fr.dbpedia.org/resource/Claude_Simon  \n",
              "4        http://fr.dbpedia.org/resource/Michel_Houellebecq  \n",
              "5        http://fr.dbpedia.org/resource/Michel_Houellebecq  \n",
              "6   http://fr.dbpedia.org/resource/J._M._G._Le_Cl%C3%A9zio  \n",
              "7             http://fr.dbpedia.org/resource/Yves_Bonnefoy  \n",
              "8           http://fr.dbpedia.org/resource/Andr%C3%A9_Gide  \n",
              "9             http://fr.dbpedia.org/resource/Alain_Damasio  \n",
              "10           http://fr.dbpedia.org/resource/Thomas_Piketty  \n",
              "11         http://fr.dbpedia.org/resource/Nathacha_Appanah  \n",
              "12            http://fr.dbpedia.org/resource/Michel_Onfray  \n",
              "13            http://fr.dbpedia.org/resource/Wajdi_Mouawad  \n",
              "14             http://fr.dbpedia.org/resource/Jean_Echenoz  \n",
              "15             http://fr.dbpedia.org/resource/Jean_Echenoz  \n",
              "16         http://fr.dbpedia.org/resource/Peter_Gelderloos  \n",
              "17    http://fr.dbpedia.org/resource/Comit%C3%A9_invisible  \n",
              "18       http://fr.dbpedia.org/resource/%C3%89douard_Louis  \n",
              "19            http://fr.dbpedia.org/resource/Michel_Onfray  "
            ]
          },
          "execution_count": 12,
          "metadata": {},
          "output_type": "execute_result"
        }
      ],
      "source": [
        "requete = BNF_prefix + \"\"\"\n",
        "SELECT distinct ?annee ?nom ?titre ?auteurDbpedia\n",
        "WHERE {\n",
        "\n",
        "  ?livre dc:creator ?auteur .\n",
        "\n",
        "  # l'année de parution du livre\n",
        "  ?livre dc:date ?annee .\n",
        "\n",
        "  # le titre du livre\n",
        "  ?livre dc:title ?titre .\n",
        "\n",
        "  # un livre est un ouvrage textuel\n",
        "  ?livre rda:P10004 <http://data.bnf.fr/vocabulary/work-form/te> .\n",
        "\n",
        "  # le livre existe également dans une autre source\n",
        "  ?livre owl:sameAs ?livreWiki .\n",
        "\n",
        "  # livre écrit en français\n",
        "  ?livre dc:language <http://id.loc.gov/vocabulary/iso639-2/fre> .\n",
        "\n",
        "  # le nom de l'auteur\n",
        "  ?auteur foaf:name ?nom.\n",
        "\n",
        "  # l'auteur existe également dans une autre source\n",
        "  ?auteur owl:sameAs ?auteurDbpedia .\n",
        "\n",
        "  FILTER (\n",
        "       xsd:integer (?annee) > '2000'^^xsd:integer\n",
        "    && xsd:integer (?annee) < '2099'^^xsd:integer\n",
        "    && regex(?livreWiki, \"http://wikidata.org\")\n",
        "    &&  regex(?auteurDbpedia, \"http://fr.dbpedia.org\")\n",
        "  )\n",
        "}\n",
        "#ORDER BY desc(?annee)\n",
        "\n",
        "LIMIT 20\n",
        "\"\"\"\n",
        "\n",
        "BNF.setQuery(requete)\n",
        "resultats =  BNF.query().bindings\n",
        "afficherResultat(resultats)"
      ]
    },
    {
      "cell_type": "markdown",
      "metadata": {
        "id": "f8MHZR2v9nWL"
      },
      "source": [
        "## Source 2 : DBPedia France"
      ]
    },
    {
      "cell_type": "markdown",
      "metadata": {
        "id": "lUV0Hse4IqBD"
      },
      "source": [
        "### D1 : Informations sur une personne dont le nom contient certains mots.\n",
        "Afficher le nom, nationalité, profession, date et lieu de naissance"
      ]
    },
    {
      "cell_type": "code",
      "execution_count": 13,
      "metadata": {
        "colab": {
          "base_uri": "https://localhost:8080/",
          "height": 695
        },
        "id": "kE7pEqETIl00",
        "outputId": "e659af30-e313-4410-c49f-95eb76a040a8"
      },
      "outputs": [
        {
          "name": "stdout",
          "output_type": "stream",
          "text": [
            "10 éléments\n",
            "schéma:  ['p', 'name', 'nationalité', 'profession', 'naissance', 'lieu']\n"
          ]
        },
        {
          "data": {
            "text/html": [
              "<div>\n",
              "<style scoped>\n",
              "    .dataframe tbody tr th:only-of-type {\n",
              "        vertical-align: middle;\n",
              "    }\n",
              "\n",
              "    .dataframe tbody tr th {\n",
              "        vertical-align: top;\n",
              "    }\n",
              "\n",
              "    .dataframe thead th {\n",
              "        text-align: right;\n",
              "    }\n",
              "</style>\n",
              "<table border=\"1\" class=\"dataframe\">\n",
              "  <thead>\n",
              "    <tr style=\"text-align: right;\">\n",
              "      <th></th>\n",
              "      <th>p</th>\n",
              "      <th>name</th>\n",
              "      <th>nationalité</th>\n",
              "      <th>profession</th>\n",
              "      <th>naissance</th>\n",
              "      <th>lieu</th>\n",
              "    </tr>\n",
              "  </thead>\n",
              "  <tbody>\n",
              "    <tr>\n",
              "      <th>0</th>\n",
              "      <td>http://fr.dbpedia.org/resource/Victor_Hugo_de_Azevedo_Coutinho</td>\n",
              "      <td>Victor Hugo de Azevedo Coutinho</td>\n",
              "      <td>http://fr.dbpedia.org/resource/Portugal</td>\n",
              "      <td>http://fr.dbpedia.org/resource/Officier</td>\n",
              "      <td>1871</td>\n",
              "      <td>http://fr.dbpedia.org/resource/Macao</td>\n",
              "    </tr>\n",
              "    <tr>\n",
              "      <th>1</th>\n",
              "      <td>http://fr.dbpedia.org/resource/Victor_Hugo_de_Azevedo_Coutinho</td>\n",
              "      <td></td>\n",
              "      <td>http://fr.dbpedia.org/resource/Portugal</td>\n",
              "      <td>http://fr.dbpedia.org/resource/Officier</td>\n",
              "      <td>1871</td>\n",
              "      <td>http://fr.dbpedia.org/resource/Macao</td>\n",
              "    </tr>\n",
              "    <tr>\n",
              "      <th>2</th>\n",
              "      <td>http://fr.dbpedia.org/resource/Victor_Hugo_de_Azevedo_Coutinho</td>\n",
              "      <td></td>\n",
              "      <td>http://fr.dbpedia.org/resource/Portugal</td>\n",
              "      <td>http://fr.dbpedia.org/resource/Officier</td>\n",
              "      <td>1871</td>\n",
              "      <td>http://fr.dbpedia.org/resource/Macao</td>\n",
              "    </tr>\n",
              "    <tr>\n",
              "      <th>3</th>\n",
              "      <td>http://fr.dbpedia.org/resource/Victor_Hugo_de_Azevedo_Coutinho</td>\n",
              "      <td></td>\n",
              "      <td>http://fr.dbpedia.org/resource/Portugal</td>\n",
              "      <td>http://fr.dbpedia.org/resource/Officier</td>\n",
              "      <td>1871</td>\n",
              "      <td>http://fr.dbpedia.org/resource/Macao</td>\n",
              "    </tr>\n",
              "    <tr>\n",
              "      <th>4</th>\n",
              "      <td>http://fr.dbpedia.org/resource/Victor_Hugo_de_Azevedo_Coutinho</td>\n",
              "      <td>Victor Hugo de Azevedo Coutinho</td>\n",
              "      <td>http://fr.dbpedia.org/resource/Portugal</td>\n",
              "      <td>http://fr.dbpedia.org/resource/Officier</td>\n",
              "      <td>1871</td>\n",
              "      <td>http://fr.dbpedia.org/resource/Macao</td>\n",
              "    </tr>\n",
              "    <tr>\n",
              "      <th>5</th>\n",
              "      <td>http://fr.dbpedia.org/resource/Victor_Hugo_de_Azevedo_Coutinho</td>\n",
              "      <td>Victor Hugo de Azevedo Coutinho</td>\n",
              "      <td>http://fr.dbpedia.org/resource/Portugal</td>\n",
              "      <td>http://fr.dbpedia.org/resource/Officier</td>\n",
              "      <td>1871</td>\n",
              "      <td>http://fr.dbpedia.org/resource/Macao</td>\n",
              "    </tr>\n",
              "    <tr>\n",
              "      <th>6</th>\n",
              "      <td>http://fr.dbpedia.org/resource/Victor_Hugo_de_Azevedo_Coutinho</td>\n",
              "      <td></td>\n",
              "      <td>http://fr.dbpedia.org/resource/Portugal</td>\n",
              "      <td>http://fr.dbpedia.org/resource/Officier</td>\n",
              "      <td>1871</td>\n",
              "      <td>http://fr.dbpedia.org/resource/Macao</td>\n",
              "    </tr>\n",
              "    <tr>\n",
              "      <th>7</th>\n",
              "      <td>http://fr.dbpedia.org/resource/Victor_Hugo_de_Azevedo_Coutinho</td>\n",
              "      <td>Victor Hugo de Azevedo Coutinho</td>\n",
              "      <td>http://fr.dbpedia.org/resource/Portugal</td>\n",
              "      <td>http://fr.dbpedia.org/resource/Officier</td>\n",
              "      <td>1871</td>\n",
              "      <td>http://fr.dbpedia.org/resource/Macao</td>\n",
              "    </tr>\n",
              "    <tr>\n",
              "      <th>8</th>\n",
              "      <td>http://fr.dbpedia.org/resource/Victor_Hugo_Green</td>\n",
              "      <td>Victor Hugo Green</td>\n",
              "      <td>Américain</td>\n",
              "      <td></td>\n",
              "      <td>1892</td>\n",
              "      <td>http://fr.dbpedia.org/resource/New_York</td>\n",
              "    </tr>\n",
              "    <tr>\n",
              "      <th>9</th>\n",
              "      <td>http://fr.dbpedia.org/resource/Victor_Hugo_Green</td>\n",
              "      <td>Victor Hugo Green</td>\n",
              "      <td>Américain</td>\n",
              "      <td></td>\n",
              "      <td>1892</td>\n",
              "      <td>http://fr.dbpedia.org/resource/États-Unis</td>\n",
              "    </tr>\n",
              "  </tbody>\n",
              "</table>\n",
              "</div>"
            ],
            "text/plain": [
              "                                                                p  \\\n",
              "0  http://fr.dbpedia.org/resource/Victor_Hugo_de_Azevedo_Coutinho   \n",
              "1  http://fr.dbpedia.org/resource/Victor_Hugo_de_Azevedo_Coutinho   \n",
              "2  http://fr.dbpedia.org/resource/Victor_Hugo_de_Azevedo_Coutinho   \n",
              "3  http://fr.dbpedia.org/resource/Victor_Hugo_de_Azevedo_Coutinho   \n",
              "4  http://fr.dbpedia.org/resource/Victor_Hugo_de_Azevedo_Coutinho   \n",
              "5  http://fr.dbpedia.org/resource/Victor_Hugo_de_Azevedo_Coutinho   \n",
              "6  http://fr.dbpedia.org/resource/Victor_Hugo_de_Azevedo_Coutinho   \n",
              "7  http://fr.dbpedia.org/resource/Victor_Hugo_de_Azevedo_Coutinho   \n",
              "8                http://fr.dbpedia.org/resource/Victor_Hugo_Green   \n",
              "9                http://fr.dbpedia.org/resource/Victor_Hugo_Green   \n",
              "\n",
              "                              name                              nationalité  \\\n",
              "0  Victor Hugo de Azevedo Coutinho  http://fr.dbpedia.org/resource/Portugal   \n",
              "1                                   http://fr.dbpedia.org/resource/Portugal   \n",
              "2                                   http://fr.dbpedia.org/resource/Portugal   \n",
              "3                                   http://fr.dbpedia.org/resource/Portugal   \n",
              "4  Victor Hugo de Azevedo Coutinho  http://fr.dbpedia.org/resource/Portugal   \n",
              "5  Victor Hugo de Azevedo Coutinho  http://fr.dbpedia.org/resource/Portugal   \n",
              "6                                   http://fr.dbpedia.org/resource/Portugal   \n",
              "7  Victor Hugo de Azevedo Coutinho  http://fr.dbpedia.org/resource/Portugal   \n",
              "8                Victor Hugo Green                                Américain   \n",
              "9                Victor Hugo Green                                Américain   \n",
              "\n",
              "                                profession naissance  \\\n",
              "0  http://fr.dbpedia.org/resource/Officier      1871   \n",
              "1  http://fr.dbpedia.org/resource/Officier      1871   \n",
              "2  http://fr.dbpedia.org/resource/Officier      1871   \n",
              "3  http://fr.dbpedia.org/resource/Officier      1871   \n",
              "4  http://fr.dbpedia.org/resource/Officier      1871   \n",
              "5  http://fr.dbpedia.org/resource/Officier      1871   \n",
              "6  http://fr.dbpedia.org/resource/Officier      1871   \n",
              "7  http://fr.dbpedia.org/resource/Officier      1871   \n",
              "8                                               1892   \n",
              "9                                               1892   \n",
              "\n",
              "                                        lieu  \n",
              "0       http://fr.dbpedia.org/resource/Macao  \n",
              "1       http://fr.dbpedia.org/resource/Macao  \n",
              "2       http://fr.dbpedia.org/resource/Macao  \n",
              "3       http://fr.dbpedia.org/resource/Macao  \n",
              "4       http://fr.dbpedia.org/resource/Macao  \n",
              "5       http://fr.dbpedia.org/resource/Macao  \n",
              "6       http://fr.dbpedia.org/resource/Macao  \n",
              "7       http://fr.dbpedia.org/resource/Macao  \n",
              "8    http://fr.dbpedia.org/resource/New_York  \n",
              "9  http://fr.dbpedia.org/resource/États-Unis  "
            ]
          },
          "execution_count": 13,
          "metadata": {},
          "output_type": "execute_result"
        }
      ],
      "source": [
        "requete_parametree = DBPEDIA_prefix + \"\"\"\n",
        "  SELECT ?p ?name ?nationalité ?profession year(xsd:dateTime(?naissance)) as ?naissance  ?lieu\n",
        "  WHERE {\n",
        "    ?p a dbo:Person .\n",
        "    ?p foaf:name ?name .\n",
        "    ?p dbo:birthDate ?naissance\n",
        "    optional {?p dbp:nationalité ?nationalité}\n",
        "    optional {?p dbp:profession ?profession}\n",
        "    optional {?p dbp:lieuDeNaissance ?lieu}\n",
        "\n",
        "  FILTER (regex(?p, \"{MOTIF}\", \"i\") )\n",
        "  }\n",
        "  LIMIT 10\n",
        "\"\"\"\n",
        "\n",
        "# l'expression régulière du nom à retrouver\n",
        "motif = \"Victor.*Hug\"\n",
        "\n",
        "requete = requete_parametree.replace(\"{MOTIF}\", motif)\n",
        "\n",
        "DBPEDIA.setQuery(requete)\n",
        "res = DBPEDIA.query().bindings\n",
        "afficherResultat(res)"
      ]
    },
    {
      "cell_type": "markdown",
      "metadata": {
        "id": "RmrC3XpMuVis"
      },
      "source": [
        "### D2 : les infos détaillées sur une certaine personne"
      ]
    },
    {
      "cell_type": "code",
      "execution_count": 14,
      "metadata": {
        "colab": {
          "base_uri": "https://localhost:8080/",
          "height": 178
        },
        "id": "aQyPyuSmuavU",
        "outputId": "63134046-1126-4d13-d188-3f57b47ba6e9"
      },
      "outputs": [
        {
          "name": "stdout",
          "output_type": "stream",
          "text": [
            "3 éléments\n",
            "schéma:  ['name', 'interet', 'idee']\n"
          ]
        },
        {
          "data": {
            "text/html": [
              "<div>\n",
              "<style scoped>\n",
              "    .dataframe tbody tr th:only-of-type {\n",
              "        vertical-align: middle;\n",
              "    }\n",
              "\n",
              "    .dataframe tbody tr th {\n",
              "        vertical-align: top;\n",
              "    }\n",
              "\n",
              "    .dataframe thead th {\n",
              "        text-align: right;\n",
              "    }\n",
              "</style>\n",
              "<table border=\"1\" class=\"dataframe\">\n",
              "  <thead>\n",
              "    <tr style=\"text-align: right;\">\n",
              "      <th></th>\n",
              "      <th>name</th>\n",
              "      <th>interet</th>\n",
              "      <th>idee</th>\n",
              "    </tr>\n",
              "  </thead>\n",
              "  <tbody>\n",
              "    <tr>\n",
              "      <th>0</th>\n",
              "      <td>Simone de Beauvoir</td>\n",
              "      <td>http://fr.dbpedia.org/resource/Philosophie</td>\n",
              "      <td>Éthiques du féminisme, féminisme existentialiste, éthiques de l'ambigüité</td>\n",
              "    </tr>\n",
              "    <tr>\n",
              "      <th>1</th>\n",
              "      <td>Simone de Beauvoir</td>\n",
              "      <td>http://fr.dbpedia.org/resource/Politique</td>\n",
              "      <td>Éthiques du féminisme, féminisme existentialiste, éthiques de l'ambigüité</td>\n",
              "    </tr>\n",
              "    <tr>\n",
              "      <th>2</th>\n",
              "      <td>Simone de Beauvoir</td>\n",
              "      <td>http://fr.dbpedia.org/resource/Éthique</td>\n",
              "      <td>Éthiques du féminisme, féminisme existentialiste, éthiques de l'ambigüité</td>\n",
              "    </tr>\n",
              "  </tbody>\n",
              "</table>\n",
              "</div>"
            ],
            "text/plain": [
              "                 name                                     interet  \\\n",
              "0  Simone de Beauvoir  http://fr.dbpedia.org/resource/Philosophie   \n",
              "1  Simone de Beauvoir    http://fr.dbpedia.org/resource/Politique   \n",
              "2  Simone de Beauvoir      http://fr.dbpedia.org/resource/Éthique   \n",
              "\n",
              "                                                                        idee  \n",
              "0  Éthiques du féminisme, féminisme existentialiste, éthiques de l'ambigüité  \n",
              "1  Éthiques du féminisme, féminisme existentialiste, éthiques de l'ambigüité  \n",
              "2  Éthiques du féminisme, féminisme existentialiste, éthiques de l'ambigüité  "
            ]
          },
          "execution_count": 14,
          "metadata": {},
          "output_type": "execute_result"
        }
      ],
      "source": [
        "requete_parametree = DBPEDIA_prefix + \"\"\"\n",
        "  SELECT distinct  ?name ?nationalite ?interet ?idee\n",
        "  WHERE {\n",
        "    ?pers foaf:name ?name\n",
        "    optional {?pers dbp:nationalité ?nationalite}\n",
        "    optional {?pers dbo:mainInterest ?interet}\n",
        "    optional {?pers dbp:idéesRemarquables ?idee}\n",
        "\n",
        "    FILTER ( ?pers = <{PERSONNE}> && STRLEN(?name) != 0)\n",
        "  }\n",
        "  order by ?interet ?idee\n",
        "  LIMIT 20\n",
        "\"\"\"\n",
        "# On fixe une certaine personne\n",
        "personne = 'http://fr.dbpedia.org/resource/Simone_de_Beauvoir'\n",
        "#personne = 'http://fr.dbpedia.org/resource/Jean-Paul_Sartre'\n",
        "\n",
        "# fixer le nom de la personne dans la requête\n",
        "requete = requete_parametree.replace(\"{PERSONNE}\", personne)\n",
        "\n",
        "# print(\"la requête est :\", requete)\n",
        "\n",
        "DBPEDIA.setQuery(requete)\n",
        "res = DBPEDIA.query().bindings\n",
        "afficherResultat(res)"
      ]
    },
    {
      "cell_type": "markdown",
      "metadata": {
        "id": "FV5k4Bnd1QMV"
      },
      "source": [
        "### D3 : la liste des oeuvres principales d'une personne donnée"
      ]
    },
    {
      "cell_type": "code",
      "execution_count": 15,
      "metadata": {
        "colab": {
          "base_uri": "https://localhost:8080/",
          "height": 241
        },
        "id": "vGoCcvdp1bsz",
        "outputId": "a7c9c396-3ceb-450c-825e-dd835b805f53"
      },
      "outputs": [
        {
          "name": "stdout",
          "output_type": "stream",
          "text": [
            "5 éléments\n",
            "schéma:  ['name', 'oeuvre']\n"
          ]
        },
        {
          "data": {
            "text/html": [
              "<div>\n",
              "<style scoped>\n",
              "    .dataframe tbody tr th:only-of-type {\n",
              "        vertical-align: middle;\n",
              "    }\n",
              "\n",
              "    .dataframe tbody tr th {\n",
              "        vertical-align: top;\n",
              "    }\n",
              "\n",
              "    .dataframe thead th {\n",
              "        text-align: right;\n",
              "    }\n",
              "</style>\n",
              "<table border=\"1\" class=\"dataframe\">\n",
              "  <thead>\n",
              "    <tr style=\"text-align: right;\">\n",
              "      <th></th>\n",
              "      <th>name</th>\n",
              "      <th>oeuvre</th>\n",
              "    </tr>\n",
              "  </thead>\n",
              "  <tbody>\n",
              "    <tr>\n",
              "      <th>0</th>\n",
              "      <td>Simone de Beauvoir</td>\n",
              "      <td>L'Invitée</td>\n",
              "    </tr>\n",
              "    <tr>\n",
              "      <th>1</th>\n",
              "      <td>Simone de Beauvoir</td>\n",
              "      <td>La Force de l'âge</td>\n",
              "    </tr>\n",
              "    <tr>\n",
              "      <th>2</th>\n",
              "      <td>Simone de Beauvoir</td>\n",
              "      <td>Le Deuxième Sexe</td>\n",
              "    </tr>\n",
              "    <tr>\n",
              "      <th>3</th>\n",
              "      <td>Simone de Beauvoir</td>\n",
              "      <td>Les Mandarins</td>\n",
              "    </tr>\n",
              "    <tr>\n",
              "      <th>4</th>\n",
              "      <td>Simone de Beauvoir</td>\n",
              "      <td>Mémoires d'une jeune fille rangée</td>\n",
              "    </tr>\n",
              "  </tbody>\n",
              "</table>\n",
              "</div>"
            ],
            "text/plain": [
              "                 name                             oeuvre\n",
              "0  Simone de Beauvoir                          L'Invitée\n",
              "1  Simone de Beauvoir                  La Force de l'âge\n",
              "2  Simone de Beauvoir                   Le Deuxième Sexe\n",
              "3  Simone de Beauvoir                      Les Mandarins\n",
              "4  Simone de Beauvoir  Mémoires d'une jeune fille rangée"
            ]
          },
          "execution_count": 15,
          "metadata": {},
          "output_type": "execute_result"
        }
      ],
      "source": [
        "requete_parametree = DBPEDIA_prefix +  \"\"\"\n",
        "    SELECT distinct ?name ?oeuvre\n",
        "    WHERE {\n",
        "      ?pers foaf:name ?name\n",
        "      optional {?pers  dbp:œuvresPrincipales ?oeuvre}\n",
        "    FILTER ( ?pers = <{PERSONNE}> && STRLEN(?name) != 0)\n",
        "}\n",
        "order by ?oeuvre\n",
        "LIMIT 10\n",
        "\"\"\"\n",
        "# On fixe une certaine personne\n",
        "personne = 'http://fr.dbpedia.org/resource/Simone_de_Beauvoir'\n",
        "\n",
        "requete = requete_parametree.replace(\"{PERSONNE}\", personne)\n",
        "\n",
        "DBPEDIA.setQuery(requete)\n",
        "res = DBPEDIA.query().bindings\n",
        "afficherResultat(res)"
      ]
    },
    {
      "cell_type": "markdown",
      "metadata": {
        "id": "ZFLgbjEf4MX6"
      },
      "source": [
        "### D4 : les influenceurs d'une personne donnée"
      ]
    },
    {
      "cell_type": "code",
      "execution_count": 16,
      "metadata": {
        "colab": {
          "base_uri": "https://localhost:8080/",
          "height": 415
        },
        "id": "MjtM2m484RvJ",
        "outputId": "45fda9b4-8c18-4991-c2ca-d6b150ca108e"
      },
      "outputs": [
        {
          "name": "stdout",
          "output_type": "stream",
          "text": [
            "10 resultats\n",
            "10 éléments\n",
            "schéma:  ['name', 'influenceur']\n"
          ]
        },
        {
          "data": {
            "text/html": [
              "<div>\n",
              "<style scoped>\n",
              "    .dataframe tbody tr th:only-of-type {\n",
              "        vertical-align: middle;\n",
              "    }\n",
              "\n",
              "    .dataframe tbody tr th {\n",
              "        vertical-align: top;\n",
              "    }\n",
              "\n",
              "    .dataframe thead th {\n",
              "        text-align: right;\n",
              "    }\n",
              "</style>\n",
              "<table border=\"1\" class=\"dataframe\">\n",
              "  <thead>\n",
              "    <tr style=\"text-align: right;\">\n",
              "      <th></th>\n",
              "      <th>name</th>\n",
              "      <th>influenceur</th>\n",
              "    </tr>\n",
              "  </thead>\n",
              "  <tbody>\n",
              "    <tr>\n",
              "      <th>0</th>\n",
              "      <td>Simone de Beauvoir</td>\n",
              "      <td>http://fr.dbpedia.org/resource/Alfred_Adler</td>\n",
              "    </tr>\n",
              "    <tr>\n",
              "      <th>1</th>\n",
              "      <td>Simone de Beauvoir</td>\n",
              "      <td>http://fr.dbpedia.org/resource/Edmund_Husserl</td>\n",
              "    </tr>\n",
              "    <tr>\n",
              "      <th>2</th>\n",
              "      <td>Simone de Beauvoir</td>\n",
              "      <td>http://fr.dbpedia.org/resource/Emmanuel_Kant</td>\n",
              "    </tr>\n",
              "    <tr>\n",
              "      <th>3</th>\n",
              "      <td>Simone de Beauvoir</td>\n",
              "      <td>http://fr.dbpedia.org/resource/François_Poullain_de_La_Barre</td>\n",
              "    </tr>\n",
              "    <tr>\n",
              "      <th>4</th>\n",
              "      <td>Simone de Beauvoir</td>\n",
              "      <td>http://fr.dbpedia.org/resource/Friedrich_Engels</td>\n",
              "    </tr>\n",
              "    <tr>\n",
              "      <th>5</th>\n",
              "      <td>Simone de Beauvoir</td>\n",
              "      <td>http://fr.dbpedia.org/resource/Friedrich_Nietzsche</td>\n",
              "    </tr>\n",
              "    <tr>\n",
              "      <th>6</th>\n",
              "      <td>Simone de Beauvoir</td>\n",
              "      <td>http://fr.dbpedia.org/resource/Georg_Wilhelm_Friedrich_Hegel</td>\n",
              "    </tr>\n",
              "    <tr>\n",
              "      <th>7</th>\n",
              "      <td>Simone de Beauvoir</td>\n",
              "      <td>http://fr.dbpedia.org/resource/Jean-Paul_Sartre</td>\n",
              "    </tr>\n",
              "    <tr>\n",
              "      <th>8</th>\n",
              "      <td>Simone de Beauvoir</td>\n",
              "      <td>http://fr.dbpedia.org/resource/Karl_Marx</td>\n",
              "    </tr>\n",
              "    <tr>\n",
              "      <th>9</th>\n",
              "      <td>Simone de Beauvoir</td>\n",
              "      <td>http://fr.dbpedia.org/resource/Martin_Heidegger</td>\n",
              "    </tr>\n",
              "  </tbody>\n",
              "</table>\n",
              "</div>"
            ],
            "text/plain": [
              "                 name  \\\n",
              "0  Simone de Beauvoir   \n",
              "1  Simone de Beauvoir   \n",
              "2  Simone de Beauvoir   \n",
              "3  Simone de Beauvoir   \n",
              "4  Simone de Beauvoir   \n",
              "5  Simone de Beauvoir   \n",
              "6  Simone de Beauvoir   \n",
              "7  Simone de Beauvoir   \n",
              "8  Simone de Beauvoir   \n",
              "9  Simone de Beauvoir   \n",
              "\n",
              "                                                    influenceur  \n",
              "0                   http://fr.dbpedia.org/resource/Alfred_Adler  \n",
              "1                 http://fr.dbpedia.org/resource/Edmund_Husserl  \n",
              "2                  http://fr.dbpedia.org/resource/Emmanuel_Kant  \n",
              "3  http://fr.dbpedia.org/resource/François_Poullain_de_La_Barre  \n",
              "4               http://fr.dbpedia.org/resource/Friedrich_Engels  \n",
              "5            http://fr.dbpedia.org/resource/Friedrich_Nietzsche  \n",
              "6  http://fr.dbpedia.org/resource/Georg_Wilhelm_Friedrich_Hegel  \n",
              "7               http://fr.dbpedia.org/resource/Jean-Paul_Sartre  \n",
              "8                      http://fr.dbpedia.org/resource/Karl_Marx  \n",
              "9               http://fr.dbpedia.org/resource/Martin_Heidegger  "
            ]
          },
          "execution_count": 16,
          "metadata": {},
          "output_type": "execute_result"
        }
      ],
      "source": [
        "requete_parametree = DBPEDIA_prefix + \"\"\"\n",
        "   SELECT distinct ?name ?influenceur\n",
        "    WHERE {\n",
        "      ?pers foaf:name ?name\n",
        "      optional {?pers  dbo:influencedBy ?influenceur}\n",
        "\n",
        "    FILTER ( ?pers = <{PERSONNE}> && STRLEN(?name) != 0)\n",
        "}\n",
        "order by ?influenceur\n",
        "LIMIT 10\n",
        "\"\"\"\n",
        "\n",
        "# On fixe une certaine personne\n",
        "PERSONNE = 'http://fr.dbpedia.org/resource/Simone_de_Beauvoir'\n",
        "#PERSONNE = 'http://fr.dbpedia.org/resource/Judith_Butler'\n",
        "\n",
        "# fixer le nom de la personne dans la requête\n",
        "requete = requete_parametree.replace(\"{PERSONNE}\", PERSONNE)\n",
        "\n",
        "DBPEDIA.setQuery(requete)\n",
        "res = DBPEDIA.query().bindings\n",
        "print(len(res), 'resultats')\n",
        "afficherResultat(res)"
      ]
    },
    {
      "cell_type": "markdown",
      "metadata": {
        "id": "LqQ8D31uS1Zv"
      },
      "source": [
        "### D5 : Les auteurs nés en 2001\n",
        "Utiliser la fonction year pour extraire l'année de naissance à partir d'une date de naissance."
      ]
    },
    {
      "cell_type": "code",
      "execution_count": 17,
      "metadata": {
        "colab": {
          "base_uri": "https://localhost:8080/",
          "height": 397
        },
        "id": "woS_g1UbTFQy",
        "outputId": "9b63d479-705b-494f-ee31-9e8acbcd75eb"
      },
      "outputs": [
        {
          "name": "stdout",
          "output_type": "stream",
          "text": [
            "10 éléments\n",
            "schéma:  ['p', 'name', 'naissance']\n"
          ]
        },
        {
          "data": {
            "text/html": [
              "<div>\n",
              "<style scoped>\n",
              "    .dataframe tbody tr th:only-of-type {\n",
              "        vertical-align: middle;\n",
              "    }\n",
              "\n",
              "    .dataframe tbody tr th {\n",
              "        vertical-align: top;\n",
              "    }\n",
              "\n",
              "    .dataframe thead th {\n",
              "        text-align: right;\n",
              "    }\n",
              "</style>\n",
              "<table border=\"1\" class=\"dataframe\">\n",
              "  <thead>\n",
              "    <tr style=\"text-align: right;\">\n",
              "      <th></th>\n",
              "      <th>p</th>\n",
              "      <th>name</th>\n",
              "      <th>naissance</th>\n",
              "    </tr>\n",
              "  </thead>\n",
              "  <tbody>\n",
              "    <tr>\n",
              "      <th>0</th>\n",
              "      <td>http://fr.dbpedia.org/resource/Abraham_Attah</td>\n",
              "      <td>Abraham Attah</td>\n",
              "      <td>2001</td>\n",
              "    </tr>\n",
              "    <tr>\n",
              "      <th>1</th>\n",
              "      <td>http://fr.dbpedia.org/resource/Adam_Siao_Him_Fa</td>\n",
              "      <td>Adam Siao Him Fa</td>\n",
              "      <td>2001</td>\n",
              "    </tr>\n",
              "    <tr>\n",
              "      <th>2</th>\n",
              "      <td>http://fr.dbpedia.org/resource/Adrien_Warion</td>\n",
              "      <td>Adrien Warion</td>\n",
              "      <td>2001</td>\n",
              "    </tr>\n",
              "    <tr>\n",
              "      <th>3</th>\n",
              "      <td>http://fr.dbpedia.org/resource/Adèle_Castillon</td>\n",
              "      <td>Adèle Castillon</td>\n",
              "      <td>2001</td>\n",
              "    </tr>\n",
              "    <tr>\n",
              "      <th>4</th>\n",
              "      <td>http://fr.dbpedia.org/resource/Ai_Ogura</td>\n",
              "      <td>Ai Ogura</td>\n",
              "      <td>2001</td>\n",
              "    </tr>\n",
              "    <tr>\n",
              "      <th>5</th>\n",
              "      <td>http://fr.dbpedia.org/resource/Aiko_de_Toshi</td>\n",
              "      <td>Aiko</td>\n",
              "      <td>2001</td>\n",
              "    </tr>\n",
              "    <tr>\n",
              "      <th>6</th>\n",
              "      <td>http://fr.dbpedia.org/resource/Aleksandr_Nikichine</td>\n",
              "      <td>Aleksandr Nikichine</td>\n",
              "      <td>2001</td>\n",
              "    </tr>\n",
              "    <tr>\n",
              "      <th>7</th>\n",
              "      <td>http://fr.dbpedia.org/resource/Aleksandr_Smolyar</td>\n",
              "      <td>Aleksandr Smolyar</td>\n",
              "      <td>2001</td>\n",
              "    </tr>\n",
              "    <tr>\n",
              "      <th>8</th>\n",
              "      <td>http://fr.dbpedia.org/resource/Aleksej_Pokuševski</td>\n",
              "      <td>Aleksej Pokuševski</td>\n",
              "      <td>2001</td>\n",
              "    </tr>\n",
              "    <tr>\n",
              "      <th>9</th>\n",
              "      <td>http://fr.dbpedia.org/resource/Alessandro_Michieletto</td>\n",
              "      <td>Alessandro Michieletto</td>\n",
              "      <td>2001</td>\n",
              "    </tr>\n",
              "  </tbody>\n",
              "</table>\n",
              "</div>"
            ],
            "text/plain": [
              "                                                       p  \\\n",
              "0           http://fr.dbpedia.org/resource/Abraham_Attah   \n",
              "1        http://fr.dbpedia.org/resource/Adam_Siao_Him_Fa   \n",
              "2           http://fr.dbpedia.org/resource/Adrien_Warion   \n",
              "3         http://fr.dbpedia.org/resource/Adèle_Castillon   \n",
              "4                http://fr.dbpedia.org/resource/Ai_Ogura   \n",
              "5           http://fr.dbpedia.org/resource/Aiko_de_Toshi   \n",
              "6     http://fr.dbpedia.org/resource/Aleksandr_Nikichine   \n",
              "7       http://fr.dbpedia.org/resource/Aleksandr_Smolyar   \n",
              "8      http://fr.dbpedia.org/resource/Aleksej_Pokuševski   \n",
              "9  http://fr.dbpedia.org/resource/Alessandro_Michieletto   \n",
              "\n",
              "                     name naissance  \n",
              "0           Abraham Attah      2001  \n",
              "1        Adam Siao Him Fa      2001  \n",
              "2           Adrien Warion      2001  \n",
              "3         Adèle Castillon      2001  \n",
              "4                Ai Ogura      2001  \n",
              "5                    Aiko      2001  \n",
              "6     Aleksandr Nikichine      2001  \n",
              "7       Aleksandr Smolyar      2001  \n",
              "8      Aleksej Pokuševski      2001  \n",
              "9  Alessandro Michieletto      2001  "
            ]
          },
          "execution_count": 17,
          "metadata": {},
          "output_type": "execute_result"
        }
      ],
      "source": [
        "requete_parametree = DBPEDIA_prefix + \"\"\"\n",
        "    SELECT distinct ?p ?name year(xsd:dateTime(?naissance)) as ?naissance\n",
        "    WHERE {\n",
        "      ?p a dbo:Person .\n",
        "      ?p foaf:name ?name .\n",
        "      ?p dbo:birthDate ?naissance\n",
        "      FILTER( regex(?naissance, \"{ANNEE}\") && STRLEN(?name) != 0)\n",
        "    }\n",
        "    order by ?p\n",
        "    LIMIT 10\n",
        "\"\"\"\n",
        "\n",
        "année = 2001\n",
        "requete = requete_parametree.replace(\"{ANNEE}\", str(année))\n",
        "\n",
        "DBPEDIA.setQuery(requete)\n",
        "res = DBPEDIA.query().bindings\n",
        "afficherResultat(res)"
      ]
    },
    {
      "cell_type": "markdown",
      "metadata": {
        "id": "C0jnq8MeA25v"
      },
      "source": [
        "### D6 : La liste de tous les intérets principaux\n"
      ]
    },
    {
      "cell_type": "code",
      "execution_count": 18,
      "metadata": {
        "colab": {
          "base_uri": "https://localhost:8080/",
          "height": 397
        },
        "id": "uy5m_PAuBCgF",
        "outputId": "b17b8508-29ff-4665-9bb2-8887aa856c50"
      },
      "outputs": [
        {
          "name": "stdout",
          "output_type": "stream",
          "text": [
            "10 éléments\n",
            "schéma:  ['interet']\n"
          ]
        },
        {
          "data": {
            "text/html": [
              "<div>\n",
              "<style scoped>\n",
              "    .dataframe tbody tr th:only-of-type {\n",
              "        vertical-align: middle;\n",
              "    }\n",
              "\n",
              "    .dataframe tbody tr th {\n",
              "        vertical-align: top;\n",
              "    }\n",
              "\n",
              "    .dataframe thead th {\n",
              "        text-align: right;\n",
              "    }\n",
              "</style>\n",
              "<table border=\"1\" class=\"dataframe\">\n",
              "  <thead>\n",
              "    <tr style=\"text-align: right;\">\n",
              "      <th></th>\n",
              "      <th>interet</th>\n",
              "    </tr>\n",
              "  </thead>\n",
              "  <tbody>\n",
              "    <tr>\n",
              "      <th>0</th>\n",
              "      <td>Activisme politique</td>\n",
              "    </tr>\n",
              "    <tr>\n",
              "      <th>1</th>\n",
              "      <td>Afrique</td>\n",
              "    </tr>\n",
              "    <tr>\n",
              "      <th>2</th>\n",
              "      <td>Agnosticisme</td>\n",
              "    </tr>\n",
              "    <tr>\n",
              "      <th>3</th>\n",
              "      <td>Alchimie</td>\n",
              "    </tr>\n",
              "    <tr>\n",
              "      <th>4</th>\n",
              "      <td>Amour</td>\n",
              "    </tr>\n",
              "    <tr>\n",
              "      <th>5</th>\n",
              "      <td>Amour platonique</td>\n",
              "    </tr>\n",
              "    <tr>\n",
              "      <th>6</th>\n",
              "      <td>Angélologie</td>\n",
              "    </tr>\n",
              "    <tr>\n",
              "      <th>7</th>\n",
              "      <td>Anthropologie</td>\n",
              "    </tr>\n",
              "    <tr>\n",
              "      <th>8</th>\n",
              "      <td>Anthropologie linguistique</td>\n",
              "    </tr>\n",
              "    <tr>\n",
              "      <th>9</th>\n",
              "      <td>Anthropologie philosophique</td>\n",
              "    </tr>\n",
              "  </tbody>\n",
              "</table>\n",
              "</div>"
            ],
            "text/plain": [
              "                       interet\n",
              "0          Activisme politique\n",
              "1                      Afrique\n",
              "2                 Agnosticisme\n",
              "3                     Alchimie\n",
              "4                        Amour\n",
              "5             Amour platonique\n",
              "6                  Angélologie\n",
              "7                Anthropologie\n",
              "8   Anthropologie linguistique\n",
              "9  Anthropologie philosophique"
            ]
          },
          "execution_count": 18,
          "metadata": {},
          "output_type": "execute_result"
        }
      ],
      "source": [
        "requete = DBPEDIA_prefix + \"\"\"\n",
        "    SELECT distinct ?interet\n",
        "    WHERE {\n",
        "      ?personne dbo:mainInterest ?o .\n",
        "      ?o rdfs:label ?interet .\n",
        "\n",
        "      FILTER (langMatches( lang(?interet), \"FR\" ) )\n",
        "}\n",
        "order by ?interet\n",
        "LIMIT 10\n",
        "\"\"\"\n",
        "\n",
        "DBPEDIA.setQuery(requete)\n",
        "res = DBPEDIA.query().bindings\n",
        "afficherResultat(res)"
      ]
    },
    {
      "cell_type": "markdown",
      "metadata": {
        "id": "6gvLL5s4F4rD"
      },
      "source": [
        "### D7 la liste des philosophes dans Dbpedia"
      ]
    },
    {
      "cell_type": "code",
      "execution_count": 19,
      "metadata": {
        "colab": {
          "base_uri": "https://localhost:8080/",
          "height": 415
        },
        "id": "vwv5vauxGAf6",
        "outputId": "eb7f057c-3e95-402e-8836-c60e3b70078a"
      },
      "outputs": [
        {
          "name": "stdout",
          "output_type": "stream",
          "text": [
            "durée 86 ms\n",
            "10 éléments\n",
            "schéma:  ['name', 'p']\n"
          ]
        },
        {
          "data": {
            "text/html": [
              "<div>\n",
              "<style scoped>\n",
              "    .dataframe tbody tr th:only-of-type {\n",
              "        vertical-align: middle;\n",
              "    }\n",
              "\n",
              "    .dataframe tbody tr th {\n",
              "        vertical-align: top;\n",
              "    }\n",
              "\n",
              "    .dataframe thead th {\n",
              "        text-align: right;\n",
              "    }\n",
              "</style>\n",
              "<table border=\"1\" class=\"dataframe\">\n",
              "  <thead>\n",
              "    <tr style=\"text-align: right;\">\n",
              "      <th></th>\n",
              "      <th>name</th>\n",
              "      <th>p</th>\n",
              "    </tr>\n",
              "  </thead>\n",
              "  <tbody>\n",
              "    <tr>\n",
              "      <th>0</th>\n",
              "      <td>()</td>\n",
              "      <td>http://fr.dbpedia.org/resource/Alexandre_d'Aphrodise</td>\n",
              "    </tr>\n",
              "    <tr>\n",
              "      <th>1</th>\n",
              "      <td>()</td>\n",
              "      <td>http://fr.dbpedia.org/resource/Mélissos</td>\n",
              "    </tr>\n",
              "    <tr>\n",
              "      <th>2</th>\n",
              "      <td>(Bienheureux catholique)</td>\n",
              "      <td>http://fr.dbpedia.org/resource/Jean_Duns_Scot</td>\n",
              "    </tr>\n",
              "    <tr>\n",
              "      <th>3</th>\n",
              "      <td>(Micius)</td>\n",
              "      <td>http://fr.dbpedia.org/resource/Mozi</td>\n",
              "    </tr>\n",
              "    <tr>\n",
              "      <th>4</th>\n",
              "      <td>(penseur allemand)</td>\n",
              "      <td>http://fr.dbpedia.org/resource/Bruno_Bauer</td>\n",
              "    </tr>\n",
              "    <tr>\n",
              "      <th>5</th>\n",
              "      <td>(philosophe allemand)</td>\n",
              "      <td>http://fr.dbpedia.org/resource/Johann_Gottlieb_Fichte</td>\n",
              "    </tr>\n",
              "    <tr>\n",
              "      <th>6</th>\n",
              "      <td>Abd ar-Rahman ibn Nasir as-Sadi au-Tamimi</td>\n",
              "      <td>http://fr.dbpedia.org/resource/Abd_ar-Rahman_ibn_Nasir_as-Sadi</td>\n",
              "    </tr>\n",
              "    <tr>\n",
              "      <th>7</th>\n",
              "      <td>Abu Bakr Mohammed ben Abd-el-Malik ben Tufayl el-Qaïci</td>\n",
              "      <td>http://fr.dbpedia.org/resource/Ibn_Tufayl</td>\n",
              "    </tr>\n",
              "    <tr>\n",
              "      <th>8</th>\n",
              "      <td>Abu al-Hudhayl</td>\n",
              "      <td>http://fr.dbpedia.org/resource/Abu_al-Hudhayl</td>\n",
              "    </tr>\n",
              "    <tr>\n",
              "      <th>9</th>\n",
              "      <td>Abélard</td>\n",
              "      <td>http://fr.dbpedia.org/resource/Pierre_Abélard</td>\n",
              "    </tr>\n",
              "  </tbody>\n",
              "</table>\n",
              "</div>"
            ],
            "text/plain": [
              "                                                     name  \\\n",
              "0                                                      ()   \n",
              "1                                                      ()   \n",
              "2                                (Bienheureux catholique)   \n",
              "3                                                (Micius)   \n",
              "4                                      (penseur allemand)   \n",
              "5                                   (philosophe allemand)   \n",
              "6               Abd ar-Rahman ibn Nasir as-Sadi au-Tamimi   \n",
              "7  Abu Bakr Mohammed ben Abd-el-Malik ben Tufayl el-Qaïci   \n",
              "8                                          Abu al-Hudhayl   \n",
              "9                                                 Abélard   \n",
              "\n",
              "                                                                p  \n",
              "0            http://fr.dbpedia.org/resource/Alexandre_d'Aphrodise  \n",
              "1                         http://fr.dbpedia.org/resource/Mélissos  \n",
              "2                   http://fr.dbpedia.org/resource/Jean_Duns_Scot  \n",
              "3                             http://fr.dbpedia.org/resource/Mozi  \n",
              "4                      http://fr.dbpedia.org/resource/Bruno_Bauer  \n",
              "5           http://fr.dbpedia.org/resource/Johann_Gottlieb_Fichte  \n",
              "6  http://fr.dbpedia.org/resource/Abd_ar-Rahman_ibn_Nasir_as-Sadi  \n",
              "7                       http://fr.dbpedia.org/resource/Ibn_Tufayl  \n",
              "8                   http://fr.dbpedia.org/resource/Abu_al-Hudhayl  \n",
              "9                   http://fr.dbpedia.org/resource/Pierre_Abélard  "
            ]
          },
          "execution_count": 19,
          "metadata": {},
          "output_type": "execute_result"
        }
      ],
      "source": [
        "import time\n",
        "\n",
        "requete_d7 = DBPEDIA_prefix + \"\"\"\n",
        "SELECT distinct  ?name ?p\n",
        "WHERE {\n",
        "  ?p rdf:type dbo:Philosopher .\n",
        "  ?p foaf:name ?name .\n",
        "  FILTER (STRLEN(?name) != 0)\n",
        "}\n",
        "order by ?name\n",
        "limit 10\n",
        "\"\"\"\n",
        "\n",
        "start_time = time.time()\n",
        "\n",
        "DBPEDIA.setQuery(requete_d7)\n",
        "res = DBPEDIA.query().bindings\n",
        "\n",
        "duree = int ( (time.time() - start_time) * 1000)\n",
        "print(f\"durée {duree} ms\")\n",
        "\n",
        "afficherResultat(res)\n"
      ]
    },
    {
      "cell_type": "markdown",
      "metadata": {
        "id": "2RKTA5N6I3zj"
      },
      "source": [
        "# Exercice 1 : Requêtes réparties entre les 2 sources BNF et DBPedia\n",
        "A compléter"
      ]
    },
    {
      "cell_type": "markdown",
      "metadata": {
        "id": "Ls1_lNNv90fo"
      },
      "source": [
        "### J1: Jointure A3 avec D2 par boucles imbriquées\n",
        "Proposer une solution pour calculer la jointure entre A3 sur le site BNF et D2 sur le site DBPedia.\n",
        "Pour chaque livre de afficher son titre et son année, le nom de l'auteur, sa nationalité et la liste de ses idées remarquables."
      ]
    },
    {
      "cell_type": "code",
      "execution_count": 20,
      "metadata": {
        "id": "pv-dFhIxI50c"
      },
      "outputs": [
        {
          "name": "stdout",
          "output_type": "stream",
          "text": [
            "([\"École nationale supérieure d'art. Dijon\"], ['Emmanuel Levinas', \"Autre/Autrui, Altérité, Visage, Événement, Éros, Au-delà de l'être, Illéité\"])\n",
            "([\"École nationale supérieure d'art. Dijon\"], ['Gottfried Wilhelm Leibniz', 'Allemand', 'http://fr.dbpedia.org/resource/Calcul_infinitésimal'])\n",
            "([\"École nationale supérieure d'art. Dijon\"], ['Gottfried Wilhelm Leibniz', 'Allemand', 'http://fr.dbpedia.org/resource/Compatibilisme'])\n",
            "([\"École nationale supérieure d'art. Dijon\"], ['Gottfried Wilhelm Leibniz', 'Allemand', 'http://fr.dbpedia.org/resource/Caractéristique_universelle'])\n",
            "([\"École nationale supérieure d'art. Dijon\"], ['Gottfried Wilhelm Leibniz', 'Allemand', \"http://fr.dbpedia.org/resource/Principe_d'identité_des_indiscernables\"])\n",
            "([\"École nationale supérieure d'art. Dijon\"], ['Gottfried Wilhelm Leibniz', 'Allemand', 'http://fr.dbpedia.org/resource/Principe_de_continuité'])\n",
            "([\"École nationale supérieure d'art. Dijon\"], ['Gottfried Wilhelm Leibniz', 'Allemand', 'http://fr.dbpedia.org/resource/Harmonie_préétablie'])\n",
            "([\"École nationale supérieure d'art. Dijon\"], ['Gottfried Wilhelm Leibniz', 'Allemand', 'http://fr.dbpedia.org/resource/Monade_(philosophie)'])\n",
            "([\"École nationale supérieure d'art. Dijon\"], ['Gottfried Wilhelm Leibniz', 'Allemand', 'http://fr.dbpedia.org/resource/Notation_de_Leibniz'])\n",
            "([\"École nationale supérieure d'art. Dijon\"], ['Gottfried Wilhelm Leibniz', 'Allemand', 'http://fr.dbpedia.org/resource/Principe_de_raison_suffisante'])\n",
            "([\"École nationale supérieure d'art. Dijon\"], ['Gottfried Wilhelm Leibniz', 'Allemand', 'http://fr.dbpedia.org/resource/Théodicée'])\n",
            "([\"École nationale supérieure d'art. Dijon\"], ['Gottfried Wilhelm Leibniz', 'Allemand', 'http://fr.dbpedia.org/resource/Meilleur_des_mondes_possibles'])\n",
            "([\"École nationale supérieure d'art. Dijon\"], ['Gottfried Wilhelm Leibniz', 'Allemand', 'http://fr.dbpedia.org/resource/Système_binaire'])\n",
            "([\"École nationale supérieure d'art. Dijon\"], ['Gottfried Wilhelm Leibniz', 'Allemand', 'http://fr.dbpedia.org/resource/Calcul_infinitésimal'])\n",
            "([\"École nationale supérieure d'art. Dijon\"], ['Gottfried Wilhelm Leibniz', 'Allemand', 'http://fr.dbpedia.org/resource/Compatibilisme'])\n",
            "([\"École nationale supérieure d'art. Dijon\"], ['Gottfried Wilhelm Leibniz', 'Allemand', 'http://fr.dbpedia.org/resource/Caractéristique_universelle'])\n",
            "([\"École nationale supérieure d'art. Dijon\"], ['Gottfried Wilhelm Leibniz', 'Allemand', \"http://fr.dbpedia.org/resource/Principe_d'identité_des_indiscernables\"])\n",
            "([\"École nationale supérieure d'art. Dijon\"], ['Gottfried Wilhelm Leibniz', 'Allemand', 'http://fr.dbpedia.org/resource/Principe_de_continuité'])\n",
            "([\"École nationale supérieure d'art. Dijon\"], ['Gottfried Wilhelm Leibniz', 'Allemand', 'http://fr.dbpedia.org/resource/Harmonie_préétablie'])\n",
            "([\"École nationale supérieure d'art. Dijon\"], ['Gottfried Wilhelm Leibniz', 'Allemand', 'http://fr.dbpedia.org/resource/Monade_(philosophie)'])\n"
          ]
        }
      ],
      "source": [
        "# A compléter\n",
        "\n",
        "# select le titre, annee, et la reference de livre sur BNF\n",
        "requete_j1 = BNF_prefix + \"\"\"\n",
        "SELECT distinct ?auteurDbpedia ?nom ?annee ?titre\n",
        "WHERE {\n",
        "  ?livre dc:creator ?auteur .\n",
        "  ?livre owl:sameAs ?livreWiki .\n",
        "  ?livre dc:language <http://id.loc.gov/vocabulary/iso639-2/fre> .\n",
        "  ?livre bnf:subject \"Philosophie\" .\n",
        "  ?livre dc:date ?annee .\n",
        "  ?livre dc:title ?titre .\n",
        "  ?auteur foaf:name ?nom .\n",
        "  ?auteur owl:sameAs ?auteurDbpedia .\n",
        "  FILTER ( regex(?livreWiki, \"http://wikidata.org\")\n",
        "       &&  regex(?auteurDbpedia, \"http://fr.dbpedia.org\")\n",
        "  )\n",
        "}\n",
        "ORDER BY ?nom\n",
        "\"\"\"\n",
        "BNF.setQuery(requete_j1)\n",
        "resultats =  BNF.query().bindings\n",
        "\n",
        "# boucle imbrique, select le nom, la nationalite, l'idee de l'auteur\n",
        "res_final = []  # pour stocker les lignes de donnee\n",
        "for res in resultats:\n",
        "  req = DBPEDIA_prefix + f\"\"\"\n",
        "      SELECT distinct ?name ?nationalite ?idee\n",
        "      WHERE {{\n",
        "        ?pers foaf:name ?name\n",
        "        optional {{?pers dbp:nationalité ?nationalite}}\n",
        "        optional {{?pers dbp:idéesRemarquables ?idee}}\n",
        "      FILTER ( ?pers = <{res[\"auteurDbpedia\"].value}> && STRLEN(?name) != 0)\n",
        "      }}\n",
        "      GROUP BY ?name \"\"\"\n",
        "  DBPEDIA.setQuery(req)\n",
        "  res_inter = tableauResultat(DBPEDIA.query().bindings)\n",
        "\n",
        "  # si le resultat est positive\n",
        "  if len(res_inter) > 0:\n",
        "    # pour chaque idee différente du même auteur, nous les stockons séquentiellement dans res_final\n",
        "    for inter in res_inter:\n",
        "      res_final.append((r, inter))\n",
        "\n",
        "# affichage du res_final, le premier 20 lignes\n",
        "for el in res_final[:20]:\n",
        "  print(el)"
      ]
    },
    {
      "cell_type": "markdown",
      "metadata": {
        "id": "BJm4deKz_UAv"
      },
      "source": [
        "### J2 : Pour une année N afficher la liste des personnes qui sont nées l'année N et qui existent à la fois dans la BNF et dans DBPedia.\n",
        "Proposer une solution par fusion de deux résultats triés"
      ]
    },
    {
      "cell_type": "code",
      "execution_count": 21,
      "metadata": {
        "id": "WUlkb4_-6-r_"
      },
      "outputs": [],
      "source": [
        "# A compléter\n",
        "\n",
        "année = 1894\n",
        "# les auteurs nes a 2001 dans DBPedia\n",
        "requete = requete_parametree.replace(\"{ANNEE}\", str(année))\n",
        "DBPEDIA.setQuery(requete)\n",
        "res_DBPEDIA = DBPEDIA.query().bindings\n",
        "\n",
        "# les auteurs nes a 2001 dans BNF\n",
        "for res in res_DBPEDIA:\n",
        "    requete_BNF = BNF_prefix + f\"\"\"\n",
        "    SELECT distinct ?nom ?naissance ?auteur\n",
        "    WHERE {{\n",
        "        ?auteur owl:sameAs ?auteurDbpedia .\n",
        "        ?auteur foaf:name ?nom .\n",
        "        ?auteur bio:birth ?naissance .\n",
        "    FILTER (xsd:integer (?naissance) = '{année}'^^xsd:integer && ?auteurDbpedia = <{res['p'].value}>)\n",
        "    }}\n",
        "    LIMIT 20\n",
        "    \"\"\"\n",
        "    BNF.setQuery(requete_BNF)\n",
        "    res_BNF = BNF.query().bindings\n",
        "    if len(res_BNF) > 0:\n",
        "        print(res_BNF)"
      ]
    },
    {
      "cell_type": "markdown",
      "metadata": {
        "id": "JlhisyTGGtZ0"
      },
      "source": [
        "### J3 : Quels sont les auteurs d'une oeuvre dont le thème est philosophie (dans la BNF) et qui sont référencés comme étant des philosophes dans DBpedia ?"
      ]
    },
    {
      "cell_type": "code",
      "execution_count": 22,
      "metadata": {
        "id": "2UOmwMuJ7BN2"
      },
      "outputs": [
        {
          "name": "stdout",
          "output_type": "stream",
          "text": [
            "[['http://fr.dbpedia.org/resource/Emmanuel_Levinas', ''], ['http://fr.dbpedia.org/resource/Emmanuel_Levinas', 'Emmanuel Levinas']]\n",
            "[['http://fr.dbpedia.org/resource/Gottfried_Wilhelm_Leibniz', 'Gottfried Wilhelm Leibniz'], ['http://fr.dbpedia.org/resource/Gottfried_Wilhelm_Leibniz', '']]\n",
            "[['http://fr.dbpedia.org/resource/Gottfried_Wilhelm_Leibniz', 'Gottfried Wilhelm Leibniz'], ['http://fr.dbpedia.org/resource/Gottfried_Wilhelm_Leibniz', '']]\n",
            "[['http://fr.dbpedia.org/resource/Gottfried_Wilhelm_Leibniz', 'Gottfried Wilhelm Leibniz'], ['http://fr.dbpedia.org/resource/Gottfried_Wilhelm_Leibniz', '']]\n",
            "[['http://fr.dbpedia.org/resource/Jean_Bodin', ''], ['http://fr.dbpedia.org/resource/Jean_Bodin', 'Jean Bodin']]\n",
            "[['http://fr.dbpedia.org/resource/Karl_Marx', 'Karl Marx'], ['http://fr.dbpedia.org/resource/Karl_Marx', '']]\n",
            "[['http://fr.dbpedia.org/resource/Nicolas_Malebranche', 'Nicolas Malebranche']]\n",
            "[['http://fr.dbpedia.org/resource/Nicolas_Malebranche', 'Nicolas Malebranche']]\n",
            "[['http://fr.dbpedia.org/resource/Pierre-Joseph_Proudhon', 'Pierre-Joseph Proudhon'], ['http://fr.dbpedia.org/resource/Pierre-Joseph_Proudhon', '']]\n"
          ]
        }
      ],
      "source": [
        "# A compléter\n",
        "\n",
        "# on commence par les auteurs d'une oeuvre philosophique\n",
        "BNF.setQuery(requete_j1)\n",
        "resultats = BNF.query().bindings\n",
        "\n",
        "# une jointure avec DBPEDIA\n",
        "for res in resultats:\n",
        "  # requete de pour connecter BNF et DBpedia\n",
        "  requete = DBPEDIA_prefix + f\"\"\"\n",
        "    SELECT distinct ?pers ?name\n",
        "    WHERE {{\n",
        "      ?p rdf:type dbo:Philosopher .\n",
        "      ?pers foaf:name ?name .\n",
        "    FILTER (?pers = <{res[\"auteurDbpedia\"].value}>)\n",
        "    }}\n",
        "    limit 10\n",
        "  \"\"\"\n",
        "  DBPEDIA.setQuery(requete)\n",
        "  res = tableauResultat(DBPEDIA.query().bindings)\n",
        "  \n",
        "  # l'affichage des resultats\n",
        "  if len(res) > 0:\n",
        "    print(res)"
      ]
    },
    {
      "cell_type": "markdown",
      "metadata": {
        "id": "IfWr1BEYrt-M"
      },
      "source": [
        "# Exercice 2 : Accès aux données par des requêtes de sélections\n",
        "L'objectif de cet exercice est d'appréhender la situation où l'accès aux données est contraint (voir la notion de [linked data fragment](https://linkeddatafragments.org/concept/)). Le point d'accès n'autorise que des requêtes simples (donc peut coûteuses à traiter) qui ne contiennent que des **sélections**. La clause where d'une requête ne peut contenir qu'**un seul** motif ayant 1 ou 2 variables. Les motifs autorisés sont donc parmi :\n",
        "*   ?a *propriété* ?b *(cette requête a deux variables)*\n",
        "*   *A* *propriété* ?b  *(cette requête a une seule variable)*\n",
        "*   ?a *propriété* *B*  \n",
        "\n",
        "où ?a et ?b sont des variables et *A*, *B* et *propriété* sont des valeurs fixées avant de poser la requête.\n",
        "\n",
        "Ainsi, toutes les jointures doivent être exprimées par le client qui accède aux données : vous devez \"programmer\" toutes les jointures en python.\n",
        "Pour les requêtes D1 et D6 proposer une solution respectant ce mode d'accès."
      ]
    },
    {
      "cell_type": "code",
      "execution_count": 23,
      "metadata": {
        "id": "leYOriLyOBnb"
      },
      "outputs": [],
      "source": [
        "# à compléter\n",
        "\n"
      ]
    },
    {
      "cell_type": "markdown",
      "metadata": {
        "id": "Mh8Nx-7nH_Jg"
      },
      "source": [
        "# Exercice 3 : Accès par morceau au résultat d'une requête\n",
        "1) Un utilisateur veut accéder aux données de manière progressive. Proposer une solution pour obtenir le resultat d'une requete par morceau de N tuples, en utilisant les mots-clés OFFSET et LIMIT. Appliquer cela pour lire le résultat de la requête qui affiche le nom des personnes existant dans dbpedia.\n",
        "Etudier l'influence de l'offset et de la taille du résultat sur le temps de réponse de la requête."
      ]
    },
    {
      "cell_type": "code",
      "execution_count": 24,
      "metadata": {
        "colab": {
          "base_uri": "https://localhost:8080/",
          "height": 415
        },
        "id": "_CH0X6N4634a",
        "outputId": "ae0a21ed-2366-4516-8d97-b97dadc3fcd2"
      },
      "outputs": [
        {
          "name": "stdout",
          "output_type": "stream",
          "text": [
            "la requête dure 92 ms\n",
            "10 éléments\n",
            "schéma:  ['p', 'name']\n"
          ]
        },
        {
          "data": {
            "text/html": [
              "<div>\n",
              "<style scoped>\n",
              "    .dataframe tbody tr th:only-of-type {\n",
              "        vertical-align: middle;\n",
              "    }\n",
              "\n",
              "    .dataframe tbody tr th {\n",
              "        vertical-align: top;\n",
              "    }\n",
              "\n",
              "    .dataframe thead th {\n",
              "        text-align: right;\n",
              "    }\n",
              "</style>\n",
              "<table border=\"1\" class=\"dataframe\">\n",
              "  <thead>\n",
              "    <tr style=\"text-align: right;\">\n",
              "      <th></th>\n",
              "      <th>p</th>\n",
              "      <th>name</th>\n",
              "    </tr>\n",
              "  </thead>\n",
              "  <tbody>\n",
              "    <tr>\n",
              "      <th>0</th>\n",
              "      <td>http://fr.dbpedia.org/resource/Alina_Alexandra_Dumitru</td>\n",
              "      <td>Alina Alexandra Dumitru</td>\n",
              "    </tr>\n",
              "    <tr>\n",
              "      <th>1</th>\n",
              "      <td>http://fr.dbpedia.org/resource/Alina_Astafei</td>\n",
              "      <td>Alina Astafei</td>\n",
              "    </tr>\n",
              "    <tr>\n",
              "      <th>2</th>\n",
              "      <td>http://fr.dbpedia.org/resource/Alina_Azario</td>\n",
              "      <td>Alina Azario</td>\n",
              "    </tr>\n",
              "    <tr>\n",
              "      <th>3</th>\n",
              "      <td>http://fr.dbpedia.org/resource/Alina_Berchakova</td>\n",
              "      <td>Alina Berchakova</td>\n",
              "    </tr>\n",
              "    <tr>\n",
              "      <th>4</th>\n",
              "      <td>http://fr.dbpedia.org/resource/Alina_Berezhna</td>\n",
              "      <td>Alina Berezhna</td>\n",
              "    </tr>\n",
              "    <tr>\n",
              "      <th>5</th>\n",
              "      <td>http://fr.dbpedia.org/resource/Alina_Dumitrescu</td>\n",
              "      <td>Alina Dumitrescu</td>\n",
              "    </tr>\n",
              "    <tr>\n",
              "      <th>6</th>\n",
              "      <td>http://fr.dbpedia.org/resource/Alina_Elizarova</td>\n",
              "      <td>Alina Elizarova</td>\n",
              "    </tr>\n",
              "    <tr>\n",
              "      <th>7</th>\n",
              "      <td>http://fr.dbpedia.org/resource/Alina_Freund</td>\n",
              "      <td>Alina Freund</td>\n",
              "    </tr>\n",
              "    <tr>\n",
              "      <th>8</th>\n",
              "      <td>http://fr.dbpedia.org/resource/Alina_Fyodorova</td>\n",
              "      <td>Alina Fyodorova</td>\n",
              "    </tr>\n",
              "    <tr>\n",
              "      <th>9</th>\n",
              "      <td>http://fr.dbpedia.org/resource/Alina_Goreac</td>\n",
              "      <td>Alina Goreac</td>\n",
              "    </tr>\n",
              "  </tbody>\n",
              "</table>\n",
              "</div>"
            ],
            "text/plain": [
              "                                                        p  \\\n",
              "0  http://fr.dbpedia.org/resource/Alina_Alexandra_Dumitru   \n",
              "1            http://fr.dbpedia.org/resource/Alina_Astafei   \n",
              "2             http://fr.dbpedia.org/resource/Alina_Azario   \n",
              "3         http://fr.dbpedia.org/resource/Alina_Berchakova   \n",
              "4           http://fr.dbpedia.org/resource/Alina_Berezhna   \n",
              "5         http://fr.dbpedia.org/resource/Alina_Dumitrescu   \n",
              "6          http://fr.dbpedia.org/resource/Alina_Elizarova   \n",
              "7             http://fr.dbpedia.org/resource/Alina_Freund   \n",
              "8          http://fr.dbpedia.org/resource/Alina_Fyodorova   \n",
              "9             http://fr.dbpedia.org/resource/Alina_Goreac   \n",
              "\n",
              "                      name  \n",
              "0  Alina Alexandra Dumitru  \n",
              "1            Alina Astafei  \n",
              "2             Alina Azario  \n",
              "3         Alina Berchakova  \n",
              "4           Alina Berezhna  \n",
              "5         Alina Dumitrescu  \n",
              "6          Alina Elizarova  \n",
              "7             Alina Freund  \n",
              "8          Alina Fyodorova  \n",
              "9             Alina Goreac  "
            ]
          },
          "execution_count": 24,
          "metadata": {},
          "output_type": "execute_result"
        }
      ],
      "source": [
        "# Exemple d'utilisation de OFFSET et LIMIT\n",
        "\n",
        "# Compléter cet exemple\n",
        "\n",
        "\n",
        "import time\n",
        "\n",
        "requete = DBPEDIA_prefix + \"\"\"\n",
        "SELECT distinct ?p ?name\n",
        "WHERE {\n",
        "  ?p rdf:type dbo:Person .\n",
        "  ?p foaf:name ?name\n",
        "  FILTER(STRLEN(?name) != 0)\n",
        "}\n",
        "# ORDER BY ?p ?name\n",
        "offset 10000 limit 10\n",
        "\"\"\"\n",
        "\n",
        "start_time = time.time()\n",
        "# exécution de la requête\n",
        "DBPEDIA.setQuery(requete)\n",
        "res = DBPEDIA.query().bindings\n",
        "duree = int ( (time.time() - start_time) * 1000)\n",
        "print(f\"la requête dure {duree} ms\")\n",
        "\n",
        "afficherResultat(res)"
      ]
    },
    {
      "cell_type": "markdown",
      "metadata": {
        "id": "aG1nFEdcmuJp"
      },
      "source": [
        "2) Définir une fonction traiteRequete(requete) qui retourne un generateur sur une requete de telle sorte que la requete soit lue par morceaux de N tuples et que seuls les morceaux permettant de produire les M lignes demandées par l'utlisateur soit lus. On ne connait pas à l'avance le nombre M de lignes que va lire l'utilisateur. On a M > N.\n",
        "Indication voir le mot clé python **yield** pour retourner un générateur."
      ]
    },
    {
      "cell_type": "code",
      "execution_count": 46,
      "metadata": {
        "colab": {
          "base_uri": "https://localhost:8080/"
        },
        "id": "1Bsz18LDn1yI",
        "outputId": "7df28ed2-46c0-49c8-d004-b192c6e3b415"
      },
      "outputs": [
        {
          "name": "stdout",
          "output_type": "stream",
          "text": [
            "leture d'un morceau de 10 lignes\n",
            "{'name': Value(literal:'Łukasz Bujko'), 'p': Value(uri:'http://fr.dbpedia.org/resource/Łukasz_Bujko')}\n",
            "{'name': Value(literal:'Łukasz Gibała'), 'p': Value(uri:'http://fr.dbpedia.org/resource/Łukasz_Gibała')}\n",
            "{'name': Value(literal:'Gierak'), 'p': Value(uri:'http://fr.dbpedia.org/resource/Łukasz_Gierak')}\n",
            "{'name': Value(literal:'Łukasz Grzeszczuk'), 'p': Value(uri:'http://fr.dbpedia.org/resource/Łukasz_Grzeszczuk')}\n",
            "{'name': Value(literal:'Łukasz Kaczmarek'), 'p': Value(uri:'http://fr.dbpedia.org/resource/Łukasz_Kaczmarek')}\n",
            "{'name': Value(literal:'Łukasz Klekot'), 'p': Value(uri:'http://fr.dbpedia.org/resource/Łukasz_Klekot')}\n",
            "{'name': Value(literal:'Łukasz Kohut'), 'p': Value(uri:'http://fr.dbpedia.org/resource/Łukasz_Kohut')}\n",
            "{'name': Value(literal:'Łukasz Koszarek'), 'p': Value(uri:'http://fr.dbpedia.org/resource/Łukasz_Koszarek')}\n",
            "{'name': Value(literal:'Łukasz Krupiński'), 'p': Value(uri:'http://fr.dbpedia.org/resource/Łukasz_Krupiński')}\n",
            "{'name': Value(literal:'Łukasz Kubot'), 'p': Value(uri:'http://fr.dbpedia.org/resource/Łukasz_Kubot')}\n",
            "leture d'un morceau de 10 lignes\n",
            "{'name': Value(literal:'Łukasz Michalski'), 'p': Value(uri:'http://fr.dbpedia.org/resource/Łukasz_Michalski')}\n",
            "{'name': Value(literal:'Łukasz Palkowski'), 'p': Value(uri:'http://fr.dbpedia.org/resource/Łukasz_Palkowski')}\n",
            "{'name': Value(literal:'Łukasz Pawłowski'), 'p': Value(uri:'http://fr.dbpedia.org/resource/Łukasz_Pawłowski')}\n",
            "{'name': Value(literal:'Łukasz Pryga'), 'p': Value(uri:'http://fr.dbpedia.org/resource/Łukasz_Pryga')}\n",
            "{'name': Value(literal:'Łukasz Przybytek'), 'p': Value(uri:'http://fr.dbpedia.org/resource/Łukasz_Przybytek')}\n",
            "{'name': Value(literal:'Łukasz Rudzewicz'), 'p': Value(uri:'http://fr.dbpedia.org/resource/Łukasz_Rudzewicz')}\n",
            "{'name': Value(literal:'Lukasz Rutkowski'), 'p': Value(uri:'http://fr.dbpedia.org/resource/Łukasz_Rutkowski')}\n",
            "{'name': Value(literal:'Łukasz Siemion'), 'p': Value(uri:'http://fr.dbpedia.org/resource/Łukasz_Siemion')}\n",
            "{'name': Value(literal:'Łukasz Simlat'), 'p': Value(uri:'http://fr.dbpedia.org/resource/Łukasz_Simlat')}\n",
            "{'name': Value(literal:'Łukasz Szczurek'), 'p': Value(uri:'http://fr.dbpedia.org/resource/Łukasz_Szczurek')}\n",
            "\n",
            "OK, l'utilisateur a obtenu 20 lignes sur les 20\n"
          ]
        }
      ],
      "source": [
        "requete = DBPEDIA_prefix + \"\"\"\n",
        "SELECT distinct ?name ?p\n",
        "WHERE {\n",
        "  ?p rdf:type dbo:Person .\n",
        "  ?p foaf:name ?name\n",
        "  FILTER(STRLEN(?name) != 0)\n",
        "}\n",
        "\"\"\"\n",
        "\n",
        "def change_offset(requete, offset):\n",
        "  return requete + f\"\"\"offset {offset} limit 10\"\"\"\n",
        "    \n",
        "\n",
        "\n",
        "# définition d'un générateur\n",
        "def traiteRequete(requete, offset, max_lire):\n",
        "  while (max_lire > offset):\n",
        "    DBPEDIA.setQuery(change_offset(requete, offset))\n",
        "    res = DBPEDIA.query().bindings\n",
        "    if len(res) == 0:\n",
        "      break\n",
        "    if len(res) > 0:\n",
        "      print(f\"leture d'un morceau de {len(res)} lignes\")\n",
        "      for r in res :\n",
        "        yield r\n",
        "    offset += len(res)\n",
        "\n",
        "# Nombre de tuples que l'utilisateur souhaite lire\n",
        "a_lire = 20\n",
        "\n",
        "lu = 0\n",
        "for a in traiteRequete(requete, 0, a_lire):\n",
        "  print(a)\n",
        "  lu += 1\n",
        "  if(lu >= a_lire):\n",
        "    break\n",
        "\n",
        "print()\n",
        "if(lu < a_lire):\n",
        "  print(f\"Attention !!!! l'utilisateur n'a obtenu que {lu} lignes sur les {a_lire}\")\n",
        "else:\n",
        "  print(f\"OK, l'utilisateur a obtenu {lu} lignes sur les {a_lire}\")"
      ]
    },
    {
      "cell_type": "markdown",
      "metadata": {
        "id": "upK5LQIBkgnD"
      },
      "source": [
        "3) Proposer une solution pour accéder de manière progressive au résultat d'une requête de jointure entre 2 sites, par exemple J1."
      ]
    },
    {
      "cell_type": "code",
      "execution_count": 52,
      "metadata": {
        "id": "q3d3CmdPuI6b"
      },
      "outputs": [
        {
          "name": "stdout",
          "output_type": "stream",
          "text": [
            "leture d'un morceau de 1 lignes\n",
            "leture d'un morceau de 10 lignes\n",
            "leture d'un morceau de 2 lignes\n",
            "leture d'un morceau de 10 lignes\n",
            "get 20 lignes !\n",
            "{'name': Value(literal:'Emmanuel Levinas'), 'idee': Value(literal:\"Autre/Autrui, Altérité, Visage, Événement, Éros, Au-delà de l'être, Illéité\")}\n",
            "{'name': Value(literal:'Gottfried Wilhelm Leibniz'), 'nationalite': Value(literal:'Allemand'), 'idee': Value(uri:'http://fr.dbpedia.org/resource/Calcul_infinitésimal')}\n",
            "{'name': Value(literal:'Gottfried Wilhelm Leibniz'), 'nationalite': Value(literal:'Allemand'), 'idee': Value(uri:'http://fr.dbpedia.org/resource/Compatibilisme')}\n",
            "{'name': Value(literal:'Gottfried Wilhelm Leibniz'), 'nationalite': Value(literal:'Allemand'), 'idee': Value(uri:'http://fr.dbpedia.org/resource/Caractéristique_universelle')}\n",
            "{'name': Value(literal:'Gottfried Wilhelm Leibniz'), 'nationalite': Value(literal:'Allemand'), 'idee': Value(uri:\"http://fr.dbpedia.org/resource/Principe_d'identité_des_indiscernables\")}\n",
            "{'name': Value(literal:'Gottfried Wilhelm Leibniz'), 'nationalite': Value(literal:'Allemand'), 'idee': Value(uri:'http://fr.dbpedia.org/resource/Principe_de_continuité')}\n",
            "{'name': Value(literal:'Gottfried Wilhelm Leibniz'), 'nationalite': Value(literal:'Allemand'), 'idee': Value(uri:'http://fr.dbpedia.org/resource/Harmonie_préétablie')}\n",
            "{'name': Value(literal:'Gottfried Wilhelm Leibniz'), 'nationalite': Value(literal:'Allemand'), 'idee': Value(uri:'http://fr.dbpedia.org/resource/Monade_(philosophie)')}\n",
            "{'name': Value(literal:'Gottfried Wilhelm Leibniz'), 'nationalite': Value(literal:'Allemand'), 'idee': Value(uri:'http://fr.dbpedia.org/resource/Notation_de_Leibniz')}\n",
            "{'name': Value(literal:'Gottfried Wilhelm Leibniz'), 'nationalite': Value(literal:'Allemand'), 'idee': Value(uri:'http://fr.dbpedia.org/resource/Principe_de_raison_suffisante')}\n",
            "{'name': Value(literal:'Gottfried Wilhelm Leibniz'), 'nationalite': Value(literal:'Allemand'), 'idee': Value(uri:'http://fr.dbpedia.org/resource/Théodicée')}\n",
            "{'name': Value(literal:'Gottfried Wilhelm Leibniz'), 'nationalite': Value(literal:'Allemand'), 'idee': Value(uri:'http://fr.dbpedia.org/resource/Meilleur_des_mondes_possibles')}\n",
            "{'name': Value(literal:'Gottfried Wilhelm Leibniz'), 'nationalite': Value(literal:'Allemand'), 'idee': Value(uri:'http://fr.dbpedia.org/resource/Système_binaire')}\n",
            "{'name': Value(literal:'Gottfried Wilhelm Leibniz'), 'nationalite': Value(literal:'Allemand'), 'idee': Value(uri:'http://fr.dbpedia.org/resource/Calcul_infinitésimal')}\n",
            "{'name': Value(literal:'Gottfried Wilhelm Leibniz'), 'nationalite': Value(literal:'Allemand'), 'idee': Value(uri:'http://fr.dbpedia.org/resource/Compatibilisme')}\n",
            "{'name': Value(literal:'Gottfried Wilhelm Leibniz'), 'nationalite': Value(literal:'Allemand'), 'idee': Value(uri:'http://fr.dbpedia.org/resource/Caractéristique_universelle')}\n",
            "{'name': Value(literal:'Gottfried Wilhelm Leibniz'), 'nationalite': Value(literal:'Allemand'), 'idee': Value(uri:\"http://fr.dbpedia.org/resource/Principe_d'identité_des_indiscernables\")}\n",
            "{'name': Value(literal:'Gottfried Wilhelm Leibniz'), 'nationalite': Value(literal:'Allemand'), 'idee': Value(uri:'http://fr.dbpedia.org/resource/Principe_de_continuité')}\n",
            "{'name': Value(literal:'Gottfried Wilhelm Leibniz'), 'nationalite': Value(literal:'Allemand'), 'idee': Value(uri:'http://fr.dbpedia.org/resource/Harmonie_préétablie')}\n",
            "{'name': Value(literal:'Gottfried Wilhelm Leibniz'), 'nationalite': Value(literal:'Allemand'), 'idee': Value(uri:'http://fr.dbpedia.org/resource/Monade_(philosophie)')}\n"
          ]
        }
      ],
      "source": [
        "# à compléter\n",
        "\n",
        "# definir un nouveau fonction pour genere les requetes rejointe dans la boucle imbrique\n",
        "def change_pers(param):\n",
        "  return DBPEDIA_prefix + f\"\"\"\n",
        "    SELECT distinct ?name ?nationalite ?idee\n",
        "    WHERE {{\n",
        "      ?pers foaf:name ?name\n",
        "      optional {{?pers dbp:nationalité ?nationalite}}\n",
        "      optional {{?pers dbp:idéesRemarquables ?idee}}\n",
        "    FILTER ( ?pers = <{param}> && STRLEN(?name) != 0)\n",
        "    }}\n",
        "    GROUP BY ?name \"\"\"\n",
        "\n",
        "# le resultat access a tableau BNF\n",
        "BNF.setQuery(requete_j1)\n",
        "res_inter = BNF.query().bindings\n",
        "# definir un nombre de ligne souhaite a lire\n",
        "nb_lire = 20\n",
        "# definir un nombre pour presenter le nombre de ligne lu\n",
        "nb_lu = 0\n",
        "# une boucle imbrique pour completer la rejointure\n",
        "res_final = []  # pour stocker les lignes de donnee\n",
        "for res in res_inter:\n",
        "  # affichage des resultat\n",
        "  for a in traiteRequete(change_pers(res['auteurDbpedia'].value), 0, nb_lire):\n",
        "    nb_lu += 1\n",
        "    if nb_lu > nb_lire:\n",
        "      break\n",
        "    res_final.append(a)\n",
        "  else:\n",
        "    continue\n",
        "  break\n",
        "\n",
        "print(f\"get {len(res_final)} lignes !\")\n",
        "for el in res_final:\n",
        "  print(el)"
      ]
    },
    {
      "cell_type": "markdown",
      "metadata": {
        "id": "_a2Wt3ryG_ii"
      },
      "source": [
        "# Exerice 4 : Cache de requêtes\n",
        "1) Proposer des améliorations des requêtes précédentes afin d'éviter de poser plusieurs fois une même requête. On suppose que le résultat de la requête ne change pas entre deux invocations de la même requête.\n",
        "\n",
        "2) Cache avec une capacité limitée : considérer qu'on peut conserver en cache le résultat de C requêtes (C=10) au maximum"
      ]
    },
    {
      "cell_type": "code",
      "execution_count": 27,
      "metadata": {
        "id": "hcuUAhRWHg2a"
      },
      "outputs": [],
      "source": [
        "# A compléter\n",
        "\n",
        "# definir une dictionnaire pour simuler la cache, la taille est egale a la capacite de cache\n",
        "# on stocker les requetes precedent dans la liste, lorsqu'on fait une requete\n",
        "# --- cas 1: s'il existe une meme requete dans la liste, c-a-d que cette requete est deja stocker dans la cache \n",
        "#            donc, on va lire le resultat sur les donnees locales\n",
        "# --- cas 2: s'il n'existe pas,\n",
        "#            on a besoin de stocker la requete et le resultat correspondant (comme une paire de cle-valeur)\n",
        "#            (la stratégie de suppression progressive de la mémoire peut etre defini par FIFO ou LRU ou les autres algorithmes)\n",
        "\n",
        "# defini une cache\n",
        "max_taille = 10\n",
        "cache = {}\n",
        "\n",
        "def FIFO(ls):\n",
        "    return ls\n",
        "\n",
        "def LRU(ls):\n",
        "    return ls\n",
        "\n",
        "# la fonction prend la chaine caractere de la requete en parametre\n",
        "# et retourne une liste de resultat\n",
        "def try_run_with_cache(req_current):\n",
        "    # on le trouve dans la cache\n",
        "    if req_current in cache.keys():\n",
        "        return cache[req_current]\n",
        "    # on ne trouve pas\n",
        "    else:\n",
        "        if len(cache) == max_taille: # applique l'algo de progressive de la mémoire\n",
        "            cache = FIFO(cache) \n",
        "            # cache = FIFO(cache) \n",
        "        else:\n",
        "            BNF.setQuery(requete_j1)\n",
        "            res_inter = BNF.query().bindings\n",
        "            cache.update({req_current:res_inter})\n"
      ]
    },
    {
      "cell_type": "markdown",
      "metadata": {
        "id": "zo_g0AzJKVYF"
      },
      "source": [
        "# FAQ: Questions diverses\n"
      ]
    },
    {
      "cell_type": "markdown",
      "metadata": {
        "id": "p4SmE1c7t_cZ"
      },
      "source": [
        "## Mise au point des requêtes\n",
        "Pour débugguer et **mettre au point vos requêtes** Sparql, il est utile de les tester directement sur l'interface du point d'accès dédié de la source de données. L'avantage est que cela vous retourne un message indiquant très précisément la nature et l'endroit où se trouve l'erreur dans la requête.\n",
        "*   [BNF](http://data.bnf.fr/sparql) voir des [exemples](https://api.bnf.fr/sparql-endpoint-de-databnffr)\n",
        "*   [DBPedia](http://fr.dbpedia.org/sparql) et la liste de tous les [prefixes](http://fr.dbpedia.org/sparql?nsdecl)\n"
      ]
    },
    {
      "cell_type": "markdown",
      "metadata": {
        "id": "5oiLbGDiPySC"
      },
      "source": [
        "## Autres sources de données\n",
        "Autres sources à votre disposition pour proposer des requêtes multi-sources:\n",
        "\n",
        "1.   [Mondial](http://www.semwebtech.org/mondial/10/sparql) : données géopolitiques. Attention le résulat des requêtes est en XML pas en JSON.\n",
        "2.   [Persée](data.persee.fr) : données bibliographiques alignées avec plusieurs autres sources dont dbpedia. Voir des [exemples](http://data.persee.fr/ressources/requetes-exemples/)\n",
        "3.   [BioPortal](http://sparql.bioontology.org)\n",
        "4.    [IdRef](https://data.idref.fr/sparql) serveur d’autorité IdRef et les références bibliographiques en provenance du Sudoc.\n",
        "5.   [Insee](https://rdf.insee.fr/sparql)\n",
        "6.  [Geonames web services](https://www.geonames.org/export/ws-overview.html)\n"
      ]
    },
    {
      "cell_type": "markdown",
      "metadata": {
        "id": "VgX2uwT3QE1R"
      },
      "source": [
        "## SPARKLIS : aide à l'écriture de requêtes Sparql\n",
        "Pour exprimer vos requêtes en *langage naturel* et les traduire automatiquement en SPARQL, voir l'appli [Sparklis](http://www.irisa.fr/LIS/ferre/sparklis/)\n",
        "\n",
        "\n",
        "*   onglet **Sparklis** pour exprimer vos requêtes en langage naturel\n",
        "*   onglet **YASGUI** pour voir la traduction en Sparql\n",
        "\n"
      ]
    },
    {
      "cell_type": "markdown",
      "metadata": {
        "id": "WmDBH2A6Ja0H"
      },
      "source": [
        "## Nombre d'éléments dans le resultat d'une requête\n",
        "Pour compter le nombre d'éléments d'une requête, utiliser la notation avec requête imbriquée dans le where :\n",
        "\n",
        "SELECT (count(1) as ?nb)\n",
        "\n",
        "WHERE { *sous-requete* }\n"
      ]
    }
  ],
  "metadata": {
    "colab": {
      "provenance": [],
      "toc_visible": true
    },
    "kernelspec": {
      "display_name": "Python 3",
      "name": "python3"
    },
    "language_info": {
      "codemirror_mode": {
        "name": "ipython",
        "version": 3
      },
      "file_extension": ".py",
      "mimetype": "text/x-python",
      "name": "python",
      "nbconvert_exporter": "python",
      "pygments_lexer": "ipython3",
      "version": "3.11.7"
    }
  },
  "nbformat": 4,
  "nbformat_minor": 0
}
