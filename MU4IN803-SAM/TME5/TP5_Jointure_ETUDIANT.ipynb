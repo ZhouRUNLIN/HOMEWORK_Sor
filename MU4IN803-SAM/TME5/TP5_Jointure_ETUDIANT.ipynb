{
  "cells": [
    {
      "cell_type": "markdown",
      "metadata": {
        "id": "mhlOdxDuxJFl"
      },
      "source": [
        "# TP5 jointure (SUJET SEUL)\n",
        "\n",
        "date de modification: 28/02/2024"
      ]
    },
    {
      "cell_type": "markdown",
      "metadata": {
        "id": "N-qZLyyUyqOG"
      },
      "source": [
        "# Préparation"
      ]
    },
    {
      "cell_type": "markdown",
      "metadata": {
        "id": "PDaYAsBbyqOG"
      },
      "source": [
        "installer (ou mettre à jour) DuckDB\n"
      ]
    },
    {
      "cell_type": "code",
      "execution_count": 1,
      "metadata": {
        "colab": {
          "base_uri": "https://localhost:8080/"
        },
        "id": "k67DX_2ZyqOG",
        "outputId": "b1492228-3b17-4173-d470-bfb20daa15e5"
      },
      "outputs": [
        {
          "name": "stdout",
          "output_type": "stream",
          "text": [
            "\u001b[33mWARNING: Skipping /opt/homebrew/lib/python3.11/site-packages/numpy-1.26.3.dist-info due to invalid metadata entry 'name'\u001b[0m\u001b[33m\n",
            "\u001b[0m\u001b[33mWARNING: Skipping /opt/homebrew/lib/python3.11/site-packages/six-1.16.0-py3.11.egg-info due to invalid metadata entry 'name'\u001b[0m\u001b[33m\n",
            "\u001b[0m\u001b[33mWARNING: Skipping /opt/homebrew/lib/python3.11/site-packages/numpy-1.26.3.dist-info due to invalid metadata entry 'name'\u001b[0m\u001b[33m\n",
            "\u001b[0m\u001b[33mWARNING: Skipping /opt/homebrew/lib/python3.11/site-packages/six-1.16.0-py3.11.egg-info due to invalid metadata entry 'name'\u001b[0m\u001b[33m\n",
            "\u001b[0m\u001b[33mWARNING: Skipping /opt/homebrew/lib/python3.11/site-packages/packaging-23.2.dist-info due to invalid metadata entry 'name'\u001b[0m\u001b[33m\n",
            "\u001b[0m\u001b[33mWARNING: Skipping /opt/homebrew/lib/python3.11/site-packages/pyparsing-3.1.1.dist-info due to invalid metadata entry 'name'\u001b[0m\u001b[33m\n",
            "\u001b[0mRequirement already satisfied: duckdb in /opt/homebrew/lib/python3.11/site-packages (0.10.0)\n",
            "\u001b[33mWARNING: Skipping /opt/homebrew/lib/python3.11/site-packages/numpy-1.26.3.dist-info due to invalid metadata entry 'name'\u001b[0m\u001b[33m\n",
            "\u001b[0m\u001b[33mWARNING: Skipping /opt/homebrew/lib/python3.11/site-packages/six-1.16.0-py3.11.egg-info due to invalid metadata entry 'name'\u001b[0m\u001b[33m\n",
            "\u001b[0m\u001b[33mWARNING: Skipping /opt/homebrew/lib/python3.11/site-packages/packaging-23.2.dist-info due to invalid metadata entry 'name'\u001b[0m\u001b[33m\n",
            "\u001b[0m\u001b[33mWARNING: Skipping /opt/homebrew/lib/python3.11/site-packages/pyparsing-3.1.1.dist-info due to invalid metadata entry 'name'\u001b[0m\u001b[33m\n",
            "\u001b[0m\u001b[33mWARNING: Skipping /opt/homebrew/lib/python3.11/site-packages/numpy-1.26.3.dist-info due to invalid metadata entry 'name'\u001b[0m\u001b[33m\n",
            "\u001b[0m\u001b[33mWARNING: Skipping /opt/homebrew/lib/python3.11/site-packages/six-1.16.0-py3.11.egg-info due to invalid metadata entry 'name'\u001b[0m\u001b[33m\n",
            "\u001b[0m\u001b[33mWARNING: Skipping /opt/homebrew/lib/python3.11/site-packages/numpy-1.26.3.dist-info due to invalid metadata entry 'name'\u001b[0m\u001b[33m\n",
            "\u001b[0m\u001b[33mWARNING: Skipping /opt/homebrew/lib/python3.11/site-packages/numpy-1.26.3.dist-info due to invalid metadata entry 'name'\u001b[0m\u001b[33m\n",
            "\u001b[0m\n",
            "\u001b[1m[\u001b[0m\u001b[34;49mnotice\u001b[0m\u001b[1;39;49m]\u001b[0m\u001b[39;49m A new release of pip is available: \u001b[0m\u001b[31;49m23.3.1\u001b[0m\u001b[39;49m -> \u001b[0m\u001b[32;49m24.0\u001b[0m\n",
            "\u001b[1m[\u001b[0m\u001b[34;49mnotice\u001b[0m\u001b[1;39;49m]\u001b[0m\u001b[39;49m To update, run: \u001b[0m\u001b[32;49mpython3.11 -m pip install --upgrade pip\u001b[0m\n"
          ]
        }
      ],
      "source": [
        "# duckdb est déjà installé sur les machines de colab\n",
        "# !pip install duckdb --pre\n",
        "# !pip install -U duckdb"
      ]
    },
    {
      "cell_type": "markdown",
      "metadata": {
        "id": "Ol3_TLTOR8uO"
      },
      "source": [
        "Les lib nécessaires pour ce TP"
      ]
    },
    {
      "cell_type": "code",
      "execution_count": 2,
      "metadata": {
        "id": "BXhPzl81Rzj2"
      },
      "outputs": [],
      "source": [
        "import duckdb\n",
        "\n",
        "import sqlite3\n",
        "\n",
        "import time\n",
        "import pandas as pd"
      ]
    },
    {
      "cell_type": "markdown",
      "metadata": {
        "id": "18y1z_GtmR0l"
      },
      "source": [
        "connection au SGBD"
      ]
    },
    {
      "cell_type": "code",
      "execution_count": 3,
      "metadata": {
        "id": "jtmocYU5yqOH"
      },
      "outputs": [],
      "source": [
        "db = duckdb.connect('tpch.db')"
      ]
    },
    {
      "cell_type": "markdown",
      "metadata": {
        "id": "wqrSv4J7yqOG"
      },
      "source": [
        "## Créer les données\n"
      ]
    },
    {
      "cell_type": "markdown",
      "metadata": {
        "id": "tc9UcCQzyqOH"
      },
      "source": [
        "On utilise la base de données du benchmark TPC-H.\n",
        "DuckDB propose la procedure *dbgen* pour générer la base de données.\n",
        "Les données sont stockées dans le fichier *tpch.db*\n",
        "\n",
        "\n",
        "Comprendre le [schéma des données TPC-H](https://nuage.lip6.fr/s/RramHt5W3RomySs) (ou cf moodle).\n",
        "\n",
        "La taille de la base est paramétrée par le scale factor *sf*, vous pouvez faire varier sa valeur de 0.1 à 1 pour créer des bases de plus en plus grandes selon les expériences que vous voulez faire.\n"
      ]
    },
    {
      "cell_type": "code",
      "execution_count": 4,
      "metadata": {
        "colab": {
          "base_uri": "https://localhost:8080/"
        },
        "id": "ACHuxQHEbHwj",
        "outputId": "e4dd482e-077c-4f5f-9cee-4151351e47e7"
      },
      "outputs": [
        {
          "name": "stdout",
          "output_type": "stream",
          "text": [
            "database already generated with sf 0.2\n"
          ]
        }
      ],
      "source": [
        "# scale factor\n",
        "sf = 0.2\n",
        "\n",
        "generate=True\n",
        "\n",
        "order_table_created = db.execute(\"select count(*) from duckdb_tables() where table_name = 'orders'\").fetchall()[0][0]\n",
        "\n",
        "if (order_table_created == 1):\n",
        "  nb_orders = db.execute(\"select estimated_size from duckdb_tables() where table_name = 'orders'\").fetchall()[0][0]\n",
        "  if nb_orders / 1500000 == sf:\n",
        "    print(\"database already generated with sf\", sf)\n",
        "    generate = False\n",
        "\n",
        "if generate:\n",
        "  drop_tpch_tables = \"\"\"\n",
        "  DROP TABLE IF EXISTS customer;\n",
        "  DROP TABLE IF EXISTS lineitem;\n",
        "  DROP TABLE IF EXISTS nation;\n",
        "  DROP TABLE IF EXISTS orders;\n",
        "  DROP TABLE IF EXISTS part;\n",
        "  DROP TABLE IF EXISTS partsupp;\n",
        "  DROP TABLE IF EXISTS region;\n",
        "  DROP TABLE IF EXISTS supplier;\n",
        "  \"\"\"\n",
        "  db.execute(drop_tpch_tables)\n",
        "\n",
        "  print(\"generate database with scale factor sf = \", sf)\n",
        "  db.execute(f\"CALL dbgen(sf={sf})\")"
      ]
    },
    {
      "cell_type": "markdown",
      "metadata": {
        "id": "5WxeLxifyqOH"
      },
      "source": [
        "# Consulter la BD"
      ]
    },
    {
      "cell_type": "markdown",
      "metadata": {
        "id": "BUcrruS_HcAY"
      },
      "source": [
        "## Table names"
      ]
    },
    {
      "cell_type": "markdown",
      "metadata": {
        "id": "s6R8H2n7yqOH"
      },
      "source": [
        "Le catalogue des tables est duckdb_tables()\n",
        "\n",
        "Il y a 8 tables pour la base TPCH.\n",
        "\n",
        "Note: la fonction  `.df()` ajoutée à la fin de l'expression sert à importer le résultat de la requête dans un dataframe pandas afin d'avoir un rendu \"ergonomique\" dans colab ."
      ]
    },
    {
      "cell_type": "code",
      "execution_count": 5,
      "metadata": {
        "colab": {
          "base_uri": "https://localhost:8080/",
          "height": 300
        },
        "id": "3HrI08mQfASo",
        "outputId": "7698e287-3576-499d-9f5d-c34aaf8a4144"
      },
      "outputs": [
        {
          "data": {
            "text/html": [
              "<div>\n",
              "<style scoped>\n",
              "    .dataframe tbody tr th:only-of-type {\n",
              "        vertical-align: middle;\n",
              "    }\n",
              "\n",
              "    .dataframe tbody tr th {\n",
              "        vertical-align: top;\n",
              "    }\n",
              "\n",
              "    .dataframe thead th {\n",
              "        text-align: right;\n",
              "    }\n",
              "</style>\n",
              "<table border=\"1\" class=\"dataframe\">\n",
              "  <thead>\n",
              "    <tr style=\"text-align: right;\">\n",
              "      <th></th>\n",
              "      <th>table_name</th>\n",
              "      <th>estimated_size</th>\n",
              "      <th>column_count</th>\n",
              "    </tr>\n",
              "  </thead>\n",
              "  <tbody>\n",
              "    <tr>\n",
              "      <th>0</th>\n",
              "      <td>lineitem</td>\n",
              "      <td>1199969</td>\n",
              "      <td>16</td>\n",
              "    </tr>\n",
              "    <tr>\n",
              "      <th>1</th>\n",
              "      <td>orders</td>\n",
              "      <td>300000</td>\n",
              "      <td>9</td>\n",
              "    </tr>\n",
              "    <tr>\n",
              "      <th>2</th>\n",
              "      <td>partsupp</td>\n",
              "      <td>160000</td>\n",
              "      <td>5</td>\n",
              "    </tr>\n",
              "    <tr>\n",
              "      <th>3</th>\n",
              "      <td>part</td>\n",
              "      <td>40000</td>\n",
              "      <td>9</td>\n",
              "    </tr>\n",
              "    <tr>\n",
              "      <th>4</th>\n",
              "      <td>customer</td>\n",
              "      <td>30000</td>\n",
              "      <td>8</td>\n",
              "    </tr>\n",
              "    <tr>\n",
              "      <th>5</th>\n",
              "      <td>supplier</td>\n",
              "      <td>2000</td>\n",
              "      <td>7</td>\n",
              "    </tr>\n",
              "    <tr>\n",
              "      <th>6</th>\n",
              "      <td>nation</td>\n",
              "      <td>25</td>\n",
              "      <td>4</td>\n",
              "    </tr>\n",
              "    <tr>\n",
              "      <th>7</th>\n",
              "      <td>region</td>\n",
              "      <td>5</td>\n",
              "      <td>3</td>\n",
              "    </tr>\n",
              "  </tbody>\n",
              "</table>\n",
              "</div>"
            ],
            "text/plain": [
              "  table_name  estimated_size  column_count\n",
              "0   lineitem         1199969            16\n",
              "1     orders          300000             9\n",
              "2   partsupp          160000             5\n",
              "3       part           40000             9\n",
              "4   customer           30000             8\n",
              "5   supplier            2000             7\n",
              "6     nation              25             4\n",
              "7     region               5             3"
            ]
          },
          "execution_count": 5,
          "metadata": {},
          "output_type": "execute_result"
        }
      ],
      "source": [
        "db.execute(\"select table_name, estimated_size, column_count from duckdb_tables() order by estimated_size desc\").df()"
      ]
    },
    {
      "cell_type": "markdown",
      "metadata": {
        "id": "AwxMghdaTKz_"
      },
      "source": [
        " La commande `SHOW TABLES` retourne le nom des tables"
      ]
    },
    {
      "cell_type": "code",
      "execution_count": 6,
      "metadata": {
        "id": "ihm4EqxlyqOH"
      },
      "outputs": [
        {
          "data": {
            "text/html": [
              "<div>\n",
              "<style scoped>\n",
              "    .dataframe tbody tr th:only-of-type {\n",
              "        vertical-align: middle;\n",
              "    }\n",
              "\n",
              "    .dataframe tbody tr th {\n",
              "        vertical-align: top;\n",
              "    }\n",
              "\n",
              "    .dataframe thead th {\n",
              "        text-align: right;\n",
              "    }\n",
              "</style>\n",
              "<table border=\"1\" class=\"dataframe\">\n",
              "  <thead>\n",
              "    <tr style=\"text-align: right;\">\n",
              "      <th></th>\n",
              "      <th>name</th>\n",
              "    </tr>\n",
              "  </thead>\n",
              "  <tbody>\n",
              "    <tr>\n",
              "      <th>0</th>\n",
              "      <td>customer</td>\n",
              "    </tr>\n",
              "    <tr>\n",
              "      <th>1</th>\n",
              "      <td>lineitem</td>\n",
              "    </tr>\n",
              "    <tr>\n",
              "      <th>2</th>\n",
              "      <td>nation</td>\n",
              "    </tr>\n",
              "    <tr>\n",
              "      <th>3</th>\n",
              "      <td>orders</td>\n",
              "    </tr>\n",
              "    <tr>\n",
              "      <th>4</th>\n",
              "      <td>part</td>\n",
              "    </tr>\n",
              "    <tr>\n",
              "      <th>5</th>\n",
              "      <td>partsupp</td>\n",
              "    </tr>\n",
              "    <tr>\n",
              "      <th>6</th>\n",
              "      <td>region</td>\n",
              "    </tr>\n",
              "    <tr>\n",
              "      <th>7</th>\n",
              "      <td>supplier</td>\n",
              "    </tr>\n",
              "  </tbody>\n",
              "</table>\n",
              "</div>"
            ],
            "text/plain": [
              "       name\n",
              "0  customer\n",
              "1  lineitem\n",
              "2    nation\n",
              "3    orders\n",
              "4      part\n",
              "5  partsupp\n",
              "6    region\n",
              "7  supplier"
            ]
          },
          "execution_count": 6,
          "metadata": {},
          "output_type": "execute_result"
        }
      ],
      "source": [
        "db.execute(\"SHOW TABLES\").df()"
      ]
    },
    {
      "cell_type": "markdown",
      "metadata": {
        "id": "5S_20A3eyqOI"
      },
      "source": [
        "La clause  `LIMIT N` est ajoutée à la fin d'une requête pour calculer seulement les N premiers tuples du résultat.\n",
        "\n",
        "Exemple pour afficher N tuples de la table Lineitem :"
      ]
    },
    {
      "cell_type": "code",
      "execution_count": 7,
      "metadata": {
        "colab": {
          "base_uri": "https://localhost:8080/",
          "height": 399
        },
        "id": "giT6V1WsyqOI",
        "outputId": "37a4c76a-07dd-4932-a6ff-c2080e03d4ba"
      },
      "outputs": [
        {
          "data": {
            "text/html": [
              "<div>\n",
              "<style scoped>\n",
              "    .dataframe tbody tr th:only-of-type {\n",
              "        vertical-align: middle;\n",
              "    }\n",
              "\n",
              "    .dataframe tbody tr th {\n",
              "        vertical-align: top;\n",
              "    }\n",
              "\n",
              "    .dataframe thead th {\n",
              "        text-align: right;\n",
              "    }\n",
              "</style>\n",
              "<table border=\"1\" class=\"dataframe\">\n",
              "  <thead>\n",
              "    <tr style=\"text-align: right;\">\n",
              "      <th></th>\n",
              "      <th>l_orderkey</th>\n",
              "      <th>l_partkey</th>\n",
              "      <th>l_suppkey</th>\n",
              "      <th>l_linenumber</th>\n",
              "      <th>l_quantity</th>\n",
              "      <th>l_extendedprice</th>\n",
              "      <th>l_discount</th>\n",
              "      <th>l_tax</th>\n",
              "      <th>l_returnflag</th>\n",
              "      <th>l_linestatus</th>\n",
              "      <th>l_shipdate</th>\n",
              "      <th>l_commitdate</th>\n",
              "      <th>l_receiptdate</th>\n",
              "      <th>l_shipinstruct</th>\n",
              "      <th>l_shipmode</th>\n",
              "      <th>l_comment</th>\n",
              "    </tr>\n",
              "  </thead>\n",
              "  <tbody>\n",
              "    <tr>\n",
              "      <th>0</th>\n",
              "      <td>1</td>\n",
              "      <td>31038</td>\n",
              "      <td>1554</td>\n",
              "      <td>1</td>\n",
              "      <td>17.0</td>\n",
              "      <td>16473.51</td>\n",
              "      <td>0.04</td>\n",
              "      <td>0.02</td>\n",
              "      <td>N</td>\n",
              "      <td>O</td>\n",
              "      <td>1996-03-13</td>\n",
              "      <td>1996-02-12</td>\n",
              "      <td>1996-03-22</td>\n",
              "      <td>DELIVER IN PERSON</td>\n",
              "      <td>TRUCK</td>\n",
              "      <td>to beans x-ray carefull</td>\n",
              "    </tr>\n",
              "    <tr>\n",
              "      <th>1</th>\n",
              "      <td>1</td>\n",
              "      <td>13462</td>\n",
              "      <td>1463</td>\n",
              "      <td>2</td>\n",
              "      <td>36.0</td>\n",
              "      <td>49516.56</td>\n",
              "      <td>0.09</td>\n",
              "      <td>0.06</td>\n",
              "      <td>N</td>\n",
              "      <td>O</td>\n",
              "      <td>1996-04-12</td>\n",
              "      <td>1996-02-28</td>\n",
              "      <td>1996-04-20</td>\n",
              "      <td>TAKE BACK RETURN</td>\n",
              "      <td>MAIL</td>\n",
              "      <td>according to the final foxes. qui</td>\n",
              "    </tr>\n",
              "    <tr>\n",
              "      <th>2</th>\n",
              "      <td>1</td>\n",
              "      <td>12740</td>\n",
              "      <td>741</td>\n",
              "      <td>3</td>\n",
              "      <td>8.0</td>\n",
              "      <td>13221.92</td>\n",
              "      <td>0.10</td>\n",
              "      <td>0.02</td>\n",
              "      <td>N</td>\n",
              "      <td>O</td>\n",
              "      <td>1996-01-29</td>\n",
              "      <td>1996-03-05</td>\n",
              "      <td>1996-01-31</td>\n",
              "      <td>TAKE BACK RETURN</td>\n",
              "      <td>REG AIR</td>\n",
              "      <td>ourts cajole above the furiou</td>\n",
              "    </tr>\n",
              "    <tr>\n",
              "      <th>3</th>\n",
              "      <td>1</td>\n",
              "      <td>427</td>\n",
              "      <td>928</td>\n",
              "      <td>4</td>\n",
              "      <td>28.0</td>\n",
              "      <td>37167.76</td>\n",
              "      <td>0.09</td>\n",
              "      <td>0.06</td>\n",
              "      <td>N</td>\n",
              "      <td>O</td>\n",
              "      <td>1996-04-21</td>\n",
              "      <td>1996-03-30</td>\n",
              "      <td>1996-05-16</td>\n",
              "      <td>NONE</td>\n",
              "      <td>AIR</td>\n",
              "      <td>s cajole busily above t</td>\n",
              "    </tr>\n",
              "    <tr>\n",
              "      <th>4</th>\n",
              "      <td>1</td>\n",
              "      <td>4806</td>\n",
              "      <td>313</td>\n",
              "      <td>5</td>\n",
              "      <td>24.0</td>\n",
              "      <td>41059.20</td>\n",
              "      <td>0.10</td>\n",
              "      <td>0.04</td>\n",
              "      <td>N</td>\n",
              "      <td>O</td>\n",
              "      <td>1996-03-30</td>\n",
              "      <td>1996-03-14</td>\n",
              "      <td>1996-04-01</td>\n",
              "      <td>NONE</td>\n",
              "      <td>FOB</td>\n",
              "      <td>the regular, regular pa</td>\n",
              "    </tr>\n",
              "  </tbody>\n",
              "</table>\n",
              "</div>"
            ],
            "text/plain": [
              "   l_orderkey  l_partkey  l_suppkey  l_linenumber  l_quantity  \\\n",
              "0           1      31038       1554             1        17.0   \n",
              "1           1      13462       1463             2        36.0   \n",
              "2           1      12740        741             3         8.0   \n",
              "3           1        427        928             4        28.0   \n",
              "4           1       4806        313             5        24.0   \n",
              "\n",
              "   l_extendedprice  l_discount  l_tax l_returnflag l_linestatus l_shipdate  \\\n",
              "0         16473.51        0.04   0.02            N            O 1996-03-13   \n",
              "1         49516.56        0.09   0.06            N            O 1996-04-12   \n",
              "2         13221.92        0.10   0.02            N            O 1996-01-29   \n",
              "3         37167.76        0.09   0.06            N            O 1996-04-21   \n",
              "4         41059.20        0.10   0.04            N            O 1996-03-30   \n",
              "\n",
              "  l_commitdate l_receiptdate     l_shipinstruct l_shipmode  \\\n",
              "0   1996-02-12    1996-03-22  DELIVER IN PERSON      TRUCK   \n",
              "1   1996-02-28    1996-04-20   TAKE BACK RETURN       MAIL   \n",
              "2   1996-03-05    1996-01-31   TAKE BACK RETURN    REG AIR   \n",
              "3   1996-03-30    1996-05-16               NONE        AIR   \n",
              "4   1996-03-14    1996-04-01               NONE        FOB   \n",
              "\n",
              "                            l_comment  \n",
              "0             to beans x-ray carefull  \n",
              "1   according to the final foxes. qui  \n",
              "2       ourts cajole above the furiou  \n",
              "3             s cajole busily above t  \n",
              "4             the regular, regular pa  "
            ]
          },
          "execution_count": 7,
          "metadata": {},
          "output_type": "execute_result"
        }
      ],
      "source": [
        "db.execute(\"SELECT * FROM lineitem LIMIT 5\").df()"
      ]
    },
    {
      "cell_type": "code",
      "execution_count": 111,
      "metadata": {},
      "outputs": [
        {
          "data": {
            "text/html": [
              "<div>\n",
              "<style scoped>\n",
              "    .dataframe tbody tr th:only-of-type {\n",
              "        vertical-align: middle;\n",
              "    }\n",
              "\n",
              "    .dataframe tbody tr th {\n",
              "        vertical-align: top;\n",
              "    }\n",
              "\n",
              "    .dataframe thead th {\n",
              "        text-align: right;\n",
              "    }\n",
              "</style>\n",
              "<table border=\"1\" class=\"dataframe\">\n",
              "  <thead>\n",
              "    <tr style=\"text-align: right;\">\n",
              "      <th></th>\n",
              "      <th>count_star()</th>\n",
              "      <th>o_totalprice</th>\n",
              "    </tr>\n",
              "  </thead>\n",
              "  <tbody>\n",
              "    <tr>\n",
              "      <th>0</th>\n",
              "      <td>1</td>\n",
              "      <td>36336.68</td>\n",
              "    </tr>\n",
              "    <tr>\n",
              "      <th>1</th>\n",
              "      <td>1</td>\n",
              "      <td>176036.50</td>\n",
              "    </tr>\n",
              "    <tr>\n",
              "      <th>2</th>\n",
              "      <td>1</td>\n",
              "      <td>145329.24</td>\n",
              "    </tr>\n",
              "    <tr>\n",
              "      <th>3</th>\n",
              "      <td>1</td>\n",
              "      <td>42787.07</td>\n",
              "    </tr>\n",
              "    <tr>\n",
              "      <th>4</th>\n",
              "      <td>1</td>\n",
              "      <td>71724.42</td>\n",
              "    </tr>\n",
              "  </tbody>\n",
              "</table>\n",
              "</div>"
            ],
            "text/plain": [
              "   count_star()  o_totalprice\n",
              "0             1      36336.68\n",
              "1             1     176036.50\n",
              "2             1     145329.24\n",
              "3             1      42787.07\n",
              "4             1      71724.42"
            ]
          },
          "execution_count": 111,
          "metadata": {},
          "output_type": "execute_result"
        }
      ],
      "source": [
        "db.execute(\"SELECT count(*),  o_totalprice FROM orders GROUP BY o_totalprice LIMIT 5\").df()"
      ]
    },
    {
      "cell_type": "markdown",
      "metadata": {
        "id": "jaNpRX9ZHPUJ"
      },
      "source": [
        "## Describe"
      ]
    },
    {
      "cell_type": "markdown",
      "metadata": {
        "id": "SDU31ZGgyqOH"
      },
      "source": [
        "La commande `DESCRIBE` retourne une description des attributs d'une table."
      ]
    },
    {
      "cell_type": "markdown",
      "metadata": {
        "id": "OXLNk9FRh5hS"
      },
      "source": [
        "### Lineitem"
      ]
    },
    {
      "cell_type": "code",
      "execution_count": 8,
      "metadata": {
        "colab": {
          "base_uri": "https://localhost:8080/",
          "height": 551
        },
        "id": "clFOxijayqOI",
        "outputId": "88fb07e4-26d0-4240-b7d1-2481efab5df4"
      },
      "outputs": [
        {
          "data": {
            "text/html": [
              "<div>\n",
              "<style scoped>\n",
              "    .dataframe tbody tr th:only-of-type {\n",
              "        vertical-align: middle;\n",
              "    }\n",
              "\n",
              "    .dataframe tbody tr th {\n",
              "        vertical-align: top;\n",
              "    }\n",
              "\n",
              "    .dataframe thead th {\n",
              "        text-align: right;\n",
              "    }\n",
              "</style>\n",
              "<table border=\"1\" class=\"dataframe\">\n",
              "  <thead>\n",
              "    <tr style=\"text-align: right;\">\n",
              "      <th></th>\n",
              "      <th>column_name</th>\n",
              "      <th>column_type</th>\n",
              "      <th>null</th>\n",
              "      <th>key</th>\n",
              "      <th>default</th>\n",
              "      <th>extra</th>\n",
              "    </tr>\n",
              "  </thead>\n",
              "  <tbody>\n",
              "    <tr>\n",
              "      <th>0</th>\n",
              "      <td>l_orderkey</td>\n",
              "      <td>INTEGER</td>\n",
              "      <td>NO</td>\n",
              "      <td>None</td>\n",
              "      <td>None</td>\n",
              "      <td>None</td>\n",
              "    </tr>\n",
              "    <tr>\n",
              "      <th>1</th>\n",
              "      <td>l_partkey</td>\n",
              "      <td>INTEGER</td>\n",
              "      <td>NO</td>\n",
              "      <td>None</td>\n",
              "      <td>None</td>\n",
              "      <td>None</td>\n",
              "    </tr>\n",
              "    <tr>\n",
              "      <th>2</th>\n",
              "      <td>l_suppkey</td>\n",
              "      <td>INTEGER</td>\n",
              "      <td>NO</td>\n",
              "      <td>None</td>\n",
              "      <td>None</td>\n",
              "      <td>None</td>\n",
              "    </tr>\n",
              "    <tr>\n",
              "      <th>3</th>\n",
              "      <td>l_linenumber</td>\n",
              "      <td>INTEGER</td>\n",
              "      <td>NO</td>\n",
              "      <td>None</td>\n",
              "      <td>None</td>\n",
              "      <td>None</td>\n",
              "    </tr>\n",
              "    <tr>\n",
              "      <th>4</th>\n",
              "      <td>l_quantity</td>\n",
              "      <td>DECIMAL(15,2)</td>\n",
              "      <td>NO</td>\n",
              "      <td>None</td>\n",
              "      <td>None</td>\n",
              "      <td>None</td>\n",
              "    </tr>\n",
              "    <tr>\n",
              "      <th>5</th>\n",
              "      <td>l_extendedprice</td>\n",
              "      <td>DECIMAL(15,2)</td>\n",
              "      <td>NO</td>\n",
              "      <td>None</td>\n",
              "      <td>None</td>\n",
              "      <td>None</td>\n",
              "    </tr>\n",
              "    <tr>\n",
              "      <th>6</th>\n",
              "      <td>l_discount</td>\n",
              "      <td>DECIMAL(15,2)</td>\n",
              "      <td>NO</td>\n",
              "      <td>None</td>\n",
              "      <td>None</td>\n",
              "      <td>None</td>\n",
              "    </tr>\n",
              "    <tr>\n",
              "      <th>7</th>\n",
              "      <td>l_tax</td>\n",
              "      <td>DECIMAL(15,2)</td>\n",
              "      <td>NO</td>\n",
              "      <td>None</td>\n",
              "      <td>None</td>\n",
              "      <td>None</td>\n",
              "    </tr>\n",
              "    <tr>\n",
              "      <th>8</th>\n",
              "      <td>l_returnflag</td>\n",
              "      <td>VARCHAR</td>\n",
              "      <td>NO</td>\n",
              "      <td>None</td>\n",
              "      <td>None</td>\n",
              "      <td>None</td>\n",
              "    </tr>\n",
              "    <tr>\n",
              "      <th>9</th>\n",
              "      <td>l_linestatus</td>\n",
              "      <td>VARCHAR</td>\n",
              "      <td>NO</td>\n",
              "      <td>None</td>\n",
              "      <td>None</td>\n",
              "      <td>None</td>\n",
              "    </tr>\n",
              "    <tr>\n",
              "      <th>10</th>\n",
              "      <td>l_shipdate</td>\n",
              "      <td>DATE</td>\n",
              "      <td>NO</td>\n",
              "      <td>None</td>\n",
              "      <td>None</td>\n",
              "      <td>None</td>\n",
              "    </tr>\n",
              "    <tr>\n",
              "      <th>11</th>\n",
              "      <td>l_commitdate</td>\n",
              "      <td>DATE</td>\n",
              "      <td>NO</td>\n",
              "      <td>None</td>\n",
              "      <td>None</td>\n",
              "      <td>None</td>\n",
              "    </tr>\n",
              "    <tr>\n",
              "      <th>12</th>\n",
              "      <td>l_receiptdate</td>\n",
              "      <td>DATE</td>\n",
              "      <td>NO</td>\n",
              "      <td>None</td>\n",
              "      <td>None</td>\n",
              "      <td>None</td>\n",
              "    </tr>\n",
              "    <tr>\n",
              "      <th>13</th>\n",
              "      <td>l_shipinstruct</td>\n",
              "      <td>VARCHAR</td>\n",
              "      <td>NO</td>\n",
              "      <td>None</td>\n",
              "      <td>None</td>\n",
              "      <td>None</td>\n",
              "    </tr>\n",
              "    <tr>\n",
              "      <th>14</th>\n",
              "      <td>l_shipmode</td>\n",
              "      <td>VARCHAR</td>\n",
              "      <td>NO</td>\n",
              "      <td>None</td>\n",
              "      <td>None</td>\n",
              "      <td>None</td>\n",
              "    </tr>\n",
              "    <tr>\n",
              "      <th>15</th>\n",
              "      <td>l_comment</td>\n",
              "      <td>VARCHAR</td>\n",
              "      <td>NO</td>\n",
              "      <td>None</td>\n",
              "      <td>None</td>\n",
              "      <td>None</td>\n",
              "    </tr>\n",
              "  </tbody>\n",
              "</table>\n",
              "</div>"
            ],
            "text/plain": [
              "        column_name    column_type null   key default extra\n",
              "0        l_orderkey        INTEGER   NO  None    None  None\n",
              "1         l_partkey        INTEGER   NO  None    None  None\n",
              "2         l_suppkey        INTEGER   NO  None    None  None\n",
              "3      l_linenumber        INTEGER   NO  None    None  None\n",
              "4        l_quantity  DECIMAL(15,2)   NO  None    None  None\n",
              "5   l_extendedprice  DECIMAL(15,2)   NO  None    None  None\n",
              "6        l_discount  DECIMAL(15,2)   NO  None    None  None\n",
              "7             l_tax  DECIMAL(15,2)   NO  None    None  None\n",
              "8      l_returnflag        VARCHAR   NO  None    None  None\n",
              "9      l_linestatus        VARCHAR   NO  None    None  None\n",
              "10       l_shipdate           DATE   NO  None    None  None\n",
              "11     l_commitdate           DATE   NO  None    None  None\n",
              "12    l_receiptdate           DATE   NO  None    None  None\n",
              "13   l_shipinstruct        VARCHAR   NO  None    None  None\n",
              "14       l_shipmode        VARCHAR   NO  None    None  None\n",
              "15        l_comment        VARCHAR   NO  None    None  None"
            ]
          },
          "execution_count": 8,
          "metadata": {},
          "output_type": "execute_result"
        }
      ],
      "source": [
        "db.execute(\"DESCRIBE Lineitem\").df()"
      ]
    },
    {
      "cell_type": "markdown",
      "metadata": {
        "id": "V8-xd_0rh9uW"
      },
      "source": [
        "### Orders"
      ]
    },
    {
      "cell_type": "code",
      "execution_count": 9,
      "metadata": {
        "colab": {
          "base_uri": "https://localhost:8080/",
          "height": 331
        },
        "id": "brdBUzwGh0dv",
        "outputId": "d73637c9-5d7d-49bd-cdb9-b61dd1b99cae"
      },
      "outputs": [
        {
          "data": {
            "text/html": [
              "<div>\n",
              "<style scoped>\n",
              "    .dataframe tbody tr th:only-of-type {\n",
              "        vertical-align: middle;\n",
              "    }\n",
              "\n",
              "    .dataframe tbody tr th {\n",
              "        vertical-align: top;\n",
              "    }\n",
              "\n",
              "    .dataframe thead th {\n",
              "        text-align: right;\n",
              "    }\n",
              "</style>\n",
              "<table border=\"1\" class=\"dataframe\">\n",
              "  <thead>\n",
              "    <tr style=\"text-align: right;\">\n",
              "      <th></th>\n",
              "      <th>column_name</th>\n",
              "      <th>column_type</th>\n",
              "      <th>null</th>\n",
              "      <th>key</th>\n",
              "      <th>default</th>\n",
              "      <th>extra</th>\n",
              "    </tr>\n",
              "  </thead>\n",
              "  <tbody>\n",
              "    <tr>\n",
              "      <th>0</th>\n",
              "      <td>o_orderkey</td>\n",
              "      <td>INTEGER</td>\n",
              "      <td>NO</td>\n",
              "      <td>None</td>\n",
              "      <td>None</td>\n",
              "      <td>None</td>\n",
              "    </tr>\n",
              "    <tr>\n",
              "      <th>1</th>\n",
              "      <td>o_custkey</td>\n",
              "      <td>INTEGER</td>\n",
              "      <td>NO</td>\n",
              "      <td>None</td>\n",
              "      <td>None</td>\n",
              "      <td>None</td>\n",
              "    </tr>\n",
              "    <tr>\n",
              "      <th>2</th>\n",
              "      <td>o_orderstatus</td>\n",
              "      <td>VARCHAR</td>\n",
              "      <td>NO</td>\n",
              "      <td>None</td>\n",
              "      <td>None</td>\n",
              "      <td>None</td>\n",
              "    </tr>\n",
              "    <tr>\n",
              "      <th>3</th>\n",
              "      <td>o_totalprice</td>\n",
              "      <td>DECIMAL(15,2)</td>\n",
              "      <td>NO</td>\n",
              "      <td>None</td>\n",
              "      <td>None</td>\n",
              "      <td>None</td>\n",
              "    </tr>\n",
              "    <tr>\n",
              "      <th>4</th>\n",
              "      <td>o_orderdate</td>\n",
              "      <td>DATE</td>\n",
              "      <td>NO</td>\n",
              "      <td>None</td>\n",
              "      <td>None</td>\n",
              "      <td>None</td>\n",
              "    </tr>\n",
              "    <tr>\n",
              "      <th>5</th>\n",
              "      <td>o_orderpriority</td>\n",
              "      <td>VARCHAR</td>\n",
              "      <td>NO</td>\n",
              "      <td>None</td>\n",
              "      <td>None</td>\n",
              "      <td>None</td>\n",
              "    </tr>\n",
              "    <tr>\n",
              "      <th>6</th>\n",
              "      <td>o_clerk</td>\n",
              "      <td>VARCHAR</td>\n",
              "      <td>NO</td>\n",
              "      <td>None</td>\n",
              "      <td>None</td>\n",
              "      <td>None</td>\n",
              "    </tr>\n",
              "    <tr>\n",
              "      <th>7</th>\n",
              "      <td>o_shippriority</td>\n",
              "      <td>INTEGER</td>\n",
              "      <td>NO</td>\n",
              "      <td>None</td>\n",
              "      <td>None</td>\n",
              "      <td>None</td>\n",
              "    </tr>\n",
              "    <tr>\n",
              "      <th>8</th>\n",
              "      <td>o_comment</td>\n",
              "      <td>VARCHAR</td>\n",
              "      <td>NO</td>\n",
              "      <td>None</td>\n",
              "      <td>None</td>\n",
              "      <td>None</td>\n",
              "    </tr>\n",
              "  </tbody>\n",
              "</table>\n",
              "</div>"
            ],
            "text/plain": [
              "       column_name    column_type null   key default extra\n",
              "0       o_orderkey        INTEGER   NO  None    None  None\n",
              "1        o_custkey        INTEGER   NO  None    None  None\n",
              "2    o_orderstatus        VARCHAR   NO  None    None  None\n",
              "3     o_totalprice  DECIMAL(15,2)   NO  None    None  None\n",
              "4      o_orderdate           DATE   NO  None    None  None\n",
              "5  o_orderpriority        VARCHAR   NO  None    None  None\n",
              "6          o_clerk        VARCHAR   NO  None    None  None\n",
              "7   o_shippriority        INTEGER   NO  None    None  None\n",
              "8        o_comment        VARCHAR   NO  None    None  None"
            ]
          },
          "execution_count": 9,
          "metadata": {},
          "output_type": "execute_result"
        }
      ],
      "source": [
        "db.execute(\"DESCRIBE Orders\").df()"
      ]
    },
    {
      "cell_type": "markdown",
      "metadata": {
        "id": "3c-6_UXkiADv"
      },
      "source": [
        "### Customer"
      ]
    },
    {
      "cell_type": "code",
      "execution_count": 10,
      "metadata": {
        "colab": {
          "base_uri": "https://localhost:8080/",
          "height": 300
        },
        "id": "lb7giqZih2lU",
        "outputId": "d77cf07c-d6d5-4068-a4d0-18bf217c7452"
      },
      "outputs": [
        {
          "data": {
            "text/html": [
              "<div>\n",
              "<style scoped>\n",
              "    .dataframe tbody tr th:only-of-type {\n",
              "        vertical-align: middle;\n",
              "    }\n",
              "\n",
              "    .dataframe tbody tr th {\n",
              "        vertical-align: top;\n",
              "    }\n",
              "\n",
              "    .dataframe thead th {\n",
              "        text-align: right;\n",
              "    }\n",
              "</style>\n",
              "<table border=\"1\" class=\"dataframe\">\n",
              "  <thead>\n",
              "    <tr style=\"text-align: right;\">\n",
              "      <th></th>\n",
              "      <th>column_name</th>\n",
              "      <th>column_type</th>\n",
              "      <th>null</th>\n",
              "      <th>key</th>\n",
              "      <th>default</th>\n",
              "      <th>extra</th>\n",
              "    </tr>\n",
              "  </thead>\n",
              "  <tbody>\n",
              "    <tr>\n",
              "      <th>0</th>\n",
              "      <td>c_custkey</td>\n",
              "      <td>INTEGER</td>\n",
              "      <td>NO</td>\n",
              "      <td>None</td>\n",
              "      <td>None</td>\n",
              "      <td>None</td>\n",
              "    </tr>\n",
              "    <tr>\n",
              "      <th>1</th>\n",
              "      <td>c_name</td>\n",
              "      <td>VARCHAR</td>\n",
              "      <td>NO</td>\n",
              "      <td>None</td>\n",
              "      <td>None</td>\n",
              "      <td>None</td>\n",
              "    </tr>\n",
              "    <tr>\n",
              "      <th>2</th>\n",
              "      <td>c_address</td>\n",
              "      <td>VARCHAR</td>\n",
              "      <td>NO</td>\n",
              "      <td>None</td>\n",
              "      <td>None</td>\n",
              "      <td>None</td>\n",
              "    </tr>\n",
              "    <tr>\n",
              "      <th>3</th>\n",
              "      <td>c_nationkey</td>\n",
              "      <td>INTEGER</td>\n",
              "      <td>NO</td>\n",
              "      <td>None</td>\n",
              "      <td>None</td>\n",
              "      <td>None</td>\n",
              "    </tr>\n",
              "    <tr>\n",
              "      <th>4</th>\n",
              "      <td>c_phone</td>\n",
              "      <td>VARCHAR</td>\n",
              "      <td>NO</td>\n",
              "      <td>None</td>\n",
              "      <td>None</td>\n",
              "      <td>None</td>\n",
              "    </tr>\n",
              "    <tr>\n",
              "      <th>5</th>\n",
              "      <td>c_acctbal</td>\n",
              "      <td>DECIMAL(15,2)</td>\n",
              "      <td>NO</td>\n",
              "      <td>None</td>\n",
              "      <td>None</td>\n",
              "      <td>None</td>\n",
              "    </tr>\n",
              "    <tr>\n",
              "      <th>6</th>\n",
              "      <td>c_mktsegment</td>\n",
              "      <td>VARCHAR</td>\n",
              "      <td>NO</td>\n",
              "      <td>None</td>\n",
              "      <td>None</td>\n",
              "      <td>None</td>\n",
              "    </tr>\n",
              "    <tr>\n",
              "      <th>7</th>\n",
              "      <td>c_comment</td>\n",
              "      <td>VARCHAR</td>\n",
              "      <td>NO</td>\n",
              "      <td>None</td>\n",
              "      <td>None</td>\n",
              "      <td>None</td>\n",
              "    </tr>\n",
              "  </tbody>\n",
              "</table>\n",
              "</div>"
            ],
            "text/plain": [
              "    column_name    column_type null   key default extra\n",
              "0     c_custkey        INTEGER   NO  None    None  None\n",
              "1        c_name        VARCHAR   NO  None    None  None\n",
              "2     c_address        VARCHAR   NO  None    None  None\n",
              "3   c_nationkey        INTEGER   NO  None    None  None\n",
              "4       c_phone        VARCHAR   NO  None    None  None\n",
              "5     c_acctbal  DECIMAL(15,2)   NO  None    None  None\n",
              "6  c_mktsegment        VARCHAR   NO  None    None  None\n",
              "7     c_comment        VARCHAR   NO  None    None  None"
            ]
          },
          "execution_count": 10,
          "metadata": {},
          "output_type": "execute_result"
        }
      ],
      "source": [
        "db.execute(\"DESCRIBE Customer\").df()"
      ]
    },
    {
      "cell_type": "markdown",
      "metadata": {
        "id": "VOF1bSJRyqOI"
      },
      "source": [
        "La commande `SUMMARIZE` donne un aperçu statistique des données d'une table.\n",
        "Elle retourne pour chaque attribut, les bornes min et max du domaine, le nombre approximatif de valeurs uniques ainsi que la distribution décrite par la moyenne, l'écart type et les quartiles 25, 50 (médiane) et 75."
      ]
    },
    {
      "cell_type": "markdown",
      "metadata": {
        "id": "L5UCwYBNLQxx"
      },
      "source": [
        "### Supplier\n"
      ]
    },
    {
      "cell_type": "code",
      "execution_count": 11,
      "metadata": {
        "colab": {
          "base_uri": "https://localhost:8080/",
          "height": 269
        },
        "id": "KcHtw_8iLWYJ",
        "outputId": "0aab91f8-3290-41b2-d57d-d25140f7ad74"
      },
      "outputs": [
        {
          "data": {
            "text/html": [
              "<div>\n",
              "<style scoped>\n",
              "    .dataframe tbody tr th:only-of-type {\n",
              "        vertical-align: middle;\n",
              "    }\n",
              "\n",
              "    .dataframe tbody tr th {\n",
              "        vertical-align: top;\n",
              "    }\n",
              "\n",
              "    .dataframe thead th {\n",
              "        text-align: right;\n",
              "    }\n",
              "</style>\n",
              "<table border=\"1\" class=\"dataframe\">\n",
              "  <thead>\n",
              "    <tr style=\"text-align: right;\">\n",
              "      <th></th>\n",
              "      <th>column_name</th>\n",
              "      <th>column_type</th>\n",
              "      <th>null</th>\n",
              "      <th>key</th>\n",
              "      <th>default</th>\n",
              "      <th>extra</th>\n",
              "    </tr>\n",
              "  </thead>\n",
              "  <tbody>\n",
              "    <tr>\n",
              "      <th>0</th>\n",
              "      <td>s_suppkey</td>\n",
              "      <td>INTEGER</td>\n",
              "      <td>NO</td>\n",
              "      <td>None</td>\n",
              "      <td>None</td>\n",
              "      <td>None</td>\n",
              "    </tr>\n",
              "    <tr>\n",
              "      <th>1</th>\n",
              "      <td>s_name</td>\n",
              "      <td>VARCHAR</td>\n",
              "      <td>NO</td>\n",
              "      <td>None</td>\n",
              "      <td>None</td>\n",
              "      <td>None</td>\n",
              "    </tr>\n",
              "    <tr>\n",
              "      <th>2</th>\n",
              "      <td>s_address</td>\n",
              "      <td>VARCHAR</td>\n",
              "      <td>NO</td>\n",
              "      <td>None</td>\n",
              "      <td>None</td>\n",
              "      <td>None</td>\n",
              "    </tr>\n",
              "    <tr>\n",
              "      <th>3</th>\n",
              "      <td>s_nationkey</td>\n",
              "      <td>INTEGER</td>\n",
              "      <td>NO</td>\n",
              "      <td>None</td>\n",
              "      <td>None</td>\n",
              "      <td>None</td>\n",
              "    </tr>\n",
              "    <tr>\n",
              "      <th>4</th>\n",
              "      <td>s_phone</td>\n",
              "      <td>VARCHAR</td>\n",
              "      <td>NO</td>\n",
              "      <td>None</td>\n",
              "      <td>None</td>\n",
              "      <td>None</td>\n",
              "    </tr>\n",
              "    <tr>\n",
              "      <th>5</th>\n",
              "      <td>s_acctbal</td>\n",
              "      <td>DECIMAL(15,2)</td>\n",
              "      <td>NO</td>\n",
              "      <td>None</td>\n",
              "      <td>None</td>\n",
              "      <td>None</td>\n",
              "    </tr>\n",
              "    <tr>\n",
              "      <th>6</th>\n",
              "      <td>s_comment</td>\n",
              "      <td>VARCHAR</td>\n",
              "      <td>NO</td>\n",
              "      <td>None</td>\n",
              "      <td>None</td>\n",
              "      <td>None</td>\n",
              "    </tr>\n",
              "  </tbody>\n",
              "</table>\n",
              "</div>"
            ],
            "text/plain": [
              "   column_name    column_type null   key default extra\n",
              "0    s_suppkey        INTEGER   NO  None    None  None\n",
              "1       s_name        VARCHAR   NO  None    None  None\n",
              "2    s_address        VARCHAR   NO  None    None  None\n",
              "3  s_nationkey        INTEGER   NO  None    None  None\n",
              "4      s_phone        VARCHAR   NO  None    None  None\n",
              "5    s_acctbal  DECIMAL(15,2)   NO  None    None  None\n",
              "6    s_comment        VARCHAR   NO  None    None  None"
            ]
          },
          "execution_count": 11,
          "metadata": {},
          "output_type": "execute_result"
        }
      ],
      "source": [
        "db.execute(\"DESCRIBE Supplier\").df()"
      ]
    },
    {
      "cell_type": "markdown",
      "metadata": {
        "id": "BluK7WAvHks_"
      },
      "source": [
        "## Summarize"
      ]
    },
    {
      "cell_type": "markdown",
      "metadata": {
        "id": "gzZSdG0daBDV"
      },
      "source": [
        "### Lineitem summary"
      ]
    },
    {
      "cell_type": "code",
      "execution_count": 12,
      "metadata": {
        "colab": {
          "base_uri": "https://localhost:8080/",
          "height": 617,
          "referenced_widgets": [
            "50452df66737401e9dc9846391042940",
            "d6450b79bb7b40938959d80615cf9397",
            "8db035dde77a4e89b19a4a75573680d7"
          ]
        },
        "id": "2AwS8KhZyqOI",
        "outputId": "9adeba92-203c-4c27-ca7c-3539a51716a6"
      },
      "outputs": [
        {
          "data": {
            "text/html": [
              "<div>\n",
              "<style scoped>\n",
              "    .dataframe tbody tr th:only-of-type {\n",
              "        vertical-align: middle;\n",
              "    }\n",
              "\n",
              "    .dataframe tbody tr th {\n",
              "        vertical-align: top;\n",
              "    }\n",
              "\n",
              "    .dataframe thead th {\n",
              "        text-align: right;\n",
              "    }\n",
              "</style>\n",
              "<table border=\"1\" class=\"dataframe\">\n",
              "  <thead>\n",
              "    <tr style=\"text-align: right;\">\n",
              "      <th></th>\n",
              "      <th>column_name</th>\n",
              "      <th>column_type</th>\n",
              "      <th>min</th>\n",
              "      <th>max</th>\n",
              "      <th>approx_unique</th>\n",
              "      <th>avg</th>\n",
              "      <th>std</th>\n",
              "      <th>q25</th>\n",
              "      <th>q50</th>\n",
              "      <th>q75</th>\n",
              "      <th>count</th>\n",
              "      <th>null_percentage</th>\n",
              "    </tr>\n",
              "  </thead>\n",
              "  <tbody>\n",
              "    <tr>\n",
              "      <th>0</th>\n",
              "      <td>l_orderkey</td>\n",
              "      <td>INTEGER</td>\n",
              "      <td>1</td>\n",
              "      <td>1200000</td>\n",
              "      <td>303168</td>\n",
              "      <td>599740.3752955284</td>\n",
              "      <td>346413.0115368737</td>\n",
              "      <td>305351</td>\n",
              "      <td>599469</td>\n",
              "      <td>898227</td>\n",
              "      <td>1199969</td>\n",
              "      <td>0.0</td>\n",
              "    </tr>\n",
              "    <tr>\n",
              "      <th>1</th>\n",
              "      <td>l_partkey</td>\n",
              "      <td>INTEGER</td>\n",
              "      <td>1</td>\n",
              "      <td>40000</td>\n",
              "      <td>39908</td>\n",
              "      <td>20004.208162044186</td>\n",
              "      <td>11548.30600235512</td>\n",
              "      <td>10016</td>\n",
              "      <td>19981</td>\n",
              "      <td>30013</td>\n",
              "      <td>1199969</td>\n",
              "      <td>0.0</td>\n",
              "    </tr>\n",
              "    <tr>\n",
              "      <th>2</th>\n",
              "      <td>l_suppkey</td>\n",
              "      <td>INTEGER</td>\n",
              "      <td>1</td>\n",
              "      <td>2000</td>\n",
              "      <td>1991</td>\n",
              "      <td>1001.1636625612829</td>\n",
              "      <td>577.3359391228803</td>\n",
              "      <td>502</td>\n",
              "      <td>1001</td>\n",
              "      <td>1500</td>\n",
              "      <td>1199969</td>\n",
              "      <td>0.0</td>\n",
              "    </tr>\n",
              "    <tr>\n",
              "      <th>3</th>\n",
              "      <td>l_linenumber</td>\n",
              "      <td>INTEGER</td>\n",
              "      <td>1</td>\n",
              "      <td>7</td>\n",
              "      <td>7</td>\n",
              "      <td>3.000748352665777</td>\n",
              "      <td>1.732535084221353</td>\n",
              "      <td>2</td>\n",
              "      <td>3</td>\n",
              "      <td>4</td>\n",
              "      <td>1199969</td>\n",
              "      <td>0.0</td>\n",
              "    </tr>\n",
              "    <tr>\n",
              "      <th>4</th>\n",
              "      <td>l_quantity</td>\n",
              "      <td>DECIMAL(15,2)</td>\n",
              "      <td>1.00</td>\n",
              "      <td>50.00</td>\n",
              "      <td>50</td>\n",
              "      <td>25.52883949502029</td>\n",
              "      <td>14.415643590702096</td>\n",
              "      <td>13</td>\n",
              "      <td>26</td>\n",
              "      <td>38</td>\n",
              "      <td>1199969</td>\n",
              "      <td>0.0</td>\n",
              "    </tr>\n",
              "    <tr>\n",
              "      <th>5</th>\n",
              "      <td>l_extendedprice</td>\n",
              "      <td>DECIMAL(15,2)</td>\n",
              "      <td>901.00</td>\n",
              "      <td>96949.50</td>\n",
              "      <td>219689</td>\n",
              "      <td>36243.27555710189</td>\n",
              "      <td>22145.677133915753</td>\n",
              "      <td>17756</td>\n",
              "      <td>34707</td>\n",
              "      <td>52054</td>\n",
              "      <td>1199969</td>\n",
              "      <td>0.0</td>\n",
              "    </tr>\n",
              "    <tr>\n",
              "      <th>6</th>\n",
              "      <td>l_discount</td>\n",
              "      <td>DECIMAL(15,2)</td>\n",
              "      <td>0.00</td>\n",
              "      <td>0.10</td>\n",
              "      <td>11</td>\n",
              "      <td>0.05006229327590963</td>\n",
              "      <td>0.03161120608482639</td>\n",
              "      <td>0</td>\n",
              "      <td>0</td>\n",
              "      <td>0</td>\n",
              "      <td>1199969</td>\n",
              "      <td>0.0</td>\n",
              "    </tr>\n",
              "    <tr>\n",
              "      <th>7</th>\n",
              "      <td>l_tax</td>\n",
              "      <td>DECIMAL(15,2)</td>\n",
              "      <td>0.00</td>\n",
              "      <td>0.08</td>\n",
              "      <td>9</td>\n",
              "      <td>0.04003356753382796</td>\n",
              "      <td>0.025805399262168814</td>\n",
              "      <td>0</td>\n",
              "      <td>0</td>\n",
              "      <td>0</td>\n",
              "      <td>1199969</td>\n",
              "      <td>0.0</td>\n",
              "    </tr>\n",
              "    <tr>\n",
              "      <th>8</th>\n",
              "      <td>l_returnflag</td>\n",
              "      <td>VARCHAR</td>\n",
              "      <td>A</td>\n",
              "      <td>R</td>\n",
              "      <td>3</td>\n",
              "      <td>None</td>\n",
              "      <td>None</td>\n",
              "      <td>None</td>\n",
              "      <td>None</td>\n",
              "      <td>None</td>\n",
              "      <td>1199969</td>\n",
              "      <td>0.0</td>\n",
              "    </tr>\n",
              "    <tr>\n",
              "      <th>9</th>\n",
              "      <td>l_linestatus</td>\n",
              "      <td>VARCHAR</td>\n",
              "      <td>F</td>\n",
              "      <td>O</td>\n",
              "      <td>2</td>\n",
              "      <td>None</td>\n",
              "      <td>None</td>\n",
              "      <td>None</td>\n",
              "      <td>None</td>\n",
              "      <td>None</td>\n",
              "      <td>1199969</td>\n",
              "      <td>0.0</td>\n",
              "    </tr>\n",
              "    <tr>\n",
              "      <th>10</th>\n",
              "      <td>l_shipdate</td>\n",
              "      <td>DATE</td>\n",
              "      <td>1992-01-02</td>\n",
              "      <td>1998-12-01</td>\n",
              "      <td>2516</td>\n",
              "      <td>None</td>\n",
              "      <td>None</td>\n",
              "      <td>None</td>\n",
              "      <td>None</td>\n",
              "      <td>None</td>\n",
              "      <td>1199969</td>\n",
              "      <td>0.0</td>\n",
              "    </tr>\n",
              "    <tr>\n",
              "      <th>11</th>\n",
              "      <td>l_commitdate</td>\n",
              "      <td>DATE</td>\n",
              "      <td>1992-01-31</td>\n",
              "      <td>1998-10-31</td>\n",
              "      <td>2460</td>\n",
              "      <td>None</td>\n",
              "      <td>None</td>\n",
              "      <td>None</td>\n",
              "      <td>None</td>\n",
              "      <td>None</td>\n",
              "      <td>1199969</td>\n",
              "      <td>0.0</td>\n",
              "    </tr>\n",
              "    <tr>\n",
              "      <th>12</th>\n",
              "      <td>l_receiptdate</td>\n",
              "      <td>DATE</td>\n",
              "      <td>1992-01-04</td>\n",
              "      <td>1998-12-31</td>\n",
              "      <td>2549</td>\n",
              "      <td>None</td>\n",
              "      <td>None</td>\n",
              "      <td>None</td>\n",
              "      <td>None</td>\n",
              "      <td>None</td>\n",
              "      <td>1199969</td>\n",
              "      <td>0.0</td>\n",
              "    </tr>\n",
              "    <tr>\n",
              "      <th>13</th>\n",
              "      <td>l_shipinstruct</td>\n",
              "      <td>VARCHAR</td>\n",
              "      <td>COLLECT COD</td>\n",
              "      <td>TAKE BACK RETURN</td>\n",
              "      <td>4</td>\n",
              "      <td>None</td>\n",
              "      <td>None</td>\n",
              "      <td>None</td>\n",
              "      <td>None</td>\n",
              "      <td>None</td>\n",
              "      <td>1199969</td>\n",
              "      <td>0.0</td>\n",
              "    </tr>\n",
              "    <tr>\n",
              "      <th>14</th>\n",
              "      <td>l_shipmode</td>\n",
              "      <td>VARCHAR</td>\n",
              "      <td>AIR</td>\n",
              "      <td>TRUCK</td>\n",
              "      <td>7</td>\n",
              "      <td>None</td>\n",
              "      <td>None</td>\n",
              "      <td>None</td>\n",
              "      <td>None</td>\n",
              "      <td>None</td>\n",
              "      <td>1199969</td>\n",
              "      <td>0.0</td>\n",
              "    </tr>\n",
              "    <tr>\n",
              "      <th>15</th>\n",
              "      <td>l_comment</td>\n",
              "      <td>VARCHAR</td>\n",
              "      <td>Tiresias</td>\n",
              "      <td>zzle? furiously iro</td>\n",
              "      <td>970456</td>\n",
              "      <td>None</td>\n",
              "      <td>None</td>\n",
              "      <td>None</td>\n",
              "      <td>None</td>\n",
              "      <td>None</td>\n",
              "      <td>1199969</td>\n",
              "      <td>0.0</td>\n",
              "    </tr>\n",
              "  </tbody>\n",
              "</table>\n",
              "</div>"
            ],
            "text/plain": [
              "        column_name    column_type          min                  max  \\\n",
              "0        l_orderkey        INTEGER            1              1200000   \n",
              "1         l_partkey        INTEGER            1                40000   \n",
              "2         l_suppkey        INTEGER            1                 2000   \n",
              "3      l_linenumber        INTEGER            1                    7   \n",
              "4        l_quantity  DECIMAL(15,2)         1.00                50.00   \n",
              "5   l_extendedprice  DECIMAL(15,2)       901.00             96949.50   \n",
              "6        l_discount  DECIMAL(15,2)         0.00                 0.10   \n",
              "7             l_tax  DECIMAL(15,2)         0.00                 0.08   \n",
              "8      l_returnflag        VARCHAR            A                    R   \n",
              "9      l_linestatus        VARCHAR            F                    O   \n",
              "10       l_shipdate           DATE   1992-01-02           1998-12-01   \n",
              "11     l_commitdate           DATE   1992-01-31           1998-10-31   \n",
              "12    l_receiptdate           DATE   1992-01-04           1998-12-31   \n",
              "13   l_shipinstruct        VARCHAR  COLLECT COD     TAKE BACK RETURN   \n",
              "14       l_shipmode        VARCHAR          AIR                TRUCK   \n",
              "15        l_comment        VARCHAR    Tiresias   zzle? furiously iro   \n",
              "\n",
              "    approx_unique                  avg                   std     q25     q50  \\\n",
              "0          303168    599740.3752955284     346413.0115368737  305351  599469   \n",
              "1           39908   20004.208162044186     11548.30600235512   10016   19981   \n",
              "2            1991   1001.1636625612829     577.3359391228803     502    1001   \n",
              "3               7    3.000748352665777     1.732535084221353       2       3   \n",
              "4              50    25.52883949502029    14.415643590702096      13      26   \n",
              "5          219689    36243.27555710189    22145.677133915753   17756   34707   \n",
              "6              11  0.05006229327590963   0.03161120608482639       0       0   \n",
              "7               9  0.04003356753382796  0.025805399262168814       0       0   \n",
              "8               3                 None                  None    None    None   \n",
              "9               2                 None                  None    None    None   \n",
              "10           2516                 None                  None    None    None   \n",
              "11           2460                 None                  None    None    None   \n",
              "12           2549                 None                  None    None    None   \n",
              "13              4                 None                  None    None    None   \n",
              "14              7                 None                  None    None    None   \n",
              "15         970456                 None                  None    None    None   \n",
              "\n",
              "       q75    count  null_percentage  \n",
              "0   898227  1199969              0.0  \n",
              "1    30013  1199969              0.0  \n",
              "2     1500  1199969              0.0  \n",
              "3        4  1199969              0.0  \n",
              "4       38  1199969              0.0  \n",
              "5    52054  1199969              0.0  \n",
              "6        0  1199969              0.0  \n",
              "7        0  1199969              0.0  \n",
              "8     None  1199969              0.0  \n",
              "9     None  1199969              0.0  \n",
              "10    None  1199969              0.0  \n",
              "11    None  1199969              0.0  \n",
              "12    None  1199969              0.0  \n",
              "13    None  1199969              0.0  \n",
              "14    None  1199969              0.0  \n",
              "15    None  1199969              0.0  "
            ]
          },
          "execution_count": 12,
          "metadata": {},
          "output_type": "execute_result"
        }
      ],
      "source": [
        "db.execute(\"SUMMARIZE lineitem\").df()"
      ]
    },
    {
      "cell_type": "markdown",
      "metadata": {
        "id": "D8YEsGZ1aGsE"
      },
      "source": [
        "### Orders summary"
      ]
    },
    {
      "cell_type": "code",
      "execution_count": 13,
      "metadata": {
        "colab": {
          "base_uri": "https://localhost:8080/",
          "height": 366
        },
        "id": "pWE55CVjHpjR",
        "outputId": "e208ea2b-71e4-4f66-b573-e0f4e4b7a11c"
      },
      "outputs": [
        {
          "data": {
            "text/html": [
              "<div>\n",
              "<style scoped>\n",
              "    .dataframe tbody tr th:only-of-type {\n",
              "        vertical-align: middle;\n",
              "    }\n",
              "\n",
              "    .dataframe tbody tr th {\n",
              "        vertical-align: top;\n",
              "    }\n",
              "\n",
              "    .dataframe thead th {\n",
              "        text-align: right;\n",
              "    }\n",
              "</style>\n",
              "<table border=\"1\" class=\"dataframe\">\n",
              "  <thead>\n",
              "    <tr style=\"text-align: right;\">\n",
              "      <th></th>\n",
              "      <th>column_name</th>\n",
              "      <th>column_type</th>\n",
              "      <th>min</th>\n",
              "      <th>max</th>\n",
              "      <th>approx_unique</th>\n",
              "      <th>avg</th>\n",
              "      <th>std</th>\n",
              "      <th>q25</th>\n",
              "      <th>q50</th>\n",
              "      <th>q75</th>\n",
              "      <th>count</th>\n",
              "      <th>null_percentage</th>\n",
              "    </tr>\n",
              "  </thead>\n",
              "  <tbody>\n",
              "    <tr>\n",
              "      <th>0</th>\n",
              "      <td>o_orderkey</td>\n",
              "      <td>INTEGER</td>\n",
              "      <td>1</td>\n",
              "      <td>1200000</td>\n",
              "      <td>303168</td>\n",
              "      <td>599991.5</td>\n",
              "      <td>346410.7388711486</td>\n",
              "      <td>299991</td>\n",
              "      <td>604328</td>\n",
              "      <td>894339</td>\n",
              "      <td>300000</td>\n",
              "      <td>0.0</td>\n",
              "    </tr>\n",
              "    <tr>\n",
              "      <th>1</th>\n",
              "      <td>o_custkey</td>\n",
              "      <td>INTEGER</td>\n",
              "      <td>1</td>\n",
              "      <td>29999</td>\n",
              "      <td>20268</td>\n",
              "      <td>14988.668496666667</td>\n",
              "      <td>8657.688778103447</td>\n",
              "      <td>7478</td>\n",
              "      <td>14981</td>\n",
              "      <td>22481</td>\n",
              "      <td>300000</td>\n",
              "      <td>0.0</td>\n",
              "    </tr>\n",
              "    <tr>\n",
              "      <th>2</th>\n",
              "      <td>o_orderstatus</td>\n",
              "      <td>VARCHAR</td>\n",
              "      <td>F</td>\n",
              "      <td>P</td>\n",
              "      <td>3</td>\n",
              "      <td>None</td>\n",
              "      <td>None</td>\n",
              "      <td>None</td>\n",
              "      <td>None</td>\n",
              "      <td>None</td>\n",
              "      <td>300000</td>\n",
              "      <td>0.0</td>\n",
              "    </tr>\n",
              "    <tr>\n",
              "      <th>3</th>\n",
              "      <td>o_totalprice</td>\n",
              "      <td>DECIMAL(15,2)</td>\n",
              "      <td>853.00</td>\n",
              "      <td>493724.37</td>\n",
              "      <td>295692</td>\n",
              "      <td>143227.1872945</td>\n",
              "      <td>83943.76950328168</td>\n",
              "      <td>73821</td>\n",
              "      <td>137004</td>\n",
              "      <td>204013</td>\n",
              "      <td>300000</td>\n",
              "      <td>0.0</td>\n",
              "    </tr>\n",
              "    <tr>\n",
              "      <th>4</th>\n",
              "      <td>o_orderdate</td>\n",
              "      <td>DATE</td>\n",
              "      <td>1992-01-01</td>\n",
              "      <td>1998-08-02</td>\n",
              "      <td>2404</td>\n",
              "      <td>None</td>\n",
              "      <td>None</td>\n",
              "      <td>None</td>\n",
              "      <td>None</td>\n",
              "      <td>None</td>\n",
              "      <td>300000</td>\n",
              "      <td>0.0</td>\n",
              "    </tr>\n",
              "    <tr>\n",
              "      <th>5</th>\n",
              "      <td>o_orderpriority</td>\n",
              "      <td>VARCHAR</td>\n",
              "      <td>1-URGENT</td>\n",
              "      <td>5-LOW</td>\n",
              "      <td>5</td>\n",
              "      <td>None</td>\n",
              "      <td>None</td>\n",
              "      <td>None</td>\n",
              "      <td>None</td>\n",
              "      <td>None</td>\n",
              "      <td>300000</td>\n",
              "      <td>0.0</td>\n",
              "    </tr>\n",
              "    <tr>\n",
              "      <th>6</th>\n",
              "      <td>o_clerk</td>\n",
              "      <td>VARCHAR</td>\n",
              "      <td>Clerk#000000001</td>\n",
              "      <td>Clerk#000001000</td>\n",
              "      <td>1012</td>\n",
              "      <td>None</td>\n",
              "      <td>None</td>\n",
              "      <td>None</td>\n",
              "      <td>None</td>\n",
              "      <td>None</td>\n",
              "      <td>300000</td>\n",
              "      <td>0.0</td>\n",
              "    </tr>\n",
              "    <tr>\n",
              "      <th>7</th>\n",
              "      <td>o_shippriority</td>\n",
              "      <td>INTEGER</td>\n",
              "      <td>0</td>\n",
              "      <td>0</td>\n",
              "      <td>1</td>\n",
              "      <td>0.0</td>\n",
              "      <td>0.0</td>\n",
              "      <td>0</td>\n",
              "      <td>0</td>\n",
              "      <td>0</td>\n",
              "      <td>300000</td>\n",
              "      <td>0.0</td>\n",
              "    </tr>\n",
              "    <tr>\n",
              "      <th>8</th>\n",
              "      <td>o_comment</td>\n",
              "      <td>VARCHAR</td>\n",
              "      <td>Tiresias affix after the silent courts</td>\n",
              "      <td>zzle: slyly even ideas wake furiously across t...</td>\n",
              "      <td>294550</td>\n",
              "      <td>None</td>\n",
              "      <td>None</td>\n",
              "      <td>None</td>\n",
              "      <td>None</td>\n",
              "      <td>None</td>\n",
              "      <td>300000</td>\n",
              "      <td>0.0</td>\n",
              "    </tr>\n",
              "  </tbody>\n",
              "</table>\n",
              "</div>"
            ],
            "text/plain": [
              "       column_name    column_type                                      min  \\\n",
              "0       o_orderkey        INTEGER                                        1   \n",
              "1        o_custkey        INTEGER                                        1   \n",
              "2    o_orderstatus        VARCHAR                                        F   \n",
              "3     o_totalprice  DECIMAL(15,2)                                   853.00   \n",
              "4      o_orderdate           DATE                               1992-01-01   \n",
              "5  o_orderpriority        VARCHAR                                 1-URGENT   \n",
              "6          o_clerk        VARCHAR                          Clerk#000000001   \n",
              "7   o_shippriority        INTEGER                                        0   \n",
              "8        o_comment        VARCHAR   Tiresias affix after the silent courts   \n",
              "\n",
              "                                                 max  approx_unique  \\\n",
              "0                                            1200000         303168   \n",
              "1                                              29999          20268   \n",
              "2                                                  P              3   \n",
              "3                                          493724.37         295692   \n",
              "4                                         1998-08-02           2404   \n",
              "5                                              5-LOW              5   \n",
              "6                                    Clerk#000001000           1012   \n",
              "7                                                  0              1   \n",
              "8  zzle: slyly even ideas wake furiously across t...         294550   \n",
              "\n",
              "                  avg                std     q25     q50     q75   count  \\\n",
              "0            599991.5  346410.7388711486  299991  604328  894339  300000   \n",
              "1  14988.668496666667  8657.688778103447    7478   14981   22481  300000   \n",
              "2                None               None    None    None    None  300000   \n",
              "3      143227.1872945  83943.76950328168   73821  137004  204013  300000   \n",
              "4                None               None    None    None    None  300000   \n",
              "5                None               None    None    None    None  300000   \n",
              "6                None               None    None    None    None  300000   \n",
              "7                 0.0                0.0       0       0       0  300000   \n",
              "8                None               None    None    None    None  300000   \n",
              "\n",
              "   null_percentage  \n",
              "0              0.0  \n",
              "1              0.0  \n",
              "2              0.0  \n",
              "3              0.0  \n",
              "4              0.0  \n",
              "5              0.0  \n",
              "6              0.0  \n",
              "7              0.0  \n",
              "8              0.0  "
            ]
          },
          "execution_count": 13,
          "metadata": {},
          "output_type": "execute_result"
        }
      ],
      "source": [
        "db.execute(\"SUMMARIZE Orders\").df()"
      ]
    },
    {
      "cell_type": "markdown",
      "metadata": {
        "id": "fmraurJcadx1"
      },
      "source": [
        "### Customer summary"
      ]
    },
    {
      "cell_type": "code",
      "execution_count": 14,
      "metadata": {
        "colab": {
          "base_uri": "https://localhost:8080/",
          "height": 337
        },
        "id": "b9O25_qmHsEi",
        "outputId": "95f1cbfd-86d1-4747-fd44-ece3eff02952"
      },
      "outputs": [
        {
          "data": {
            "text/html": [
              "<div>\n",
              "<style scoped>\n",
              "    .dataframe tbody tr th:only-of-type {\n",
              "        vertical-align: middle;\n",
              "    }\n",
              "\n",
              "    .dataframe tbody tr th {\n",
              "        vertical-align: top;\n",
              "    }\n",
              "\n",
              "    .dataframe thead th {\n",
              "        text-align: right;\n",
              "    }\n",
              "</style>\n",
              "<table border=\"1\" class=\"dataframe\">\n",
              "  <thead>\n",
              "    <tr style=\"text-align: right;\">\n",
              "      <th></th>\n",
              "      <th>column_name</th>\n",
              "      <th>column_type</th>\n",
              "      <th>min</th>\n",
              "      <th>max</th>\n",
              "      <th>approx_unique</th>\n",
              "      <th>avg</th>\n",
              "      <th>std</th>\n",
              "      <th>q25</th>\n",
              "      <th>q50</th>\n",
              "      <th>q75</th>\n",
              "      <th>count</th>\n",
              "      <th>null_percentage</th>\n",
              "    </tr>\n",
              "  </thead>\n",
              "  <tbody>\n",
              "    <tr>\n",
              "      <th>0</th>\n",
              "      <td>c_custkey</td>\n",
              "      <td>INTEGER</td>\n",
              "      <td>1</td>\n",
              "      <td>30000</td>\n",
              "      <td>29822</td>\n",
              "      <td>15000.5</td>\n",
              "      <td>8660.398374208891</td>\n",
              "      <td>7500</td>\n",
              "      <td>15000</td>\n",
              "      <td>22500</td>\n",
              "      <td>30000</td>\n",
              "      <td>0.0</td>\n",
              "    </tr>\n",
              "    <tr>\n",
              "      <th>1</th>\n",
              "      <td>c_name</td>\n",
              "      <td>VARCHAR</td>\n",
              "      <td>Customer#000000001</td>\n",
              "      <td>Customer#000030000</td>\n",
              "      <td>30933</td>\n",
              "      <td>None</td>\n",
              "      <td>None</td>\n",
              "      <td>None</td>\n",
              "      <td>None</td>\n",
              "      <td>None</td>\n",
              "      <td>30000</td>\n",
              "      <td>0.0</td>\n",
              "    </tr>\n",
              "    <tr>\n",
              "      <th>2</th>\n",
              "      <td>c_address</td>\n",
              "      <td>VARCHAR</td>\n",
              "      <td>3SUEwTaEs35ZDr5dx6P2b</td>\n",
              "      <td>zzyQcZpC50YDkK26Pglp</td>\n",
              "      <td>30258</td>\n",
              "      <td>None</td>\n",
              "      <td>None</td>\n",
              "      <td>None</td>\n",
              "      <td>None</td>\n",
              "      <td>None</td>\n",
              "      <td>30000</td>\n",
              "      <td>0.0</td>\n",
              "    </tr>\n",
              "    <tr>\n",
              "      <th>3</th>\n",
              "      <td>c_nationkey</td>\n",
              "      <td>INTEGER</td>\n",
              "      <td>0</td>\n",
              "      <td>24</td>\n",
              "      <td>25</td>\n",
              "      <td>12.024033333333334</td>\n",
              "      <td>7.198790395035864</td>\n",
              "      <td>6</td>\n",
              "      <td>12</td>\n",
              "      <td>18</td>\n",
              "      <td>30000</td>\n",
              "      <td>0.0</td>\n",
              "    </tr>\n",
              "    <tr>\n",
              "      <th>4</th>\n",
              "      <td>c_phone</td>\n",
              "      <td>VARCHAR</td>\n",
              "      <td>10-101-769-8567</td>\n",
              "      <td>34-999-121-7718</td>\n",
              "      <td>30698</td>\n",
              "      <td>None</td>\n",
              "      <td>None</td>\n",
              "      <td>None</td>\n",
              "      <td>None</td>\n",
              "      <td>None</td>\n",
              "      <td>30000</td>\n",
              "      <td>0.0</td>\n",
              "    </tr>\n",
              "    <tr>\n",
              "      <th>5</th>\n",
              "      <td>c_acctbal</td>\n",
              "      <td>DECIMAL(15,2)</td>\n",
              "      <td>-999.95</td>\n",
              "      <td>9999.72</td>\n",
              "      <td>29815</td>\n",
              "      <td>4458.452009</td>\n",
              "      <td>3174.9204191690947</td>\n",
              "      <td>1715</td>\n",
              "      <td>4415</td>\n",
              "      <td>7224</td>\n",
              "      <td>30000</td>\n",
              "      <td>0.0</td>\n",
              "    </tr>\n",
              "    <tr>\n",
              "      <th>6</th>\n",
              "      <td>c_mktsegment</td>\n",
              "      <td>VARCHAR</td>\n",
              "      <td>AUTOMOBILE</td>\n",
              "      <td>MACHINERY</td>\n",
              "      <td>5</td>\n",
              "      <td>None</td>\n",
              "      <td>None</td>\n",
              "      <td>None</td>\n",
              "      <td>None</td>\n",
              "      <td>None</td>\n",
              "      <td>30000</td>\n",
              "      <td>0.0</td>\n",
              "    </tr>\n",
              "    <tr>\n",
              "      <th>7</th>\n",
              "      <td>c_comment</td>\n",
              "      <td>VARCHAR</td>\n",
              "      <td>Tiresias haggle furiously bold, express instr...</td>\n",
              "      <td>zzle. express packages sleep slyly furiously b...</td>\n",
              "      <td>30042</td>\n",
              "      <td>None</td>\n",
              "      <td>None</td>\n",
              "      <td>None</td>\n",
              "      <td>None</td>\n",
              "      <td>None</td>\n",
              "      <td>30000</td>\n",
              "      <td>0.0</td>\n",
              "    </tr>\n",
              "  </tbody>\n",
              "</table>\n",
              "</div>"
            ],
            "text/plain": [
              "    column_name    column_type  \\\n",
              "0     c_custkey        INTEGER   \n",
              "1        c_name        VARCHAR   \n",
              "2     c_address        VARCHAR   \n",
              "3   c_nationkey        INTEGER   \n",
              "4       c_phone        VARCHAR   \n",
              "5     c_acctbal  DECIMAL(15,2)   \n",
              "6  c_mktsegment        VARCHAR   \n",
              "7     c_comment        VARCHAR   \n",
              "\n",
              "                                                 min  \\\n",
              "0                                                  1   \n",
              "1                                 Customer#000000001   \n",
              "2                              3SUEwTaEs35ZDr5dx6P2b   \n",
              "3                                                  0   \n",
              "4                                    10-101-769-8567   \n",
              "5                                            -999.95   \n",
              "6                                         AUTOMOBILE   \n",
              "7   Tiresias haggle furiously bold, express instr...   \n",
              "\n",
              "                                                 max  approx_unique  \\\n",
              "0                                              30000          29822   \n",
              "1                                 Customer#000030000          30933   \n",
              "2                               zzyQcZpC50YDkK26Pglp          30258   \n",
              "3                                                 24             25   \n",
              "4                                    34-999-121-7718          30698   \n",
              "5                                            9999.72          29815   \n",
              "6                                          MACHINERY              5   \n",
              "7  zzle. express packages sleep slyly furiously b...          30042   \n",
              "\n",
              "                  avg                 std   q25    q50    q75  count  \\\n",
              "0             15000.5   8660.398374208891  7500  15000  22500  30000   \n",
              "1                None                None  None   None   None  30000   \n",
              "2                None                None  None   None   None  30000   \n",
              "3  12.024033333333334   7.198790395035864     6     12     18  30000   \n",
              "4                None                None  None   None   None  30000   \n",
              "5         4458.452009  3174.9204191690947  1715   4415   7224  30000   \n",
              "6                None                None  None   None   None  30000   \n",
              "7                None                None  None   None   None  30000   \n",
              "\n",
              "   null_percentage  \n",
              "0              0.0  \n",
              "1              0.0  \n",
              "2              0.0  \n",
              "3              0.0  \n",
              "4              0.0  \n",
              "5              0.0  \n",
              "6              0.0  \n",
              "7              0.0  "
            ]
          },
          "execution_count": 14,
          "metadata": {},
          "output_type": "execute_result"
        }
      ],
      "source": [
        "db.execute(\"SUMMARIZE Customer\").df()"
      ]
    },
    {
      "cell_type": "markdown",
      "metadata": {
        "id": "89VspWvgTwxn"
      },
      "source": [
        "### Supplier summary"
      ]
    },
    {
      "cell_type": "code",
      "execution_count": 15,
      "metadata": {
        "colab": {
          "base_uri": "https://localhost:8080/",
          "height": 303
        },
        "id": "U1zHYUlqTxuO",
        "outputId": "d2318c9a-875a-42ef-e34f-2e9ff56ceed5"
      },
      "outputs": [
        {
          "data": {
            "text/html": [
              "<div>\n",
              "<style scoped>\n",
              "    .dataframe tbody tr th:only-of-type {\n",
              "        vertical-align: middle;\n",
              "    }\n",
              "\n",
              "    .dataframe tbody tr th {\n",
              "        vertical-align: top;\n",
              "    }\n",
              "\n",
              "    .dataframe thead th {\n",
              "        text-align: right;\n",
              "    }\n",
              "</style>\n",
              "<table border=\"1\" class=\"dataframe\">\n",
              "  <thead>\n",
              "    <tr style=\"text-align: right;\">\n",
              "      <th></th>\n",
              "      <th>column_name</th>\n",
              "      <th>column_type</th>\n",
              "      <th>min</th>\n",
              "      <th>max</th>\n",
              "      <th>approx_unique</th>\n",
              "      <th>avg</th>\n",
              "      <th>std</th>\n",
              "      <th>q25</th>\n",
              "      <th>q50</th>\n",
              "      <th>q75</th>\n",
              "      <th>count</th>\n",
              "      <th>null_percentage</th>\n",
              "    </tr>\n",
              "  </thead>\n",
              "  <tbody>\n",
              "    <tr>\n",
              "      <th>0</th>\n",
              "      <td>s_suppkey</td>\n",
              "      <td>INTEGER</td>\n",
              "      <td>1</td>\n",
              "      <td>2000</td>\n",
              "      <td>1991</td>\n",
              "      <td>1000.5</td>\n",
              "      <td>577.4945887192364</td>\n",
              "      <td>500</td>\n",
              "      <td>1000</td>\n",
              "      <td>1500</td>\n",
              "      <td>2000</td>\n",
              "      <td>0.0</td>\n",
              "    </tr>\n",
              "    <tr>\n",
              "      <th>1</th>\n",
              "      <td>s_name</td>\n",
              "      <td>VARCHAR</td>\n",
              "      <td>Supplier#000000001</td>\n",
              "      <td>Supplier#000002000</td>\n",
              "      <td>2013</td>\n",
              "      <td>None</td>\n",
              "      <td>None</td>\n",
              "      <td>None</td>\n",
              "      <td>None</td>\n",
              "      <td>None</td>\n",
              "      <td>2000</td>\n",
              "      <td>0.0</td>\n",
              "    </tr>\n",
              "    <tr>\n",
              "      <th>2</th>\n",
              "      <td>s_address</td>\n",
              "      <td>VARCHAR</td>\n",
              "      <td>Bg4GNb1 64E,NhHOTBsSLegFZL2l</td>\n",
              "      <td>zw9CeCD4NaTK4vzeCWnQ</td>\n",
              "      <td>2015</td>\n",
              "      <td>None</td>\n",
              "      <td>None</td>\n",
              "      <td>None</td>\n",
              "      <td>None</td>\n",
              "      <td>None</td>\n",
              "      <td>2000</td>\n",
              "      <td>0.0</td>\n",
              "    </tr>\n",
              "    <tr>\n",
              "      <th>3</th>\n",
              "      <td>s_nationkey</td>\n",
              "      <td>INTEGER</td>\n",
              "      <td>0</td>\n",
              "      <td>24</td>\n",
              "      <td>25</td>\n",
              "      <td>11.9515</td>\n",
              "      <td>7.166926130851528</td>\n",
              "      <td>6</td>\n",
              "      <td>12</td>\n",
              "      <td>18</td>\n",
              "      <td>2000</td>\n",
              "      <td>0.0</td>\n",
              "    </tr>\n",
              "    <tr>\n",
              "      <th>4</th>\n",
              "      <td>s_phone</td>\n",
              "      <td>VARCHAR</td>\n",
              "      <td>10-108-564-6160</td>\n",
              "      <td>34-998-900-4911</td>\n",
              "      <td>2026</td>\n",
              "      <td>None</td>\n",
              "      <td>None</td>\n",
              "      <td>None</td>\n",
              "      <td>None</td>\n",
              "      <td>None</td>\n",
              "      <td>2000</td>\n",
              "      <td>0.0</td>\n",
              "    </tr>\n",
              "    <tr>\n",
              "      <th>5</th>\n",
              "      <td>s_acctbal</td>\n",
              "      <td>DECIMAL(15,2)</td>\n",
              "      <td>-990.13</td>\n",
              "      <td>9993.46</td>\n",
              "      <td>2017</td>\n",
              "      <td>4345.165605</td>\n",
              "      <td>3164.339194624758</td>\n",
              "      <td>1582</td>\n",
              "      <td>4322</td>\n",
              "      <td>7011</td>\n",
              "      <td>2000</td>\n",
              "      <td>0.0</td>\n",
              "    </tr>\n",
              "    <tr>\n",
              "      <th>6</th>\n",
              "      <td>s_comment</td>\n",
              "      <td>VARCHAR</td>\n",
              "      <td>above the slyly regular instructions are slyl</td>\n",
              "      <td>ys haggle furiously blithely express asymptote...</td>\n",
              "      <td>1957</td>\n",
              "      <td>None</td>\n",
              "      <td>None</td>\n",
              "      <td>None</td>\n",
              "      <td>None</td>\n",
              "      <td>None</td>\n",
              "      <td>2000</td>\n",
              "      <td>0.0</td>\n",
              "    </tr>\n",
              "  </tbody>\n",
              "</table>\n",
              "</div>"
            ],
            "text/plain": [
              "   column_name    column_type                                             min  \\\n",
              "0    s_suppkey        INTEGER                                               1   \n",
              "1       s_name        VARCHAR                              Supplier#000000001   \n",
              "2    s_address        VARCHAR                    Bg4GNb1 64E,NhHOTBsSLegFZL2l   \n",
              "3  s_nationkey        INTEGER                                               0   \n",
              "4      s_phone        VARCHAR                                 10-108-564-6160   \n",
              "5    s_acctbal  DECIMAL(15,2)                                         -990.13   \n",
              "6    s_comment        VARCHAR   above the slyly regular instructions are slyl   \n",
              "\n",
              "                                                 max  approx_unique  \\\n",
              "0                                               2000           1991   \n",
              "1                                 Supplier#000002000           2013   \n",
              "2                               zw9CeCD4NaTK4vzeCWnQ           2015   \n",
              "3                                                 24             25   \n",
              "4                                    34-998-900-4911           2026   \n",
              "5                                            9993.46           2017   \n",
              "6  ys haggle furiously blithely express asymptote...           1957   \n",
              "\n",
              "           avg                std   q25   q50   q75  count  null_percentage  \n",
              "0       1000.5  577.4945887192364   500  1000  1500   2000              0.0  \n",
              "1         None               None  None  None  None   2000              0.0  \n",
              "2         None               None  None  None  None   2000              0.0  \n",
              "3      11.9515  7.166926130851528     6    12    18   2000              0.0  \n",
              "4         None               None  None  None  None   2000              0.0  \n",
              "5  4345.165605  3164.339194624758  1582  4322  7011   2000              0.0  \n",
              "6         None               None  None  None  None   2000              0.0  "
            ]
          },
          "execution_count": 15,
          "metadata": {},
          "output_type": "execute_result"
        }
      ],
      "source": [
        "db.execute(\"SUMMARIZE Supplier\").df()"
      ]
    },
    {
      "cell_type": "markdown",
      "metadata": {
        "id": "ReE-x0fpWSFC"
      },
      "source": [
        "# Requêtes"
      ]
    },
    {
      "cell_type": "markdown",
      "metadata": {
        "id": "8XS37jGcmfU8"
      },
      "source": [
        "## Exécuter une requête"
      ]
    },
    {
      "cell_type": "markdown",
      "metadata": {
        "id": "yT1lictImrdb"
      },
      "source": [
        "On définit la fonction `run_query` pour exécuter une requête et mesurer sa durée en millisecondes (durée moyenne sur n exécutions)"
      ]
    },
    {
      "cell_type": "code",
      "execution_count": 16,
      "metadata": {
        "id": "Vd-Ad8TUmMZs"
      },
      "outputs": [],
      "source": [
        "# par défaut on exécute la requête dans DuckDB (db).\n",
        "# On execute la requête 3 fois pour avoir une durée moyenne\n",
        "def run_query(q, connection=db, iteration=3):\n",
        "  start = time.time()\n",
        "  for i in range(iteration):\n",
        "    res = connection.execute(q).fetchall()\n",
        "    # res = connection.execute(q).arrow()\n",
        "    # res = connection.execute(q).df()\n",
        "\n",
        "  end = time.time()\n",
        "  return(f\"{len(res)} tuples(s), {(end - start)*1000/iteration:.0f}ms (avg for {iteration} iter.)\")"
      ]
    },
    {
      "cell_type": "markdown",
      "metadata": {
        "id": "Z9ABFeHDmpmD"
      },
      "source": [
        "Exécuter une première requête"
      ]
    },
    {
      "cell_type": "code",
      "execution_count": 17,
      "metadata": {
        "colab": {
          "base_uri": "https://localhost:8080/",
          "height": 36
        },
        "id": "yrQtYNfbyqOK",
        "outputId": "fdffa1b2-d583-45c6-ab16-31dcd428ecd2"
      },
      "outputs": [
        {
          "data": {
            "text/plain": [
              "'17 tuples(s), 5ms (avg for 3 iter.)'"
            ]
          },
          "execution_count": 17,
          "metadata": {},
          "output_type": "execute_result"
        }
      ],
      "source": [
        "query = \"\"\"\n",
        "SELECT\n",
        "    l_linenumber, l_extendedprice, o_orderkey, o_totalprice, c_name\n",
        "FROM\n",
        "    customer\n",
        "    JOIN orders ON (c_custkey=o_custkey)\n",
        "    JOIN lineitem ON (l_orderkey=o_orderkey)\n",
        "WHERE\n",
        "    c_mktsegment = 'BUILDING'\n",
        "AND o_totalprice < 1000\n",
        "\"\"\"\n",
        "\n",
        "run_query(query)"
      ]
    },
    {
      "cell_type": "markdown",
      "metadata": {
        "id": "mdJR7VZAyqOL"
      },
      "source": [
        "# Plan d'une requête\n",
        "L'écart de durée entre la requête optimisée et celle non optimisée vient du fait qu'elles ont des plans d'exécution différents\n",
        "\n",
        "On peut visualiser le **plan** d'exécution d'une requête en préfixant la requête par `EXPLAIN`.\n",
        "\n",
        "La commande `EXPLAIN` ne fait qu'afficher le plan d'exécution ; elle n'exécute **pas** la requête.\n",
        "\n",
        "Le plan affiché est appelé *plan physique* car il indique pour chaque opérateur du plan, le nom de l'algorithme utilisé:\n",
        "*   HASH_GROUP_BY : regroupement par hachage puis agrégation\n",
        "*   HASH_JOIN : jointure par hachage\n",
        "*   FILTER : sélection en pipeline\n",
        "*   SEQ_SCAN : lecture séquentielle d'une table\n",
        "\n",
        "De plus le plan indique la cardinalité estimée **EC** pour certains opérateurs, en particulier pour les sélections et les jointures."
      ]
    },
    {
      "cell_type": "code",
      "execution_count": 18,
      "metadata": {
        "colab": {
          "base_uri": "https://localhost:8080/"
        },
        "id": "sSWVmQmqyqOL",
        "outputId": "24b1bf5d-5ce8-4e63-de27-d1171f0808e3"
      },
      "outputs": [
        {
          "name": "stdout",
          "output_type": "stream",
          "text": [
            "\n",
            "SELECT\n",
            "    l_linenumber, l_extendedprice, o_orderkey, o_totalprice, c_name\n",
            "FROM\n",
            "    customer\n",
            "    JOIN orders ON (c_custkey=o_custkey)\n",
            "    JOIN lineitem ON (l_orderkey=o_orderkey)\n",
            "WHERE\n",
            "    c_mktsegment = 'BUILDING'\n",
            "AND o_totalprice < 1000\n",
            "\n",
            "┌───────────────────────────┐                                                          \n",
            "│         PROJECTION        │                                                          \n",
            "│   ─ ─ ─ ─ ─ ─ ─ ─ ─ ─ ─   │                                                          \n",
            "│        l_linenumber       │                                                          \n",
            "│      l_extendedprice      │                                                          \n",
            "│         o_orderkey        │                                                          \n",
            "│        o_totalprice       │                                                          \n",
            "│           c_name          │                                                          \n",
            "└─────────────┬─────────────┘                                                                                       \n",
            "┌─────────────┴─────────────┐                                                          \n",
            "│         HASH_JOIN         │                                                          \n",
            "│   ─ ─ ─ ─ ─ ─ ─ ─ ─ ─ ─   │                                                          \n",
            "│           INNER           │                                                          \n",
            "│  l_orderkey = o_orderkey  ├──────────────┐                                           \n",
            "│   ─ ─ ─ ─ ─ ─ ─ ─ ─ ─ ─   │              │                                           \n",
            "│         EC: 28377         │              │                                           \n",
            "└─────────────┬─────────────┘              │                                                                        \n",
            "┌─────────────┴─────────────┐┌─────────────┴─────────────┐                             \n",
            "│         SEQ_SCAN          ││         HASH_JOIN         │                             \n",
            "│   ─ ─ ─ ─ ─ ─ ─ ─ ─ ─ ─   ││   ─ ─ ─ ─ ─ ─ ─ ─ ─ ─ ─   │                             \n",
            "│          lineitem         ││           INNER           │                             \n",
            "│   ─ ─ ─ ─ ─ ─ ─ ─ ─ ─ ─   ││   o_custkey = c_custkey   │                             \n",
            "│         l_orderkey        ││   ─ ─ ─ ─ ─ ─ ─ ─ ─ ─ ─   ├──────────────┐              \n",
            "│        l_linenumber       ││          EC: 6904         │              │              \n",
            "│      l_extendedprice      ││                           │              │              \n",
            "│   ─ ─ ─ ─ ─ ─ ─ ─ ─ ─ ─   ││                           │              │              \n",
            "│        EC: 1199969        ││                           │              │              \n",
            "└───────────────────────────┘└─────────────┬─────────────┘              │                                           \n",
            "                             ┌─────────────┴─────────────┐┌─────────────┴─────────────┐\n",
            "                             │         SEQ_SCAN          ││           FILTER          │\n",
            "                             │   ─ ─ ─ ─ ─ ─ ─ ─ ─ ─ ─   ││   ─ ─ ─ ─ ─ ─ ─ ─ ─ ─ ─   │\n",
            "                             │           orders          ││    (c_custkey <= 29999)   │\n",
            "                             │   ─ ─ ─ ─ ─ ─ ─ ─ ─ ─ ─   ││   ─ ─ ─ ─ ─ ─ ─ ─ ─ ─ ─   │\n",
            "                             │         o_custkey         ││          EC: 6000         │\n",
            "                             │         o_orderkey        ││                           │\n",
            "                             │        o_totalprice       ││                           │\n",
            "                             │   ─ ─ ─ ─ ─ ─ ─ ─ ─ ─ ─   ││                           │\n",
            "                             │ Filters: o_totalprice<1000││                           │\n",
            "                             │.00 AND o_totalprice IS NOT││                           │\n",
            "                             │            NULL           ││                           │\n",
            "                             │   ─ ─ ─ ─ ─ ─ ─ ─ ─ ─ ─   ││                           │\n",
            "                             │         EC: 60000         ││                           │\n",
            "                             └───────────────────────────┘└─────────────┬─────────────┘                             \n",
            "                                                          ┌─────────────┴─────────────┐\n",
            "                                                          │         SEQ_SCAN          │\n",
            "                                                          │   ─ ─ ─ ─ ─ ─ ─ ─ ─ ─ ─   │\n",
            "                                                          │          customer         │\n",
            "                                                          │   ─ ─ ─ ─ ─ ─ ─ ─ ─ ─ ─   │\n",
            "                                                          │         c_custkey         │\n",
            "                                                          │           c_name          │\n",
            "                                                          │   ─ ─ ─ ─ ─ ─ ─ ─ ─ ─ ─   │\n",
            "                                                          │   Filters: c_mktsegment   │\n",
            "                                                          │=BUILDING AND c_mktseg...  │\n",
            "                                                          │            NULL           │\n",
            "                                                          │   ─ ─ ─ ─ ─ ─ ─ ─ ─ ─ ─   │\n",
            "                                                          │          EC: 6000         │\n",
            "                                                          └───────────────────────────┘                             \n",
            "\n"
          ]
        }
      ],
      "source": [
        "def explain_query(query):\n",
        "  print(db.execute(\"EXPLAIN \" + query).fetchall()[0][1])\n",
        "\n",
        "print(query)\n",
        "explain_query(query)"
      ]
    },
    {
      "cell_type": "markdown",
      "metadata": {
        "id": "4CV1ob5YeFRi"
      },
      "source": [
        "Remarque : vous pourriez invoquer `PRAGMA explain_output='all'` pour afficher, en plus du plan physique, le plan logique avant son optimisation et le plan logique optimisé, mais ce n'est pas demandé dans ce TP."
      ]
    },
    {
      "cell_type": "markdown",
      "metadata": {
        "id": "Oa2by26CyqOM"
      },
      "source": [
        "# Rapport d'exécution d'un plan\n",
        "\n",
        "On peut afficher un rapport **après** l'exécution d'un plan pour connaitre la quantité de données traitées par chaque opération du plan. On appelle cela le *profil* de l'exécution.\n",
        "\n",
        "La fonction  `run_and_profile_query` active le mode profil afin de sauvegarder les informations de profil dans un fichier.\n",
        "La requête est ensuite exécutée puis les informations de profil produites pendant l'exécution sont affichées.\n",
        "\n",
        "On peut lire dans le profil, pour chaque opérateur, la durée écoulée, le nombre de tuples consommés en entrée ainsi que le nombre de tuples produits pour l'opérateur suivant.\n",
        "\n",
        "Plus spécifiquement, l'opérateur de lecture séquentielle `SEQ_SCAN` (sequential scan) indique le nombre de tuples lus dans une table.\n",
        "L'opérateur `HASH_GROUP_BY` indique le nombre de groupes créés.\n",
        "\n",
        "Remarque: pour les opérateurs qui matérialisent leur sortie, le nombre de tuples produits représente la cardinalité du résultat intermédiaire.\n",
        "\n",
        "Les cardinalités intermédiaires sont importantes car elles peuvent expliquer pourquoi un opérateur a pris beaucoup de temps pour être traité.\n",
        "Dans de nombreuses situations, il est possible de réduire la cardinalité des résultats intermédiaires et modifiant l'ordre des opérations et la façon dont elles sont traitées.\n"
      ]
    },
    {
      "cell_type": "code",
      "execution_count": 19,
      "metadata": {
        "colab": {
          "base_uri": "https://localhost:8080/"
        },
        "id": "QhP65gAgyqOM",
        "outputId": "2ac4b245-4eb2-4eef-df64-6d70efea4aea"
      },
      "outputs": [
        {
          "name": "stdout",
          "output_type": "stream",
          "text": [
            "17 tuple(s)\n",
            "┌─────────────────────────────────────┐\n",
            "│┌───────────────────────────────────┐│\n",
            "││    Query Profiling Information    ││\n",
            "│└───────────────────────────────────┘│\n",
            "└─────────────────────────────────────┘\n",
            " SELECT     l_linenumber, l_extendedprice, o_orderkey, o_totalprice, c_name FROM     customer     JOIN orders ON (c_custkey=o_custkey)     JOIN lineitem ON (l_orderkey=o_orderkey) WHERE     c_mktsegment = 'BUILDING' AND o_totalprice < 1000 \n",
            "┌─────────────────────────────────────┐\n",
            "│┌───────────────────────────────────┐│\n",
            "││        Total Time: 0.0032s        ││\n",
            "│└───────────────────────────────────┘│\n",
            "└─────────────────────────────────────┘\n",
            "┌───────────────────────────┐                                                          \n",
            "│      RESULT_COLLECTOR     │                                                          \n",
            "│   ─ ─ ─ ─ ─ ─ ─ ─ ─ ─ ─   │                                                          \n",
            "│             0             │                                                          \n",
            "│          (0.00s)          │                                                          \n",
            "└─────────────┬─────────────┘                                                                                       \n",
            "┌─────────────┴─────────────┐                                                          \n",
            "│         PROJECTION        │                                                          \n",
            "│   ─ ─ ─ ─ ─ ─ ─ ─ ─ ─ ─   │                                                          \n",
            "│        l_linenumber       │                                                          \n",
            "│      l_extendedprice      │                                                          \n",
            "│         o_orderkey        │                                                          \n",
            "│        o_totalprice       │                                                          \n",
            "│           c_name          │                                                          \n",
            "│   ─ ─ ─ ─ ─ ─ ─ ─ ─ ─ ─   │                                                          \n",
            "│             17            │                                                          \n",
            "│          (0.00s)          │                                                          \n",
            "└─────────────┬─────────────┘                                                                                       \n",
            "┌─────────────┴─────────────┐                                                          \n",
            "│         HASH_JOIN         │                                                          \n",
            "│   ─ ─ ─ ─ ─ ─ ─ ─ ─ ─ ─   │                                                          \n",
            "│           INNER           │                                                          \n",
            "│  l_orderkey = o_orderkey  │                                                          \n",
            "│   ─ ─ ─ ─ ─ ─ ─ ─ ─ ─ ─   ├──────────────┐                                           \n",
            "│         EC: 28377         │              │                                           \n",
            "│   ─ ─ ─ ─ ─ ─ ─ ─ ─ ─ ─   │              │                                           \n",
            "│             17            │              │                                           \n",
            "│          (0.00s)          │              │                                           \n",
            "└─────────────┬─────────────┘              │                                                                        \n",
            "┌─────────────┴─────────────┐┌─────────────┴─────────────┐                             \n",
            "│         SEQ_SCAN          ││         HASH_JOIN         │                             \n",
            "│   ─ ─ ─ ─ ─ ─ ─ ─ ─ ─ ─   ││   ─ ─ ─ ─ ─ ─ ─ ─ ─ ─ ─   │                             \n",
            "│          lineitem         ││           INNER           │                             \n",
            "│   ─ ─ ─ ─ ─ ─ ─ ─ ─ ─ ─   ││   o_custkey = c_custkey   │                             \n",
            "│         l_orderkey        ││   ─ ─ ─ ─ ─ ─ ─ ─ ─ ─ ─   │                             \n",
            "│        l_linenumber       ││          EC: 6904         │                             \n",
            "│      l_extendedprice      ││   ─ ─ ─ ─ ─ ─ ─ ─ ─ ─ ─   ├──────────────┐              \n",
            "│   ─ ─ ─ ─ ─ ─ ─ ─ ─ ─ ─   ││             17            │              │              \n",
            "│        EC: 1199969        ││          (0.00s)          │              │              \n",
            "│   ─ ─ ─ ─ ─ ─ ─ ─ ─ ─ ─   ││                           │              │              \n",
            "│          1199969          ││                           │              │              \n",
            "│          (0.00s)          ││                           │              │              \n",
            "└───────────────────────────┘└─────────────┬─────────────┘              │                                           \n",
            "                             ┌─────────────┴─────────────┐┌─────────────┴─────────────┐\n",
            "                             │         SEQ_SCAN          ││           FILTER          │\n",
            "                             │   ─ ─ ─ ─ ─ ─ ─ ─ ─ ─ ─   ││   ─ ─ ─ ─ ─ ─ ─ ─ ─ ─ ─   │\n",
            "                             │           orders          ││    (c_custkey <= 29999)   │\n",
            "                             │   ─ ─ ─ ─ ─ ─ ─ ─ ─ ─ ─   ││   ─ ─ ─ ─ ─ ─ ─ ─ ─ ─ ─   │\n",
            "                             │         o_custkey         ││          EC: 6000         │\n",
            "                             │         o_orderkey        ││   ─ ─ ─ ─ ─ ─ ─ ─ ─ ─ ─   │\n",
            "                             │        o_totalprice       ││            6106           │\n",
            "                             │   ─ ─ ─ ─ ─ ─ ─ ─ ─ ─ ─   ││          (0.00s)          │\n",
            "                             │ Filters: o_totalprice<1000││                           │\n",
            "                             │.00 AND o_totalprice IS NOT││                           │\n",
            "                             │            NULL           ││                           │\n",
            "                             │   ─ ─ ─ ─ ─ ─ ─ ─ ─ ─ ─   ││                           │\n",
            "                             │         EC: 60000         ││                           │\n",
            "                             │   ─ ─ ─ ─ ─ ─ ─ ─ ─ ─ ─   ││                           │\n",
            "                             │             84            ││                           │\n",
            "                             │          (0.00s)          ││                           │\n",
            "                             └───────────────────────────┘└─────────────┬─────────────┘                             \n",
            "                                                          ┌─────────────┴─────────────┐\n",
            "                                                          │         SEQ_SCAN          │\n",
            "                                                          │   ─ ─ ─ ─ ─ ─ ─ ─ ─ ─ ─   │\n",
            "                                                          │          customer         │\n",
            "                                                          │   ─ ─ ─ ─ ─ ─ ─ ─ ─ ─ ─   │\n",
            "                                                          │         c_custkey         │\n",
            "                                                          │           c_name          │\n",
            "                                                          │   ─ ─ ─ ─ ─ ─ ─ ─ ─ ─ ─   │\n",
            "                                                          │   Filters: c_mktsegment   │\n",
            "                                                          │=BUILDING AND c_mktseg...  │\n",
            "                                                          │            NULL           │\n",
            "                                                          │   ─ ─ ─ ─ ─ ─ ─ ─ ─ ─ ─   │\n",
            "                                                          │          EC: 6000         │\n",
            "                                                          │   ─ ─ ─ ─ ─ ─ ─ ─ ─ ─ ─   │\n",
            "                                                          │            6107           │\n",
            "                                                          │          (0.00s)          │\n",
            "                                                          └───────────────────────────┘                             \n",
            "\n"
          ]
        }
      ],
      "source": [
        "def run_and_profile_query(query):\n",
        "  db.execute(\"PRAGMA enable_profiling\")\n",
        "  db.execute(\"PRAGMA profiling_output='out.log'\")\n",
        "  # res = db.execute(query).arrow()\n",
        "  # res = db.execute(query).df()\n",
        "  res = db.execute(query).fetchall()\n",
        "  db.execute(\"PRAGMA disable_profiling\")\n",
        "  print(len(res), \"tuple(s)\")\n",
        "  with open('out.log', 'r') as f:\n",
        "    output = f.read()\n",
        "  print(output)\n",
        "\n",
        "run_and_profile_query(query)"
      ]
    },
    {
      "cell_type": "markdown",
      "metadata": {
        "id": "weJ7bp2Ox7nq"
      },
      "source": [
        "# Exercice 1 : Jointure par hachage\n",
        "\n"
      ]
    },
    {
      "cell_type": "markdown",
      "metadata": {
        "id": "-QEbYffyUEoH"
      },
      "source": [
        "On considère une requête de jointure entre Lineitem et Orders avec des sélections pour réduire la taille des relations. On a\n",
        "*   $R = T_1 \\bowtie T_2$ avec :\n",
        "*   $T_1 = \\pi_{l\\_linenumber} (\\sigma_{p_1}(Lineitem))$\n",
        "*   $T_2 = \\pi_{o\\_orderkey, o\\_custkey} (\\sigma_{p_2}(Orders))$\n",
        "\n",
        "et avec les prédicats de sélection :\n",
        "*   $p_1: l\\_extendedprice \\le 902$\n",
        "*   $p_2: o\\_totalprice \\ge 1000$\n",
        "\n",
        "\n"
      ]
    },
    {
      "cell_type": "markdown",
      "metadata": {
        "id": "O5NBGdQ-1x_b"
      },
      "source": [
        "## Question 1: Ecrire R en SQL et mesurer sa durée"
      ]
    },
    {
      "cell_type": "code",
      "execution_count": 49,
      "metadata": {
        "id": "SLJEi62QH08U"
      },
      "outputs": [
        {
          "name": "stdout",
          "output_type": "stream",
          "text": [
            "┌───────────────────────────┐                             \n",
            "│         PROJECTION        │                             \n",
            "│   ─ ─ ─ ─ ─ ─ ─ ─ ─ ─ ─   │                             \n",
            "│        l_linenumber       │                             \n",
            "│         o_orderkey        │                             \n",
            "│         o_custkey         │                             \n",
            "└─────────────┬─────────────┘                                                          \n",
            "┌─────────────┴─────────────┐                             \n",
            "│         HASH_JOIN         │                             \n",
            "│   ─ ─ ─ ─ ─ ─ ─ ─ ─ ─ ─   │                             \n",
            "│           INNER           │                             \n",
            "│  l_orderkey = o_orderkey  ├──────────────┐              \n",
            "│   ─ ─ ─ ─ ─ ─ ─ ─ ─ ─ ─   │              │              \n",
            "│         EC: 49317         │              │              \n",
            "└─────────────┬─────────────┘              │                                           \n",
            "┌─────────────┴─────────────┐┌─────────────┴─────────────┐\n",
            "│         SEQ_SCAN          ││         SEQ_SCAN          │\n",
            "│   ─ ─ ─ ─ ─ ─ ─ ─ ─ ─ ─   ││   ─ ─ ─ ─ ─ ─ ─ ─ ─ ─ ─   │\n",
            "│          lineitem         ││           orders          │\n",
            "│   ─ ─ ─ ─ ─ ─ ─ ─ ─ ─ ─   ││   ─ ─ ─ ─ ─ ─ ─ ─ ─ ─ ─   │\n",
            "│         l_orderkey        ││         o_orderkey        │\n",
            "│        l_linenumber       ││         o_custkey         │\n",
            "│   ─ ─ ─ ─ ─ ─ ─ ─ ─ ─ ─   ││   ─ ─ ─ ─ ─ ─ ─ ─ ─ ─ ─   │\n",
            "│ Filters: l_extendedprice< ││Filters: o_totalprice>=1000│\n",
            "│=902.00 AND l_extendedprice││.00 AND o_totalprice IS NOT│\n",
            "│         IS NOT NULL       ││            NULL           │\n",
            "│   ─ ─ ─ ─ ─ ─ ─ ─ ─ ─ ─   ││   ─ ─ ─ ─ ─ ─ ─ ─ ─ ─ ─   │\n",
            "│         EC: 239993        ││         EC: 60000         │\n",
            "└───────────────────────────┘└───────────────────────────┘                             \n",
            "\n",
            "2 tuples(s), 9ms (avg for 3 iter.)\n"
          ]
        }
      ],
      "source": [
        "query= \"\"\"\n",
        "SELECT l_linenumber, o_orderkey, o_custkey\n",
        "FROM lineitem\n",
        "JOIN orders ON (o_orderkey=l_orderkey)\n",
        "WHERE l_extendedprice <= 902\n",
        "AND o_totalprice >= 1000\n",
        "\"\"\"\n",
        "\n",
        "db.execute(\"PRAGMA enable_optimizer\")\n",
        "explain_query(query)\n",
        "print(run_query(query))\n",
        "\n",
        "# duree ............."
      ]
    },
    {
      "cell_type": "markdown",
      "metadata": {
        "id": "aCCZ8vPXyzY-"
      },
      "source": [
        "## Question 2. Quelles sont les cardinalités estimées et réelles des opérandes  $T_1$ et $T_2$ ?"
      ]
    },
    {
      "cell_type": "markdown",
      "metadata": {
        "id": "LeOVEIRp3EyH"
      },
      "source": [
        "cardinalité estimée et réelle de T1"
      ]
    },
    {
      "cell_type": "code",
      "execution_count": 41,
      "metadata": {
        "colab": {
          "base_uri": "https://localhost:8080/"
        },
        "id": "2BGkHAtS2N45",
        "outputId": "71015012-4723-4737-b508-c75c9ef03357"
      },
      "outputs": [
        {
          "name": "stdout",
          "output_type": "stream",
          "text": [
            "2 tuples(s), 1ms (avg for 3 iter.)\n"
          ]
        }
      ],
      "source": [
        "T1 = \"\"\"\n",
        "SELECT l_linenumber\n",
        "FROM lineitem\n",
        "WHERE l_extendedprice <= 902\n",
        "\"\"\"\n",
        "\n",
        "print(run_query(T1))\n",
        "# .... tuples , estimation ........."
      ]
    },
    {
      "cell_type": "markdown",
      "metadata": {
        "id": "0zclbkGs3OO4"
      },
      "source": [
        "cardinalité estimée et réelle de T2"
      ]
    },
    {
      "cell_type": "code",
      "execution_count": 44,
      "metadata": {
        "colab": {
          "base_uri": "https://localhost:8080/"
        },
        "id": "8bz6sCa73EBB",
        "outputId": "0adeb365-ef3c-4889-8ae8-fbc39b04cac3"
      },
      "outputs": [
        {
          "name": "stdout",
          "output_type": "stream",
          "text": [
            "299916 tuples(s), 49ms (avg for 3 iter.)\n"
          ]
        }
      ],
      "source": [
        "T2 = \"\"\"\n",
        "SELECT o_orderkey, o_custkey\n",
        "FROM orders\n",
        "WHERE o_totalprice >= 1000\n",
        "\"\"\"\n",
        "print(run_query(T2))\n",
        "\n",
        "# .... tuples , estimation ........."
      ]
    },
    {
      "cell_type": "markdown",
      "metadata": {
        "id": "cqqEgmMd3-4U"
      },
      "source": [
        "## Question 3 : Jointure en commençant par lire la plus petite relation\n",
        "\n",
        "On désactive l'optimiseur, afin de modifier l'ordre des relations dans la jointure.\n",
        "\n"
      ]
    },
    {
      "cell_type": "markdown",
      "metadata": {
        "id": "B9Ct6XG-_NsA"
      },
      "source": [
        "### a) Réécrire R en une requête équivalente pour que :\n",
        "*    les sélections soient traitées avant les projections et la jointure.\n",
        "*    La relation la plus petite T1 (car T1 << T2) soit chargée en mémoire avant de lire T2. Donc T2 doit donc être l'opérande de droite de l'opérateur hash join d'après le modèle d'exécution de DuckDB."
      ]
    },
    {
      "cell_type": "code",
      "execution_count": 55,
      "metadata": {
        "id": "Z2QuvmPcTJew"
      },
      "outputs": [
        {
          "name": "stdout",
          "output_type": "stream",
          "text": [
            "┌───────────────────────────┐                             \n",
            "│         PROJECTION        │                             \n",
            "│   ─ ─ ─ ─ ─ ─ ─ ─ ─ ─ ─   │                             \n",
            "│        l_linenumber       │                             \n",
            "│         o_orderkey        │                             \n",
            "│         o_custkey         │                             \n",
            "└─────────────┬─────────────┘                                                          \n",
            "┌─────────────┴─────────────┐                             \n",
            "│           FILTER          │                             \n",
            "│   ─ ─ ─ ─ ─ ─ ─ ─ ─ ─ ─   │                             \n",
            "│ (o_totalprice >= CAST(1000│                             \n",
            "│     AS DECIMAL(15,2)))    │                             \n",
            "│   ─ ─ ─ ─ ─ ─ ─ ─ ─ ─ ─   │                             \n",
            "│        EC: 1199969        │                             \n",
            "└─────────────┬─────────────┘                                                          \n",
            "┌─────────────┴─────────────┐                             \n",
            "│         HASH_JOIN         │                             \n",
            "│   ─ ─ ─ ─ ─ ─ ─ ─ ─ ─ ─   │                             \n",
            "│           INNER           │                             \n",
            "│  l_orderkey = o_orderkey  ├──────────────┐              \n",
            "│   ─ ─ ─ ─ ─ ─ ─ ─ ─ ─ ─   │              │              \n",
            "│        EC: 1199969        │              │              \n",
            "└─────────────┬─────────────┘              │                                           \n",
            "┌─────────────┴─────────────┐┌─────────────┴─────────────┐\n",
            "│         PROJECTION        ││         SEQ_SCAN          │\n",
            "│   ─ ─ ─ ─ ─ ─ ─ ─ ─ ─ ─   ││   ─ ─ ─ ─ ─ ─ ─ ─ ─ ─ ─   │\n",
            "│         l_orderkey        ││           orders          │\n",
            "│         l_partkey         ││   ─ ─ ─ ─ ─ ─ ─ ─ ─ ─ ─   │\n",
            "│         l_suppkey         ││   ─ ─ ─ ─ ─ ─ ─ ─ ─ ─ ─   │\n",
            "│        l_linenumber       ││         EC: 300000        │\n",
            "│         l_quantity        ││                           │\n",
            "│      l_extendedprice      ││                           │\n",
            "│         l_discount        ││                           │\n",
            "│           l_tax           ││                           │\n",
            "│        l_returnflag       ││                           │\n",
            "│        l_linestatus       ││                           │\n",
            "│         l_shipdate        ││                           │\n",
            "│        l_commitdate       ││                           │\n",
            "│       l_receiptdate       ││                           │\n",
            "│       l_shipinstruct      ││                           │\n",
            "│         l_shipmode        ││                           │\n",
            "│         l_comment         ││                           │\n",
            "└─────────────┬─────────────┘└───────────────────────────┘                             \n",
            "┌─────────────┴─────────────┐                             \n",
            "│           FILTER          │                             \n",
            "│   ─ ─ ─ ─ ─ ─ ─ ─ ─ ─ ─   │                             \n",
            "│  (l_extendedprice <= CAST │                             \n",
            "│  (902 AS DECIMAL(15,2)))  │                             \n",
            "│   ─ ─ ─ ─ ─ ─ ─ ─ ─ ─ ─   │                             \n",
            "│        EC: 1199969        │                             \n",
            "└─────────────┬─────────────┘                                                          \n",
            "┌─────────────┴─────────────┐                             \n",
            "│         SEQ_SCAN          │                             \n",
            "│   ─ ─ ─ ─ ─ ─ ─ ─ ─ ─ ─   │                             \n",
            "│          lineitem         │                             \n",
            "│   ─ ─ ─ ─ ─ ─ ─ ─ ─ ─ ─   │                             \n",
            "│   ─ ─ ─ ─ ─ ─ ─ ─ ─ ─ ─   │                             \n",
            "│        EC: 1199969        │                             \n",
            "└───────────────────────────┘                                                          \n",
            "\n",
            "2 tuples(s), 22ms (avg for 3 iter.)\n"
          ]
        }
      ],
      "source": [
        "query= \"\"\"\n",
        "SELECT l_linenumber, o_orderkey, o_custkey\n",
        "FROM\n",
        "(SELECT * FROM lineitem WHERE l_extendedprice <= 902)\n",
        "JOIN orders ON (o_orderkey=l_orderkey)\n",
        "WHERE o_totalprice >= 1000\n",
        "\"\"\"\n",
        "\n",
        "db.execute(\"PRAGMA disable_optimizer\")\n",
        "explain_query(query)\n",
        "\n",
        "print(run_query(query))\n",
        "# # durée...."
      ]
    },
    {
      "cell_type": "markdown",
      "metadata": {
        "id": "839PNuEY_FFF"
      },
      "source": [
        "b) Est-ce que ce plan est plus rapide que le plan optimisé par DuckDB ?"
      ]
    },
    {
      "cell_type": "markdown",
      "metadata": {
        "id": "hQcqM3XEX4HX"
      },
      "source": [
        "..........."
      ]
    },
    {
      "cell_type": "markdown",
      "metadata": {
        "id": "bqTXoZF0yqOP"
      },
      "source": [
        "# Exercice 2 : Jointure par boucles imbriquées avec index\n",
        "\n",
        "L'objectif est de montrer qu'une jointure par boucles imbriquées avec index peut êter plus rapide pour certaines requêtes. Cet algorithme n'étant pas actuellement implanté dans DuckDB, on propose de l'implanter dans l'application."
      ]
    },
    {
      "cell_type": "markdown",
      "metadata": {
        "id": "B2TgLLWIUMu6"
      },
      "source": [
        "### 1) Index sur l'attribut de jointure"
      ]
    },
    {
      "cell_type": "markdown",
      "metadata": {
        "id": "sBe8BxkqGUMz"
      },
      "source": [
        "a) Dans chaque relation, créer un index sur l'attribut de jointure"
      ]
    },
    {
      "cell_type": "code",
      "execution_count": 56,
      "metadata": {
        "id": "drEfN6PruRj9"
      },
      "outputs": [
        {
          "data": {
            "text/html": [
              "<div>\n",
              "<style scoped>\n",
              "    .dataframe tbody tr th:only-of-type {\n",
              "        vertical-align: middle;\n",
              "    }\n",
              "\n",
              "    .dataframe tbody tr th {\n",
              "        vertical-align: top;\n",
              "    }\n",
              "\n",
              "    .dataframe thead th {\n",
              "        text-align: right;\n",
              "    }\n",
              "</style>\n",
              "<table border=\"1\" class=\"dataframe\">\n",
              "  <thead>\n",
              "    <tr style=\"text-align: right;\">\n",
              "      <th></th>\n",
              "      <th>index_name</th>\n",
              "      <th>table_name</th>\n",
              "      <th>is_unique</th>\n",
              "      <th>is_primary</th>\n",
              "      <th>sql</th>\n",
              "    </tr>\n",
              "  </thead>\n",
              "  <tbody>\n",
              "    <tr>\n",
              "      <th>0</th>\n",
              "      <td>index_l_extenpri</td>\n",
              "      <td>lineitem</td>\n",
              "      <td>False</td>\n",
              "      <td>False</td>\n",
              "      <td>CREATE INDEX index_l_extenpri ON lineitem(l_ex...</td>\n",
              "    </tr>\n",
              "    <tr>\n",
              "      <th>1</th>\n",
              "      <td>index_o_totalpri</td>\n",
              "      <td>orders</td>\n",
              "      <td>False</td>\n",
              "      <td>False</td>\n",
              "      <td>CREATE INDEX index_o_totalpri ON orders(o_tota...</td>\n",
              "    </tr>\n",
              "  </tbody>\n",
              "</table>\n",
              "</div>"
            ],
            "text/plain": [
              "         index_name table_name  is_unique  is_primary  \\\n",
              "0  index_l_extenpri   lineitem      False       False   \n",
              "1  index_o_totalpri     orders      False       False   \n",
              "\n",
              "                                                 sql  \n",
              "0  CREATE INDEX index_l_extenpri ON lineitem(l_ex...  \n",
              "1  CREATE INDEX index_o_totalpri ON orders(o_tota...  "
            ]
          },
          "execution_count": 56,
          "metadata": {},
          "output_type": "execute_result"
        }
      ],
      "source": [
        "db.execute(\"DROP INDEX IF EXISTS index_l_extenpri;\")\n",
        "db.execute(\"CREATE INDEX index_l_extenpri ON lineitem(l_extendedprice);\")\n",
        "\n",
        "db.execute(\"DROP INDEX IF EXISTS I2;\")\n",
        "db.execute(\"CREATE INDEX index_o_totalpri ON orders(o_totalprice);\")\n",
        "\n",
        "# # Vérifier la présence des index\n",
        "db.execute(\"select index_name, table_name, is_unique, is_primary, sql from duckdb_indexes()\").df()"
      ]
    },
    {
      "cell_type": "markdown",
      "metadata": {
        "id": "RsepVksLHRWJ"
      },
      "source": [
        "b) Constater qu'aucun index n'est utilisé dans le plan optimisé. Quelle est la durée d'exécution ?"
      ]
    },
    {
      "cell_type": "code",
      "execution_count": 57,
      "metadata": {
        "id": "v8YSuslcu2q1"
      },
      "outputs": [
        {
          "name": "stdout",
          "output_type": "stream",
          "text": [
            "┌───────────────────────────┐                             \n",
            "│         PROJECTION        │                             \n",
            "│   ─ ─ ─ ─ ─ ─ ─ ─ ─ ─ ─   │                             \n",
            "│        l_linenumber       │                             \n",
            "│         o_orderkey        │                             \n",
            "│         o_custkey         │                             \n",
            "└─────────────┬─────────────┘                                                          \n",
            "┌─────────────┴─────────────┐                             \n",
            "│         HASH_JOIN         │                             \n",
            "│   ─ ─ ─ ─ ─ ─ ─ ─ ─ ─ ─   │                             \n",
            "│           INNER           │                             \n",
            "│  l_orderkey = o_orderkey  ├──────────────┐              \n",
            "│   ─ ─ ─ ─ ─ ─ ─ ─ ─ ─ ─   │              │              \n",
            "│         EC: 49317         │              │              \n",
            "└─────────────┬─────────────┘              │                                           \n",
            "┌─────────────┴─────────────┐┌─────────────┴─────────────┐\n",
            "│           FILTER          ││         SEQ_SCAN          │\n",
            "│   ─ ─ ─ ─ ─ ─ ─ ─ ─ ─ ─   ││   ─ ─ ─ ─ ─ ─ ─ ─ ─ ─ ─   │\n",
            "│(l_extendedprice <= 902.00)││           orders          │\n",
            "│   ─ ─ ─ ─ ─ ─ ─ ─ ─ ─ ─   ││   ─ ─ ─ ─ ─ ─ ─ ─ ─ ─ ─   │\n",
            "│         EC: 239993        ││         o_orderkey        │\n",
            "│                           ││         o_custkey         │\n",
            "│                           ││   ─ ─ ─ ─ ─ ─ ─ ─ ─ ─ ─   │\n",
            "│                           ││Filters: o_totalprice>=1000│\n",
            "│                           ││.00 AND o_totalprice IS NOT│\n",
            "│                           ││            NULL           │\n",
            "│                           ││   ─ ─ ─ ─ ─ ─ ─ ─ ─ ─ ─   │\n",
            "│                           ││         EC: 60000         │\n",
            "└─────────────┬─────────────┘└───────────────────────────┘                             \n",
            "┌─────────────┴─────────────┐                             \n",
            "│        INDEX_SCAN         │                             \n",
            "│   ─ ─ ─ ─ ─ ─ ─ ─ ─ ─ ─   │                             \n",
            "│          lineitem         │                             \n",
            "│   ─ ─ ─ ─ ─ ─ ─ ─ ─ ─ ─   │                             \n",
            "│         l_orderkey        │                             \n",
            "│      l_extendedprice      │                             \n",
            "│        l_linenumber       │                             \n",
            "│   ─ ─ ─ ─ ─ ─ ─ ─ ─ ─ ─   │                             \n",
            "│         EC: 239993        │                             \n",
            "└───────────────────────────┘                                                          \n",
            "\n",
            "2 tuples(s), 7ms (avg for 3 iter.)\n"
          ]
        }
      ],
      "source": [
        "query= \"\"\"\n",
        "SELECT l_linenumber, o_orderkey, o_custkey\n",
        "FROM lineitem\n",
        "JOIN orders on o_orderkey = l_orderkey\n",
        "WHERE\n",
        "l_extendedprice <= 902\n",
        "AND\n",
        "o_totalprice >= 1000\n",
        "\"\"\"\n",
        "\n",
        "db.execute(\"PRAGMA enable_optimizer\")\n",
        "explain_query(query)\n",
        "print(run_query(query))"
      ]
    },
    {
      "cell_type": "markdown",
      "metadata": {
        "id": "nmTUow7WHxCG"
      },
      "source": [
        "c) Quelle est la durée d'exécution de la requête S suivante lorsqu'on utilise l'optimiseur ?\n",
        "\n",
        "S = $\\pi_{o\\_custkey}(\\sigma_{o\\_orderkey=v ~ \\texttt{and} ~ o\\_totalprice \\ge 1000}(Orders))$"
      ]
    },
    {
      "cell_type": "code",
      "execution_count": 62,
      "metadata": {
        "colab": {
          "base_uri": "https://localhost:8080/"
        },
        "id": "m7-wXEqW7ECf",
        "outputId": "66aca6e9-c384-4109-d543-dd754de4e54a"
      },
      "outputs": [
        {
          "name": "stdout",
          "output_type": "stream",
          "text": [
            "┌───────────────────────────┐\n",
            "│         SEQ_SCAN          │\n",
            "│   ─ ─ ─ ─ ─ ─ ─ ─ ─ ─ ─   │\n",
            "│           orders          │\n",
            "│   ─ ─ ─ ─ ─ ─ ─ ─ ─ ─ ─   │\n",
            "│         o_custkey         │\n",
            "│   ─ ─ ─ ─ ─ ─ ─ ─ ─ ─ ─   │\n",
            "│ Filters: o_orderkey=1 AND │\n",
            "│   o_orderkey IS NOT NULL  │\n",
            "│ o_totalprice>=1000.00 AND │\n",
            "│  o_totalprice IS NOT NULL │\n",
            "│   ─ ─ ─ ─ ─ ─ ─ ─ ─ ─ ─   │\n",
            "│           EC: 2           │\n",
            "└───────────────────────────┘                             \n",
            "\n",
            "1 tuples(s), 1ms (avg for 3 iter.)\n"
          ]
        }
      ],
      "source": [
        "query= \"\"\"\n",
        "SELECT o_custkey\n",
        "FROM orders\n",
        "WHERE o_orderkey = 1\n",
        "AND o_totalprice >= 1000\n",
        "\"\"\"\n",
        "\n",
        "db.execute(\"PRAGMA enable_optimizer\")\n",
        "explain_query(query)\n",
        "print(run_query(query))"
      ]
    },
    {
      "cell_type": "markdown",
      "metadata": {
        "id": "KcpbRKbZJAki"
      },
      "source": [
        "## 2) Jointure avec index\n",
        "Ecrire la fonction jointure_avec_index() qui exécute R de la façon suivante:\n",
        "*   lire T1\n",
        "*   pour chaque tuple obtenu, exécuter S joindre 2 tuples.\n",
        "\n",
        "Indication: il est possible de définir une requête \"paramétrée\" avec un predicat \"o_orderkey = ?\" et de transmettre la valeur du paramètre au moment de l'exécution. Voir la méthode [execute pour des prepared statements](https://duckdb.org/docs/api/python/dbapi#prepared-statements) .\n",
        "\n",
        "Mesurer la durée de ce plan. Est-il plus rapide que la requête optimisée ?\n",
        "\n"
      ]
    },
    {
      "cell_type": "code",
      "execution_count": 69,
      "metadata": {
        "colab": {
          "base_uri": "https://localhost:8080/"
        },
        "id": "VueBgo7I_mZK",
        "outputId": "77591366-071e-4f9a-c082-9580758991cc"
      },
      "outputs": [
        {
          "name": "stdout",
          "output_type": "stream",
          "text": [
            "(4, 505280)\n",
            "(7, 599361)\n",
            "3ms\n",
            "2 tuple(s)\n",
            "[(4, 505280, 27194), (7, 599361, 7657)]\n"
          ]
        }
      ],
      "source": [
        "def jointure_avec_index():\n",
        "  res = []\n",
        "  query= \"\"\"\n",
        "    SELECT l_linenumber, l_orderkey\n",
        "    FROM lineitem\n",
        "    WHERE l_extendedprice <= 902\n",
        "  \"\"\"\n",
        "  for t in db.execute(query).fetchall():\n",
        "    o = db.execute(\"\"\"\n",
        "      SELECT o_custkey\n",
        "      FROM orders\n",
        "      WHERE o_orderkey = ?\n",
        "      AND o_totalprice >= 1000\n",
        "    \"\"\", [t[1]]).fetchone()\n",
        "    res.append( (*t, *o))\n",
        "  return res\n",
        "\n",
        "\n",
        "\n",
        "\n",
        "db.execute(\"PRAGMA enable_optimizer\")\n",
        "start = time.time()\n",
        "res = jointure_avec_index()\n",
        "end = time.time()\n",
        "print(f\"{(end - start)*1000:.0f}ms\")\n",
        "print(len(res), \"tuple(s)\")\n",
        "print(res)"
      ]
    },
    {
      "cell_type": "markdown",
      "metadata": {
        "id": "yfpPSsgTgKZm"
      },
      "source": [
        "# Exercice 3 : Jointure entre 3 relations\n",
        "\n",
        "L'objectif est de comprendre la notion d'ordre de jointures.\n",
        "On sait que pour un ensemble de relations donné, plusieurs ordre de jointure existent.\n",
        "On étudie différentes requêtes portant sur les mêmes relations. On veut montrer que les plans optimaux (=ceux choisis par l'optimiseur) de ces requêtes n'ont pas tous le même ordre de jointure.\n",
        "\n",
        "On considère une première requête qui accède aux relations Lineitem, Orders,Customer.\n",
        "\n",
        "Note: ne pas exécuter cette requête qui est trop longue mais afficher seulement son plan."
      ]
    },
    {
      "cell_type": "code",
      "execution_count": 71,
      "metadata": {
        "colab": {
          "base_uri": "https://localhost:8080/"
        },
        "id": "rrP5VR0FgQ5A",
        "outputId": "4493a76f-c25d-4574-a745-475ee86dec2a"
      },
      "outputs": [
        {
          "name": "stdout",
          "output_type": "stream",
          "text": [
            "┌───────────────────────────┐                                                          \n",
            "│         PROJECTION        │                                                          \n",
            "│   ─ ─ ─ ─ ─ ─ ─ ─ ─ ─ ─   │                                                          \n",
            "│        l_linenumber       │                                                          \n",
            "│         o_orderkey        │                                                          \n",
            "│         o_custkey         │                                                          \n",
            "│           c_name          │                                                          \n",
            "└─────────────┬─────────────┘                                                                                       \n",
            "┌─────────────┴─────────────┐                                                          \n",
            "│         HASH_JOIN         │                                                          \n",
            "│   ─ ─ ─ ─ ─ ─ ─ ─ ─ ─ ─   │                                                          \n",
            "│           INNER           │                                                          \n",
            "│  l_orderkey = o_orderkey  ├──────────────┐                                           \n",
            "│   ─ ─ ─ ─ ─ ─ ─ ─ ─ ─ ─   │              │                                           \n",
            "│         EC: 709425        │              │                                           \n",
            "└─────────────┬─────────────┘              │                                                                        \n",
            "┌─────────────┴─────────────┐┌─────────────┴─────────────┐                             \n",
            "│         SEQ_SCAN          ││         HASH_JOIN         │                             \n",
            "│   ─ ─ ─ ─ ─ ─ ─ ─ ─ ─ ─   ││   ─ ─ ─ ─ ─ ─ ─ ─ ─ ─ ─   │                             \n",
            "│          lineitem         ││           INNER           │                             \n",
            "│   ─ ─ ─ ─ ─ ─ ─ ─ ─ ─ ─   ││   o_custkey = c_custkey   │                             \n",
            "│         l_orderkey        ││   ─ ─ ─ ─ ─ ─ ─ ─ ─ ─ ─   ├──────────────┐              \n",
            "│        l_linenumber       ││         EC: 172618        │              │              \n",
            "│   ─ ─ ─ ─ ─ ─ ─ ─ ─ ─ ─   ││                           │              │              \n",
            "│        EC: 1199969        ││                           │              │              \n",
            "└───────────────────────────┘└─────────────┬─────────────┘              │                                           \n",
            "                             ┌─────────────┴─────────────┐┌─────────────┴─────────────┐\n",
            "                             │         SEQ_SCAN          ││         SEQ_SCAN          │\n",
            "                             │   ─ ─ ─ ─ ─ ─ ─ ─ ─ ─ ─   ││   ─ ─ ─ ─ ─ ─ ─ ─ ─ ─ ─   │\n",
            "                             │           orders          ││          customer         │\n",
            "                             │   ─ ─ ─ ─ ─ ─ ─ ─ ─ ─ ─   ││   ─ ─ ─ ─ ─ ─ ─ ─ ─ ─ ─   │\n",
            "                             │         o_orderkey        ││         c_custkey         │\n",
            "                             │         o_custkey         ││           c_name          │\n",
            "                             │   ─ ─ ─ ─ ─ ─ ─ ─ ─ ─ ─   ││   ─ ─ ─ ─ ─ ─ ─ ─ ─ ─ ─   │\n",
            "                             │         EC: 300000        ││ Filters: c_custkey<=29999 │\n",
            "                             │                           ││  AND c_custkey IS NOT NULL│\n",
            "                             │                           ││   ─ ─ ─ ─ ─ ─ ─ ─ ─ ─ ─   │\n",
            "                             │                           ││         EC: 30000         │\n",
            "                             └───────────────────────────┘└───────────────────────────┘                             \n",
            "\n"
          ]
        },
        {
          "data": {
            "text/plain": [
              "'1199969 tuples(s), 404ms (avg for 3 iter.)'"
            ]
          },
          "execution_count": 71,
          "metadata": {},
          "output_type": "execute_result"
        }
      ],
      "source": [
        "query= \"\"\"\n",
        "SELECT l_linenumber, o_orderkey, o_custkey, c_name\n",
        "FROM Lineitem\n",
        "JOIN Orders on o_orderkey = l_orderkey\n",
        "JOIN Customer on o_custkey = c_custkey\n",
        "\"\"\"\n",
        "\n",
        "db.execute(\"PRAGMA enable_optimizer\")\n",
        "explain_query(query)"
      ]
    },
    {
      "cell_type": "markdown",
      "metadata": {
        "id": "8oFZ_2UNmCw5"
      },
      "source": [
        "\n",
        "Question: Dans quel ordre les jointures sont-elles traitées ?\n",
        "\n",
        "customer -> orders -> lineitem "
      ]
    },
    {
      "cell_type": "markdown",
      "metadata": {
        "id": "oYDzIhFzmD-a"
      },
      "source": [
        "Ordre : (lineitem, (orders, customer))"
      ]
    },
    {
      "cell_type": "markdown",
      "metadata": {
        "id": "A7k5SBeRNj30"
      },
      "source": [
        "## 1) (Customer, (Orders, Lineitem))\n",
        "\n",
        "Proposer une requête avec un prédicat de sélection sur Lineitem de telle sorte que le plan de jointure obtenu soit (Customer, (Orders, Lineitem))"
      ]
    },
    {
      "cell_type": "code",
      "execution_count": 96,
      "metadata": {
        "id": "ZGWzMMzqhAd9"
      },
      "outputs": [
        {
          "name": "stdout",
          "output_type": "stream",
          "text": [
            "┌───────────────────────────┐                                                          \n",
            "│         PROJECTION        │                                                          \n",
            "│   ─ ─ ─ ─ ─ ─ ─ ─ ─ ─ ─   │                                                          \n",
            "│        l_linenumber       │                                                          \n",
            "└─────────────┬─────────────┘                                                                                       \n",
            "┌─────────────┴─────────────┐                                                          \n",
            "│         HASH_JOIN         │                                                          \n",
            "│   ─ ─ ─ ─ ─ ─ ─ ─ ─ ─ ─   │                                                          \n",
            "│           INNER           │                                                          \n",
            "│  l_orderkey = o_orderkey  ├──────────────┐                                           \n",
            "│   ─ ─ ─ ─ ─ ─ ─ ─ ─ ─ ─   │              │                                           \n",
            "│         EC: 141884        │              │                                           \n",
            "└─────────────┬─────────────┘              │                                                                        \n",
            "┌─────────────┴─────────────┐┌─────────────┴─────────────┐                             \n",
            "│           FILTER          ││         HASH_JOIN         │                             \n",
            "│   ─ ─ ─ ─ ─ ─ ─ ─ ─ ─ ─   ││   ─ ─ ─ ─ ─ ─ ─ ─ ─ ─ ─   │                             \n",
            "│(l_extendedprice = 49516.56││           INNER           │                             \n",
            "│             )             ││   o_custkey = c_custkey   ├──────────────┐              \n",
            "│   ─ ─ ─ ─ ─ ─ ─ ─ ─ ─ ─   ││   ─ ─ ─ ─ ─ ─ ─ ─ ─ ─ ─   │              │              \n",
            "│         EC: 239993        ││         EC: 172618        │              │              \n",
            "└─────────────┬─────────────┘└─────────────┬─────────────┘              │                                           \n",
            "┌─────────────┴─────────────┐┌─────────────┴─────────────┐┌─────────────┴─────────────┐\n",
            "│        INDEX_SCAN         ││         SEQ_SCAN          ││         SEQ_SCAN          │\n",
            "│   ─ ─ ─ ─ ─ ─ ─ ─ ─ ─ ─   ││   ─ ─ ─ ─ ─ ─ ─ ─ ─ ─ ─   ││   ─ ─ ─ ─ ─ ─ ─ ─ ─ ─ ─   │\n",
            "│          lineitem         ││           orders          ││          customer         │\n",
            "│   ─ ─ ─ ─ ─ ─ ─ ─ ─ ─ ─   ││   ─ ─ ─ ─ ─ ─ ─ ─ ─ ─ ─   ││   ─ ─ ─ ─ ─ ─ ─ ─ ─ ─ ─   │\n",
            "│         l_orderkey        ││         o_orderkey        ││         c_custkey         │\n",
            "│      l_extendedprice      ││         o_custkey         ││   ─ ─ ─ ─ ─ ─ ─ ─ ─ ─ ─   │\n",
            "│        l_linenumber       ││   ─ ─ ─ ─ ─ ─ ─ ─ ─ ─ ─   ││ Filters: c_custkey<=29999 │\n",
            "│   ─ ─ ─ ─ ─ ─ ─ ─ ─ ─ ─   ││         EC: 300000        ││  AND c_custkey IS NOT NULL│\n",
            "│         EC: 239993        ││                           ││   ─ ─ ─ ─ ─ ─ ─ ─ ─ ─ ─   │\n",
            "│                           ││                           ││         EC: 30000         │\n",
            "└───────────────────────────┘└───────────────────────────┘└───────────────────────────┘                             \n",
            "\n"
          ]
        }
      ],
      "source": [
        "query= \"\"\"\n",
        "SELECT l_linenumber, o_orderkey, o_custkey, c_name\n",
        "FROM lineitem\n",
        "JOIN orders on o_orderkey = l_orderkey\n",
        "JOIN customer on o_custkey = c_custkey\t\n",
        "WHERE l_extendedprice = 49516.56\n",
        "\"\"\"\n",
        "\n",
        "explain_query(query)"
      ]
    },
    {
      "cell_type": "markdown",
      "metadata": {
        "id": "NOK9PyFQOlKd"
      },
      "source": [
        "## 2) (Lineitem, (Customer, Orders))\n",
        "\n",
        "Proposer une requête avec un prédicat de sélection sur Orders de telle sorte que le plan de jointure obtenu soit (Lineitem, (Customer, Orders))"
      ]
    },
    {
      "cell_type": "code",
      "execution_count": 112,
      "metadata": {
        "id": "96gp3e9LESiV"
      },
      "outputs": [
        {
          "name": "stdout",
          "output_type": "stream",
          "text": [
            "┌───────────────────────────┐                                                          \n",
            "│         PROJECTION        │                                                          \n",
            "│   ─ ─ ─ ─ ─ ─ ─ ─ ─ ─ ─   │                                                          \n",
            "│        l_linenumber       │                                                          \n",
            "│         o_orderkey        │                                                          \n",
            "│         o_custkey         │                                                          \n",
            "│           c_name          │                                                          \n",
            "└─────────────┬─────────────┘                                                                                       \n",
            "┌─────────────┴─────────────┐                                                          \n",
            "│         HASH_JOIN         │                                                          \n",
            "│   ─ ─ ─ ─ ─ ─ ─ ─ ─ ─ ─   │                                                          \n",
            "│           INNER           │                                                          \n",
            "│  l_orderkey = o_orderkey  ├──────────────┐                                           \n",
            "│   ─ ─ ─ ─ ─ ─ ─ ─ ─ ─ ─   │              │                                           \n",
            "│         EC: 141885        │              │                                           \n",
            "└─────────────┬─────────────┘              │                                                                        \n",
            "┌─────────────┴─────────────┐┌─────────────┴─────────────┐                             \n",
            "│         SEQ_SCAN          ││         HASH_JOIN         │                             \n",
            "│   ─ ─ ─ ─ ─ ─ ─ ─ ─ ─ ─   ││   ─ ─ ─ ─ ─ ─ ─ ─ ─ ─ ─   │                             \n",
            "│          lineitem         ││           INNER           │                             \n",
            "│   ─ ─ ─ ─ ─ ─ ─ ─ ─ ─ ─   ││   o_custkey = c_custkey   │                             \n",
            "│         l_orderkey        ││   ─ ─ ─ ─ ─ ─ ─ ─ ─ ─ ─   ├──────────────┐              \n",
            "│        l_linenumber       ││         EC: 34523         │              │              \n",
            "│   ─ ─ ─ ─ ─ ─ ─ ─ ─ ─ ─   ││                           │              │              \n",
            "│        EC: 1199969        ││                           │              │              \n",
            "└───────────────────────────┘└─────────────┬─────────────┘              │                                           \n",
            "                             ┌─────────────┴─────────────┐┌─────────────┴─────────────┐\n",
            "                             │           FILTER          ││         SEQ_SCAN          │\n",
            "                             │   ─ ─ ─ ─ ─ ─ ─ ─ ─ ─ ─   ││   ─ ─ ─ ─ ─ ─ ─ ─ ─ ─ ─   │\n",
            "                             │ (o_totalprice = 36336.68) ││          customer         │\n",
            "                             │   ─ ─ ─ ─ ─ ─ ─ ─ ─ ─ ─   ││   ─ ─ ─ ─ ─ ─ ─ ─ ─ ─ ─   │\n",
            "                             │         EC: 60000         ││         c_custkey         │\n",
            "                             │                           ││           c_name          │\n",
            "                             │                           ││   ─ ─ ─ ─ ─ ─ ─ ─ ─ ─ ─   │\n",
            "                             │                           ││ Filters: c_custkey<=29999 │\n",
            "                             │                           ││  AND c_custkey IS NOT NULL│\n",
            "                             │                           ││   ─ ─ ─ ─ ─ ─ ─ ─ ─ ─ ─   │\n",
            "                             │                           ││         EC: 30000         │\n",
            "                             └─────────────┬─────────────┘└───────────────────────────┘                             \n",
            "                             ┌─────────────┴─────────────┐                             \n",
            "                             │        INDEX_SCAN         │                             \n",
            "                             │   ─ ─ ─ ─ ─ ─ ─ ─ ─ ─ ─   │                             \n",
            "                             │           orders          │                             \n",
            "                             │   ─ ─ ─ ─ ─ ─ ─ ─ ─ ─ ─   │                             \n",
            "                             │         o_orderkey        │                             \n",
            "                             │         o_custkey         │                             \n",
            "                             │        o_totalprice       │                             \n",
            "                             │   ─ ─ ─ ─ ─ ─ ─ ─ ─ ─ ─   │                             \n",
            "                             │         EC: 60000         │                             \n",
            "                             └───────────────────────────┘                                                          \n",
            "\n",
            "1 tuples(s), 5ms (avg for 3 iter.)\n"
          ]
        }
      ],
      "source": [
        "query=\"\"\"\n",
        "SELECT l_linenumber, o_orderkey, o_custkey, c_name\n",
        "FROM lineitem\n",
        "JOIN orders on o_orderkey = l_orderkey\n",
        "JOIN customer on o_custkey = c_custkey\t\n",
        "WHERE o_totalprice = 36336.68\n",
        "\"\"\"\n",
        "explain_query(query)\n",
        "print(run_query(query))"
      ]
    },
    {
      "cell_type": "markdown",
      "metadata": {
        "id": "4WSk8hY7QVZb"
      },
      "source": [
        "## 3)  (Customer, (Lineitem, Orders))\n",
        "\n",
        "Proposer une requête avec des prédicats de sélection de telle sorte que le plan de jointure obtenu soit (Customer, (Lineitem, Orders))"
      ]
    },
    {
      "cell_type": "code",
      "execution_count": 31,
      "metadata": {
        "colab": {
          "base_uri": "https://localhost:8080/"
        },
        "id": "eL5HBmIaIj2A",
        "outputId": "0aa53fbe-386d-4080-d29d-b070bdf2de7e"
      },
      "outputs": [],
      "source": [
        "query= \"\"\"\n",
        "SELECT l_linenumber, o_orderkey, o_custkey, c_name\n",
        "FROM lineitem\n",
        "JOIN orders on o_orderkey = l_orderkey\n",
        "JOIN customer on o_custkey = c_custkey\t\n",
        "WHERE l_extendedprice = 49516.56\n",
        "\"\"\"\n",
        "explain_query(query)\n",
        "print(run_query(query))"
      ]
    },
    {
      "cell_type": "markdown",
      "metadata": {
        "id": "A8ClqkAdbTDA"
      },
      "source": [
        "## 4) (LineItem, Orders), Customer)\n",
        "Est ce qu'une requête sur ces mêmes tables pourrait avoir un plan optimal avec l'ordre (LineItem, Orders), Customer) ?\n",
        "Justifier."
      ]
    },
    {
      "cell_type": "markdown",
      "metadata": {
        "id": "iC7U24OlJ09X"
      },
      "source": [
        "# Exercice 4 : Implémentation des jointures par hachage\n",
        "\n",
        "L'objectif de cet exercice est de comprendre le fonctionnement des jointures par hachage : quelles sont les données chargées dans une table de hachage en mémoire, quelles sont les différentes façons de combiner plusieurs jointures par hachage.\n",
        "\n",
        "Dans toutes les questions où on demande d'implémenter un plan de jointure, les consignes sont:\n",
        "*    accéder à chaque table avec une requête \"mono-table\" pouvant contenir seulement des sélections et des projections.\n",
        "*    charger en mémoire le résultat intermédiaire d'une requête dans un dictionnaire (= une table de hachage).\n",
        "*    le résultat d'une requête doit être représenté par une liste de tuples."
      ]
    },
    {
      "cell_type": "markdown",
      "metadata": {
        "id": "oATlUeHE01jW"
      },
      "source": [
        "### 1) Jointures ((Lineitem, Orders), Supplier)\n",
        "On considère la requête suivante accédant aux relations Lineitem, Orders, Supplier.\n",
        "\n",
        "Vérifier que l'ordre choisi par l'optimiseur est bien ((Lineitem, Orders), Supplier)"
      ]
    },
    {
      "cell_type": "code",
      "execution_count": 32,
      "metadata": {
        "colab": {
          "base_uri": "https://localhost:8080/"
        },
        "id": "4S4l5nRTL_vO",
        "outputId": "d6991566-0c15-4297-cab4-ef30ee77c228"
      },
      "outputs": [
        {
          "name": "stdout",
          "output_type": "stream",
          "text": [
            "┌───────────────────────────┐                                                          \n",
            "│         PROJECTION        │                                                          \n",
            "│   ─ ─ ─ ─ ─ ─ ─ ─ ─ ─ ─   │                                                          \n",
            "│         l_orderkey        │                                                          \n",
            "│        l_linenumber       │                                                          \n",
            "│           s_name          │                                                          \n",
            "│         s_comment         │                                                          \n",
            "│        o_totalprice       │                                                          \n",
            "└─────────────┬─────────────┘                                                                                       \n",
            "┌─────────────┴─────────────┐                                                          \n",
            "│         HASH_JOIN         │                                                          \n",
            "│   ─ ─ ─ ─ ─ ─ ─ ─ ─ ─ ─   │                                                          \n",
            "│           INNER           │                                                          \n",
            "│   l_suppkey = s_suppkey   ├───────────────────────────────────────────┐              \n",
            "│   ─ ─ ─ ─ ─ ─ ─ ─ ─ ─ ─   │                                           │              \n",
            "│         EC: 49440         │                                           │              \n",
            "└─────────────┬─────────────┘                                           │                                           \n",
            "┌─────────────┴─────────────┐                             ┌─────────────┴─────────────┐\n",
            "│         HASH_JOIN         │                             │         SEQ_SCAN          │\n",
            "│   ─ ─ ─ ─ ─ ─ ─ ─ ─ ─ ─   │                             │   ─ ─ ─ ─ ─ ─ ─ ─ ─ ─ ─   │\n",
            "│           INNER           │                             │          supplier         │\n",
            "│  l_orderkey = o_orderkey  │                             │   ─ ─ ─ ─ ─ ─ ─ ─ ─ ─ ─   │\n",
            "│   ─ ─ ─ ─ ─ ─ ─ ─ ─ ─ ─   ├──────────────┐              │         s_suppkey         │\n",
            "│         EC: 49317         │              │              │           s_name          │\n",
            "│                           │              │              │         s_comment         │\n",
            "│                           │              │              │   ─ ─ ─ ─ ─ ─ ─ ─ ─ ─ ─   │\n",
            "│                           │              │              │          EC: 2000         │\n",
            "└─────────────┬─────────────┘              │              └───────────────────────────┘                             \n",
            "┌─────────────┴─────────────┐┌─────────────┴─────────────┐                             \n",
            "│         SEQ_SCAN          ││         SEQ_SCAN          │                             \n",
            "│   ─ ─ ─ ─ ─ ─ ─ ─ ─ ─ ─   ││   ─ ─ ─ ─ ─ ─ ─ ─ ─ ─ ─   │                             \n",
            "│          lineitem         ││           orders          │                             \n",
            "│   ─ ─ ─ ─ ─ ─ ─ ─ ─ ─ ─   ││   ─ ─ ─ ─ ─ ─ ─ ─ ─ ─ ─   │                             \n",
            "│         l_orderkey        ││         o_orderkey        │                             \n",
            "│         l_suppkey         ││        o_totalprice       │                             \n",
            "│        l_linenumber       ││   ─ ─ ─ ─ ─ ─ ─ ─ ─ ─ ─   │                             \n",
            "│   ─ ─ ─ ─ ─ ─ ─ ─ ─ ─ ─   ││ Filters: o_totalprice<5000│                             \n",
            "│  Filters: l_extendedprice ││.00 AND o_totalprice IS NOT│                             \n",
            "│<1000.00 AND l_extende...  ││            NULL           │                             \n",
            "│         IS NOT NULL       ││   ─ ─ ─ ─ ─ ─ ─ ─ ─ ─ ─   │                             \n",
            "│   ─ ─ ─ ─ ─ ─ ─ ─ ─ ─ ─   ││         EC: 60000         │                             \n",
            "│         EC: 239993        ││                           │                             \n",
            "└───────────────────────────┘└───────────────────────────┘                                                          \n",
            "\n",
            "83 tuples(s), 3ms (avg for 3 iter.)\n"
          ]
        }
      ],
      "source": [
        "query= \"\"\"\n",
        "SELECT  l_orderkey, l_linenumber, s_name, s_comment, o_totalprice\n",
        "FROM Lineitem\n",
        "JOIN Orders on o_orderkey = l_orderkey\n",
        "JOIN Supplier on l_suppkey = s_suppkey\n",
        "WHERE o_totalprice < 5000\n",
        "AND l_extendedprice < 1000\n",
        "\"\"\"\n",
        "explain_query(query)\n",
        "print(run_query(query))"
      ]
    },
    {
      "cell_type": "markdown",
      "metadata": {
        "id": "MHxM98WWa8jA"
      },
      "source": [
        "Définir la fonction query_plan1() qui implémente le plan correspondant"
      ]
    },
    {
      "cell_type": "code",
      "execution_count": 33,
      "metadata": {
        "colab": {
          "base_uri": "https://localhost:8080/"
        },
        "id": "dAdDLRDmPxZ3",
        "outputId": "e6246a1b-1dd4-4e1e-8b0f-8748cb43e084"
      },
      "outputs": [],
      "source": [
        "# def query_plan1():\n",
        "\n",
        "#   start = time.time()\n",
        "#   res = []\n",
        "\n",
        "#   query = \"select .......... from .........\"\n",
        "#   dict1 = {....... : ..........  for t in db.execute(query).fetchall()}\n",
        "\n",
        "#   query = \"select .......\"\n",
        "#   dict2 = {....... : ..........  for t in db.execute(query).fetchall()}\n",
        "\n",
        "#   query = \".................\"\n",
        "#   for t in db.execute(query).fetchall():\n",
        "#     a = dict1.get(..........., None)\n",
        "#     if(a is not None):\n",
        "#       ..........\n",
        "#       ..........\n",
        "#       ..........\n",
        "#           res.append(  (........) )\n",
        "\n",
        "#   end = time.time()\n",
        "#   return(f\"{len(res)} tuples, {(end - start)*1000:.0f}ms\")\n",
        "\n",
        "# print(query_plan1())"
      ]
    },
    {
      "cell_type": "markdown",
      "metadata": {
        "id": "mGiizWM9b2yR"
      },
      "source": [
        "## 2) Jointure (Orders, (Lineitem, Supplier))"
      ]
    },
    {
      "cell_type": "markdown",
      "metadata": {
        "id": "AwuOGAlE1tEr"
      },
      "source": [
        "Vérifier que dans la requête suivante, l'ordre des jointures est (Orders, (Lineitem, Supplier))"
      ]
    },
    {
      "cell_type": "code",
      "execution_count": 34,
      "metadata": {
        "colab": {
          "base_uri": "https://localhost:8080/"
        },
        "id": "x8E7lCjd1YxI",
        "outputId": "8ff46b2f-5109-446b-f8c1-30d18894561b"
      },
      "outputs": [
        {
          "name": "stdout",
          "output_type": "stream",
          "text": [
            "┌───────────────────────────┐                                                          \n",
            "│         PROJECTION        │                                                          \n",
            "│   ─ ─ ─ ─ ─ ─ ─ ─ ─ ─ ─   │                                                          \n",
            "│         l_orderkey        │                                                          \n",
            "│        l_linenumber       │                                                          \n",
            "│           s_name          │                                                          \n",
            "│         s_comment         │                                                          \n",
            "│        o_totalprice       │                                                          \n",
            "└─────────────┬─────────────┘                                                                                       \n",
            "┌─────────────┴─────────────┐                                                          \n",
            "│         HASH_JOIN         │                                                          \n",
            "│   ─ ─ ─ ─ ─ ─ ─ ─ ─ ─ ─   │                                                          \n",
            "│           INNER           │                                                          \n",
            "│  o_orderkey = l_orderkey  ├──────────────┐                                           \n",
            "│   ─ ─ ─ ─ ─ ─ ─ ─ ─ ─ ─   │              │                                           \n",
            "│          EC: 1779         │              │                                           \n",
            "└─────────────┬─────────────┘              │                                                                        \n",
            "┌─────────────┴─────────────┐┌─────────────┴─────────────┐                             \n",
            "│         SEQ_SCAN          ││         HASH_JOIN         │                             \n",
            "│   ─ ─ ─ ─ ─ ─ ─ ─ ─ ─ ─   ││   ─ ─ ─ ─ ─ ─ ─ ─ ─ ─ ─   │                             \n",
            "│           orders          ││           INNER           │                             \n",
            "│   ─ ─ ─ ─ ─ ─ ─ ─ ─ ─ ─   ││   l_suppkey = s_suppkey   │                             \n",
            "│         o_orderkey        ││   ─ ─ ─ ─ ─ ─ ─ ─ ─ ─ ─   │                             \n",
            "│        o_totalprice       ││          EC: 8661         │                             \n",
            "│   ─ ─ ─ ─ ─ ─ ─ ─ ─ ─ ─   ││                           ├──────────────┐              \n",
            "│ Filters: o_totalprice<5000││                           │              │              \n",
            "│.00 AND o_totalprice IS NOT││                           │              │              \n",
            "│            NULL           ││                           │              │              \n",
            "│   ─ ─ ─ ─ ─ ─ ─ ─ ─ ─ ─   ││                           │              │              \n",
            "│         EC: 60000         ││                           │              │              \n",
            "└───────────────────────────┘└─────────────┬─────────────┘              │                                           \n",
            "                             ┌─────────────┴─────────────┐┌─────────────┴─────────────┐\n",
            "                             │         SEQ_SCAN          ││         SEQ_SCAN          │\n",
            "                             │   ─ ─ ─ ─ ─ ─ ─ ─ ─ ─ ─   ││   ─ ─ ─ ─ ─ ─ ─ ─ ─ ─ ─   │\n",
            "                             │          lineitem         ││          supplier         │\n",
            "                             │   ─ ─ ─ ─ ─ ─ ─ ─ ─ ─ ─   ││   ─ ─ ─ ─ ─ ─ ─ ─ ─ ─ ─   │\n",
            "                             │         l_orderkey        ││         s_suppkey         │\n",
            "                             │         l_suppkey         ││           s_name          │\n",
            "                             │        l_linenumber       ││         s_comment         │\n",
            "                             │   ─ ─ ─ ─ ─ ─ ─ ─ ─ ─ ─   ││   ─ ─ ─ ─ ─ ─ ─ ─ ─ ─ ─   │\n",
            "                             │  Filters: l_extendedprice ││Filters: s_nationkey=13 AND│\n",
            "                             │<1000.00 AND l_extende...  ││   s_nationkey IS NOT NULL │\n",
            "                             │         IS NOT NULL       ││   ─ ─ ─ ─ ─ ─ ─ ─ ─ ─ ─   │\n",
            "                             │   ─ ─ ─ ─ ─ ─ ─ ─ ─ ─ ─   ││           EC: 72          │\n",
            "                             │         EC: 239993        ││                           │\n",
            "                             └───────────────────────────┘└───────────────────────────┘                             \n",
            "\n",
            "3 tuples(s), 3ms (avg for 3 iter.)\n"
          ]
        }
      ],
      "source": [
        "query= \"\"\"\n",
        "SELECT  l_orderkey, l_linenumber, s_name, s_comment, o_totalprice\n",
        "FROM Lineitem\n",
        "JOIN Orders on o_orderkey = l_orderkey\n",
        "JOIN Supplier on l_suppkey = s_suppkey\n",
        "WHERE o_totalprice < 5000\n",
        "AND l_extendedprice < 1000\n",
        "AND s_nationkey=13\n",
        "\"\"\"\n",
        "explain_query(query)\n",
        "print(run_query(query))"
      ]
    },
    {
      "cell_type": "markdown",
      "metadata": {
        "id": "YbIsxnhY16eZ"
      },
      "source": [
        "Définir la fonction query_plan2() qui implémente le plan correspondant"
      ]
    },
    {
      "cell_type": "code",
      "execution_count": 35,
      "metadata": {
        "colab": {
          "base_uri": "https://localhost:8080/"
        },
        "id": "v0n50XZpX9OE",
        "outputId": "7b9bb461-28eb-48b0-8400-d980bba5f63c"
      },
      "outputs": [],
      "source": [
        "# def query_plan2():\n",
        "\n",
        "#   start = time.time()\n",
        "#   res = []\n",
        "\n",
        "\n",
        "\n",
        "\n",
        "\n",
        "\n",
        "\n",
        "#   end = time.time()\n",
        "#   return(f\"{len(res)} tuples, {(end - start)*1000:.0f}ms\")\n",
        "\n",
        "# print(query_plan2())"
      ]
    },
    {
      "cell_type": "markdown",
      "metadata": {
        "id": "331061haScCA"
      },
      "source": [
        "# Exercice 5 : Plans non linéaires\n",
        "\n",
        "Soit la requête de jointure entre les relations Lineitem, Orders, Customer, Supplier"
      ]
    },
    {
      "cell_type": "code",
      "execution_count": 36,
      "metadata": {
        "colab": {
          "base_uri": "https://localhost:8080/"
        },
        "id": "gQxSrSgIJ0bR",
        "outputId": "92a299ef-022b-4d60-a2b2-2ae5d23ea0e0"
      },
      "outputs": [
        {
          "name": "stdout",
          "output_type": "stream",
          "text": [
            "┌───────────────────────────┐                                                                                       \n",
            "│         PROJECTION        │                                                                                       \n",
            "│   ─ ─ ─ ─ ─ ─ ─ ─ ─ ─ ─   │                                                                                       \n",
            "│         l_orderkey        │                                                                                       \n",
            "│        l_linenumber       │                                                                                       \n",
            "└─────────────┬─────────────┘                                                                                                                    \n",
            "┌─────────────┴─────────────┐                                                                                       \n",
            "│         HASH_JOIN         │                                                                                       \n",
            "│   ─ ─ ─ ─ ─ ─ ─ ─ ─ ─ ─   │                                                                                       \n",
            "│           INNER           │                                                                                       \n",
            "│  l_orderkey = o_orderkey  ├───────────────────────────────────────────┐                                           \n",
            "│   ─ ─ ─ ─ ─ ─ ─ ─ ─ ─ ─   │                                           │                                           \n",
            "│         EC: 142240        │                                           │                                           \n",
            "└─────────────┬─────────────┘                                           │                                                                        \n",
            "┌─────────────┴─────────────┐                             ┌─────────────┴─────────────┐                             \n",
            "│         HASH_JOIN         │                             │         HASH_JOIN         │                             \n",
            "│   ─ ─ ─ ─ ─ ─ ─ ─ ─ ─ ─   │                             │   ─ ─ ─ ─ ─ ─ ─ ─ ─ ─ ─   │                             \n",
            "│           INNER           │                             │           INNER           │                             \n",
            "│   l_suppkey = s_suppkey   ├──────────────┐              │   o_custkey = c_custkey   ├──────────────┐              \n",
            "│   ─ ─ ─ ─ ─ ─ ─ ─ ─ ─ ─   │              │              │   ─ ─ ─ ─ ─ ─ ─ ─ ─ ─ ─   │              │              \n",
            "│         EC: 240595        │              │              │         EC: 172618        │              │              \n",
            "└─────────────┬─────────────┘              │              └─────────────┬─────────────┘              │                                           \n",
            "┌─────────────┴─────────────┐┌─────────────┴─────────────┐┌─────────────┴─────────────┐┌─────────────┴─────────────┐\n",
            "│         SEQ_SCAN          ││         SEQ_SCAN          ││         SEQ_SCAN          ││         SEQ_SCAN          │\n",
            "│   ─ ─ ─ ─ ─ ─ ─ ─ ─ ─ ─   ││   ─ ─ ─ ─ ─ ─ ─ ─ ─ ─ ─   ││   ─ ─ ─ ─ ─ ─ ─ ─ ─ ─ ─   ││   ─ ─ ─ ─ ─ ─ ─ ─ ─ ─ ─   │\n",
            "│          lineitem         ││          supplier         ││           orders          ││          customer         │\n",
            "│   ─ ─ ─ ─ ─ ─ ─ ─ ─ ─ ─   ││   ─ ─ ─ ─ ─ ─ ─ ─ ─ ─ ─   ││   ─ ─ ─ ─ ─ ─ ─ ─ ─ ─ ─   ││   ─ ─ ─ ─ ─ ─ ─ ─ ─ ─ ─   │\n",
            "│         l_orderkey        ││         s_suppkey         ││         o_orderkey        ││         c_custkey         │\n",
            "│         l_suppkey         ││   ─ ─ ─ ─ ─ ─ ─ ─ ─ ─ ─   ││         o_custkey         ││   ─ ─ ─ ─ ─ ─ ─ ─ ─ ─ ─   │\n",
            "│        l_linenumber       ││ Filters: s_acctbal<100.00 ││   ─ ─ ─ ─ ─ ─ ─ ─ ─ ─ ─   ││ Filters: c_custkey<=29999 │\n",
            "│   ─ ─ ─ ─ ─ ─ ─ ─ ─ ─ ─   ││  AND s_acctbal IS NOT NULL││         EC: 300000        ││  AND c_custkey IS NOT NULL│\n",
            "│        EC: 1199969        ││   ─ ─ ─ ─ ─ ─ ─ ─ ─ ─ ─   ││                           ││   ─ ─ ─ ─ ─ ─ ─ ─ ─ ─ ─   │\n",
            "│                           ││          EC: 400          ││                           ││         EC: 30000         │\n",
            "└───────────────────────────┘└───────────────────────────┘└───────────────────────────┘└───────────────────────────┘                             \n",
            "\n"
          ]
        }
      ],
      "source": [
        "query= \"\"\"\n",
        "select  l_orderkey, l_linenumber\n",
        "from lineitem\n",
        "JOIN orders on o_orderkey = l_orderkey\n",
        "JOIN customer on c_custkey = o_custkey\n",
        "--JOIN Nation on c_nationkey = n_nationkey\n",
        "join Supplier on l_suppkey = s_suppkey\n",
        "where s_acctbal <100\n",
        "\n",
        "\"\"\"\n",
        "explain_query(query)"
      ]
    },
    {
      "cell_type": "markdown",
      "metadata": {
        "id": "tGBPgKCbStY-"
      },
      "source": [
        "## 1) Quel est l'ordre des jointures ?"
      ]
    },
    {
      "cell_type": "markdown",
      "metadata": {
        "id": "GyMkvbui3wEC"
      },
      "source": [
        "L'ordre est ................"
      ]
    },
    {
      "cell_type": "markdown",
      "metadata": {
        "id": "ORSc_u7JSx9w"
      },
      "source": [
        "## 2) Implémenter le plan"
      ]
    },
    {
      "cell_type": "code",
      "execution_count": null,
      "metadata": {
        "id": "Izx4fVEQ3xBq"
      },
      "outputs": [],
      "source": []
    },
    {
      "cell_type": "markdown",
      "metadata": {
        "id": "OV2FcY1V6DmY"
      },
      "source": [
        "# Divers"
      ]
    },
    {
      "cell_type": "code",
      "execution_count": 37,
      "metadata": {
        "colab": {
          "base_uri": "https://localhost:8080/"
        },
        "id": "9ICEcB296FXK",
        "outputId": "3150b0b7-4875-4a2b-f107-36cf8e060fbe"
      },
      "outputs": [
        {
          "name": "stdout",
          "output_type": "stream",
          "text": [
            "┌───────────────────────────┐                                                                                                                    \n",
            "│         PROJECTION        │                                                                                                                    \n",
            "│   ─ ─ ─ ─ ─ ─ ─ ─ ─ ─ ─   │                                                                                                                    \n",
            "│         l_orderkey        │                                                                                                                    \n",
            "│        l_linenumber       │                                                                                                                    \n",
            "└─────────────┬─────────────┘                                                                                                                                                 \n",
            "┌─────────────┴─────────────┐                                                                                                                    \n",
            "│         HASH_JOIN         │                                                                                                                    \n",
            "│   ─ ─ ─ ─ ─ ─ ─ ─ ─ ─ ─   │                                                                                                                    \n",
            "│           INNER           │                                                                                                                    \n",
            "│  l_orderkey = o_orderkey  ├───────────────────────────────────────────┐                                                                        \n",
            "│   ─ ─ ─ ─ ─ ─ ─ ─ ─ ─ ─   │                                           │                                                                        \n",
            "│         EC: 142240        │                                           │                                                                        \n",
            "└─────────────┬─────────────┘                                           │                                                                                                     \n",
            "┌─────────────┴─────────────┐                             ┌─────────────┴─────────────┐                                                          \n",
            "│         HASH_JOIN         │                             │         HASH_JOIN         │                                                          \n",
            "│   ─ ─ ─ ─ ─ ─ ─ ─ ─ ─ ─   │                             │   ─ ─ ─ ─ ─ ─ ─ ─ ─ ─ ─   │                                                          \n",
            "│           INNER           │                             │           INNER           │                                                          \n",
            "│   l_suppkey = s_suppkey   ├──────────────┐              │   o_custkey = c_custkey   ├──────────────┐                                           \n",
            "│   ─ ─ ─ ─ ─ ─ ─ ─ ─ ─ ─   │              │              │   ─ ─ ─ ─ ─ ─ ─ ─ ─ ─ ─   │              │                                           \n",
            "│         EC: 240595        │              │              │         EC: 172618        │              │                                           \n",
            "└─────────────┬─────────────┘              │              └─────────────┬─────────────┘              │                                                                        \n",
            "┌─────────────┴─────────────┐┌─────────────┴─────────────┐┌─────────────┴─────────────┐┌─────────────┴─────────────┐                             \n",
            "│         SEQ_SCAN          ││         SEQ_SCAN          ││         SEQ_SCAN          ││         HASH_JOIN         │                             \n",
            "│   ─ ─ ─ ─ ─ ─ ─ ─ ─ ─ ─   ││   ─ ─ ─ ─ ─ ─ ─ ─ ─ ─ ─   ││   ─ ─ ─ ─ ─ ─ ─ ─ ─ ─ ─   ││   ─ ─ ─ ─ ─ ─ ─ ─ ─ ─ ─   │                             \n",
            "│          lineitem         ││          supplier         ││           orders          ││           INNER           │                             \n",
            "│   ─ ─ ─ ─ ─ ─ ─ ─ ─ ─ ─   ││   ─ ─ ─ ─ ─ ─ ─ ─ ─ ─ ─   ││   ─ ─ ─ ─ ─ ─ ─ ─ ─ ─ ─   ││ c_nationkey = n_nationkey │                             \n",
            "│         l_orderkey        ││         s_suppkey         ││         o_orderkey        ││   ─ ─ ─ ─ ─ ─ ─ ─ ─ ─ ─   │                             \n",
            "│         l_suppkey         ││   ─ ─ ─ ─ ─ ─ ─ ─ ─ ─ ─   ││         o_custkey         ││         EC: 30000         ├──────────────┐              \n",
            "│        l_linenumber       ││ Filters: s_acctbal<100.00 ││   ─ ─ ─ ─ ─ ─ ─ ─ ─ ─ ─   ││                           │              │              \n",
            "│   ─ ─ ─ ─ ─ ─ ─ ─ ─ ─ ─   ││  AND s_acctbal IS NOT NULL││         EC: 300000        ││                           │              │              \n",
            "│        EC: 1199969        ││   ─ ─ ─ ─ ─ ─ ─ ─ ─ ─ ─   ││                           ││                           │              │              \n",
            "│                           ││          EC: 400          ││                           ││                           │              │              \n",
            "└───────────────────────────┘└───────────────────────────┘└───────────────────────────┘└─────────────┬─────────────┘              │                                           \n",
            "                                                                                       ┌─────────────┴─────────────┐┌─────────────┴─────────────┐\n",
            "                                                                                       │         SEQ_SCAN          ││         SEQ_SCAN          │\n",
            "                                                                                       │   ─ ─ ─ ─ ─ ─ ─ ─ ─ ─ ─   ││   ─ ─ ─ ─ ─ ─ ─ ─ ─ ─ ─   │\n",
            "                                                                                       │          customer         ││           nation          │\n",
            "                                                                                       │   ─ ─ ─ ─ ─ ─ ─ ─ ─ ─ ─   ││   ─ ─ ─ ─ ─ ─ ─ ─ ─ ─ ─   │\n",
            "                                                                                       │         c_custkey         ││        n_nationkey        │\n",
            "                                                                                       │        c_nationkey        ││   ─ ─ ─ ─ ─ ─ ─ ─ ─ ─ ─   │\n",
            "                                                                                       │   ─ ─ ─ ─ ─ ─ ─ ─ ─ ─ ─   ││           EC: 25          │\n",
            "                                                                                       │ Filters: c_custkey<=29999 ││                           │\n",
            "                                                                                       │  AND c_custkey IS NOT NULL││                           │\n",
            "                                                                                       │   ─ ─ ─ ─ ─ ─ ─ ─ ─ ─ ─   ││                           │\n",
            "                                                                                       │         EC: 30000         ││                           │\n",
            "                                                                                       └───────────────────────────┘└───────────────────────────┘                             \n",
            "\n"
          ]
        }
      ],
      "source": [
        "query= \"\"\"\n",
        "select  l_orderkey, l_linenumber\n",
        "from lineitem\n",
        "JOIN orders on o_orderkey = l_orderkey\n",
        "JOIN customer on c_custkey = o_custkey\n",
        "JOIN Nation on c_nationkey = n_nationkey\n",
        "join Supplier on l_suppkey = s_suppkey\n",
        "where s_acctbal <100\n",
        "\n",
        "\"\"\"\n",
        "explain_query(query)"
      ]
    }
  ],
  "metadata": {
    "colab": {
      "provenance": [],
      "toc_visible": true
    },
    "kernelspec": {
      "display_name": "Python 3",
      "name": "python3"
    },
    "language_info": {
      "codemirror_mode": {
        "name": "ipython",
        "version": 3
      },
      "file_extension": ".py",
      "mimetype": "text/x-python",
      "name": "python",
      "nbconvert_exporter": "python",
      "pygments_lexer": "ipython3",
      "version": "3.11.7"
    },
    "widgets": {
      "application/vnd.jupyter.widget-state+json": {
        "50452df66737401e9dc9846391042940": {
          "model_module": "@jupyter-widgets/controls",
          "model_module_version": "1.5.0",
          "model_name": "FloatProgressModel",
          "state": {
            "_dom_classes": [],
            "_model_module": "@jupyter-widgets/controls",
            "_model_module_version": "1.5.0",
            "_model_name": "FloatProgressModel",
            "_view_count": null,
            "_view_module": "@jupyter-widgets/controls",
            "_view_module_version": "1.5.0",
            "_view_name": "ProgressView",
            "bar_style": "",
            "description": "",
            "description_tooltip": null,
            "layout": "IPY_MODEL_d6450b79bb7b40938959d80615cf9397",
            "max": 100,
            "min": 0,
            "orientation": "horizontal",
            "style": "IPY_MODEL_8db035dde77a4e89b19a4a75573680d7",
            "value": 100
          }
        },
        "8db035dde77a4e89b19a4a75573680d7": {
          "model_module": "@jupyter-widgets/controls",
          "model_module_version": "1.5.0",
          "model_name": "ProgressStyleModel",
          "state": {
            "_model_module": "@jupyter-widgets/controls",
            "_model_module_version": "1.5.0",
            "_model_name": "ProgressStyleModel",
            "_view_count": null,
            "_view_module": "@jupyter-widgets/base",
            "_view_module_version": "1.2.0",
            "_view_name": "StyleView",
            "bar_color": "black",
            "description_width": ""
          }
        },
        "d6450b79bb7b40938959d80615cf9397": {
          "model_module": "@jupyter-widgets/base",
          "model_module_version": "1.2.0",
          "model_name": "LayoutModel",
          "state": {
            "_model_module": "@jupyter-widgets/base",
            "_model_module_version": "1.2.0",
            "_model_name": "LayoutModel",
            "_view_count": null,
            "_view_module": "@jupyter-widgets/base",
            "_view_module_version": "1.2.0",
            "_view_name": "LayoutView",
            "align_content": null,
            "align_items": null,
            "align_self": null,
            "border": null,
            "bottom": null,
            "display": null,
            "flex": null,
            "flex_flow": null,
            "grid_area": null,
            "grid_auto_columns": null,
            "grid_auto_flow": null,
            "grid_auto_rows": null,
            "grid_column": null,
            "grid_gap": null,
            "grid_row": null,
            "grid_template_areas": null,
            "grid_template_columns": null,
            "grid_template_rows": null,
            "height": null,
            "justify_content": null,
            "justify_items": null,
            "left": null,
            "margin": null,
            "max_height": null,
            "max_width": null,
            "min_height": null,
            "min_width": null,
            "object_fit": null,
            "object_position": null,
            "order": null,
            "overflow": null,
            "overflow_x": null,
            "overflow_y": null,
            "padding": null,
            "right": null,
            "top": null,
            "visibility": null,
            "width": "auto"
          }
        }
      }
    }
  },
  "nbformat": 4,
  "nbformat_minor": 0
}
