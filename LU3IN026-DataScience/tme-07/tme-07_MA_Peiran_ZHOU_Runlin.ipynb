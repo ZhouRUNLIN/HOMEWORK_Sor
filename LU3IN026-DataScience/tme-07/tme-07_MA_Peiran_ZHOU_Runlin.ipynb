{
 "cells": [
  {
   "cell_type": "markdown",
   "metadata": {},
   "source": [
    "IA & Data science (LU3IN0226) -- 2022-2023\n",
    "--------\n",
    "*&copy; Equipe pédagogique: Christophe Marsala, Olivier Schwander, Jean-Noël Vittaut.*"
   ]
  },
  {
   "cell_type": "markdown",
   "metadata": {},
   "source": [
    "# TD-TME07: les arbres de décision (version numérique)\n",
    "\n",
    "L'objectif de ce notebook est d'implémenter une version de l'algorithme d'apprentissage supervisé par arbre de décision qui travaille sur des données numériques.\n",
    "\n",
    "**Important**: ce notebook doit être fait après avoir fait le TME-06 (arbres de décision catégoriel).\n"
   ]
  },
  {
   "cell_type": "markdown",
   "metadata": {},
   "source": [
    "## Préparation du notebook"
   ]
  },
  {
   "cell_type": "markdown",
   "metadata": {},
   "source": [
    "<font size=\"+1\" color=\"RED\">**[Q]**</font> **Indiquer dans la boîte ci-dessous vos noms et prénoms :**"
   ]
  },
  {
   "cell_type": "markdown",
   "metadata": {},
   "source": [
    "MA Peiran 28717249\n",
    "\n",
    "ZHOU Runlin 28717281"
   ]
  },
  {
   "cell_type": "markdown",
   "metadata": {},
   "source": [
    "<font color=\"RED\" size=\"+1\"><b>[Q]</b></font> **Renommer ce fichier ipython**\n",
    "\n",
    "Tout en haut de cette page, cliquer sur <tt>tme-07</tt> et rajouter à la suite de <tt>tme-07</tt> les noms des membres du binômes séparés par un tiret.\n",
    "\n",
    "<font color=\"RED\" size=\"+1\">IMPORTANT: soumission de votre fichier final</font>\n",
    "\n",
    "**Nom à donner au fichier à poster** : *tme-07-Nom1_Nom2.ipynb* \n",
    "- *Nom1* et *Nom2* : noms des membres du binôme\n",
    "- ne pas compresser ou faire une archive: il faut rendre le fichier ipython tel quel, éventuellement, si vous avez d'autres fichiers vous les rendez séparément.\n",
    "\n",
    "**Echancier pour la soumission de votre compte-rendu:**\n",
    "- le compte-rendu d'une séance doit être remis obligatoirement <font color=\"RED\">avant la séance suivante</font>.\n",
    "\n",
    "**Le compte-rendu est soumis sur la page Moodle.**"
   ]
  },
  {
   "cell_type": "markdown",
   "metadata": {},
   "source": [
    "<font color=\"RED\" size=\"+1\">**[Q]**</font> **Mise à jour de la librairie `iads`**\n",
    "\n",
    "En premier lieu, vérifier que votre librairie `iads` est bien à jour avec tout ce que vous avez implémenté jusqu'au TME 6.\n",
    "Les fonctions `entropie()`, `classe_majoritaire()`, et `construit_AD()` et les classes `NoeudCategoriel` et `ClassifierArbreDecision` doivent être mises dans votre fichier `Classifiers.py`.\n",
    "\n",
    "\n",
    "Une fois à jour, importer la librairie pour pouvoir l'utiliser dans ce notebook.\n"
   ]
  },
  {
   "cell_type": "code",
   "execution_count": 14,
   "metadata": {},
   "outputs": [
    {
     "name": "stdout",
     "output_type": "stream",
     "text": [
      "The autoreload extension is already loaded. To reload it, use:\n",
      "  %reload_ext autoreload\n"
     ]
    }
   ],
   "source": [
    "# Importation des librairies standards:\n",
    "import numpy as np\n",
    "import pandas as pd\n",
    "import matplotlib.pyplot as plt\n",
    "import math\n",
    "%matplotlib inline  \n",
    "\n",
    "# Importation de votre librairie iads:\n",
    "# La ligne suivante permet de préciser le chemin d'accès à la librairie iads\n",
    "import sys\n",
    "sys.path.append('../')   # iads doit être dans le répertoire frère du répertoire courant !\n",
    "\n",
    "# Importation de la librairie iads\n",
    "import iads as iads\n",
    "\n",
    "# importation de Classifiers\n",
    "from iads import Classifiers as cl\n",
    "\n",
    "# importation de utils\n",
    "from iads import utils as ut\n",
    "\n",
    "# importation de evaluation\n",
    "from iads import evaluation as ev\n",
    "\n",
    "# commande TRES utile pour recharger automatiquement le code que vous modifiez dans les modules\n",
    "%load_ext autoreload\n",
    "%autoreload 2"
   ]
  },
  {
   "cell_type": "markdown",
   "metadata": {},
   "source": [
    "Afin de réaliser les premiers essais avec les fonctions que l'on va programmer, on charge la base des iris de Fisher que l'on a vue dans le cours 6 (voir aussi par exemple : https://fr.wikipedia.org/wiki/Iris_de_Fisher) dont les exemples sont décrits par 4 variables et sont associés à l'une des 3 classes possibles ('setosa', 'virginica' et 'versicolor'). La classe est donnée dans la colonne 'species' du dataframe chargé de la façon suivante:\n",
    "\n",
    "\n",
    "Pour nous faciliter le travail, on va passer par la librairie `seaborn` qui contient une fonction nous permettant de récupérer les données des Iris, de plus, cette librairie possède des fonctions de visualisation qui pourront nous être utiles.\n",
    "\n",
    "Pour la documentation de cette librairie, c'est ici : https://seaborn.pydata.org/index.html"
   ]
  },
  {
   "cell_type": "code",
   "execution_count": 3,
   "metadata": {},
   "outputs": [],
   "source": [
    "# Importation de la librairie seaborn:\n",
    "import seaborn as sns\n",
    "\n",
    "# Le dataset des iris est fourni dans le package seaborn, on l'obtient ainsi:\n",
    "iris_df = sns.load_dataset('iris')"
   ]
  },
  {
   "cell_type": "code",
   "execution_count": null,
   "metadata": {},
   "outputs": [],
   "source": [
    "# Remarque : si seaborn n'est pas installée sur votre machine, décommenter la ligne suivante, exécuter-là\n",
    "# et, une fois terminé, recommenter-là.\n",
    "# Eventuellement, si le proxy doit être utilisé (machine PPTI), revoir le notebook du TME 1\n",
    "\n",
    "# pip install --user -U seaborn"
   ]
  },
  {
   "cell_type": "markdown",
   "metadata": {},
   "source": [
    "**Remarque**: si vous ne pouvez pas installer la librairie `seaborn`, les données iris sont fournies dans le répertoire `data`."
   ]
  },
  {
   "cell_type": "code",
   "execution_count": 4,
   "metadata": {},
   "outputs": [
    {
     "name": "stdout",
     "output_type": "stream",
     "text": [
      "Version de python et des librairies utilisées :\n",
      "python:  3.9.12 (main, Apr  4 2022, 05:22:27) [MSC v.1916 64 bit (AMD64)]\n",
      "pandas:  1.4.2\n",
      "numpy:  1.21.5\n",
      "seaborn:  0.12.0\n"
     ]
    }
   ],
   "source": [
    "print(\"Version de python et des librairies utilisées :\")\n",
    "print(\"python: \",sys.version)\n",
    "print(\"pandas: \",pd.__version__)\n",
    "print(\"numpy: \",np.__version__)\n",
    "print(\"seaborn: \",sns.__version__)\n",
    "\n",
    "# Remarque: il n'est pas nécessaire d'avoir exactement ces versions-là..."
   ]
  },
  {
   "cell_type": "code",
   "execution_count": 5,
   "metadata": {
    "scrolled": false
   },
   "outputs": [
    {
     "data": {
      "text/html": [
       "<div>\n",
       "<style scoped>\n",
       "    .dataframe tbody tr th:only-of-type {\n",
       "        vertical-align: middle;\n",
       "    }\n",
       "\n",
       "    .dataframe tbody tr th {\n",
       "        vertical-align: top;\n",
       "    }\n",
       "\n",
       "    .dataframe thead th {\n",
       "        text-align: right;\n",
       "    }\n",
       "</style>\n",
       "<table border=\"1\" class=\"dataframe\">\n",
       "  <thead>\n",
       "    <tr style=\"text-align: right;\">\n",
       "      <th></th>\n",
       "      <th>sepal_length</th>\n",
       "      <th>sepal_width</th>\n",
       "      <th>petal_length</th>\n",
       "      <th>petal_width</th>\n",
       "      <th>species</th>\n",
       "    </tr>\n",
       "  </thead>\n",
       "  <tbody>\n",
       "    <tr>\n",
       "      <th>0</th>\n",
       "      <td>5.1</td>\n",
       "      <td>3.5</td>\n",
       "      <td>1.4</td>\n",
       "      <td>0.2</td>\n",
       "      <td>setosa</td>\n",
       "    </tr>\n",
       "    <tr>\n",
       "      <th>1</th>\n",
       "      <td>4.9</td>\n",
       "      <td>3.0</td>\n",
       "      <td>1.4</td>\n",
       "      <td>0.2</td>\n",
       "      <td>setosa</td>\n",
       "    </tr>\n",
       "    <tr>\n",
       "      <th>2</th>\n",
       "      <td>4.7</td>\n",
       "      <td>3.2</td>\n",
       "      <td>1.3</td>\n",
       "      <td>0.2</td>\n",
       "      <td>setosa</td>\n",
       "    </tr>\n",
       "    <tr>\n",
       "      <th>3</th>\n",
       "      <td>4.6</td>\n",
       "      <td>3.1</td>\n",
       "      <td>1.5</td>\n",
       "      <td>0.2</td>\n",
       "      <td>setosa</td>\n",
       "    </tr>\n",
       "    <tr>\n",
       "      <th>4</th>\n",
       "      <td>5.0</td>\n",
       "      <td>3.6</td>\n",
       "      <td>1.4</td>\n",
       "      <td>0.2</td>\n",
       "      <td>setosa</td>\n",
       "    </tr>\n",
       "    <tr>\n",
       "      <th>...</th>\n",
       "      <td>...</td>\n",
       "      <td>...</td>\n",
       "      <td>...</td>\n",
       "      <td>...</td>\n",
       "      <td>...</td>\n",
       "    </tr>\n",
       "    <tr>\n",
       "      <th>145</th>\n",
       "      <td>6.7</td>\n",
       "      <td>3.0</td>\n",
       "      <td>5.2</td>\n",
       "      <td>2.3</td>\n",
       "      <td>virginica</td>\n",
       "    </tr>\n",
       "    <tr>\n",
       "      <th>146</th>\n",
       "      <td>6.3</td>\n",
       "      <td>2.5</td>\n",
       "      <td>5.0</td>\n",
       "      <td>1.9</td>\n",
       "      <td>virginica</td>\n",
       "    </tr>\n",
       "    <tr>\n",
       "      <th>147</th>\n",
       "      <td>6.5</td>\n",
       "      <td>3.0</td>\n",
       "      <td>5.2</td>\n",
       "      <td>2.0</td>\n",
       "      <td>virginica</td>\n",
       "    </tr>\n",
       "    <tr>\n",
       "      <th>148</th>\n",
       "      <td>6.2</td>\n",
       "      <td>3.4</td>\n",
       "      <td>5.4</td>\n",
       "      <td>2.3</td>\n",
       "      <td>virginica</td>\n",
       "    </tr>\n",
       "    <tr>\n",
       "      <th>149</th>\n",
       "      <td>5.9</td>\n",
       "      <td>3.0</td>\n",
       "      <td>5.1</td>\n",
       "      <td>1.8</td>\n",
       "      <td>virginica</td>\n",
       "    </tr>\n",
       "  </tbody>\n",
       "</table>\n",
       "<p>150 rows × 5 columns</p>\n",
       "</div>"
      ],
      "text/plain": [
       "     sepal_length  sepal_width  petal_length  petal_width    species\n",
       "0             5.1          3.5           1.4          0.2     setosa\n",
       "1             4.9          3.0           1.4          0.2     setosa\n",
       "2             4.7          3.2           1.3          0.2     setosa\n",
       "3             4.6          3.1           1.5          0.2     setosa\n",
       "4             5.0          3.6           1.4          0.2     setosa\n",
       "..            ...          ...           ...          ...        ...\n",
       "145           6.7          3.0           5.2          2.3  virginica\n",
       "146           6.3          2.5           5.0          1.9  virginica\n",
       "147           6.5          3.0           5.2          2.0  virginica\n",
       "148           6.2          3.4           5.4          2.3  virginica\n",
       "149           5.9          3.0           5.1          1.8  virginica\n",
       "\n",
       "[150 rows x 5 columns]"
      ]
     },
     "execution_count": 5,
     "metadata": {},
     "output_type": "execute_result"
    }
   ],
   "source": [
    "# Contenu du dataframe :\n",
    "iris_df\n",
    "\n",
    "# Remarque: dans ce dataframe, la colonne \"species\" est la colonne de la classe. \n",
    "# C'est la seule colonne qui ne contient pas de valeurs réelles.\n"
   ]
  },
  {
   "cell_type": "code",
   "execution_count": 6,
   "metadata": {},
   "outputs": [
    {
     "data": {
      "text/plain": [
       "<seaborn.axisgrid.PairGrid at 0x26025c79b80>"
      ]
     },
     "execution_count": 6,
     "metadata": {},
     "output_type": "execute_result"
    },
    {
     "data": {
      "image/png": "[encoded data removed]",
      "text/plain": [
       "<Figure size 804.75x720 with 20 Axes>"
      ]
     },
     "metadata": {
      "needs_background": "light"
     },
     "output_type": "display_data"
    }
   ],
   "source": [
    "# Avec Seaborn, on peut construire le corrélogramme de ce dataset:\n",
    "sns.pairplot(iris_df,hue='species',palette='bright')\n"
   ]
  },
  {
   "cell_type": "markdown",
   "metadata": {},
   "source": [
    "<font color=\"RED\" size=\"+1\"><b>[Q]</b></font> Examiner ce corrélogramme et expliquer ce qu'il représente:\n",
    "- pourquoi certains affichages représentent des points et d'autres affichages (lesquels?) représentent des courbes?\n",
    "\n",
    "De plus, en examinant ce corrélogramme : \n",
    "- est-ce que le problème de classification des iris semble être un problème difficile ? Expliquez ?\n",
    "- à votre avis, sans faire de calculs, quels sont les 2 attributs qui semblent le plus discrimant pour reconnaître la valeur de la classe ?\n",
    "\n",
    "<i>Rajouter ci-dessous une boîte \"markdown\" pour donner vos réponses.</i>"
   ]
  },
  {
   "cell_type": "markdown",
   "metadata": {},
   "source": [
    "Les coordonnées horizontales et verticales du graphique sur la diagonale sont la même variable. En fait, chaque graphique trace la distribution du nombre de chaque espèce d'iris sur cette variable.\n",
    "\n",
    "Les coordonnées horizontales et verticales du reste de la matrice de points sont des variables différentes, et chaque point représente la valeur variable x et la valeur variable y d'une instance, ainsi que son type (couleur)"
   ]
  },
  {
   "cell_type": "markdown",
   "metadata": {},
   "source": [
    "Ce problème est fondamentalement le même que le problème rencontré dans le TME précédent, la seule différence est que le type de classification est passé de deux à multiple.\n",
    "petal_length & petal_width.\n",
    "D'après les tracés de courbes et de points, on peut voir que les trois espèces d'iris diffèrent le plus dans ces deux caractéristiques."
   ]
  },
  {
   "cell_type": "code",
   "execution_count": 7,
   "metadata": {},
   "outputs": [
    {
     "name": "stdout",
     "output_type": "stream",
     "text": [
      "Noms des features:  ['sepal_length', 'sepal_width', 'petal_length', 'petal_width']\n"
     ]
    }
   ],
   "source": [
    "# Passer du dataframe à des arrays:\n",
    "iris_desc = np.array(iris_df[['sepal_length', 'sepal_width', 'petal_length', 'petal_width']])\n",
    "iris_label = np.array(iris_df['species'])\n",
    "\n",
    "# obtenir les noms des colonnes :\n",
    "iris_noms = ['sepal_length', 'sepal_width', 'petal_length', 'petal_width']\n",
    "\n",
    "print(\"Noms des features: \",iris_noms)"
   ]
  },
  {
   "cell_type": "code",
   "execution_count": 8,
   "metadata": {},
   "outputs": [
    {
     "data": {
      "text/plain": [
       "array([[5.1, 3.5, 1.4, 0.2],\n",
       "       [4.9, 3. , 1.4, 0.2],\n",
       "       [4.7, 3.2, 1.3, 0.2],\n",
       "       [4.6, 3.1, 1.5, 0.2],\n",
       "       [5. , 3.6, 1.4, 0.2],\n",
       "       [5.4, 3.9, 1.7, 0.4]])"
      ]
     },
     "execution_count": 8,
     "metadata": {},
     "output_type": "execute_result"
    }
   ],
   "source": [
    "# Les 6 premières lignes du dataset:\n",
    "iris_desc[0:6,:]"
   ]
  },
  {
   "cell_type": "code",
   "execution_count": 9,
   "metadata": {},
   "outputs": [
    {
     "data": {
      "text/plain": [
       "array(['setosa', 'setosa', 'setosa', 'setosa', 'setosa', 'setosa'],\n",
       "      dtype=object)"
      ]
     },
     "execution_count": 9,
     "metadata": {},
     "output_type": "execute_result"
    }
   ],
   "source": [
    "iris_label[0:6]"
   ]
  },
  {
   "cell_type": "code",
   "execution_count": 10,
   "metadata": {},
   "outputs": [
    {
     "data": {
      "text/plain": [
       "array(['versicolor', 'versicolor', 'versicolor', 'virginica', 'virginica',\n",
       "       'virginica', 'virginica', 'virginica', 'virginica'], dtype=object)"
      ]
     },
     "execution_count": 10,
     "metadata": {},
     "output_type": "execute_result"
    }
   ],
   "source": [
    "# Exemple : fleurs dont la 'sepal_length' vaut 6.3\n",
    "iris_label[iris_desc[:,0] == 6.3]"
   ]
  },
  {
   "cell_type": "code",
   "execution_count": 11,
   "metadata": {},
   "outputs": [
    {
     "name": "stdout",
     "output_type": "stream",
     "text": [
      "Valeurs différentes dans l'array           :  ['setosa' 'versicolor' 'virginica']\n",
      "Décompte de chaque valeur (respectivement) :  [50 50 50]\n"
     ]
    }
   ],
   "source": [
    "# Rappel:  utilisation de la fonction numpy `unique`\n",
    "\n",
    "valeurs, nb_fois = np.unique(iris_label,return_counts=True)\n",
    "\n",
    "print(\"Valeurs différentes dans l'array           : \",valeurs)\n",
    "print(\"Décompte de chaque valeur (respectivement) : \",nb_fois)"
   ]
  },
  {
   "cell_type": "markdown",
   "metadata": {},
   "source": [
    "<font color=\"RED\" size=\"+1\"><b>[Q]</b></font> Vérifier que la fonction <code>classe_majoritaire</code> écrite lors du TME 6 est bien installée dans votre librairie.\n",
    "\n"
   ]
  },
  {
   "cell_type": "code",
   "execution_count": 12,
   "metadata": {},
   "outputs": [
    {
     "data": {
      "text/plain": [
       "'setosa'"
      ]
     },
     "execution_count": 12,
     "metadata": {},
     "output_type": "execute_result"
    }
   ],
   "source": [
    "# Vérification sur nos données:\n",
    "cl.classe_majoritaire(iris_label)"
   ]
  },
  {
   "cell_type": "code",
   "execution_count": 17,
   "metadata": {},
   "outputs": [
    {
     "name": "stdout",
     "output_type": "stream",
     "text": [
      "H([1]) =  0\n",
      "H([1,0]) =  -0.0\n",
      "H([0.25, 0.25, 0.25, 0.25]) =  1.0\n",
      "H([0.5, 0.5]) =  1.0\n",
      "H([0.5, 0.5, 0.0, 0.0]) =  0.5\n",
      "H([0.4, 0.4, 0.1, 0.1]) =  0.8609640474436813\n"
     ]
    }
   ],
   "source": [
    "# Vérification que la fonction Shannon est ok:\n",
    "print(\"H([1]) = \", cl.shannon([1]))\n",
    "print(\"H([1,0]) = \", cl.shannon([1, 0]))\n",
    "print(\"H([0.25, 0.25, 0.25, 0.25]) = \", cl.shannon([0.25, 0.25, 0.25, 0.25]))\n",
    "print(\"H([0.5, 0.5]) = \", cl.shannon([0.5, 0.5]))\n",
    "print(\"H([0.5, 0.5, 0.0, 0.0]) = \", cl.shannon([0.5, 0.5, 0.0, 0.0]))\n",
    "print(\"H([0.4, 0.4, 0.1, 0.1]) = \", cl.shannon([0.4, 0.4, 0.1, 0.1]))\n"
   ]
  },
  {
   "cell_type": "markdown",
   "metadata": {},
   "source": [
    "<font color=\"RED\" size=\"+1\">**[Q]**</font> Vérifier que le calcul d'<code>entropie</code> est aussi ok."
   ]
  },
  {
   "cell_type": "code",
   "execution_count": 18,
   "metadata": {},
   "outputs": [
    {
     "data": {
      "text/plain": [
       "1.0"
      ]
     },
     "execution_count": 18,
     "metadata": {},
     "output_type": "execute_result"
    }
   ],
   "source": [
    "# Exemple sur nos données :\n",
    "cl.entropie(iris_label)"
   ]
  },
  {
   "cell_type": "markdown",
   "metadata": {},
   "source": [
    "### Discrétisation des attributs numériques\n",
    "\n",
    "<div class=\"alert alert-block alert-success\">\n",
    "    \n",
    "**Discrétiser** un attribut numérique consiste en trouver un seuil de coupure dans son ensemble de valeurs après les avoir ordonnées. \n",
    "\n",
    "    Par exemple, soit l'attribut Age contenant les valeurs 12, 15, 17, 20, 35, 37, 40. On discrétise cet \n",
    "    attribut en 2 intervalles en prenant un seuil, par exemple, la valeur 30: cela permet de séparer d'un \n",
    "    côté les valeurs inférieures ou égales à 30, et de l'autre les valeurs strictement supérieures à 30.\n",
    "\n",
    "En apprentissage, lors que l'on doit discrétiser un attribut numérique, on utilise la distribution des classes sur cet ensemble de valeurs: le seuil de discrétisation est choisi afin d'optimiser la distribution des classes des exemples qui se trouvent de chaque côté du seuil. \n",
    "    \n",
    "    Par exemple, avec l'attribut Age donné plus haut, soit la distribution suivante des classes +1 et -1:\n",
    "    -1, -1, -1, +1, +1, +1, +1\n",
    "    qui correspond à : la valeur d'âge 17 est associée à la classe -1, la valeur 18 est associée à \n",
    "    la classe -1, etc.\n",
    "</div>    \n"
   ]
  },
  {
   "cell_type": "markdown",
   "metadata": {},
   "source": [
    "<div class=\"alert alert-block alert-warning\">\n",
    "Considérons la base d'apprentissage suivante qui donne pour une valeur d'âge d'une personne, la classe +1 si la personne peut voter, ou la classe -1 si elle ne peut pas voter:\n",
    "\n",
    "<table>\n",
    "<tr>    \n",
    "    <th>Age:</th><td>12</td><td>15</td><td>17</td><td>20</td><td>35</td><td>37</td><td>40</td>\n",
    "</tr>\n",
    "<tr>    \n",
    "    <th>peut voter:</th><td>-1</td><td>-1</td><td>-1</td><td>+1</td><td>+1</td><td>+1</td><td>+1</td>\n",
    "</tr>    \n",
    "</table>    \n",
    "\n",
    "Lors de la construction d'un arbre de décision, on souhaite discrétiser l'attribut Age en utilisant la distribution des classes: on veut un seuil de coupure dans l'ensemble des valeurs d'âges qui soit le plus en adéquation avec la classe.\n",
    "\n",
    "Pour les valeurs dans notre table, on peut dire que prendre un seuil de coupure qui soit une valeur d'âge comprise entre 17 et 20 est intéressant. Par exemple, si on choisit comme seuil la valeur 18.5 on obtient 2 intervalles:\n",
    "- les âges inférieurs ou égaux à 18.5 qui sont associés à la classe -1\n",
    "- les âges strictement supérieurs à18.5 qui sont associés à la classe +1\n",
    "\n",
    "On dit que le seuil 18.5 permet d'obtenir une discrétisation optimale pour la classe.\n",
    "</div>"
   ]
  },
  {
   "cell_type": "markdown",
   "metadata": {},
   "source": [
    "<div class=\"alert alert-block alert-success\">\n",
    "\n",
    "Mais tous les problèmes de discrétisation ne sont pas si simple, il est parfois difficile de voir un seuil de discrétisation optimal.    \n",
    "    \n",
    "Pour faire cela de façon automatique, on utile une mesure comme l'entropie de Shannon et on applique l'algorithme de discrétisation suivant:\n",
    "1. on choisit un seuil dans l'ensemble des valeurs numériques: ce seuil sépare les classes en 2 sous-ensembles, celui des classes des valeurs inférieures ou égales au seuil, et celui des classes des valeurs strictement supérieures au seuil. Cela fournit donc un distribution des classes sur ces 2 ensembles.\n",
    "2. on calcule le désordre des classes associées aux exemples de chaque côté du seuil et on agrège les 2 valeurs de désordre obtenues pour déterminer la qualité de la coupure.\n",
    "\n",
    "\n",
    "Soit $X$ un ensemble d'exemples, et soit $A$ un attribut que l'on souhaite discrétiser. Pour cela, on constitue l'ensemble des valeurs prises par les exemples de $X$ pour l'attribut $A$. Soit $A_X$ cet ensemble de valeurs.\n",
    "\n",
    "La discrétisation de $A_X$ s'effectue par les étapes suivantes:\n",
    "- Etape 1: ordonner de façon croissante les valeurs de $A_X$;\n",
    "- Etape 2: regarder tous les seuils possibles de coupure entre 2 valeurs consécutives de $A_X$ (on prend comme seuil de coupure la valeur médiane entre ces 2 valeurs). Chaque seuil trouvé crée 2 intervalles qui générent 2 sous-ensembles de $X$: l'ensemble $X_1$ des exemples dont la valeur pour $A$ et inférieure ou égale au seuil, et l'ensemble $X_2$ des exemples dont la valeur pour $A$ et supérieure au seuil. On détermine la qualité du seuil par la mesure présentée ci-dessous et on note $Q(seuil)$ sa valeur.\n",
    "\n",
    "La meilleure coupure pour discrétiser $A_X$ est celle qui minimise la valeur $Q(seuil)$.\n",
    "\n",
    "La mesure $Q(seuil)$ se calcule de la façon suivante:\n",
    "- on calcule l'entropie de Shannon $H_S(X_1)$ de la distribution des classes dans $X_1$\n",
    "- on calcule l'entropie de Shannon $H_S(X_2)$ de la distribution des classes dans $X_2$\n",
    "- la valeur de $Q(seuil)$ est alors:\n",
    "$Q(seuil)= \\frac{|X_1|}{|X_1|+|X_2|}H_S(X_1) + \\frac{|X_2|}{|X_1|+|X_2|}H_S(X_2)$\n",
    "où |.| désigne le cardinal de l'ensemble considéré (ie. son nombre de valeurs).\n",
    "</div>\n",
    "\n",
    "<div class=\"alert alert-block alert-warning\">\n",
    "Par exemple, soit $X=\\{17, 18, 20, 27, 35, 37, 40\\}$, chaque valeur étant associées aux classes +1, +1, -1, -1, +1, +1, -1 respectivement. Un seuil de coupure possible est $31$ ($31 = \\frac{27+35}{2}$). Ce seuil coupe $X$ en $X_1=\\{17, 18, 20, 27\\}$ et $X_2=\\{35, 37, 40\\}$.\n",
    "\n",
    "- pour $X_1$, la probabilité de chaque classe est: $p(+1)= 0.5$ et $p(-1)=0.5$ donc, $H_S(X_1)=1$;\n",
    "- pour $X_2$, la probabilité de chaque classe est: $p(+1)= \\frac{2}{3}$ et $p(-1)=\\frac{1}{3}$ donc, $H_S(X_2)=0.9182958340544896$;\n",
    "- on a donc: $$Q(seuil=31) = \\frac{4}{7} H_S(X_1) + \\frac{3}{7} H_S(X_2);$$\n",
    "soit $Q(seuil=31) = 0.9182958340544896$\n",
    "</div>\n"
   ]
  },
  {
   "cell_type": "markdown",
   "metadata": {},
   "source": [
    "<div class=\"alert alert-block alert-warning\">\n",
    "\n",
    "Ci-dessous, la méthode <code>discretise</code> qui permet de trouver le seuil de coupure optimal dans un ensemble de valeurs associées à des classes (labels).\n",
    "    \n",
    "</div>"
   ]
  },
  {
   "cell_type": "code",
   "execution_count": 19,
   "metadata": {},
   "outputs": [],
   "source": [
    "def discretise(m_desc, m_class, num_col):\n",
    "    \"\"\" input:\n",
    "            - m_desc : (np.array) matrice des descriptions toutes numériques\n",
    "            - m_class : (np.array) matrice des classes (correspondant à m_desc)\n",
    "            - num_col : (int) numéro de colonne de m_desc à considérer\n",
    "            - nb_classes : (int) nombre initial de labels dans le dataset (défaut: 2)\n",
    "        output: tuple : ((seuil_trouve, entropie), (liste_coupures,liste_entropies))\n",
    "            -> seuil_trouve (float): meilleur seuil trouvé\n",
    "            -> entropie (float): entropie du seuil trouvé (celle qui minimise)\n",
    "            -> liste_coupures (List[float]): la liste des valeurs seuils qui ont été regardées\n",
    "            -> liste_entropies (List[float]): la liste des entropies correspondantes aux seuils regardés\n",
    "            (les 2 listes correspondent et sont donc de même taille)\n",
    "            REMARQUE: dans le cas où il y a moins de 2 valeurs d'attribut dans m_desc, aucune discrétisation\n",
    "            n'est possible, on rend donc ((None , +Inf), ([],[])) dans ce cas            \n",
    "    \"\"\"\n",
    "    # Liste triée des valeurs différentes présentes dans m_desc:\n",
    "    l_valeurs = np.unique(m_desc[:,num_col])\n",
    "    \n",
    "    # Si on a moins de 2 valeurs, pas la peine de discrétiser:\n",
    "    if (len(l_valeurs) < 2):\n",
    "        return ((None, float('Inf')), ([],[]))\n",
    "    \n",
    "    # Initialisation\n",
    "    best_seuil = None\n",
    "    best_entropie = float('Inf')\n",
    "    \n",
    "    # pour voir ce qui se passe, on va sauver les entropies trouvées et les points de coupures:\n",
    "    liste_entropies = []\n",
    "    liste_coupures = []\n",
    "    \n",
    "    nb_exemples = len(m_class)\n",
    "    \n",
    "    for v in l_valeurs:\n",
    "        cl_inf = m_class[m_desc[:,num_col]<=v]\n",
    "        cl_sup = m_class[m_desc[:,num_col]>v]\n",
    "        nb_inf = len(cl_inf)\n",
    "        nb_sup = len(cl_sup)\n",
    "        \n",
    "        # calcul de l'entropie de la coupure\n",
    "        val_entropie_inf = cl.entropie(cl_inf) # entropie de l'ensemble des inf\n",
    "        val_entropie_sup = cl.entropie(cl_sup) # entropie de l'ensemble des sup\n",
    "        \n",
    "        val_entropie = (nb_inf / float(nb_exemples)) * val_entropie_inf \\\n",
    "                       + (nb_sup / float(nb_exemples)) * val_entropie_sup\n",
    "        \n",
    "        # Ajout de la valeur trouvée pour retourner l'ensemble des entropies trouvées:\n",
    "        liste_coupures.append(v)\n",
    "        liste_entropies.append(val_entropie)\n",
    "        \n",
    "        # si cette coupure minimise l'entropie, on mémorise ce seuil et son entropie:\n",
    "        if (best_entropie > val_entropie):\n",
    "            best_entropie = val_entropie\n",
    "            best_seuil = v\n",
    "    \n",
    "    return (best_seuil, best_entropie), (liste_coupures,liste_entropies)"
   ]
  },
  {
   "cell_type": "code",
   "execution_count": 20,
   "metadata": {},
   "outputs": [
    {
     "name": "stdout",
     "output_type": "stream",
     "text": [
      "Pour  sepal_length\n",
      "Seuil de coupure trouvé: 5.500 et son entropie: 0.64843\n"
     ]
    },
    {
     "data": {
      "image/png": "[encoded data removed]",
      "text/plain": [
       "<Figure size 432x288 with 1 Axes>"
      ]
     },
     "metadata": {
      "needs_background": "light"
     },
     "output_type": "display_data"
    }
   ],
   "source": [
    "# Exemple d'utilisation:\n",
    "numero_colonne = 0\n",
    "resultat, liste_vals = discretise(iris_desc,iris_label,numero_colonne)\n",
    "\n",
    "print(\"Pour \", iris_noms[numero_colonne])\n",
    "print(f\"Seuil de coupure trouvé: {resultat[0]:1.3f} et son entropie: {resultat[1]:1.5f}\" )\n",
    "\n",
    "# affichage de la variation de l'entropie en fonction du choix du seuil:\n",
    "X,Y = liste_vals\n",
    "plt.plot(X,Y)\n",
    "plt.ylabel('entropie')\n",
    "plt.xlabel('seuil de coupure')\n",
    "plt.show()"
   ]
  },
  {
   "cell_type": "code",
   "execution_count": 21,
   "metadata": {},
   "outputs": [
    {
     "name": "stdout",
     "output_type": "stream",
     "text": [
      "Pour  sepal_width\n",
      "Seuil de coupure trouvé: 3.300 et son entropie: 0.82137\n"
     ]
    },
    {
     "data": {
      "image/png": "[encoded data removed]",
      "text/plain": [
       "<Figure size 432x288 with 1 Axes>"
      ]
     },
     "metadata": {
      "needs_background": "light"
     },
     "output_type": "display_data"
    }
   ],
   "source": [
    "# Autre exemple:\n",
    "numero_colonne = 1\n",
    "\n",
    "resultat, liste_vals = discretise(iris_desc,iris_label,numero_colonne)\n",
    "\n",
    "print(\"Pour \", iris_noms[numero_colonne])\n",
    "print(f\"Seuil de coupure trouvé: {resultat[0]:1.3f} et son entropie: {resultat[1]:1.5f}\" )\n",
    "\n",
    "# affichage de la variation de l'entropie en fonction du choix du seuil:\n",
    "X,Y = liste_vals\n",
    "plt.plot(X,Y)\n",
    "plt.ylabel('entropie')\n",
    "plt.xlabel('seuil de coupure')\n",
    "plt.show()"
   ]
  },
  {
   "cell_type": "code",
   "execution_count": 22,
   "metadata": {},
   "outputs": [
    {
     "name": "stdout",
     "output_type": "stream",
     "text": [
      "Pour  petal_length\n",
      "Seuil de coupure trouvé: 1.700 et son entropie: 0.48036\n"
     ]
    },
    {
     "data": {
      "image/png": "[encoded data removed]",
      "text/plain": [
       "<Figure size 432x288 with 1 Axes>"
      ]
     },
     "metadata": {
      "needs_background": "light"
     },
     "output_type": "display_data"
    }
   ],
   "source": [
    "# Autre exemple:\n",
    "numero_colonne = 2\n",
    "\n",
    "resultat, liste_vals = discretise(iris_desc,iris_label,numero_colonne)\n",
    "\n",
    "print(\"Pour \", iris_noms[numero_colonne])\n",
    "print(f\"Seuil de coupure trouvé: {resultat[0]:1.3f} et son entropie: {resultat[1]:1.5f}\" )\n",
    "\n",
    "# affichage de la variation de l'entropie en fonction du choix du seuil:\n",
    "X,Y = liste_vals\n",
    "plt.plot(X,Y)\n",
    "plt.ylabel('entropie')\n",
    "plt.xlabel('seuil de coupure')\n",
    "plt.show()"
   ]
  },
  {
   "cell_type": "code",
   "execution_count": 23,
   "metadata": {},
   "outputs": [
    {
     "name": "stdout",
     "output_type": "stream",
     "text": [
      "Pour  petal_width\n",
      "Seuil de coupure trouvé: 0.500 et son entropie: 0.45466\n"
     ]
    },
    {
     "data": {
      "image/png": "[encoded data removed]",
      "text/plain": [
       "<Figure size 432x288 with 1 Axes>"
      ]
     },
     "metadata": {
      "needs_background": "light"
     },
     "output_type": "display_data"
    }
   ],
   "source": [
    "# Autre exemple:\n",
    "numero_colonne = 3\n",
    "\n",
    "resultat, liste_vals = discretise(iris_desc,iris_label,numero_colonne)\n",
    "\n",
    "print(\"Pour \", iris_noms[numero_colonne])\n",
    "print(f\"Seuil de coupure trouvé: {resultat[0]:1.3f} et son entropie: {resultat[1]:1.5f}\" )\n",
    "\n",
    "# affichage de la variation de l'entropie en fonction du choix du seuil:\n",
    "X,Y = liste_vals\n",
    "plt.plot(X,Y)\n",
    "plt.ylabel('entropie')\n",
    "plt.xlabel('seuil de coupure')\n",
    "plt.show()"
   ]
  },
  {
   "cell_type": "markdown",
   "metadata": {},
   "source": [
    "<div class=\"alert alert-block alert-warning\">\n",
    "Une fois un seuil de coupure $s$ trouvé sur un attribut $n$, on partitionne la base d'apprentissage en 2 ensembles:\n",
    "- l'ensemble des exemples qui ont une valeur inférieure ou égale à $s$ pour l'attribut $n$\n",
    "- l'ensemble des exemples qui ont une valeur strictement supérieure à $s$ pour l'attribut $n$\n",
    "</div>    \n",
    "\n",
    "\n",
    "<font color=\"RED\" size=\"+1\"><b>[Q]</b></font> Ecrire la fonction <code>partionne</code> qui prend en argument deux numpy array $m_{desc}$ et $m_{class}$ qui représentent une base d'apprentissage, un numéro de colonne $n$ et une valeur de seuil $s$ et qui rend un tuple composé  de 2 tuples de numpy arrays:\n",
    "- le premier tuple est composé de l'ensemble des descriptions de tous les exemples de $T$ qui ont une valeur pour la colonne $n$ inférieure ou égale à $s$ et l'ensemble de leur classe;\n",
    "- le second tuple est composé de l'ensemble des descriptions de tous les exemples de $T$ qui ont une valeur pour la colonne $n$ strictement supérieure à $s$ et l'ensemble de leur classe;\n"
   ]
  },
  {
   "cell_type": "code",
   "execution_count": 25,
   "metadata": {},
   "outputs": [],
   "source": [
    "def partitionne(m_desc,m_class,n,s):\n",
    "    \"\"\" input:\n",
    "            - m_desc : (np.array) matrice des descriptions toutes numériques\n",
    "            - m_class : (np.array) matrice des classes (correspondant à m_desc)\n",
    "            - n : (int) numéro de colonne de m_desc\n",
    "            - s : (float) seuil pour le critère d'arrêt\n",
    "        Hypothèse: m_desc peut être partitionné ! (il contient au moins 2 valeurs différentes)\n",
    "        output: un tuple composé de 2 tuples\n",
    "    \"\"\"\n",
    "    index0 = [i for i in range(len(m_desc)) if m_desc[i][n]<= s]\n",
    "    index1 = [i for i in range(len(m_desc)) if m_desc[i][n]> s]\n",
    "    return (m_desc[index0],m_class[index0]),(m_desc[index1],m_class[index1])\n",
    "    "
   ]
  },
  {
   "cell_type": "code",
   "execution_count": 26,
   "metadata": {},
   "outputs": [
    {
     "name": "stdout",
     "output_type": "stream",
     "text": [
      "Seuil de coupure trouvé: 0.500 et son entropie: 0.45466\n",
      "Nombre d'exemples à gauche :  49  Nombre d'exemples à droite :  101\n"
     ]
    }
   ],
   "source": [
    "# Exemple d'utilisation :\n",
    "\n",
    "# Recherche point de coupure :\n",
    "numero_colonne = 3\n",
    "resultat, liste_vals = discretise(iris_desc,iris_label,numero_colonne)\n",
    "print(f\"Seuil de coupure trouvé: {resultat[0]:1.3f} et son entropie: {resultat[1]:1.5f}\" )\n",
    "\n",
    "# partitionnement :\n",
    "((left_data,left_class), (right_data,right_class)) = partitionne(iris_desc,iris_label, numero_colonne,resultat[0])\n",
    "\n",
    "print(\"Nombre d'exemples à gauche : \", len(left_class), \" Nombre d'exemples à droite : \", len(right_class) )"
   ]
  },
  {
   "cell_type": "code",
   "execution_count": 27,
   "metadata": {},
   "outputs": [
    {
     "data": {
      "text/plain": [
       "array([[5.1, 3.5, 1.4, 0.2],\n",
       "       [4.9, 3. , 1.4, 0.2],\n",
       "       [4.7, 3.2, 1.3, 0.2],\n",
       "       [4.6, 3.1, 1.5, 0.2],\n",
       "       [5. , 3.6, 1.4, 0.2],\n",
       "       [5.4, 3.9, 1.7, 0.4],\n",
       "       [4.6, 3.4, 1.4, 0.3],\n",
       "       [5. , 3.4, 1.5, 0.2],\n",
       "       [4.4, 2.9, 1.4, 0.2],\n",
       "       [4.9, 3.1, 1.5, 0.1]])"
      ]
     },
     "execution_count": 27,
     "metadata": {},
     "output_type": "execute_result"
    }
   ],
   "source": [
    "# Les 10 premières lignes :\n",
    "left_data[0:10,:]"
   ]
  },
  {
   "cell_type": "markdown",
   "metadata": {},
   "source": [
    "## Arbres de décision numériques\n",
    "\n",
    "Afin de représenter des arbres de décision numériques, on créé une nouvelle classe qui permet de définir des noeuds internes de l'arbre associés à des attributs numériques.\n",
    "\n",
    "<b>Remarque:</b> on se place dans le cas où l'arbre de décision final ne contiendra que des noeuds numériques. Il n'y a donc pas à prévoir de noeud catégoriel dans cet arbre."
   ]
  },
  {
   "cell_type": "markdown",
   "metadata": {},
   "source": [
    "<font color=\"RED\" size=\"+1\"><b>[Q]</b></font> Compléter la classe suivante pour pouvoir classifier avec un noeud numérique."
   ]
  },
  {
   "cell_type": "code",
   "execution_count": 28,
   "metadata": {},
   "outputs": [],
   "source": [
    "import graphviz as gv\n",
    "\n",
    "class NoeudNumerique:\n",
    "    \"\"\" Classe pour représenter des noeuds numériques d'un arbre de décision\n",
    "    \"\"\"\n",
    "    def __init__(self, num_att=-1, nom=''):\n",
    "        \"\"\" Constructeur: il prend en argument\n",
    "            - num_att (int) : le numéro de l'attribut auquel il se rapporte: de 0 à ...\n",
    "              si le noeud se rapporte à la classe, le numéro est -1, on n'a pas besoin\n",
    "              de le préciser\n",
    "            - nom (str) : une chaîne de caractères donnant le nom de l'attribut si\n",
    "              il est connu (sinon, on ne met rien et le nom sera donné de façon \n",
    "              générique: \"att_Numéro\")\n",
    "        \"\"\"\n",
    "        self.attribut = num_att    # numéro de l'attribut\n",
    "        if (nom == ''):            # son nom si connu\n",
    "            self.nom_attribut = 'att_'+str(num_att)\n",
    "        else:\n",
    "            self.nom_attribut = nom \n",
    "        self.seuil = None          # seuil de coupure pour ce noeud\n",
    "        self.Les_fils = None       # aucun fils à la création, ils seront ajoutés\n",
    "        self.classe   = None       # valeur de la classe si c'est une feuille\n",
    "        \n",
    "    def est_feuille(self):\n",
    "        \"\"\" rend True si l'arbre est une feuille \n",
    "            c'est une feuille s'il n'a aucun fils\n",
    "        \"\"\"\n",
    "        return self.Les_fils == None\n",
    "    \n",
    "    def ajoute_fils(self, val_seuil, fils_inf, fils_sup):\n",
    "        \"\"\" val_seuil : valeur du seuil de coupure\n",
    "            fils_inf : fils à atteindre pour les valeurs inférieures ou égales à seuil\n",
    "            fils_sup : fils à atteindre pour les valeurs supérieures à seuil\n",
    "        \"\"\"\n",
    "        if self.Les_fils == None:\n",
    "            self.Les_fils = dict()            \n",
    "        self.seuil = val_seuil\n",
    "        self.Les_fils['inf'] = fils_inf\n",
    "        self.Les_fils['sup'] = fils_sup        \n",
    "    \n",
    "    def ajoute_feuille(self,classe):\n",
    "        \"\"\" classe: valeur de la classe\n",
    "            Ce noeud devient un noeud feuille\n",
    "        \"\"\"\n",
    "        self.classe    = classe\n",
    "        self.Les_fils  = None   # normalement, pas obligatoire ici, c'est pour être sûr\n",
    "        \n",
    "    def classifie(self, exemple):\n",
    "        \"\"\" exemple : numpy.array\n",
    "            rend la classe de l'exemple (pour nous, soit +1, soit -1 en général)\n",
    "            on rend la valeur 0 si l'exemple ne peut pas être classé (cf. les questions\n",
    "            posées en fin de ce notebook)\n",
    "        \"\"\"\n",
    "        if self.est_feuille():\n",
    "            return self.classe\n",
    "        else:\n",
    "            if exemple[self.attribut] <= self.seuil:\n",
    "                return self.Les_fils['inf'].classifie(exemple)\n",
    "            else:\n",
    "                return self.Les_fils['sup'].classifie(exemple)\n",
    "        \n",
    "    \n",
    "    def to_graph(self, g, prefixe='A'):\n",
    "        \"\"\" construit une représentation de l'arbre pour pouvoir l'afficher graphiquement\n",
    "            Cette fonction ne nous intéressera pas plus que ça, elle ne sera donc \n",
    "            pas expliquée            \n",
    "        \"\"\"\n",
    "        if self.est_feuille():\n",
    "            g.node(prefixe,str(self.classe),shape='box')\n",
    "        else:\n",
    "            g.node(prefixe, str(self.nom_attribut))\n",
    "            self.Les_fils['inf'].to_graph(g,prefixe+\"g\")\n",
    "            self.Les_fils['sup'].to_graph(g,prefixe+\"d\")\n",
    "            g.edge(prefixe,prefixe+\"g\", '<='+ str(self.seuil))\n",
    "            g.edge(prefixe,prefixe+\"d\", '>'+ str(self.seuil))                \n",
    "        return g\n"
   ]
  },
  {
   "cell_type": "code",
   "execution_count": 29,
   "metadata": {},
   "outputs": [
    {
     "data": {
      "image/svg+xml": [
       "<?xml version=\"1.0\" encoding=\"UTF-8\" standalone=\"no\"?>\n",
       "<!DOCTYPE svg PUBLIC \"-//W3C//DTD SVG 1.1//EN\"\n",
       " \"http://www.w3.org/Graphics/SVG/1.1/DTD/svg11.dtd\">\n",
       "<!-- Generated by graphviz version 2.50.0 (0)\n",
       " -->\n",
       "<!-- Pages: 1 -->\n",
       "<svg width=\"144pt\" height=\"131pt\"\n",
       " viewBox=\"0.00 0.00 144.00 131.00\" xmlns=\"http://www.w3.org/2000/svg\" xmlns:xlink=\"http://www.w3.org/1999/xlink\">\n",
       "<g id=\"graph0\" class=\"graph\" transform=\"scale(1 1) rotate(0) translate(4 127)\">\n",
       "<polygon fill=\"white\" stroke=\"transparent\" points=\"-4,4 -4,-127 140,-127 140,4 -4,4\"/>\n",
       "<!-- A -->\n",
       "<g id=\"node1\" class=\"node\">\n",
       "<title>A</title>\n",
       "<ellipse fill=\"none\" stroke=\"black\" cx=\"67.5\" cy=\"-105\" rx=\"27\" ry=\"18\"/>\n",
       "<text text-anchor=\"middle\" x=\"67.5\" y=\"-101.3\" font-family=\"Times New Roman,serif\" font-size=\"14.00\">n3</text>\n",
       "</g>\n",
       "<!-- Ag -->\n",
       "<g id=\"node2\" class=\"node\">\n",
       "<title>Ag</title>\n",
       "<polygon fill=\"none\" stroke=\"black\" points=\"59,-36 0,-36 0,0 59,0 59,-36\"/>\n",
       "<text text-anchor=\"middle\" x=\"29.5\" y=\"-14.3\" font-family=\"Times New Roman,serif\" font-size=\"14.00\">classe 1</text>\n",
       "</g>\n",
       "<!-- A&#45;&gt;Ag -->\n",
       "<g id=\"edge1\" class=\"edge\">\n",
       "<title>A&#45;&gt;Ag</title>\n",
       "<path fill=\"none\" stroke=\"black\" d=\"M55.35,-88.63C51.14,-82.75 46.68,-75.81 43.5,-69 40.14,-61.81 37.44,-53.66 35.34,-46.05\"/>\n",
       "<polygon fill=\"black\" stroke=\"black\" points=\"38.68,-45 32.84,-36.16 31.89,-46.71 38.68,-45\"/>\n",
       "<text text-anchor=\"middle\" x=\"64\" y=\"-57.8\" font-family=\"Times New Roman,serif\" font-size=\"14.00\">&lt;=42.0</text>\n",
       "</g>\n",
       "<!-- Ad -->\n",
       "<g id=\"node3\" class=\"node\">\n",
       "<title>Ad</title>\n",
       "<polygon fill=\"none\" stroke=\"black\" points=\"136,-36 77,-36 77,0 136,0 136,-36\"/>\n",
       "<text text-anchor=\"middle\" x=\"106.5\" y=\"-14.3\" font-family=\"Times New Roman,serif\" font-size=\"14.00\">classe 2</text>\n",
       "</g>\n",
       "<!-- A&#45;&gt;Ad -->\n",
       "<g id=\"edge2\" class=\"edge\">\n",
       "<title>A&#45;&gt;Ad</title>\n",
       "<path fill=\"none\" stroke=\"black\" d=\"M75.58,-87.68C78.45,-81.81 81.66,-75.13 84.5,-69 88.03,-61.37 91.75,-53.04 95.11,-45.4\"/>\n",
       "<polygon fill=\"black\" stroke=\"black\" points=\"98.33,-46.76 99.12,-36.2 91.92,-43.96 98.33,-46.76\"/>\n",
       "<text text-anchor=\"middle\" x=\"107\" y=\"-57.8\" font-family=\"Times New Roman,serif\" font-size=\"14.00\">&gt;42.0</text>\n",
       "</g>\n",
       "</g>\n",
       "</svg>\n"
      ],
      "text/plain": [
       "<graphviz.graphs.Digraph at 0x26028e9f4c0>"
      ]
     },
     "execution_count": 29,
     "metadata": {},
     "output_type": "execute_result"
    }
   ],
   "source": [
    "# Exemple d'utilisation: \n",
    "un_arbre= NoeudNumerique(nom='n1')\n",
    "un_arbre.ajoute_feuille(\"classe 1\")\n",
    "un_arbre.est_feuille()\n",
    "un_arbre1 = NoeudNumerique(nom=\"n2\")\n",
    "un_arbre1.ajoute_feuille(\"classe 2\")\n",
    "un_arbre2 = NoeudNumerique(nom=\"n3\")\n",
    "un_arbre2.ajoute_fils(42.0,un_arbre,un_arbre1)\n",
    "\n",
    "gtree = gv.Digraph(format='png')\n",
    "un_arbre2.to_graph(gtree)"
   ]
  },
  {
   "cell_type": "markdown",
   "metadata": {},
   "source": [
    "<font color=\"RED\" size=\"+1\"><b>[Q]</b></font> En utilisant la fonction `discretise`, écrire la fonction `construit_AD_num` (en utilisant la version catégorielle réalisée lors de la séance précédente) afin de pouvoir construire des arbres de décision avec des valeurs numériques.\n",
    "Les attributs numériques seront discrétisés en 2 valeurs catégorielles."
   ]
  },
  {
   "cell_type": "code",
   "execution_count": 77,
   "metadata": {},
   "outputs": [],
   "source": [
    "# ------------------------ (VERSION ENSEIGNANT)\n",
    "\n",
    "def construit_AD_num(X,Y,epsilon,LNoms = []):\n",
    "    \"\"\" X,Y : dataset\n",
    "        epsilon : seuil d'entropie pour le critère d'arrêt \n",
    "        LNoms : liste des noms de features (colonnes) de description \n",
    "    \"\"\"\n",
    "    \n",
    "    # dimensions de X:\n",
    "    (nb_lig, nb_col) = X.shape\n",
    "    \n",
    "    entropie_classe = cl.entropie(Y)\n",
    "    \n",
    "    if (entropie_classe <= epsilon) or  (nb_lig <=1):\n",
    "        # ARRET : on crée une feuille\n",
    "        noeud = NoeudNumerique(-1,\"Label\")\n",
    "        noeud.ajoute_feuille(cl.classe_majoritaire(Y))\n",
    "    else:\n",
    "        gain_max = float('-Inf')  # meilleur gain trouvé (initalisé à -infinie)\n",
    "        i_best = -1               # numéro du meilleur attribut (init à -1 (aucun))\n",
    "        Xbest_set = None\n",
    "        \n",
    "        #############\n",
    "        \n",
    "        # COMPLETER CETTE PARTIE : ELLE DOIT PERMETTRE D'OBTENIR DANS\n",
    "        # i_best : le numéro de l'attribut qui maximise le gain d'information.  En cas d'égalité,\n",
    "        #          le premier rencontré est choisi.\n",
    "        # gain_max : la plus grande valeur de gain d'information trouvée.\n",
    "        # Xbest_tuple : le tuple rendu par partionne() pour le meilleur attribut trouvé\n",
    "        # Xbest_seuil : le seuil de partitionnement associé au meilleur attribut\n",
    "        #\n",
    "        # Remarque : attention, la fonction discretise() peut renvoyer un tuple contenant\n",
    "        # None (pas de partitionnement possible)n dans ce cas, on considèrera que le\n",
    "        # résultat d'un partitionnement est alors ((X,Y),(None,None))\n",
    "        for i in range(nb_col):\n",
    "            (s, e),_ = discretise(X, Y, i)\n",
    "            if s == None:\n",
    "                continue\n",
    "            if gain_max < entropie_classe - e:\n",
    "                gain_max = entropie_classe - e\n",
    "                i_best = i\n",
    "                Xbest_tuple = partitionne(X, Y, i, s)\n",
    "                Xbest_seuil = s\n",
    "        \n",
    "        ############\n",
    "        if (gain_max != float('-Inf')):\n",
    "            if len(LNoms)>0:  # si on a des noms de features\n",
    "                noeud = NoeudNumerique(i_best,LNoms[i_best]) \n",
    "            else:\n",
    "                noeud = NoeudNumerique(i_best)\n",
    "            ((left_data,left_class), (right_data,right_class)) = Xbest_tuple\n",
    "            noeud.ajoute_fils( Xbest_seuil, \\\n",
    "                              construit_AD_num(left_data,left_class, epsilon, LNoms), \\\n",
    "                              construit_AD_num(right_data,right_class, epsilon, LNoms) )\n",
    "        else: # aucun attribut n'a pu améliorer le gain d'information\n",
    "              # ARRET : on crée une feuille\n",
    "            noeud = NoeudNumerique(-1,\"Label\")\n",
    "            noeud.ajoute_feuille(cl.classe_majoritaire(Y))\n",
    "        \n",
    "    return noeud"
   ]
  },
  {
   "cell_type": "code",
   "execution_count": 78,
   "metadata": {},
   "outputs": [],
   "source": [
    "class ClassifierArbreNumerique(cl.Classifier):\n",
    "    \"\"\" Classe pour représenter un classifieur par arbre de décision numérique\n",
    "    \"\"\"\n",
    "    \n",
    "    def __init__(self, input_dimension, epsilon, LNoms=[]):\n",
    "        \"\"\" Constructeur\n",
    "            Argument:\n",
    "                - intput_dimension (int) : dimension de la description des exemples\n",
    "                - epsilon (float) : paramètre de l'algorithme (cf. explications précédentes)\n",
    "                - LNoms : Liste des noms de dimensions (si connues)\n",
    "            Hypothèse : input_dimension > 0\n",
    "        \"\"\"\n",
    "        self.dimension = input_dimension\n",
    "        self.epsilon = epsilon\n",
    "        self.LNoms = LNoms\n",
    "        # l'arbre est manipulé par sa racine qui sera un Noeud\n",
    "        self.racine = None\n",
    "        \n",
    "    def toString(self):\n",
    "        \"\"\"  -> str\n",
    "            rend le nom du classifieur avec ses paramètres\n",
    "        \"\"\"\n",
    "        return 'ClassifierArbreDecision ['+str(self.dimension) + '] eps='+str(self.epsilon)\n",
    "        \n",
    "    def train(self, desc_set, label_set):\n",
    "        \"\"\" Permet d'entrainer le modele sur l'ensemble donné\n",
    "            desc_set: ndarray avec des descriptions\n",
    "            label_set: ndarray avec les labels correspondants\n",
    "            Hypothèse: desc_set et label_set ont le même nombre de lignes\n",
    "        \"\"\"\n",
    "        self.racine = construit_AD_num(desc_set,label_set,self.epsilon,self.LNoms)\n",
    "    \n",
    "    def score(self,x):\n",
    "        \"\"\" rend le score de prédiction sur x (valeur réelle)\n",
    "            x: une description\n",
    "        \"\"\"\n",
    "        # cette méthode ne fait rien dans notre implémentation :\n",
    "        pass\n",
    "    \n",
    "    def predict(self, x):\n",
    "        \"\"\" x (array): une description d'exemple\n",
    "            rend la prediction sur x             \n",
    "        \"\"\"\n",
    "        return self.racine.classifie(x)\n",
    "\n",
    "    def accuracy(self, desc_set, label_set):  # Version propre à aux arbres\n",
    "        \"\"\" Permet de calculer la qualité du système sur un dataset donné\n",
    "            desc_set: ndarray avec des descriptions\n",
    "            label_set: ndarray avec les labels correspondants\n",
    "            Hypothèse: desc_set et label_set ont le même nombre de lignes\n",
    "        \"\"\"\n",
    "        nb_ok=0\n",
    "        for i in range(desc_set.shape[0]):\n",
    "            if self.predict(desc_set[i,:]) == label_set[i]:\n",
    "                nb_ok=nb_ok+1\n",
    "        acc=nb_ok/(desc_set.shape[0] * 1.0)\n",
    "        return acc\n",
    "\n",
    "    def affiche(self,GTree):\n",
    "        \"\"\" affichage de l'arbre sous forme graphique\n",
    "            Cette fonction modifie GTree par effet de bord\n",
    "        \"\"\"\n",
    "        self.racine.to_graph(GTree)\n",
    "# ---------------------------\n"
   ]
  },
  {
   "cell_type": "code",
   "execution_count": 79,
   "metadata": {},
   "outputs": [
    {
     "data": {
      "text/plain": [
       "['sepal_length', 'sepal_width', 'petal_length', 'petal_width']"
      ]
     },
     "execution_count": 79,
     "metadata": {},
     "output_type": "execute_result"
    }
   ],
   "source": [
    "iris_noms"
   ]
  },
  {
   "cell_type": "code",
   "execution_count": 80,
   "metadata": {},
   "outputs": [
    {
     "data": {
      "image/svg+xml": [
       "<?xml version=\"1.0\" encoding=\"UTF-8\" standalone=\"no\"?>\n",
       "<!DOCTYPE svg PUBLIC \"-//W3C//DTD SVG 1.1//EN\"\n",
       " \"http://www.w3.org/Graphics/SVG/1.1/DTD/svg11.dtd\">\n",
       "<!-- Generated by graphviz version 2.50.0 (0)\n",
       " -->\n",
       "<!-- Pages: 1 -->\n",
       "<svg width=\"612pt\" height=\"566pt\"\n",
       " viewBox=\"0.00 0.00 612.00 566.00\" xmlns=\"http://www.w3.org/2000/svg\" xmlns:xlink=\"http://www.w3.org/1999/xlink\">\n",
       "<g id=\"graph0\" class=\"graph\" transform=\"scale(1 1) rotate(0) translate(4 562)\">\n",
       "<polygon fill=\"white\" stroke=\"transparent\" points=\"-4,4 -4,-562 608,-562 608,4 -4,4\"/>\n",
       "<!-- A -->\n",
       "<g id=\"node1\" class=\"node\">\n",
       "<title>A</title>\n",
       "<ellipse fill=\"none\" stroke=\"black\" cx=\"337.5\" cy=\"-540\" rx=\"51.99\" ry=\"18\"/>\n",
       "<text text-anchor=\"middle\" x=\"337.5\" y=\"-536.3\" font-family=\"Times New Roman,serif\" font-size=\"14.00\">petal_width</text>\n",
       "</g>\n",
       "<!-- Ag -->\n",
       "<g id=\"node2\" class=\"node\">\n",
       "<title>Ag</title>\n",
       "<polygon fill=\"none\" stroke=\"black\" points=\"336.5,-471 282.5,-471 282.5,-435 336.5,-435 336.5,-471\"/>\n",
       "<text text-anchor=\"middle\" x=\"309.5\" y=\"-449.3\" font-family=\"Times New Roman,serif\" font-size=\"14.00\">setosa</text>\n",
       "</g>\n",
       "<!-- A&#45;&gt;Ag -->\n",
       "<g id=\"edge19\" class=\"edge\">\n",
       "<title>A&#45;&gt;Ag</title>\n",
       "<path fill=\"none\" stroke=\"black\" d=\"M331.83,-521.8C327.96,-510.05 322.75,-494.24 318.34,-480.84\"/>\n",
       "<polygon fill=\"black\" stroke=\"black\" points=\"321.61,-479.58 315.16,-471.18 314.96,-481.77 321.61,-479.58\"/>\n",
       "<text text-anchor=\"middle\" x=\"342.5\" y=\"-492.8\" font-family=\"Times New Roman,serif\" font-size=\"14.00\">&lt;=0.5</text>\n",
       "</g>\n",
       "<!-- Ad -->\n",
       "<g id=\"node3\" class=\"node\">\n",
       "<title>Ad</title>\n",
       "<ellipse fill=\"none\" stroke=\"black\" cx=\"406.5\" cy=\"-453\" rx=\"51.99\" ry=\"18\"/>\n",
       "<text text-anchor=\"middle\" x=\"406.5\" y=\"-449.3\" font-family=\"Times New Roman,serif\" font-size=\"14.00\">petal_width</text>\n",
       "</g>\n",
       "<!-- A&#45;&gt;Ad -->\n",
       "<g id=\"edge20\" class=\"edge\">\n",
       "<title>A&#45;&gt;Ad</title>\n",
       "<path fill=\"none\" stroke=\"black\" d=\"M351.13,-522.21C361.31,-509.67 375.37,-492.35 386.77,-478.3\"/>\n",
       "<polygon fill=\"black\" stroke=\"black\" points=\"389.55,-480.44 393.13,-470.47 384.11,-476.03 389.55,-480.44\"/>\n",
       "<text text-anchor=\"middle\" x=\"389.5\" y=\"-492.8\" font-family=\"Times New Roman,serif\" font-size=\"14.00\">&gt;0.5</text>\n",
       "</g>\n",
       "<!-- Adg -->\n",
       "<g id=\"node4\" class=\"node\">\n",
       "<title>Adg</title>\n",
       "<ellipse fill=\"none\" stroke=\"black\" cx=\"304.5\" cy=\"-366\" rx=\"53.89\" ry=\"18\"/>\n",
       "<text text-anchor=\"middle\" x=\"304.5\" y=\"-362.3\" font-family=\"Times New Roman,serif\" font-size=\"14.00\">petal_length</text>\n",
       "</g>\n",
       "<!-- Ad&#45;&gt;Adg -->\n",
       "<g id=\"edge17\" class=\"edge\">\n",
       "<title>Ad&#45;&gt;Adg</title>\n",
       "<path fill=\"none\" stroke=\"black\" d=\"M387.31,-436.01C371.5,-422.83 348.89,-403.99 331.29,-389.33\"/>\n",
       "<polygon fill=\"black\" stroke=\"black\" points=\"333.52,-386.63 323.6,-382.92 329.04,-392.01 333.52,-386.63\"/>\n",
       "<text text-anchor=\"middle\" x=\"379.5\" y=\"-405.8\" font-family=\"Times New Roman,serif\" font-size=\"14.00\">&lt;=1.7</text>\n",
       "</g>\n",
       "<!-- Add -->\n",
       "<g id=\"node17\" class=\"node\">\n",
       "<title>Add</title>\n",
       "<ellipse fill=\"none\" stroke=\"black\" cx=\"465.5\" cy=\"-366\" rx=\"53.89\" ry=\"18\"/>\n",
       "<text text-anchor=\"middle\" x=\"465.5\" y=\"-362.3\" font-family=\"Times New Roman,serif\" font-size=\"14.00\">petal_length</text>\n",
       "</g>\n",
       "<!-- Ad&#45;&gt;Add -->\n",
       "<g id=\"edge18\" class=\"edge\">\n",
       "<title>Ad&#45;&gt;Add</title>\n",
       "<path fill=\"none\" stroke=\"black\" d=\"M418.16,-435.21C426.64,-422.98 438.28,-406.21 447.9,-392.36\"/>\n",
       "<polygon fill=\"black\" stroke=\"black\" points=\"451.04,-393.97 453.87,-383.76 445.29,-389.98 451.04,-393.97\"/>\n",
       "<text text-anchor=\"middle\" x=\"453.5\" y=\"-405.8\" font-family=\"Times New Roman,serif\" font-size=\"14.00\">&gt;1.7</text>\n",
       "</g>\n",
       "<!-- Adgg -->\n",
       "<g id=\"node5\" class=\"node\">\n",
       "<title>Adgg</title>\n",
       "<ellipse fill=\"none\" stroke=\"black\" cx=\"164.5\" cy=\"-279\" rx=\"55.49\" ry=\"18\"/>\n",
       "<text text-anchor=\"middle\" x=\"164.5\" y=\"-275.3\" font-family=\"Times New Roman,serif\" font-size=\"14.00\">sepal_length</text>\n",
       "</g>\n",
       "<!-- Adg&#45;&gt;Adgg -->\n",
       "<g id=\"edge11\" class=\"edge\">\n",
       "<title>Adg&#45;&gt;Adgg</title>\n",
       "<path fill=\"none\" stroke=\"black\" d=\"M279.47,-349.8C256.92,-336.11 223.56,-315.86 198.57,-300.69\"/>\n",
       "<polygon fill=\"black\" stroke=\"black\" points=\"200.15,-297.55 189.78,-295.35 196.52,-303.53 200.15,-297.55\"/>\n",
       "<text text-anchor=\"middle\" x=\"260.5\" y=\"-318.8\" font-family=\"Times New Roman,serif\" font-size=\"14.00\">&lt;=4.9</text>\n",
       "</g>\n",
       "<!-- Adgd -->\n",
       "<g id=\"node12\" class=\"node\">\n",
       "<title>Adgd</title>\n",
       "<ellipse fill=\"none\" stroke=\"black\" cx=\"304.5\" cy=\"-279\" rx=\"51.99\" ry=\"18\"/>\n",
       "<text text-anchor=\"middle\" x=\"304.5\" y=\"-275.3\" font-family=\"Times New Roman,serif\" font-size=\"14.00\">petal_width</text>\n",
       "</g>\n",
       "<!-- Adg&#45;&gt;Adgd -->\n",
       "<g id=\"edge12\" class=\"edge\">\n",
       "<title>Adg&#45;&gt;Adgd</title>\n",
       "<path fill=\"none\" stroke=\"black\" d=\"M304.5,-347.8C304.5,-336.16 304.5,-320.55 304.5,-307.24\"/>\n",
       "<polygon fill=\"black\" stroke=\"black\" points=\"308,-307.18 304.5,-297.18 301,-307.18 308,-307.18\"/>\n",
       "<text text-anchor=\"middle\" x=\"317.5\" y=\"-318.8\" font-family=\"Times New Roman,serif\" font-size=\"14.00\">&gt;4.9</text>\n",
       "</g>\n",
       "<!-- Adggg -->\n",
       "<g id=\"node6\" class=\"node\">\n",
       "<title>Adggg</title>\n",
       "<ellipse fill=\"none\" stroke=\"black\" cx=\"57.5\" cy=\"-192\" rx=\"53.09\" ry=\"18\"/>\n",
       "<text text-anchor=\"middle\" x=\"57.5\" y=\"-188.3\" font-family=\"Times New Roman,serif\" font-size=\"14.00\">sepal_width</text>\n",
       "</g>\n",
       "<!-- Adgg&#45;&gt;Adggg -->\n",
       "<g id=\"edge5\" class=\"edge\">\n",
       "<title>Adgg&#45;&gt;Adggg</title>\n",
       "<path fill=\"none\" stroke=\"black\" d=\"M144.37,-262.01C127.78,-248.83 104.07,-229.99 85.6,-215.33\"/>\n",
       "<polygon fill=\"black\" stroke=\"black\" points=\"87.54,-212.4 77.54,-208.92 83.19,-217.88 87.54,-212.4\"/>\n",
       "<text text-anchor=\"middle\" x=\"134.5\" y=\"-231.8\" font-family=\"Times New Roman,serif\" font-size=\"14.00\">&lt;=5.0</text>\n",
       "</g>\n",
       "<!-- Adggd -->\n",
       "<g id=\"node11\" class=\"node\">\n",
       "<title>Adggd</title>\n",
       "<polygon fill=\"none\" stroke=\"black\" points=\"200,-210 129,-210 129,-174 200,-174 200,-210\"/>\n",
       "<text text-anchor=\"middle\" x=\"164.5\" y=\"-188.3\" font-family=\"Times New Roman,serif\" font-size=\"14.00\">versicolor</text>\n",
       "</g>\n",
       "<!-- Adgg&#45;&gt;Adggd -->\n",
       "<g id=\"edge6\" class=\"edge\">\n",
       "<title>Adgg&#45;&gt;Adggd</title>\n",
       "<path fill=\"none\" stroke=\"black\" d=\"M164.5,-260.8C164.5,-249.16 164.5,-233.55 164.5,-220.24\"/>\n",
       "<polygon fill=\"black\" stroke=\"black\" points=\"168,-220.18 164.5,-210.18 161,-220.18 168,-220.18\"/>\n",
       "<text text-anchor=\"middle\" x=\"177.5\" y=\"-231.8\" font-family=\"Times New Roman,serif\" font-size=\"14.00\">&gt;5.0</text>\n",
       "</g>\n",
       "<!-- Adgggg -->\n",
       "<g id=\"node7\" class=\"node\">\n",
       "<title>Adgggg</title>\n",
       "<polygon fill=\"none\" stroke=\"black\" points=\"71,-123 0,-123 0,-87 71,-87 71,-123\"/>\n",
       "<text text-anchor=\"middle\" x=\"35.5\" y=\"-101.3\" font-family=\"Times New Roman,serif\" font-size=\"14.00\">versicolor</text>\n",
       "</g>\n",
       "<!-- Adggg&#45;&gt;Adgggg -->\n",
       "<g id=\"edge3\" class=\"edge\">\n",
       "<title>Adggg&#45;&gt;Adgggg</title>\n",
       "<path fill=\"none\" stroke=\"black\" d=\"M53.05,-173.8C50.04,-162.16 45.99,-146.55 42.55,-133.24\"/>\n",
       "<polygon fill=\"black\" stroke=\"black\" points=\"45.84,-131.98 39.95,-123.18 39.06,-133.73 45.84,-131.98\"/>\n",
       "<text text-anchor=\"middle\" x=\"65.5\" y=\"-144.8\" font-family=\"Times New Roman,serif\" font-size=\"14.00\">&lt;=2.4</text>\n",
       "</g>\n",
       "<!-- Adgggd -->\n",
       "<g id=\"node8\" class=\"node\">\n",
       "<title>Adgggd</title>\n",
       "<ellipse fill=\"none\" stroke=\"black\" cx=\"144.5\" cy=\"-105\" rx=\"55.49\" ry=\"18\"/>\n",
       "<text text-anchor=\"middle\" x=\"144.5\" y=\"-101.3\" font-family=\"Times New Roman,serif\" font-size=\"14.00\">sepal_length</text>\n",
       "</g>\n",
       "<!-- Adggg&#45;&gt;Adgggd -->\n",
       "<g id=\"edge4\" class=\"edge\">\n",
       "<title>Adggg&#45;&gt;Adgggd</title>\n",
       "<path fill=\"none\" stroke=\"black\" d=\"M74.27,-174.61C87.39,-161.79 105.81,-143.8 120.49,-129.46\"/>\n",
       "<polygon fill=\"black\" stroke=\"black\" points=\"123.07,-131.83 127.78,-122.34 118.18,-126.82 123.07,-131.83\"/>\n",
       "<text text-anchor=\"middle\" x=\"119.5\" y=\"-144.8\" font-family=\"Times New Roman,serif\" font-size=\"14.00\">&gt;2.4</text>\n",
       "</g>\n",
       "<!-- Adgggdg -->\n",
       "<g id=\"node9\" class=\"node\">\n",
       "<title>Adgggdg</title>\n",
       "<polygon fill=\"none\" stroke=\"black\" points=\"138,-36 73,-36 73,0 138,0 138,-36\"/>\n",
       "<text text-anchor=\"middle\" x=\"105.5\" y=\"-14.3\" font-family=\"Times New Roman,serif\" font-size=\"14.00\">virginica</text>\n",
       "</g>\n",
       "<!-- Adgggd&#45;&gt;Adgggdg -->\n",
       "<g id=\"edge1\" class=\"edge\">\n",
       "<title>Adgggd&#45;&gt;Adgggdg</title>\n",
       "<path fill=\"none\" stroke=\"black\" d=\"M136.07,-86.97C133.29,-81.28 130.22,-74.89 127.5,-69 123.97,-61.37 120.25,-53.04 116.89,-45.4\"/>\n",
       "<polygon fill=\"black\" stroke=\"black\" points=\"120.08,-43.96 112.88,-36.2 113.67,-46.76 120.08,-43.96\"/>\n",
       "<text text-anchor=\"middle\" x=\"144.5\" y=\"-57.8\" font-family=\"Times New Roman,serif\" font-size=\"14.00\">&lt;=4.9</text>\n",
       "</g>\n",
       "<!-- Adgggdd -->\n",
       "<g id=\"node10\" class=\"node\">\n",
       "<title>Adgggdd</title>\n",
       "<polygon fill=\"none\" stroke=\"black\" points=\"210.5,-36 156.5,-36 156.5,0 210.5,0 210.5,-36\"/>\n",
       "<text text-anchor=\"middle\" x=\"183.5\" y=\"-14.3\" font-family=\"Times New Roman,serif\" font-size=\"14.00\">setosa</text>\n",
       "</g>\n",
       "<!-- Adgggd&#45;&gt;Adgggdd -->\n",
       "<g id=\"edge2\" class=\"edge\">\n",
       "<title>Adgggd&#45;&gt;Adgggdd</title>\n",
       "<path fill=\"none\" stroke=\"black\" d=\"M152.93,-86.97C155.71,-81.28 158.78,-74.89 161.5,-69 165.03,-61.37 168.75,-53.04 172.11,-45.4\"/>\n",
       "<polygon fill=\"black\" stroke=\"black\" points=\"175.33,-46.76 176.12,-36.2 168.92,-43.96 175.33,-46.76\"/>\n",
       "<text text-anchor=\"middle\" x=\"181.5\" y=\"-57.8\" font-family=\"Times New Roman,serif\" font-size=\"14.00\">&gt;4.9</text>\n",
       "</g>\n",
       "<!-- Adgdg -->\n",
       "<g id=\"node13\" class=\"node\">\n",
       "<title>Adgdg</title>\n",
       "<polygon fill=\"none\" stroke=\"black\" points=\"283,-210 218,-210 218,-174 283,-174 283,-210\"/>\n",
       "<text text-anchor=\"middle\" x=\"250.5\" y=\"-188.3\" font-family=\"Times New Roman,serif\" font-size=\"14.00\">virginica</text>\n",
       "</g>\n",
       "<!-- Adgd&#45;&gt;Adgdg -->\n",
       "<g id=\"edge9\" class=\"edge\">\n",
       "<title>Adgd&#45;&gt;Adgdg</title>\n",
       "<path fill=\"none\" stroke=\"black\" d=\"M293.83,-261.21C286.12,-249.06 275.55,-232.43 266.78,-218.63\"/>\n",
       "<polygon fill=\"black\" stroke=\"black\" points=\"269.65,-216.61 261.33,-210.05 263.74,-220.37 269.65,-216.61\"/>\n",
       "<text text-anchor=\"middle\" x=\"298.5\" y=\"-231.8\" font-family=\"Times New Roman,serif\" font-size=\"14.00\">&lt;=1.5</text>\n",
       "</g>\n",
       "<!-- Adgdd -->\n",
       "<g id=\"node14\" class=\"node\">\n",
       "<title>Adgdd</title>\n",
       "<ellipse fill=\"none\" stroke=\"black\" cx=\"356.5\" cy=\"-192\" rx=\"55.49\" ry=\"18\"/>\n",
       "<text text-anchor=\"middle\" x=\"356.5\" y=\"-188.3\" font-family=\"Times New Roman,serif\" font-size=\"14.00\">sepal_length</text>\n",
       "</g>\n",
       "<!-- Adgd&#45;&gt;Adgdd -->\n",
       "<g id=\"edge10\" class=\"edge\">\n",
       "<title>Adgd&#45;&gt;Adgdd</title>\n",
       "<path fill=\"none\" stroke=\"black\" d=\"M314.77,-261.21C322.25,-248.98 332.51,-232.21 340.98,-218.36\"/>\n",
       "<polygon fill=\"black\" stroke=\"black\" points=\"344.01,-220.12 346.25,-209.76 338.04,-216.46 344.01,-220.12\"/>\n",
       "<text text-anchor=\"middle\" x=\"347.5\" y=\"-231.8\" font-family=\"Times New Roman,serif\" font-size=\"14.00\">&gt;1.5</text>\n",
       "</g>\n",
       "<!-- Adgddg -->\n",
       "<g id=\"node15\" class=\"node\">\n",
       "<title>Adgddg</title>\n",
       "<polygon fill=\"none\" stroke=\"black\" points=\"328,-123 257,-123 257,-87 328,-87 328,-123\"/>\n",
       "<text text-anchor=\"middle\" x=\"292.5\" y=\"-101.3\" font-family=\"Times New Roman,serif\" font-size=\"14.00\">versicolor</text>\n",
       "</g>\n",
       "<!-- Adgdd&#45;&gt;Adgddg -->\n",
       "<g id=\"edge7\" class=\"edge\">\n",
       "<title>Adgdd&#45;&gt;Adgddg</title>\n",
       "<path fill=\"none\" stroke=\"black\" d=\"M342.94,-174.4C338.3,-168.63 333.11,-162.07 328.5,-156 322.51,-148.12 316.15,-139.4 310.47,-131.48\"/>\n",
       "<polygon fill=\"black\" stroke=\"black\" points=\"313.27,-129.39 304.62,-123.28 307.58,-133.45 313.27,-129.39\"/>\n",
       "<text text-anchor=\"middle\" x=\"345.5\" y=\"-144.8\" font-family=\"Times New Roman,serif\" font-size=\"14.00\">&lt;=6.7</text>\n",
       "</g>\n",
       "<!-- Adgddd -->\n",
       "<g id=\"node16\" class=\"node\">\n",
       "<title>Adgddd</title>\n",
       "<polygon fill=\"none\" stroke=\"black\" points=\"411,-123 346,-123 346,-87 411,-87 411,-123\"/>\n",
       "<text text-anchor=\"middle\" x=\"378.5\" y=\"-101.3\" font-family=\"Times New Roman,serif\" font-size=\"14.00\">virginica</text>\n",
       "</g>\n",
       "<!-- Adgdd&#45;&gt;Adgddd -->\n",
       "<g id=\"edge8\" class=\"edge\">\n",
       "<title>Adgdd&#45;&gt;Adgddd</title>\n",
       "<path fill=\"none\" stroke=\"black\" d=\"M360.95,-173.8C363.96,-162.16 368.01,-146.55 371.45,-133.24\"/>\n",
       "<polygon fill=\"black\" stroke=\"black\" points=\"374.94,-133.73 374.05,-123.18 368.16,-131.98 374.94,-133.73\"/>\n",
       "<text text-anchor=\"middle\" x=\"382.5\" y=\"-144.8\" font-family=\"Times New Roman,serif\" font-size=\"14.00\">&gt;6.7</text>\n",
       "</g>\n",
       "<!-- Addg -->\n",
       "<g id=\"node18\" class=\"node\">\n",
       "<title>Addg</title>\n",
       "<ellipse fill=\"none\" stroke=\"black\" cx=\"465.5\" cy=\"-279\" rx=\"55.49\" ry=\"18\"/>\n",
       "<text text-anchor=\"middle\" x=\"465.5\" y=\"-275.3\" font-family=\"Times New Roman,serif\" font-size=\"14.00\">sepal_length</text>\n",
       "</g>\n",
       "<!-- Add&#45;&gt;Addg -->\n",
       "<g id=\"edge15\" class=\"edge\">\n",
       "<title>Add&#45;&gt;Addg</title>\n",
       "<path fill=\"none\" stroke=\"black\" d=\"M465.5,-347.8C465.5,-336.16 465.5,-320.55 465.5,-307.24\"/>\n",
       "<polygon fill=\"black\" stroke=\"black\" points=\"469,-307.18 465.5,-297.18 462,-307.18 469,-307.18\"/>\n",
       "<text text-anchor=\"middle\" x=\"482.5\" y=\"-318.8\" font-family=\"Times New Roman,serif\" font-size=\"14.00\">&lt;=4.8</text>\n",
       "</g>\n",
       "<!-- Addd -->\n",
       "<g id=\"node21\" class=\"node\">\n",
       "<title>Addd</title>\n",
       "<polygon fill=\"none\" stroke=\"black\" points=\"604,-297 539,-297 539,-261 604,-261 604,-297\"/>\n",
       "<text text-anchor=\"middle\" x=\"571.5\" y=\"-275.3\" font-family=\"Times New Roman,serif\" font-size=\"14.00\">virginica</text>\n",
       "</g>\n",
       "<!-- Add&#45;&gt;Addd -->\n",
       "<g id=\"edge16\" class=\"edge\">\n",
       "<title>Add&#45;&gt;Addd</title>\n",
       "<path fill=\"none\" stroke=\"black\" d=\"M485.44,-349.01C501.46,-336.17 524.18,-317.94 542.26,-303.45\"/>\n",
       "<polygon fill=\"black\" stroke=\"black\" points=\"544.58,-306.07 550.2,-297.08 540.21,-300.61 544.58,-306.07\"/>\n",
       "<text text-anchor=\"middle\" x=\"538.5\" y=\"-318.8\" font-family=\"Times New Roman,serif\" font-size=\"14.00\">&gt;4.8</text>\n",
       "</g>\n",
       "<!-- Addgg -->\n",
       "<g id=\"node19\" class=\"node\">\n",
       "<title>Addgg</title>\n",
       "<polygon fill=\"none\" stroke=\"black\" points=\"501,-210 430,-210 430,-174 501,-174 501,-210\"/>\n",
       "<text text-anchor=\"middle\" x=\"465.5\" y=\"-188.3\" font-family=\"Times New Roman,serif\" font-size=\"14.00\">versicolor</text>\n",
       "</g>\n",
       "<!-- Addg&#45;&gt;Addgg -->\n",
       "<g id=\"edge13\" class=\"edge\">\n",
       "<title>Addg&#45;&gt;Addgg</title>\n",
       "<path fill=\"none\" stroke=\"black\" d=\"M465.5,-260.8C465.5,-249.16 465.5,-233.55 465.5,-220.24\"/>\n",
       "<polygon fill=\"black\" stroke=\"black\" points=\"469,-220.18 465.5,-210.18 462,-220.18 469,-220.18\"/>\n",
       "<text text-anchor=\"middle\" x=\"482.5\" y=\"-231.8\" font-family=\"Times New Roman,serif\" font-size=\"14.00\">&lt;=5.9</text>\n",
       "</g>\n",
       "<!-- Addgd -->\n",
       "<g id=\"node20\" class=\"node\">\n",
       "<title>Addgd</title>\n",
       "<polygon fill=\"none\" stroke=\"black\" points=\"584,-210 519,-210 519,-174 584,-174 584,-210\"/>\n",
       "<text text-anchor=\"middle\" x=\"551.5\" y=\"-188.3\" font-family=\"Times New Roman,serif\" font-size=\"14.00\">virginica</text>\n",
       "</g>\n",
       "<!-- Addg&#45;&gt;Addgd -->\n",
       "<g id=\"edge14\" class=\"edge\">\n",
       "<title>Addg&#45;&gt;Addgd</title>\n",
       "<path fill=\"none\" stroke=\"black\" d=\"M483.5,-261.84C489.89,-255.99 497.09,-249.28 503.5,-243 511.71,-234.96 520.47,-225.96 528.23,-217.84\"/>\n",
       "<polygon fill=\"black\" stroke=\"black\" points=\"530.97,-220.04 535.32,-210.38 525.89,-215.22 530.97,-220.04\"/>\n",
       "<text text-anchor=\"middle\" x=\"531.5\" y=\"-231.8\" font-family=\"Times New Roman,serif\" font-size=\"14.00\">&gt;5.9</text>\n",
       "</g>\n",
       "</g>\n",
       "</svg>\n"
      ],
      "text/plain": [
       "<graphviz.graphs.Digraph at 0x2602995bac0>"
      ]
     },
     "execution_count": 80,
     "metadata": {},
     "output_type": "execute_result"
    }
   ],
   "source": [
    "# Initialiation d'un arbre pour le dataset Iris:\n",
    "arbre_iris = ClassifierArbreNumerique(len(iris_noms), 0.0, iris_noms)\n",
    "\n",
    "# Construction de l'arbre de décision à partir du dataset Iris\n",
    "arbre_iris.train(iris_desc,iris_label)\n",
    "\n",
    "# Construction de la représentation graphique (affichage)\n",
    "graphe_arbre_iris = gv.Digraph(format='png')\n",
    "arbre_iris.affiche(graphe_arbre_iris)\n",
    "\n",
    "# Affichage du graphe obtenu:\n",
    "graphe_arbre_iris"
   ]
  },
  {
   "cell_type": "code",
   "execution_count": 81,
   "metadata": {},
   "outputs": [
    {
     "data": {
      "text/plain": [
       "1.0"
      ]
     },
     "execution_count": 81,
     "metadata": {},
     "output_type": "execute_result"
    }
   ],
   "source": [
    "# mesure du taux de bonne classification\n",
    "arbre_iris.accuracy(iris_desc,iris_label)"
   ]
  },
  {
   "cell_type": "code",
   "execution_count": 82,
   "metadata": {},
   "outputs": [
    {
     "data": {
      "image/svg+xml": [
       "<?xml version=\"1.0\" encoding=\"UTF-8\" standalone=\"no\"?>\n",
       "<!DOCTYPE svg PUBLIC \"-//W3C//DTD SVG 1.1//EN\"\n",
       " \"http://www.w3.org/Graphics/SVG/1.1/DTD/svg11.dtd\">\n",
       "<!-- Generated by graphviz version 2.50.0 (0)\n",
       " -->\n",
       "<!-- Pages: 1 -->\n",
       "<svg width=\"152pt\" height=\"131pt\"\n",
       " viewBox=\"0.00 0.00 151.50 131.00\" xmlns=\"http://www.w3.org/2000/svg\" xmlns:xlink=\"http://www.w3.org/1999/xlink\">\n",
       "<g id=\"graph0\" class=\"graph\" transform=\"scale(1 1) rotate(0) translate(4 127)\">\n",
       "<polygon fill=\"white\" stroke=\"transparent\" points=\"-4,4 -4,-127 147.5,-127 147.5,4 -4,4\"/>\n",
       "<!-- A -->\n",
       "<g id=\"node1\" class=\"node\">\n",
       "<title>A</title>\n",
       "<ellipse fill=\"none\" stroke=\"black\" cx=\"67\" cy=\"-105\" rx=\"51.99\" ry=\"18\"/>\n",
       "<text text-anchor=\"middle\" x=\"67\" y=\"-101.3\" font-family=\"Times New Roman,serif\" font-size=\"14.00\">petal_width</text>\n",
       "</g>\n",
       "<!-- Ag -->\n",
       "<g id=\"node2\" class=\"node\">\n",
       "<title>Ag</title>\n",
       "<polygon fill=\"none\" stroke=\"black\" points=\"54,-36 0,-36 0,0 54,0 54,-36\"/>\n",
       "<text text-anchor=\"middle\" x=\"27\" y=\"-14.3\" font-family=\"Times New Roman,serif\" font-size=\"14.00\">setosa</text>\n",
       "</g>\n",
       "<!-- A&#45;&gt;Ag -->\n",
       "<g id=\"edge1\" class=\"edge\">\n",
       "<title>A&#45;&gt;Ag</title>\n",
       "<path fill=\"none\" stroke=\"black\" d=\"M59.1,-87.21C53.49,-75.29 45.85,-59.06 39.43,-45.42\"/>\n",
       "<polygon fill=\"black\" stroke=\"black\" points=\"42.45,-43.61 35.02,-36.05 36.11,-46.59 42.45,-43.61\"/>\n",
       "<text text-anchor=\"middle\" x=\"67\" y=\"-57.8\" font-family=\"Times New Roman,serif\" font-size=\"14.00\">&lt;=0.5</text>\n",
       "</g>\n",
       "<!-- Ad -->\n",
       "<g id=\"node3\" class=\"node\">\n",
       "<title>Ad</title>\n",
       "<polygon fill=\"none\" stroke=\"black\" points=\"143.5,-36 72.5,-36 72.5,0 143.5,0 143.5,-36\"/>\n",
       "<text text-anchor=\"middle\" x=\"108\" y=\"-14.3\" font-family=\"Times New Roman,serif\" font-size=\"14.00\">versicolor</text>\n",
       "</g>\n",
       "<!-- A&#45;&gt;Ad -->\n",
       "<g id=\"edge2\" class=\"edge\">\n",
       "<title>A&#45;&gt;Ad</title>\n",
       "<path fill=\"none\" stroke=\"black\" d=\"M76.56,-87.06C79.68,-81.37 83.08,-74.96 86,-69 89.7,-61.46 93.47,-53.15 96.83,-45.5\"/>\n",
       "<polygon fill=\"black\" stroke=\"black\" points=\"100.06,-46.85 100.81,-36.29 93.63,-44.07 100.06,-46.85\"/>\n",
       "<text text-anchor=\"middle\" x=\"106\" y=\"-57.8\" font-family=\"Times New Roman,serif\" font-size=\"14.00\">&gt;0.5</text>\n",
       "</g>\n",
       "</g>\n",
       "</svg>\n"
      ],
      "text/plain": [
       "<graphviz.graphs.Digraph at 0x2602995b850>"
      ]
     },
     "execution_count": 82,
     "metadata": {},
     "output_type": "execute_result"
    }
   ],
   "source": [
    "# Nouvel essai avec un seuil d'entropie élevé:\n",
    "# Initialiation d'un arbre pour le dataset Elections:\n",
    "arbre_iris2 = ClassifierArbreNumerique(len(iris_noms),0.75, iris_noms)\n",
    "\n",
    "# Construction de l'arbre de décision à partir du dataset Elections\n",
    "arbre_iris2.train(iris_desc,iris_label)\n",
    "\n",
    "# Construction de la représentation graphique (affichage)\n",
    "graphe_arbre_iris2 = gv.Digraph(format='png')\n",
    "arbre_iris2.affiche(graphe_arbre_iris2)\n",
    "\n",
    "# Affichage du graphe obtenu:\n",
    "graphe_arbre_iris2"
   ]
  },
  {
   "cell_type": "code",
   "execution_count": 83,
   "metadata": {},
   "outputs": [
    {
     "data": {
      "text/plain": [
       "0.66"
      ]
     },
     "execution_count": 83,
     "metadata": {},
     "output_type": "execute_result"
    }
   ],
   "source": [
    "# mesure du taux de bonne classification\n",
    "arbre_iris2.accuracy(iris_desc,iris_label)"
   ]
  },
  {
   "cell_type": "markdown",
   "metadata": {},
   "source": [
    "<font color=\"RED\" size=\"+1\"><b>[Q]</b></font> Tester cet algorithme en effectuant une validation croisée sur les données des iris (en prenant $0.0$ comme seuil d'entropie)."
   ]
  },
  {
   "cell_type": "code",
   "execution_count": 90,
   "metadata": {},
   "outputs": [
    {
     "name": "stdout",
     "output_type": "stream",
     "text": [
      "Remarque: j'ai mis des affichage dans la fonction validation croisée afin de montrer ce qui se passe.\n",
      "\n",
      "\n",
      "Validation croisée sur les iris avec comme seuil  0.0\n",
      "Perf obtenues :  [1.0, 0.9333333333333333, 1.0, 0.9333333333333333, 0.9333333333333333, 0.8, 0.9333333333333333, 1.0, 0.9333333333333333, 0.9333333333333333]\n",
      "\n",
      "Accuracy moyenne: 0.940\técart type: 0.055\n"
     ]
    }
   ],
   "source": [
    "print(\"Remarque: j'ai mis des affichage dans la fonction validation croisée afin de montrer ce qui se passe.\\n\")\n",
    "\n",
    "# ################### A COMPLETER \n",
    "can = ClassifierArbreNumerique(len(iris_desc),0.0)\n",
    " \n",
    "(res_all, res_moy, res_sd) = ev.validation_croisee(can, (iris_desc, iris_label), 10)\n",
    "\n",
    "# ################### \n",
    "       \n",
    "print(\"\\nValidation croisée sur les iris avec comme seuil \",0.0)\n",
    "print(\"Perf obtenues : \",res_all)\n",
    "print(f'\\nAccuracy moyenne: {res_moy:.3f}\\técart type: {res_sd:.3f}')"
   ]
  },
  {
   "cell_type": "markdown",
   "metadata": {},
   "source": [
    "<font color=\"RED\" size=\"+1\"><b>[Q]</b></font> Etudier la variation du taux de bonne classification lorsque l'on fait varier le seuil d'entropie utilisé pour l'apprentissage. Tracer ensuite la courbe de l'accuracy moyenne (incluant son écart type) quand le seuil d'entropie varie."
   ]
  },
  {
   "cell_type": "code",
   "execution_count": 94,
   "metadata": {},
   "outputs": [
    {
     "data": {
      "image/png": "[encoded data removed]",
      "text/plain": [
       "<Figure size 432x288 with 1 Axes>"
      ]
     },
     "metadata": {
      "needs_background": "light"
     },
     "output_type": "display_data"
    }
   ],
   "source": [
    "s = [i/100 for i in range(110)]\n",
    "e = []\n",
    "for ns in s:\n",
    "    can = ClassifierArbreNumerique(len(iris_desc),ns)\n",
    "    _, res_moy, _ = ev.validation_croisee(can, (iris_desc, iris_label), 10)\n",
    "    e.append(res_moy)\n",
    "plt.plot(s,e)\n",
    "plt.show()"
   ]
  },
  {
   "cell_type": "markdown",
   "metadata": {},
   "source": [
    " Pour utiliser la fonction lineplot de seaborn, on doit mettre les résultats obtenus dans un dataframe :\n",
    "- avec 2 colonnes: 'Entropie' et 'Accuracy'\n",
    "- chaque ligne donne le résultat d'un taux de bonne classification obtenu dans la validation croisée pour une valeur de seuil d'entropie : il y a donc 10 lignes par seuil d'entropie, chaque ligne avec le résultat d'une étape de la validation croisée.\n",
    "\n",
    "<font color=\"RED\" size=\"+1\"><b>[Q]</b></font> Construire le dataframe ainsi défini."
   ]
  },
  {
   "cell_type": "code",
   "execution_count": 99,
   "metadata": {},
   "outputs": [
    {
     "data": {
      "text/html": [
       "<div>\n",
       "<style scoped>\n",
       "    .dataframe tbody tr th:only-of-type {\n",
       "        vertical-align: middle;\n",
       "    }\n",
       "\n",
       "    .dataframe tbody tr th {\n",
       "        vertical-align: top;\n",
       "    }\n",
       "\n",
       "    .dataframe thead th {\n",
       "        text-align: right;\n",
       "    }\n",
       "</style>\n",
       "<table border=\"1\" class=\"dataframe\">\n",
       "  <thead>\n",
       "    <tr style=\"text-align: right;\">\n",
       "      <th></th>\n",
       "      <th>Entropie</th>\n",
       "      <th>Accuracy</th>\n",
       "    </tr>\n",
       "  </thead>\n",
       "  <tbody>\n",
       "    <tr>\n",
       "      <th>0</th>\n",
       "      <td>0.00</td>\n",
       "      <td>0.940000</td>\n",
       "    </tr>\n",
       "    <tr>\n",
       "      <th>1</th>\n",
       "      <td>0.01</td>\n",
       "      <td>0.940000</td>\n",
       "    </tr>\n",
       "    <tr>\n",
       "      <th>2</th>\n",
       "      <td>0.02</td>\n",
       "      <td>0.940000</td>\n",
       "    </tr>\n",
       "    <tr>\n",
       "      <th>3</th>\n",
       "      <td>0.03</td>\n",
       "      <td>0.940000</td>\n",
       "    </tr>\n",
       "    <tr>\n",
       "      <th>4</th>\n",
       "      <td>0.04</td>\n",
       "      <td>0.940000</td>\n",
       "    </tr>\n",
       "    <tr>\n",
       "      <th>...</th>\n",
       "      <td>...</td>\n",
       "      <td>...</td>\n",
       "    </tr>\n",
       "    <tr>\n",
       "      <th>105</th>\n",
       "      <td>1.05</td>\n",
       "      <td>0.333333</td>\n",
       "    </tr>\n",
       "    <tr>\n",
       "      <th>106</th>\n",
       "      <td>1.06</td>\n",
       "      <td>0.333333</td>\n",
       "    </tr>\n",
       "    <tr>\n",
       "      <th>107</th>\n",
       "      <td>1.07</td>\n",
       "      <td>0.333333</td>\n",
       "    </tr>\n",
       "    <tr>\n",
       "      <th>108</th>\n",
       "      <td>1.08</td>\n",
       "      <td>0.333333</td>\n",
       "    </tr>\n",
       "    <tr>\n",
       "      <th>109</th>\n",
       "      <td>1.09</td>\n",
       "      <td>0.333333</td>\n",
       "    </tr>\n",
       "  </tbody>\n",
       "</table>\n",
       "<p>110 rows × 2 columns</p>\n",
       "</div>"
      ],
      "text/plain": [
       "     Entropie  Accuracy\n",
       "0        0.00  0.940000\n",
       "1        0.01  0.940000\n",
       "2        0.02  0.940000\n",
       "3        0.03  0.940000\n",
       "4        0.04  0.940000\n",
       "..        ...       ...\n",
       "105      1.05  0.333333\n",
       "106      1.06  0.333333\n",
       "107      1.07  0.333333\n",
       "108      1.08  0.333333\n",
       "109      1.09  0.333333\n",
       "\n",
       "[110 rows x 2 columns]"
      ]
     },
     "execution_count": 99,
     "metadata": {},
     "output_type": "execute_result"
    }
   ],
   "source": [
    "df_res = pd.DataFrame(columns=['Entropie', 'Accuracy'])\n",
    "\n",
    "# ################### A COMPLETER \n",
    "for i in range(len(s)):\n",
    "    df_res.loc[i]=[s[i],e[i]]\n",
    "# ################### \n",
    "# Le dataframe obtenu :\n",
    "df_res"
   ]
  },
  {
   "cell_type": "markdown",
   "metadata": {},
   "source": [
    "L'affichage se fait avec la fonction `lineplot` de seaborn. \n",
    "\n",
    "**Remarque**: le calcul de la moyenne et de l'écart type pour une même valeur de seuil est géré par la fonction."
   ]
  },
  {
   "cell_type": "code",
   "execution_count": 100,
   "metadata": {},
   "outputs": [
    {
     "data": {
      "text/plain": [
       "<AxesSubplot:xlabel='Entropie', ylabel='Accuracy'>"
      ]
     },
     "execution_count": 100,
     "metadata": {},
     "output_type": "execute_result"
    },
    {
     "data": {
      "image/png": "[encoded data removed]",
      "text/plain": [
       "<Figure size 432x288 with 1 Axes>"
      ]
     },
     "metadata": {},
     "output_type": "display_data"
    }
   ],
   "source": [
    "sns.set_theme(style=\"whitegrid\")\n",
    "sns.lineplot(x=\"Entropie\", y=\"Accuracy\", data=df_res)"
   ]
  },
  {
   "cell_type": "code",
   "execution_count": 110,
   "metadata": {},
   "outputs": [
    {
     "name": "stdout",
     "output_type": "stream",
     "text": [
      "highest accuracy: 0.9466666666666667\n"
     ]
    }
   ],
   "source": [
    "print(\"highest accuracy:\",max(e))"
   ]
  },
  {
   "cell_type": "markdown",
   "metadata": {},
   "source": [
    "<font color=\"RED\" size=\"+1\"><b>[Q]</b></font> Comparer les résultats obtenus avec la validation croisée avec les résultats obtenus avec les autres classifieurs (numériques) que vous avez implémentés.\n",
    "\n",
    "<b>Remarque:</b> pour pouvoir utiliser les algorithmes précédents (knn, perceptron,...) vous devez utiliser leur version multi-classes (cf. TME 2)."
   ]
  },
  {
   "cell_type": "code",
   "execution_count": 109,
   "metadata": {},
   "outputs": [
    {
     "name": "stdout",
     "output_type": "stream",
     "text": [
      "kbest= 7\n",
      "\n",
      "Accuracy moyenne: 0.980\técart type: 0.031\n"
     ]
    }
   ],
   "source": [
    "acc_max = 0\n",
    "kbest = 0\n",
    "ebest = 0\n",
    "for k in range(1,51):\n",
    "    knn = cl.ClassifierKNN_MC(len(iris_desc),k)\n",
    "    (res_all, res_moy, res_sd) = ev.validation_croisee(knn, (iris_desc, iris_label), 10)\n",
    "    if res_moy > acc_max:\n",
    "        acc_max = res_moy\n",
    "        ebest = res_sd\n",
    "        kbest = k\n",
    "print(\"kbest=\",kbest)\n",
    "print(f'\\nAccuracy moyenne: {acc_max:.3f}\\técart type: {ebest:.3f}')"
   ]
  },
  {
   "cell_type": "markdown",
   "metadata": {},
   "source": [
    "On peut voir que l'algorithme knn est plus précis que l'arbre de décision numérique. De plus, l'algorithme perceptron ne peut pas résoudre le problème que le nombre de types d'étiquettes n'est pas 2, car son principe est de diviser l'espace vectoriel en deux parties avec le vecteur w."
   ]
  },
  {
   "cell_type": "markdown",
   "metadata": {},
   "source": [
    "## Pour aller plus loin... (optionnel)\n",
    "\n",
    "La version générale d'un classifieur par arbre de décision doit pouvoir gérer des datasets contenant à la fois des variables numériques mais aussi catégorielles. En \"fusionnant\" les 2 classes `ClassifierArbreDecision` et `ClassifierArbreNumerique`, définissez une classe `ClassifierArbre` qui implémente cette version générale."
   ]
  },
  {
   "cell_type": "code",
   "execution_count": null,
   "metadata": {},
   "outputs": [],
   "source": []
  }
 ],
 "metadata": {
  "kernelspec": {
   "display_name": "Python 3 (ipykernel)",
   "language": "python",
   "name": "python3"
  },
  "language_info": {
   "codemirror_mode": {
    "name": "ipython",
    "version": 3
   },
   "file_extension": ".py",
   "mimetype": "text/x-python",
   "name": "python",
   "nbconvert_exporter": "python",
   "pygments_lexer": "ipython3",
   "version": "3.9.12"
  }
 },
 "nbformat": 4,
 "nbformat_minor": 1
}
