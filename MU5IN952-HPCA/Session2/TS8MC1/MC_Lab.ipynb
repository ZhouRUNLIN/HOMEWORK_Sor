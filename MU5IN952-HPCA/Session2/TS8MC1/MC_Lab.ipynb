{
 "cells": [
  {
   "cell_type": "markdown",
   "id": "77a4b902",
   "metadata": {},
   "source": [
    "Massive parallel programming on GPUs and applications, by Lokman ABBAS TURKI  \n",
    "\n",
    "# 8 Random number generators and Monte Carlo simulation\n",
    "\n",
    "## 8.1 Objective\n",
    "\n",
    "This is the first laboratory dedicated to Monte Carlo simulation on GPU. Monte Carlo simulation for linear problems is known to be suitable for parallel architectures. It is therefore a simple and realistic exercise to check the assimilation of the different concepts introduced during the course as well as in the other practical exercises. The first and most important element of Monte Carlo is the choice of the appropriate random number generator (RNG). RNGs are statically defined by a known inductive expression and dynamically specified by their state. In a parallel implementation, if we associate an RNG with each thread, the size of the state becomes an issue. Indeed, a large state multiplied by the number of threads occupies a significant cache memory space, and the latter becomes less available for other tasks.\n",
    "\n",
    "The NP function is used to check the simulation results and thus it should not be modified.\n",
    "\n",
    "As usual, do not forget to use CUDA documentation, especially:\n",
    "\n",
    "1) the specifications of CUDA API functions within the [CUDA_Runtime_API](https://docs.nvidia.com/cuda/cuda-runtime-api/index.html).\n",
    "2) the examples of how to use the CUDA API functions in [CUDA_C_Programming_Guide](https://docs.nvidia.com/cuda/cuda-c-programming-guide/index.html)\n",
    "\n",
    "Add to this,\n",
    "\n",
    "3) the documentation of the CUDA random number generation library [cuRAND Library](https://docs.nvidia.com/cuda/curand/index.html).\n"
   ]
  },
  {
   "cell_type": "markdown",
   "id": "683675c3-4e12-4638-9c69-bda98b3bdf48",
   "metadata": {},
   "source": [
    "## 8.2 Content\n",
    "\n",
    "Compile MC.cu using"
   ]
  },
  {
   "cell_type": "code",
   "execution_count": null,
   "id": "a2d6fdf8",
   "metadata": {},
   "outputs": [],
   "source": [
    "!nvcc MC.cu -o MC"
   ]
  },
  {
   "cell_type": "markdown",
   "id": "273966c6",
   "metadata": {},
   "source": [
    "Execute MC using (on Microsoft Windows OS ./ is not needed)"
   ]
  },
  {
   "cell_type": "code",
   "execution_count": null,
   "id": "bc6c946a",
   "metadata": {},
   "outputs": [],
   "source": [
    "!./MC"
   ]
  },
  {
   "cell_type": "markdown",
   "id": "6697bcea",
   "metadata": {},
   "source": [
    "As long as you did not include any additional instruction in the file MC.cu, the execution above is to return 0. At least, no compilation error is detected by the compiler!\n",
    "\n",
    "\n",
    "### 8.2.1 (Pseudo) Random number generators, init_curand_state_k\n",
    "\n",
    "Using cuRAND documentation, we need to find a good RNG and understand how it can be used for our simulation.\n",
    "\n",
    "a) Which of HOST API or DEVICE API should we use for the random numbers generation?\n",
    "\n",
    "b) Print the size of various state options (XORWOW, Mtgp32_t, and others) and explain why some of them must not be used.\n",
    "\n",
    "c) Which RNG should you use by default? Explain how its initialization is performed.\n",
    "\n",
    "d) Complete the syntax of init_curand_state_k\n",
    "\n",
    "\n",
    "### 8.2.2 Monte Carlo simulation MC_k1, with a reduction on the host\n",
    "\n",
    "sum and sum2 are two variables that should respectively contain the estimation of the first and the second moment of the actualized payoff: exp(-rT)*(x-K)_+. Their computation with an average is performed on the host. Thus, one needs only to simulate the realizations of the actualized payoff on the device.\n",
    "\n",
    "a) Define the arrays of the actualized payoffs and perform the right copy.\n",
    "\n",
    "b) Inspired by examples from cuRAND documentation, define the kernel MC_k1. \n",
    "\n",
    "c) In which situation should we copy back the state to the global memory before exiting the kernel MC_k1?\n",
    "\n",
    "d) See how the execution time changes with respect to n. What do you conclude about the scalability of Monte Carlo simulation?"
   ]
  },
  {
   "cell_type": "code",
   "execution_count": null,
   "id": "7fffced9-8f0d-4c5d-bed0-9908fbe43464",
   "metadata": {},
   "outputs": [],
   "source": []
  }
 ],
 "metadata": {
  "kernelspec": {
   "display_name": "Python 3 (ipykernel)",
   "language": "python",
   "name": "python3"
  },
  "language_info": {
   "codemirror_mode": {
    "name": "ipython",
    "version": 3
   },
   "file_extension": ".py",
   "mimetype": "text/x-python",
   "name": "python",
   "nbconvert_exporter": "python",
   "pygments_lexer": "ipython3",
   "version": "3.8.18"
  }
 },
 "nbformat": 4,
 "nbformat_minor": 5
}
