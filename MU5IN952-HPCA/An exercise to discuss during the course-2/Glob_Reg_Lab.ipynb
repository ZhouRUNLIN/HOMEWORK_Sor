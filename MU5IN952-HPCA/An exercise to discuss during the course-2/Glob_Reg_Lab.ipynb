{
 "cells": [
  {
   "cell_type": "markdown",
   "id": "77a4b902",
   "metadata": {},
   "source": [
    "Massive parallel programming on GPUs and applications, by Lokman ABBAS TURKI  \n",
    "\n",
    "# 5 Normal cumulative distribution function, using global and local memory allocation, and registers \n",
    "\n",
    "## 5.1 Objective\n",
    "\n",
    "The main purpose of this lab is to introduce the student to the use of different memory spaces available on the device. The example presented here is an approximation of the Normal cumulative distribution function that involves the value of some parameters. We consider storing these parameters in global memory, local memory, and registers. <b>Keep in mind that this is only an exercise in which we show how to use each type of memory space. Indeed, from the beginning of this lab, we already know that the best option for this function is to use registers!</b>\n",
    "\n",
    "The presented example will be continued, in another session, with the use of other memory spaces on the device.\n",
    "\n",
    "As usual, I urge students to open CUDA documentation, especially:\n",
    "\n",
    "1) the specifications of CUDA API functions within the [CUDA_Runtime_API](https://docs.nvidia.com/cuda/cuda-runtime-api/index.html).\n",
    "2) the examples of how to use the CUDA API functions in [CUDA_C_Programming_Guide](https://docs.nvidia.com/cuda/cuda-c-programming-guide/index.html)\n"
   ]
  },
  {
   "cell_type": "markdown",
   "id": "683675c3-4e12-4638-9c69-bda98b3bdf48",
   "metadata": {},
   "source": [
    "## 5.2 Content\n",
    "\n",
    "Compile NP.cu using"
   ]
  },
  {
   "cell_type": "code",
   "execution_count": null,
   "id": "a2d6fdf8",
   "metadata": {},
   "outputs": [],
   "source": [
    "!nvcc NP.cu -o NP"
   ]
  },
  {
   "cell_type": "markdown",
   "id": "273966c6",
   "metadata": {},
   "source": [
    "Execute NP using (on Microsoft Windows OS ./ is not needed)"
   ]
  },
  {
   "cell_type": "code",
   "execution_count": null,
   "id": "bc6c946a",
   "metadata": {},
   "outputs": [],
   "source": [
    "!./NP"
   ]
  },
  {
   "cell_type": "markdown",
   "id": "6697bcea",
   "metadata": {},
   "source": [
    "As long as you did not include any additional instruction in the file NP.cu, the execution above is not supposed to return any value. At least, no compilation error is detected by the compiler!\n",
    "\n",
    "In the following questions you will need to include your own code in the file NP.cu, then compile it and execute it. In the following sections, we assume that the device is a pre-Hopper GPU (otherwise add -arch=compute_80 -code=sm_Yy, when Yy>=90).\n",
    "\n",
    "\n",
    "### 5.2.1 Fewer values in global memory using synchronization among threads\n",
    "\n",
    "For kernel NP_GLOwSync_k, we want to keep using global memory Glob as in NP_GLO_k but with fewer values that are shared by threads within the same block.\n",
    "\n",
    "a) How should you set the values of Glob within the kernel NP_GLOwSync_k?\n",
    "\n",
    "b) Complete the syntax of the kernel NP_GLOwSync_k.\n",
    "\n",
    "c) Explain why the execution time decreased when compared to NP_GLO_k.\n",
    "\n",
    "\n",
    "### 5.2.2 Using local memory\n",
    "\n",
    "For kernel NP_LOC_k, we replace the use of the global memory Glob with local memory array allocation associated with each thread.\n",
    "\n",
    "a) Is the local memory a real memory space on the device?\n",
    "\n",
    "b) Complete the syntax of the kernel NP_LOC_k.\n",
    "\n",
    "c) Compare the execution time of NP_LOC_k to NP_GLOwSync_k and to NP_GLO_k using !nvprof ./NP.\n",
    "\n",
    "\n",
    "### 5.2.3 Using registers\n",
    "\n",
    "For kernel NP_REG_k, we replace the use of the local memory array specific to each thread with registers also associated with each thread.\n",
    "\n",
    "a) Could we define arrays within registers?\n",
    "\n",
    "b) Complete the syntax of the kernel NP_REG_k.\n",
    "\n",
    "c) Compare the execution time of NP_REG_k to NP_LOC_k and to NP_GLOwSync_k using !nvprof ./NP.\n"
   ]
  },
  {
   "cell_type": "code",
   "execution_count": null,
   "id": "7fffced9-8f0d-4c5d-bed0-9908fbe43464",
   "metadata": {},
   "outputs": [],
   "source": []
  }
 ],
 "metadata": {
  "kernelspec": {
   "display_name": "Python 3 (ipykernel)",
   "language": "python",
   "name": "python3"
  },
  "language_info": {
   "codemirror_mode": {
    "name": "ipython",
    "version": 3
   },
   "file_extension": ".py",
   "mimetype": "text/x-python",
   "name": "python",
   "nbconvert_exporter": "python",
   "pygments_lexer": "ipython3",
   "version": "3.8.18"
  }
 },
 "nbformat": 4,
 "nbformat_minor": 5
}
