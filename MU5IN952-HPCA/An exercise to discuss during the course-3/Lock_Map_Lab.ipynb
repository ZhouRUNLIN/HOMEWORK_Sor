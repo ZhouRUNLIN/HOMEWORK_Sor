{
 "cells": [
  {
   "cell_type": "markdown",
   "id": "8e4e3161-8706-4a8f-a0e8-c0dbaad039cb",
   "metadata": {},
   "source": [
    "Massive parallel programming on GPUs and applications, by Lokman ABBAS TURKI  \n",
    "\n",
    "# 14. Locked memory and mapped memory on the host\n",
    "\n",
    "## 14.1 Objective\n",
    "\n",
    "The main purpose of this lab is to show additional options for memory allocation on the host memory. We already know the usual pageable memory space allocated with malloc and the unified memory that, depending on the example, can be located on the host memory. The benefits of using locked and mapped memory allocations on the host depend mainly on the considered applications. However, there are at least two situations for which locked and mapped are difficult to replace: (i) asynchronous data transfer using locked memory, (ii) virtually extending the device RAM using mapped memory. In the following exercise, we see what is the syntax associated with each one of these options.\n",
    "\n",
    "Students need to use the CUDA documentation, in particular:\n",
    "\n",
    "1) the specifications of CUDA API functions within the [CUDA_Runtime_API](https://docs.nvidia.com/cuda/cuda-runtime-api/index.html).\n",
    "2) the examples of how to use the CUDA API functions in [CUDA_C_Programming_Guide](https://docs.nvidia.com/cuda/cuda-c-programming-guide/index.html)"
   ]
  },
  {
   "cell_type": "markdown",
   "id": "248f1393-e53b-4d0f-9787-502ab785ebf8",
   "metadata": {},
   "source": [
    "## 14.2 Content\n",
    "\n",
    "Compile MemComp.cu using"
   ]
  },
  {
   "cell_type": "code",
   "execution_count": null,
   "id": "6008012e",
   "metadata": {},
   "outputs": [],
   "source": [
    "!nvcc MemComp.cu -o MemC"
   ]
  },
  {
   "cell_type": "markdown",
   "id": "5d674be7",
   "metadata": {},
   "source": [
    "Execute MemC using (on Windows machine ./ is not needed)"
   ]
  },
  {
   "cell_type": "code",
   "execution_count": null,
   "id": "17f78bc4",
   "metadata": {},
   "outputs": [],
   "source": [
    "!./MemC"
   ]
  },
  {
   "cell_type": "markdown",
   "id": "c9272cf6-62c7-4a44-8a46-a47933c62136",
   "metadata": {},
   "source": [
    "As long as you did not include any additional instruction in the file MemC.cu, the execution above is supposed to return\n",
    "\n",
    "Processing time when using malloc CPU2GPU: 0.044589 s  \n",
    "Processing time when using malloc GPU2CPU: 0.049532 s  \n",
    "Processing time when using cudaHostAlloc CPU2GPU: 0.000000 s  \n",
    "Processing time when using cudaHostAlloc GPU2CPU: 0.000000 s  \n",
    "Processing time for mapped memory: 0.000000 s  \n",
    "\n",
    "Of course, the execution time changes at each call and depends on the machine's performance.\n",
    "\n",
    "### 14.2.1 Locked memory allocation\n",
    "\n",
    "a) Explain the choice of threads and of block <<<(size+127)/128,128>>> in lines 50 and 52.\n",
    "\n",
    "b) Do we need to launch kernels to compare data transfer of locked to pageable memory?\n",
    "\n",
    "c) Use cudaHostAlloc, cudaFreeHost, and complete the syntax of hostAlloc_trans.\n",
    "\n",
    "d) Compare the execution time of hostAlloc_trans to malloc_trans.\n",
    "\n",
    "\n",
    "### 14.2.2 Mapped memory\n",
    "\n",
    "a) Using cudaDeviceGetAttribute, check if you can map the host memory.\n",
    "\n",
    "b) Do we need to launch kernels to compare data transfer of locked and pageable to mapped memory?\n",
    "\n",
    "c) Call cudaSetDeviceFlags(cudaDeviceMapHost) at the beginning of the main function.\n",
    "\n",
    "d) cudaHostAlloc should be called with the option cudaHostAllocMapped.\n",
    "\n",
    "e) Get the GPU pointer using cudaHostGetDevicePointer.\n",
    "\n",
    "f) How to check that the result is correct?\n",
    "\n",
    "g) Compare the three solutions."
   ]
  },
  {
   "cell_type": "code",
   "execution_count": null,
   "id": "381c9f94-20dd-4985-b36f-b89de560f73b",
   "metadata": {},
   "outputs": [],
   "source": []
  }
 ],
 "metadata": {
  "kernelspec": {
   "display_name": "Python 3 (ipykernel)",
   "language": "python",
   "name": "python3"
  },
  "language_info": {
   "codemirror_mode": {
    "name": "ipython",
    "version": 3
   },
   "file_extension": ".py",
   "mimetype": "text/x-python",
   "name": "python",
   "nbconvert_exporter": "python",
   "pygments_lexer": "ipython3",
   "version": "3.8.18"
  }
 },
 "nbformat": 4,
 "nbformat_minor": 5
}
