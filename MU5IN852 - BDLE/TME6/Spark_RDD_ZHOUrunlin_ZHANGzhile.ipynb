{
  "nbformat": 4,
  "nbformat_minor": 0,
  "metadata": {
    "application/vnd.databricks.v1+notebook": {
      "notebookName": "Spark-RDD-2021_solutions",
      "dashboards": [],
      "notebookMetadata": {
        "pythonIndentUnit": 2
      },
      "language": "python",
      "widgets": {},
      "notebookOrigID": 2832703719774903
    },
    "colab": {
      "provenance": [],
      "collapsed_sections": [
        "R5ZJa3iU_2bh"
      ],
      "toc_visible": true
    },
    "language_info": {
      "name": "python"
    },
    "kernelspec": {
      "name": "python3",
      "display_name": "Python 3"
    }
  },
  "cells": [
    {
      "cell_type": "markdown",
      "metadata": {
        "application/vnd.databricks.v1+cell": {
          "title": "",
          "showTitle": false,
          "inputWidgets": {},
          "nuid": "59ad38d8-fb28-470f-a038-842f83d07a09"
        },
        "id": "kCaImCHx_2a_"
      },
      "source": [
        "* Master DAC - BDLE\n",
        "* Author: Mohamed-Amine Baazizi\n",
        "* Affiliation: LIP6 - Faculté des Sciences - Sorbonne Université\n",
        "* Email: mohamed-amine.baazizi@lip6.fr\n",
        "* October 2023\n",
        "\n"
      ]
    },
    {
      "cell_type": "markdown",
      "source": [
        "# Map-Reduce in Spark"
      ],
      "metadata": {
        "id": "5NmlqS4gU5oq"
      }
    },
    {
      "cell_type": "markdown",
      "metadata": {
        "application/vnd.databricks.v1+cell": {
          "title": "",
          "showTitle": false,
          "inputWidgets": {},
          "nuid": "9fba542c-e80b-4537-97be-d3af3cac7e19"
        },
        "id": "ee9AXss0_2bB"
      },
      "source": [
        "The goal of this lab is to write programs in the Map-Reduce paradigm using the RDD-python API of Spark.\n",
        "The API for documentation is available here:\n",
        "\n",
        "- https://spark.apache.org/docs/latest/api/python/reference/pyspark.html\n",
        "\n",
        "\n",
        "You are expected to use the following higher order functions like `map, flatMap, filter, reduceByKey, groupByKey, join, zipWithIndex` and the standard relational operators `union, intersection, subtract, join` and to favor functional-style programming."
      ]
    },
    {
      "cell_type": "code",
      "metadata": {
        "id": "kPlI6WHxAMHj"
      },
      "source": [],
      "execution_count": null,
      "outputs": []
    },
    {
      "cell_type": "markdown",
      "metadata": {
        "application/vnd.databricks.v1+cell": {
          "title": "",
          "showTitle": false,
          "inputWidgets": {},
          "nuid": "b15737ae-19bd-4b9f-b9f3-52388cc5e50e"
        },
        "id": "levNDESpS1hT"
      },
      "source": [
        "## Préparation"
      ]
    },
    {
      "cell_type": "markdown",
      "metadata": {
        "application/vnd.databricks.v1+cell": {
          "title": "",
          "showTitle": false,
          "inputWidgets": {},
          "nuid": "b6afe82e-35d6-4358-9b79-8f56074e0908"
        },
        "id": "4pZBsez9S1hT"
      },
      "source": [
        "Vérifier que des ressources de calcul sont allouées à votre notebook est connecté (cf RAM  de disque indiqués en haut à droite) . Sinon cliquer sur le bouton connecter pour obtenir des ressources.\n",
        "\n",
        "\n"
      ]
    },
    {
      "cell_type": "markdown",
      "metadata": {
        "id": "CEjerqQ6Ink6"
      },
      "source": [
        "Pour accéder directement aux fichiers stockées sur votre google drive. Renseigner le code d'authentification lorsqu'il est demandé\n",
        "\n",
        "Ajuster le nom de votre dossier : MyDrive/ens/bdle/DM1"
      ]
    },
    {
      "cell_type": "code",
      "metadata": {
        "id": "3zlwNHy1S8C2",
        "colab": {
          "base_uri": "https://localhost:8080/"
        },
        "outputId": "8799dbca-d012-4299-8a29-a41da8355f58"
      },
      "source": [
        "!pip install -q pyspark\n"
      ],
      "execution_count": null,
      "outputs": [
        {
          "output_type": "stream",
          "name": "stdout",
          "text": [
            "\u001b[2K     \u001b[90m━━━━━━━━━━━━━━━━━━━━━━━━━━━━━━━━━━━━━━━━\u001b[0m \u001b[32m316.9/316.9 MB\u001b[0m \u001b[31m2.2 MB/s\u001b[0m eta \u001b[36m0:00:00\u001b[0m\n",
            "\u001b[?25h  Preparing metadata (setup.py) ... \u001b[?25l\u001b[?25hdone\n",
            "  Building wheel for pyspark (setup.py) ... \u001b[?25l\u001b[?25hdone\n"
          ]
        }
      ]
    },
    {
      "cell_type": "code",
      "source": [
        "from pyspark import SparkConf\n",
        "from pyspark.context import SparkContext\n",
        "from pyspark.sql import SparkSession\n",
        "\n",
        "local = \"local[*]\"\n",
        "appName = \"Spark-Dataframe-JSON\"\n",
        "localConfig = SparkConf().setAppName(appName).setMaster(local).\\\n",
        "  set(\"spark.executor.memory\", \"6G\").\\\n",
        "  set(\"spark.driver.memory\",\"6G\").\\\n",
        "  set(\"spark.sql.catalogImplementation\",\"in-memory\")\n",
        "\n",
        "spark = SparkSession.builder.config(conf = localConfig).getOrCreate()\n",
        "sc = spark.sparkContext\n",
        "sc.setLogLevel(\"ERROR\")"
      ],
      "metadata": {
        "id": "TAIs9Qj5Vodw"
      },
      "execution_count": null,
      "outputs": []
    },
    {
      "cell_type": "markdown",
      "metadata": {
        "id": "PnEmOd_zOUo0"
      },
      "source": [
        "Démarrer la session spark"
      ]
    },
    {
      "cell_type": "markdown",
      "metadata": {
        "application/vnd.databricks.v1+cell": {
          "title": "",
          "showTitle": false,
          "inputWidgets": {},
          "nuid": "41dd8b8e-d697-4efb-a1d2-cd34a08b3e7e"
        },
        "id": "NtjUaom1_2bC"
      },
      "source": [
        "## Data loading"
      ]
    },
    {
      "cell_type": "code",
      "metadata": {
        "application/vnd.databricks.v1+cell": {
          "title": "",
          "showTitle": false,
          "inputWidgets": {},
          "nuid": "b0ac5ec5-aaf5-49b5-93f3-e7e683614060"
        },
        "id": "6jFz_v1f_2bC"
      },
      "source": [
        "#size of displayed elements\n",
        "n=10"
      ],
      "execution_count": null,
      "outputs": []
    },
    {
      "cell_type": "code",
      "source": [
        "! wget https://nuage.lip6.fr/s/BMHNNgi9YoKCmCi/download/wordcount.txt -O /tmp/wordcount.txt"
      ],
      "metadata": {
        "id": "CqcOGyqoY8dq",
        "outputId": "a1136f77-b392-4415-855a-d31f738c249e",
        "colab": {
          "base_uri": "https://localhost:8080/"
        }
      },
      "execution_count": null,
      "outputs": [
        {
          "output_type": "stream",
          "name": "stdout",
          "text": [
            "--2023-11-16 13:16:29--  https://nuage.lip6.fr/s/BMHNNgi9YoKCmCi/download/wordcount.txt\n",
            "Resolving nuage.lip6.fr (nuage.lip6.fr)... 132.227.201.11\n",
            "Connecting to nuage.lip6.fr (nuage.lip6.fr)|132.227.201.11|:443... connected.\n",
            "HTTP request sent, awaiting response... 200 OK\n",
            "Length: 799738 (781K) [text/plain]\n",
            "Saving to: ‘/tmp/wordcount.txt’\n",
            "\n",
            "/tmp/wordcount.txt  100%[===================>] 780.99K  1.24MB/s    in 0.6s    \n",
            "\n",
            "2023-11-16 13:16:31 (1.24 MB/s) - ‘/tmp/wordcount.txt’ saved [799738/799738]\n",
            "\n"
          ]
        }
      ]
    },
    {
      "cell_type": "markdown",
      "metadata": {
        "application/vnd.databricks.v1+cell": {
          "title": "",
          "showTitle": false,
          "inputWidgets": {},
          "nuid": "da441951-c647-4f43-a39f-a4f3d5d78834"
        },
        "id": "sJxVYsj4_2bE"
      },
      "source": [
        "## Simplified TF*IDF"
      ]
    },
    {
      "cell_type": "markdown",
      "metadata": {
        "application/vnd.databricks.v1+cell": {
          "title": "",
          "showTitle": false,
          "inputWidgets": {},
          "nuid": "7b55b445-bb8c-4476-a113-b7c123d6dbf9"
        },
        "id": "hlMsPzZe_2bF"
      },
      "source": [
        "Write instructions to compute the simplified version of TF*IDF for a synthetic corpus of words.\n",
        "The input data is an RDD of pairs $$(d_i, [w_j])$$\n",
        "where $$d_i \\text{ is a document identifier and } [w_i] \\text{ a list of words associated to } d_i \\text{ with possible repetition }$$\n",
        "\n",
        "You are expected to produce an RDD of triples $$(d_l, w_m,  tf \\times idf)$$\n",
        "where $$tf \\text{ is the number of occurrence of } w_m \\text{ in } d_l$$\n",
        "and $$ idf \\text{ is the inverse of the number of documents where } w_m \\text{ appears }  $$"
      ]
    },
    {
      "cell_type": "code",
      "metadata": {
        "id": "LmvyUaX4BqvK"
      },
      "source": [],
      "execution_count": null,
      "outputs": []
    },
    {
      "cell_type": "code",
      "metadata": {
        "application/vnd.databricks.v1+cell": {
          "title": "",
          "showTitle": false,
          "inputWidgets": {},
          "nuid": "fdd28cf0-01ca-4d1e-86fe-331d4d31bb88"
        },
        "colab": {
          "base_uri": "https://localhost:8080/"
        },
        "id": "VozqQ8fQ_2bF",
        "outputId": "64d9c6c4-5629-4601-9d69-5b63acda67c3"
      },
      "source": [
        "dataset = ['d1,one fish two fish','d2,red fish blue', 'd3,one red bird']\n",
        "data = spark.sparkContext.parallelize(dataset)\n",
        "lines = data.filter(lambda x: x!='')\\\n",
        ".map(lambda x : x.split(\",\")).map(lambda x:(x[0],x[1].split(\" \")))\n",
        "lines.take(n)"
      ],
      "execution_count": null,
      "outputs": [
        {
          "output_type": "execute_result",
          "data": {
            "text/plain": [
              "[('d1', ['one', 'fish', 'two', 'fish']),\n",
              " ('d2', ['red', 'fish', 'blue']),\n",
              " ('d3', ['one', 'red', 'bird'])]"
            ]
          },
          "metadata": {},
          "execution_count": 5
        }
      ]
    },
    {
      "cell_type": "code",
      "metadata": {
        "colab": {
          "base_uri": "https://localhost:8080/"
        },
        "id": "GhTlzQBUlpCf",
        "outputId": "f33e0ab6-fe2a-48c3-8cab-2d5ec96a7929"
      },
      "source": [
        "count = data.count()\n",
        "count"
      ],
      "execution_count": null,
      "outputs": [
        {
          "output_type": "execute_result",
          "data": {
            "text/plain": [
              "3"
            ]
          },
          "metadata": {},
          "execution_count": 6
        }
      ]
    },
    {
      "cell_type": "markdown",
      "metadata": {
        "application/vnd.databricks.v1+cell": {
          "title": "",
          "showTitle": false,
          "inputWidgets": {},
          "nuid": "b564aa25-2c55-42de-b8d9-7b891124ccb2"
        },
        "id": "a6I4jiUe_2bG"
      },
      "source": [
        "complete the stub of `combine` which is python function that combines each word in `list` with `word` given as argument"
      ]
    },
    {
      "cell_type": "code",
      "metadata": {
        "application/vnd.databricks.v1+cell": {
          "title": "",
          "showTitle": false,
          "inputWidgets": {},
          "nuid": "beedc2cf-dcfc-42aa-97cc-8df92de5dc18"
        },
        "id": "AihTGDo0_2bH"
      },
      "source": [
        "def combine(list, word):\n",
        "  res = [(word, l) for l in list]\n",
        "  return res"
      ],
      "execution_count": null,
      "outputs": []
    },
    {
      "cell_type": "code",
      "metadata": {
        "application/vnd.databricks.v1+cell": {
          "title": "",
          "showTitle": false,
          "inputWidgets": {},
          "nuid": "647ae7f1-ae6e-4b1a-862d-2794304d3afa"
        },
        "colab": {
          "base_uri": "https://localhost:8080/"
        },
        "id": "duRmK0yS_2bH",
        "outputId": "bebac941-eb36-43be-c41a-4db4b8989389"
      },
      "source": [
        "list = ['d3', 'one', 'red', 'bird']\n",
        "word = 'd1'\n",
        "combine(list,word)"
      ],
      "execution_count": null,
      "outputs": [
        {
          "output_type": "execute_result",
          "data": {
            "text/plain": [
              "[('d1', 'd3'), ('d1', 'one'), ('d1', 'red'), ('d1', 'bird')]"
            ]
          },
          "metadata": {},
          "execution_count": 8
        }
      ]
    },
    {
      "cell_type": "markdown",
      "metadata": {
        "application/vnd.databricks.v1+cell": {
          "title": "",
          "showTitle": false,
          "inputWidgets": {},
          "nuid": "8b2fe5bc-751b-49c8-87c5-47e99e0674b3"
        },
        "id": "1FaUj-Hc_2bI"
      },
      "source": [
        "starting from `lines` produce an RDD of all pairs $$(d_i, w_j)$$"
      ]
    },
    {
      "cell_type": "code",
      "metadata": {
        "application/vnd.databricks.v1+cell": {
          "title": "",
          "showTitle": false,
          "inputWidgets": {},
          "nuid": "69760fca-df32-4847-a5f0-15a67370c275"
        },
        "colab": {
          "base_uri": "https://localhost:8080/"
        },
        "id": "rVn7-skp_2bJ",
        "outputId": "6d22cfb2-af7d-484a-b561-67dc89893982"
      },
      "source": [
        "# flatMap: Return a new RDD by first applying a function to all elements of this RDD, and then flattening the results.\n",
        "word_doc = lines.flatMap(lambda x: combine(x[1],x[0]))\n",
        "word_doc.take(n)"
      ],
      "execution_count": null,
      "outputs": [
        {
          "output_type": "execute_result",
          "data": {
            "text/plain": [
              "[('d1', 'one'),\n",
              " ('d1', 'fish'),\n",
              " ('d1', 'two'),\n",
              " ('d1', 'fish'),\n",
              " ('d2', 'red'),\n",
              " ('d2', 'fish'),\n",
              " ('d2', 'blue'),\n",
              " ('d3', 'one'),\n",
              " ('d3', 'red'),\n",
              " ('d3', 'bird')]"
            ]
          },
          "metadata": {},
          "execution_count": 12
        }
      ]
    },
    {
      "cell_type": "code",
      "metadata": {
        "application/vnd.databricks.v1+cell": {
          "title": "",
          "showTitle": false,
          "inputWidgets": {},
          "nuid": "233897e1-0c96-4ab4-9a82-6e7e8841466b"
        },
        "id": "wILBLbgB_2bK"
      },
      "source": [
        "def add(a,b):\n",
        "  return a+b"
      ],
      "execution_count": null,
      "outputs": []
    },
    {
      "cell_type": "markdown",
      "metadata": {
        "application/vnd.databricks.v1+cell": {
          "title": "",
          "showTitle": false,
          "inputWidgets": {},
          "nuid": "747d26f2-3587-40da-8a68-5ab4b9b6c8dc"
        },
        "id": "LnxzATVg_2bK"
      },
      "source": [
        "For each pair (document,word), count its frequency"
      ]
    },
    {
      "cell_type": "code",
      "metadata": {
        "application/vnd.databricks.v1+cell": {
          "title": "",
          "showTitle": false,
          "inputWidgets": {},
          "nuid": "94ddd20a-56e4-4766-a65e-89cc74a41d96"
        },
        "colab": {
          "base_uri": "https://localhost:8080/"
        },
        "id": "J1-pKl1H_2bK",
        "outputId": "7a2fa92c-4968-4385-99eb-cd589333bf14"
      },
      "source": [
        "freq_word = word_doc.map(lambda x: ((x[1],x[0]),1)).reduceByKey(add)\n",
        "freq_word.take(n)"
      ],
      "execution_count": null,
      "outputs": [
        {
          "output_type": "execute_result",
          "data": {
            "text/plain": [
              "[(('one', 'd1'), 1),\n",
              " (('fish', 'd2'), 1),\n",
              " (('one', 'd3'), 1),\n",
              " (('red', 'd3'), 1),\n",
              " (('fish', 'd1'), 2),\n",
              " (('two', 'd1'), 1),\n",
              " (('red', 'd2'), 1),\n",
              " (('blue', 'd2'), 1),\n",
              " (('bird', 'd3'), 1)]"
            ]
          },
          "metadata": {},
          "execution_count": 13
        }
      ]
    },
    {
      "cell_type": "markdown",
      "metadata": {
        "id": "SNqc70jpjSig"
      },
      "source": [
        "for each word, produce a pair (d,freq)"
      ]
    },
    {
      "cell_type": "code",
      "metadata": {
        "colab": {
          "base_uri": "https://localhost:8080/"
        },
        "id": "MMlY-JFZkloL",
        "outputId": "f38ab456-7e1f-4acb-8b19-48848cb541f9"
      },
      "source": [
        "freq_word_bis = freq_word.map(lambda x: (x[0][0],(x[0][1],x[1])))\n",
        "freq_word_bis.take(n)"
      ],
      "execution_count": null,
      "outputs": [
        {
          "output_type": "execute_result",
          "data": {
            "text/plain": [
              "[('one', ('d1', 1)),\n",
              " ('fish', ('d2', 1)),\n",
              " ('one', ('d3', 1)),\n",
              " ('red', ('d3', 1)),\n",
              " ('fish', ('d1', 2)),\n",
              " ('two', ('d1', 1)),\n",
              " ('red', ('d2', 1)),\n",
              " ('blue', ('d2', 1)),\n",
              " ('bird', ('d3', 1))]"
            ]
          },
          "metadata": {},
          "execution_count": 14
        }
      ]
    },
    {
      "cell_type": "markdown",
      "metadata": {
        "id": "kR-GrBQrqMlx"
      },
      "source": [
        "for each word, compute its document frequency, i.e # of documents in which it appears"
      ]
    },
    {
      "cell_type": "code",
      "metadata": {
        "colab": {
          "base_uri": "https://localhost:8080/"
        },
        "id": "TBXOJRVGjQo5",
        "outputId": "92a29975-70a5-4852-ff5c-3df13b0a224e"
      },
      "source": [
        "doc_freq = freq_word_bis.map(lambda x : (x[0],1)).reduceByKey(add).map(lambda x : (x[0],count/x[1]))\n",
        "doc_freq.take(n)"
      ],
      "execution_count": null,
      "outputs": [
        {
          "output_type": "execute_result",
          "data": {
            "text/plain": [
              "[('fish', 1.5),\n",
              " ('two', 3.0),\n",
              " ('bird', 3.0),\n",
              " ('one', 1.5),\n",
              " ('red', 1.5),\n",
              " ('blue', 3.0)]"
            ]
          },
          "metadata": {},
          "execution_count": 15
        }
      ]
    },
    {
      "cell_type": "markdown",
      "metadata": {
        "application/vnd.databricks.v1+cell": {
          "title": "",
          "showTitle": false,
          "inputWidgets": {},
          "nuid": "a438cbe9-9d8e-4548-812f-94dc4e80b7c7"
        },
        "id": "K6gugWm3_2bM"
      },
      "source": [
        "for each word, compute its simplified score"
      ]
    },
    {
      "cell_type": "code",
      "source": [
        "final = freq_word_bis.join(doc_freq)\n",
        "final.take(n)"
      ],
      "metadata": {
        "colab": {
          "base_uri": "https://localhost:8080/"
        },
        "id": "iPxTIs5SThIU",
        "outputId": "bf63b2c9-b093-4d04-9ec6-66f9a5571b97"
      },
      "execution_count": null,
      "outputs": [
        {
          "output_type": "execute_result",
          "data": {
            "text/plain": [
              "[('two', (('d1', 1), 3.0)),\n",
              " ('bird', (('d3', 1), 3.0)),\n",
              " ('red', (('d3', 1), 1.5)),\n",
              " ('red', (('d2', 1), 1.5)),\n",
              " ('blue', (('d2', 1), 3.0)),\n",
              " ('fish', (('d2', 1), 1.5)),\n",
              " ('fish', (('d1', 2), 1.5)),\n",
              " ('one', (('d1', 1), 1.5)),\n",
              " ('one', (('d3', 1), 1.5))]"
            ]
          },
          "metadata": {},
          "execution_count": 18
        }
      ]
    },
    {
      "cell_type": "code",
      "metadata": {
        "colab": {
          "base_uri": "https://localhost:8080/"
        },
        "id": "4bUg0AUOkZxq",
        "outputId": "21fd66dc-1aad-4b71-b77d-4b8782430e94"
      },
      "source": [
        "final = freq_word_bis.join(doc_freq).map(lambda x: (x[0],x[1][0][0], x[1][1]/x[1][0][1]))\n",
        "final.take(n)"
      ],
      "execution_count": null,
      "outputs": [
        {
          "output_type": "execute_result",
          "data": {
            "text/plain": [
              "[('two', 'd1', 3.0),\n",
              " ('bird', 'd3', 3.0),\n",
              " ('red', 'd3', 1.5),\n",
              " ('red', 'd2', 1.5),\n",
              " ('blue', 'd2', 3.0),\n",
              " ('fish', 'd2', 1.5),\n",
              " ('fish', 'd1', 0.75),\n",
              " ('one', 'd1', 1.5),\n",
              " ('one', 'd3', 1.5)]"
            ]
          },
          "metadata": {},
          "execution_count": 19
        }
      ]
    },
    {
      "cell_type": "markdown",
      "metadata": {
        "application/vnd.databricks.v1+cell": {
          "title": "",
          "showTitle": false,
          "inputWidgets": {},
          "nuid": "f5bb2c2d-375d-46a5-a65d-bc4666fbc6f2"
        },
        "id": "3A1Ky2-7_2bN"
      },
      "source": [
        "## Text analytics"
      ]
    },
    {
      "cell_type": "markdown",
      "metadata": {
        "application/vnd.databricks.v1+cell": {
          "title": "",
          "showTitle": false,
          "inputWidgets": {},
          "nuid": "ab5bbde1-7466-4c89-b95f-78feed13a0ca"
        },
        "id": "y2eBlT4G_2bN"
      },
      "source": [
        "The goal is to compute the SPMI (simplified pointwise mutual information) metric for words in a corpus.\n",
        "Given two words, a and b,\n",
        "\n",
        "$$SPMI(a, b) =  P(ab) / P(a) * P(b)$$\n",
        "where $$P(ab) \\text{ is the probability of two words coming one after the other, and } P(a), P(b) \\text{ the probabilities of the words a and b, respectively} $$"
      ]
    },
    {
      "cell_type": "code",
      "metadata": {
        "application/vnd.databricks.v1+cell": {
          "title": "",
          "showTitle": false,
          "inputWidgets": {},
          "nuid": "c5ee7820-75bd-4928-b2c5-c073bc08b099"
        },
        "id": "pg41kQfy_2bN"
      },
      "source": [
        "def removespecialchars (word) :\n",
        "    charstoremove = ['[',']','*','#','.','_',':','?','!',',',';','“','”','\\n']\n",
        "    for ch in word:\n",
        "        if ch in charstoremove:\n",
        "            word = word.replace(ch,'')\n",
        "    return word"
      ],
      "execution_count": null,
      "outputs": []
    },
    {
      "cell_type": "markdown",
      "metadata": {
        "application/vnd.databricks.v1+cell": {
          "title": "",
          "showTitle": false,
          "inputWidgets": {},
          "nuid": "094f58d0-6bd5-4358-b813-44e9cad9f8b0"
        },
        "id": "PjrIcZop_2bO"
      },
      "source": [
        "Read file in utf-8 using use_unicode=False"
      ]
    },
    {
      "cell_type": "code",
      "metadata": {
        "application/vnd.databricks.v1+cell": {
          "title": "",
          "showTitle": false,
          "inputWidgets": {},
          "nuid": "fdcc1213-f1d5-4627-ab35-10a9a70b20b4"
        },
        "id": "z_UnSpCf_2bO"
      },
      "source": [
        "dataset =''"
      ],
      "execution_count": null,
      "outputs": []
    },
    {
      "cell_type": "code",
      "metadata": {
        "application/vnd.databricks.v1+cell": {
          "title": "",
          "showTitle": false,
          "inputWidgets": {},
          "nuid": "32835aca-879b-44c4-a711-80394bafc061"
        },
        "colab": {
          "base_uri": "https://localhost:8080/"
        },
        "id": "SFfXLzxX_2bP",
        "outputId": "1ae6e3c9-4918-43ba-b4a1-65f123c2963f"
      },
      "source": [
        "data = spark.sparkContext.textFile(\"/tmp/wordcount.txt\", use_unicode=\"False\")\n",
        "print(\"before filtering there are %d lines\" % data.count())\n",
        "# data.take(n)\n",
        "lines = data.filter(lambda x: x!='')\\\n",
        ".map(lambda x:removespecialchars(x))\\\n",
        ".map(lambda x : x.split(\" \"))\n",
        "print(\"after filtering there are %d lines\" % lines.count())\n"
      ],
      "execution_count": null,
      "outputs": [
        {
          "output_type": "stream",
          "name": "stdout",
          "text": [
            "before filtering there are 14594 lines\n",
            "after filtering there are 12153 lines\n"
          ]
        }
      ]
    },
    {
      "cell_type": "markdown",
      "metadata": {
        "application/vnd.databricks.v1+cell": {
          "title": "",
          "showTitle": false,
          "inputWidgets": {},
          "nuid": "6f09fdc9-c2bc-45ce-9fa5-b1572210a33c"
        },
        "id": "0JZEGq1c_2bP"
      },
      "source": [
        "retrieve the list of words"
      ]
    },
    {
      "cell_type": "code",
      "metadata": {
        "application/vnd.databricks.v1+cell": {
          "title": "",
          "showTitle": false,
          "inputWidgets": {},
          "nuid": "d6b46df5-117a-4d75-ba47-825ffb07ba44"
        },
        "colab": {
          "base_uri": "https://localhost:8080/"
        },
        "id": "D7omXEru_2bP",
        "outputId": "6c31017c-c1ec-414c-ee31-dc8d194eca13"
      },
      "source": [
        "words = lines.flatMap(lambda w:w).filter(lambda w:len(w)>0)\n",
        "words.take(n)"
      ],
      "execution_count": null,
      "outputs": [
        {
          "output_type": "execute_result",
          "data": {
            "text/plain": [
              "['The',\n",
              " 'Project',\n",
              " 'Gutenberg',\n",
              " 'EBook',\n",
              " 'of',\n",
              " 'Pride',\n",
              " 'and',\n",
              " 'Prejudice',\n",
              " 'by',\n",
              " 'Jane']"
            ]
          },
          "metadata": {},
          "execution_count": 23
        }
      ]
    },
    {
      "cell_type": "markdown",
      "metadata": {
        "application/vnd.databricks.v1+cell": {
          "title": "",
          "showTitle": false,
          "inputWidgets": {},
          "nuid": "b4d08473-bacb-4f7b-b40c-8cac5a6e48b2"
        },
        "id": "bnck6h-F_2bQ"
      },
      "source": [
        "compute the frequency of each word"
      ]
    },
    {
      "cell_type": "code",
      "metadata": {
        "application/vnd.databricks.v1+cell": {
          "title": "",
          "showTitle": false,
          "inputWidgets": {},
          "nuid": "6c3e36f8-963c-4eef-8fed-232783b255d3"
        },
        "colab": {
          "base_uri": "https://localhost:8080/"
        },
        "id": "MTLQJCFj_2bQ",
        "outputId": "d5faca6a-2372-41e7-9230-60a42ec30257"
      },
      "source": [
        "wordcount = words.map(lambda x: (x,1)).reduceByKey(add)\n",
        "wordcount.take(n)"
      ],
      "execution_count": null,
      "outputs": [
        {
          "output_type": "execute_result",
          "data": {
            "text/plain": [
              "[('The', 285),\n",
              " ('Project', 83),\n",
              " ('EBook', 3),\n",
              " ('of', 3693),\n",
              " ('Pride', 6),\n",
              " ('Jane', 263),\n",
              " ('Austen', 4),\n",
              " ('is', 859),\n",
              " ('use', 23),\n",
              " ('anyone', 29)]"
            ]
          },
          "metadata": {},
          "execution_count": 74
        }
      ]
    },
    {
      "cell_type": "markdown",
      "metadata": {
        "application/vnd.databricks.v1+cell": {
          "title": "",
          "showTitle": false,
          "inputWidgets": {},
          "nuid": "a49cf7cd-fdc5-4fb5-853b-46fd816f0e7c"
        },
        "id": "dUqkVCec_2bS"
      },
      "source": [
        "count the number of distinct words"
      ]
    },
    {
      "cell_type": "code",
      "metadata": {
        "application/vnd.databricks.v1+cell": {
          "title": "",
          "showTitle": false,
          "inputWidgets": {},
          "nuid": "e17cd8b4-e4cc-42fb-a0b7-d864a7af4f1a"
        },
        "colab": {
          "base_uri": "https://localhost:8080/"
        },
        "id": "BwOc8G03_2bS",
        "outputId": "02546ce8-858e-4a86-a9fa-3e6ff3967c7a"
      },
      "source": [
        "nb_distinct_words = wordcount.count()\n",
        "nb_distinct_words"
      ],
      "execution_count": null,
      "outputs": [
        {
          "output_type": "execute_result",
          "data": {
            "text/plain": [
              "7761"
            ]
          },
          "metadata": {},
          "execution_count": 75
        }
      ]
    },
    {
      "cell_type": "markdown",
      "metadata": {
        "application/vnd.databricks.v1+cell": {
          "title": "",
          "showTitle": false,
          "inputWidgets": {},
          "nuid": "8ab42617-270b-4ba1-8aeb-7b9c384f839d"
        },
        "id": "gEf0uZVD_2bT"
      },
      "source": [
        "compute the proba of each word"
      ]
    },
    {
      "cell_type": "code",
      "metadata": {
        "application/vnd.databricks.v1+cell": {
          "title": "",
          "showTitle": false,
          "inputWidgets": {},
          "nuid": "e8dc9c29-f19b-4265-845f-7044e27223be"
        },
        "colab": {
          "base_uri": "https://localhost:8080/"
        },
        "id": "yL1QhrU7_2bU",
        "outputId": "6727de41-4b73-40b4-abf2-7ebfc3dc74f6"
      },
      "source": [
        "word_proba = wordcount.map(lambda x: (x[0],x[1]/nb_distinct_words))\n",
        "word_proba.take(n)"
      ],
      "execution_count": null,
      "outputs": [
        {
          "output_type": "execute_result",
          "data": {
            "text/plain": [
              "[('The', 0.03672207189795129),\n",
              " ('Project', 0.010694498131684061),\n",
              " ('EBook', 0.00038654812524159255),\n",
              " ('of', 0.47584074217240047),\n",
              " ('Pride', 0.0007730962504831851),\n",
              " ('Jane', 0.033887385646179616),\n",
              " ('Austen', 0.0005153975003221235),\n",
              " ('is', 0.110681613194176),\n",
              " ('use', 0.0029635356268522097),\n",
              " ('anyone', 0.003736631877335395)]"
            ]
          },
          "metadata": {},
          "execution_count": 77
        }
      ]
    },
    {
      "cell_type": "markdown",
      "metadata": {
        "application/vnd.databricks.v1+cell": {
          "title": "",
          "showTitle": false,
          "inputWidgets": {},
          "nuid": "372549f2-0140-44e5-addf-e9326e60c69c"
        },
        "id": "AJ1iMxDs_2bW"
      },
      "source": [
        "Collocation of words: build an RDD of bigrams. A bigram is a pair of words appearing in consecutive order."
      ]
    },
    {
      "cell_type": "code",
      "metadata": {
        "application/vnd.databricks.v1+cell": {
          "title": "",
          "showTitle": false,
          "inputWidgets": {},
          "nuid": "a76e0a1e-51a3-415c-9924-f5742a98f6ad"
        },
        "colab": {
          "base_uri": "https://localhost:8080/"
        },
        "id": "4HsXxn6C_2bX",
        "outputId": "8fba5e89-af8e-4853-d99a-8a7a06984e82"
      },
      "source": [
        "words_index = words.zipWithIndex().map(lambda x: (x[1],x[0]))\n",
        "words_index.take(n)"
      ],
      "execution_count": null,
      "outputs": [
        {
          "output_type": "execute_result",
          "data": {
            "text/plain": [
              "[(0, 'The'),\n",
              " (1, 'Project'),\n",
              " (2, 'Gutenberg'),\n",
              " (3, 'EBook'),\n",
              " (4, 'of'),\n",
              " (5, 'Pride'),\n",
              " (6, 'and'),\n",
              " (7, 'Prejudice'),\n",
              " (8, 'by'),\n",
              " (9, 'Jane')]"
            ]
          },
          "metadata": {},
          "execution_count": 78
        }
      ]
    },
    {
      "cell_type": "code",
      "metadata": {
        "application/vnd.databricks.v1+cell": {
          "title": "",
          "showTitle": false,
          "inputWidgets": {},
          "nuid": "ebf1a640-7dfd-4117-be7b-437cebb4d3a1"
        },
        "colab": {
          "base_uri": "https://localhost:8080/"
        },
        "id": "xlqZ5MFR_2bY",
        "outputId": "b1c14bcf-c460-49be-d51d-9388b19c664a"
      },
      "source": [
        "words_index_other = words_index.map(lambda x : (x[0]-1,x[1]))\n",
        "words_index_other.take(n)"
      ],
      "execution_count": null,
      "outputs": [
        {
          "output_type": "execute_result",
          "data": {
            "text/plain": [
              "[(-1, 'The'),\n",
              " (0, 'Project'),\n",
              " (1, 'Gutenberg'),\n",
              " (2, 'EBook'),\n",
              " (3, 'of'),\n",
              " (4, 'Pride'),\n",
              " (5, 'and'),\n",
              " (6, 'Prejudice'),\n",
              " (7, 'by'),\n",
              " (8, 'Jane')]"
            ]
          },
          "metadata": {},
          "execution_count": 82
        }
      ]
    },
    {
      "cell_type": "code",
      "metadata": {
        "application/vnd.databricks.v1+cell": {
          "title": "",
          "showTitle": false,
          "inputWidgets": {},
          "nuid": "19fc037a-5303-46f0-83ec-6a9bbe4436d5"
        },
        "colab": {
          "base_uri": "https://localhost:8080/"
        },
        "id": "5emou1DL_2bZ",
        "outputId": "aa800fdf-e646-493c-c7cf-4e2cb7f066ff"
      },
      "source": [
        "bigram = words_index.join(words_index_other).map(lambda x :x[1])\n",
        "bigram.take(n)"
      ],
      "execution_count": null,
      "outputs": [
        {
          "output_type": "execute_result",
          "data": {
            "text/plain": [
              "[('The', 'Project'),\n",
              " ('of', 'Pride'),\n",
              " ('by', 'Jane'),\n",
              " ('eBook', 'is'),\n",
              " ('use', 'of'),\n",
              " ('at', 'no'),\n",
              " ('with', 'almost'),\n",
              " ('whatsoever', 'You'),\n",
              " ('it', 'give'),\n",
              " ('or', 're-use')]"
            ]
          },
          "metadata": {},
          "execution_count": 85
        }
      ]
    },
    {
      "cell_type": "markdown",
      "metadata": {
        "application/vnd.databricks.v1+cell": {
          "title": "",
          "showTitle": false,
          "inputWidgets": {},
          "nuid": "5813908e-4121-415f-8717-6eeea35cb5f1"
        },
        "id": "t9GWKQDp_2ba"
      },
      "source": [
        "count the fequency of each bigram"
      ]
    },
    {
      "cell_type": "code",
      "metadata": {
        "application/vnd.databricks.v1+cell": {
          "title": "",
          "showTitle": false,
          "inputWidgets": {},
          "nuid": "7010d5c7-74cf-4d13-8ae0-4663557c8099"
        },
        "colab": {
          "base_uri": "https://localhost:8080/"
        },
        "id": "SM0XGm_F_2ba",
        "outputId": "b4c73f8b-3478-4336-ad05-68cc2c438969"
      },
      "source": [
        "bigramcount = bigram.map(lambda x: (x,1)).reduceByKey(add)\n",
        "bigramcount.take(n)"
      ],
      "execution_count": null,
      "outputs": [
        {
          "output_type": "execute_result",
          "data": {
            "text/plain": [
              "[(('use', 'of'), 8),\n",
              " (('at', 'no'), 6),\n",
              " (('the', 'terms'), 14),\n",
              " (('12', '2019'), 1),\n",
              " (('PREJUDICE', 'Produced'), 1),\n",
              " (('Volunteers', 'and'), 3),\n",
              " (('and', 'Prejudice'), 4),\n",
              " (('Chapter', '4'), 2),\n",
              " (('Chapter', '10'), 2),\n",
              " (('Chapter', '12'), 2)]"
            ]
          },
          "metadata": {},
          "execution_count": 86
        }
      ]
    },
    {
      "cell_type": "markdown",
      "metadata": {
        "application/vnd.databricks.v1+cell": {
          "title": "",
          "showTitle": false,
          "inputWidgets": {},
          "nuid": "44502dd0-70d8-4467-b180-daa7790c6bc7"
        },
        "id": "_-vGmlff_2bb"
      },
      "source": [
        "attach to each bigram the probability of its words, i.e. $$P(a) * P(b)$$"
      ]
    },
    {
      "cell_type": "code",
      "source": [
        "bigramproba = bigramcount.map(lambda x : x[0]).join(word_proba).map(lambda x: (x[1][0],(x[0],x[1][1]))).join(word_proba).map(lambda x: ((x[1][0][0],x[0]),x[1][0][1]*x[1][1]))\n",
        "bigramproba.take(n)"
      ],
      "metadata": {
        "colab": {
          "base_uri": "https://localhost:8080/"
        },
        "id": "cK5bqTyjtPDS",
        "outputId": "8b561782-064d-45f9-bfe0-679815d244fd"
      },
      "execution_count": null,
      "outputs": [
        {
          "output_type": "execute_result",
          "data": {
            "text/plain": [
              "[(('of', 'Pride'), 0.0003678706936006188),\n",
              " (('Title', 'Pride'), 9.961296875185996e-08),\n",
              " (('vain', 'Pride'), 1.7930334375334792e-06),\n",
              " (('mine', 'Pride'), 1.4941945312778994e-06),\n",
              " (('cover', 'Pride'), 1.9922593750371993e-07),\n",
              " (('of', 'them'), 0.026609313503778098),\n",
              " (('like', 'them'), 0.0005476056935518915),\n",
              " (('seen', 'them'), 0.0005404003554788403),\n",
              " (('before', 'them'), 0.0016139957283634696),\n",
              " (('make', 'them'), 0.0012104967962726025)]"
            ]
          },
          "metadata": {},
          "execution_count": 112
        }
      ]
    },
    {
      "cell_type": "markdown",
      "metadata": {
        "application/vnd.databricks.v1+cell": {
          "title": "",
          "showTitle": false,
          "inputWidgets": {},
          "nuid": "d64a92a3-f3e2-4ca8-beb7-28b2dfbf0807"
        },
        "id": "kz68ZQ7l_2bc"
      },
      "source": [
        "count the number of distinct bigrams"
      ]
    },
    {
      "cell_type": "code",
      "metadata": {
        "application/vnd.databricks.v1+cell": {
          "title": "",
          "showTitle": false,
          "inputWidgets": {},
          "nuid": "90bc5fe5-37f6-44cf-8a76-8e9f168784d6"
        },
        "colab": {
          "base_uri": "https://localhost:8080/"
        },
        "id": "Qi_pDd5o_2bc",
        "outputId": "2c4a0c0e-7302-4c47-9ba5-254d60464cae"
      },
      "source": [
        "bigram_distinct = bigramcount.count()\n",
        "bigram_distinct"
      ],
      "execution_count": null,
      "outputs": [
        {
          "output_type": "execute_result",
          "data": {
            "text/plain": [
              "59099"
            ]
          },
          "metadata": {},
          "execution_count": 113
        }
      ]
    },
    {
      "cell_type": "markdown",
      "metadata": {
        "application/vnd.databricks.v1+cell": {
          "title": "",
          "showTitle": false,
          "inputWidgets": {},
          "nuid": "e5b897b0-2120-43ea-a069-ad39143b8a35"
        },
        "id": "JQYxiQg9_2bd"
      },
      "source": [
        "attach to each bigram its probability, i.e. $$P(ab)$$"
      ]
    },
    {
      "cell_type": "code",
      "metadata": {
        "application/vnd.databricks.v1+cell": {
          "title": "",
          "showTitle": false,
          "inputWidgets": {},
          "nuid": "01e63b07-3181-41a4-8f62-b60909a3347b"
        },
        "colab": {
          "base_uri": "https://localhost:8080/"
        },
        "id": "trnmGMBa_2be",
        "outputId": "7dbe5724-4594-488f-970d-f2c006bfbc4e"
      },
      "source": [
        "bigramjointproba = bigramcount.map(lambda x: (x[0], x[1]/bigram_distinct))\n",
        "bigramjointproba.take(n)"
      ],
      "execution_count": null,
      "outputs": [
        {
          "output_type": "execute_result",
          "data": {
            "text/plain": [
              "[(('use', 'of'), 0.00013536608064434254),\n",
              " (('at', 'no'), 0.0001015245604832569),\n",
              " (('the', 'terms'), 0.00023689064112759946),\n",
              " (('12', '2019'), 1.6920760080542818e-05),\n",
              " (('PREJUDICE', 'Produced'), 1.6920760080542818e-05),\n",
              " (('Volunteers', 'and'), 5.076228024162845e-05),\n",
              " (('and', 'Prejudice'), 6.768304032217127e-05),\n",
              " (('Chapter', '4'), 3.3841520161085635e-05),\n",
              " (('Chapter', '10'), 3.3841520161085635e-05),\n",
              " (('Chapter', '12'), 3.3841520161085635e-05)]"
            ]
          },
          "metadata": {},
          "execution_count": 114
        }
      ]
    },
    {
      "cell_type": "markdown",
      "metadata": {
        "application/vnd.databricks.v1+cell": {
          "title": "",
          "showTitle": false,
          "inputWidgets": {},
          "nuid": "882d1325-07a3-41dd-851b-a2f7a6d7cf7a"
        },
        "id": "6W7oVeWB_2be"
      },
      "source": [
        "compute the SPMI and sort in descending order on the score"
      ]
    },
    {
      "cell_type": "code",
      "metadata": {
        "application/vnd.databricks.v1+cell": {
          "title": "",
          "showTitle": false,
          "inputWidgets": {},
          "nuid": "753f2e1a-bf18-4fe9-b5db-ba7ecf81ca55"
        },
        "colab": {
          "base_uri": "https://localhost:8080/"
        },
        "id": "b9l4t2Vk_2bf",
        "outputId": "82ee9290-c35f-4c6d-f330-ca78c6333dbe"
      },
      "source": [
        "SPMI = bigramjointproba.join(bigramproba).map(lambda x: (x[0], x[1][0]/x[1][1])).sortBy(lambda x: x[1],ascending = False)\n",
        "SPMI.take(n)\n"
      ],
      "execution_count": null,
      "outputs": [
        {
          "output_type": "execute_result",
          "data": {
            "text/plain": [
              "[(('staff', 'Please'), 1019.1901893433051),\n",
              " (('he—poor', 'Eliza—to'), 1019.1901893433051),\n",
              " (('net', 'purses'), 1019.1901893433051),\n",
              " (('Italian', 'songs'), 1019.1901893433051),\n",
              " (('barbarously', 'misused'), 1019.1901893433051),\n",
              " (('weighty', 'accusation'), 1019.1901893433051),\n",
              " (('vicious', 'propensities—the'), 1019.1901893433051),\n",
              " (('untamed', 'unabashed'), 1019.1901893433051),\n",
              " (('City', 'UT'), 1019.1901893433051),\n",
              " (('Kenilworth', 'Birmingham'), 1019.1901893433051)]"
            ]
          },
          "metadata": {},
          "execution_count": 115
        }
      ]
    },
    {
      "cell_type": "markdown",
      "metadata": {
        "application/vnd.databricks.v1+cell": {
          "title": "",
          "showTitle": false,
          "inputWidgets": {},
          "nuid": "fa3a4987-1765-4cd7-9d6c-790af051f93e"
        },
        "id": "CyhUU7bd_2bh"
      },
      "source": [
        "## Matrix multiplication"
      ]
    },
    {
      "cell_type": "markdown",
      "metadata": {
        "application/vnd.databricks.v1+cell": {
          "title": "",
          "showTitle": false,
          "inputWidgets": {},
          "nuid": "aeaced1f-7898-4c11-a5fe-c72674141aa4"
        },
        "id": "75wifCJz_2bh"
      },
      "source": [
        "Write a program to perform matrix multiplication using the Spark RDD operators.\n",
        "The input matrices are represented with their coordinates: each matrix is an RDD of tuples `(i,j,val)` where `i` is the line number, `j` the column number and `val` the value.\n",
        "The input matrices are provided (`matM` and `matN`).\n",
        "The output matrix is also represented with its coordinates:"
      ]
    },
    {
      "cell_type": "code",
      "metadata": {
        "application/vnd.databricks.v1+cell": {
          "title": "",
          "showTitle": false,
          "inputWidgets": {},
          "nuid": "2197e35f-8bc5-4a6b-93e7-8549d7333752"
        },
        "id": "fVTx5zcK_2bh"
      },
      "source": [
        "M = [(1,1,1),(1,2,2),(1,3,3),(2,1,2),(2,2,5),(2,3,7)]\n",
        "N = [(1,1,2),(1,2,4),(1,3,8),(2,1,1),(2,2,5),(2,3,10),(3,1,3),(3,2,6),(3,3,9)]\n",
        "\n",
        "matM = spark.sparkContext.parallelize(M)\n",
        "matN = spark.sparkContext.parallelize(N)"
      ],
      "execution_count": null,
      "outputs": []
    },
    {
      "cell_type": "code",
      "source": [
        "matMElem = matM.map(lambda x:(x[1],(x[0],x[2]))) #(i,j,v) -> (j,(i,v))\n",
        "matNElem = matN.map(lambda x:(x[0],(x[1],x[2]))) #(j,k,v') -> (j,(k,v'))\n",
        "pairwiseProd = matMElem.join(matNElem) #(j,((i,v),(k,v')))\n",
        "product = pairwiseProd.map(lambda x:((x[1][0][0],x[1][1][0]),x[1][0][1]*x[1][1][1])).reduceByKey(add) #((i,k),v*v')\n",
        "product.collect()"
      ],
      "metadata": {
        "colab": {
          "base_uri": "https://localhost:8080/"
        },
        "id": "P-S_H-ncyNXF",
        "outputId": "b360989f-29ba-4c01-aa7c-6a3168ae1d4a"
      },
      "execution_count": null,
      "outputs": [
        {
          "output_type": "execute_result",
          "data": {
            "text/plain": [
              "[((1, 1), 13),\n",
              " ((1, 2), 32),\n",
              " ((2, 3), 129),\n",
              " ((1, 3), 55),\n",
              " ((2, 2), 75),\n",
              " ((2, 1), 30)]"
            ]
          },
          "metadata": {},
          "execution_count": 118
        }
      ]
    },
    {
      "cell_type": "markdown",
      "metadata": {
        "application/vnd.databricks.v1+cell": {
          "title": "",
          "showTitle": false,
          "inputWidgets": {},
          "nuid": "9931a596-3ea9-4d1f-b408-b3558647f934"
        },
        "id": "R5ZJa3iU_2bh"
      },
      "source": [
        "##END"
      ]
    }
  ]
}