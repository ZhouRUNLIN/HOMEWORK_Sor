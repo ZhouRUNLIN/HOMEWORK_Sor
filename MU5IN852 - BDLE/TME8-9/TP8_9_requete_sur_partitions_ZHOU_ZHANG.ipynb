{
  "nbformat": 4,
  "nbformat_minor": 0,
  "metadata": {
    "colab": {
      "provenance": [],
      "toc_visible": true
    },
    "kernelspec": {
      "name": "python3",
      "display_name": "Python 3"
    },
    "language_info": {
      "name": "python"
    }
  },
  "cells": [
    {
      "cell_type": "markdown",
      "metadata": {
        "application/vnd.databricks.v1+cell": {
          "title": "",
          "showTitle": false,
          "inputWidgets": {},
          "nuid": "2fcea654-56eb-4219-a555-b7635dc8ec23"
        },
        "id": "5T30y-4iGpLZ"
      },
      "source": [
        "BDLE 2024\n",
        "\n",
        "date du document  :  06/12/2024"
      ]
    },
    {
      "cell_type": "markdown",
      "metadata": {
        "application/vnd.databricks.v1+cell": {
          "title": "",
          "showTitle": false,
          "inputWidgets": {},
          "nuid": "538800ba-6d08-40a7-b6b6-829b40085742"
        },
        "id": "L_q0KahUGpLc"
      },
      "source": [
        "# TP 8 et 9 : traitement sur des partitions (séance 2)\n",
        "\n",
        " tri, regroupement, fenetre, jointure\n",
        "\n",
        "\n",
        "\n",
        "**Auteur:**\n",
        "\n",
        "**ZHOU runlin 28717281**\n",
        "\n",
        "**ZHANG zhile 21201131**\n",
        "\n"
      ]
    },
    {
      "cell_type": "markdown",
      "source": [
        "# Indications, méthode"
      ],
      "metadata": {
        "id": "aT_NtBsWzP_u"
      }
    },
    {
      "cell_type": "markdown",
      "source": [
        "L'objectif est de comprendre la notion de traitement sur des données partitionnées.\n",
        "\n",
        "*   Savoir *décomposer* un traitement complexe (une requête SQL) en une suite d'étapes.\n",
        "\n",
        "*   Savoir *séparer* les étapes de **traitement dans une partition** des étapes de **repartitionnement des données**. Dans une étape de traitement, on peut si nécesaire calculer un atribut qui servira à un repartitionnement ultérieur.\n",
        "\n",
        "\n",
        "Indications:\n",
        "\n",
        "*   Les données sont gérées par spark et sont supposées être très volumineuses. Elle ne doivent jamais être \"remontées\" entièrement dans l'application. Ne jamais invoquer un collect() sur la totalité des données.\n",
        "\n",
        "*   On peut remonter dans l'application le résultat d'une requête si on sait que sa taille est petite.\n",
        "\n",
        "*   On peut faire \"descendre\" vers spark des données auxilliaires provenant de l'application (supposées de petite taille). Ces données auxilliaires pourront ensuite être lues lors d'un prochain traitement dans une partition.\n",
        "\n",
        "\n",
        "Implémentation :\n",
        "\n",
        "*   Savoir définir une fonction UDF qui implémente le traitement dans une partition et qui est invoquée avec mapPartition ou mapPartitionWithIndex.\n",
        "\n",
        "*   La fonction repartition permet de repartitionner les données\n",
        "\n",
        "*   La fonction broadcast permet de diffuser des données auxilliaires\n",
        "\n",
        "\n"
      ],
      "metadata": {
        "id": "ckp0iOg2zUnt"
      }
    },
    {
      "cell_type": "markdown",
      "metadata": {
        "application/vnd.databricks.v1+cell": {
          "title": "",
          "showTitle": false,
          "inputWidgets": {},
          "nuid": "b15737ae-19bd-4b9f-b9f3-52388cc5e50e"
        },
        "id": "levNDESpS1hT"
      },
      "source": [
        "# Préparation"
      ]
    },
    {
      "cell_type": "markdown",
      "metadata": {
        "id": "7v9EXMl8aPZC"
      },
      "source": [
        "Installer pyspark et findspark :\n"
      ]
    },
    {
      "cell_type": "code",
      "metadata": {
        "id": "3zlwNHy1S8C2",
        "colab": {
          "base_uri": "https://localhost:8080/"
        },
        "outputId": "a631b425-2502-44ab-c16c-ec58f3429216"
      },
      "source": [
        "!pip install -q pyspark\n",
        "!pip install -q findspark\n",
        "print(\"installé\")"
      ],
      "execution_count": 1,
      "outputs": [
        {
          "output_type": "stream",
          "name": "stdout",
          "text": [
            "installé\n"
          ]
        }
      ]
    },
    {
      "cell_type": "markdown",
      "metadata": {
        "id": "PnEmOd_zOUo0"
      },
      "source": [
        "Démarrer la session spark"
      ]
    },
    {
      "cell_type": "code",
      "metadata": {
        "id": "W0ADH0J-VW7i",
        "colab": {
          "base_uri": "https://localhost:8080/"
        },
        "outputId": "80193958-b82d-4f50-c84e-1f18bed13a2e"
      },
      "source": [
        "import os\n",
        "import glob\n",
        "\n",
        "pyspark_dir = glob.glob('/usr/local/lib/python*/dist-packages/pyspark')[0]\n",
        "print(\"pyspark directory is\", pyspark_dir)\n",
        "os.environ[\"SPARK_HOME\"] = pyspark_dir\n",
        "os.environ[\"JAVA_HOME\"] = \"/usr\""
      ],
      "execution_count": 2,
      "outputs": [
        {
          "output_type": "stream",
          "name": "stdout",
          "text": [
            "pyspark directory is /usr/local/lib/python3.10/dist-packages/pyspark\n"
          ]
        }
      ]
    },
    {
      "cell_type": "code",
      "metadata": {
        "id": "Q_WxQZB7TaUC",
        "colab": {
          "base_uri": "https://localhost:8080/"
        },
        "outputId": "067bdca2-d096-4198-eb0d-301a36e94a14"
      },
      "source": [
        "# Principaux import\n",
        "import findspark\n",
        "from pyspark.sql import SparkSession\n",
        "from pyspark import SparkConf\n",
        "\n",
        "# pour les dataframe et udf\n",
        "from pyspark.sql import *\n",
        "from pyspark.sql.functions import *\n",
        "from pyspark.sql.types import *\n",
        "from datetime import *\n",
        "\n",
        "# pour le chronomètre\n",
        "import time\n",
        "\n",
        "# pour les itérateurs\n",
        "from typing import Iterator\n",
        "\n",
        "\n",
        "# initialise les variables d'environnement pour spark\n",
        "findspark.init()\n",
        "\n",
        "# Démarrage session spark\n",
        "# --------------------------\n",
        "def demarrer_spark():\n",
        "  local = \"local[*]\"\n",
        "  appName = \"TP\"\n",
        "  configLocale = SparkConf().setAppName(appName).setMaster(local).\\\n",
        "  set(\"spark.executor.memory\", \"6G\").\\\n",
        "  set(\"spark.driver.memory\",\"3G\").\\\n",
        "  set(\"spark.sql.catalogImplementation\",\"in-memory\")\n",
        "\n",
        "  spark = SparkSession.builder.config(conf = configLocale).getOrCreate()\n",
        "  sc = spark.sparkContext\n",
        "  sc.setLogLevel(\"ERROR\")\n",
        "\n",
        "  spark.conf.set(\"spark.sql.autoBroadcastJoinThreshold\",\"-1\")\n",
        "\n",
        "  # On ajuste l'environnement d'exécution des requêtes à la taille du cluster (4 coeurs)\n",
        "  spark.conf.set(\"spark.sql.shuffle.partitions\",\"4\")\n",
        "\n",
        "  # désactiver adaptive query\n",
        "  spark.conf.set(\"spark.sql.adaptive.enable\", \"false\")\n",
        "\n",
        "  print(\"session démarrée, son id est \", sc.applicationId)\n",
        "  return spark\n",
        "\n",
        "# spark.stop()\n",
        "spark = demarrer_spark()"
      ],
      "execution_count": 3,
      "outputs": [
        {
          "output_type": "stream",
          "name": "stdout",
          "text": [
            "session démarrée, son id est  local-1733519842531\n"
          ]
        }
      ]
    },
    {
      "cell_type": "markdown",
      "metadata": {
        "id": "6PPivNNpOcBT"
      },
      "source": [
        "Redéfinir la fonction **display** pour afficher le résultat des requêtes dans un tableau"
      ]
    },
    {
      "cell_type": "code",
      "metadata": {
        "id": "FFu44fW7LRgC"
      },
      "source": [
        "import pandas as pd\n",
        "from google.colab import data_table\n",
        "\n",
        "# alternatives to Databricks display function.\n",
        "\n",
        "def display(df, n=100):\n",
        "  return data_table.DataTable(df.limit(n).toPandas(), include_index=False, num_rows_per_page=10)\n"
      ],
      "execution_count": 4,
      "outputs": []
    },
    {
      "cell_type": "markdown",
      "metadata": {
        "id": "I0-keRafUD5N"
      },
      "source": [
        "Définir le tag **%%sql** pour pouvoir écrire plus simplement des requêtes en SQL dans une cellule"
      ]
    },
    {
      "cell_type": "code",
      "metadata": {
        "id": "eJ7aiRS-gaVF"
      },
      "source": [
        "from IPython.core.magic import (register_line_magic, register_cell_magic, register_line_cell_magic)\n",
        "\n",
        "def removeComments(query):\n",
        "  result = \"\"\n",
        "  for line in query.split('\\n'):\n",
        "    if not(line.strip().startswith(\"--\")):\n",
        "      result += line + \"\\n\"\n",
        "  return result\n",
        "\n",
        "@register_line_cell_magic\n",
        "def sql(line, cell=None):\n",
        "    \"To run a sql query. Use:  %%sql\"\n",
        "    val = cell if cell is not None else line\n",
        "    tabRequetes = removeComments(val).split(\";\")\n",
        "    derniere = None\n",
        "    est_requete = False\n",
        "    for r in tabRequetes:\n",
        "        r = r.strip()\n",
        "        if len(r) > 2:\n",
        "          derniere = spark.sql(r)\n",
        "          est_requete = ( r.lower().startswith('select') or r.lower().startswith('with') )\n",
        "    if(est_requete):\n",
        "      return display(derniere)\n",
        "    else:\n",
        "      return print('ok')"
      ],
      "execution_count": 5,
      "outputs": []
    },
    {
      "cell_type": "markdown",
      "metadata": {
        "id": "jOSO0N8paIT1"
      },
      "source": [
        "Utiliaires : Chronomètres"
      ]
    },
    {
      "cell_type": "code",
      "metadata": {
        "application/vnd.databricks.v1+cell": {
          "title": "",
          "showTitle": false,
          "inputWidgets": {},
          "nuid": "a6272df1-b406-40d0-b5df-0df8dacb430b"
        },
        "colab": {
          "base_uri": "https://localhost:8080/"
        },
        "id": "fP14u62aG1_9",
        "outputId": "115f645e-849b-43cb-8ec6-69bb66577f8e"
      },
      "source": [
        "#------------------------------\n",
        "# Chronometre : chronoPersist2\n",
        "#------------------------------\n",
        "import time\n",
        "\n",
        "# Ce chronometre garantit que chaque tuple du dataframe est lu entièrement.\n",
        "# En effet il est nécessaire de lire le détail de chaque tuple avant de les 'copier' en mémoire.\n",
        "def chronoPersist(df):\n",
        "    df.unpersist()\n",
        "    t1 = time.perf_counter()\n",
        "    count = df.persist().count()\n",
        "    t2 = time.perf_counter()\n",
        "    df.unpersist()\n",
        "    print('durée: {:.1f} s'.format(t2 - t1), 'pour lire', count , 'elements')\n",
        "\n",
        "def chronoPersist2(df):\n",
        "  dest = df.selectExpr(\"*\", \"1\")\n",
        "  t1 = time.perf_counter()\n",
        "  count = dest.persist().count()\n",
        "  t2 = time.perf_counter()\n",
        "  dest.unpersist()\n",
        "  print('durée: {:.1f} s'.format(t2 - t1), 'pour lire', count , 'elements')\n",
        "\n",
        "def chronoCount(df):\n",
        "  t1 = time.perf_counter()\n",
        "  count = df.count()\n",
        "  t2 = time.perf_counter()\n",
        "  print('durée: {:.1f} s'.format(t2 - t1), 'pour dénombrer', count , 'elements')\n",
        "\n",
        "print(\"fonctions définies\")"
      ],
      "execution_count": 6,
      "outputs": [
        {
          "output_type": "stream",
          "name": "stdout",
          "text": [
            "fonctions définies\n"
          ]
        }
      ]
    },
    {
      "cell_type": "markdown",
      "metadata": {
        "application/vnd.databricks.v1+cell": {
          "title": "",
          "showTitle": false,
          "inputWidgets": {},
          "nuid": "b15737ae-19bd-4b9f-b9f3-52388cc5e50e"
        },
        "id": "sIeeBKU2GpLc"
      },
      "source": [
        "# Accès aux données"
      ]
    },
    {
      "cell_type": "code",
      "metadata": {
        "application/vnd.databricks.v1+cell": {
          "title": "",
          "showTitle": false,
          "inputWidgets": {},
          "nuid": "5f7082b7-3297-469a-82c3-2e6aaf5acc22"
        },
        "colab": {
          "base_uri": "https://localhost:8080/"
        },
        "id": "dG-ZrStWvR6N",
        "outputId": "2d0af419-60d1-4d17-e516-35a48fb9d667"
      },
      "source": [
        "import os\n",
        "local_dir = \"/local/data\"\n",
        "os.makedirs(local_dir, exist_ok=True)\n",
        "os.listdir(local_dir)"
      ],
      "execution_count": 7,
      "outputs": [
        {
          "output_type": "execute_result",
          "data": {
            "text/plain": [
              "[]"
            ]
          },
          "metadata": {},
          "execution_count": 7
        }
      ]
    },
    {
      "cell_type": "markdown",
      "metadata": {
        "application/vnd.databricks.v1+cell": {
          "title": "",
          "showTitle": false,
          "inputWidgets": {},
          "nuid": "9b13d583-eac5-414c-b544-43024c76c144"
        },
        "id": "NqVvf8iLGpLf"
      },
      "source": [
        "URL pour l'accès aux datasets"
      ]
    },
    {
      "cell_type": "code",
      "metadata": {
        "application/vnd.databricks.v1+cell": {
          "title": "",
          "showTitle": false,
          "inputWidgets": {},
          "nuid": "8a1fead0-61e4-4d04-a2c0-7858f767b0a1"
        },
        "id": "8g6iWNvES1hW",
        "colab": {
          "base_uri": "https://localhost:8080/"
        },
        "outputId": "509fc8d7-1e5c-4130-9a4c-087ef95f3de9"
      },
      "source": [
        "# URL du dossier PUBLIC_DATASET contenant des fichiers de données pour les TP\n",
        "# ---------------------------------------------------------------------------\n",
        "# en cas de problème avec le téléchargement des datasets, aller directement sur l'URL ci-dessous\n",
        "PUBLIC_DATASET_URL = \"https://nuage.lip6.fr/s/LqD9N23kxrfHopr\"\n",
        "PUBLIC_DATASET=PUBLIC_DATASET_URL + \"/download?path=\"\n",
        "\n",
        "print(\"URL du dossier contenant les datasets \", PUBLIC_DATASET_URL)"
      ],
      "execution_count": 8,
      "outputs": [
        {
          "output_type": "stream",
          "name": "stdout",
          "text": [
            "URL du dossier contenant les datasets  https://nuage.lip6.fr/s/LqD9N23kxrfHopr\n"
          ]
        }
      ]
    },
    {
      "cell_type": "code",
      "metadata": {
        "colab": {
          "base_uri": "https://localhost:8080/"
        },
        "id": "4MDvKL2IQTGU",
        "outputId": "c1dc9c39-911b-49b7-8aff-60756b81d09e"
      },
      "source": [
        "import os\n",
        "from urllib import request\n",
        "import zipfile\n",
        "\n",
        "# download dataset if not already donwloaded\n",
        "def download_file(web_dir, local_dir, file):\n",
        "  local_file = local_dir + \"/\" + file\n",
        "  web_file = web_dir + \"/\" + file\n",
        "  if(os.path.isfile(local_file)):\n",
        "    print(file, \"is already stored\")\n",
        "  else:\n",
        "    print(\"downloading from URL: \", web_file , \"save in : \" + local_file)\n",
        "    request.urlretrieve(web_file , local_file)\n",
        "\n",
        "def unzip_file(local_dir, file):\n",
        "  with zipfile.ZipFile(local_dir + \"/\" + file, 'r') as zip_ref:\n",
        "    zip_ref.extractall(local_dir)\n",
        "  # os.remove(local_dir + \"/\" + file)\n",
        "\n",
        "\n",
        "web_dir = PUBLIC_DATASET + \"/movielens\"\n",
        "\n",
        "download_file(web_dir, local_dir, \"notes1M.zip\")\n",
        "unzip_file(local_dir, \"notes1M.zip\")\n",
        "\n",
        "download_file(web_dir, local_dir, \"ratings3M.zip\")\n",
        "unzip_file(local_dir, \"ratings3M.zip\")\n",
        "\n",
        "download_file(web_dir, local_dir, \"films.json\")\n",
        "\n",
        "web_dir = PUBLIC_DATASET + \"/movielens/ml-latest\"\n",
        "\n",
        "download_file(web_dir, local_dir, \"movies.csv\")\n",
        "\n",
        "\n",
        "# Liste des fichiers\n",
        "os.listdir(local_dir)"
      ],
      "execution_count": 9,
      "outputs": [
        {
          "output_type": "stream",
          "name": "stdout",
          "text": [
            "downloading from URL:  https://nuage.lip6.fr/s/LqD9N23kxrfHopr/download?path=/movielens/notes1M.zip save in : /local/data/notes1M.zip\n",
            "downloading from URL:  https://nuage.lip6.fr/s/LqD9N23kxrfHopr/download?path=/movielens/ratings3M.zip save in : /local/data/ratings3M.zip\n",
            "downloading from URL:  https://nuage.lip6.fr/s/LqD9N23kxrfHopr/download?path=/movielens/films.json save in : /local/data/films.json\n",
            "downloading from URL:  https://nuage.lip6.fr/s/LqD9N23kxrfHopr/download?path=/movielens/ml-latest/movies.csv save in : /local/data/movies.csv\n"
          ]
        },
        {
          "output_type": "execute_result",
          "data": {
            "text/plain": [
              "['notes1M.json',\n",
              " 'movies.csv',\n",
              " 'films.json',\n",
              " 'notes1M.zip',\n",
              " 'ratings3M.csv',\n",
              " 'ratings3M.zip']"
            ]
          },
          "metadata": {},
          "execution_count": 9
        }
      ]
    },
    {
      "cell_type": "markdown",
      "source": [
        "### Dataframe les Films"
      ],
      "metadata": {
        "id": "J35vJpLhuDVJ"
      }
    },
    {
      "cell_type": "markdown",
      "source": [
        "début du fichier film.json"
      ],
      "metadata": {
        "id": "9zEAn3B_Q6gE"
      }
    },
    {
      "cell_type": "code",
      "source": [
        "! head -n 2 /local/data/films.json"
      ],
      "metadata": {
        "colab": {
          "base_uri": "https://localhost:8080/"
        },
        "id": "-2Loqi84QG2F",
        "outputId": "0e5a3670-76c2-4175-f0dd-8702881911c2"
      },
      "execution_count": 10,
      "outputs": [
        {
          "output_type": "stream",
          "name": "stdout",
          "text": [
            "{\"nF\":8754,\"titre\":\"Prime of Miss Jean Brodie, The (1969)\",\"g\":[\"Drama\"]}\n",
            "{\"nF\":111486,\"titre\":\"Lesson of the Evil (Aku no kyôten) (2012)\",\"g\":[\"Thriller\"]}\n"
          ]
        }
      ]
    },
    {
      "cell_type": "markdown",
      "source": [
        "définir le dataframe des films"
      ],
      "metadata": {
        "id": "L5PV448cRCjs"
      }
    },
    {
      "cell_type": "code",
      "source": [
        "schema_film = \"nF long, titre String, g Array<String>\"\n",
        "# schema_film = StructType([StructField('nF',LongType()),\n",
        "#                           StructField('titre',StringType()),\n",
        "#                           StructField('g',ArrayType(StringType()))])\n",
        "\n",
        "films = spark.read.json(local_dir + \"/\" + \"films.json\", schema = schema_film).selectExpr(\"nF\", \"titre\", \"g as genres\")\n",
        "# print('schema:', films.schema)\n",
        "\n",
        "print('Nombre total de films:', films.count())\n",
        "\n",
        "# extrait\n",
        "films_extrait = films.where(\"nF < 100\").repartition(3).persist()\n",
        "\n",
        "print(\"Nombre films dans l'extrait:\", films_extrait.count())\n",
        "\n",
        "print(\"Schéma des données:\")\n",
        "films_extrait.printSchema()\n",
        "\n",
        "# print(films_extrait.storageLevel)\n",
        "\n",
        "display(films_extrait)"
      ],
      "metadata": {
        "colab": {
          "base_uri": "https://localhost:8080/",
          "height": 493
        },
        "id": "qEUglUCQuGrU",
        "outputId": "5cc1b289-3c9a-4dff-95ec-2fd3ceeebf5d"
      },
      "execution_count": 11,
      "outputs": [
        {
          "output_type": "stream",
          "name": "stdout",
          "text": [
            "Nombre total de films: 9125\n",
            "Nombre films dans l'extrait: 92\n",
            "Schéma des données:\n",
            "root\n",
            " |-- nF: long (nullable = true)\n",
            " |-- titre: string (nullable = true)\n",
            " |-- genres: array (nullable = true)\n",
            " |    |-- element: string (containsNull = true)\n",
            "\n"
          ]
        },
        {
          "output_type": "execute_result",
          "data": {
            "text/html": [
              "<div>\n",
              "<style scoped>\n",
              "    .dataframe tbody tr th:only-of-type {\n",
              "        vertical-align: middle;\n",
              "    }\n",
              "\n",
              "    .dataframe tbody tr th {\n",
              "        vertical-align: top;\n",
              "    }\n",
              "\n",
              "    .dataframe thead th {\n",
              "        text-align: right;\n",
              "    }\n",
              "</style>\n",
              "<table border=\"1\" class=\"dataframe\">\n",
              "  <thead>\n",
              "    <tr style=\"text-align: right;\">\n",
              "      <th></th>\n",
              "      <th>nF</th>\n",
              "      <th>titre</th>\n",
              "      <th>genres</th>\n",
              "    </tr>\n",
              "  </thead>\n",
              "  <tbody>\n",
              "    <tr>\n",
              "      <th>0</th>\n",
              "      <td>94</td>\n",
              "      <td>Beautiful Girls (1996)</td>\n",
              "      <td>[Comedy, Drama, Romance]</td>\n",
              "    </tr>\n",
              "    <tr>\n",
              "      <th>1</th>\n",
              "      <td>45</td>\n",
              "      <td>To Die For (1995)</td>\n",
              "      <td>[Comedy, Drama, Thriller]</td>\n",
              "    </tr>\n",
              "    <tr>\n",
              "      <th>2</th>\n",
              "      <td>58</td>\n",
              "      <td>Postman, The (Postino, Il) (1994)</td>\n",
              "      <td>[Comedy, Drama, Romance]</td>\n",
              "    </tr>\n",
              "    <tr>\n",
              "      <th>3</th>\n",
              "      <td>54</td>\n",
              "      <td>Big Green, The (1995)</td>\n",
              "      <td>[Children, Comedy]</td>\n",
              "    </tr>\n",
              "    <tr>\n",
              "      <th>4</th>\n",
              "      <td>9</td>\n",
              "      <td>Sudden Death (1995)</td>\n",
              "      <td>[Action]</td>\n",
              "    </tr>\n",
              "    <tr>\n",
              "      <th>...</th>\n",
              "      <td>...</td>\n",
              "      <td>...</td>\n",
              "      <td>...</td>\n",
              "    </tr>\n",
              "    <tr>\n",
              "      <th>87</th>\n",
              "      <td>38</td>\n",
              "      <td>It Takes Two (1995)</td>\n",
              "      <td>[Children, Comedy]</td>\n",
              "    </tr>\n",
              "    <tr>\n",
              "      <th>88</th>\n",
              "      <td>15</td>\n",
              "      <td>Cutthroat Island (1995)</td>\n",
              "      <td>[Action, Adventure, Romance]</td>\n",
              "    </tr>\n",
              "    <tr>\n",
              "      <th>89</th>\n",
              "      <td>85</td>\n",
              "      <td>Angels and Insects (1995)</td>\n",
              "      <td>[Drama, Romance]</td>\n",
              "    </tr>\n",
              "    <tr>\n",
              "      <th>90</th>\n",
              "      <td>64</td>\n",
              "      <td>Two if by Sea (1996)</td>\n",
              "      <td>[Comedy, Romance]</td>\n",
              "    </tr>\n",
              "    <tr>\n",
              "      <th>91</th>\n",
              "      <td>37</td>\n",
              "      <td>Across the Sea of Time (1995)</td>\n",
              "      <td>[Documentary, IMAX]</td>\n",
              "    </tr>\n",
              "  </tbody>\n",
              "</table>\n",
              "<p>92 rows × 3 columns</p>\n",
              "</div>"
            ],
            "application/vnd.google.colaboratory.module+javascript": "\n      import \"https://ssl.gstatic.com/colaboratory/data_table/e523c247d1e24a05/data_table.js\";\n\n      const table = window.createDataTable({\n        data: [[{\n            'v': 94,\n            'f': \"94\",\n        },\n\"Beautiful Girls (1996)\",\n[\"Comedy\", \"Drama\", \"Romance\"]],\n [{\n            'v': 45,\n            'f': \"45\",\n        },\n\"To Die For (1995)\",\n[\"Comedy\", \"Drama\", \"Thriller\"]],\n [{\n            'v': 58,\n            'f': \"58\",\n        },\n\"Postman, The (Postino, Il) (1994)\",\n[\"Comedy\", \"Drama\", \"Romance\"]],\n [{\n            'v': 54,\n            'f': \"54\",\n        },\n\"Big Green, The (1995)\",\n[\"Children\", \"Comedy\"]],\n [{\n            'v': 9,\n            'f': \"9\",\n        },\n\"Sudden Death (1995)\",\n[\"Action\"]],\n [{\n            'v': 4,\n            'f': \"4\",\n        },\n\"Waiting to Exhale (1995)\",\n[\"Comedy\", \"Drama\", \"Romance\"]],\n [{\n            'v': 80,\n            'f': \"80\",\n        },\n\"White Balloon, The (Badkonake sefid) (1995)\",\n[\"Children\", \"Drama\"]],\n [{\n            'v': 87,\n            'f': \"87\",\n        },\n\"Dunston Checks In (1996)\",\n[\"Children\", \"Comedy\"]],\n [{\n            'v': 88,\n            'f': \"88\",\n        },\n\"Black Sheep (1996)\",\n[\"Comedy\"]],\n [{\n            'v': 20,\n            'f': \"20\",\n        },\n\"Money Train (1995)\",\n[\"Action\", \"Comedy\", \"Crime\", \"Drama\", \"Thriller\"]],\n [{\n            'v': 83,\n            'f': \"83\",\n        },\n\"Once Upon a Time... When We Were Colored (1995)\",\n[\"Drama\", \"Romance\"]],\n [{\n            'v': 57,\n            'f': \"57\",\n        },\n\"Home for the Holidays (1995)\",\n[\"Drama\"]],\n [{\n            'v': 73,\n            'f': \"73\",\n        },\n\"Mis\\u00e9rables, Les (1995)\",\n[\"Drama\", \"War\"]],\n [{\n            'v': 12,\n            'f': \"12\",\n        },\n\"Dracula: Dead and Loving It (1995)\",\n[\"Comedy\", \"Horror\"]],\n [{\n            'v': 39,\n            'f': \"39\",\n        },\n\"Clueless (1995)\",\n[\"Comedy\", \"Romance\"]],\n [{\n            'v': 35,\n            'f': \"35\",\n        },\n\"Carrington (1995)\",\n[\"Drama\", \"Romance\"]],\n [{\n            'v': 97,\n            'f': \"97\",\n        },\n\"Hate (Haine, La) (1995)\",\n[\"Crime\", \"Drama\"]],\n [{\n            'v': 70,\n            'f': \"70\",\n        },\n\"From Dusk Till Dawn (1996)\",\n[\"Action\", \"Comedy\", \"Horror\", \"Thriller\"]],\n [{\n            'v': 46,\n            'f': \"46\",\n        },\n\"How to Make an American Quilt (1995)\",\n[\"Drama\", \"Romance\"]],\n [{\n            'v': 13,\n            'f': \"13\",\n        },\n\"Balto (1995)\",\n[\"Adventure\", \"Animation\", \"Children\"]],\n [{\n            'v': 86,\n            'f': \"86\",\n        },\n\"White Squall (1996)\",\n[\"Action\", \"Adventure\", \"Drama\"]],\n [{\n            'v': 25,\n            'f': \"25\",\n        },\n\"Leaving Las Vegas (1995)\",\n[\"Drama\", \"Romance\"]],\n [{\n            'v': 66,\n            'f': \"66\",\n        },\n\"Lawnmower Man 2: Beyond Cyberspace (1996)\",\n[\"Action\", \"Sci-Fi\", \"Thriller\"]],\n [{\n            'v': 1,\n            'f': \"1\",\n        },\n\"Toy Story (1995)\",\n[\"Adventure\", \"Animation\", \"Children\", \"Comedy\", \"Fantasy\"]],\n [{\n            'v': 22,\n            'f': \"22\",\n        },\n\"Copycat (1995)\",\n[\"Crime\", \"Drama\", \"Horror\", \"Mystery\", \"Thriller\"]],\n [{\n            'v': 2,\n            'f': \"2\",\n        },\n\"Jumanji (1995)\",\n[\"Adventure\", \"Children\", \"Fantasy\"]],\n [{\n            'v': 36,\n            'f': \"36\",\n        },\n\"Dead Man Walking (1995)\",\n[\"Crime\", \"Drama\"]],\n [{\n            'v': 17,\n            'f': \"17\",\n        },\n\"Sense and Sensibility (1995)\",\n[\"Drama\", \"Romance\"]],\n [{\n            'v': 30,\n            'f': \"30\",\n        },\n\"Shanghai Triad (Yao a yao yao dao waipo qiao) (1995)\",\n[\"Crime\", \"Drama\"]],\n [{\n            'v': 24,\n            'f': \"24\",\n        },\n\"Powder (1995)\",\n[\"Drama\", \"Sci-Fi\"]],\n [{\n            'v': 93,\n            'f': \"93\",\n        },\n\"Vampire in Brooklyn (1995)\",\n[\"Comedy\", \"Horror\", \"Romance\"]],\n [{\n            'v': 14,\n            'f': \"14\",\n        },\n\"Nixon (1995)\",\n[\"Drama\"]],\n [{\n            'v': 71,\n            'f': \"71\",\n        },\n\"Fair Game (1995)\",\n[\"Action\"]],\n [{\n            'v': 49,\n            'f': \"49\",\n        },\n\"When Night Is Falling (1995)\",\n[\"Drama\", \"Romance\"]],\n [{\n            'v': 27,\n            'f': \"27\",\n        },\n\"Now and Then (1995)\",\n[\"Children\", \"Drama\"]],\n [{\n            'v': 59,\n            'f': \"59\",\n        },\n\"Confessional, The (Confessionnal, Le) (1995)\",\n[\"Drama\", \"Mystery\"]],\n [{\n            'v': 3,\n            'f': \"3\",\n        },\n\"Grumpier Old Men (1995)\",\n[\"Comedy\", \"Romance\"]],\n [{\n            'v': 34,\n            'f': \"34\",\n        },\n\"Babe (1995)\",\n[\"Children\", \"Drama\"]],\n [{\n            'v': 19,\n            'f': \"19\",\n        },\n\"Ace Ventura: When Nature Calls (1995)\",\n[\"Comedy\"]],\n [{\n            'v': 99,\n            'f': \"99\",\n        },\n\"Heidi Fleiss: Hollywood Madam (1995)\",\n[\"Documentary\"]],\n [{\n            'v': 23,\n            'f': \"23\",\n        },\n\"Assassins (1995)\",\n[\"Action\", \"Crime\", \"Thriller\"]],\n [{\n            'v': 60,\n            'f': \"60\",\n        },\n\"Indian in the Cupboard, The (1995)\",\n[\"Adventure\", \"Children\", \"Fantasy\"]],\n [{\n            'v': 52,\n            'f': \"52\",\n        },\n\"Mighty Aphrodite (1995)\",\n[\"Comedy\", \"Drama\", \"Romance\"]],\n [{\n            'v': 84,\n            'f': \"84\",\n        },\n\"Last Summer in the Hamptons (1995)\",\n[\"Comedy\", \"Drama\"]],\n [{\n            'v': 76,\n            'f': \"76\",\n        },\n\"Screamers (1995)\",\n[\"Action\", \"Sci-Fi\", \"Thriller\"]],\n [{\n            'v': 7,\n            'f': \"7\",\n        },\n\"Sabrina (1995)\",\n[\"Comedy\", \"Romance\"]],\n [{\n            'v': 16,\n            'f': \"16\",\n        },\n\"Casino (1995)\",\n[\"Crime\", \"Drama\"]],\n [{\n            'v': 61,\n            'f': \"61\",\n        },\n\"Eye for an Eye (1996)\",\n[\"Drama\", \"Thriller\"]],\n [{\n            'v': 62,\n            'f': \"62\",\n        },\n\"Mr. Holland's Opus (1995)\",\n[\"Drama\"]],\n [{\n            'v': 98,\n            'f': \"98\",\n        },\n\"Shopping (1994)\",\n[\"Action\", \"Thriller\"]],\n [{\n            'v': 10,\n            'f': \"10\",\n        },\n\"GoldenEye (1995)\",\n[\"Action\", \"Adventure\", \"Thriller\"]],\n [{\n            'v': 47,\n            'f': \"47\",\n        },\n\"Seven (a.k.a. Se7en) (1995)\",\n[\"Mystery\", \"Thriller\"]],\n [{\n            'v': 78,\n            'f': \"78\",\n        },\n\"Crossing Guard, The (1995)\",\n[\"Action\", \"Crime\", \"Drama\", \"Thriller\"]],\n [{\n            'v': 81,\n            'f': \"81\",\n        },\n\"Things to Do in Denver When You're Dead (1995)\",\n[\"Crime\", \"Drama\", \"Romance\"]],\n [{\n            'v': 40,\n            'f': \"40\",\n        },\n\"Cry, the Beloved Country (1995)\",\n[\"Drama\"]],\n [{\n            'v': 74,\n            'f': \"74\",\n        },\n\"Bed of Roses (1996)\",\n[\"Drama\", \"Romance\"]],\n [{\n            'v': 89,\n            'f': \"89\",\n        },\n\"Nick of Time (1995)\",\n[\"Action\", \"Thriller\"]],\n [{\n            'v': 42,\n            'f': \"42\",\n        },\n\"Dead Presidents (1995)\",\n[\"Action\", \"Crime\", \"Drama\"]],\n [{\n            'v': 5,\n            'f': \"5\",\n        },\n\"Father of the Bride Part II (1995)\",\n[\"Comedy\"]],\n [{\n            'v': 43,\n            'f': \"43\",\n        },\n\"Restoration (1995)\",\n[\"Drama\"]],\n [{\n            'v': 65,\n            'f': \"65\",\n        },\n\"Bio-Dome (1996)\",\n[\"Comedy\"]],\n [{\n            'v': 48,\n            'f': \"48\",\n        },\n\"Pocahontas (1995)\",\n[\"Animation\", \"Children\", \"Drama\", \"Musical\", \"Romance\"]],\n [{\n            'v': 72,\n            'f': \"72\",\n        },\n\"Kicking and Screaming (1995)\",\n[\"Comedy\", \"Drama\"]],\n [{\n            'v': 21,\n            'f': \"21\",\n        },\n\"Get Shorty (1995)\",\n[\"Comedy\", \"Crime\", \"Thriller\"]],\n [{\n            'v': 63,\n            'f': \"63\",\n        },\n\"Don't Be a Menace to South Central While Drinking Your Juice in the Hood (1996)\",\n[\"Comedy\", \"Crime\"]],\n [{\n            'v': 95,\n            'f': \"95\",\n        },\n\"Broken Arrow (1996)\",\n[\"Action\", \"Adventure\", \"Thriller\"]],\n [{\n            'v': 8,\n            'f': \"8\",\n        },\n\"Tom and Huck (1995)\",\n[\"Adventure\", \"Children\"]],\n [{\n            'v': 53,\n            'f': \"53\",\n        },\n\"Lamerica (1994)\",\n[\"Adventure\", \"Drama\"]],\n [{\n            'v': 50,\n            'f': \"50\",\n        },\n\"Usual Suspects, The (1995)\",\n[\"Crime\", \"Mystery\", \"Thriller\"]],\n [{\n            'v': 96,\n            'f': \"96\",\n        },\n\"In the Bleak Midwinter (1995)\",\n[\"Comedy\", \"Drama\"]],\n [{\n            'v': 55,\n            'f': \"55\",\n        },\n\"Georgia (1995)\",\n[\"Drama\"]],\n [{\n            'v': 6,\n            'f': \"6\",\n        },\n\"Heat (1995)\",\n[\"Action\", \"Crime\", \"Thriller\"]],\n [{\n            'v': 31,\n            'f': \"31\",\n        },\n\"Dangerous Minds (1995)\",\n[\"Drama\"]],\n [{\n            'v': 79,\n            'f': \"79\",\n        },\n\"Juror, The (1996)\",\n[\"Drama\", \"Thriller\"]],\n [{\n            'v': 92,\n            'f': \"92\",\n        },\n\"Mary Reilly (1996)\",\n[\"Drama\", \"Horror\", \"Thriller\"]],\n [{\n            'v': 77,\n            'f': \"77\",\n        },\n\"Nico Icon (1995)\",\n[\"Documentary\"]],\n [{\n            'v': 18,\n            'f': \"18\",\n        },\n\"Four Rooms (1995)\",\n[\"Comedy\"]],\n [{\n            'v': 26,\n            'f': \"26\",\n        },\n\"Othello (1995)\",\n[\"Drama\"]],\n [{\n            'v': 11,\n            'f': \"11\",\n        },\n\"American President, The (1995)\",\n[\"Comedy\", \"Drama\", \"Romance\"]],\n [{\n            'v': 41,\n            'f': \"41\",\n        },\n\"Richard III (1995)\",\n[\"Drama\", \"War\"]],\n [{\n            'v': 29,\n            'f': \"29\",\n        },\n\"City of Lost Children, The (Cit\\u00e9 des enfants perdus, La) (1995)\",\n[\"Adventure\", \"Drama\", \"Fantasy\", \"Mystery\", \"Sci-Fi\"]],\n [{\n            'v': 82,\n            'f': \"82\",\n        },\n\"Antonia's Line (Antonia) (1995)\",\n[\"Comedy\", \"Drama\"]],\n [{\n            'v': 44,\n            'f': \"44\",\n        },\n\"Mortal Kombat (1995)\",\n[\"Action\", \"Adventure\", \"Fantasy\"]],\n [{\n            'v': 28,\n            'f': \"28\",\n        },\n\"Persuasion (1995)\",\n[\"Drama\", \"Romance\"]],\n [{\n            'v': 32,\n            'f': \"32\",\n        },\n\"Twelve Monkeys (a.k.a. 12 Monkeys) (1995)\",\n[\"Mystery\", \"Sci-Fi\", \"Thriller\"]],\n [{\n            'v': 69,\n            'f': \"69\",\n        },\n\"Friday (1995)\",\n[\"Comedy\"]],\n [{\n            'v': 68,\n            'f': \"68\",\n        },\n\"French Twist (Gazon maudit) (1995)\",\n[\"Comedy\", \"Romance\"]],\n [{\n            'v': 38,\n            'f': \"38\",\n        },\n\"It Takes Two (1995)\",\n[\"Children\", \"Comedy\"]],\n [{\n            'v': 15,\n            'f': \"15\",\n        },\n\"Cutthroat Island (1995)\",\n[\"Action\", \"Adventure\", \"Romance\"]],\n [{\n            'v': 85,\n            'f': \"85\",\n        },\n\"Angels and Insects (1995)\",\n[\"Drama\", \"Romance\"]],\n [{\n            'v': 64,\n            'f': \"64\",\n        },\n\"Two if by Sea (1996)\",\n[\"Comedy\", \"Romance\"]],\n [{\n            'v': 37,\n            'f': \"37\",\n        },\n\"Across the Sea of Time (1995)\",\n[\"Documentary\", \"IMAX\"]]],\n        columns: [[\"number\", \"nF\"], [\"string\", \"titre\"], [\"string\", \"genres\"]],\n        columnOptions: [],\n        rowsPerPage: 10,\n        helpUrl: \"https://colab.research.google.com/notebooks/data_table.ipynb\",\n        suppressOutputScrolling: true,\n        minimumWidth: undefined,\n      });\n\n      function appendQuickchartButton(parentElement) {\n        let quickchartButtonContainerElement = document.createElement('div');\n        quickchartButtonContainerElement.innerHTML = `\n<div id=\"df-626598f1-54ac-4dee-bdf9-b0978bea0de6\">\n  <button class=\"colab-df-quickchart\" onclick=\"quickchart('df-626598f1-54ac-4dee-bdf9-b0978bea0de6')\"\n            title=\"Suggest charts\"\n            style=\"display:none;\">\n    \n<svg xmlns=\"http://www.w3.org/2000/svg\" height=\"24px\"viewBox=\"0 0 24 24\"\n     width=\"24px\">\n    <g>\n        <path d=\"M19 3H5c-1.1 0-2 .9-2 2v14c0 1.1.9 2 2 2h14c1.1 0 2-.9 2-2V5c0-1.1-.9-2-2-2zM9 17H7v-7h2v7zm4 0h-2V7h2v10zm4 0h-2v-4h2v4z\"/>\n    </g>\n</svg>\n  </button>\n  \n<style>\n  .colab-df-quickchart {\n      --bg-color: #E8F0FE;\n      --fill-color: #1967D2;\n      --hover-bg-color: #E2EBFA;\n      --hover-fill-color: #174EA6;\n      --disabled-fill-color: #AAA;\n      --disabled-bg-color: #DDD;\n  }\n\n  [theme=dark] .colab-df-quickchart {\n      --bg-color: #3B4455;\n      --fill-color: #D2E3FC;\n      --hover-bg-color: #434B5C;\n      --hover-fill-color: #FFFFFF;\n      --disabled-bg-color: #3B4455;\n      --disabled-fill-color: #666;\n  }\n\n  .colab-df-quickchart {\n    background-color: var(--bg-color);\n    border: none;\n    border-radius: 50%;\n    cursor: pointer;\n    display: none;\n    fill: var(--fill-color);\n    height: 32px;\n    padding: 0;\n    width: 32px;\n  }\n\n  .colab-df-quickchart:hover {\n    background-color: var(--hover-bg-color);\n    box-shadow: 0 1px 2px rgba(60, 64, 67, 0.3), 0 1px 3px 1px rgba(60, 64, 67, 0.15);\n    fill: var(--button-hover-fill-color);\n  }\n\n  .colab-df-quickchart-complete:disabled,\n  .colab-df-quickchart-complete:disabled:hover {\n    background-color: var(--disabled-bg-color);\n    fill: var(--disabled-fill-color);\n    box-shadow: none;\n  }\n\n  .colab-df-spinner {\n    border: 2px solid var(--fill-color);\n    border-color: transparent;\n    border-bottom-color: var(--fill-color);\n    animation:\n      spin 1s steps(1) infinite;\n  }\n\n  @keyframes spin {\n    0% {\n      border-color: transparent;\n      border-bottom-color: var(--fill-color);\n      border-left-color: var(--fill-color);\n    }\n    20% {\n      border-color: transparent;\n      border-left-color: var(--fill-color);\n      border-top-color: var(--fill-color);\n    }\n    30% {\n      border-color: transparent;\n      border-left-color: var(--fill-color);\n      border-top-color: var(--fill-color);\n      border-right-color: var(--fill-color);\n    }\n    40% {\n      border-color: transparent;\n      border-right-color: var(--fill-color);\n      border-top-color: var(--fill-color);\n    }\n    60% {\n      border-color: transparent;\n      border-right-color: var(--fill-color);\n    }\n    80% {\n      border-color: transparent;\n      border-right-color: var(--fill-color);\n      border-bottom-color: var(--fill-color);\n    }\n    90% {\n      border-color: transparent;\n      border-bottom-color: var(--fill-color);\n    }\n  }\n</style>\n\n  <script>\n    async function quickchart(key) {\n      const quickchartButtonEl =\n        document.querySelector('#' + key + ' button');\n      quickchartButtonEl.disabled = true;  // To prevent multiple clicks.\n      quickchartButtonEl.classList.add('colab-df-spinner');\n      try {\n        const charts = await google.colab.kernel.invokeFunction(\n            'suggestCharts', [key], {});\n      } catch (error) {\n        console.error('Error during call to suggestCharts:', error);\n      }\n      quickchartButtonEl.classList.remove('colab-df-spinner');\n      quickchartButtonEl.classList.add('colab-df-quickchart-complete');\n    }\n    (() => {\n      let quickchartButtonEl =\n        document.querySelector('#df-626598f1-54ac-4dee-bdf9-b0978bea0de6 button');\n      quickchartButtonEl.style.display =\n        google.colab.kernel.accessAllowed ? 'block' : 'none';\n    })();\n  </script>\n</div>`;\n        parentElement.appendChild(quickchartButtonContainerElement);\n      }\n\n      appendQuickchartButton(table);\n    ",
            "text/plain": [
              "<google.colab.data_table.DataTable object>"
            ]
          },
          "metadata": {},
          "execution_count": 11
        }
      ]
    },
    {
      "cell_type": "markdown",
      "metadata": {
        "application/vnd.databricks.v1+cell": {
          "title": "",
          "showTitle": false,
          "inputWidgets": {},
          "nuid": "2e9bc8ed-3a2c-47b7-b30e-778f5215a8c8"
        },
        "id": "GMHqywC7G2AF"
      },
      "source": [
        "### Dataframe Les Notes"
      ]
    },
    {
      "cell_type": "code",
      "metadata": {
        "application/vnd.databricks.v1+cell": {
          "title": "",
          "showTitle": false,
          "inputWidgets": {},
          "nuid": "8f256218-b2f3-44af-b884-0f8b1de83e29"
        },
        "colab": {
          "base_uri": "https://localhost:8080/",
          "height": 374
        },
        "id": "o3EjFJheG2AF",
        "outputId": "8198ba77-0914-4546-e1cb-da33f40b9713"
      },
      "source": [
        "notes_schema = \"nF long, nU long, note double, annee long\"\n",
        "# notes_schema = StructType([StructField('nF',LongType()),\n",
        "#                            StructField('nU',LongType()),\n",
        "#                            StructField('note',DoubleType()),\n",
        "#                            StructField('annee',LongType())])\n",
        "\n",
        "notes = spark.read.json(local_dir + \"/\" + \"notes1M.json\", schema = notes_schema).selectExpr(\"nF\", \"nU\", \"note\", \"annee\")\n",
        "print('Nombre total de notes:',  notes.count())\n",
        "\n",
        "#extrait\n",
        "notes_extrait = notes.where(\"nU < 1000\").join(films_extrait, \"nF\").select(notes[\"nF\"], \"nU\", \"note\", \"annee\").repartition(3).persist()\n",
        "print(\"Nombre de notes dans l'extrait:\", notes_extrait.count())\n",
        "display(notes_extrait)"
      ],
      "execution_count": 12,
      "outputs": [
        {
          "output_type": "stream",
          "name": "stdout",
          "text": [
            "Nombre total de notes: 1301573\n",
            "Nombre de notes dans l'extrait: 185\n"
          ]
        },
        {
          "output_type": "execute_result",
          "data": {
            "text/html": [
              "<div>\n",
              "<style scoped>\n",
              "    .dataframe tbody tr th:only-of-type {\n",
              "        vertical-align: middle;\n",
              "    }\n",
              "\n",
              "    .dataframe tbody tr th {\n",
              "        vertical-align: top;\n",
              "    }\n",
              "\n",
              "    .dataframe thead th {\n",
              "        text-align: right;\n",
              "    }\n",
              "</style>\n",
              "<table border=\"1\" class=\"dataframe\">\n",
              "  <thead>\n",
              "    <tr style=\"text-align: right;\">\n",
              "      <th></th>\n",
              "      <th>nF</th>\n",
              "      <th>nU</th>\n",
              "      <th>note</th>\n",
              "      <th>annee</th>\n",
              "    </tr>\n",
              "  </thead>\n",
              "  <tbody>\n",
              "    <tr>\n",
              "      <th>0</th>\n",
              "      <td>21</td>\n",
              "      <td>638</td>\n",
              "      <td>4.0</td>\n",
              "      <td>1996</td>\n",
              "    </tr>\n",
              "    <tr>\n",
              "      <th>1</th>\n",
              "      <td>15</td>\n",
              "      <td>875</td>\n",
              "      <td>4.0</td>\n",
              "      <td>1996</td>\n",
              "    </tr>\n",
              "    <tr>\n",
              "      <th>2</th>\n",
              "      <td>76</td>\n",
              "      <td>160</td>\n",
              "      <td>4.0</td>\n",
              "      <td>2000</td>\n",
              "    </tr>\n",
              "    <tr>\n",
              "      <th>3</th>\n",
              "      <td>19</td>\n",
              "      <td>151</td>\n",
              "      <td>2.0</td>\n",
              "      <td>2004</td>\n",
              "    </tr>\n",
              "    <tr>\n",
              "      <th>4</th>\n",
              "      <td>6</td>\n",
              "      <td>24</td>\n",
              "      <td>4.0</td>\n",
              "      <td>2001</td>\n",
              "    </tr>\n",
              "    <tr>\n",
              "      <th>...</th>\n",
              "      <td>...</td>\n",
              "      <td>...</td>\n",
              "      <td>...</td>\n",
              "      <td>...</td>\n",
              "    </tr>\n",
              "    <tr>\n",
              "      <th>95</th>\n",
              "      <td>39</td>\n",
              "      <td>306</td>\n",
              "      <td>3.0</td>\n",
              "      <td>1996</td>\n",
              "    </tr>\n",
              "    <tr>\n",
              "      <th>96</th>\n",
              "      <td>1</td>\n",
              "      <td>667</td>\n",
              "      <td>4.0</td>\n",
              "      <td>1999</td>\n",
              "    </tr>\n",
              "    <tr>\n",
              "      <th>97</th>\n",
              "      <td>1</td>\n",
              "      <td>44</td>\n",
              "      <td>5.0</td>\n",
              "      <td>1996</td>\n",
              "    </tr>\n",
              "    <tr>\n",
              "      <th>98</th>\n",
              "      <td>5</td>\n",
              "      <td>196</td>\n",
              "      <td>4.0</td>\n",
              "      <td>1996</td>\n",
              "    </tr>\n",
              "    <tr>\n",
              "      <th>99</th>\n",
              "      <td>19</td>\n",
              "      <td>533</td>\n",
              "      <td>3.0</td>\n",
              "      <td>2000</td>\n",
              "    </tr>\n",
              "  </tbody>\n",
              "</table>\n",
              "<p>100 rows × 4 columns</p>\n",
              "</div>"
            ],
            "application/vnd.google.colaboratory.module+javascript": "\n      import \"https://ssl.gstatic.com/colaboratory/data_table/e523c247d1e24a05/data_table.js\";\n\n      const table = window.createDataTable({\n        data: [[{\n            'v': 21,\n            'f': \"21\",\n        },\n{\n            'v': 638,\n            'f': \"638\",\n        },\n{\n            'v': 4.0,\n            'f': \"4.0\",\n        },\n{\n            'v': 1996,\n            'f': \"1996\",\n        }],\n [{\n            'v': 15,\n            'f': \"15\",\n        },\n{\n            'v': 875,\n            'f': \"875\",\n        },\n{\n            'v': 4.0,\n            'f': \"4.0\",\n        },\n{\n            'v': 1996,\n            'f': \"1996\",\n        }],\n [{\n            'v': 76,\n            'f': \"76\",\n        },\n{\n            'v': 160,\n            'f': \"160\",\n        },\n{\n            'v': 4.0,\n            'f': \"4.0\",\n        },\n{\n            'v': 2000,\n            'f': \"2000\",\n        }],\n [{\n            'v': 19,\n            'f': \"19\",\n        },\n{\n            'v': 151,\n            'f': \"151\",\n        },\n{\n            'v': 2.0,\n            'f': \"2.0\",\n        },\n{\n            'v': 2004,\n            'f': \"2004\",\n        }],\n [{\n            'v': 6,\n            'f': \"6\",\n        },\n{\n            'v': 24,\n            'f': \"24\",\n        },\n{\n            'v': 4.0,\n            'f': \"4.0\",\n        },\n{\n            'v': 2001,\n            'f': \"2001\",\n        }],\n [{\n            'v': 45,\n            'f': \"45\",\n        },\n{\n            'v': 898,\n            'f': \"898\",\n        },\n{\n            'v': 4.0,\n            'f': \"4.0\",\n        },\n{\n            'v': 1999,\n            'f': \"1999\",\n        }],\n [{\n            'v': 6,\n            'f': \"6\",\n        },\n{\n            'v': 619,\n            'f': \"619\",\n        },\n{\n            'v': 2.0,\n            'f': \"2.0\",\n        },\n{\n            'v': 1996,\n            'f': \"1996\",\n        }],\n [{\n            'v': 1,\n            'f': \"1\",\n        },\n{\n            'v': 392,\n            'f': \"392\",\n        },\n{\n            'v': 3.5,\n            'f': \"3.5\",\n        },\n{\n            'v': 2006,\n            'f': \"2006\",\n        }],\n [{\n            'v': 1,\n            'f': \"1\",\n        },\n{\n            'v': 606,\n            'f': \"606\",\n        },\n{\n            'v': 4.0,\n            'f': \"4.0\",\n        },\n{\n            'v': 2002,\n            'f': \"2002\",\n        }],\n [{\n            'v': 6,\n            'f': \"6\",\n        },\n{\n            'v': 483,\n            'f': \"483\",\n        },\n{\n            'v': 4.0,\n            'f': \"4.0\",\n        },\n{\n            'v': 2007,\n            'f': \"2007\",\n        }],\n [{\n            'v': 16,\n            'f': \"16\",\n        },\n{\n            'v': 12,\n            'f': \"12\",\n        },\n{\n            'v': 4.0,\n            'f': \"4.0\",\n        },\n{\n            'v': 1999,\n            'f': \"1999\",\n        }],\n [{\n            'v': 47,\n            'f': \"47\",\n        },\n{\n            'v': 623,\n            'f': \"623\",\n        },\n{\n            'v': 4.0,\n            'f': \"4.0\",\n        },\n{\n            'v': 2016,\n            'f': \"2016\",\n        }],\n [{\n            'v': 47,\n            'f': \"47\",\n        },\n{\n            'v': 886,\n            'f': \"886\",\n        },\n{\n            'v': 2.0,\n            'f': \"2.0\",\n        },\n{\n            'v': 2016,\n            'f': \"2016\",\n        }],\n [{\n            'v': 97,\n            'f': \"97\",\n        },\n{\n            'v': 493,\n            'f': \"493\",\n        },\n{\n            'v': 3.0,\n            'f': \"3.0\",\n        },\n{\n            'v': 1999,\n            'f': \"1999\",\n        }],\n [{\n            'v': 44,\n            'f': \"44\",\n        },\n{\n            'v': 314,\n            'f': \"314\",\n        },\n{\n            'v': 1.5,\n            'f': \"1.5\",\n        },\n{\n            'v': 2010,\n            'f': \"2010\",\n        }],\n [{\n            'v': 65,\n            'f': \"65\",\n        },\n{\n            'v': 953,\n            'f': \"953\",\n        },\n{\n            'v': 3.0,\n            'f': \"3.0\",\n        },\n{\n            'v': 1997,\n            'f': \"1997\",\n        }],\n [{\n            'v': 44,\n            'f': \"44\",\n        },\n{\n            'v': 595,\n            'f': \"595\",\n        },\n{\n            'v': 3.0,\n            'f': \"3.0\",\n        },\n{\n            'v': 1996,\n            'f': \"1996\",\n        }],\n [{\n            'v': 10,\n            'f': \"10\",\n        },\n{\n            'v': 481,\n            'f': \"481\",\n        },\n{\n            'v': 2.0,\n            'f': \"2.0\",\n        },\n{\n            'v': 1996,\n            'f': \"1996\",\n        }],\n [{\n            'v': 14,\n            'f': \"14\",\n        },\n{\n            'v': 432,\n            'f': \"432\",\n        },\n{\n            'v': 4.0,\n            'f': \"4.0\",\n        },\n{\n            'v': 1996,\n            'f': \"1996\",\n        }],\n [{\n            'v': 1,\n            'f': \"1\",\n        },\n{\n            'v': 869,\n            'f': \"869\",\n        },\n{\n            'v': 4.0,\n            'f': \"4.0\",\n        },\n{\n            'v': 2012,\n            'f': \"2012\",\n        }],\n [{\n            'v': 34,\n            'f': \"34\",\n        },\n{\n            'v': 711,\n            'f': \"711\",\n        },\n{\n            'v': 2.5,\n            'f': \"2.5\",\n        },\n{\n            'v': 2009,\n            'f': \"2009\",\n        }],\n [{\n            'v': 44,\n            'f': \"44\",\n        },\n{\n            'v': 267,\n            'f': \"267\",\n        },\n{\n            'v': 2.5,\n            'f': \"2.5\",\n        },\n{\n            'v': 2016,\n            'f': \"2016\",\n        }],\n [{\n            'v': 34,\n            'f': \"34\",\n        },\n{\n            'v': 682,\n            'f': \"682\",\n        },\n{\n            'v': 4.0,\n            'f': \"4.0\",\n        },\n{\n            'v': 2000,\n            'f': \"2000\",\n        }],\n [{\n            'v': 19,\n            'f': \"19\",\n        },\n{\n            'v': 63,\n            'f': \"63\",\n        },\n{\n            'v': 0.5,\n            'f': \"0.5\",\n        },\n{\n            'v': 2007,\n            'f': \"2007\",\n        }],\n [{\n            'v': 6,\n            'f': \"6\",\n        },\n{\n            'v': 733,\n            'f': \"733\",\n        },\n{\n            'v': 4.5,\n            'f': \"4.5\",\n        },\n{\n            'v': 2006,\n            'f': \"2006\",\n        }],\n [{\n            'v': 39,\n            'f': \"39\",\n        },\n{\n            'v': 41,\n            'f': \"41\",\n        },\n{\n            'v': 5.0,\n            'f': \"5.0\",\n        },\n{\n            'v': 2015,\n            'f': \"2015\",\n        }],\n [{\n            'v': 21,\n            'f': \"21\",\n        },\n{\n            'v': 557,\n            'f': \"557\",\n        },\n{\n            'v': 4.0,\n            'f': \"4.0\",\n        },\n{\n            'v': 2002,\n            'f': \"2002\",\n        }],\n [{\n            'v': 21,\n            'f': \"21\",\n        },\n{\n            'v': 65,\n            'f': \"65\",\n        },\n{\n            'v': 3.0,\n            'f': \"3.0\",\n        },\n{\n            'v': 2000,\n            'f': \"2000\",\n        }],\n [{\n            'v': 1,\n            'f': \"1\",\n        },\n{\n            'v': 638,\n            'f': \"638\",\n        },\n{\n            'v': 5.0,\n            'f': \"5.0\",\n        },\n{\n            'v': 1996,\n            'f': \"1996\",\n        }],\n [{\n            'v': 1,\n            'f': \"1\",\n        },\n{\n            'v': 150,\n            'f': \"150\",\n        },\n{\n            'v': 4.0,\n            'f': \"4.0\",\n        },\n{\n            'v': 1999,\n            'f': \"1999\",\n        }],\n [{\n            'v': 95,\n            'f': \"95\",\n        },\n{\n            'v': 455,\n            'f': \"455\",\n        },\n{\n            'v': 3.0,\n            'f': \"3.0\",\n        },\n{\n            'v': 1996,\n            'f': \"1996\",\n        }],\n [{\n            'v': 12,\n            'f': \"12\",\n        },\n{\n            'v': 390,\n            'f': \"390\",\n        },\n{\n            'v': 3.0,\n            'f': \"3.0\",\n        },\n{\n            'v': 2000,\n            'f': \"2000\",\n        }],\n [{\n            'v': 39,\n            'f': \"39\",\n        },\n{\n            'v': 261,\n            'f': \"261\",\n        },\n{\n            'v': 4.0,\n            'f': \"4.0\",\n        },\n{\n            'v': 1997,\n            'f': \"1997\",\n        }],\n [{\n            'v': 2,\n            'f': \"2\",\n        },\n{\n            'v': 390,\n            'f': \"390\",\n        },\n{\n            'v': 2.0,\n            'f': \"2.0\",\n        },\n{\n            'v': 2005,\n            'f': \"2005\",\n        }],\n [{\n            'v': 1,\n            'f': \"1\",\n        },\n{\n            'v': 196,\n            'f': \"196\",\n        },\n{\n            'v': 3.0,\n            'f': \"3.0\",\n        },\n{\n            'v': 1996,\n            'f': \"1996\",\n        }],\n [{\n            'v': 89,\n            'f': \"89\",\n        },\n{\n            'v': 426,\n            'f': \"426\",\n        },\n{\n            'v': 2.0,\n            'f': \"2.0\",\n        },\n{\n            'v': 1999,\n            'f': \"1999\",\n        }],\n [{\n            'v': 52,\n            'f': \"52\",\n        },\n{\n            'v': 825,\n            'f': \"825\",\n        },\n{\n            'v': 4.0,\n            'f': \"4.0\",\n        },\n{\n            'v': 2016,\n            'f': \"2016\",\n        }],\n [{\n            'v': 95,\n            'f': \"95\",\n        },\n{\n            'v': 524,\n            'f': \"524\",\n        },\n{\n            'v': 5.0,\n            'f': \"5.0\",\n        },\n{\n            'v': 1996,\n            'f': \"1996\",\n        }],\n [{\n            'v': 62,\n            'f': \"62\",\n        },\n{\n            'v': 760,\n            'f': \"760\",\n        },\n{\n            'v': 4.0,\n            'f': \"4.0\",\n        },\n{\n            'v': 1996,\n            'f': \"1996\",\n        }],\n [{\n            'v': 50,\n            'f': \"50\",\n        },\n{\n            'v': 934,\n            'f': \"934\",\n        },\n{\n            'v': 4.5,\n            'f': \"4.5\",\n        },\n{\n            'v': 2005,\n            'f': \"2005\",\n        }],\n [{\n            'v': 50,\n            'f': \"50\",\n        },\n{\n            'v': 778,\n            'f': \"778\",\n        },\n{\n            'v': 4.5,\n            'f': \"4.5\",\n        },\n{\n            'v': 2017,\n            'f': \"2017\",\n        }],\n [{\n            'v': 36,\n            'f': \"36\",\n        },\n{\n            'v': 523,\n            'f': \"523\",\n        },\n{\n            'v': 3.0,\n            'f': \"3.0\",\n        },\n{\n            'v': 1998,\n            'f': \"1998\",\n        }],\n [{\n            'v': 11,\n            'f': \"11\",\n        },\n{\n            'v': 638,\n            'f': \"638\",\n        },\n{\n            'v': 3.0,\n            'f': \"3.0\",\n        },\n{\n            'v': 1996,\n            'f': \"1996\",\n        }],\n [{\n            'v': 50,\n            'f': \"50\",\n        },\n{\n            'v': 834,\n            'f': \"834\",\n        },\n{\n            'v': 4.5,\n            'f': \"4.5\",\n        },\n{\n            'v': 2017,\n            'f': \"2017\",\n        }],\n [{\n            'v': 1,\n            'f': \"1\",\n        },\n{\n            'v': 565,\n            'f': \"565\",\n        },\n{\n            'v': 5.0,\n            'f': \"5.0\",\n        },\n{\n            'v': 1996,\n            'f': \"1996\",\n        }],\n [{\n            'v': 70,\n            'f': \"70\",\n        },\n{\n            'v': 619,\n            'f': \"619\",\n        },\n{\n            'v': 5.0,\n            'f': \"5.0\",\n        },\n{\n            'v': 1996,\n            'f': \"1996\",\n        }],\n [{\n            'v': 10,\n            'f': \"10\",\n        },\n{\n            'v': 875,\n            'f': \"875\",\n        },\n{\n            'v': 3.0,\n            'f': \"3.0\",\n        },\n{\n            'v': 1996,\n            'f': \"1996\",\n        }],\n [{\n            'v': 47,\n            'f': \"47\",\n        },\n{\n            'v': 948,\n            'f': \"948\",\n        },\n{\n            'v': 3.0,\n            'f': \"3.0\",\n        },\n{\n            'v': 1996,\n            'f': \"1996\",\n        }],\n [{\n            'v': 14,\n            'f': \"14\",\n        },\n{\n            'v': 112,\n            'f': \"112\",\n        },\n{\n            'v': 3.0,\n            'f': \"3.0\",\n        },\n{\n            'v': 1996,\n            'f': \"1996\",\n        }],\n [{\n            'v': 27,\n            'f': \"27\",\n        },\n{\n            'v': 191,\n            'f': \"191\",\n        },\n{\n            'v': 3.0,\n            'f': \"3.0\",\n        },\n{\n            'v': 1997,\n            'f': \"1997\",\n        }],\n [{\n            'v': 70,\n            'f': \"70\",\n        },\n{\n            'v': 817,\n            'f': \"817\",\n        },\n{\n            'v': 5.0,\n            'f': \"5.0\",\n        },\n{\n            'v': 2001,\n            'f': \"2001\",\n        }],\n [{\n            'v': 1,\n            'f': \"1\",\n        },\n{\n            'v': 46,\n            'f': \"46\",\n        },\n{\n            'v': 4.5,\n            'f': \"4.5\",\n        },\n{\n            'v': 2003,\n            'f': \"2003\",\n        }],\n [{\n            'v': 47,\n            'f': \"47\",\n        },\n{\n            'v': 686,\n            'f': \"686\",\n        },\n{\n            'v': 4.0,\n            'f': \"4.0\",\n        },\n{\n            'v': 2005,\n            'f': \"2005\",\n        }],\n [{\n            'v': 44,\n            'f': \"44\",\n        },\n{\n            'v': 251,\n            'f': \"251\",\n        },\n{\n            'v': 2.5,\n            'f': \"2.5\",\n        },\n{\n            'v': 2003,\n            'f': \"2003\",\n        }],\n [{\n            'v': 17,\n            'f': \"17\",\n        },\n{\n            'v': 523,\n            'f': \"523\",\n        },\n{\n            'v': 5.0,\n            'f': \"5.0\",\n        },\n{\n            'v': 1998,\n            'f': \"1998\",\n        }],\n [{\n            'v': 29,\n            'f': \"29\",\n        },\n{\n            'v': 365,\n            'f': \"365\",\n        },\n{\n            'v': 4.0,\n            'f': \"4.0\",\n        },\n{\n            'v': 2001,\n            'f': \"2001\",\n        }],\n [{\n            'v': 62,\n            'f': \"62\",\n        },\n{\n            'v': 87,\n            'f': \"87\",\n        },\n{\n            'v': 3.0,\n            'f': \"3.0\",\n        },\n{\n            'v': 1997,\n            'f': \"1997\",\n        }],\n [{\n            'v': 10,\n            'f': \"10\",\n        },\n{\n            'v': 984,\n            'f': \"984\",\n        },\n{\n            'v': 4.0,\n            'f': \"4.0\",\n        },\n{\n            'v': 1996,\n            'f': \"1996\",\n        }],\n [{\n            'v': 97,\n            'f': \"97\",\n        },\n{\n            'v': 567,\n            'f': \"567\",\n        },\n{\n            'v': 3.0,\n            'f': \"3.0\",\n        },\n{\n            'v': 2017,\n            'f': \"2017\",\n        }],\n [{\n            'v': 61,\n            'f': \"61\",\n        },\n{\n            'v': 638,\n            'f': \"638\",\n        },\n{\n            'v': 3.0,\n            'f': \"3.0\",\n        },\n{\n            'v': 1996,\n            'f': \"1996\",\n        }],\n [{\n            'v': 36,\n            'f': \"36\",\n        },\n{\n            'v': 12,\n            'f': \"12\",\n        },\n{\n            'v': 3.0,\n            'f': \"3.0\",\n        },\n{\n            'v': 1999,\n            'f': \"1999\",\n        }],\n [{\n            'v': 36,\n            'f': \"36\",\n        },\n{\n            'v': 261,\n            'f': \"261\",\n        },\n{\n            'v': 2.0,\n            'f': \"2.0\",\n        },\n{\n            'v': 1997,\n            'f': \"1997\",\n        }],\n [{\n            'v': 6,\n            'f': \"6\",\n        },\n{\n            'v': 52,\n            'f': \"52\",\n        },\n{\n            'v': 3.0,\n            'f': \"3.0\",\n        },\n{\n            'v': 1997,\n            'f': \"1997\",\n        }],\n [{\n            'v': 71,\n            'f': \"71\",\n        },\n{\n            'v': 638,\n            'f': \"638\",\n        },\n{\n            'v': 3.0,\n            'f': \"3.0\",\n        },\n{\n            'v': 1996,\n            'f': \"1996\",\n        }],\n [{\n            'v': 95,\n            'f': \"95\",\n        },\n{\n            'v': 400,\n            'f': \"400\",\n        },\n{\n            'v': 3.0,\n            'f': \"3.0\",\n        },\n{\n            'v': 1996,\n            'f': \"1996\",\n        }],\n [{\n            'v': 47,\n            'f': \"47\",\n        },\n{\n            'v': 229,\n            'f': \"229\",\n        },\n{\n            'v': 2.0,\n            'f': \"2.0\",\n        },\n{\n            'v': 2002,\n            'f': \"2002\",\n        }],\n [{\n            'v': 1,\n            'f': \"1\",\n        },\n{\n            'v': 457,\n            'f': \"457\",\n        },\n{\n            'v': 4.0,\n            'f': \"4.0\",\n        },\n{\n            'v': 2017,\n            'f': \"2017\",\n        }],\n [{\n            'v': 39,\n            'f': \"39\",\n        },\n{\n            'v': 524,\n            'f': \"524\",\n        },\n{\n            'v': 4.0,\n            'f': \"4.0\",\n        },\n{\n            'v': 1996,\n            'f': \"1996\",\n        }],\n [{\n            'v': 48,\n            'f': \"48\",\n        },\n{\n            'v': 506,\n            'f': \"506\",\n        },\n{\n            'v': 4.0,\n            'f': \"4.0\",\n        },\n{\n            'v': 2010,\n            'f': \"2010\",\n        }],\n [{\n            'v': 29,\n            'f': \"29\",\n        },\n{\n            'v': 592,\n            'f': \"592\",\n        },\n{\n            'v': 4.0,\n            'f': \"4.0\",\n        },\n{\n            'v': 2000,\n            'f': \"2000\",\n        }],\n [{\n            'v': 50,\n            'f': \"50\",\n        },\n{\n            'v': 588,\n            'f': \"588\",\n        },\n{\n            'v': 3.0,\n            'f': \"3.0\",\n        },\n{\n            'v': 1996,\n            'f': \"1996\",\n        }],\n [{\n            'v': 1,\n            'f': \"1\",\n        },\n{\n            'v': 323,\n            'f': \"323\",\n        },\n{\n            'v': 4.0,\n            'f': \"4.0\",\n        },\n{\n            'v': 2014,\n            'f': \"2014\",\n        }],\n [{\n            'v': 1,\n            'f': \"1\",\n        },\n{\n            'v': 627,\n            'f': \"627\",\n        },\n{\n            'v': 3.5,\n            'f': \"3.5\",\n        },\n{\n            'v': 2006,\n            'f': \"2006\",\n        }],\n [{\n            'v': 21,\n            'f': \"21\",\n        },\n{\n            'v': 151,\n            'f': \"151\",\n        },\n{\n            'v': 4.0,\n            'f': \"4.0\",\n        },\n{\n            'v': 2004,\n            'f': \"2004\",\n        }],\n [{\n            'v': 31,\n            'f': \"31\",\n        },\n{\n            'v': 767,\n            'f': \"767\",\n        },\n{\n            'v': 3.0,\n            'f': \"3.0\",\n        },\n{\n            'v': 1996,\n            'f': \"1996\",\n        }],\n [{\n            'v': 39,\n            'f': \"39\",\n        },\n{\n            'v': 546,\n            'f': \"546\",\n        },\n{\n            'v': 3.0,\n            'f': \"3.0\",\n        },\n{\n            'v': 1996,\n            'f': \"1996\",\n        }],\n [{\n            'v': 47,\n            'f': \"47\",\n        },\n{\n            'v': 350,\n            'f': \"350\",\n        },\n{\n            'v': 3.0,\n            'f': \"3.0\",\n        },\n{\n            'v': 1996,\n            'f': \"1996\",\n        }],\n [{\n            'v': 26,\n            'f': \"26\",\n        },\n{\n            'v': 366,\n            'f': \"366\",\n        },\n{\n            'v': 5.0,\n            'f': \"5.0\",\n        },\n{\n            'v': 1997,\n            'f': \"1997\",\n        }],\n [{\n            'v': 32,\n            'f': \"32\",\n        },\n{\n            'v': 726,\n            'f': \"726\",\n        },\n{\n            'v': 5.0,\n            'f': \"5.0\",\n        },\n{\n            'v': 2009,\n            'f': \"2009\",\n        }],\n [{\n            'v': 48,\n            'f': \"48\",\n        },\n{\n            'v': 781,\n            'f': \"781\",\n        },\n{\n            'v': 3.0,\n            'f': \"3.0\",\n        },\n{\n            'v': 1996,\n            'f': \"1996\",\n        }],\n [{\n            'v': 14,\n            'f': \"14\",\n        },\n{\n            'v': 850,\n            'f': \"850\",\n        },\n{\n            'v': 4.0,\n            'f': \"4.0\",\n        },\n{\n            'v': 2001,\n            'f': \"2001\",\n        }],\n [{\n            'v': 25,\n            'f': \"25\",\n        },\n{\n            'v': 339,\n            'f': \"339\",\n        },\n{\n            'v': 5.0,\n            'f': \"5.0\",\n        },\n{\n            'v': 1997,\n            'f': \"1997\",\n        }],\n [{\n            'v': 45,\n            'f': \"45\",\n        },\n{\n            'v': 107,\n            'f': \"107\",\n        },\n{\n            'v': 5.0,\n            'f': \"5.0\",\n        },\n{\n            'v': 1999,\n            'f': \"1999\",\n        }],\n [{\n            'v': 1,\n            'f': \"1\",\n        },\n{\n            'v': 545,\n            'f': \"545\",\n        },\n{\n            'v': 5.0,\n            'f': \"5.0\",\n        },\n{\n            'v': 2002,\n            'f': \"2002\",\n        }],\n [{\n            'v': 25,\n            'f': \"25\",\n        },\n{\n            'v': 576,\n            'f': \"576\",\n        },\n{\n            'v': 4.0,\n            'f': \"4.0\",\n        },\n{\n            'v': 2000,\n            'f': \"2000\",\n        }],\n [{\n            'v': 50,\n            'f': \"50\",\n        },\n{\n            'v': 652,\n            'f': \"652\",\n        },\n{\n            'v': 4.5,\n            'f': \"4.5\",\n        },\n{\n            'v': 2014,\n            'f': \"2014\",\n        }],\n [{\n            'v': 3,\n            'f': \"3\",\n        },\n{\n            'v': 87,\n            'f': \"87\",\n        },\n{\n            'v': 3.0,\n            'f': \"3.0\",\n        },\n{\n            'v': 1997,\n            'f': \"1997\",\n        }],\n [{\n            'v': 19,\n            'f': \"19\",\n        },\n{\n            'v': 240,\n            'f': \"240\",\n        },\n{\n            'v': 1.5,\n            'f': \"1.5\",\n        },\n{\n            'v': 2003,\n            'f': \"2003\",\n        }],\n [{\n            'v': 6,\n            'f': \"6\",\n        },\n{\n            'v': 413,\n            'f': \"413\",\n        },\n{\n            'v': 4.0,\n            'f': \"4.0\",\n        },\n{\n            'v': 1997,\n            'f': \"1997\",\n        }],\n [{\n            'v': 47,\n            'f': \"47\",\n        },\n{\n            'v': 875,\n            'f': \"875\",\n        },\n{\n            'v': 3.0,\n            'f': \"3.0\",\n        },\n{\n            'v': 1996,\n            'f': \"1996\",\n        }],\n [{\n            'v': 41,\n            'f': \"41\",\n        },\n{\n            'v': 850,\n            'f': \"850\",\n        },\n{\n            'v': 3.0,\n            'f': \"3.0\",\n        },\n{\n            'v': 2001,\n            'f': \"2001\",\n        }],\n [{\n            'v': 50,\n            'f': \"50\",\n        },\n{\n            'v': 312,\n            'f': \"312\",\n        },\n{\n            'v': 4.5,\n            'f': \"4.5\",\n        },\n{\n            'v': 2006,\n            'f': \"2006\",\n        }],\n [{\n            'v': 50,\n            'f': \"50\",\n        },\n{\n            'v': 308,\n            'f': \"308\",\n        },\n{\n            'v': 5.0,\n            'f': \"5.0\",\n        },\n{\n            'v': 2001,\n            'f': \"2001\",\n        }],\n [{\n            'v': 58,\n            'f': \"58\",\n        },\n{\n            'v': 439,\n            'f': \"439\",\n        },\n{\n            'v': 1.5,\n            'f': \"1.5\",\n        },\n{\n            'v': 2003,\n            'f': \"2003\",\n        }],\n [{\n            'v': 28,\n            'f': \"28\",\n        },\n{\n            'v': 815,\n            'f': \"815\",\n        },\n{\n            'v': 5.0,\n            'f': \"5.0\",\n        },\n{\n            'v': 1996,\n            'f': \"1996\",\n        }],\n [{\n            'v': 39,\n            'f': \"39\",\n        },\n{\n            'v': 306,\n            'f': \"306\",\n        },\n{\n            'v': 3.0,\n            'f': \"3.0\",\n        },\n{\n            'v': 1996,\n            'f': \"1996\",\n        }],\n [{\n            'v': 1,\n            'f': \"1\",\n        },\n{\n            'v': 667,\n            'f': \"667\",\n        },\n{\n            'v': 4.0,\n            'f': \"4.0\",\n        },\n{\n            'v': 1999,\n            'f': \"1999\",\n        }],\n [{\n            'v': 1,\n            'f': \"1\",\n        },\n{\n            'v': 44,\n            'f': \"44\",\n        },\n{\n            'v': 5.0,\n            'f': \"5.0\",\n        },\n{\n            'v': 1996,\n            'f': \"1996\",\n        }],\n [{\n            'v': 5,\n            'f': \"5\",\n        },\n{\n            'v': 196,\n            'f': \"196\",\n        },\n{\n            'v': 4.0,\n            'f': \"4.0\",\n        },\n{\n            'v': 1996,\n            'f': \"1996\",\n        }],\n [{\n            'v': 19,\n            'f': \"19\",\n        },\n{\n            'v': 533,\n            'f': \"533\",\n        },\n{\n            'v': 3.0,\n            'f': \"3.0\",\n        },\n{\n            'v': 2000,\n            'f': \"2000\",\n        }]],\n        columns: [[\"number\", \"nF\"], [\"number\", \"nU\"], [\"number\", \"note\"], [\"number\", \"annee\"]],\n        columnOptions: [],\n        rowsPerPage: 10,\n        helpUrl: \"https://colab.research.google.com/notebooks/data_table.ipynb\",\n        suppressOutputScrolling: true,\n        minimumWidth: undefined,\n      });\n\n      function appendQuickchartButton(parentElement) {\n        let quickchartButtonContainerElement = document.createElement('div');\n        quickchartButtonContainerElement.innerHTML = `\n<div id=\"df-a1d0cc0e-bd7d-452c-9b65-c90957b3aaff\">\n  <button class=\"colab-df-quickchart\" onclick=\"quickchart('df-a1d0cc0e-bd7d-452c-9b65-c90957b3aaff')\"\n            title=\"Suggest charts\"\n            style=\"display:none;\">\n    \n<svg xmlns=\"http://www.w3.org/2000/svg\" height=\"24px\"viewBox=\"0 0 24 24\"\n     width=\"24px\">\n    <g>\n        <path d=\"M19 3H5c-1.1 0-2 .9-2 2v14c0 1.1.9 2 2 2h14c1.1 0 2-.9 2-2V5c0-1.1-.9-2-2-2zM9 17H7v-7h2v7zm4 0h-2V7h2v10zm4 0h-2v-4h2v4z\"/>\n    </g>\n</svg>\n  </button>\n  \n<style>\n  .colab-df-quickchart {\n      --bg-color: #E8F0FE;\n      --fill-color: #1967D2;\n      --hover-bg-color: #E2EBFA;\n      --hover-fill-color: #174EA6;\n      --disabled-fill-color: #AAA;\n      --disabled-bg-color: #DDD;\n  }\n\n  [theme=dark] .colab-df-quickchart {\n      --bg-color: #3B4455;\n      --fill-color: #D2E3FC;\n      --hover-bg-color: #434B5C;\n      --hover-fill-color: #FFFFFF;\n      --disabled-bg-color: #3B4455;\n      --disabled-fill-color: #666;\n  }\n\n  .colab-df-quickchart {\n    background-color: var(--bg-color);\n    border: none;\n    border-radius: 50%;\n    cursor: pointer;\n    display: none;\n    fill: var(--fill-color);\n    height: 32px;\n    padding: 0;\n    width: 32px;\n  }\n\n  .colab-df-quickchart:hover {\n    background-color: var(--hover-bg-color);\n    box-shadow: 0 1px 2px rgba(60, 64, 67, 0.3), 0 1px 3px 1px rgba(60, 64, 67, 0.15);\n    fill: var(--button-hover-fill-color);\n  }\n\n  .colab-df-quickchart-complete:disabled,\n  .colab-df-quickchart-complete:disabled:hover {\n    background-color: var(--disabled-bg-color);\n    fill: var(--disabled-fill-color);\n    box-shadow: none;\n  }\n\n  .colab-df-spinner {\n    border: 2px solid var(--fill-color);\n    border-color: transparent;\n    border-bottom-color: var(--fill-color);\n    animation:\n      spin 1s steps(1) infinite;\n  }\n\n  @keyframes spin {\n    0% {\n      border-color: transparent;\n      border-bottom-color: var(--fill-color);\n      border-left-color: var(--fill-color);\n    }\n    20% {\n      border-color: transparent;\n      border-left-color: var(--fill-color);\n      border-top-color: var(--fill-color);\n    }\n    30% {\n      border-color: transparent;\n      border-left-color: var(--fill-color);\n      border-top-color: var(--fill-color);\n      border-right-color: var(--fill-color);\n    }\n    40% {\n      border-color: transparent;\n      border-right-color: var(--fill-color);\n      border-top-color: var(--fill-color);\n    }\n    60% {\n      border-color: transparent;\n      border-right-color: var(--fill-color);\n    }\n    80% {\n      border-color: transparent;\n      border-right-color: var(--fill-color);\n      border-bottom-color: var(--fill-color);\n    }\n    90% {\n      border-color: transparent;\n      border-bottom-color: var(--fill-color);\n    }\n  }\n</style>\n\n  <script>\n    async function quickchart(key) {\n      const quickchartButtonEl =\n        document.querySelector('#' + key + ' button');\n      quickchartButtonEl.disabled = true;  // To prevent multiple clicks.\n      quickchartButtonEl.classList.add('colab-df-spinner');\n      try {\n        const charts = await google.colab.kernel.invokeFunction(\n            'suggestCharts', [key], {});\n      } catch (error) {\n        console.error('Error during call to suggestCharts:', error);\n      }\n      quickchartButtonEl.classList.remove('colab-df-spinner');\n      quickchartButtonEl.classList.add('colab-df-quickchart-complete');\n    }\n    (() => {\n      let quickchartButtonEl =\n        document.querySelector('#df-a1d0cc0e-bd7d-452c-9b65-c90957b3aaff button');\n      quickchartButtonEl.style.display =\n        google.colab.kernel.accessAllowed ? 'block' : 'none';\n    })();\n  </script>\n</div>`;\n        parentElement.appendChild(quickchartButtonContainerElement);\n      }\n\n      appendQuickchartButton(table);\n    ",
            "text/plain": [
              "<google.colab.data_table.DataTable object>"
            ]
          },
          "metadata": {},
          "execution_count": 12
        }
      ]
    },
    {
      "cell_type": "markdown",
      "metadata": {
        "id": "6fBrIwKAXsYi"
      },
      "source": [
        "# Exercice 1 : Traitement sur des partitions"
      ]
    },
    {
      "cell_type": "markdown",
      "source": [
        "Dans les question suivantes, on demande d'evaluer les requetes **sans** utiliser les fonctions prédéfinies SQL (select, explode, where, join, groupBy, orderBy, distinct, ...)\n"
      ],
      "metadata": {
        "id": "TsQiyRs_Zpil"
      }
    },
    {
      "cell_type": "markdown",
      "source": [
        "#### Rappel sur les itérateurs"
      ],
      "metadata": {
        "id": "HaHNctQPPeYp"
      }
    },
    {
      "cell_type": "markdown",
      "source": [
        "Un exemple de données"
      ],
      "metadata": {
        "id": "0d_x1V5WwfpC"
      }
    },
    {
      "cell_type": "code",
      "source": [
        "# names = ['Alice', 'Bob', 'Carol', 'Dave', 'Eva', 'Fabio' , 'Greg', 'Hans']\n",
        "names = ['Alice', 'Bob', 'Carol', 'Dave', 'Eva']"
      ],
      "metadata": {
        "id": "y9H2jwWbQErM"
      },
      "execution_count": 13,
      "outputs": []
    },
    {
      "cell_type": "markdown",
      "source": [
        "Manipuler un itérateur.\n",
        "\n",
        "Exemple a) Pour chaque prénom, afficher \"Hello prénom\"."
      ],
      "metadata": {
        "id": "5vzOIHJCVENZ"
      }
    },
    {
      "cell_type": "code",
      "source": [
        "print('iteration \"for\" sur un itérateur : ')\n",
        "input_iterator = iter(names)\n",
        "\n",
        "for n in input_iterator:\n",
        "  print('Hello '+ n)\n",
        "\n",
        "\n",
        "print()\n",
        "print('iteration \"while\" sur un iterateur : ')\n",
        "input_iterator = iter(names)\n",
        "n = next(input_iterator, None)\n",
        "while n is not None:\n",
        "  print('Hello '+ n)\n",
        "  n = next(input_iterator, None)"
      ],
      "metadata": {
        "colab": {
          "base_uri": "https://localhost:8080/"
        },
        "id": "AqOOOYXeXMCs",
        "outputId": "6e594b47-f1a2-4790-da48-33af218f0449"
      },
      "execution_count": 14,
      "outputs": [
        {
          "output_type": "stream",
          "name": "stdout",
          "text": [
            "iteration \"for\" sur un itérateur : \n",
            "Hello Alice\n",
            "Hello Bob\n",
            "Hello Carol\n",
            "Hello Dave\n",
            "Hello Eva\n",
            "\n",
            "iteration \"while\" sur un iterateur : \n",
            "Hello Alice\n",
            "Hello Bob\n",
            "Hello Carol\n",
            "Hello Dave\n",
            "Hello Eva\n"
          ]
        }
      ]
    },
    {
      "cell_type": "markdown",
      "source": [
        "Exemple b) Afficher seulement les prénoms se terminant par la lettre 'e'."
      ],
      "metadata": {
        "id": "_3226H-lyaeJ"
      }
    },
    {
      "cell_type": "code",
      "source": [
        "input_iterator = iter(names)\n",
        "for x in input_iterator:\n",
        "  if x[-1] == 'e':\n",
        "    print('Hello '+ x)"
      ],
      "metadata": {
        "colab": {
          "base_uri": "https://localhost:8080/"
        },
        "id": "Zd3vLVsDylSC",
        "outputId": "27c33222-e6c6-4950-ab4c-e6dc1b514fb4"
      },
      "execution_count": 15,
      "outputs": [
        {
          "output_type": "stream",
          "name": "stdout",
          "text": [
            "Hello Alice\n",
            "Hello Dave\n"
          ]
        }
      ]
    },
    {
      "cell_type": "markdown",
      "source": [
        "Fonction manipulant un itérateur en **entrée** et en **sortie**"
      ],
      "metadata": {
        "id": "F5DYxW2MVTdj"
      }
    },
    {
      "cell_type": "code",
      "source": [
        "def hello_many(name_iterator: Iterator) -> Iterator:\n",
        "  for name in name_iterator:\n",
        "    yield \"Hello \" + name\n",
        "    time.sleep(0.5)  # Pause de 1/2 seconde\n",
        "\n",
        "input_iterator = iter(names)\n",
        "\n",
        "output_iterator = hello_many(input_iterator)\n",
        "\n",
        "for x in output_iterator:\n",
        "  print(x)\n",
        "print(\"done\")"
      ],
      "metadata": {
        "colab": {
          "base_uri": "https://localhost:8080/"
        },
        "id": "RfZMQiZ_UiSG",
        "outputId": "cb5a85e3-0674-40f6-d345-03cb44db34d4"
      },
      "execution_count": 16,
      "outputs": [
        {
          "output_type": "stream",
          "name": "stdout",
          "text": [
            "Hello Alice\n",
            "Hello Bob\n",
            "Hello Carol\n",
            "Hello Dave\n",
            "Hello Eva\n",
            "done\n"
          ]
        }
      ]
    },
    {
      "cell_type": "markdown",
      "source": [
        "Exemple d'itérateur sur des films.\n",
        "\n",
        "On demande de calculer pour chaque film son nombre de genres. Le schéma du résultat est (titre, nb)"
      ],
      "metadata": {
        "id": "c43uU5oRbW--"
      }
    },
    {
      "cell_type": "code",
      "source": [
        "liste_locale_films = films_extrait.limit(5).collect()\n",
        "# print(liste_locale_films)\n",
        "input_iterator = iter(liste_locale_films)\n",
        "\n",
        "def nb_genres_films(film_iterator: Iterator) -> Iterator:\n",
        "  for f in film_iterator:\n",
        "    yield (f.titre, len(f.genres))\n",
        "\n",
        "output_iterator = nb_genres_films(input_iterator)\n",
        "\n",
        "for x in output_iterator:\n",
        "  print(x)\n",
        "print(\"done\")"
      ],
      "metadata": {
        "colab": {
          "base_uri": "https://localhost:8080/"
        },
        "id": "FBAkiLWubWFE",
        "outputId": "6fe5a892-c947-4ba0-eec0-f2cc6cfb2afc"
      },
      "execution_count": 17,
      "outputs": [
        {
          "output_type": "stream",
          "name": "stdout",
          "text": [
            "('Beautiful Girls (1996)', 3)\n",
            "('To Die For (1995)', 3)\n",
            "('Postman, The (Postino, Il) (1994)', 3)\n",
            "('Big Green, The (1995)', 2)\n",
            "('Sudden Death (1995)', 1)\n",
            "done\n"
          ]
        }
      ]
    },
    {
      "cell_type": "markdown",
      "source": [
        "Itérateur sur des films. Maintenant, les films ne sont plus des données locales mais sont *dans Spark*."
      ],
      "metadata": {
        "id": "zn-qsWLKd3OH"
      }
    },
    {
      "cell_type": "code",
      "source": [
        "result = films_extrait.limit(5).rdd.mapPartitions(nb_genres_films).toDF(['titre', 'nb'])\n",
        "display(result)"
      ],
      "metadata": {
        "colab": {
          "base_uri": "https://localhost:8080/",
          "height": 225
        },
        "id": "wH43giJ5d_9_",
        "outputId": "452fe1b3-4fce-4e1c-d308-b409d6b49cca"
      },
      "execution_count": 18,
      "outputs": [
        {
          "output_type": "execute_result",
          "data": {
            "text/html": [
              "<div>\n",
              "<style scoped>\n",
              "    .dataframe tbody tr th:only-of-type {\n",
              "        vertical-align: middle;\n",
              "    }\n",
              "\n",
              "    .dataframe tbody tr th {\n",
              "        vertical-align: top;\n",
              "    }\n",
              "\n",
              "    .dataframe thead th {\n",
              "        text-align: right;\n",
              "    }\n",
              "</style>\n",
              "<table border=\"1\" class=\"dataframe\">\n",
              "  <thead>\n",
              "    <tr style=\"text-align: right;\">\n",
              "      <th></th>\n",
              "      <th>titre</th>\n",
              "      <th>nb</th>\n",
              "    </tr>\n",
              "  </thead>\n",
              "  <tbody>\n",
              "    <tr>\n",
              "      <th>0</th>\n",
              "      <td>Beautiful Girls (1996)</td>\n",
              "      <td>3</td>\n",
              "    </tr>\n",
              "    <tr>\n",
              "      <th>1</th>\n",
              "      <td>To Die For (1995)</td>\n",
              "      <td>3</td>\n",
              "    </tr>\n",
              "    <tr>\n",
              "      <th>2</th>\n",
              "      <td>Postman, The (Postino, Il) (1994)</td>\n",
              "      <td>3</td>\n",
              "    </tr>\n",
              "    <tr>\n",
              "      <th>3</th>\n",
              "      <td>Big Green, The (1995)</td>\n",
              "      <td>2</td>\n",
              "    </tr>\n",
              "    <tr>\n",
              "      <th>4</th>\n",
              "      <td>Sudden Death (1995)</td>\n",
              "      <td>1</td>\n",
              "    </tr>\n",
              "  </tbody>\n",
              "</table>\n",
              "</div>"
            ],
            "application/vnd.google.colaboratory.module+javascript": "\n      import \"https://ssl.gstatic.com/colaboratory/data_table/e523c247d1e24a05/data_table.js\";\n\n      const table = window.createDataTable({\n        data: [[\"Beautiful Girls (1996)\",\n{\n            'v': 3,\n            'f': \"3\",\n        }],\n [\"To Die For (1995)\",\n{\n            'v': 3,\n            'f': \"3\",\n        }],\n [\"Postman, The (Postino, Il) (1994)\",\n{\n            'v': 3,\n            'f': \"3\",\n        }],\n [\"Big Green, The (1995)\",\n{\n            'v': 2,\n            'f': \"2\",\n        }],\n [\"Sudden Death (1995)\",\n{\n            'v': 1,\n            'f': \"1\",\n        }]],\n        columns: [[\"string\", \"titre\"], [\"number\", \"nb\"]],\n        columnOptions: [],\n        rowsPerPage: 10,\n        helpUrl: \"https://colab.research.google.com/notebooks/data_table.ipynb\",\n        suppressOutputScrolling: true,\n        minimumWidth: undefined,\n      });\n\n      function appendQuickchartButton(parentElement) {\n        let quickchartButtonContainerElement = document.createElement('div');\n        quickchartButtonContainerElement.innerHTML = `\n<div id=\"df-1bc78a0b-42e1-4550-8277-7ada023601f1\">\n  <button class=\"colab-df-quickchart\" onclick=\"quickchart('df-1bc78a0b-42e1-4550-8277-7ada023601f1')\"\n            title=\"Suggest charts\"\n            style=\"display:none;\">\n    \n<svg xmlns=\"http://www.w3.org/2000/svg\" height=\"24px\"viewBox=\"0 0 24 24\"\n     width=\"24px\">\n    <g>\n        <path d=\"M19 3H5c-1.1 0-2 .9-2 2v14c0 1.1.9 2 2 2h14c1.1 0 2-.9 2-2V5c0-1.1-.9-2-2-2zM9 17H7v-7h2v7zm4 0h-2V7h2v10zm4 0h-2v-4h2v4z\"/>\n    </g>\n</svg>\n  </button>\n  \n<style>\n  .colab-df-quickchart {\n      --bg-color: #E8F0FE;\n      --fill-color: #1967D2;\n      --hover-bg-color: #E2EBFA;\n      --hover-fill-color: #174EA6;\n      --disabled-fill-color: #AAA;\n      --disabled-bg-color: #DDD;\n  }\n\n  [theme=dark] .colab-df-quickchart {\n      --bg-color: #3B4455;\n      --fill-color: #D2E3FC;\n      --hover-bg-color: #434B5C;\n      --hover-fill-color: #FFFFFF;\n      --disabled-bg-color: #3B4455;\n      --disabled-fill-color: #666;\n  }\n\n  .colab-df-quickchart {\n    background-color: var(--bg-color);\n    border: none;\n    border-radius: 50%;\n    cursor: pointer;\n    display: none;\n    fill: var(--fill-color);\n    height: 32px;\n    padding: 0;\n    width: 32px;\n  }\n\n  .colab-df-quickchart:hover {\n    background-color: var(--hover-bg-color);\n    box-shadow: 0 1px 2px rgba(60, 64, 67, 0.3), 0 1px 3px 1px rgba(60, 64, 67, 0.15);\n    fill: var(--button-hover-fill-color);\n  }\n\n  .colab-df-quickchart-complete:disabled,\n  .colab-df-quickchart-complete:disabled:hover {\n    background-color: var(--disabled-bg-color);\n    fill: var(--disabled-fill-color);\n    box-shadow: none;\n  }\n\n  .colab-df-spinner {\n    border: 2px solid var(--fill-color);\n    border-color: transparent;\n    border-bottom-color: var(--fill-color);\n    animation:\n      spin 1s steps(1) infinite;\n  }\n\n  @keyframes spin {\n    0% {\n      border-color: transparent;\n      border-bottom-color: var(--fill-color);\n      border-left-color: var(--fill-color);\n    }\n    20% {\n      border-color: transparent;\n      border-left-color: var(--fill-color);\n      border-top-color: var(--fill-color);\n    }\n    30% {\n      border-color: transparent;\n      border-left-color: var(--fill-color);\n      border-top-color: var(--fill-color);\n      border-right-color: var(--fill-color);\n    }\n    40% {\n      border-color: transparent;\n      border-right-color: var(--fill-color);\n      border-top-color: var(--fill-color);\n    }\n    60% {\n      border-color: transparent;\n      border-right-color: var(--fill-color);\n    }\n    80% {\n      border-color: transparent;\n      border-right-color: var(--fill-color);\n      border-bottom-color: var(--fill-color);\n    }\n    90% {\n      border-color: transparent;\n      border-bottom-color: var(--fill-color);\n    }\n  }\n</style>\n\n  <script>\n    async function quickchart(key) {\n      const quickchartButtonEl =\n        document.querySelector('#' + key + ' button');\n      quickchartButtonEl.disabled = true;  // To prevent multiple clicks.\n      quickchartButtonEl.classList.add('colab-df-spinner');\n      try {\n        const charts = await google.colab.kernel.invokeFunction(\n            'suggestCharts', [key], {});\n      } catch (error) {\n        console.error('Error during call to suggestCharts:', error);\n      }\n      quickchartButtonEl.classList.remove('colab-df-spinner');\n      quickchartButtonEl.classList.add('colab-df-quickchart-complete');\n    }\n    (() => {\n      let quickchartButtonEl =\n        document.querySelector('#df-1bc78a0b-42e1-4550-8277-7ada023601f1 button');\n      quickchartButtonEl.style.display =\n        google.colab.kernel.accessAllowed ? 'block' : 'none';\n    })();\n  </script>\n</div>`;\n        parentElement.appendChild(quickchartButtonContainerElement);\n      }\n\n      appendQuickchartButton(table);\n    ",
            "text/plain": [
              "<google.colab.data_table.DataTable object>"
            ]
          },
          "metadata": {},
          "execution_count": 18
        }
      ]
    },
    {
      "cell_type": "markdown",
      "source": [
        "### Fonction part_size_simple invoquée par mapPartitions\n",
        "\n",
        "La fonction part_size calcule la taille d'une partition (ensemble de tuples). Sa signature est prédéfinie pour pemettre son invocation par le moteur de requêtes de Spark.\n",
        "*   Elle prend en paramètre un itérateur sur une partition.\n",
        "*   Elle retourne un itérateur sur une partition qui est un singleton (nbtuples).\n",
        "\n",
        "\n",
        "Invocation avec **mapPartitions**"
      ],
      "metadata": {
        "id": "EX9EVcNOKq4M"
      }
    },
    {
      "cell_type": "code",
      "source": [
        "def part_size_simple(iterateur: Iterator) -> Iterator:\n",
        "  size=0\n",
        "  for s in iterateur:\n",
        "    size += 1\n",
        "  yield (size,)\n",
        "\n",
        "# test\n",
        "film_size = films_extrait.limit(10).rdd.mapPartitions(part_size_simple).toDF(['size'])\n",
        "display(film_size)"
      ],
      "metadata": {
        "colab": {
          "base_uri": "https://localhost:8080/",
          "height": 141
        },
        "id": "uTnkZHBIK7H7",
        "outputId": "9bd2f3e5-7b14-4f57-d95d-9fa701335e66"
      },
      "execution_count": 19,
      "outputs": [
        {
          "output_type": "execute_result",
          "data": {
            "text/html": [
              "<div>\n",
              "<style scoped>\n",
              "    .dataframe tbody tr th:only-of-type {\n",
              "        vertical-align: middle;\n",
              "    }\n",
              "\n",
              "    .dataframe tbody tr th {\n",
              "        vertical-align: top;\n",
              "    }\n",
              "\n",
              "    .dataframe thead th {\n",
              "        text-align: right;\n",
              "    }\n",
              "</style>\n",
              "<table border=\"1\" class=\"dataframe\">\n",
              "  <thead>\n",
              "    <tr style=\"text-align: right;\">\n",
              "      <th></th>\n",
              "      <th>size</th>\n",
              "    </tr>\n",
              "  </thead>\n",
              "  <tbody>\n",
              "    <tr>\n",
              "      <th>0</th>\n",
              "      <td>10</td>\n",
              "    </tr>\n",
              "  </tbody>\n",
              "</table>\n",
              "</div>"
            ],
            "application/vnd.google.colaboratory.module+javascript": "\n      import \"https://ssl.gstatic.com/colaboratory/data_table/e523c247d1e24a05/data_table.js\";\n\n      const table = window.createDataTable({\n        data: [[{\n            'v': 10,\n            'f': \"10\",\n        }]],\n        columns: [[\"number\", \"size\"]],\n        columnOptions: [],\n        rowsPerPage: 10,\n        helpUrl: \"https://colab.research.google.com/notebooks/data_table.ipynb\",\n        suppressOutputScrolling: true,\n        minimumWidth: undefined,\n      });\n\n      function appendQuickchartButton(parentElement) {\n        let quickchartButtonContainerElement = document.createElement('div');\n        quickchartButtonContainerElement.innerHTML = `\n<div id=\"df-d329579a-9846-4476-9a9c-fd5bdcb895f9\">\n  <button class=\"colab-df-quickchart\" onclick=\"quickchart('df-d329579a-9846-4476-9a9c-fd5bdcb895f9')\"\n            title=\"Suggest charts\"\n            style=\"display:none;\">\n    \n<svg xmlns=\"http://www.w3.org/2000/svg\" height=\"24px\"viewBox=\"0 0 24 24\"\n     width=\"24px\">\n    <g>\n        <path d=\"M19 3H5c-1.1 0-2 .9-2 2v14c0 1.1.9 2 2 2h14c1.1 0 2-.9 2-2V5c0-1.1-.9-2-2-2zM9 17H7v-7h2v7zm4 0h-2V7h2v10zm4 0h-2v-4h2v4z\"/>\n    </g>\n</svg>\n  </button>\n  \n<style>\n  .colab-df-quickchart {\n      --bg-color: #E8F0FE;\n      --fill-color: #1967D2;\n      --hover-bg-color: #E2EBFA;\n      --hover-fill-color: #174EA6;\n      --disabled-fill-color: #AAA;\n      --disabled-bg-color: #DDD;\n  }\n\n  [theme=dark] .colab-df-quickchart {\n      --bg-color: #3B4455;\n      --fill-color: #D2E3FC;\n      --hover-bg-color: #434B5C;\n      --hover-fill-color: #FFFFFF;\n      --disabled-bg-color: #3B4455;\n      --disabled-fill-color: #666;\n  }\n\n  .colab-df-quickchart {\n    background-color: var(--bg-color);\n    border: none;\n    border-radius: 50%;\n    cursor: pointer;\n    display: none;\n    fill: var(--fill-color);\n    height: 32px;\n    padding: 0;\n    width: 32px;\n  }\n\n  .colab-df-quickchart:hover {\n    background-color: var(--hover-bg-color);\n    box-shadow: 0 1px 2px rgba(60, 64, 67, 0.3), 0 1px 3px 1px rgba(60, 64, 67, 0.15);\n    fill: var(--button-hover-fill-color);\n  }\n\n  .colab-df-quickchart-complete:disabled,\n  .colab-df-quickchart-complete:disabled:hover {\n    background-color: var(--disabled-bg-color);\n    fill: var(--disabled-fill-color);\n    box-shadow: none;\n  }\n\n  .colab-df-spinner {\n    border: 2px solid var(--fill-color);\n    border-color: transparent;\n    border-bottom-color: var(--fill-color);\n    animation:\n      spin 1s steps(1) infinite;\n  }\n\n  @keyframes spin {\n    0% {\n      border-color: transparent;\n      border-bottom-color: var(--fill-color);\n      border-left-color: var(--fill-color);\n    }\n    20% {\n      border-color: transparent;\n      border-left-color: var(--fill-color);\n      border-top-color: var(--fill-color);\n    }\n    30% {\n      border-color: transparent;\n      border-left-color: var(--fill-color);\n      border-top-color: var(--fill-color);\n      border-right-color: var(--fill-color);\n    }\n    40% {\n      border-color: transparent;\n      border-right-color: var(--fill-color);\n      border-top-color: var(--fill-color);\n    }\n    60% {\n      border-color: transparent;\n      border-right-color: var(--fill-color);\n    }\n    80% {\n      border-color: transparent;\n      border-right-color: var(--fill-color);\n      border-bottom-color: var(--fill-color);\n    }\n    90% {\n      border-color: transparent;\n      border-bottom-color: var(--fill-color);\n    }\n  }\n</style>\n\n  <script>\n    async function quickchart(key) {\n      const quickchartButtonEl =\n        document.querySelector('#' + key + ' button');\n      quickchartButtonEl.disabled = true;  // To prevent multiple clicks.\n      quickchartButtonEl.classList.add('colab-df-spinner');\n      try {\n        const charts = await google.colab.kernel.invokeFunction(\n            'suggestCharts', [key], {});\n      } catch (error) {\n        console.error('Error during call to suggestCharts:', error);\n      }\n      quickchartButtonEl.classList.remove('colab-df-spinner');\n      quickchartButtonEl.classList.add('colab-df-quickchart-complete');\n    }\n    (() => {\n      let quickchartButtonEl =\n        document.querySelector('#df-d329579a-9846-4476-9a9c-fd5bdcb895f9 button');\n      quickchartButtonEl.style.display =\n        google.colab.kernel.accessAllowed ? 'block' : 'none';\n    })();\n  </script>\n</div>`;\n        parentElement.appendChild(quickchartButtonContainerElement);\n      }\n\n      appendQuickchartButton(table);\n    ",
            "text/plain": [
              "<google.colab.data_table.DataTable object>"
            ]
          },
          "metadata": {},
          "execution_count": 19
        }
      ]
    },
    {
      "cell_type": "markdown",
      "source": [
        "On peut constater que part_size_simple est invoquée sur **chaque** partition"
      ],
      "metadata": {
        "id": "l4Xy1dUOjelT"
      }
    },
    {
      "cell_type": "code",
      "source": [
        "print(\"Nombre de partitions: \", films_extrait.rdd.getNumPartitions())\n",
        "\n",
        "film_size = films_extrait.rdd.mapPartitions(part_size_simple).toDF(['size'])\n",
        "display(film_size)"
      ],
      "metadata": {
        "colab": {
          "base_uri": "https://localhost:8080/",
          "height": 200
        },
        "id": "TpHD8al3kGLy",
        "outputId": "616c2a46-43da-4a39-b205-684175bad144"
      },
      "execution_count": 20,
      "outputs": [
        {
          "output_type": "stream",
          "name": "stdout",
          "text": [
            "Nombre de partitions:  3\n"
          ]
        },
        {
          "output_type": "execute_result",
          "data": {
            "text/html": [
              "<div>\n",
              "<style scoped>\n",
              "    .dataframe tbody tr th:only-of-type {\n",
              "        vertical-align: middle;\n",
              "    }\n",
              "\n",
              "    .dataframe tbody tr th {\n",
              "        vertical-align: top;\n",
              "    }\n",
              "\n",
              "    .dataframe thead th {\n",
              "        text-align: right;\n",
              "    }\n",
              "</style>\n",
              "<table border=\"1\" class=\"dataframe\">\n",
              "  <thead>\n",
              "    <tr style=\"text-align: right;\">\n",
              "      <th></th>\n",
              "      <th>size</th>\n",
              "    </tr>\n",
              "  </thead>\n",
              "  <tbody>\n",
              "    <tr>\n",
              "      <th>0</th>\n",
              "      <td>31</td>\n",
              "    </tr>\n",
              "    <tr>\n",
              "      <th>1</th>\n",
              "      <td>31</td>\n",
              "    </tr>\n",
              "    <tr>\n",
              "      <th>2</th>\n",
              "      <td>30</td>\n",
              "    </tr>\n",
              "  </tbody>\n",
              "</table>\n",
              "</div>"
            ],
            "application/vnd.google.colaboratory.module+javascript": "\n      import \"https://ssl.gstatic.com/colaboratory/data_table/e523c247d1e24a05/data_table.js\";\n\n      const table = window.createDataTable({\n        data: [[{\n            'v': 31,\n            'f': \"31\",\n        }],\n [{\n            'v': 31,\n            'f': \"31\",\n        }],\n [{\n            'v': 30,\n            'f': \"30\",\n        }]],\n        columns: [[\"number\", \"size\"]],\n        columnOptions: [],\n        rowsPerPage: 10,\n        helpUrl: \"https://colab.research.google.com/notebooks/data_table.ipynb\",\n        suppressOutputScrolling: true,\n        minimumWidth: undefined,\n      });\n\n      function appendQuickchartButton(parentElement) {\n        let quickchartButtonContainerElement = document.createElement('div');\n        quickchartButtonContainerElement.innerHTML = `\n<div id=\"df-0906687d-d547-4e01-bd56-327ee38b1859\">\n  <button class=\"colab-df-quickchart\" onclick=\"quickchart('df-0906687d-d547-4e01-bd56-327ee38b1859')\"\n            title=\"Suggest charts\"\n            style=\"display:none;\">\n    \n<svg xmlns=\"http://www.w3.org/2000/svg\" height=\"24px\"viewBox=\"0 0 24 24\"\n     width=\"24px\">\n    <g>\n        <path d=\"M19 3H5c-1.1 0-2 .9-2 2v14c0 1.1.9 2 2 2h14c1.1 0 2-.9 2-2V5c0-1.1-.9-2-2-2zM9 17H7v-7h2v7zm4 0h-2V7h2v10zm4 0h-2v-4h2v4z\"/>\n    </g>\n</svg>\n  </button>\n  \n<style>\n  .colab-df-quickchart {\n      --bg-color: #E8F0FE;\n      --fill-color: #1967D2;\n      --hover-bg-color: #E2EBFA;\n      --hover-fill-color: #174EA6;\n      --disabled-fill-color: #AAA;\n      --disabled-bg-color: #DDD;\n  }\n\n  [theme=dark] .colab-df-quickchart {\n      --bg-color: #3B4455;\n      --fill-color: #D2E3FC;\n      --hover-bg-color: #434B5C;\n      --hover-fill-color: #FFFFFF;\n      --disabled-bg-color: #3B4455;\n      --disabled-fill-color: #666;\n  }\n\n  .colab-df-quickchart {\n    background-color: var(--bg-color);\n    border: none;\n    border-radius: 50%;\n    cursor: pointer;\n    display: none;\n    fill: var(--fill-color);\n    height: 32px;\n    padding: 0;\n    width: 32px;\n  }\n\n  .colab-df-quickchart:hover {\n    background-color: var(--hover-bg-color);\n    box-shadow: 0 1px 2px rgba(60, 64, 67, 0.3), 0 1px 3px 1px rgba(60, 64, 67, 0.15);\n    fill: var(--button-hover-fill-color);\n  }\n\n  .colab-df-quickchart-complete:disabled,\n  .colab-df-quickchart-complete:disabled:hover {\n    background-color: var(--disabled-bg-color);\n    fill: var(--disabled-fill-color);\n    box-shadow: none;\n  }\n\n  .colab-df-spinner {\n    border: 2px solid var(--fill-color);\n    border-color: transparent;\n    border-bottom-color: var(--fill-color);\n    animation:\n      spin 1s steps(1) infinite;\n  }\n\n  @keyframes spin {\n    0% {\n      border-color: transparent;\n      border-bottom-color: var(--fill-color);\n      border-left-color: var(--fill-color);\n    }\n    20% {\n      border-color: transparent;\n      border-left-color: var(--fill-color);\n      border-top-color: var(--fill-color);\n    }\n    30% {\n      border-color: transparent;\n      border-left-color: var(--fill-color);\n      border-top-color: var(--fill-color);\n      border-right-color: var(--fill-color);\n    }\n    40% {\n      border-color: transparent;\n      border-right-color: var(--fill-color);\n      border-top-color: var(--fill-color);\n    }\n    60% {\n      border-color: transparent;\n      border-right-color: var(--fill-color);\n    }\n    80% {\n      border-color: transparent;\n      border-right-color: var(--fill-color);\n      border-bottom-color: var(--fill-color);\n    }\n    90% {\n      border-color: transparent;\n      border-bottom-color: var(--fill-color);\n    }\n  }\n</style>\n\n  <script>\n    async function quickchart(key) {\n      const quickchartButtonEl =\n        document.querySelector('#' + key + ' button');\n      quickchartButtonEl.disabled = true;  // To prevent multiple clicks.\n      quickchartButtonEl.classList.add('colab-df-spinner');\n      try {\n        const charts = await google.colab.kernel.invokeFunction(\n            'suggestCharts', [key], {});\n      } catch (error) {\n        console.error('Error during call to suggestCharts:', error);\n      }\n      quickchartButtonEl.classList.remove('colab-df-spinner');\n      quickchartButtonEl.classList.add('colab-df-quickchart-complete');\n    }\n    (() => {\n      let quickchartButtonEl =\n        document.querySelector('#df-0906687d-d547-4e01-bd56-327ee38b1859 button');\n      quickchartButtonEl.style.display =\n        google.colab.kernel.accessAllowed ? 'block' : 'none';\n    })();\n  </script>\n</div>`;\n        parentElement.appendChild(quickchartButtonContainerElement);\n      }\n\n      appendQuickchartButton(table);\n    ",
            "text/plain": [
              "<google.colab.data_table.DataTable object>"
            ]
          },
          "metadata": {},
          "execution_count": 20
        }
      ]
    },
    {
      "cell_type": "markdown",
      "source": [
        "### Fonction part_size invoquée avec mapPartitionsWithIndex\n",
        "\n",
        "La fonction part_size calcule la taille de chaque partition en préciant aussi le **numéro de partition** concerné.\n",
        "\n",
        "Elle prend en entrée 2 paramètres:\n",
        "*    un numéro de partition\n",
        "*    un itérateur sur les tuples d'une partition\n",
        "\n",
        "Elle retourne un itérateur sur des couples (numéro de partition, taille)\n",
        "\n",
        "Invocation avec **mapPartitionsWithIndex**"
      ],
      "metadata": {
        "id": "HXmlMNJWjMvf"
      }
    },
    {
      "cell_type": "code",
      "source": [
        "# La fonction part_size prend 2 paramètres : un itérateur sur une partition.\n",
        "# Elle retourne un itérateur sur une partition qui est un singleton (nbtuples).\n",
        "\n",
        "def part_size(partID, iterateur: Iterator) -> Iterator:\n",
        "  size=0\n",
        "  for s in iterateur:\n",
        "    size += 1\n",
        "  yield (partID, size)\n",
        "\n",
        "# Invocation\n",
        "film_size = films_extrait.rdd.mapPartitionsWithIndex(part_size).toDF(['partID', 'size'])\n",
        "display(film_size)"
      ],
      "metadata": {
        "colab": {
          "base_uri": "https://localhost:8080/",
          "height": 183
        },
        "id": "NaFjdCRti8Cq",
        "outputId": "a352b0ab-8d5b-4cd8-8f2a-cd2db34037b6"
      },
      "execution_count": 21,
      "outputs": [
        {
          "output_type": "execute_result",
          "data": {
            "text/html": [
              "<div>\n",
              "<style scoped>\n",
              "    .dataframe tbody tr th:only-of-type {\n",
              "        vertical-align: middle;\n",
              "    }\n",
              "\n",
              "    .dataframe tbody tr th {\n",
              "        vertical-align: top;\n",
              "    }\n",
              "\n",
              "    .dataframe thead th {\n",
              "        text-align: right;\n",
              "    }\n",
              "</style>\n",
              "<table border=\"1\" class=\"dataframe\">\n",
              "  <thead>\n",
              "    <tr style=\"text-align: right;\">\n",
              "      <th></th>\n",
              "      <th>partID</th>\n",
              "      <th>size</th>\n",
              "    </tr>\n",
              "  </thead>\n",
              "  <tbody>\n",
              "    <tr>\n",
              "      <th>0</th>\n",
              "      <td>0</td>\n",
              "      <td>31</td>\n",
              "    </tr>\n",
              "    <tr>\n",
              "      <th>1</th>\n",
              "      <td>1</td>\n",
              "      <td>31</td>\n",
              "    </tr>\n",
              "    <tr>\n",
              "      <th>2</th>\n",
              "      <td>2</td>\n",
              "      <td>30</td>\n",
              "    </tr>\n",
              "  </tbody>\n",
              "</table>\n",
              "</div>"
            ],
            "application/vnd.google.colaboratory.module+javascript": "\n      import \"https://ssl.gstatic.com/colaboratory/data_table/e523c247d1e24a05/data_table.js\";\n\n      const table = window.createDataTable({\n        data: [[{\n            'v': 0,\n            'f': \"0\",\n        },\n{\n            'v': 31,\n            'f': \"31\",\n        }],\n [{\n            'v': 1,\n            'f': \"1\",\n        },\n{\n            'v': 31,\n            'f': \"31\",\n        }],\n [{\n            'v': 2,\n            'f': \"2\",\n        },\n{\n            'v': 30,\n            'f': \"30\",\n        }]],\n        columns: [[\"number\", \"partID\"], [\"number\", \"size\"]],\n        columnOptions: [],\n        rowsPerPage: 10,\n        helpUrl: \"https://colab.research.google.com/notebooks/data_table.ipynb\",\n        suppressOutputScrolling: true,\n        minimumWidth: undefined,\n      });\n\n      function appendQuickchartButton(parentElement) {\n        let quickchartButtonContainerElement = document.createElement('div');\n        quickchartButtonContainerElement.innerHTML = `\n<div id=\"df-0a5ae885-bd9d-4eaf-87b2-646e9be29214\">\n  <button class=\"colab-df-quickchart\" onclick=\"quickchart('df-0a5ae885-bd9d-4eaf-87b2-646e9be29214')\"\n            title=\"Suggest charts\"\n            style=\"display:none;\">\n    \n<svg xmlns=\"http://www.w3.org/2000/svg\" height=\"24px\"viewBox=\"0 0 24 24\"\n     width=\"24px\">\n    <g>\n        <path d=\"M19 3H5c-1.1 0-2 .9-2 2v14c0 1.1.9 2 2 2h14c1.1 0 2-.9 2-2V5c0-1.1-.9-2-2-2zM9 17H7v-7h2v7zm4 0h-2V7h2v10zm4 0h-2v-4h2v4z\"/>\n    </g>\n</svg>\n  </button>\n  \n<style>\n  .colab-df-quickchart {\n      --bg-color: #E8F0FE;\n      --fill-color: #1967D2;\n      --hover-bg-color: #E2EBFA;\n      --hover-fill-color: #174EA6;\n      --disabled-fill-color: #AAA;\n      --disabled-bg-color: #DDD;\n  }\n\n  [theme=dark] .colab-df-quickchart {\n      --bg-color: #3B4455;\n      --fill-color: #D2E3FC;\n      --hover-bg-color: #434B5C;\n      --hover-fill-color: #FFFFFF;\n      --disabled-bg-color: #3B4455;\n      --disabled-fill-color: #666;\n  }\n\n  .colab-df-quickchart {\n    background-color: var(--bg-color);\n    border: none;\n    border-radius: 50%;\n    cursor: pointer;\n    display: none;\n    fill: var(--fill-color);\n    height: 32px;\n    padding: 0;\n    width: 32px;\n  }\n\n  .colab-df-quickchart:hover {\n    background-color: var(--hover-bg-color);\n    box-shadow: 0 1px 2px rgba(60, 64, 67, 0.3), 0 1px 3px 1px rgba(60, 64, 67, 0.15);\n    fill: var(--button-hover-fill-color);\n  }\n\n  .colab-df-quickchart-complete:disabled,\n  .colab-df-quickchart-complete:disabled:hover {\n    background-color: var(--disabled-bg-color);\n    fill: var(--disabled-fill-color);\n    box-shadow: none;\n  }\n\n  .colab-df-spinner {\n    border: 2px solid var(--fill-color);\n    border-color: transparent;\n    border-bottom-color: var(--fill-color);\n    animation:\n      spin 1s steps(1) infinite;\n  }\n\n  @keyframes spin {\n    0% {\n      border-color: transparent;\n      border-bottom-color: var(--fill-color);\n      border-left-color: var(--fill-color);\n    }\n    20% {\n      border-color: transparent;\n      border-left-color: var(--fill-color);\n      border-top-color: var(--fill-color);\n    }\n    30% {\n      border-color: transparent;\n      border-left-color: var(--fill-color);\n      border-top-color: var(--fill-color);\n      border-right-color: var(--fill-color);\n    }\n    40% {\n      border-color: transparent;\n      border-right-color: var(--fill-color);\n      border-top-color: var(--fill-color);\n    }\n    60% {\n      border-color: transparent;\n      border-right-color: var(--fill-color);\n    }\n    80% {\n      border-color: transparent;\n      border-right-color: var(--fill-color);\n      border-bottom-color: var(--fill-color);\n    }\n    90% {\n      border-color: transparent;\n      border-bottom-color: var(--fill-color);\n    }\n  }\n</style>\n\n  <script>\n    async function quickchart(key) {\n      const quickchartButtonEl =\n        document.querySelector('#' + key + ' button');\n      quickchartButtonEl.disabled = true;  // To prevent multiple clicks.\n      quickchartButtonEl.classList.add('colab-df-spinner');\n      try {\n        const charts = await google.colab.kernel.invokeFunction(\n            'suggestCharts', [key], {});\n      } catch (error) {\n        console.error('Error during call to suggestCharts:', error);\n      }\n      quickchartButtonEl.classList.remove('colab-df-spinner');\n      quickchartButtonEl.classList.add('colab-df-quickchart-complete');\n    }\n    (() => {\n      let quickchartButtonEl =\n        document.querySelector('#df-0a5ae885-bd9d-4eaf-87b2-646e9be29214 button');\n      quickchartButtonEl.style.display =\n        google.colab.kernel.accessAllowed ? 'block' : 'none';\n    })();\n  </script>\n</div>`;\n        parentElement.appendChild(quickchartButtonContainerElement);\n      }\n\n      appendQuickchartButton(table);\n    ",
            "text/plain": [
              "<google.colab.data_table.DataTable object>"
            ]
          },
          "metadata": {},
          "execution_count": 21
        }
      ]
    },
    {
      "cell_type": "markdown",
      "metadata": {
        "application/vnd.databricks.v1+cell": {
          "title": "",
          "showTitle": false,
          "inputWidgets": {},
          "nuid": "52fd9538-28a9-4974-92ea-8a7be60563c3"
        },
        "id": "0LPYBvh0G1_-"
      },
      "source": [
        "#### Fonction showPartitionSize\n",
        "\n",
        "La fonction *showPartitionSize*  affiche le nombre d'éléments dans chaque partition."
      ]
    },
    {
      "cell_type": "code",
      "source": [
        "def showPartitionSize(df):\n",
        "  if df.isEmpty():\n",
        "    print(\"empty dataframe\")\n",
        "  else:\n",
        "    #invoquer la fonction partSize sur chaque partition\n",
        "    t = df.selectExpr(\"1\").rdd.mapPartitionsWithIndex(part_size).toDF(['partID', 'size'])\n",
        "\n",
        "    # Rmq : selectExpr(\"1\") sert à simplifier la partition pour ne garder qu'une seule colonne contentant des \"1\",\n",
        "    # ce qui est suffisant pour compter le nombre de tuples dans la partition.\n",
        "\n",
        "    #affichage\n",
        "    # t.show()\n",
        "    return display(t)\n",
        "\n",
        "print('showPartitionSize définie')"
      ],
      "metadata": {
        "colab": {
          "base_uri": "https://localhost:8080/"
        },
        "id": "iZ1J8L1d_f1U",
        "outputId": "ae04159a-1b7c-48ad-e916-d0ca677a53b0"
      },
      "execution_count": 22,
      "outputs": [
        {
          "output_type": "stream",
          "name": "stdout",
          "text": [
            "showPartitionSize définie\n"
          ]
        }
      ]
    },
    {
      "cell_type": "markdown",
      "metadata": {
        "id": "BOlul5ehQCXU"
      },
      "source": [
        "Afficher la taille de chaque partition"
      ]
    },
    {
      "cell_type": "code",
      "metadata": {
        "colab": {
          "base_uri": "https://localhost:8080/",
          "height": 183
        },
        "id": "kw3S7FblajL2",
        "outputId": "415ed33b-4a68-4235-f37e-3300cad1cdb6"
      },
      "source": [
        "showPartitionSize(films_extrait)"
      ],
      "execution_count": 23,
      "outputs": [
        {
          "output_type": "execute_result",
          "data": {
            "text/html": [
              "<div>\n",
              "<style scoped>\n",
              "    .dataframe tbody tr th:only-of-type {\n",
              "        vertical-align: middle;\n",
              "    }\n",
              "\n",
              "    .dataframe tbody tr th {\n",
              "        vertical-align: top;\n",
              "    }\n",
              "\n",
              "    .dataframe thead th {\n",
              "        text-align: right;\n",
              "    }\n",
              "</style>\n",
              "<table border=\"1\" class=\"dataframe\">\n",
              "  <thead>\n",
              "    <tr style=\"text-align: right;\">\n",
              "      <th></th>\n",
              "      <th>partID</th>\n",
              "      <th>size</th>\n",
              "    </tr>\n",
              "  </thead>\n",
              "  <tbody>\n",
              "    <tr>\n",
              "      <th>0</th>\n",
              "      <td>0</td>\n",
              "      <td>31</td>\n",
              "    </tr>\n",
              "    <tr>\n",
              "      <th>1</th>\n",
              "      <td>1</td>\n",
              "      <td>31</td>\n",
              "    </tr>\n",
              "    <tr>\n",
              "      <th>2</th>\n",
              "      <td>2</td>\n",
              "      <td>30</td>\n",
              "    </tr>\n",
              "  </tbody>\n",
              "</table>\n",
              "</div>"
            ],
            "application/vnd.google.colaboratory.module+javascript": "\n      import \"https://ssl.gstatic.com/colaboratory/data_table/e523c247d1e24a05/data_table.js\";\n\n      const table = window.createDataTable({\n        data: [[{\n            'v': 0,\n            'f': \"0\",\n        },\n{\n            'v': 31,\n            'f': \"31\",\n        }],\n [{\n            'v': 1,\n            'f': \"1\",\n        },\n{\n            'v': 31,\n            'f': \"31\",\n        }],\n [{\n            'v': 2,\n            'f': \"2\",\n        },\n{\n            'v': 30,\n            'f': \"30\",\n        }]],\n        columns: [[\"number\", \"partID\"], [\"number\", \"size\"]],\n        columnOptions: [],\n        rowsPerPage: 10,\n        helpUrl: \"https://colab.research.google.com/notebooks/data_table.ipynb\",\n        suppressOutputScrolling: true,\n        minimumWidth: undefined,\n      });\n\n      function appendQuickchartButton(parentElement) {\n        let quickchartButtonContainerElement = document.createElement('div');\n        quickchartButtonContainerElement.innerHTML = `\n<div id=\"df-c25377f8-06e4-4e8e-98be-11f7c87915d2\">\n  <button class=\"colab-df-quickchart\" onclick=\"quickchart('df-c25377f8-06e4-4e8e-98be-11f7c87915d2')\"\n            title=\"Suggest charts\"\n            style=\"display:none;\">\n    \n<svg xmlns=\"http://www.w3.org/2000/svg\" height=\"24px\"viewBox=\"0 0 24 24\"\n     width=\"24px\">\n    <g>\n        <path d=\"M19 3H5c-1.1 0-2 .9-2 2v14c0 1.1.9 2 2 2h14c1.1 0 2-.9 2-2V5c0-1.1-.9-2-2-2zM9 17H7v-7h2v7zm4 0h-2V7h2v10zm4 0h-2v-4h2v4z\"/>\n    </g>\n</svg>\n  </button>\n  \n<style>\n  .colab-df-quickchart {\n      --bg-color: #E8F0FE;\n      --fill-color: #1967D2;\n      --hover-bg-color: #E2EBFA;\n      --hover-fill-color: #174EA6;\n      --disabled-fill-color: #AAA;\n      --disabled-bg-color: #DDD;\n  }\n\n  [theme=dark] .colab-df-quickchart {\n      --bg-color: #3B4455;\n      --fill-color: #D2E3FC;\n      --hover-bg-color: #434B5C;\n      --hover-fill-color: #FFFFFF;\n      --disabled-bg-color: #3B4455;\n      --disabled-fill-color: #666;\n  }\n\n  .colab-df-quickchart {\n    background-color: var(--bg-color);\n    border: none;\n    border-radius: 50%;\n    cursor: pointer;\n    display: none;\n    fill: var(--fill-color);\n    height: 32px;\n    padding: 0;\n    width: 32px;\n  }\n\n  .colab-df-quickchart:hover {\n    background-color: var(--hover-bg-color);\n    box-shadow: 0 1px 2px rgba(60, 64, 67, 0.3), 0 1px 3px 1px rgba(60, 64, 67, 0.15);\n    fill: var(--button-hover-fill-color);\n  }\n\n  .colab-df-quickchart-complete:disabled,\n  .colab-df-quickchart-complete:disabled:hover {\n    background-color: var(--disabled-bg-color);\n    fill: var(--disabled-fill-color);\n    box-shadow: none;\n  }\n\n  .colab-df-spinner {\n    border: 2px solid var(--fill-color);\n    border-color: transparent;\n    border-bottom-color: var(--fill-color);\n    animation:\n      spin 1s steps(1) infinite;\n  }\n\n  @keyframes spin {\n    0% {\n      border-color: transparent;\n      border-bottom-color: var(--fill-color);\n      border-left-color: var(--fill-color);\n    }\n    20% {\n      border-color: transparent;\n      border-left-color: var(--fill-color);\n      border-top-color: var(--fill-color);\n    }\n    30% {\n      border-color: transparent;\n      border-left-color: var(--fill-color);\n      border-top-color: var(--fill-color);\n      border-right-color: var(--fill-color);\n    }\n    40% {\n      border-color: transparent;\n      border-right-color: var(--fill-color);\n      border-top-color: var(--fill-color);\n    }\n    60% {\n      border-color: transparent;\n      border-right-color: var(--fill-color);\n    }\n    80% {\n      border-color: transparent;\n      border-right-color: var(--fill-color);\n      border-bottom-color: var(--fill-color);\n    }\n    90% {\n      border-color: transparent;\n      border-bottom-color: var(--fill-color);\n    }\n  }\n</style>\n\n  <script>\n    async function quickchart(key) {\n      const quickchartButtonEl =\n        document.querySelector('#' + key + ' button');\n      quickchartButtonEl.disabled = true;  // To prevent multiple clicks.\n      quickchartButtonEl.classList.add('colab-df-spinner');\n      try {\n        const charts = await google.colab.kernel.invokeFunction(\n            'suggestCharts', [key], {});\n      } catch (error) {\n        console.error('Error during call to suggestCharts:', error);\n      }\n      quickchartButtonEl.classList.remove('colab-df-spinner');\n      quickchartButtonEl.classList.add('colab-df-quickchart-complete');\n    }\n    (() => {\n      let quickchartButtonEl =\n        document.querySelector('#df-c25377f8-06e4-4e8e-98be-11f7c87915d2 button');\n      quickchartButtonEl.style.display =\n        google.colab.kernel.accessAllowed ? 'block' : 'none';\n    })();\n  </script>\n</div>`;\n        parentElement.appendChild(quickchartButtonContainerElement);\n      }\n\n      appendQuickchartButton(table);\n    ",
            "text/plain": [
              "<google.colab.data_table.DataTable object>"
            ]
          },
          "metadata": {},
          "execution_count": 23
        }
      ]
    },
    {
      "cell_type": "markdown",
      "source": [
        "#### Fonction showPartitions\n",
        "\n",
        "La fonction *showPartitions*  affiche les _n_ premiers éléments de chaque partition\n"
      ],
      "metadata": {
        "id": "5mSrnR7j_icL"
      }
    },
    {
      "cell_type": "code",
      "metadata": {
        "application/vnd.databricks.v1+cell": {
          "title": "",
          "showTitle": false,
          "inputWidgets": {},
          "nuid": "f626210f-dce5-457b-a05b-1dd3e6af87a2"
        },
        "colab": {
          "base_uri": "https://localhost:8080/"
        },
        "id": "cIfA0oZaG1_-",
        "outputId": "5e73896d-7fb5-46a7-9af6-eb280f5d13ef"
      },
      "source": [
        "def showPartitions(df, N=5 , display_per_partition=True, partID_field = \"partID\"):\n",
        "  if df.isEmpty():\n",
        "     print(\"empty dataframe\")\n",
        "  else:\n",
        "    nb_partitions = df.rdd.getNumPartitions()\n",
        "\n",
        "    # la fonction topN est invoquée sur une partition.\n",
        "    # topN retourne un itérateur sur une partition qui contient les N premiers éléments de cette partition\n",
        "    def topN(partID, iterateur):\n",
        "      c=1\n",
        "      for t in iterateur:\n",
        "        if c > N:\n",
        "          break\n",
        "        tuple_avec_numero_partition = (partID, *t)\n",
        "        yield tuple_avec_numero_partition\n",
        "        c+=1\n",
        "\n",
        "    #-- fin de la fonction topN ---\n",
        "\n",
        "    # nom de l'attribut représentant le numéro de partition\n",
        "    if partID_field in df.schema.fieldNames():\n",
        "      i = 1\n",
        "      while partID_field + str(i) in df.schema.fieldNames():\n",
        "        i+=1\n",
        "      partID_field = partID_field + str(i)\n",
        "    nom_attributs = [partID_field] + df.schema.fieldNames()\n",
        "    premiers_tuples = df.rdd.mapPartitionsWithIndex(topN).toDF(nom_attributs)\n",
        "    premiers_tuples.persist()\n",
        "\n",
        "    if(display_per_partition):\n",
        "      # afficher séparément le contenu des N premiers tuples de chaque partition\n",
        "      for partID in range(nb_partitions):\n",
        "        print(\"partition\", partID)\n",
        "        # afficher la partition partID\n",
        "        premiers_tuples.where(col(partID_field)==partID).drop(partID_field).show(N, False)\n",
        "    else:\n",
        "      return display(premiers_tuples)\n",
        "\n",
        "print('showPartitions définie')\n"
      ],
      "execution_count": 24,
      "outputs": [
        {
          "output_type": "stream",
          "name": "stdout",
          "text": [
            "showPartitions définie\n"
          ]
        }
      ]
    },
    {
      "cell_type": "markdown",
      "metadata": {
        "id": "EwESmBw_P8-1"
      },
      "source": [
        "Afficher séparément les premiers éléments de chaque partition"
      ]
    },
    {
      "cell_type": "code",
      "metadata": {
        "colab": {
          "base_uri": "https://localhost:8080/"
        },
        "id": "ClAHmDeVblxw",
        "outputId": "d9f38e9b-579d-4225-d85a-9cf2e01a2b8e"
      },
      "source": [
        "showPartitions(films_extrait,10)"
      ],
      "execution_count": 25,
      "outputs": [
        {
          "output_type": "stream",
          "name": "stdout",
          "text": [
            "partition 0\n",
            "+---+-------------------------------------------+----------------------------------------+\n",
            "|nF |titre                                      |genres                                  |\n",
            "+---+-------------------------------------------+----------------------------------------+\n",
            "|94 |Beautiful Girls (1996)                     |[Comedy, Drama, Romance]                |\n",
            "|45 |To Die For (1995)                          |[Comedy, Drama, Thriller]               |\n",
            "|58 |Postman, The (Postino, Il) (1994)          |[Comedy, Drama, Romance]                |\n",
            "|54 |Big Green, The (1995)                      |[Children, Comedy]                      |\n",
            "|9  |Sudden Death (1995)                        |[Action]                                |\n",
            "|4  |Waiting to Exhale (1995)                   |[Comedy, Drama, Romance]                |\n",
            "|80 |White Balloon, The (Badkonake sefid) (1995)|[Children, Drama]                       |\n",
            "|87 |Dunston Checks In (1996)                   |[Children, Comedy]                      |\n",
            "|88 |Black Sheep (1996)                         |[Comedy]                                |\n",
            "|20 |Money Train (1995)                         |[Action, Comedy, Crime, Drama, Thriller]|\n",
            "+---+-------------------------------------------+----------------------------------------+\n",
            "\n",
            "partition 1\n",
            "+---+--------------------------------------------+-------------------------+\n",
            "|nF |titre                                       |genres                   |\n",
            "+---+--------------------------------------------+-------------------------+\n",
            "|14 |Nixon (1995)                                |[Drama]                  |\n",
            "|71 |Fair Game (1995)                            |[Action]                 |\n",
            "|49 |When Night Is Falling (1995)                |[Drama, Romance]         |\n",
            "|27 |Now and Then (1995)                         |[Children, Drama]        |\n",
            "|59 |Confessional, The (Confessionnal, Le) (1995)|[Drama, Mystery]         |\n",
            "|3  |Grumpier Old Men (1995)                     |[Comedy, Romance]        |\n",
            "|34 |Babe (1995)                                 |[Children, Drama]        |\n",
            "|19 |Ace Ventura: When Nature Calls (1995)       |[Comedy]                 |\n",
            "|99 |Heidi Fleiss: Hollywood Madam (1995)        |[Documentary]            |\n",
            "|23 |Assassins (1995)                            |[Action, Crime, Thriller]|\n",
            "+---+--------------------------------------------+-------------------------+\n",
            "\n",
            "partition 2\n",
            "+---+-------------------------------------------------------------------------------+-----------------------------+\n",
            "|nF |titre                                                                          |genres                       |\n",
            "+---+-------------------------------------------------------------------------------+-----------------------------+\n",
            "|72 |Kicking and Screaming (1995)                                                   |[Comedy, Drama]              |\n",
            "|21 |Get Shorty (1995)                                                              |[Comedy, Crime, Thriller]    |\n",
            "|63 |Don't Be a Menace to South Central While Drinking Your Juice in the Hood (1996)|[Comedy, Crime]              |\n",
            "|95 |Broken Arrow (1996)                                                            |[Action, Adventure, Thriller]|\n",
            "|8  |Tom and Huck (1995)                                                            |[Adventure, Children]        |\n",
            "|53 |Lamerica (1994)                                                                |[Adventure, Drama]           |\n",
            "|50 |Usual Suspects, The (1995)                                                     |[Crime, Mystery, Thriller]   |\n",
            "|96 |In the Bleak Midwinter (1995)                                                  |[Comedy, Drama]              |\n",
            "|55 |Georgia (1995)                                                                 |[Drama]                      |\n",
            "|6  |Heat (1995)                                                                    |[Action, Crime, Thriller]    |\n",
            "+---+-------------------------------------------------------------------------------+-----------------------------+\n",
            "\n"
          ]
        }
      ]
    },
    {
      "cell_type": "markdown",
      "source": [
        "On peut aussi afficher le contenu de toutes les partitions dans un seul tableau en ajoutant un pseudo-attribut représentant le numéro de partition."
      ],
      "metadata": {
        "id": "BeSXx8HduiLK"
      }
    },
    {
      "cell_type": "code",
      "source": [
        "showPartitions(films_extrait, 5, display_per_partition=False)"
      ],
      "metadata": {
        "id": "5U6nU7cQkExD",
        "colab": {
          "base_uri": "https://localhost:8080/",
          "height": 340
        },
        "outputId": "782ef9f4-7a42-496e-d4e0-9b7d4099cb2b"
      },
      "execution_count": 26,
      "outputs": [
        {
          "output_type": "execute_result",
          "data": {
            "text/html": [
              "<div>\n",
              "<style scoped>\n",
              "    .dataframe tbody tr th:only-of-type {\n",
              "        vertical-align: middle;\n",
              "    }\n",
              "\n",
              "    .dataframe tbody tr th {\n",
              "        vertical-align: top;\n",
              "    }\n",
              "\n",
              "    .dataframe thead th {\n",
              "        text-align: right;\n",
              "    }\n",
              "</style>\n",
              "<table border=\"1\" class=\"dataframe\">\n",
              "  <thead>\n",
              "    <tr style=\"text-align: right;\">\n",
              "      <th></th>\n",
              "      <th>partID</th>\n",
              "      <th>nF</th>\n",
              "      <th>titre</th>\n",
              "      <th>genres</th>\n",
              "    </tr>\n",
              "  </thead>\n",
              "  <tbody>\n",
              "    <tr>\n",
              "      <th>0</th>\n",
              "      <td>0</td>\n",
              "      <td>94</td>\n",
              "      <td>Beautiful Girls (1996)</td>\n",
              "      <td>[Comedy, Drama, Romance]</td>\n",
              "    </tr>\n",
              "    <tr>\n",
              "      <th>1</th>\n",
              "      <td>0</td>\n",
              "      <td>45</td>\n",
              "      <td>To Die For (1995)</td>\n",
              "      <td>[Comedy, Drama, Thriller]</td>\n",
              "    </tr>\n",
              "    <tr>\n",
              "      <th>2</th>\n",
              "      <td>0</td>\n",
              "      <td>58</td>\n",
              "      <td>Postman, The (Postino, Il) (1994)</td>\n",
              "      <td>[Comedy, Drama, Romance]</td>\n",
              "    </tr>\n",
              "    <tr>\n",
              "      <th>3</th>\n",
              "      <td>0</td>\n",
              "      <td>54</td>\n",
              "      <td>Big Green, The (1995)</td>\n",
              "      <td>[Children, Comedy]</td>\n",
              "    </tr>\n",
              "    <tr>\n",
              "      <th>4</th>\n",
              "      <td>0</td>\n",
              "      <td>9</td>\n",
              "      <td>Sudden Death (1995)</td>\n",
              "      <td>[Action]</td>\n",
              "    </tr>\n",
              "    <tr>\n",
              "      <th>5</th>\n",
              "      <td>1</td>\n",
              "      <td>14</td>\n",
              "      <td>Nixon (1995)</td>\n",
              "      <td>[Drama]</td>\n",
              "    </tr>\n",
              "    <tr>\n",
              "      <th>6</th>\n",
              "      <td>1</td>\n",
              "      <td>71</td>\n",
              "      <td>Fair Game (1995)</td>\n",
              "      <td>[Action]</td>\n",
              "    </tr>\n",
              "    <tr>\n",
              "      <th>7</th>\n",
              "      <td>1</td>\n",
              "      <td>49</td>\n",
              "      <td>When Night Is Falling (1995)</td>\n",
              "      <td>[Drama, Romance]</td>\n",
              "    </tr>\n",
              "    <tr>\n",
              "      <th>8</th>\n",
              "      <td>1</td>\n",
              "      <td>27</td>\n",
              "      <td>Now and Then (1995)</td>\n",
              "      <td>[Children, Drama]</td>\n",
              "    </tr>\n",
              "    <tr>\n",
              "      <th>9</th>\n",
              "      <td>1</td>\n",
              "      <td>59</td>\n",
              "      <td>Confessional, The (Confessionnal, Le) (1995)</td>\n",
              "      <td>[Drama, Mystery]</td>\n",
              "    </tr>\n",
              "    <tr>\n",
              "      <th>10</th>\n",
              "      <td>2</td>\n",
              "      <td>72</td>\n",
              "      <td>Kicking and Screaming (1995)</td>\n",
              "      <td>[Comedy, Drama]</td>\n",
              "    </tr>\n",
              "    <tr>\n",
              "      <th>11</th>\n",
              "      <td>2</td>\n",
              "      <td>21</td>\n",
              "      <td>Get Shorty (1995)</td>\n",
              "      <td>[Comedy, Crime, Thriller]</td>\n",
              "    </tr>\n",
              "    <tr>\n",
              "      <th>12</th>\n",
              "      <td>2</td>\n",
              "      <td>63</td>\n",
              "      <td>Don't Be a Menace to South Central While Drink...</td>\n",
              "      <td>[Comedy, Crime]</td>\n",
              "    </tr>\n",
              "    <tr>\n",
              "      <th>13</th>\n",
              "      <td>2</td>\n",
              "      <td>95</td>\n",
              "      <td>Broken Arrow (1996)</td>\n",
              "      <td>[Action, Adventure, Thriller]</td>\n",
              "    </tr>\n",
              "    <tr>\n",
              "      <th>14</th>\n",
              "      <td>2</td>\n",
              "      <td>8</td>\n",
              "      <td>Tom and Huck (1995)</td>\n",
              "      <td>[Adventure, Children]</td>\n",
              "    </tr>\n",
              "  </tbody>\n",
              "</table>\n",
              "</div>"
            ],
            "application/vnd.google.colaboratory.module+javascript": "\n      import \"https://ssl.gstatic.com/colaboratory/data_table/e523c247d1e24a05/data_table.js\";\n\n      const table = window.createDataTable({\n        data: [[{\n            'v': 0,\n            'f': \"0\",\n        },\n{\n            'v': 94,\n            'f': \"94\",\n        },\n\"Beautiful Girls (1996)\",\n[\"Comedy\", \"Drama\", \"Romance\"]],\n [{\n            'v': 0,\n            'f': \"0\",\n        },\n{\n            'v': 45,\n            'f': \"45\",\n        },\n\"To Die For (1995)\",\n[\"Comedy\", \"Drama\", \"Thriller\"]],\n [{\n            'v': 0,\n            'f': \"0\",\n        },\n{\n            'v': 58,\n            'f': \"58\",\n        },\n\"Postman, The (Postino, Il) (1994)\",\n[\"Comedy\", \"Drama\", \"Romance\"]],\n [{\n            'v': 0,\n            'f': \"0\",\n        },\n{\n            'v': 54,\n            'f': \"54\",\n        },\n\"Big Green, The (1995)\",\n[\"Children\", \"Comedy\"]],\n [{\n            'v': 0,\n            'f': \"0\",\n        },\n{\n            'v': 9,\n            'f': \"9\",\n        },\n\"Sudden Death (1995)\",\n[\"Action\"]],\n [{\n            'v': 1,\n            'f': \"1\",\n        },\n{\n            'v': 14,\n            'f': \"14\",\n        },\n\"Nixon (1995)\",\n[\"Drama\"]],\n [{\n            'v': 1,\n            'f': \"1\",\n        },\n{\n            'v': 71,\n            'f': \"71\",\n        },\n\"Fair Game (1995)\",\n[\"Action\"]],\n [{\n            'v': 1,\n            'f': \"1\",\n        },\n{\n            'v': 49,\n            'f': \"49\",\n        },\n\"When Night Is Falling (1995)\",\n[\"Drama\", \"Romance\"]],\n [{\n            'v': 1,\n            'f': \"1\",\n        },\n{\n            'v': 27,\n            'f': \"27\",\n        },\n\"Now and Then (1995)\",\n[\"Children\", \"Drama\"]],\n [{\n            'v': 1,\n            'f': \"1\",\n        },\n{\n            'v': 59,\n            'f': \"59\",\n        },\n\"Confessional, The (Confessionnal, Le) (1995)\",\n[\"Drama\", \"Mystery\"]],\n [{\n            'v': 2,\n            'f': \"2\",\n        },\n{\n            'v': 72,\n            'f': \"72\",\n        },\n\"Kicking and Screaming (1995)\",\n[\"Comedy\", \"Drama\"]],\n [{\n            'v': 2,\n            'f': \"2\",\n        },\n{\n            'v': 21,\n            'f': \"21\",\n        },\n\"Get Shorty (1995)\",\n[\"Comedy\", \"Crime\", \"Thriller\"]],\n [{\n            'v': 2,\n            'f': \"2\",\n        },\n{\n            'v': 63,\n            'f': \"63\",\n        },\n\"Don't Be a Menace to South Central While Drinking Your Juice in the Hood (1996)\",\n[\"Comedy\", \"Crime\"]],\n [{\n            'v': 2,\n            'f': \"2\",\n        },\n{\n            'v': 95,\n            'f': \"95\",\n        },\n\"Broken Arrow (1996)\",\n[\"Action\", \"Adventure\", \"Thriller\"]],\n [{\n            'v': 2,\n            'f': \"2\",\n        },\n{\n            'v': 8,\n            'f': \"8\",\n        },\n\"Tom and Huck (1995)\",\n[\"Adventure\", \"Children\"]]],\n        columns: [[\"number\", \"partID\"], [\"number\", \"nF\"], [\"string\", \"titre\"], [\"string\", \"genres\"]],\n        columnOptions: [],\n        rowsPerPage: 10,\n        helpUrl: \"https://colab.research.google.com/notebooks/data_table.ipynb\",\n        suppressOutputScrolling: true,\n        minimumWidth: undefined,\n      });\n\n      function appendQuickchartButton(parentElement) {\n        let quickchartButtonContainerElement = document.createElement('div');\n        quickchartButtonContainerElement.innerHTML = `\n<div id=\"df-aa7b23a9-5d29-4905-a05d-f6020947fdce\">\n  <button class=\"colab-df-quickchart\" onclick=\"quickchart('df-aa7b23a9-5d29-4905-a05d-f6020947fdce')\"\n            title=\"Suggest charts\"\n            style=\"display:none;\">\n    \n<svg xmlns=\"http://www.w3.org/2000/svg\" height=\"24px\"viewBox=\"0 0 24 24\"\n     width=\"24px\">\n    <g>\n        <path d=\"M19 3H5c-1.1 0-2 .9-2 2v14c0 1.1.9 2 2 2h14c1.1 0 2-.9 2-2V5c0-1.1-.9-2-2-2zM9 17H7v-7h2v7zm4 0h-2V7h2v10zm4 0h-2v-4h2v4z\"/>\n    </g>\n</svg>\n  </button>\n  \n<style>\n  .colab-df-quickchart {\n      --bg-color: #E8F0FE;\n      --fill-color: #1967D2;\n      --hover-bg-color: #E2EBFA;\n      --hover-fill-color: #174EA6;\n      --disabled-fill-color: #AAA;\n      --disabled-bg-color: #DDD;\n  }\n\n  [theme=dark] .colab-df-quickchart {\n      --bg-color: #3B4455;\n      --fill-color: #D2E3FC;\n      --hover-bg-color: #434B5C;\n      --hover-fill-color: #FFFFFF;\n      --disabled-bg-color: #3B4455;\n      --disabled-fill-color: #666;\n  }\n\n  .colab-df-quickchart {\n    background-color: var(--bg-color);\n    border: none;\n    border-radius: 50%;\n    cursor: pointer;\n    display: none;\n    fill: var(--fill-color);\n    height: 32px;\n    padding: 0;\n    width: 32px;\n  }\n\n  .colab-df-quickchart:hover {\n    background-color: var(--hover-bg-color);\n    box-shadow: 0 1px 2px rgba(60, 64, 67, 0.3), 0 1px 3px 1px rgba(60, 64, 67, 0.15);\n    fill: var(--button-hover-fill-color);\n  }\n\n  .colab-df-quickchart-complete:disabled,\n  .colab-df-quickchart-complete:disabled:hover {\n    background-color: var(--disabled-bg-color);\n    fill: var(--disabled-fill-color);\n    box-shadow: none;\n  }\n\n  .colab-df-spinner {\n    border: 2px solid var(--fill-color);\n    border-color: transparent;\n    border-bottom-color: var(--fill-color);\n    animation:\n      spin 1s steps(1) infinite;\n  }\n\n  @keyframes spin {\n    0% {\n      border-color: transparent;\n      border-bottom-color: var(--fill-color);\n      border-left-color: var(--fill-color);\n    }\n    20% {\n      border-color: transparent;\n      border-left-color: var(--fill-color);\n      border-top-color: var(--fill-color);\n    }\n    30% {\n      border-color: transparent;\n      border-left-color: var(--fill-color);\n      border-top-color: var(--fill-color);\n      border-right-color: var(--fill-color);\n    }\n    40% {\n      border-color: transparent;\n      border-right-color: var(--fill-color);\n      border-top-color: var(--fill-color);\n    }\n    60% {\n      border-color: transparent;\n      border-right-color: var(--fill-color);\n    }\n    80% {\n      border-color: transparent;\n      border-right-color: var(--fill-color);\n      border-bottom-color: var(--fill-color);\n    }\n    90% {\n      border-color: transparent;\n      border-bottom-color: var(--fill-color);\n    }\n  }\n</style>\n\n  <script>\n    async function quickchart(key) {\n      const quickchartButtonEl =\n        document.querySelector('#' + key + ' button');\n      quickchartButtonEl.disabled = true;  // To prevent multiple clicks.\n      quickchartButtonEl.classList.add('colab-df-spinner');\n      try {\n        const charts = await google.colab.kernel.invokeFunction(\n            'suggestCharts', [key], {});\n      } catch (error) {\n        console.error('Error during call to suggestCharts:', error);\n      }\n      quickchartButtonEl.classList.remove('colab-df-spinner');\n      quickchartButtonEl.classList.add('colab-df-quickchart-complete');\n    }\n    (() => {\n      let quickchartButtonEl =\n        document.querySelector('#df-aa7b23a9-5d29-4905-a05d-f6020947fdce button');\n      quickchartButtonEl.style.display =\n        google.colab.kernel.accessAllowed ? 'block' : 'none';\n    })();\n  </script>\n</div>`;\n        parentElement.appendChild(quickchartButtonContainerElement);\n      }\n\n      appendQuickchartButton(table);\n    ",
            "text/plain": [
              "<google.colab.data_table.DataTable object>"
            ]
          },
          "metadata": {},
          "execution_count": 26
        }
      ]
    },
    {
      "cell_type": "markdown",
      "source": [
        "## Question 1 : Regrouper les films par genre et les compter\n",
        "\n",
        "En vous inspirant de la fonction *topN*,  définir des fonctions pour compter le nombre de films par genre. Le schéma du résultat est (genre, n)."
      ],
      "metadata": {
        "id": "Nm_8Ta5y1jSQ"
      }
    },
    {
      "cell_type": "code",
      "source": [
        "def count_movies_by_genre(genre_iterator):\n",
        "    genre_counts = {}\n",
        "    for movie in genre_iterator:\n",
        "        for genre in movie.genres:\n",
        "            genre_counts[genre] = genre_counts.get(genre, 0) + 1\n",
        "    for genre, count in genre_counts.items():\n",
        "        yield (genre, count)\n",
        "\n",
        "f1 = films_extrait.rdd.mapPartitions(count_movies_by_genre).toDF(['genre', 'n'])\n",
        "showPartitions(f1, 5, display_per_partition=False)"
      ],
      "metadata": {
        "id": "XUBvU_MF7-oM",
        "colab": {
          "base_uri": "https://localhost:8080/",
          "height": 340
        },
        "outputId": "aa2ef080-7d5e-4a51-ffb5-61910a50e33d"
      },
      "execution_count": 27,
      "outputs": [
        {
          "output_type": "execute_result",
          "data": {
            "text/html": [
              "<div>\n",
              "<style scoped>\n",
              "    .dataframe tbody tr th:only-of-type {\n",
              "        vertical-align: middle;\n",
              "    }\n",
              "\n",
              "    .dataframe tbody tr th {\n",
              "        vertical-align: top;\n",
              "    }\n",
              "\n",
              "    .dataframe thead th {\n",
              "        text-align: right;\n",
              "    }\n",
              "</style>\n",
              "<table border=\"1\" class=\"dataframe\">\n",
              "  <thead>\n",
              "    <tr style=\"text-align: right;\">\n",
              "      <th></th>\n",
              "      <th>partID</th>\n",
              "      <th>genre</th>\n",
              "      <th>n</th>\n",
              "    </tr>\n",
              "  </thead>\n",
              "  <tbody>\n",
              "    <tr>\n",
              "      <th>0</th>\n",
              "      <td>0</td>\n",
              "      <td>Comedy</td>\n",
              "      <td>13</td>\n",
              "    </tr>\n",
              "    <tr>\n",
              "      <th>1</th>\n",
              "      <td>0</td>\n",
              "      <td>Drama</td>\n",
              "      <td>19</td>\n",
              "    </tr>\n",
              "    <tr>\n",
              "      <th>2</th>\n",
              "      <td>0</td>\n",
              "      <td>Romance</td>\n",
              "      <td>10</td>\n",
              "    </tr>\n",
              "    <tr>\n",
              "      <th>3</th>\n",
              "      <td>0</td>\n",
              "      <td>Thriller</td>\n",
              "      <td>5</td>\n",
              "    </tr>\n",
              "    <tr>\n",
              "      <th>4</th>\n",
              "      <td>0</td>\n",
              "      <td>Children</td>\n",
              "      <td>6</td>\n",
              "    </tr>\n",
              "    <tr>\n",
              "      <th>5</th>\n",
              "      <td>1</td>\n",
              "      <td>Drama</td>\n",
              "      <td>17</td>\n",
              "    </tr>\n",
              "    <tr>\n",
              "      <th>6</th>\n",
              "      <td>1</td>\n",
              "      <td>Action</td>\n",
              "      <td>8</td>\n",
              "    </tr>\n",
              "    <tr>\n",
              "      <th>7</th>\n",
              "      <td>1</td>\n",
              "      <td>Romance</td>\n",
              "      <td>7</td>\n",
              "    </tr>\n",
              "    <tr>\n",
              "      <th>8</th>\n",
              "      <td>1</td>\n",
              "      <td>Children</td>\n",
              "      <td>4</td>\n",
              "    </tr>\n",
              "    <tr>\n",
              "      <th>9</th>\n",
              "      <td>1</td>\n",
              "      <td>Mystery</td>\n",
              "      <td>2</td>\n",
              "    </tr>\n",
              "    <tr>\n",
              "      <th>10</th>\n",
              "      <td>2</td>\n",
              "      <td>Comedy</td>\n",
              "      <td>11</td>\n",
              "    </tr>\n",
              "    <tr>\n",
              "      <th>11</th>\n",
              "      <td>2</td>\n",
              "      <td>Drama</td>\n",
              "      <td>14</td>\n",
              "    </tr>\n",
              "    <tr>\n",
              "      <th>12</th>\n",
              "      <td>2</td>\n",
              "      <td>Crime</td>\n",
              "      <td>4</td>\n",
              "    </tr>\n",
              "    <tr>\n",
              "      <th>13</th>\n",
              "      <td>2</td>\n",
              "      <td>Thriller</td>\n",
              "      <td>7</td>\n",
              "    </tr>\n",
              "    <tr>\n",
              "      <th>14</th>\n",
              "      <td>2</td>\n",
              "      <td>Action</td>\n",
              "      <td>4</td>\n",
              "    </tr>\n",
              "  </tbody>\n",
              "</table>\n",
              "</div>"
            ],
            "application/vnd.google.colaboratory.module+javascript": "\n      import \"https://ssl.gstatic.com/colaboratory/data_table/e523c247d1e24a05/data_table.js\";\n\n      const table = window.createDataTable({\n        data: [[{\n            'v': 0,\n            'f': \"0\",\n        },\n\"Comedy\",\n{\n            'v': 13,\n            'f': \"13\",\n        }],\n [{\n            'v': 0,\n            'f': \"0\",\n        },\n\"Drama\",\n{\n            'v': 19,\n            'f': \"19\",\n        }],\n [{\n            'v': 0,\n            'f': \"0\",\n        },\n\"Romance\",\n{\n            'v': 10,\n            'f': \"10\",\n        }],\n [{\n            'v': 0,\n            'f': \"0\",\n        },\n\"Thriller\",\n{\n            'v': 5,\n            'f': \"5\",\n        }],\n [{\n            'v': 0,\n            'f': \"0\",\n        },\n\"Children\",\n{\n            'v': 6,\n            'f': \"6\",\n        }],\n [{\n            'v': 1,\n            'f': \"1\",\n        },\n\"Drama\",\n{\n            'v': 17,\n            'f': \"17\",\n        }],\n [{\n            'v': 1,\n            'f': \"1\",\n        },\n\"Action\",\n{\n            'v': 8,\n            'f': \"8\",\n        }],\n [{\n            'v': 1,\n            'f': \"1\",\n        },\n\"Romance\",\n{\n            'v': 7,\n            'f': \"7\",\n        }],\n [{\n            'v': 1,\n            'f': \"1\",\n        },\n\"Children\",\n{\n            'v': 4,\n            'f': \"4\",\n        }],\n [{\n            'v': 1,\n            'f': \"1\",\n        },\n\"Mystery\",\n{\n            'v': 2,\n            'f': \"2\",\n        }],\n [{\n            'v': 2,\n            'f': \"2\",\n        },\n\"Comedy\",\n{\n            'v': 11,\n            'f': \"11\",\n        }],\n [{\n            'v': 2,\n            'f': \"2\",\n        },\n\"Drama\",\n{\n            'v': 14,\n            'f': \"14\",\n        }],\n [{\n            'v': 2,\n            'f': \"2\",\n        },\n\"Crime\",\n{\n            'v': 4,\n            'f': \"4\",\n        }],\n [{\n            'v': 2,\n            'f': \"2\",\n        },\n\"Thriller\",\n{\n            'v': 7,\n            'f': \"7\",\n        }],\n [{\n            'v': 2,\n            'f': \"2\",\n        },\n\"Action\",\n{\n            'v': 4,\n            'f': \"4\",\n        }]],\n        columns: [[\"number\", \"partID\"], [\"string\", \"genre\"], [\"number\", \"n\"]],\n        columnOptions: [],\n        rowsPerPage: 10,\n        helpUrl: \"https://colab.research.google.com/notebooks/data_table.ipynb\",\n        suppressOutputScrolling: true,\n        minimumWidth: undefined,\n      });\n\n      function appendQuickchartButton(parentElement) {\n        let quickchartButtonContainerElement = document.createElement('div');\n        quickchartButtonContainerElement.innerHTML = `\n<div id=\"df-9ca22f41-fb40-41b0-b447-0df6af478282\">\n  <button class=\"colab-df-quickchart\" onclick=\"quickchart('df-9ca22f41-fb40-41b0-b447-0df6af478282')\"\n            title=\"Suggest charts\"\n            style=\"display:none;\">\n    \n<svg xmlns=\"http://www.w3.org/2000/svg\" height=\"24px\"viewBox=\"0 0 24 24\"\n     width=\"24px\">\n    <g>\n        <path d=\"M19 3H5c-1.1 0-2 .9-2 2v14c0 1.1.9 2 2 2h14c1.1 0 2-.9 2-2V5c0-1.1-.9-2-2-2zM9 17H7v-7h2v7zm4 0h-2V7h2v10zm4 0h-2v-4h2v4z\"/>\n    </g>\n</svg>\n  </button>\n  \n<style>\n  .colab-df-quickchart {\n      --bg-color: #E8F0FE;\n      --fill-color: #1967D2;\n      --hover-bg-color: #E2EBFA;\n      --hover-fill-color: #174EA6;\n      --disabled-fill-color: #AAA;\n      --disabled-bg-color: #DDD;\n  }\n\n  [theme=dark] .colab-df-quickchart {\n      --bg-color: #3B4455;\n      --fill-color: #D2E3FC;\n      --hover-bg-color: #434B5C;\n      --hover-fill-color: #FFFFFF;\n      --disabled-bg-color: #3B4455;\n      --disabled-fill-color: #666;\n  }\n\n  .colab-df-quickchart {\n    background-color: var(--bg-color);\n    border: none;\n    border-radius: 50%;\n    cursor: pointer;\n    display: none;\n    fill: var(--fill-color);\n    height: 32px;\n    padding: 0;\n    width: 32px;\n  }\n\n  .colab-df-quickchart:hover {\n    background-color: var(--hover-bg-color);\n    box-shadow: 0 1px 2px rgba(60, 64, 67, 0.3), 0 1px 3px 1px rgba(60, 64, 67, 0.15);\n    fill: var(--button-hover-fill-color);\n  }\n\n  .colab-df-quickchart-complete:disabled,\n  .colab-df-quickchart-complete:disabled:hover {\n    background-color: var(--disabled-bg-color);\n    fill: var(--disabled-fill-color);\n    box-shadow: none;\n  }\n\n  .colab-df-spinner {\n    border: 2px solid var(--fill-color);\n    border-color: transparent;\n    border-bottom-color: var(--fill-color);\n    animation:\n      spin 1s steps(1) infinite;\n  }\n\n  @keyframes spin {\n    0% {\n      border-color: transparent;\n      border-bottom-color: var(--fill-color);\n      border-left-color: var(--fill-color);\n    }\n    20% {\n      border-color: transparent;\n      border-left-color: var(--fill-color);\n      border-top-color: var(--fill-color);\n    }\n    30% {\n      border-color: transparent;\n      border-left-color: var(--fill-color);\n      border-top-color: var(--fill-color);\n      border-right-color: var(--fill-color);\n    }\n    40% {\n      border-color: transparent;\n      border-right-color: var(--fill-color);\n      border-top-color: var(--fill-color);\n    }\n    60% {\n      border-color: transparent;\n      border-right-color: var(--fill-color);\n    }\n    80% {\n      border-color: transparent;\n      border-right-color: var(--fill-color);\n      border-bottom-color: var(--fill-color);\n    }\n    90% {\n      border-color: transparent;\n      border-bottom-color: var(--fill-color);\n    }\n  }\n</style>\n\n  <script>\n    async function quickchart(key) {\n      const quickchartButtonEl =\n        document.querySelector('#' + key + ' button');\n      quickchartButtonEl.disabled = true;  // To prevent multiple clicks.\n      quickchartButtonEl.classList.add('colab-df-spinner');\n      try {\n        const charts = await google.colab.kernel.invokeFunction(\n            'suggestCharts', [key], {});\n      } catch (error) {\n        console.error('Error during call to suggestCharts:', error);\n      }\n      quickchartButtonEl.classList.remove('colab-df-spinner');\n      quickchartButtonEl.classList.add('colab-df-quickchart-complete');\n    }\n    (() => {\n      let quickchartButtonEl =\n        document.querySelector('#df-9ca22f41-fb40-41b0-b447-0df6af478282 button');\n      quickchartButtonEl.style.display =\n        google.colab.kernel.accessAllowed ? 'block' : 'none';\n    })();\n  </script>\n</div>`;\n        parentElement.appendChild(quickchartButtonContainerElement);\n      }\n\n      appendQuickchartButton(table);\n    ",
            "text/plain": [
              "<google.colab.data_table.DataTable object>"
            ]
          },
          "metadata": {},
          "execution_count": 27
        }
      ]
    },
    {
      "cell_type": "code",
      "source": [
        "def total_genre(iterateur):\n",
        "    genre_count = {}\n",
        "    for genre, n in iterateur:\n",
        "        if genre not in genre_count:\n",
        "            genre_count[genre] = 0\n",
        "        genre_count[genre] += n\n",
        "\n",
        "    for genre, total in genre_count.items():\n",
        "        yield (genre, total)\n",
        "\n",
        "f2 = f1.repartition(3, 'genre')\n",
        "# showPartitions(f2, 5, display_per_partition=False)\n",
        "f3 = f2.rdd.mapPartitions(total_genre).toDF(['genre', 'n'])\n",
        "showPartitions(f3, 5, display_per_partition=False)"
      ],
      "metadata": {
        "colab": {
          "base_uri": "https://localhost:8080/",
          "height": 340
        },
        "id": "4xeJspLhwgrj",
        "outputId": "f616df57-e42c-4738-80ad-c4a9a25fb907"
      },
      "execution_count": 29,
      "outputs": [
        {
          "output_type": "execute_result",
          "data": {
            "text/html": [
              "<div>\n",
              "<style scoped>\n",
              "    .dataframe tbody tr th:only-of-type {\n",
              "        vertical-align: middle;\n",
              "    }\n",
              "\n",
              "    .dataframe tbody tr th {\n",
              "        vertical-align: top;\n",
              "    }\n",
              "\n",
              "    .dataframe thead th {\n",
              "        text-align: right;\n",
              "    }\n",
              "</style>\n",
              "<table border=\"1\" class=\"dataframe\">\n",
              "  <thead>\n",
              "    <tr style=\"text-align: right;\">\n",
              "      <th></th>\n",
              "      <th>partID</th>\n",
              "      <th>genre</th>\n",
              "      <th>n</th>\n",
              "    </tr>\n",
              "  </thead>\n",
              "  <tbody>\n",
              "    <tr>\n",
              "      <th>0</th>\n",
              "      <td>0</td>\n",
              "      <td>Comedy</td>\n",
              "      <td>31</td>\n",
              "    </tr>\n",
              "    <tr>\n",
              "      <th>1</th>\n",
              "      <td>0</td>\n",
              "      <td>Children</td>\n",
              "      <td>12</td>\n",
              "    </tr>\n",
              "    <tr>\n",
              "      <th>2</th>\n",
              "      <td>0</td>\n",
              "      <td>Action</td>\n",
              "      <td>17</td>\n",
              "    </tr>\n",
              "    <tr>\n",
              "      <th>3</th>\n",
              "      <td>0</td>\n",
              "      <td>Crime</td>\n",
              "      <td>14</td>\n",
              "    </tr>\n",
              "    <tr>\n",
              "      <th>4</th>\n",
              "      <td>0</td>\n",
              "      <td>Adventure</td>\n",
              "      <td>12</td>\n",
              "    </tr>\n",
              "    <tr>\n",
              "      <th>5</th>\n",
              "      <td>1</td>\n",
              "      <td>Romance</td>\n",
              "      <td>23</td>\n",
              "    </tr>\n",
              "    <tr>\n",
              "      <th>6</th>\n",
              "      <td>1</td>\n",
              "      <td>Thriller</td>\n",
              "      <td>20</td>\n",
              "    </tr>\n",
              "    <tr>\n",
              "      <th>7</th>\n",
              "      <td>1</td>\n",
              "      <td>War</td>\n",
              "      <td>2</td>\n",
              "    </tr>\n",
              "    <tr>\n",
              "      <th>8</th>\n",
              "      <td>1</td>\n",
              "      <td>Sci-Fi</td>\n",
              "      <td>5</td>\n",
              "    </tr>\n",
              "    <tr>\n",
              "      <th>9</th>\n",
              "      <td>1</td>\n",
              "      <td>Fantasy</td>\n",
              "      <td>5</td>\n",
              "    </tr>\n",
              "    <tr>\n",
              "      <th>10</th>\n",
              "      <td>2</td>\n",
              "      <td>Drama</td>\n",
              "      <td>50</td>\n",
              "    </tr>\n",
              "    <tr>\n",
              "      <th>11</th>\n",
              "      <td>2</td>\n",
              "      <td>Horror</td>\n",
              "      <td>5</td>\n",
              "    </tr>\n",
              "    <tr>\n",
              "      <th>12</th>\n",
              "      <td>2</td>\n",
              "      <td>Animation</td>\n",
              "      <td>3</td>\n",
              "    </tr>\n",
              "    <tr>\n",
              "      <th>13</th>\n",
              "      <td>2</td>\n",
              "      <td>Mystery</td>\n",
              "      <td>6</td>\n",
              "    </tr>\n",
              "    <tr>\n",
              "      <th>14</th>\n",
              "      <td>2</td>\n",
              "      <td>IMAX</td>\n",
              "      <td>1</td>\n",
              "    </tr>\n",
              "  </tbody>\n",
              "</table>\n",
              "</div>"
            ],
            "application/vnd.google.colaboratory.module+javascript": "\n      import \"https://ssl.gstatic.com/colaboratory/data_table/e523c247d1e24a05/data_table.js\";\n\n      const table = window.createDataTable({\n        data: [[{\n            'v': 0,\n            'f': \"0\",\n        },\n\"Comedy\",\n{\n            'v': 31,\n            'f': \"31\",\n        }],\n [{\n            'v': 0,\n            'f': \"0\",\n        },\n\"Children\",\n{\n            'v': 12,\n            'f': \"12\",\n        }],\n [{\n            'v': 0,\n            'f': \"0\",\n        },\n\"Action\",\n{\n            'v': 17,\n            'f': \"17\",\n        }],\n [{\n            'v': 0,\n            'f': \"0\",\n        },\n\"Crime\",\n{\n            'v': 14,\n            'f': \"14\",\n        }],\n [{\n            'v': 0,\n            'f': \"0\",\n        },\n\"Adventure\",\n{\n            'v': 12,\n            'f': \"12\",\n        }],\n [{\n            'v': 1,\n            'f': \"1\",\n        },\n\"Romance\",\n{\n            'v': 23,\n            'f': \"23\",\n        }],\n [{\n            'v': 1,\n            'f': \"1\",\n        },\n\"Thriller\",\n{\n            'v': 20,\n            'f': \"20\",\n        }],\n [{\n            'v': 1,\n            'f': \"1\",\n        },\n\"War\",\n{\n            'v': 2,\n            'f': \"2\",\n        }],\n [{\n            'v': 1,\n            'f': \"1\",\n        },\n\"Sci-Fi\",\n{\n            'v': 5,\n            'f': \"5\",\n        }],\n [{\n            'v': 1,\n            'f': \"1\",\n        },\n\"Fantasy\",\n{\n            'v': 5,\n            'f': \"5\",\n        }],\n [{\n            'v': 2,\n            'f': \"2\",\n        },\n\"Drama\",\n{\n            'v': 50,\n            'f': \"50\",\n        }],\n [{\n            'v': 2,\n            'f': \"2\",\n        },\n\"Horror\",\n{\n            'v': 5,\n            'f': \"5\",\n        }],\n [{\n            'v': 2,\n            'f': \"2\",\n        },\n\"Animation\",\n{\n            'v': 3,\n            'f': \"3\",\n        }],\n [{\n            'v': 2,\n            'f': \"2\",\n        },\n\"Mystery\",\n{\n            'v': 6,\n            'f': \"6\",\n        }],\n [{\n            'v': 2,\n            'f': \"2\",\n        },\n\"IMAX\",\n{\n            'v': 1,\n            'f': \"1\",\n        }]],\n        columns: [[\"number\", \"partID\"], [\"string\", \"genre\"], [\"number\", \"n\"]],\n        columnOptions: [],\n        rowsPerPage: 10,\n        helpUrl: \"https://colab.research.google.com/notebooks/data_table.ipynb\",\n        suppressOutputScrolling: true,\n        minimumWidth: undefined,\n      });\n\n      function appendQuickchartButton(parentElement) {\n        let quickchartButtonContainerElement = document.createElement('div');\n        quickchartButtonContainerElement.innerHTML = `\n<div id=\"df-dc8bfd83-ffc8-4df3-88dc-832b7889a6ad\">\n  <button class=\"colab-df-quickchart\" onclick=\"quickchart('df-dc8bfd83-ffc8-4df3-88dc-832b7889a6ad')\"\n            title=\"Suggest charts\"\n            style=\"display:none;\">\n    \n<svg xmlns=\"http://www.w3.org/2000/svg\" height=\"24px\"viewBox=\"0 0 24 24\"\n     width=\"24px\">\n    <g>\n        <path d=\"M19 3H5c-1.1 0-2 .9-2 2v14c0 1.1.9 2 2 2h14c1.1 0 2-.9 2-2V5c0-1.1-.9-2-2-2zM9 17H7v-7h2v7zm4 0h-2V7h2v10zm4 0h-2v-4h2v4z\"/>\n    </g>\n</svg>\n  </button>\n  \n<style>\n  .colab-df-quickchart {\n      --bg-color: #E8F0FE;\n      --fill-color: #1967D2;\n      --hover-bg-color: #E2EBFA;\n      --hover-fill-color: #174EA6;\n      --disabled-fill-color: #AAA;\n      --disabled-bg-color: #DDD;\n  }\n\n  [theme=dark] .colab-df-quickchart {\n      --bg-color: #3B4455;\n      --fill-color: #D2E3FC;\n      --hover-bg-color: #434B5C;\n      --hover-fill-color: #FFFFFF;\n      --disabled-bg-color: #3B4455;\n      --disabled-fill-color: #666;\n  }\n\n  .colab-df-quickchart {\n    background-color: var(--bg-color);\n    border: none;\n    border-radius: 50%;\n    cursor: pointer;\n    display: none;\n    fill: var(--fill-color);\n    height: 32px;\n    padding: 0;\n    width: 32px;\n  }\n\n  .colab-df-quickchart:hover {\n    background-color: var(--hover-bg-color);\n    box-shadow: 0 1px 2px rgba(60, 64, 67, 0.3), 0 1px 3px 1px rgba(60, 64, 67, 0.15);\n    fill: var(--button-hover-fill-color);\n  }\n\n  .colab-df-quickchart-complete:disabled,\n  .colab-df-quickchart-complete:disabled:hover {\n    background-color: var(--disabled-bg-color);\n    fill: var(--disabled-fill-color);\n    box-shadow: none;\n  }\n\n  .colab-df-spinner {\n    border: 2px solid var(--fill-color);\n    border-color: transparent;\n    border-bottom-color: var(--fill-color);\n    animation:\n      spin 1s steps(1) infinite;\n  }\n\n  @keyframes spin {\n    0% {\n      border-color: transparent;\n      border-bottom-color: var(--fill-color);\n      border-left-color: var(--fill-color);\n    }\n    20% {\n      border-color: transparent;\n      border-left-color: var(--fill-color);\n      border-top-color: var(--fill-color);\n    }\n    30% {\n      border-color: transparent;\n      border-left-color: var(--fill-color);\n      border-top-color: var(--fill-color);\n      border-right-color: var(--fill-color);\n    }\n    40% {\n      border-color: transparent;\n      border-right-color: var(--fill-color);\n      border-top-color: var(--fill-color);\n    }\n    60% {\n      border-color: transparent;\n      border-right-color: var(--fill-color);\n    }\n    80% {\n      border-color: transparent;\n      border-right-color: var(--fill-color);\n      border-bottom-color: var(--fill-color);\n    }\n    90% {\n      border-color: transparent;\n      border-bottom-color: var(--fill-color);\n    }\n  }\n</style>\n\n  <script>\n    async function quickchart(key) {\n      const quickchartButtonEl =\n        document.querySelector('#' + key + ' button');\n      quickchartButtonEl.disabled = true;  // To prevent multiple clicks.\n      quickchartButtonEl.classList.add('colab-df-spinner');\n      try {\n        const charts = await google.colab.kernel.invokeFunction(\n            'suggestCharts', [key], {});\n      } catch (error) {\n        console.error('Error during call to suggestCharts:', error);\n      }\n      quickchartButtonEl.classList.remove('colab-df-spinner');\n      quickchartButtonEl.classList.add('colab-df-quickchart-complete');\n    }\n    (() => {\n      let quickchartButtonEl =\n        document.querySelector('#df-dc8bfd83-ffc8-4df3-88dc-832b7889a6ad button');\n      quickchartButtonEl.style.display =\n        google.colab.kernel.accessAllowed ? 'block' : 'none';\n    })();\n  </script>\n</div>`;\n        parentElement.appendChild(quickchartButtonContainerElement);\n      }\n\n      appendQuickchartButton(table);\n    ",
            "text/plain": [
              "<google.colab.data_table.DataTable object>"
            ]
          },
          "metadata": {},
          "execution_count": 29
        }
      ]
    },
    {
      "cell_type": "markdown",
      "source": [
        "## Question 2 : Numérotation\n",
        "\n",
        "Définir une fonction qui attribue un numéro de 1 à $n$ aux tuples de notes_extrait. Le résultat a les attributs de notes + un attribut *num*.\n",
        "\n",
        "Indications :\n",
        "*    les valeurs de l'attribut *num* sont **consécutives**.\n",
        "*    les numéros dans la $1^{ère}$ partition vont de 1 à $n_0$, avec $n_i$ étant le nombre de tuples dans la $i^{ème}$ partition.\n",
        "*    les numéros dans la $2^{ème}$ partition vont de $(n_0+1)$ à $(n_0+n_1)$, et ainsi de suite pour les partitions suivantes.\n",
        "*   il est possible d'utiliser `d_spark = spark.sparkContext.broadcast(d)` avec `d` étant un objet python de l'application (exple une liste). La variable `d_spark` est une copie de `d` et peut être lue dans toute fonction exécutée par spark. L'instruction `d_spark.value` permet de lire la copie de `d`.\n"
      ],
      "metadata": {
        "id": "VPCyI3vt1jr2"
      }
    },
    {
      "cell_type": "code",
      "source": [
        "# rearch the number of the lines in each partition\n",
        "partition_sizes = notes_extrait.rdd.mapPartitions(part_size_simple).toDF(['size']).collect()\n",
        "\n",
        "# regroup the counts by previous lines' count\n",
        "# the first partition has 0 previous line\n",
        "cumulative_sizes = [0]\n",
        "for i in range(1, len(partition_sizes)):\n",
        "    cumulative_sizes.append(partition_sizes[i]['size'] + cumulative_sizes[i - 1])\n",
        "\n",
        "# previous methode : Partition numbering manually\n",
        "# offsets = {}\n",
        "# for i in range(len(partition_sizes)):\n",
        "#     offsets[i] = cumulative_sizes[i]\n",
        "\n",
        "# apply the spark broadcast\n",
        "offsets = spark.sparkContext.broadcast(cumulative_sizes)\n",
        "\n",
        "def add_partition_offset(partID, note_iterator: Iterator) -> Iterator:\n",
        "    offset = offsets.value[partID]\n",
        "    i = 1\n",
        "    for note in note_iterator:\n",
        "        yield (offset + i, note.nF, note.nU, note.note, note.annee)\n",
        "        i += 1\n",
        "\n",
        "f1 = notes_extrait.rdd.mapPartitionsWithIndex(add_partition_offset).toDF(['global_num', 'nF', 'nU', 'note', 'annee'])\n",
        "showPartitions(f1, 15, display_per_partition=False)"
      ],
      "metadata": {
        "id": "ao9_jX5S1jr3",
        "colab": {
          "base_uri": "https://localhost:8080/",
          "height": 340
        },
        "outputId": "5f6b8bfb-9bda-4d06-af58-5001a75fbbfa"
      },
      "execution_count": 49,
      "outputs": [
        {
          "output_type": "execute_result",
          "data": {
            "text/html": [
              "<div>\n",
              "<style scoped>\n",
              "    .dataframe tbody tr th:only-of-type {\n",
              "        vertical-align: middle;\n",
              "    }\n",
              "\n",
              "    .dataframe tbody tr th {\n",
              "        vertical-align: top;\n",
              "    }\n",
              "\n",
              "    .dataframe thead th {\n",
              "        text-align: right;\n",
              "    }\n",
              "</style>\n",
              "<table border=\"1\" class=\"dataframe\">\n",
              "  <thead>\n",
              "    <tr style=\"text-align: right;\">\n",
              "      <th></th>\n",
              "      <th>partID</th>\n",
              "      <th>global_num</th>\n",
              "      <th>nF</th>\n",
              "      <th>nU</th>\n",
              "      <th>note</th>\n",
              "      <th>annee</th>\n",
              "    </tr>\n",
              "  </thead>\n",
              "  <tbody>\n",
              "    <tr>\n",
              "      <th>0</th>\n",
              "      <td>0</td>\n",
              "      <td>1</td>\n",
              "      <td>21</td>\n",
              "      <td>638</td>\n",
              "      <td>4.0</td>\n",
              "      <td>1996</td>\n",
              "    </tr>\n",
              "    <tr>\n",
              "      <th>1</th>\n",
              "      <td>0</td>\n",
              "      <td>2</td>\n",
              "      <td>15</td>\n",
              "      <td>875</td>\n",
              "      <td>4.0</td>\n",
              "      <td>1996</td>\n",
              "    </tr>\n",
              "    <tr>\n",
              "      <th>2</th>\n",
              "      <td>0</td>\n",
              "      <td>3</td>\n",
              "      <td>76</td>\n",
              "      <td>160</td>\n",
              "      <td>4.0</td>\n",
              "      <td>2000</td>\n",
              "    </tr>\n",
              "    <tr>\n",
              "      <th>3</th>\n",
              "      <td>0</td>\n",
              "      <td>4</td>\n",
              "      <td>19</td>\n",
              "      <td>151</td>\n",
              "      <td>2.0</td>\n",
              "      <td>2004</td>\n",
              "    </tr>\n",
              "    <tr>\n",
              "      <th>4</th>\n",
              "      <td>0</td>\n",
              "      <td>5</td>\n",
              "      <td>6</td>\n",
              "      <td>24</td>\n",
              "      <td>4.0</td>\n",
              "      <td>2001</td>\n",
              "    </tr>\n",
              "    <tr>\n",
              "      <th>5</th>\n",
              "      <td>0</td>\n",
              "      <td>6</td>\n",
              "      <td>45</td>\n",
              "      <td>898</td>\n",
              "      <td>4.0</td>\n",
              "      <td>1999</td>\n",
              "    </tr>\n",
              "    <tr>\n",
              "      <th>6</th>\n",
              "      <td>0</td>\n",
              "      <td>7</td>\n",
              "      <td>6</td>\n",
              "      <td>619</td>\n",
              "      <td>2.0</td>\n",
              "      <td>1996</td>\n",
              "    </tr>\n",
              "    <tr>\n",
              "      <th>7</th>\n",
              "      <td>0</td>\n",
              "      <td>8</td>\n",
              "      <td>1</td>\n",
              "      <td>392</td>\n",
              "      <td>3.5</td>\n",
              "      <td>2006</td>\n",
              "    </tr>\n",
              "    <tr>\n",
              "      <th>8</th>\n",
              "      <td>0</td>\n",
              "      <td>9</td>\n",
              "      <td>1</td>\n",
              "      <td>606</td>\n",
              "      <td>4.0</td>\n",
              "      <td>2002</td>\n",
              "    </tr>\n",
              "    <tr>\n",
              "      <th>9</th>\n",
              "      <td>0</td>\n",
              "      <td>10</td>\n",
              "      <td>6</td>\n",
              "      <td>483</td>\n",
              "      <td>4.0</td>\n",
              "      <td>2007</td>\n",
              "    </tr>\n",
              "    <tr>\n",
              "      <th>10</th>\n",
              "      <td>0</td>\n",
              "      <td>11</td>\n",
              "      <td>16</td>\n",
              "      <td>12</td>\n",
              "      <td>4.0</td>\n",
              "      <td>1999</td>\n",
              "    </tr>\n",
              "    <tr>\n",
              "      <th>11</th>\n",
              "      <td>0</td>\n",
              "      <td>12</td>\n",
              "      <td>47</td>\n",
              "      <td>623</td>\n",
              "      <td>4.0</td>\n",
              "      <td>2016</td>\n",
              "    </tr>\n",
              "    <tr>\n",
              "      <th>12</th>\n",
              "      <td>0</td>\n",
              "      <td>13</td>\n",
              "      <td>47</td>\n",
              "      <td>886</td>\n",
              "      <td>2.0</td>\n",
              "      <td>2016</td>\n",
              "    </tr>\n",
              "    <tr>\n",
              "      <th>13</th>\n",
              "      <td>0</td>\n",
              "      <td>14</td>\n",
              "      <td>97</td>\n",
              "      <td>493</td>\n",
              "      <td>3.0</td>\n",
              "      <td>1999</td>\n",
              "    </tr>\n",
              "    <tr>\n",
              "      <th>14</th>\n",
              "      <td>0</td>\n",
              "      <td>15</td>\n",
              "      <td>44</td>\n",
              "      <td>314</td>\n",
              "      <td>1.5</td>\n",
              "      <td>2010</td>\n",
              "    </tr>\n",
              "    <tr>\n",
              "      <th>15</th>\n",
              "      <td>1</td>\n",
              "      <td>63</td>\n",
              "      <td>6</td>\n",
              "      <td>52</td>\n",
              "      <td>3.0</td>\n",
              "      <td>1997</td>\n",
              "    </tr>\n",
              "    <tr>\n",
              "      <th>16</th>\n",
              "      <td>1</td>\n",
              "      <td>64</td>\n",
              "      <td>71</td>\n",
              "      <td>638</td>\n",
              "      <td>3.0</td>\n",
              "      <td>1996</td>\n",
              "    </tr>\n",
              "    <tr>\n",
              "      <th>17</th>\n",
              "      <td>1</td>\n",
              "      <td>65</td>\n",
              "      <td>95</td>\n",
              "      <td>400</td>\n",
              "      <td>3.0</td>\n",
              "      <td>1996</td>\n",
              "    </tr>\n",
              "    <tr>\n",
              "      <th>18</th>\n",
              "      <td>1</td>\n",
              "      <td>66</td>\n",
              "      <td>47</td>\n",
              "      <td>229</td>\n",
              "      <td>2.0</td>\n",
              "      <td>2002</td>\n",
              "    </tr>\n",
              "    <tr>\n",
              "      <th>19</th>\n",
              "      <td>1</td>\n",
              "      <td>67</td>\n",
              "      <td>1</td>\n",
              "      <td>457</td>\n",
              "      <td>4.0</td>\n",
              "      <td>2017</td>\n",
              "    </tr>\n",
              "    <tr>\n",
              "      <th>20</th>\n",
              "      <td>1</td>\n",
              "      <td>68</td>\n",
              "      <td>39</td>\n",
              "      <td>524</td>\n",
              "      <td>4.0</td>\n",
              "      <td>1996</td>\n",
              "    </tr>\n",
              "    <tr>\n",
              "      <th>21</th>\n",
              "      <td>1</td>\n",
              "      <td>69</td>\n",
              "      <td>48</td>\n",
              "      <td>506</td>\n",
              "      <td>4.0</td>\n",
              "      <td>2010</td>\n",
              "    </tr>\n",
              "    <tr>\n",
              "      <th>22</th>\n",
              "      <td>1</td>\n",
              "      <td>70</td>\n",
              "      <td>29</td>\n",
              "      <td>592</td>\n",
              "      <td>4.0</td>\n",
              "      <td>2000</td>\n",
              "    </tr>\n",
              "    <tr>\n",
              "      <th>23</th>\n",
              "      <td>1</td>\n",
              "      <td>71</td>\n",
              "      <td>50</td>\n",
              "      <td>588</td>\n",
              "      <td>3.0</td>\n",
              "      <td>1996</td>\n",
              "    </tr>\n",
              "    <tr>\n",
              "      <th>24</th>\n",
              "      <td>1</td>\n",
              "      <td>72</td>\n",
              "      <td>1</td>\n",
              "      <td>323</td>\n",
              "      <td>4.0</td>\n",
              "      <td>2014</td>\n",
              "    </tr>\n",
              "    <tr>\n",
              "      <th>25</th>\n",
              "      <td>1</td>\n",
              "      <td>73</td>\n",
              "      <td>1</td>\n",
              "      <td>627</td>\n",
              "      <td>3.5</td>\n",
              "      <td>2006</td>\n",
              "    </tr>\n",
              "    <tr>\n",
              "      <th>26</th>\n",
              "      <td>1</td>\n",
              "      <td>74</td>\n",
              "      <td>21</td>\n",
              "      <td>151</td>\n",
              "      <td>4.0</td>\n",
              "      <td>2004</td>\n",
              "    </tr>\n",
              "    <tr>\n",
              "      <th>27</th>\n",
              "      <td>1</td>\n",
              "      <td>75</td>\n",
              "      <td>31</td>\n",
              "      <td>767</td>\n",
              "      <td>3.0</td>\n",
              "      <td>1996</td>\n",
              "    </tr>\n",
              "    <tr>\n",
              "      <th>28</th>\n",
              "      <td>1</td>\n",
              "      <td>76</td>\n",
              "      <td>39</td>\n",
              "      <td>546</td>\n",
              "      <td>3.0</td>\n",
              "      <td>1996</td>\n",
              "    </tr>\n",
              "    <tr>\n",
              "      <th>29</th>\n",
              "      <td>1</td>\n",
              "      <td>77</td>\n",
              "      <td>47</td>\n",
              "      <td>350</td>\n",
              "      <td>3.0</td>\n",
              "      <td>1996</td>\n",
              "    </tr>\n",
              "    <tr>\n",
              "      <th>30</th>\n",
              "      <td>2</td>\n",
              "      <td>124</td>\n",
              "      <td>19</td>\n",
              "      <td>76</td>\n",
              "      <td>1.5</td>\n",
              "      <td>2011</td>\n",
              "    </tr>\n",
              "    <tr>\n",
              "      <th>31</th>\n",
              "      <td>2</td>\n",
              "      <td>125</td>\n",
              "      <td>7</td>\n",
              "      <td>839</td>\n",
              "      <td>4.0</td>\n",
              "      <td>2006</td>\n",
              "    </tr>\n",
              "    <tr>\n",
              "      <th>32</th>\n",
              "      <td>2</td>\n",
              "      <td>126</td>\n",
              "      <td>7</td>\n",
              "      <td>611</td>\n",
              "      <td>2.0</td>\n",
              "      <td>1999</td>\n",
              "    </tr>\n",
              "    <tr>\n",
              "      <th>33</th>\n",
              "      <td>2</td>\n",
              "      <td>127</td>\n",
              "      <td>1</td>\n",
              "      <td>75</td>\n",
              "      <td>4.0</td>\n",
              "      <td>2007</td>\n",
              "    </tr>\n",
              "    <tr>\n",
              "      <th>34</th>\n",
              "      <td>2</td>\n",
              "      <td>128</td>\n",
              "      <td>62</td>\n",
              "      <td>691</td>\n",
              "      <td>5.0</td>\n",
              "      <td>1996</td>\n",
              "    </tr>\n",
              "    <tr>\n",
              "      <th>35</th>\n",
              "      <td>2</td>\n",
              "      <td>129</td>\n",
              "      <td>62</td>\n",
              "      <td>368</td>\n",
              "      <td>4.0</td>\n",
              "      <td>2006</td>\n",
              "    </tr>\n",
              "    <tr>\n",
              "      <th>36</th>\n",
              "      <td>2</td>\n",
              "      <td>130</td>\n",
              "      <td>25</td>\n",
              "      <td>832</td>\n",
              "      <td>5.0</td>\n",
              "      <td>1998</td>\n",
              "    </tr>\n",
              "    <tr>\n",
              "      <th>37</th>\n",
              "      <td>2</td>\n",
              "      <td>131</td>\n",
              "      <td>88</td>\n",
              "      <td>168</td>\n",
              "      <td>3.0</td>\n",
              "      <td>1996</td>\n",
              "    </tr>\n",
              "    <tr>\n",
              "      <th>38</th>\n",
              "      <td>2</td>\n",
              "      <td>132</td>\n",
              "      <td>5</td>\n",
              "      <td>296</td>\n",
              "      <td>3.5</td>\n",
              "      <td>2005</td>\n",
              "    </tr>\n",
              "    <tr>\n",
              "      <th>39</th>\n",
              "      <td>2</td>\n",
              "      <td>133</td>\n",
              "      <td>11</td>\n",
              "      <td>236</td>\n",
              "      <td>4.0</td>\n",
              "      <td>2001</td>\n",
              "    </tr>\n",
              "    <tr>\n",
              "      <th>40</th>\n",
              "      <td>2</td>\n",
              "      <td>134</td>\n",
              "      <td>32</td>\n",
              "      <td>931</td>\n",
              "      <td>4.0</td>\n",
              "      <td>2007</td>\n",
              "    </tr>\n",
              "    <tr>\n",
              "      <th>41</th>\n",
              "      <td>2</td>\n",
              "      <td>135</td>\n",
              "      <td>58</td>\n",
              "      <td>487</td>\n",
              "      <td>4.0</td>\n",
              "      <td>1997</td>\n",
              "    </tr>\n",
              "    <tr>\n",
              "      <th>42</th>\n",
              "      <td>2</td>\n",
              "      <td>136</td>\n",
              "      <td>10</td>\n",
              "      <td>341</td>\n",
              "      <td>3.0</td>\n",
              "      <td>1997</td>\n",
              "    </tr>\n",
              "    <tr>\n",
              "      <th>43</th>\n",
              "      <td>2</td>\n",
              "      <td>137</td>\n",
              "      <td>1</td>\n",
              "      <td>682</td>\n",
              "      <td>4.0</td>\n",
              "      <td>2000</td>\n",
              "    </tr>\n",
              "    <tr>\n",
              "      <th>44</th>\n",
              "      <td>2</td>\n",
              "      <td>138</td>\n",
              "      <td>32</td>\n",
              "      <td>533</td>\n",
              "      <td>3.0</td>\n",
              "      <td>2000</td>\n",
              "    </tr>\n",
              "  </tbody>\n",
              "</table>\n",
              "</div>"
            ],
            "application/vnd.google.colaboratory.module+javascript": "\n      import \"https://ssl.gstatic.com/colaboratory/data_table/e523c247d1e24a05/data_table.js\";\n\n      const table = window.createDataTable({\n        data: [[{\n            'v': 0,\n            'f': \"0\",\n        },\n{\n            'v': 1,\n            'f': \"1\",\n        },\n{\n            'v': 21,\n            'f': \"21\",\n        },\n{\n            'v': 638,\n            'f': \"638\",\n        },\n{\n            'v': 4.0,\n            'f': \"4.0\",\n        },\n{\n            'v': 1996,\n            'f': \"1996\",\n        }],\n [{\n            'v': 0,\n            'f': \"0\",\n        },\n{\n            'v': 2,\n            'f': \"2\",\n        },\n{\n            'v': 15,\n            'f': \"15\",\n        },\n{\n            'v': 875,\n            'f': \"875\",\n        },\n{\n            'v': 4.0,\n            'f': \"4.0\",\n        },\n{\n            'v': 1996,\n            'f': \"1996\",\n        }],\n [{\n            'v': 0,\n            'f': \"0\",\n        },\n{\n            'v': 3,\n            'f': \"3\",\n        },\n{\n            'v': 76,\n            'f': \"76\",\n        },\n{\n            'v': 160,\n            'f': \"160\",\n        },\n{\n            'v': 4.0,\n            'f': \"4.0\",\n        },\n{\n            'v': 2000,\n            'f': \"2000\",\n        }],\n [{\n            'v': 0,\n            'f': \"0\",\n        },\n{\n            'v': 4,\n            'f': \"4\",\n        },\n{\n            'v': 19,\n            'f': \"19\",\n        },\n{\n            'v': 151,\n            'f': \"151\",\n        },\n{\n            'v': 2.0,\n            'f': \"2.0\",\n        },\n{\n            'v': 2004,\n            'f': \"2004\",\n        }],\n [{\n            'v': 0,\n            'f': \"0\",\n        },\n{\n            'v': 5,\n            'f': \"5\",\n        },\n{\n            'v': 6,\n            'f': \"6\",\n        },\n{\n            'v': 24,\n            'f': \"24\",\n        },\n{\n            'v': 4.0,\n            'f': \"4.0\",\n        },\n{\n            'v': 2001,\n            'f': \"2001\",\n        }],\n [{\n            'v': 0,\n            'f': \"0\",\n        },\n{\n            'v': 6,\n            'f': \"6\",\n        },\n{\n            'v': 45,\n            'f': \"45\",\n        },\n{\n            'v': 898,\n            'f': \"898\",\n        },\n{\n            'v': 4.0,\n            'f': \"4.0\",\n        },\n{\n            'v': 1999,\n            'f': \"1999\",\n        }],\n [{\n            'v': 0,\n            'f': \"0\",\n        },\n{\n            'v': 7,\n            'f': \"7\",\n        },\n{\n            'v': 6,\n            'f': \"6\",\n        },\n{\n            'v': 619,\n            'f': \"619\",\n        },\n{\n            'v': 2.0,\n            'f': \"2.0\",\n        },\n{\n            'v': 1996,\n            'f': \"1996\",\n        }],\n [{\n            'v': 0,\n            'f': \"0\",\n        },\n{\n            'v': 8,\n            'f': \"8\",\n        },\n{\n            'v': 1,\n            'f': \"1\",\n        },\n{\n            'v': 392,\n            'f': \"392\",\n        },\n{\n            'v': 3.5,\n            'f': \"3.5\",\n        },\n{\n            'v': 2006,\n            'f': \"2006\",\n        }],\n [{\n            'v': 0,\n            'f': \"0\",\n        },\n{\n            'v': 9,\n            'f': \"9\",\n        },\n{\n            'v': 1,\n            'f': \"1\",\n        },\n{\n            'v': 606,\n            'f': \"606\",\n        },\n{\n            'v': 4.0,\n            'f': \"4.0\",\n        },\n{\n            'v': 2002,\n            'f': \"2002\",\n        }],\n [{\n            'v': 0,\n            'f': \"0\",\n        },\n{\n            'v': 10,\n            'f': \"10\",\n        },\n{\n            'v': 6,\n            'f': \"6\",\n        },\n{\n            'v': 483,\n            'f': \"483\",\n        },\n{\n            'v': 4.0,\n            'f': \"4.0\",\n        },\n{\n            'v': 2007,\n            'f': \"2007\",\n        }],\n [{\n            'v': 0,\n            'f': \"0\",\n        },\n{\n            'v': 11,\n            'f': \"11\",\n        },\n{\n            'v': 16,\n            'f': \"16\",\n        },\n{\n            'v': 12,\n            'f': \"12\",\n        },\n{\n            'v': 4.0,\n            'f': \"4.0\",\n        },\n{\n            'v': 1999,\n            'f': \"1999\",\n        }],\n [{\n            'v': 0,\n            'f': \"0\",\n        },\n{\n            'v': 12,\n            'f': \"12\",\n        },\n{\n            'v': 47,\n            'f': \"47\",\n        },\n{\n            'v': 623,\n            'f': \"623\",\n        },\n{\n            'v': 4.0,\n            'f': \"4.0\",\n        },\n{\n            'v': 2016,\n            'f': \"2016\",\n        }],\n [{\n            'v': 0,\n            'f': \"0\",\n        },\n{\n            'v': 13,\n            'f': \"13\",\n        },\n{\n            'v': 47,\n            'f': \"47\",\n        },\n{\n            'v': 886,\n            'f': \"886\",\n        },\n{\n            'v': 2.0,\n            'f': \"2.0\",\n        },\n{\n            'v': 2016,\n            'f': \"2016\",\n        }],\n [{\n            'v': 0,\n            'f': \"0\",\n        },\n{\n            'v': 14,\n            'f': \"14\",\n        },\n{\n            'v': 97,\n            'f': \"97\",\n        },\n{\n            'v': 493,\n            'f': \"493\",\n        },\n{\n            'v': 3.0,\n            'f': \"3.0\",\n        },\n{\n            'v': 1999,\n            'f': \"1999\",\n        }],\n [{\n            'v': 0,\n            'f': \"0\",\n        },\n{\n            'v': 15,\n            'f': \"15\",\n        },\n{\n            'v': 44,\n            'f': \"44\",\n        },\n{\n            'v': 314,\n            'f': \"314\",\n        },\n{\n            'v': 1.5,\n            'f': \"1.5\",\n        },\n{\n            'v': 2010,\n            'f': \"2010\",\n        }],\n [{\n            'v': 1,\n            'f': \"1\",\n        },\n{\n            'v': 63,\n            'f': \"63\",\n        },\n{\n            'v': 6,\n            'f': \"6\",\n        },\n{\n            'v': 52,\n            'f': \"52\",\n        },\n{\n            'v': 3.0,\n            'f': \"3.0\",\n        },\n{\n            'v': 1997,\n            'f': \"1997\",\n        }],\n [{\n            'v': 1,\n            'f': \"1\",\n        },\n{\n            'v': 64,\n            'f': \"64\",\n        },\n{\n            'v': 71,\n            'f': \"71\",\n        },\n{\n            'v': 638,\n            'f': \"638\",\n        },\n{\n            'v': 3.0,\n            'f': \"3.0\",\n        },\n{\n            'v': 1996,\n            'f': \"1996\",\n        }],\n [{\n            'v': 1,\n            'f': \"1\",\n        },\n{\n            'v': 65,\n            'f': \"65\",\n        },\n{\n            'v': 95,\n            'f': \"95\",\n        },\n{\n            'v': 400,\n            'f': \"400\",\n        },\n{\n            'v': 3.0,\n            'f': \"3.0\",\n        },\n{\n            'v': 1996,\n            'f': \"1996\",\n        }],\n [{\n            'v': 1,\n            'f': \"1\",\n        },\n{\n            'v': 66,\n            'f': \"66\",\n        },\n{\n            'v': 47,\n            'f': \"47\",\n        },\n{\n            'v': 229,\n            'f': \"229\",\n        },\n{\n            'v': 2.0,\n            'f': \"2.0\",\n        },\n{\n            'v': 2002,\n            'f': \"2002\",\n        }],\n [{\n            'v': 1,\n            'f': \"1\",\n        },\n{\n            'v': 67,\n            'f': \"67\",\n        },\n{\n            'v': 1,\n            'f': \"1\",\n        },\n{\n            'v': 457,\n            'f': \"457\",\n        },\n{\n            'v': 4.0,\n            'f': \"4.0\",\n        },\n{\n            'v': 2017,\n            'f': \"2017\",\n        }],\n [{\n            'v': 1,\n            'f': \"1\",\n        },\n{\n            'v': 68,\n            'f': \"68\",\n        },\n{\n            'v': 39,\n            'f': \"39\",\n        },\n{\n            'v': 524,\n            'f': \"524\",\n        },\n{\n            'v': 4.0,\n            'f': \"4.0\",\n        },\n{\n            'v': 1996,\n            'f': \"1996\",\n        }],\n [{\n            'v': 1,\n            'f': \"1\",\n        },\n{\n            'v': 69,\n            'f': \"69\",\n        },\n{\n            'v': 48,\n            'f': \"48\",\n        },\n{\n            'v': 506,\n            'f': \"506\",\n        },\n{\n            'v': 4.0,\n            'f': \"4.0\",\n        },\n{\n            'v': 2010,\n            'f': \"2010\",\n        }],\n [{\n            'v': 1,\n            'f': \"1\",\n        },\n{\n            'v': 70,\n            'f': \"70\",\n        },\n{\n            'v': 29,\n            'f': \"29\",\n        },\n{\n            'v': 592,\n            'f': \"592\",\n        },\n{\n            'v': 4.0,\n            'f': \"4.0\",\n        },\n{\n            'v': 2000,\n            'f': \"2000\",\n        }],\n [{\n            'v': 1,\n            'f': \"1\",\n        },\n{\n            'v': 71,\n            'f': \"71\",\n        },\n{\n            'v': 50,\n            'f': \"50\",\n        },\n{\n            'v': 588,\n            'f': \"588\",\n        },\n{\n            'v': 3.0,\n            'f': \"3.0\",\n        },\n{\n            'v': 1996,\n            'f': \"1996\",\n        }],\n [{\n            'v': 1,\n            'f': \"1\",\n        },\n{\n            'v': 72,\n            'f': \"72\",\n        },\n{\n            'v': 1,\n            'f': \"1\",\n        },\n{\n            'v': 323,\n            'f': \"323\",\n        },\n{\n            'v': 4.0,\n            'f': \"4.0\",\n        },\n{\n            'v': 2014,\n            'f': \"2014\",\n        }],\n [{\n            'v': 1,\n            'f': \"1\",\n        },\n{\n            'v': 73,\n            'f': \"73\",\n        },\n{\n            'v': 1,\n            'f': \"1\",\n        },\n{\n            'v': 627,\n            'f': \"627\",\n        },\n{\n            'v': 3.5,\n            'f': \"3.5\",\n        },\n{\n            'v': 2006,\n            'f': \"2006\",\n        }],\n [{\n            'v': 1,\n            'f': \"1\",\n        },\n{\n            'v': 74,\n            'f': \"74\",\n        },\n{\n            'v': 21,\n            'f': \"21\",\n        },\n{\n            'v': 151,\n            'f': \"151\",\n        },\n{\n            'v': 4.0,\n            'f': \"4.0\",\n        },\n{\n            'v': 2004,\n            'f': \"2004\",\n        }],\n [{\n            'v': 1,\n            'f': \"1\",\n        },\n{\n            'v': 75,\n            'f': \"75\",\n        },\n{\n            'v': 31,\n            'f': \"31\",\n        },\n{\n            'v': 767,\n            'f': \"767\",\n        },\n{\n            'v': 3.0,\n            'f': \"3.0\",\n        },\n{\n            'v': 1996,\n            'f': \"1996\",\n        }],\n [{\n            'v': 1,\n            'f': \"1\",\n        },\n{\n            'v': 76,\n            'f': \"76\",\n        },\n{\n            'v': 39,\n            'f': \"39\",\n        },\n{\n            'v': 546,\n            'f': \"546\",\n        },\n{\n            'v': 3.0,\n            'f': \"3.0\",\n        },\n{\n            'v': 1996,\n            'f': \"1996\",\n        }],\n [{\n            'v': 1,\n            'f': \"1\",\n        },\n{\n            'v': 77,\n            'f': \"77\",\n        },\n{\n            'v': 47,\n            'f': \"47\",\n        },\n{\n            'v': 350,\n            'f': \"350\",\n        },\n{\n            'v': 3.0,\n            'f': \"3.0\",\n        },\n{\n            'v': 1996,\n            'f': \"1996\",\n        }],\n [{\n            'v': 2,\n            'f': \"2\",\n        },\n{\n            'v': 124,\n            'f': \"124\",\n        },\n{\n            'v': 19,\n            'f': \"19\",\n        },\n{\n            'v': 76,\n            'f': \"76\",\n        },\n{\n            'v': 1.5,\n            'f': \"1.5\",\n        },\n{\n            'v': 2011,\n            'f': \"2011\",\n        }],\n [{\n            'v': 2,\n            'f': \"2\",\n        },\n{\n            'v': 125,\n            'f': \"125\",\n        },\n{\n            'v': 7,\n            'f': \"7\",\n        },\n{\n            'v': 839,\n            'f': \"839\",\n        },\n{\n            'v': 4.0,\n            'f': \"4.0\",\n        },\n{\n            'v': 2006,\n            'f': \"2006\",\n        }],\n [{\n            'v': 2,\n            'f': \"2\",\n        },\n{\n            'v': 126,\n            'f': \"126\",\n        },\n{\n            'v': 7,\n            'f': \"7\",\n        },\n{\n            'v': 611,\n            'f': \"611\",\n        },\n{\n            'v': 2.0,\n            'f': \"2.0\",\n        },\n{\n            'v': 1999,\n            'f': \"1999\",\n        }],\n [{\n            'v': 2,\n            'f': \"2\",\n        },\n{\n            'v': 127,\n            'f': \"127\",\n        },\n{\n            'v': 1,\n            'f': \"1\",\n        },\n{\n            'v': 75,\n            'f': \"75\",\n        },\n{\n            'v': 4.0,\n            'f': \"4.0\",\n        },\n{\n            'v': 2007,\n            'f': \"2007\",\n        }],\n [{\n            'v': 2,\n            'f': \"2\",\n        },\n{\n            'v': 128,\n            'f': \"128\",\n        },\n{\n            'v': 62,\n            'f': \"62\",\n        },\n{\n            'v': 691,\n            'f': \"691\",\n        },\n{\n            'v': 5.0,\n            'f': \"5.0\",\n        },\n{\n            'v': 1996,\n            'f': \"1996\",\n        }],\n [{\n            'v': 2,\n            'f': \"2\",\n        },\n{\n            'v': 129,\n            'f': \"129\",\n        },\n{\n            'v': 62,\n            'f': \"62\",\n        },\n{\n            'v': 368,\n            'f': \"368\",\n        },\n{\n            'v': 4.0,\n            'f': \"4.0\",\n        },\n{\n            'v': 2006,\n            'f': \"2006\",\n        }],\n [{\n            'v': 2,\n            'f': \"2\",\n        },\n{\n            'v': 130,\n            'f': \"130\",\n        },\n{\n            'v': 25,\n            'f': \"25\",\n        },\n{\n            'v': 832,\n            'f': \"832\",\n        },\n{\n            'v': 5.0,\n            'f': \"5.0\",\n        },\n{\n            'v': 1998,\n            'f': \"1998\",\n        }],\n [{\n            'v': 2,\n            'f': \"2\",\n        },\n{\n            'v': 131,\n            'f': \"131\",\n        },\n{\n            'v': 88,\n            'f': \"88\",\n        },\n{\n            'v': 168,\n            'f': \"168\",\n        },\n{\n            'v': 3.0,\n            'f': \"3.0\",\n        },\n{\n            'v': 1996,\n            'f': \"1996\",\n        }],\n [{\n            'v': 2,\n            'f': \"2\",\n        },\n{\n            'v': 132,\n            'f': \"132\",\n        },\n{\n            'v': 5,\n            'f': \"5\",\n        },\n{\n            'v': 296,\n            'f': \"296\",\n        },\n{\n            'v': 3.5,\n            'f': \"3.5\",\n        },\n{\n            'v': 2005,\n            'f': \"2005\",\n        }],\n [{\n            'v': 2,\n            'f': \"2\",\n        },\n{\n            'v': 133,\n            'f': \"133\",\n        },\n{\n            'v': 11,\n            'f': \"11\",\n        },\n{\n            'v': 236,\n            'f': \"236\",\n        },\n{\n            'v': 4.0,\n            'f': \"4.0\",\n        },\n{\n            'v': 2001,\n            'f': \"2001\",\n        }],\n [{\n            'v': 2,\n            'f': \"2\",\n        },\n{\n            'v': 134,\n            'f': \"134\",\n        },\n{\n            'v': 32,\n            'f': \"32\",\n        },\n{\n            'v': 931,\n            'f': \"931\",\n        },\n{\n            'v': 4.0,\n            'f': \"4.0\",\n        },\n{\n            'v': 2007,\n            'f': \"2007\",\n        }],\n [{\n            'v': 2,\n            'f': \"2\",\n        },\n{\n            'v': 135,\n            'f': \"135\",\n        },\n{\n            'v': 58,\n            'f': \"58\",\n        },\n{\n            'v': 487,\n            'f': \"487\",\n        },\n{\n            'v': 4.0,\n            'f': \"4.0\",\n        },\n{\n            'v': 1997,\n            'f': \"1997\",\n        }],\n [{\n            'v': 2,\n            'f': \"2\",\n        },\n{\n            'v': 136,\n            'f': \"136\",\n        },\n{\n            'v': 10,\n            'f': \"10\",\n        },\n{\n            'v': 341,\n            'f': \"341\",\n        },\n{\n            'v': 3.0,\n            'f': \"3.0\",\n        },\n{\n            'v': 1997,\n            'f': \"1997\",\n        }],\n [{\n            'v': 2,\n            'f': \"2\",\n        },\n{\n            'v': 137,\n            'f': \"137\",\n        },\n{\n            'v': 1,\n            'f': \"1\",\n        },\n{\n            'v': 682,\n            'f': \"682\",\n        },\n{\n            'v': 4.0,\n            'f': \"4.0\",\n        },\n{\n            'v': 2000,\n            'f': \"2000\",\n        }],\n [{\n            'v': 2,\n            'f': \"2\",\n        },\n{\n            'v': 138,\n            'f': \"138\",\n        },\n{\n            'v': 32,\n            'f': \"32\",\n        },\n{\n            'v': 533,\n            'f': \"533\",\n        },\n{\n            'v': 3.0,\n            'f': \"3.0\",\n        },\n{\n            'v': 2000,\n            'f': \"2000\",\n        }]],\n        columns: [[\"number\", \"partID\"], [\"number\", \"global_num\"], [\"number\", \"nF\"], [\"number\", \"nU\"], [\"number\", \"note\"], [\"number\", \"annee\"]],\n        columnOptions: [],\n        rowsPerPage: 10,\n        helpUrl: \"https://colab.research.google.com/notebooks/data_table.ipynb\",\n        suppressOutputScrolling: true,\n        minimumWidth: undefined,\n      });\n\n      function appendQuickchartButton(parentElement) {\n        let quickchartButtonContainerElement = document.createElement('div');\n        quickchartButtonContainerElement.innerHTML = `\n<div id=\"df-98fc6247-55cb-4603-bca3-0ab2d4a1eb00\">\n  <button class=\"colab-df-quickchart\" onclick=\"quickchart('df-98fc6247-55cb-4603-bca3-0ab2d4a1eb00')\"\n            title=\"Suggest charts\"\n            style=\"display:none;\">\n    \n<svg xmlns=\"http://www.w3.org/2000/svg\" height=\"24px\"viewBox=\"0 0 24 24\"\n     width=\"24px\">\n    <g>\n        <path d=\"M19 3H5c-1.1 0-2 .9-2 2v14c0 1.1.9 2 2 2h14c1.1 0 2-.9 2-2V5c0-1.1-.9-2-2-2zM9 17H7v-7h2v7zm4 0h-2V7h2v10zm4 0h-2v-4h2v4z\"/>\n    </g>\n</svg>\n  </button>\n  \n<style>\n  .colab-df-quickchart {\n      --bg-color: #E8F0FE;\n      --fill-color: #1967D2;\n      --hover-bg-color: #E2EBFA;\n      --hover-fill-color: #174EA6;\n      --disabled-fill-color: #AAA;\n      --disabled-bg-color: #DDD;\n  }\n\n  [theme=dark] .colab-df-quickchart {\n      --bg-color: #3B4455;\n      --fill-color: #D2E3FC;\n      --hover-bg-color: #434B5C;\n      --hover-fill-color: #FFFFFF;\n      --disabled-bg-color: #3B4455;\n      --disabled-fill-color: #666;\n  }\n\n  .colab-df-quickchart {\n    background-color: var(--bg-color);\n    border: none;\n    border-radius: 50%;\n    cursor: pointer;\n    display: none;\n    fill: var(--fill-color);\n    height: 32px;\n    padding: 0;\n    width: 32px;\n  }\n\n  .colab-df-quickchart:hover {\n    background-color: var(--hover-bg-color);\n    box-shadow: 0 1px 2px rgba(60, 64, 67, 0.3), 0 1px 3px 1px rgba(60, 64, 67, 0.15);\n    fill: var(--button-hover-fill-color);\n  }\n\n  .colab-df-quickchart-complete:disabled,\n  .colab-df-quickchart-complete:disabled:hover {\n    background-color: var(--disabled-bg-color);\n    fill: var(--disabled-fill-color);\n    box-shadow: none;\n  }\n\n  .colab-df-spinner {\n    border: 2px solid var(--fill-color);\n    border-color: transparent;\n    border-bottom-color: var(--fill-color);\n    animation:\n      spin 1s steps(1) infinite;\n  }\n\n  @keyframes spin {\n    0% {\n      border-color: transparent;\n      border-bottom-color: var(--fill-color);\n      border-left-color: var(--fill-color);\n    }\n    20% {\n      border-color: transparent;\n      border-left-color: var(--fill-color);\n      border-top-color: var(--fill-color);\n    }\n    30% {\n      border-color: transparent;\n      border-left-color: var(--fill-color);\n      border-top-color: var(--fill-color);\n      border-right-color: var(--fill-color);\n    }\n    40% {\n      border-color: transparent;\n      border-right-color: var(--fill-color);\n      border-top-color: var(--fill-color);\n    }\n    60% {\n      border-color: transparent;\n      border-right-color: var(--fill-color);\n    }\n    80% {\n      border-color: transparent;\n      border-right-color: var(--fill-color);\n      border-bottom-color: var(--fill-color);\n    }\n    90% {\n      border-color: transparent;\n      border-bottom-color: var(--fill-color);\n    }\n  }\n</style>\n\n  <script>\n    async function quickchart(key) {\n      const quickchartButtonEl =\n        document.querySelector('#' + key + ' button');\n      quickchartButtonEl.disabled = true;  // To prevent multiple clicks.\n      quickchartButtonEl.classList.add('colab-df-spinner');\n      try {\n        const charts = await google.colab.kernel.invokeFunction(\n            'suggestCharts', [key], {});\n      } catch (error) {\n        console.error('Error during call to suggestCharts:', error);\n      }\n      quickchartButtonEl.classList.remove('colab-df-spinner');\n      quickchartButtonEl.classList.add('colab-df-quickchart-complete');\n    }\n    (() => {\n      let quickchartButtonEl =\n        document.querySelector('#df-98fc6247-55cb-4603-bca3-0ab2d4a1eb00 button');\n      quickchartButtonEl.style.display =\n        google.colab.kernel.accessAllowed ? 'block' : 'none';\n    })();\n  </script>\n</div>`;\n        parentElement.appendChild(quickchartButtonContainerElement);\n      }\n\n      appendQuickchartButton(table);\n    ",
            "text/plain": [
              "<google.colab.data_table.DataTable object>"
            ]
          },
          "metadata": {},
          "execution_count": 49
        }
      ]
    },
    {
      "cell_type": "markdown",
      "source": [
        "vérification que la numérotation est correcte"
      ],
      "metadata": {
        "id": "dy4j70ST46Vs"
      }
    },
    {
      "cell_type": "code",
      "source": [
        "# Vérification\n",
        "n = f1.count()\n",
        "print('nb tuples:', n)\n",
        "num_max = f1.groupBy().max('global_num').collect()[0][0]\n",
        "print(\"valeur max de l'indice global_num:\", num_max)\n",
        "\n",
        "assert(n == num_max)"
      ],
      "metadata": {
        "colab": {
          "base_uri": "https://localhost:8080/"
        },
        "id": "yUm4pB8N3jtV",
        "outputId": "5cb490c2-820a-4b80-c1b6-846e67fbb796"
      },
      "execution_count": 48,
      "outputs": [
        {
          "output_type": "stream",
          "name": "stdout",
          "text": [
            "nb tuples: 185\n",
            "valeur max de l'indice global_num: 185\n"
          ]
        }
      ]
    },
    {
      "cell_type": "markdown",
      "source": [
        "## Question 3 : Tri des films par titre\n",
        "\n",
        "3.1) En vous inspirant de la fonction *topN*  définir une fonction qui trie les données de *film_extrait* par titre. Le résultat doit avoir le même schéma que film.\n",
        "\n",
        "Indications :\n",
        "*  a) On veut segmenter le domaine de l'attribut $titre$ en $n$ intervalles, avec $n$ étant le nombre de partitions. Les intervalles sont numérotés de $0$ à $(n-1)$. Pour cela définir une fonction `num_intervalle(titre: string)-> Int`.\n",
        "Il est possible de considérer la première lettre du titre pour déterminer le numéro d'intervalle\n",
        "*  b) Associer un numéro d'intervalle $i \\in [0,n[$ à chaque tuple.\n",
        "*  c) Repartitionner les données en fonction du numéro d'intervalle : les tuples associée au $i^{ème}$ intervalle vont dans la partition $i$.\n",
        "*  d) Trier les données dans chaque partition.\n"
      ],
      "metadata": {
        "id": "VwNn5lfe8tGn"
      }
    },
    {
      "cell_type": "markdown",
      "source": [
        "\n",
        "Exemple de méthode **non scalable** à éviter\n",
        "*   Remonter les données dans l'application avec un collect\n",
        "*   Trier les données dans l'application\n",
        "*   Re-descendre les données dans spark avec un createDataFrame"
      ],
      "metadata": {
        "id": "YJElmU2X_rs8"
      }
    },
    {
      "cell_type": "code",
      "source": [
        "def partitioner(titre):\n",
        "    first_letter = titre[0].upper()\n",
        "    if 'A' <= first_letter <= 'E':\n",
        "        return 0\n",
        "    elif 'F' <= first_letter <= 'J':\n",
        "        return 1\n",
        "    elif 'K' <= first_letter <= 'O':\n",
        "        return 2\n",
        "    elif 'P' <= first_letter <= 'T':\n",
        "        return 3\n",
        "    else:\n",
        "        return 4\n",
        "film1 = films_extrait.rdd.map(lambda x: (partitioner(x.titre), x.nF, x.titre, x.genres)).toDF(['p', 'nF', 'titre', 'genres'])"
      ],
      "metadata": {
        "id": "cdLWHZ17to-8"
      },
      "execution_count": 50,
      "outputs": []
    },
    {
      "cell_type": "markdown",
      "source": [
        "repartitionner les données par **intervalle** en fonction de l'attribut p"
      ],
      "metadata": {
        "id": "8Z58YdLp_ujG"
      }
    },
    {
      "cell_type": "code",
      "source": [
        "film2 = film1.repartitionByRange(5, col('p'))\n",
        "showPartitions(film2,20, display_per_partition=False)"
      ],
      "metadata": {
        "id": "UklR-rQ0yXf-",
        "colab": {
          "base_uri": "https://localhost:8080/",
          "height": 340
        },
        "outputId": "6be642a2-780a-44cf-8ef7-a709f8450ed1"
      },
      "execution_count": 51,
      "outputs": [
        {
          "output_type": "execute_result",
          "data": {
            "text/html": [
              "<div>\n",
              "<style scoped>\n",
              "    .dataframe tbody tr th:only-of-type {\n",
              "        vertical-align: middle;\n",
              "    }\n",
              "\n",
              "    .dataframe tbody tr th {\n",
              "        vertical-align: top;\n",
              "    }\n",
              "\n",
              "    .dataframe thead th {\n",
              "        text-align: right;\n",
              "    }\n",
              "</style>\n",
              "<table border=\"1\" class=\"dataframe\">\n",
              "  <thead>\n",
              "    <tr style=\"text-align: right;\">\n",
              "      <th></th>\n",
              "      <th>partID</th>\n",
              "      <th>p</th>\n",
              "      <th>nF</th>\n",
              "      <th>titre</th>\n",
              "      <th>genres</th>\n",
              "    </tr>\n",
              "  </thead>\n",
              "  <tbody>\n",
              "    <tr>\n",
              "      <th>0</th>\n",
              "      <td>0</td>\n",
              "      <td>0</td>\n",
              "      <td>94</td>\n",
              "      <td>Beautiful Girls (1996)</td>\n",
              "      <td>[Comedy, Drama, Romance]</td>\n",
              "    </tr>\n",
              "    <tr>\n",
              "      <th>1</th>\n",
              "      <td>0</td>\n",
              "      <td>0</td>\n",
              "      <td>54</td>\n",
              "      <td>Big Green, The (1995)</td>\n",
              "      <td>[Children, Comedy]</td>\n",
              "    </tr>\n",
              "    <tr>\n",
              "      <th>2</th>\n",
              "      <td>0</td>\n",
              "      <td>0</td>\n",
              "      <td>87</td>\n",
              "      <td>Dunston Checks In (1996)</td>\n",
              "      <td>[Children, Comedy]</td>\n",
              "    </tr>\n",
              "    <tr>\n",
              "      <th>3</th>\n",
              "      <td>0</td>\n",
              "      <td>0</td>\n",
              "      <td>88</td>\n",
              "      <td>Black Sheep (1996)</td>\n",
              "      <td>[Comedy]</td>\n",
              "    </tr>\n",
              "    <tr>\n",
              "      <th>4</th>\n",
              "      <td>0</td>\n",
              "      <td>0</td>\n",
              "      <td>12</td>\n",
              "      <td>Dracula: Dead and Loving It (1995)</td>\n",
              "      <td>[Comedy, Horror]</td>\n",
              "    </tr>\n",
              "    <tr>\n",
              "      <th>...</th>\n",
              "      <td>...</td>\n",
              "      <td>...</td>\n",
              "      <td>...</td>\n",
              "      <td>...</td>\n",
              "      <td>...</td>\n",
              "    </tr>\n",
              "    <tr>\n",
              "      <th>77</th>\n",
              "      <td>4</td>\n",
              "      <td>4</td>\n",
              "      <td>80</td>\n",
              "      <td>White Balloon, The (Badkonake sefid) (1995)</td>\n",
              "      <td>[Children, Drama]</td>\n",
              "    </tr>\n",
              "    <tr>\n",
              "      <th>78</th>\n",
              "      <td>4</td>\n",
              "      <td>4</td>\n",
              "      <td>86</td>\n",
              "      <td>White Squall (1996)</td>\n",
              "      <td>[Action, Adventure, Drama]</td>\n",
              "    </tr>\n",
              "    <tr>\n",
              "      <th>79</th>\n",
              "      <td>4</td>\n",
              "      <td>4</td>\n",
              "      <td>93</td>\n",
              "      <td>Vampire in Brooklyn (1995)</td>\n",
              "      <td>[Comedy, Horror, Romance]</td>\n",
              "    </tr>\n",
              "    <tr>\n",
              "      <th>80</th>\n",
              "      <td>4</td>\n",
              "      <td>4</td>\n",
              "      <td>49</td>\n",
              "      <td>When Night Is Falling (1995)</td>\n",
              "      <td>[Drama, Romance]</td>\n",
              "    </tr>\n",
              "    <tr>\n",
              "      <th>81</th>\n",
              "      <td>4</td>\n",
              "      <td>4</td>\n",
              "      <td>50</td>\n",
              "      <td>Usual Suspects, The (1995)</td>\n",
              "      <td>[Crime, Mystery, Thriller]</td>\n",
              "    </tr>\n",
              "  </tbody>\n",
              "</table>\n",
              "<p>82 rows × 5 columns</p>\n",
              "</div>"
            ],
            "application/vnd.google.colaboratory.module+javascript": "\n      import \"https://ssl.gstatic.com/colaboratory/data_table/e523c247d1e24a05/data_table.js\";\n\n      const table = window.createDataTable({\n        data: [[{\n            'v': 0,\n            'f': \"0\",\n        },\n{\n            'v': 0,\n            'f': \"0\",\n        },\n{\n            'v': 94,\n            'f': \"94\",\n        },\n\"Beautiful Girls (1996)\",\n[\"Comedy\", \"Drama\", \"Romance\"]],\n [{\n            'v': 0,\n            'f': \"0\",\n        },\n{\n            'v': 0,\n            'f': \"0\",\n        },\n{\n            'v': 54,\n            'f': \"54\",\n        },\n\"Big Green, The (1995)\",\n[\"Children\", \"Comedy\"]],\n [{\n            'v': 0,\n            'f': \"0\",\n        },\n{\n            'v': 0,\n            'f': \"0\",\n        },\n{\n            'v': 87,\n            'f': \"87\",\n        },\n\"Dunston Checks In (1996)\",\n[\"Children\", \"Comedy\"]],\n [{\n            'v': 0,\n            'f': \"0\",\n        },\n{\n            'v': 0,\n            'f': \"0\",\n        },\n{\n            'v': 88,\n            'f': \"88\",\n        },\n\"Black Sheep (1996)\",\n[\"Comedy\"]],\n [{\n            'v': 0,\n            'f': \"0\",\n        },\n{\n            'v': 0,\n            'f': \"0\",\n        },\n{\n            'v': 12,\n            'f': \"12\",\n        },\n\"Dracula: Dead and Loving It (1995)\",\n[\"Comedy\", \"Horror\"]],\n [{\n            'v': 0,\n            'f': \"0\",\n        },\n{\n            'v': 0,\n            'f': \"0\",\n        },\n{\n            'v': 39,\n            'f': \"39\",\n        },\n\"Clueless (1995)\",\n[\"Comedy\", \"Romance\"]],\n [{\n            'v': 0,\n            'f': \"0\",\n        },\n{\n            'v': 0,\n            'f': \"0\",\n        },\n{\n            'v': 35,\n            'f': \"35\",\n        },\n\"Carrington (1995)\",\n[\"Drama\", \"Romance\"]],\n [{\n            'v': 0,\n            'f': \"0\",\n        },\n{\n            'v': 0,\n            'f': \"0\",\n        },\n{\n            'v': 13,\n            'f': \"13\",\n        },\n\"Balto (1995)\",\n[\"Adventure\", \"Animation\", \"Children\"]],\n [{\n            'v': 0,\n            'f': \"0\",\n        },\n{\n            'v': 0,\n            'f': \"0\",\n        },\n{\n            'v': 22,\n            'f': \"22\",\n        },\n\"Copycat (1995)\",\n[\"Crime\", \"Drama\", \"Horror\", \"Mystery\", \"Thriller\"]],\n [{\n            'v': 0,\n            'f': \"0\",\n        },\n{\n            'v': 0,\n            'f': \"0\",\n        },\n{\n            'v': 36,\n            'f': \"36\",\n        },\n\"Dead Man Walking (1995)\",\n[\"Crime\", \"Drama\"]],\n [{\n            'v': 0,\n            'f': \"0\",\n        },\n{\n            'v': 0,\n            'f': \"0\",\n        },\n{\n            'v': 59,\n            'f': \"59\",\n        },\n\"Confessional, The (Confessionnal, Le) (1995)\",\n[\"Drama\", \"Mystery\"]],\n [{\n            'v': 0,\n            'f': \"0\",\n        },\n{\n            'v': 0,\n            'f': \"0\",\n        },\n{\n            'v': 34,\n            'f': \"34\",\n        },\n\"Babe (1995)\",\n[\"Children\", \"Drama\"]],\n [{\n            'v': 0,\n            'f': \"0\",\n        },\n{\n            'v': 0,\n            'f': \"0\",\n        },\n{\n            'v': 19,\n            'f': \"19\",\n        },\n\"Ace Ventura: When Nature Calls (1995)\",\n[\"Comedy\"]],\n [{\n            'v': 0,\n            'f': \"0\",\n        },\n{\n            'v': 0,\n            'f': \"0\",\n        },\n{\n            'v': 23,\n            'f': \"23\",\n        },\n\"Assassins (1995)\",\n[\"Action\", \"Crime\", \"Thriller\"]],\n [{\n            'v': 0,\n            'f': \"0\",\n        },\n{\n            'v': 0,\n            'f': \"0\",\n        },\n{\n            'v': 16,\n            'f': \"16\",\n        },\n\"Casino (1995)\",\n[\"Crime\", \"Drama\"]],\n [{\n            'v': 0,\n            'f': \"0\",\n        },\n{\n            'v': 0,\n            'f': \"0\",\n        },\n{\n            'v': 61,\n            'f': \"61\",\n        },\n\"Eye for an Eye (1996)\",\n[\"Drama\", \"Thriller\"]],\n [{\n            'v': 0,\n            'f': \"0\",\n        },\n{\n            'v': 0,\n            'f': \"0\",\n        },\n{\n            'v': 78,\n            'f': \"78\",\n        },\n\"Crossing Guard, The (1995)\",\n[\"Action\", \"Crime\", \"Drama\", \"Thriller\"]],\n [{\n            'v': 0,\n            'f': \"0\",\n        },\n{\n            'v': 0,\n            'f': \"0\",\n        },\n{\n            'v': 40,\n            'f': \"40\",\n        },\n\"Cry, the Beloved Country (1995)\",\n[\"Drama\"]],\n [{\n            'v': 0,\n            'f': \"0\",\n        },\n{\n            'v': 0,\n            'f': \"0\",\n        },\n{\n            'v': 74,\n            'f': \"74\",\n        },\n\"Bed of Roses (1996)\",\n[\"Drama\", \"Romance\"]],\n [{\n            'v': 0,\n            'f': \"0\",\n        },\n{\n            'v': 0,\n            'f': \"0\",\n        },\n{\n            'v': 42,\n            'f': \"42\",\n        },\n\"Dead Presidents (1995)\",\n[\"Action\", \"Crime\", \"Drama\"]],\n [{\n            'v': 1,\n            'f': \"1\",\n        },\n{\n            'v': 1,\n            'f': \"1\",\n        },\n{\n            'v': 57,\n            'f': \"57\",\n        },\n\"Home for the Holidays (1995)\",\n[\"Drama\"]],\n [{\n            'v': 1,\n            'f': \"1\",\n        },\n{\n            'v': 1,\n            'f': \"1\",\n        },\n{\n            'v': 97,\n            'f': \"97\",\n        },\n\"Hate (Haine, La) (1995)\",\n[\"Crime\", \"Drama\"]],\n [{\n            'v': 1,\n            'f': \"1\",\n        },\n{\n            'v': 1,\n            'f': \"1\",\n        },\n{\n            'v': 70,\n            'f': \"70\",\n        },\n\"From Dusk Till Dawn (1996)\",\n[\"Action\", \"Comedy\", \"Horror\", \"Thriller\"]],\n [{\n            'v': 1,\n            'f': \"1\",\n        },\n{\n            'v': 1,\n            'f': \"1\",\n        },\n{\n            'v': 46,\n            'f': \"46\",\n        },\n\"How to Make an American Quilt (1995)\",\n[\"Drama\", \"Romance\"]],\n [{\n            'v': 1,\n            'f': \"1\",\n        },\n{\n            'v': 1,\n            'f': \"1\",\n        },\n{\n            'v': 2,\n            'f': \"2\",\n        },\n\"Jumanji (1995)\",\n[\"Adventure\", \"Children\", \"Fantasy\"]],\n [{\n            'v': 1,\n            'f': \"1\",\n        },\n{\n            'v': 1,\n            'f': \"1\",\n        },\n{\n            'v': 71,\n            'f': \"71\",\n        },\n\"Fair Game (1995)\",\n[\"Action\"]],\n [{\n            'v': 1,\n            'f': \"1\",\n        },\n{\n            'v': 1,\n            'f': \"1\",\n        },\n{\n            'v': 3,\n            'f': \"3\",\n        },\n\"Grumpier Old Men (1995)\",\n[\"Comedy\", \"Romance\"]],\n [{\n            'v': 1,\n            'f': \"1\",\n        },\n{\n            'v': 1,\n            'f': \"1\",\n        },\n{\n            'v': 99,\n            'f': \"99\",\n        },\n\"Heidi Fleiss: Hollywood Madam (1995)\",\n[\"Documentary\"]],\n [{\n            'v': 1,\n            'f': \"1\",\n        },\n{\n            'v': 1,\n            'f': \"1\",\n        },\n{\n            'v': 60,\n            'f': \"60\",\n        },\n\"Indian in the Cupboard, The (1995)\",\n[\"Adventure\", \"Children\", \"Fantasy\"]],\n [{\n            'v': 1,\n            'f': \"1\",\n        },\n{\n            'v': 1,\n            'f': \"1\",\n        },\n{\n            'v': 10,\n            'f': \"10\",\n        },\n\"GoldenEye (1995)\",\n[\"Action\", \"Adventure\", \"Thriller\"]],\n [{\n            'v': 1,\n            'f': \"1\",\n        },\n{\n            'v': 1,\n            'f': \"1\",\n        },\n{\n            'v': 5,\n            'f': \"5\",\n        },\n\"Father of the Bride Part II (1995)\",\n[\"Comedy\"]],\n [{\n            'v': 1,\n            'f': \"1\",\n        },\n{\n            'v': 1,\n            'f': \"1\",\n        },\n{\n            'v': 21,\n            'f': \"21\",\n        },\n\"Get Shorty (1995)\",\n[\"Comedy\", \"Crime\", \"Thriller\"]],\n [{\n            'v': 1,\n            'f': \"1\",\n        },\n{\n            'v': 1,\n            'f': \"1\",\n        },\n{\n            'v': 96,\n            'f': \"96\",\n        },\n\"In the Bleak Midwinter (1995)\",\n[\"Comedy\", \"Drama\"]],\n [{\n            'v': 1,\n            'f': \"1\",\n        },\n{\n            'v': 1,\n            'f': \"1\",\n        },\n{\n            'v': 55,\n            'f': \"55\",\n        },\n\"Georgia (1995)\",\n[\"Drama\"]],\n [{\n            'v': 1,\n            'f': \"1\",\n        },\n{\n            'v': 1,\n            'f': \"1\",\n        },\n{\n            'v': 6,\n            'f': \"6\",\n        },\n\"Heat (1995)\",\n[\"Action\", \"Crime\", \"Thriller\"]],\n [{\n            'v': 1,\n            'f': \"1\",\n        },\n{\n            'v': 1,\n            'f': \"1\",\n        },\n{\n            'v': 79,\n            'f': \"79\",\n        },\n\"Juror, The (1996)\",\n[\"Drama\", \"Thriller\"]],\n [{\n            'v': 1,\n            'f': \"1\",\n        },\n{\n            'v': 1,\n            'f': \"1\",\n        },\n{\n            'v': 18,\n            'f': \"18\",\n        },\n\"Four Rooms (1995)\",\n[\"Comedy\"]],\n [{\n            'v': 1,\n            'f': \"1\",\n        },\n{\n            'v': 1,\n            'f': \"1\",\n        },\n{\n            'v': 69,\n            'f': \"69\",\n        },\n\"Friday (1995)\",\n[\"Comedy\"]],\n [{\n            'v': 1,\n            'f': \"1\",\n        },\n{\n            'v': 1,\n            'f': \"1\",\n        },\n{\n            'v': 68,\n            'f': \"68\",\n        },\n\"French Twist (Gazon maudit) (1995)\",\n[\"Comedy\", \"Romance\"]],\n [{\n            'v': 1,\n            'f': \"1\",\n        },\n{\n            'v': 1,\n            'f': \"1\",\n        },\n{\n            'v': 38,\n            'f': \"38\",\n        },\n\"It Takes Two (1995)\",\n[\"Children\", \"Comedy\"]],\n [{\n            'v': 2,\n            'f': \"2\",\n        },\n{\n            'v': 2,\n            'f': \"2\",\n        },\n{\n            'v': 20,\n            'f': \"20\",\n        },\n\"Money Train (1995)\",\n[\"Action\", \"Comedy\", \"Crime\", \"Drama\", \"Thriller\"]],\n [{\n            'v': 2,\n            'f': \"2\",\n        },\n{\n            'v': 2,\n            'f': \"2\",\n        },\n{\n            'v': 83,\n            'f': \"83\",\n        },\n\"Once Upon a Time... When We Were Colored (1995)\",\n[\"Drama\", \"Romance\"]],\n [{\n            'v': 2,\n            'f': \"2\",\n        },\n{\n            'v': 2,\n            'f': \"2\",\n        },\n{\n            'v': 73,\n            'f': \"73\",\n        },\n\"Mis\\u00e9rables, Les (1995)\",\n[\"Drama\", \"War\"]],\n [{\n            'v': 2,\n            'f': \"2\",\n        },\n{\n            'v': 2,\n            'f': \"2\",\n        },\n{\n            'v': 25,\n            'f': \"25\",\n        },\n\"Leaving Las Vegas (1995)\",\n[\"Drama\", \"Romance\"]],\n [{\n            'v': 2,\n            'f': \"2\",\n        },\n{\n            'v': 2,\n            'f': \"2\",\n        },\n{\n            'v': 66,\n            'f': \"66\",\n        },\n\"Lawnmower Man 2: Beyond Cyberspace (1996)\",\n[\"Action\", \"Sci-Fi\", \"Thriller\"]],\n [{\n            'v': 2,\n            'f': \"2\",\n        },\n{\n            'v': 2,\n            'f': \"2\",\n        },\n{\n            'v': 14,\n            'f': \"14\",\n        },\n\"Nixon (1995)\",\n[\"Drama\"]],\n [{\n            'v': 2,\n            'f': \"2\",\n        },\n{\n            'v': 2,\n            'f': \"2\",\n        },\n{\n            'v': 27,\n            'f': \"27\",\n        },\n\"Now and Then (1995)\",\n[\"Children\", \"Drama\"]],\n [{\n            'v': 2,\n            'f': \"2\",\n        },\n{\n            'v': 2,\n            'f': \"2\",\n        },\n{\n            'v': 52,\n            'f': \"52\",\n        },\n\"Mighty Aphrodite (1995)\",\n[\"Comedy\", \"Drama\", \"Romance\"]],\n [{\n            'v': 2,\n            'f': \"2\",\n        },\n{\n            'v': 2,\n            'f': \"2\",\n        },\n{\n            'v': 84,\n            'f': \"84\",\n        },\n\"Last Summer in the Hamptons (1995)\",\n[\"Comedy\", \"Drama\"]],\n [{\n            'v': 2,\n            'f': \"2\",\n        },\n{\n            'v': 2,\n            'f': \"2\",\n        },\n{\n            'v': 62,\n            'f': \"62\",\n        },\n\"Mr. Holland's Opus (1995)\",\n[\"Drama\"]],\n [{\n            'v': 2,\n            'f': \"2\",\n        },\n{\n            'v': 2,\n            'f': \"2\",\n        },\n{\n            'v': 89,\n            'f': \"89\",\n        },\n\"Nick of Time (1995)\",\n[\"Action\", \"Thriller\"]],\n [{\n            'v': 2,\n            'f': \"2\",\n        },\n{\n            'v': 2,\n            'f': \"2\",\n        },\n{\n            'v': 72,\n            'f': \"72\",\n        },\n\"Kicking and Screaming (1995)\",\n[\"Comedy\", \"Drama\"]],\n [{\n            'v': 2,\n            'f': \"2\",\n        },\n{\n            'v': 2,\n            'f': \"2\",\n        },\n{\n            'v': 53,\n            'f': \"53\",\n        },\n\"Lamerica (1994)\",\n[\"Adventure\", \"Drama\"]],\n [{\n            'v': 2,\n            'f': \"2\",\n        },\n{\n            'v': 2,\n            'f': \"2\",\n        },\n{\n            'v': 92,\n            'f': \"92\",\n        },\n\"Mary Reilly (1996)\",\n[\"Drama\", \"Horror\", \"Thriller\"]],\n [{\n            'v': 2,\n            'f': \"2\",\n        },\n{\n            'v': 2,\n            'f': \"2\",\n        },\n{\n            'v': 77,\n            'f': \"77\",\n        },\n\"Nico Icon (1995)\",\n[\"Documentary\"]],\n [{\n            'v': 2,\n            'f': \"2\",\n        },\n{\n            'v': 2,\n            'f': \"2\",\n        },\n{\n            'v': 26,\n            'f': \"26\",\n        },\n\"Othello (1995)\",\n[\"Drama\"]],\n [{\n            'v': 2,\n            'f': \"2\",\n        },\n{\n            'v': 2,\n            'f': \"2\",\n        },\n{\n            'v': 44,\n            'f': \"44\",\n        },\n\"Mortal Kombat (1995)\",\n[\"Action\", \"Adventure\", \"Fantasy\"]],\n [{\n            'v': 3,\n            'f': \"3\",\n        },\n{\n            'v': 3,\n            'f': \"3\",\n        },\n{\n            'v': 45,\n            'f': \"45\",\n        },\n\"To Die For (1995)\",\n[\"Comedy\", \"Drama\", \"Thriller\"]],\n [{\n            'v': 3,\n            'f': \"3\",\n        },\n{\n            'v': 3,\n            'f': \"3\",\n        },\n{\n            'v': 58,\n            'f': \"58\",\n        },\n\"Postman, The (Postino, Il) (1994)\",\n[\"Comedy\", \"Drama\", \"Romance\"]],\n [{\n            'v': 3,\n            'f': \"3\",\n        },\n{\n            'v': 3,\n            'f': \"3\",\n        },\n{\n            'v': 9,\n            'f': \"9\",\n        },\n\"Sudden Death (1995)\",\n[\"Action\"]],\n [{\n            'v': 3,\n            'f': \"3\",\n        },\n{\n            'v': 3,\n            'f': \"3\",\n        },\n{\n            'v': 1,\n            'f': \"1\",\n        },\n\"Toy Story (1995)\",\n[\"Adventure\", \"Animation\", \"Children\", \"Comedy\", \"Fantasy\"]],\n [{\n            'v': 3,\n            'f': \"3\",\n        },\n{\n            'v': 3,\n            'f': \"3\",\n        },\n{\n            'v': 17,\n            'f': \"17\",\n        },\n\"Sense and Sensibility (1995)\",\n[\"Drama\", \"Romance\"]],\n [{\n            'v': 3,\n            'f': \"3\",\n        },\n{\n            'v': 3,\n            'f': \"3\",\n        },\n{\n            'v': 30,\n            'f': \"30\",\n        },\n\"Shanghai Triad (Yao a yao yao dao waipo qiao) (1995)\",\n[\"Crime\", \"Drama\"]],\n [{\n            'v': 3,\n            'f': \"3\",\n        },\n{\n            'v': 3,\n            'f': \"3\",\n        },\n{\n            'v': 24,\n            'f': \"24\",\n        },\n\"Powder (1995)\",\n[\"Drama\", \"Sci-Fi\"]],\n [{\n            'v': 3,\n            'f': \"3\",\n        },\n{\n            'v': 3,\n            'f': \"3\",\n        },\n{\n            'v': 76,\n            'f': \"76\",\n        },\n\"Screamers (1995)\",\n[\"Action\", \"Sci-Fi\", \"Thriller\"]],\n [{\n            'v': 3,\n            'f': \"3\",\n        },\n{\n            'v': 3,\n            'f': \"3\",\n        },\n{\n            'v': 7,\n            'f': \"7\",\n        },\n\"Sabrina (1995)\",\n[\"Comedy\", \"Romance\"]],\n [{\n            'v': 3,\n            'f': \"3\",\n        },\n{\n            'v': 3,\n            'f': \"3\",\n        },\n{\n            'v': 98,\n            'f': \"98\",\n        },\n\"Shopping (1994)\",\n[\"Action\", \"Thriller\"]],\n [{\n            'v': 3,\n            'f': \"3\",\n        },\n{\n            'v': 3,\n            'f': \"3\",\n        },\n{\n            'v': 47,\n            'f': \"47\",\n        },\n\"Seven (a.k.a. Se7en) (1995)\",\n[\"Mystery\", \"Thriller\"]],\n [{\n            'v': 3,\n            'f': \"3\",\n        },\n{\n            'v': 3,\n            'f': \"3\",\n        },\n{\n            'v': 81,\n            'f': \"81\",\n        },\n\"Things to Do in Denver When You're Dead (1995)\",\n[\"Crime\", \"Drama\", \"Romance\"]],\n [{\n            'v': 3,\n            'f': \"3\",\n        },\n{\n            'v': 3,\n            'f': \"3\",\n        },\n{\n            'v': 43,\n            'f': \"43\",\n        },\n\"Restoration (1995)\",\n[\"Drama\"]],\n [{\n            'v': 3,\n            'f': \"3\",\n        },\n{\n            'v': 3,\n            'f': \"3\",\n        },\n{\n            'v': 48,\n            'f': \"48\",\n        },\n\"Pocahontas (1995)\",\n[\"Animation\", \"Children\", \"Drama\", \"Musical\", \"Romance\"]],\n [{\n            'v': 3,\n            'f': \"3\",\n        },\n{\n            'v': 3,\n            'f': \"3\",\n        },\n{\n            'v': 8,\n            'f': \"8\",\n        },\n\"Tom and Huck (1995)\",\n[\"Adventure\", \"Children\"]],\n [{\n            'v': 3,\n            'f': \"3\",\n        },\n{\n            'v': 3,\n            'f': \"3\",\n        },\n{\n            'v': 41,\n            'f': \"41\",\n        },\n\"Richard III (1995)\",\n[\"Drama\", \"War\"]],\n [{\n            'v': 3,\n            'f': \"3\",\n        },\n{\n            'v': 3,\n            'f': \"3\",\n        },\n{\n            'v': 28,\n            'f': \"28\",\n        },\n\"Persuasion (1995)\",\n[\"Drama\", \"Romance\"]],\n [{\n            'v': 3,\n            'f': \"3\",\n        },\n{\n            'v': 3,\n            'f': \"3\",\n        },\n{\n            'v': 32,\n            'f': \"32\",\n        },\n\"Twelve Monkeys (a.k.a. 12 Monkeys) (1995)\",\n[\"Mystery\", \"Sci-Fi\", \"Thriller\"]],\n [{\n            'v': 3,\n            'f': \"3\",\n        },\n{\n            'v': 3,\n            'f': \"3\",\n        },\n{\n            'v': 64,\n            'f': \"64\",\n        },\n\"Two if by Sea (1996)\",\n[\"Comedy\", \"Romance\"]],\n [{\n            'v': 4,\n            'f': \"4\",\n        },\n{\n            'v': 4,\n            'f': \"4\",\n        },\n{\n            'v': 4,\n            'f': \"4\",\n        },\n\"Waiting to Exhale (1995)\",\n[\"Comedy\", \"Drama\", \"Romance\"]],\n [{\n            'v': 4,\n            'f': \"4\",\n        },\n{\n            'v': 4,\n            'f': \"4\",\n        },\n{\n            'v': 80,\n            'f': \"80\",\n        },\n\"White Balloon, The (Badkonake sefid) (1995)\",\n[\"Children\", \"Drama\"]],\n [{\n            'v': 4,\n            'f': \"4\",\n        },\n{\n            'v': 4,\n            'f': \"4\",\n        },\n{\n            'v': 86,\n            'f': \"86\",\n        },\n\"White Squall (1996)\",\n[\"Action\", \"Adventure\", \"Drama\"]],\n [{\n            'v': 4,\n            'f': \"4\",\n        },\n{\n            'v': 4,\n            'f': \"4\",\n        },\n{\n            'v': 93,\n            'f': \"93\",\n        },\n\"Vampire in Brooklyn (1995)\",\n[\"Comedy\", \"Horror\", \"Romance\"]],\n [{\n            'v': 4,\n            'f': \"4\",\n        },\n{\n            'v': 4,\n            'f': \"4\",\n        },\n{\n            'v': 49,\n            'f': \"49\",\n        },\n\"When Night Is Falling (1995)\",\n[\"Drama\", \"Romance\"]],\n [{\n            'v': 4,\n            'f': \"4\",\n        },\n{\n            'v': 4,\n            'f': \"4\",\n        },\n{\n            'v': 50,\n            'f': \"50\",\n        },\n\"Usual Suspects, The (1995)\",\n[\"Crime\", \"Mystery\", \"Thriller\"]]],\n        columns: [[\"number\", \"partID\"], [\"number\", \"p\"], [\"number\", \"nF\"], [\"string\", \"titre\"], [\"string\", \"genres\"]],\n        columnOptions: [],\n        rowsPerPage: 10,\n        helpUrl: \"https://colab.research.google.com/notebooks/data_table.ipynb\",\n        suppressOutputScrolling: true,\n        minimumWidth: undefined,\n      });\n\n      function appendQuickchartButton(parentElement) {\n        let quickchartButtonContainerElement = document.createElement('div');\n        quickchartButtonContainerElement.innerHTML = `\n<div id=\"df-987d2b20-524c-4514-9e9b-227911def9ac\">\n  <button class=\"colab-df-quickchart\" onclick=\"quickchart('df-987d2b20-524c-4514-9e9b-227911def9ac')\"\n            title=\"Suggest charts\"\n            style=\"display:none;\">\n    \n<svg xmlns=\"http://www.w3.org/2000/svg\" height=\"24px\"viewBox=\"0 0 24 24\"\n     width=\"24px\">\n    <g>\n        <path d=\"M19 3H5c-1.1 0-2 .9-2 2v14c0 1.1.9 2 2 2h14c1.1 0 2-.9 2-2V5c0-1.1-.9-2-2-2zM9 17H7v-7h2v7zm4 0h-2V7h2v10zm4 0h-2v-4h2v4z\"/>\n    </g>\n</svg>\n  </button>\n  \n<style>\n  .colab-df-quickchart {\n      --bg-color: #E8F0FE;\n      --fill-color: #1967D2;\n      --hover-bg-color: #E2EBFA;\n      --hover-fill-color: #174EA6;\n      --disabled-fill-color: #AAA;\n      --disabled-bg-color: #DDD;\n  }\n\n  [theme=dark] .colab-df-quickchart {\n      --bg-color: #3B4455;\n      --fill-color: #D2E3FC;\n      --hover-bg-color: #434B5C;\n      --hover-fill-color: #FFFFFF;\n      --disabled-bg-color: #3B4455;\n      --disabled-fill-color: #666;\n  }\n\n  .colab-df-quickchart {\n    background-color: var(--bg-color);\n    border: none;\n    border-radius: 50%;\n    cursor: pointer;\n    display: none;\n    fill: var(--fill-color);\n    height: 32px;\n    padding: 0;\n    width: 32px;\n  }\n\n  .colab-df-quickchart:hover {\n    background-color: var(--hover-bg-color);\n    box-shadow: 0 1px 2px rgba(60, 64, 67, 0.3), 0 1px 3px 1px rgba(60, 64, 67, 0.15);\n    fill: var(--button-hover-fill-color);\n  }\n\n  .colab-df-quickchart-complete:disabled,\n  .colab-df-quickchart-complete:disabled:hover {\n    background-color: var(--disabled-bg-color);\n    fill: var(--disabled-fill-color);\n    box-shadow: none;\n  }\n\n  .colab-df-spinner {\n    border: 2px solid var(--fill-color);\n    border-color: transparent;\n    border-bottom-color: var(--fill-color);\n    animation:\n      spin 1s steps(1) infinite;\n  }\n\n  @keyframes spin {\n    0% {\n      border-color: transparent;\n      border-bottom-color: var(--fill-color);\n      border-left-color: var(--fill-color);\n    }\n    20% {\n      border-color: transparent;\n      border-left-color: var(--fill-color);\n      border-top-color: var(--fill-color);\n    }\n    30% {\n      border-color: transparent;\n      border-left-color: var(--fill-color);\n      border-top-color: var(--fill-color);\n      border-right-color: var(--fill-color);\n    }\n    40% {\n      border-color: transparent;\n      border-right-color: var(--fill-color);\n      border-top-color: var(--fill-color);\n    }\n    60% {\n      border-color: transparent;\n      border-right-color: var(--fill-color);\n    }\n    80% {\n      border-color: transparent;\n      border-right-color: var(--fill-color);\n      border-bottom-color: var(--fill-color);\n    }\n    90% {\n      border-color: transparent;\n      border-bottom-color: var(--fill-color);\n    }\n  }\n</style>\n\n  <script>\n    async function quickchart(key) {\n      const quickchartButtonEl =\n        document.querySelector('#' + key + ' button');\n      quickchartButtonEl.disabled = true;  // To prevent multiple clicks.\n      quickchartButtonEl.classList.add('colab-df-spinner');\n      try {\n        const charts = await google.colab.kernel.invokeFunction(\n            'suggestCharts', [key], {});\n      } catch (error) {\n        console.error('Error during call to suggestCharts:', error);\n      }\n      quickchartButtonEl.classList.remove('colab-df-spinner');\n      quickchartButtonEl.classList.add('colab-df-quickchart-complete');\n    }\n    (() => {\n      let quickchartButtonEl =\n        document.querySelector('#df-987d2b20-524c-4514-9e9b-227911def9ac button');\n      quickchartButtonEl.style.display =\n        google.colab.kernel.accessAllowed ? 'block' : 'none';\n    })();\n  </script>\n</div>`;\n        parentElement.appendChild(quickchartButtonContainerElement);\n      }\n\n      appendQuickchartButton(table);\n    ",
            "text/plain": [
              "<google.colab.data_table.DataTable object>"
            ]
          },
          "metadata": {},
          "execution_count": 51
        }
      ]
    },
    {
      "cell_type": "code",
      "source": [
        "def sort_partition(iterator):\n",
        "    sorted_data = sorted(iterator, key=lambda x: x[\"titre\"].lower())\n",
        "    return sorted_data\n",
        "film_tri_global = film2.rdd.mapPartitions(sort_partition).toDF(['p', 'nF', 'titre', 'genres'])\n",
        "showPartitions(film_tri_global,15, display_per_partition=False)"
      ],
      "metadata": {
        "id": "Ac9Xv3JEy6Bu",
        "colab": {
          "base_uri": "https://localhost:8080/",
          "height": 340
        },
        "outputId": "371b4bea-3024-447a-9e25-ab4a69fff3bd"
      },
      "execution_count": 52,
      "outputs": [
        {
          "output_type": "execute_result",
          "data": {
            "text/html": [
              "<div>\n",
              "<style scoped>\n",
              "    .dataframe tbody tr th:only-of-type {\n",
              "        vertical-align: middle;\n",
              "    }\n",
              "\n",
              "    .dataframe tbody tr th {\n",
              "        vertical-align: top;\n",
              "    }\n",
              "\n",
              "    .dataframe thead th {\n",
              "        text-align: right;\n",
              "    }\n",
              "</style>\n",
              "<table border=\"1\" class=\"dataframe\">\n",
              "  <thead>\n",
              "    <tr style=\"text-align: right;\">\n",
              "      <th></th>\n",
              "      <th>partID</th>\n",
              "      <th>p</th>\n",
              "      <th>nF</th>\n",
              "      <th>titre</th>\n",
              "      <th>genres</th>\n",
              "    </tr>\n",
              "  </thead>\n",
              "  <tbody>\n",
              "    <tr>\n",
              "      <th>0</th>\n",
              "      <td>0</td>\n",
              "      <td>0</td>\n",
              "      <td>19</td>\n",
              "      <td>Ace Ventura: When Nature Calls (1995)</td>\n",
              "      <td>[Comedy]</td>\n",
              "    </tr>\n",
              "    <tr>\n",
              "      <th>1</th>\n",
              "      <td>0</td>\n",
              "      <td>0</td>\n",
              "      <td>37</td>\n",
              "      <td>Across the Sea of Time (1995)</td>\n",
              "      <td>[Documentary, IMAX]</td>\n",
              "    </tr>\n",
              "    <tr>\n",
              "      <th>2</th>\n",
              "      <td>0</td>\n",
              "      <td>0</td>\n",
              "      <td>11</td>\n",
              "      <td>American President, The (1995)</td>\n",
              "      <td>[Comedy, Drama, Romance]</td>\n",
              "    </tr>\n",
              "    <tr>\n",
              "      <th>3</th>\n",
              "      <td>0</td>\n",
              "      <td>0</td>\n",
              "      <td>85</td>\n",
              "      <td>Angels and Insects (1995)</td>\n",
              "      <td>[Drama, Romance]</td>\n",
              "    </tr>\n",
              "    <tr>\n",
              "      <th>4</th>\n",
              "      <td>0</td>\n",
              "      <td>0</td>\n",
              "      <td>82</td>\n",
              "      <td>Antonia's Line (Antonia) (1995)</td>\n",
              "      <td>[Comedy, Drama]</td>\n",
              "    </tr>\n",
              "    <tr>\n",
              "      <th>...</th>\n",
              "      <td>...</td>\n",
              "      <td>...</td>\n",
              "      <td>...</td>\n",
              "      <td>...</td>\n",
              "      <td>...</td>\n",
              "    </tr>\n",
              "    <tr>\n",
              "      <th>61</th>\n",
              "      <td>4</td>\n",
              "      <td>4</td>\n",
              "      <td>93</td>\n",
              "      <td>Vampire in Brooklyn (1995)</td>\n",
              "      <td>[Comedy, Horror, Romance]</td>\n",
              "    </tr>\n",
              "    <tr>\n",
              "      <th>62</th>\n",
              "      <td>4</td>\n",
              "      <td>4</td>\n",
              "      <td>4</td>\n",
              "      <td>Waiting to Exhale (1995)</td>\n",
              "      <td>[Comedy, Drama, Romance]</td>\n",
              "    </tr>\n",
              "    <tr>\n",
              "      <th>63</th>\n",
              "      <td>4</td>\n",
              "      <td>4</td>\n",
              "      <td>49</td>\n",
              "      <td>When Night Is Falling (1995)</td>\n",
              "      <td>[Drama, Romance]</td>\n",
              "    </tr>\n",
              "    <tr>\n",
              "      <th>64</th>\n",
              "      <td>4</td>\n",
              "      <td>4</td>\n",
              "      <td>80</td>\n",
              "      <td>White Balloon, The (Badkonake sefid) (1995)</td>\n",
              "      <td>[Children, Drama]</td>\n",
              "    </tr>\n",
              "    <tr>\n",
              "      <th>65</th>\n",
              "      <td>4</td>\n",
              "      <td>4</td>\n",
              "      <td>86</td>\n",
              "      <td>White Squall (1996)</td>\n",
              "      <td>[Action, Adventure, Drama]</td>\n",
              "    </tr>\n",
              "  </tbody>\n",
              "</table>\n",
              "<p>66 rows × 5 columns</p>\n",
              "</div>"
            ],
            "application/vnd.google.colaboratory.module+javascript": "\n      import \"https://ssl.gstatic.com/colaboratory/data_table/e523c247d1e24a05/data_table.js\";\n\n      const table = window.createDataTable({\n        data: [[{\n            'v': 0,\n            'f': \"0\",\n        },\n{\n            'v': 0,\n            'f': \"0\",\n        },\n{\n            'v': 19,\n            'f': \"19\",\n        },\n\"Ace Ventura: When Nature Calls (1995)\",\n[\"Comedy\"]],\n [{\n            'v': 0,\n            'f': \"0\",\n        },\n{\n            'v': 0,\n            'f': \"0\",\n        },\n{\n            'v': 37,\n            'f': \"37\",\n        },\n\"Across the Sea of Time (1995)\",\n[\"Documentary\", \"IMAX\"]],\n [{\n            'v': 0,\n            'f': \"0\",\n        },\n{\n            'v': 0,\n            'f': \"0\",\n        },\n{\n            'v': 11,\n            'f': \"11\",\n        },\n\"American President, The (1995)\",\n[\"Comedy\", \"Drama\", \"Romance\"]],\n [{\n            'v': 0,\n            'f': \"0\",\n        },\n{\n            'v': 0,\n            'f': \"0\",\n        },\n{\n            'v': 85,\n            'f': \"85\",\n        },\n\"Angels and Insects (1995)\",\n[\"Drama\", \"Romance\"]],\n [{\n            'v': 0,\n            'f': \"0\",\n        },\n{\n            'v': 0,\n            'f': \"0\",\n        },\n{\n            'v': 82,\n            'f': \"82\",\n        },\n\"Antonia's Line (Antonia) (1995)\",\n[\"Comedy\", \"Drama\"]],\n [{\n            'v': 0,\n            'f': \"0\",\n        },\n{\n            'v': 0,\n            'f': \"0\",\n        },\n{\n            'v': 23,\n            'f': \"23\",\n        },\n\"Assassins (1995)\",\n[\"Action\", \"Crime\", \"Thriller\"]],\n [{\n            'v': 0,\n            'f': \"0\",\n        },\n{\n            'v': 0,\n            'f': \"0\",\n        },\n{\n            'v': 34,\n            'f': \"34\",\n        },\n\"Babe (1995)\",\n[\"Children\", \"Drama\"]],\n [{\n            'v': 0,\n            'f': \"0\",\n        },\n{\n            'v': 0,\n            'f': \"0\",\n        },\n{\n            'v': 13,\n            'f': \"13\",\n        },\n\"Balto (1995)\",\n[\"Adventure\", \"Animation\", \"Children\"]],\n [{\n            'v': 0,\n            'f': \"0\",\n        },\n{\n            'v': 0,\n            'f': \"0\",\n        },\n{\n            'v': 94,\n            'f': \"94\",\n        },\n\"Beautiful Girls (1996)\",\n[\"Comedy\", \"Drama\", \"Romance\"]],\n [{\n            'v': 0,\n            'f': \"0\",\n        },\n{\n            'v': 0,\n            'f': \"0\",\n        },\n{\n            'v': 74,\n            'f': \"74\",\n        },\n\"Bed of Roses (1996)\",\n[\"Drama\", \"Romance\"]],\n [{\n            'v': 0,\n            'f': \"0\",\n        },\n{\n            'v': 0,\n            'f': \"0\",\n        },\n{\n            'v': 54,\n            'f': \"54\",\n        },\n\"Big Green, The (1995)\",\n[\"Children\", \"Comedy\"]],\n [{\n            'v': 0,\n            'f': \"0\",\n        },\n{\n            'v': 0,\n            'f': \"0\",\n        },\n{\n            'v': 65,\n            'f': \"65\",\n        },\n\"Bio-Dome (1996)\",\n[\"Comedy\"]],\n [{\n            'v': 0,\n            'f': \"0\",\n        },\n{\n            'v': 0,\n            'f': \"0\",\n        },\n{\n            'v': 88,\n            'f': \"88\",\n        },\n\"Black Sheep (1996)\",\n[\"Comedy\"]],\n [{\n            'v': 0,\n            'f': \"0\",\n        },\n{\n            'v': 0,\n            'f': \"0\",\n        },\n{\n            'v': 95,\n            'f': \"95\",\n        },\n\"Broken Arrow (1996)\",\n[\"Action\", \"Adventure\", \"Thriller\"]],\n [{\n            'v': 0,\n            'f': \"0\",\n        },\n{\n            'v': 0,\n            'f': \"0\",\n        },\n{\n            'v': 35,\n            'f': \"35\",\n        },\n\"Carrington (1995)\",\n[\"Drama\", \"Romance\"]],\n [{\n            'v': 1,\n            'f': \"1\",\n        },\n{\n            'v': 1,\n            'f': \"1\",\n        },\n{\n            'v': 71,\n            'f': \"71\",\n        },\n\"Fair Game (1995)\",\n[\"Action\"]],\n [{\n            'v': 1,\n            'f': \"1\",\n        },\n{\n            'v': 1,\n            'f': \"1\",\n        },\n{\n            'v': 5,\n            'f': \"5\",\n        },\n\"Father of the Bride Part II (1995)\",\n[\"Comedy\"]],\n [{\n            'v': 1,\n            'f': \"1\",\n        },\n{\n            'v': 1,\n            'f': \"1\",\n        },\n{\n            'v': 18,\n            'f': \"18\",\n        },\n\"Four Rooms (1995)\",\n[\"Comedy\"]],\n [{\n            'v': 1,\n            'f': \"1\",\n        },\n{\n            'v': 1,\n            'f': \"1\",\n        },\n{\n            'v': 68,\n            'f': \"68\",\n        },\n\"French Twist (Gazon maudit) (1995)\",\n[\"Comedy\", \"Romance\"]],\n [{\n            'v': 1,\n            'f': \"1\",\n        },\n{\n            'v': 1,\n            'f': \"1\",\n        },\n{\n            'v': 69,\n            'f': \"69\",\n        },\n\"Friday (1995)\",\n[\"Comedy\"]],\n [{\n            'v': 1,\n            'f': \"1\",\n        },\n{\n            'v': 1,\n            'f': \"1\",\n        },\n{\n            'v': 70,\n            'f': \"70\",\n        },\n\"From Dusk Till Dawn (1996)\",\n[\"Action\", \"Comedy\", \"Horror\", \"Thriller\"]],\n [{\n            'v': 1,\n            'f': \"1\",\n        },\n{\n            'v': 1,\n            'f': \"1\",\n        },\n{\n            'v': 55,\n            'f': \"55\",\n        },\n\"Georgia (1995)\",\n[\"Drama\"]],\n [{\n            'v': 1,\n            'f': \"1\",\n        },\n{\n            'v': 1,\n            'f': \"1\",\n        },\n{\n            'v': 21,\n            'f': \"21\",\n        },\n\"Get Shorty (1995)\",\n[\"Comedy\", \"Crime\", \"Thriller\"]],\n [{\n            'v': 1,\n            'f': \"1\",\n        },\n{\n            'v': 1,\n            'f': \"1\",\n        },\n{\n            'v': 10,\n            'f': \"10\",\n        },\n\"GoldenEye (1995)\",\n[\"Action\", \"Adventure\", \"Thriller\"]],\n [{\n            'v': 1,\n            'f': \"1\",\n        },\n{\n            'v': 1,\n            'f': \"1\",\n        },\n{\n            'v': 3,\n            'f': \"3\",\n        },\n\"Grumpier Old Men (1995)\",\n[\"Comedy\", \"Romance\"]],\n [{\n            'v': 1,\n            'f': \"1\",\n        },\n{\n            'v': 1,\n            'f': \"1\",\n        },\n{\n            'v': 97,\n            'f': \"97\",\n        },\n\"Hate (Haine, La) (1995)\",\n[\"Crime\", \"Drama\"]],\n [{\n            'v': 1,\n            'f': \"1\",\n        },\n{\n            'v': 1,\n            'f': \"1\",\n        },\n{\n            'v': 6,\n            'f': \"6\",\n        },\n\"Heat (1995)\",\n[\"Action\", \"Crime\", \"Thriller\"]],\n [{\n            'v': 1,\n            'f': \"1\",\n        },\n{\n            'v': 1,\n            'f': \"1\",\n        },\n{\n            'v': 99,\n            'f': \"99\",\n        },\n\"Heidi Fleiss: Hollywood Madam (1995)\",\n[\"Documentary\"]],\n [{\n            'v': 1,\n            'f': \"1\",\n        },\n{\n            'v': 1,\n            'f': \"1\",\n        },\n{\n            'v': 57,\n            'f': \"57\",\n        },\n\"Home for the Holidays (1995)\",\n[\"Drama\"]],\n [{\n            'v': 1,\n            'f': \"1\",\n        },\n{\n            'v': 1,\n            'f': \"1\",\n        },\n{\n            'v': 46,\n            'f': \"46\",\n        },\n\"How to Make an American Quilt (1995)\",\n[\"Drama\", \"Romance\"]],\n [{\n            'v': 2,\n            'f': \"2\",\n        },\n{\n            'v': 2,\n            'f': \"2\",\n        },\n{\n            'v': 72,\n            'f': \"72\",\n        },\n\"Kicking and Screaming (1995)\",\n[\"Comedy\", \"Drama\"]],\n [{\n            'v': 2,\n            'f': \"2\",\n        },\n{\n            'v': 2,\n            'f': \"2\",\n        },\n{\n            'v': 53,\n            'f': \"53\",\n        },\n\"Lamerica (1994)\",\n[\"Adventure\", \"Drama\"]],\n [{\n            'v': 2,\n            'f': \"2\",\n        },\n{\n            'v': 2,\n            'f': \"2\",\n        },\n{\n            'v': 84,\n            'f': \"84\",\n        },\n\"Last Summer in the Hamptons (1995)\",\n[\"Comedy\", \"Drama\"]],\n [{\n            'v': 2,\n            'f': \"2\",\n        },\n{\n            'v': 2,\n            'f': \"2\",\n        },\n{\n            'v': 66,\n            'f': \"66\",\n        },\n\"Lawnmower Man 2: Beyond Cyberspace (1996)\",\n[\"Action\", \"Sci-Fi\", \"Thriller\"]],\n [{\n            'v': 2,\n            'f': \"2\",\n        },\n{\n            'v': 2,\n            'f': \"2\",\n        },\n{\n            'v': 25,\n            'f': \"25\",\n        },\n\"Leaving Las Vegas (1995)\",\n[\"Drama\", \"Romance\"]],\n [{\n            'v': 2,\n            'f': \"2\",\n        },\n{\n            'v': 2,\n            'f': \"2\",\n        },\n{\n            'v': 92,\n            'f': \"92\",\n        },\n\"Mary Reilly (1996)\",\n[\"Drama\", \"Horror\", \"Thriller\"]],\n [{\n            'v': 2,\n            'f': \"2\",\n        },\n{\n            'v': 2,\n            'f': \"2\",\n        },\n{\n            'v': 52,\n            'f': \"52\",\n        },\n\"Mighty Aphrodite (1995)\",\n[\"Comedy\", \"Drama\", \"Romance\"]],\n [{\n            'v': 2,\n            'f': \"2\",\n        },\n{\n            'v': 2,\n            'f': \"2\",\n        },\n{\n            'v': 73,\n            'f': \"73\",\n        },\n\"Mis\\u00e9rables, Les (1995)\",\n[\"Drama\", \"War\"]],\n [{\n            'v': 2,\n            'f': \"2\",\n        },\n{\n            'v': 2,\n            'f': \"2\",\n        },\n{\n            'v': 20,\n            'f': \"20\",\n        },\n\"Money Train (1995)\",\n[\"Action\", \"Comedy\", \"Crime\", \"Drama\", \"Thriller\"]],\n [{\n            'v': 2,\n            'f': \"2\",\n        },\n{\n            'v': 2,\n            'f': \"2\",\n        },\n{\n            'v': 44,\n            'f': \"44\",\n        },\n\"Mortal Kombat (1995)\",\n[\"Action\", \"Adventure\", \"Fantasy\"]],\n [{\n            'v': 2,\n            'f': \"2\",\n        },\n{\n            'v': 2,\n            'f': \"2\",\n        },\n{\n            'v': 62,\n            'f': \"62\",\n        },\n\"Mr. Holland's Opus (1995)\",\n[\"Drama\"]],\n [{\n            'v': 2,\n            'f': \"2\",\n        },\n{\n            'v': 2,\n            'f': \"2\",\n        },\n{\n            'v': 89,\n            'f': \"89\",\n        },\n\"Nick of Time (1995)\",\n[\"Action\", \"Thriller\"]],\n [{\n            'v': 2,\n            'f': \"2\",\n        },\n{\n            'v': 2,\n            'f': \"2\",\n        },\n{\n            'v': 77,\n            'f': \"77\",\n        },\n\"Nico Icon (1995)\",\n[\"Documentary\"]],\n [{\n            'v': 2,\n            'f': \"2\",\n        },\n{\n            'v': 2,\n            'f': \"2\",\n        },\n{\n            'v': 14,\n            'f': \"14\",\n        },\n\"Nixon (1995)\",\n[\"Drama\"]],\n [{\n            'v': 2,\n            'f': \"2\",\n        },\n{\n            'v': 2,\n            'f': \"2\",\n        },\n{\n            'v': 27,\n            'f': \"27\",\n        },\n\"Now and Then (1995)\",\n[\"Children\", \"Drama\"]],\n [{\n            'v': 3,\n            'f': \"3\",\n        },\n{\n            'v': 3,\n            'f': \"3\",\n        },\n{\n            'v': 28,\n            'f': \"28\",\n        },\n\"Persuasion (1995)\",\n[\"Drama\", \"Romance\"]],\n [{\n            'v': 3,\n            'f': \"3\",\n        },\n{\n            'v': 3,\n            'f': \"3\",\n        },\n{\n            'v': 48,\n            'f': \"48\",\n        },\n\"Pocahontas (1995)\",\n[\"Animation\", \"Children\", \"Drama\", \"Musical\", \"Romance\"]],\n [{\n            'v': 3,\n            'f': \"3\",\n        },\n{\n            'v': 3,\n            'f': \"3\",\n        },\n{\n            'v': 58,\n            'f': \"58\",\n        },\n\"Postman, The (Postino, Il) (1994)\",\n[\"Comedy\", \"Drama\", \"Romance\"]],\n [{\n            'v': 3,\n            'f': \"3\",\n        },\n{\n            'v': 3,\n            'f': \"3\",\n        },\n{\n            'v': 24,\n            'f': \"24\",\n        },\n\"Powder (1995)\",\n[\"Drama\", \"Sci-Fi\"]],\n [{\n            'v': 3,\n            'f': \"3\",\n        },\n{\n            'v': 3,\n            'f': \"3\",\n        },\n{\n            'v': 43,\n            'f': \"43\",\n        },\n\"Restoration (1995)\",\n[\"Drama\"]],\n [{\n            'v': 3,\n            'f': \"3\",\n        },\n{\n            'v': 3,\n            'f': \"3\",\n        },\n{\n            'v': 41,\n            'f': \"41\",\n        },\n\"Richard III (1995)\",\n[\"Drama\", \"War\"]],\n [{\n            'v': 3,\n            'f': \"3\",\n        },\n{\n            'v': 3,\n            'f': \"3\",\n        },\n{\n            'v': 7,\n            'f': \"7\",\n        },\n\"Sabrina (1995)\",\n[\"Comedy\", \"Romance\"]],\n [{\n            'v': 3,\n            'f': \"3\",\n        },\n{\n            'v': 3,\n            'f': \"3\",\n        },\n{\n            'v': 76,\n            'f': \"76\",\n        },\n\"Screamers (1995)\",\n[\"Action\", \"Sci-Fi\", \"Thriller\"]],\n [{\n            'v': 3,\n            'f': \"3\",\n        },\n{\n            'v': 3,\n            'f': \"3\",\n        },\n{\n            'v': 17,\n            'f': \"17\",\n        },\n\"Sense and Sensibility (1995)\",\n[\"Drama\", \"Romance\"]],\n [{\n            'v': 3,\n            'f': \"3\",\n        },\n{\n            'v': 3,\n            'f': \"3\",\n        },\n{\n            'v': 47,\n            'f': \"47\",\n        },\n\"Seven (a.k.a. Se7en) (1995)\",\n[\"Mystery\", \"Thriller\"]],\n [{\n            'v': 3,\n            'f': \"3\",\n        },\n{\n            'v': 3,\n            'f': \"3\",\n        },\n{\n            'v': 30,\n            'f': \"30\",\n        },\n\"Shanghai Triad (Yao a yao yao dao waipo qiao) (1995)\",\n[\"Crime\", \"Drama\"]],\n [{\n            'v': 3,\n            'f': \"3\",\n        },\n{\n            'v': 3,\n            'f': \"3\",\n        },\n{\n            'v': 98,\n            'f': \"98\",\n        },\n\"Shopping (1994)\",\n[\"Action\", \"Thriller\"]],\n [{\n            'v': 3,\n            'f': \"3\",\n        },\n{\n            'v': 3,\n            'f': \"3\",\n        },\n{\n            'v': 9,\n            'f': \"9\",\n        },\n\"Sudden Death (1995)\",\n[\"Action\"]],\n [{\n            'v': 3,\n            'f': \"3\",\n        },\n{\n            'v': 3,\n            'f': \"3\",\n        },\n{\n            'v': 81,\n            'f': \"81\",\n        },\n\"Things to Do in Denver When You're Dead (1995)\",\n[\"Crime\", \"Drama\", \"Romance\"]],\n [{\n            'v': 3,\n            'f': \"3\",\n        },\n{\n            'v': 3,\n            'f': \"3\",\n        },\n{\n            'v': 45,\n            'f': \"45\",\n        },\n\"To Die For (1995)\",\n[\"Comedy\", \"Drama\", \"Thriller\"]],\n [{\n            'v': 4,\n            'f': \"4\",\n        },\n{\n            'v': 4,\n            'f': \"4\",\n        },\n{\n            'v': 50,\n            'f': \"50\",\n        },\n\"Usual Suspects, The (1995)\",\n[\"Crime\", \"Mystery\", \"Thriller\"]],\n [{\n            'v': 4,\n            'f': \"4\",\n        },\n{\n            'v': 4,\n            'f': \"4\",\n        },\n{\n            'v': 93,\n            'f': \"93\",\n        },\n\"Vampire in Brooklyn (1995)\",\n[\"Comedy\", \"Horror\", \"Romance\"]],\n [{\n            'v': 4,\n            'f': \"4\",\n        },\n{\n            'v': 4,\n            'f': \"4\",\n        },\n{\n            'v': 4,\n            'f': \"4\",\n        },\n\"Waiting to Exhale (1995)\",\n[\"Comedy\", \"Drama\", \"Romance\"]],\n [{\n            'v': 4,\n            'f': \"4\",\n        },\n{\n            'v': 4,\n            'f': \"4\",\n        },\n{\n            'v': 49,\n            'f': \"49\",\n        },\n\"When Night Is Falling (1995)\",\n[\"Drama\", \"Romance\"]],\n [{\n            'v': 4,\n            'f': \"4\",\n        },\n{\n            'v': 4,\n            'f': \"4\",\n        },\n{\n            'v': 80,\n            'f': \"80\",\n        },\n\"White Balloon, The (Badkonake sefid) (1995)\",\n[\"Children\", \"Drama\"]],\n [{\n            'v': 4,\n            'f': \"4\",\n        },\n{\n            'v': 4,\n            'f': \"4\",\n        },\n{\n            'v': 86,\n            'f': \"86\",\n        },\n\"White Squall (1996)\",\n[\"Action\", \"Adventure\", \"Drama\"]]],\n        columns: [[\"number\", \"partID\"], [\"number\", \"p\"], [\"number\", \"nF\"], [\"string\", \"titre\"], [\"string\", \"genres\"]],\n        columnOptions: [],\n        rowsPerPage: 10,\n        helpUrl: \"https://colab.research.google.com/notebooks/data_table.ipynb\",\n        suppressOutputScrolling: true,\n        minimumWidth: undefined,\n      });\n\n      function appendQuickchartButton(parentElement) {\n        let quickchartButtonContainerElement = document.createElement('div');\n        quickchartButtonContainerElement.innerHTML = `\n<div id=\"df-c6e964f9-5ecc-41ac-a853-3f1c17d90c07\">\n  <button class=\"colab-df-quickchart\" onclick=\"quickchart('df-c6e964f9-5ecc-41ac-a853-3f1c17d90c07')\"\n            title=\"Suggest charts\"\n            style=\"display:none;\">\n    \n<svg xmlns=\"http://www.w3.org/2000/svg\" height=\"24px\"viewBox=\"0 0 24 24\"\n     width=\"24px\">\n    <g>\n        <path d=\"M19 3H5c-1.1 0-2 .9-2 2v14c0 1.1.9 2 2 2h14c1.1 0 2-.9 2-2V5c0-1.1-.9-2-2-2zM9 17H7v-7h2v7zm4 0h-2V7h2v10zm4 0h-2v-4h2v4z\"/>\n    </g>\n</svg>\n  </button>\n  \n<style>\n  .colab-df-quickchart {\n      --bg-color: #E8F0FE;\n      --fill-color: #1967D2;\n      --hover-bg-color: #E2EBFA;\n      --hover-fill-color: #174EA6;\n      --disabled-fill-color: #AAA;\n      --disabled-bg-color: #DDD;\n  }\n\n  [theme=dark] .colab-df-quickchart {\n      --bg-color: #3B4455;\n      --fill-color: #D2E3FC;\n      --hover-bg-color: #434B5C;\n      --hover-fill-color: #FFFFFF;\n      --disabled-bg-color: #3B4455;\n      --disabled-fill-color: #666;\n  }\n\n  .colab-df-quickchart {\n    background-color: var(--bg-color);\n    border: none;\n    border-radius: 50%;\n    cursor: pointer;\n    display: none;\n    fill: var(--fill-color);\n    height: 32px;\n    padding: 0;\n    width: 32px;\n  }\n\n  .colab-df-quickchart:hover {\n    background-color: var(--hover-bg-color);\n    box-shadow: 0 1px 2px rgba(60, 64, 67, 0.3), 0 1px 3px 1px rgba(60, 64, 67, 0.15);\n    fill: var(--button-hover-fill-color);\n  }\n\n  .colab-df-quickchart-complete:disabled,\n  .colab-df-quickchart-complete:disabled:hover {\n    background-color: var(--disabled-bg-color);\n    fill: var(--disabled-fill-color);\n    box-shadow: none;\n  }\n\n  .colab-df-spinner {\n    border: 2px solid var(--fill-color);\n    border-color: transparent;\n    border-bottom-color: var(--fill-color);\n    animation:\n      spin 1s steps(1) infinite;\n  }\n\n  @keyframes spin {\n    0% {\n      border-color: transparent;\n      border-bottom-color: var(--fill-color);\n      border-left-color: var(--fill-color);\n    }\n    20% {\n      border-color: transparent;\n      border-left-color: var(--fill-color);\n      border-top-color: var(--fill-color);\n    }\n    30% {\n      border-color: transparent;\n      border-left-color: var(--fill-color);\n      border-top-color: var(--fill-color);\n      border-right-color: var(--fill-color);\n    }\n    40% {\n      border-color: transparent;\n      border-right-color: var(--fill-color);\n      border-top-color: var(--fill-color);\n    }\n    60% {\n      border-color: transparent;\n      border-right-color: var(--fill-color);\n    }\n    80% {\n      border-color: transparent;\n      border-right-color: var(--fill-color);\n      border-bottom-color: var(--fill-color);\n    }\n    90% {\n      border-color: transparent;\n      border-bottom-color: var(--fill-color);\n    }\n  }\n</style>\n\n  <script>\n    async function quickchart(key) {\n      const quickchartButtonEl =\n        document.querySelector('#' + key + ' button');\n      quickchartButtonEl.disabled = true;  // To prevent multiple clicks.\n      quickchartButtonEl.classList.add('colab-df-spinner');\n      try {\n        const charts = await google.colab.kernel.invokeFunction(\n            'suggestCharts', [key], {});\n      } catch (error) {\n        console.error('Error during call to suggestCharts:', error);\n      }\n      quickchartButtonEl.classList.remove('colab-df-spinner');\n      quickchartButtonEl.classList.add('colab-df-quickchart-complete');\n    }\n    (() => {\n      let quickchartButtonEl =\n        document.querySelector('#df-c6e964f9-5ecc-41ac-a853-3f1c17d90c07 button');\n      quickchartButtonEl.style.display =\n        google.colab.kernel.accessAllowed ? 'block' : 'none';\n    })();\n  </script>\n</div>`;\n        parentElement.appendChild(quickchartButtonContainerElement);\n      }\n\n      appendQuickchartButton(table);\n    ",
            "text/plain": [
              "<google.colab.data_table.DataTable object>"
            ]
          },
          "metadata": {},
          "execution_count": 52
        }
      ]
    },
    {
      "cell_type": "markdown",
      "source": [
        "3.2) Le résultat obtenu est-il partitionné de la même façon que celui de la requête équivalente suivante ?\n",
        "*   resultat1 = film_extrait.orderBy('titre')\n"
      ],
      "metadata": {
        "id": "sg_p45QJtn2s"
      }
    },
    {
      "cell_type": "code",
      "source": [
        "resultat1 = films_extrait.orderBy('titre')\n",
        "showPartitions(resultat1,15, display_per_partition=False)"
      ],
      "metadata": {
        "id": "iJrlmE0Ft8_E",
        "colab": {
          "base_uri": "https://localhost:8080/",
          "height": 340
        },
        "outputId": "17a979b5-2126-45ab-b83d-ed490cac5a19"
      },
      "execution_count": 53,
      "outputs": [
        {
          "output_type": "execute_result",
          "data": {
            "text/html": [
              "<div>\n",
              "<style scoped>\n",
              "    .dataframe tbody tr th:only-of-type {\n",
              "        vertical-align: middle;\n",
              "    }\n",
              "\n",
              "    .dataframe tbody tr th {\n",
              "        vertical-align: top;\n",
              "    }\n",
              "\n",
              "    .dataframe thead th {\n",
              "        text-align: right;\n",
              "    }\n",
              "</style>\n",
              "<table border=\"1\" class=\"dataframe\">\n",
              "  <thead>\n",
              "    <tr style=\"text-align: right;\">\n",
              "      <th></th>\n",
              "      <th>partID</th>\n",
              "      <th>nF</th>\n",
              "      <th>titre</th>\n",
              "      <th>genres</th>\n",
              "    </tr>\n",
              "  </thead>\n",
              "  <tbody>\n",
              "    <tr>\n",
              "      <th>0</th>\n",
              "      <td>0</td>\n",
              "      <td>19</td>\n",
              "      <td>Ace Ventura: When Nature Calls (1995)</td>\n",
              "      <td>[Comedy]</td>\n",
              "    </tr>\n",
              "    <tr>\n",
              "      <th>1</th>\n",
              "      <td>0</td>\n",
              "      <td>37</td>\n",
              "      <td>Across the Sea of Time (1995)</td>\n",
              "      <td>[Documentary, IMAX]</td>\n",
              "    </tr>\n",
              "    <tr>\n",
              "      <th>2</th>\n",
              "      <td>0</td>\n",
              "      <td>11</td>\n",
              "      <td>American President, The (1995)</td>\n",
              "      <td>[Comedy, Drama, Romance]</td>\n",
              "    </tr>\n",
              "    <tr>\n",
              "      <th>3</th>\n",
              "      <td>0</td>\n",
              "      <td>85</td>\n",
              "      <td>Angels and Insects (1995)</td>\n",
              "      <td>[Drama, Romance]</td>\n",
              "    </tr>\n",
              "    <tr>\n",
              "      <th>4</th>\n",
              "      <td>0</td>\n",
              "      <td>82</td>\n",
              "      <td>Antonia's Line (Antonia) (1995)</td>\n",
              "      <td>[Comedy, Drama]</td>\n",
              "    </tr>\n",
              "    <tr>\n",
              "      <th>5</th>\n",
              "      <td>0</td>\n",
              "      <td>23</td>\n",
              "      <td>Assassins (1995)</td>\n",
              "      <td>[Action, Crime, Thriller]</td>\n",
              "    </tr>\n",
              "    <tr>\n",
              "      <th>6</th>\n",
              "      <td>0</td>\n",
              "      <td>34</td>\n",
              "      <td>Babe (1995)</td>\n",
              "      <td>[Children, Drama]</td>\n",
              "    </tr>\n",
              "    <tr>\n",
              "      <th>7</th>\n",
              "      <td>0</td>\n",
              "      <td>13</td>\n",
              "      <td>Balto (1995)</td>\n",
              "      <td>[Adventure, Animation, Children]</td>\n",
              "    </tr>\n",
              "    <tr>\n",
              "      <th>8</th>\n",
              "      <td>0</td>\n",
              "      <td>94</td>\n",
              "      <td>Beautiful Girls (1996)</td>\n",
              "      <td>[Comedy, Drama, Romance]</td>\n",
              "    </tr>\n",
              "    <tr>\n",
              "      <th>9</th>\n",
              "      <td>0</td>\n",
              "      <td>74</td>\n",
              "      <td>Bed of Roses (1996)</td>\n",
              "      <td>[Drama, Romance]</td>\n",
              "    </tr>\n",
              "    <tr>\n",
              "      <th>10</th>\n",
              "      <td>0</td>\n",
              "      <td>54</td>\n",
              "      <td>Big Green, The (1995)</td>\n",
              "      <td>[Children, Comedy]</td>\n",
              "    </tr>\n",
              "    <tr>\n",
              "      <th>11</th>\n",
              "      <td>0</td>\n",
              "      <td>65</td>\n",
              "      <td>Bio-Dome (1996)</td>\n",
              "      <td>[Comedy]</td>\n",
              "    </tr>\n",
              "    <tr>\n",
              "      <th>12</th>\n",
              "      <td>0</td>\n",
              "      <td>88</td>\n",
              "      <td>Black Sheep (1996)</td>\n",
              "      <td>[Comedy]</td>\n",
              "    </tr>\n",
              "    <tr>\n",
              "      <th>13</th>\n",
              "      <td>0</td>\n",
              "      <td>95</td>\n",
              "      <td>Broken Arrow (1996)</td>\n",
              "      <td>[Action, Adventure, Thriller]</td>\n",
              "    </tr>\n",
              "    <tr>\n",
              "      <th>14</th>\n",
              "      <td>0</td>\n",
              "      <td>35</td>\n",
              "      <td>Carrington (1995)</td>\n",
              "      <td>[Drama, Romance]</td>\n",
              "    </tr>\n",
              "  </tbody>\n",
              "</table>\n",
              "</div>"
            ],
            "application/vnd.google.colaboratory.module+javascript": "\n      import \"https://ssl.gstatic.com/colaboratory/data_table/e523c247d1e24a05/data_table.js\";\n\n      const table = window.createDataTable({\n        data: [[{\n            'v': 0,\n            'f': \"0\",\n        },\n{\n            'v': 19,\n            'f': \"19\",\n        },\n\"Ace Ventura: When Nature Calls (1995)\",\n[\"Comedy\"]],\n [{\n            'v': 0,\n            'f': \"0\",\n        },\n{\n            'v': 37,\n            'f': \"37\",\n        },\n\"Across the Sea of Time (1995)\",\n[\"Documentary\", \"IMAX\"]],\n [{\n            'v': 0,\n            'f': \"0\",\n        },\n{\n            'v': 11,\n            'f': \"11\",\n        },\n\"American President, The (1995)\",\n[\"Comedy\", \"Drama\", \"Romance\"]],\n [{\n            'v': 0,\n            'f': \"0\",\n        },\n{\n            'v': 85,\n            'f': \"85\",\n        },\n\"Angels and Insects (1995)\",\n[\"Drama\", \"Romance\"]],\n [{\n            'v': 0,\n            'f': \"0\",\n        },\n{\n            'v': 82,\n            'f': \"82\",\n        },\n\"Antonia's Line (Antonia) (1995)\",\n[\"Comedy\", \"Drama\"]],\n [{\n            'v': 0,\n            'f': \"0\",\n        },\n{\n            'v': 23,\n            'f': \"23\",\n        },\n\"Assassins (1995)\",\n[\"Action\", \"Crime\", \"Thriller\"]],\n [{\n            'v': 0,\n            'f': \"0\",\n        },\n{\n            'v': 34,\n            'f': \"34\",\n        },\n\"Babe (1995)\",\n[\"Children\", \"Drama\"]],\n [{\n            'v': 0,\n            'f': \"0\",\n        },\n{\n            'v': 13,\n            'f': \"13\",\n        },\n\"Balto (1995)\",\n[\"Adventure\", \"Animation\", \"Children\"]],\n [{\n            'v': 0,\n            'f': \"0\",\n        },\n{\n            'v': 94,\n            'f': \"94\",\n        },\n\"Beautiful Girls (1996)\",\n[\"Comedy\", \"Drama\", \"Romance\"]],\n [{\n            'v': 0,\n            'f': \"0\",\n        },\n{\n            'v': 74,\n            'f': \"74\",\n        },\n\"Bed of Roses (1996)\",\n[\"Drama\", \"Romance\"]],\n [{\n            'v': 0,\n            'f': \"0\",\n        },\n{\n            'v': 54,\n            'f': \"54\",\n        },\n\"Big Green, The (1995)\",\n[\"Children\", \"Comedy\"]],\n [{\n            'v': 0,\n            'f': \"0\",\n        },\n{\n            'v': 65,\n            'f': \"65\",\n        },\n\"Bio-Dome (1996)\",\n[\"Comedy\"]],\n [{\n            'v': 0,\n            'f': \"0\",\n        },\n{\n            'v': 88,\n            'f': \"88\",\n        },\n\"Black Sheep (1996)\",\n[\"Comedy\"]],\n [{\n            'v': 0,\n            'f': \"0\",\n        },\n{\n            'v': 95,\n            'f': \"95\",\n        },\n\"Broken Arrow (1996)\",\n[\"Action\", \"Adventure\", \"Thriller\"]],\n [{\n            'v': 0,\n            'f': \"0\",\n        },\n{\n            'v': 35,\n            'f': \"35\",\n        },\n\"Carrington (1995)\",\n[\"Drama\", \"Romance\"]]],\n        columns: [[\"number\", \"partID\"], [\"number\", \"nF\"], [\"string\", \"titre\"], [\"string\", \"genres\"]],\n        columnOptions: [],\n        rowsPerPage: 10,\n        helpUrl: \"https://colab.research.google.com/notebooks/data_table.ipynb\",\n        suppressOutputScrolling: true,\n        minimumWidth: undefined,\n      });\n\n      function appendQuickchartButton(parentElement) {\n        let quickchartButtonContainerElement = document.createElement('div');\n        quickchartButtonContainerElement.innerHTML = `\n<div id=\"df-9b2f2262-434b-4829-adf9-cb31c40a812a\">\n  <button class=\"colab-df-quickchart\" onclick=\"quickchart('df-9b2f2262-434b-4829-adf9-cb31c40a812a')\"\n            title=\"Suggest charts\"\n            style=\"display:none;\">\n    \n<svg xmlns=\"http://www.w3.org/2000/svg\" height=\"24px\"viewBox=\"0 0 24 24\"\n     width=\"24px\">\n    <g>\n        <path d=\"M19 3H5c-1.1 0-2 .9-2 2v14c0 1.1.9 2 2 2h14c1.1 0 2-.9 2-2V5c0-1.1-.9-2-2-2zM9 17H7v-7h2v7zm4 0h-2V7h2v10zm4 0h-2v-4h2v4z\"/>\n    </g>\n</svg>\n  </button>\n  \n<style>\n  .colab-df-quickchart {\n      --bg-color: #E8F0FE;\n      --fill-color: #1967D2;\n      --hover-bg-color: #E2EBFA;\n      --hover-fill-color: #174EA6;\n      --disabled-fill-color: #AAA;\n      --disabled-bg-color: #DDD;\n  }\n\n  [theme=dark] .colab-df-quickchart {\n      --bg-color: #3B4455;\n      --fill-color: #D2E3FC;\n      --hover-bg-color: #434B5C;\n      --hover-fill-color: #FFFFFF;\n      --disabled-bg-color: #3B4455;\n      --disabled-fill-color: #666;\n  }\n\n  .colab-df-quickchart {\n    background-color: var(--bg-color);\n    border: none;\n    border-radius: 50%;\n    cursor: pointer;\n    display: none;\n    fill: var(--fill-color);\n    height: 32px;\n    padding: 0;\n    width: 32px;\n  }\n\n  .colab-df-quickchart:hover {\n    background-color: var(--hover-bg-color);\n    box-shadow: 0 1px 2px rgba(60, 64, 67, 0.3), 0 1px 3px 1px rgba(60, 64, 67, 0.15);\n    fill: var(--button-hover-fill-color);\n  }\n\n  .colab-df-quickchart-complete:disabled,\n  .colab-df-quickchart-complete:disabled:hover {\n    background-color: var(--disabled-bg-color);\n    fill: var(--disabled-fill-color);\n    box-shadow: none;\n  }\n\n  .colab-df-spinner {\n    border: 2px solid var(--fill-color);\n    border-color: transparent;\n    border-bottom-color: var(--fill-color);\n    animation:\n      spin 1s steps(1) infinite;\n  }\n\n  @keyframes spin {\n    0% {\n      border-color: transparent;\n      border-bottom-color: var(--fill-color);\n      border-left-color: var(--fill-color);\n    }\n    20% {\n      border-color: transparent;\n      border-left-color: var(--fill-color);\n      border-top-color: var(--fill-color);\n    }\n    30% {\n      border-color: transparent;\n      border-left-color: var(--fill-color);\n      border-top-color: var(--fill-color);\n      border-right-color: var(--fill-color);\n    }\n    40% {\n      border-color: transparent;\n      border-right-color: var(--fill-color);\n      border-top-color: var(--fill-color);\n    }\n    60% {\n      border-color: transparent;\n      border-right-color: var(--fill-color);\n    }\n    80% {\n      border-color: transparent;\n      border-right-color: var(--fill-color);\n      border-bottom-color: var(--fill-color);\n    }\n    90% {\n      border-color: transparent;\n      border-bottom-color: var(--fill-color);\n    }\n  }\n</style>\n\n  <script>\n    async function quickchart(key) {\n      const quickchartButtonEl =\n        document.querySelector('#' + key + ' button');\n      quickchartButtonEl.disabled = true;  // To prevent multiple clicks.\n      quickchartButtonEl.classList.add('colab-df-spinner');\n      try {\n        const charts = await google.colab.kernel.invokeFunction(\n            'suggestCharts', [key], {});\n      } catch (error) {\n        console.error('Error during call to suggestCharts:', error);\n      }\n      quickchartButtonEl.classList.remove('colab-df-spinner');\n      quickchartButtonEl.classList.add('colab-df-quickchart-complete');\n    }\n    (() => {\n      let quickchartButtonEl =\n        document.querySelector('#df-9b2f2262-434b-4829-adf9-cb31c40a812a button');\n      quickchartButtonEl.style.display =\n        google.colab.kernel.accessAllowed ? 'block' : 'none';\n    })();\n  </script>\n</div>`;\n        parentElement.appendChild(quickchartButtonContainerElement);\n      }\n\n      appendQuickchartButton(table);\n    ",
            "text/plain": [
              "<google.colab.data_table.DataTable object>"
            ]
          },
          "metadata": {},
          "execution_count": 53
        }
      ]
    },
    {
      "cell_type": "markdown",
      "source": [
        "3.3) Modifier la solution précédente de telles sorte que\n",
        "*  a) Les intervalles du domaine de l'attribut $titre$ soient équilibrés : chaque intervalle doit être associé à $m$ films avec $m = (nb\\_films/n)  \\pm n$. Cela nécessite de trier les données avant de les repartitionner.\n",
        "*  b) Repartitionner les données en fonction du numéro d'intervalle : les tuples associée au $i^{ème}$ intervalle vont dans la partition $i$.\n",
        "*  c) Dans chaque intervalle, fusionner les données sachant qu'elles ont déjà été triées à l'étape a).\n"
      ],
      "metadata": {
        "id": "9BGgo6DLbmXR"
      }
    },
    {
      "cell_type": "code",
      "source": [
        "def calculate_letter_distribution(data):\n",
        "    letter_count = {}\n",
        "    for record in data:\n",
        "        letter = record[\"titre\"][0].lower() # compter le nombre de ligne par le premier lettre du titre\n",
        "        letter_count[letter] = letter_count.get(letter, 0) + 1\n",
        "\n",
        "    for letter, count in letter_count.items():\n",
        "        yield (letter, count)\n",
        "\n",
        "def get_boundaries(m, n, distribution):\n",
        "    boundaries = []\n",
        "    partition_id = 0\n",
        "    curr_count = 0\n",
        "    curr_partition = []\n",
        "    for letter, count in distribution:\n",
        "        curr_partition.append(letter)\n",
        "        curr_count += count\n",
        "        if curr_count >= m:\n",
        "            boundaries.append((curr_partition, partition_id))\n",
        "            curr_partition = []\n",
        "            curr_count = 0\n",
        "            partition_id += 1\n",
        "    # ajouter les dernier partition dans la list\n",
        "    if curr_partition:\n",
        "        boundaries.append(curr_partition, partition_id)\n",
        "\n",
        "    return boundaries # format : List[Tuple(list_des_lettres, num_partition)]\n",
        "\n",
        "\n",
        "# step a): calculer la distribution des titres\n",
        "# obtenir le distribution du titire de chaque partition\n",
        "letter_distribution = films_extrait.rdd.mapPartitions(calculate_letter_distribution).toDF(['letter', 'count']).collect()\n",
        "\n",
        "# distribution global :\n",
        "global_distribution = {}\n",
        "for letter, count in letter_distribution:\n",
        "    global_distribution[letter] = global_distribution.get(letter, 0) + count\n",
        "sorted_global_distribution = sorted(global_distribution.items(), key=lambda x: x[0])\n",
        "\n",
        "nb_partitions = films_extrait.rdd.getNumPartitions()\n",
        "total_count = 0\n",
        "for letter, count in sorted_global_distribution:\n",
        "    total_count += count\n",
        "m = total_count // nb_partitions       # taille de la patition m = (nbfilms / n)\n",
        "\n",
        "partition_boundaries = get_boundaries(m, nb_partitions, sorted_global_distribution)\n",
        "for partition, partition_id in partition_boundaries:\n",
        "    print(f\"Partition {partition_id}: {', '.join(partition)}\")"
      ],
      "metadata": {
        "id": "rw6mf7H0kljS",
        "colab": {
          "base_uri": "https://localhost:8080/"
        },
        "outputId": "24e72adc-9fec-4887-c977-8d822f2abce0"
      },
      "execution_count": 55,
      "outputs": [
        {
          "output_type": "stream",
          "name": "stdout",
          "text": [
            "Partition 0: a, b, c, d, e\n",
            "Partition 1: f, g, h, i, j, k, l, m\n",
            "Partition 2: n, o, p, r, s, t, u, v, w\n"
          ]
        }
      ]
    },
    {
      "cell_type": "code",
      "source": [
        "def new_partitioner(titre):\n",
        "    first_letter = titre[0].lower()\n",
        "    for partition, partition_id in partition_boundaries:\n",
        "        if first_letter in partition:\n",
        "            return partition_id\n",
        "    return -1\n",
        "\n",
        "film3 = films_extrait.rdd.map(lambda x: (new_partitioner(x.titre), x.nF, x.titre, x.genres)).toDF(['p', 'nF', 'titre', 'genres'])\n",
        "films = film3.repartitionByRange(4, col('p'))\n",
        "showPartitions(films,20, display_per_partition=False)"
      ],
      "metadata": {
        "colab": {
          "base_uri": "https://localhost:8080/",
          "height": 340
        },
        "id": "mIeoXrfYvA0A",
        "outputId": "ec1fe326-19b4-431a-e42e-f9e5e56c4f83"
      },
      "execution_count": 56,
      "outputs": [
        {
          "output_type": "execute_result",
          "data": {
            "text/html": [
              "<div>\n",
              "<style scoped>\n",
              "    .dataframe tbody tr th:only-of-type {\n",
              "        vertical-align: middle;\n",
              "    }\n",
              "\n",
              "    .dataframe tbody tr th {\n",
              "        vertical-align: top;\n",
              "    }\n",
              "\n",
              "    .dataframe thead th {\n",
              "        text-align: right;\n",
              "    }\n",
              "</style>\n",
              "<table border=\"1\" class=\"dataframe\">\n",
              "  <thead>\n",
              "    <tr style=\"text-align: right;\">\n",
              "      <th></th>\n",
              "      <th>partID</th>\n",
              "      <th>p</th>\n",
              "      <th>nF</th>\n",
              "      <th>titre</th>\n",
              "      <th>genres</th>\n",
              "    </tr>\n",
              "  </thead>\n",
              "  <tbody>\n",
              "    <tr>\n",
              "      <th>0</th>\n",
              "      <td>0</td>\n",
              "      <td>0</td>\n",
              "      <td>94</td>\n",
              "      <td>Beautiful Girls (1996)</td>\n",
              "      <td>[Comedy, Drama, Romance]</td>\n",
              "    </tr>\n",
              "    <tr>\n",
              "      <th>1</th>\n",
              "      <td>0</td>\n",
              "      <td>0</td>\n",
              "      <td>54</td>\n",
              "      <td>Big Green, The (1995)</td>\n",
              "      <td>[Children, Comedy]</td>\n",
              "    </tr>\n",
              "    <tr>\n",
              "      <th>2</th>\n",
              "      <td>0</td>\n",
              "      <td>0</td>\n",
              "      <td>87</td>\n",
              "      <td>Dunston Checks In (1996)</td>\n",
              "      <td>[Children, Comedy]</td>\n",
              "    </tr>\n",
              "    <tr>\n",
              "      <th>3</th>\n",
              "      <td>0</td>\n",
              "      <td>0</td>\n",
              "      <td>88</td>\n",
              "      <td>Black Sheep (1996)</td>\n",
              "      <td>[Comedy]</td>\n",
              "    </tr>\n",
              "    <tr>\n",
              "      <th>4</th>\n",
              "      <td>0</td>\n",
              "      <td>0</td>\n",
              "      <td>12</td>\n",
              "      <td>Dracula: Dead and Loving It (1995)</td>\n",
              "      <td>[Comedy, Horror]</td>\n",
              "    </tr>\n",
              "    <tr>\n",
              "      <th>5</th>\n",
              "      <td>0</td>\n",
              "      <td>0</td>\n",
              "      <td>39</td>\n",
              "      <td>Clueless (1995)</td>\n",
              "      <td>[Comedy, Romance]</td>\n",
              "    </tr>\n",
              "    <tr>\n",
              "      <th>6</th>\n",
              "      <td>0</td>\n",
              "      <td>0</td>\n",
              "      <td>35</td>\n",
              "      <td>Carrington (1995)</td>\n",
              "      <td>[Drama, Romance]</td>\n",
              "    </tr>\n",
              "    <tr>\n",
              "      <th>7</th>\n",
              "      <td>0</td>\n",
              "      <td>0</td>\n",
              "      <td>13</td>\n",
              "      <td>Balto (1995)</td>\n",
              "      <td>[Adventure, Animation, Children]</td>\n",
              "    </tr>\n",
              "    <tr>\n",
              "      <th>8</th>\n",
              "      <td>0</td>\n",
              "      <td>0</td>\n",
              "      <td>22</td>\n",
              "      <td>Copycat (1995)</td>\n",
              "      <td>[Crime, Drama, Horror, Mystery, Thriller]</td>\n",
              "    </tr>\n",
              "    <tr>\n",
              "      <th>9</th>\n",
              "      <td>0</td>\n",
              "      <td>0</td>\n",
              "      <td>36</td>\n",
              "      <td>Dead Man Walking (1995)</td>\n",
              "      <td>[Crime, Drama]</td>\n",
              "    </tr>\n",
              "    <tr>\n",
              "      <th>10</th>\n",
              "      <td>0</td>\n",
              "      <td>0</td>\n",
              "      <td>59</td>\n",
              "      <td>Confessional, The (Confessionnal, Le) (1995)</td>\n",
              "      <td>[Drama, Mystery]</td>\n",
              "    </tr>\n",
              "    <tr>\n",
              "      <th>11</th>\n",
              "      <td>0</td>\n",
              "      <td>0</td>\n",
              "      <td>34</td>\n",
              "      <td>Babe (1995)</td>\n",
              "      <td>[Children, Drama]</td>\n",
              "    </tr>\n",
              "    <tr>\n",
              "      <th>12</th>\n",
              "      <td>0</td>\n",
              "      <td>0</td>\n",
              "      <td>19</td>\n",
              "      <td>Ace Ventura: When Nature Calls (1995)</td>\n",
              "      <td>[Comedy]</td>\n",
              "    </tr>\n",
              "    <tr>\n",
              "      <th>13</th>\n",
              "      <td>0</td>\n",
              "      <td>0</td>\n",
              "      <td>23</td>\n",
              "      <td>Assassins (1995)</td>\n",
              "      <td>[Action, Crime, Thriller]</td>\n",
              "    </tr>\n",
              "    <tr>\n",
              "      <th>14</th>\n",
              "      <td>0</td>\n",
              "      <td>0</td>\n",
              "      <td>16</td>\n",
              "      <td>Casino (1995)</td>\n",
              "      <td>[Crime, Drama]</td>\n",
              "    </tr>\n",
              "    <tr>\n",
              "      <th>15</th>\n",
              "      <td>0</td>\n",
              "      <td>0</td>\n",
              "      <td>61</td>\n",
              "      <td>Eye for an Eye (1996)</td>\n",
              "      <td>[Drama, Thriller]</td>\n",
              "    </tr>\n",
              "    <tr>\n",
              "      <th>16</th>\n",
              "      <td>0</td>\n",
              "      <td>0</td>\n",
              "      <td>78</td>\n",
              "      <td>Crossing Guard, The (1995)</td>\n",
              "      <td>[Action, Crime, Drama, Thriller]</td>\n",
              "    </tr>\n",
              "    <tr>\n",
              "      <th>17</th>\n",
              "      <td>0</td>\n",
              "      <td>0</td>\n",
              "      <td>40</td>\n",
              "      <td>Cry, the Beloved Country (1995)</td>\n",
              "      <td>[Drama]</td>\n",
              "    </tr>\n",
              "    <tr>\n",
              "      <th>18</th>\n",
              "      <td>0</td>\n",
              "      <td>0</td>\n",
              "      <td>74</td>\n",
              "      <td>Bed of Roses (1996)</td>\n",
              "      <td>[Drama, Romance]</td>\n",
              "    </tr>\n",
              "    <tr>\n",
              "      <th>19</th>\n",
              "      <td>0</td>\n",
              "      <td>0</td>\n",
              "      <td>42</td>\n",
              "      <td>Dead Presidents (1995)</td>\n",
              "      <td>[Action, Crime, Drama]</td>\n",
              "    </tr>\n",
              "    <tr>\n",
              "      <th>20</th>\n",
              "      <td>1</td>\n",
              "      <td>1</td>\n",
              "      <td>20</td>\n",
              "      <td>Money Train (1995)</td>\n",
              "      <td>[Action, Comedy, Crime, Drama, Thriller]</td>\n",
              "    </tr>\n",
              "    <tr>\n",
              "      <th>21</th>\n",
              "      <td>1</td>\n",
              "      <td>1</td>\n",
              "      <td>57</td>\n",
              "      <td>Home for the Holidays (1995)</td>\n",
              "      <td>[Drama]</td>\n",
              "    </tr>\n",
              "    <tr>\n",
              "      <th>22</th>\n",
              "      <td>1</td>\n",
              "      <td>1</td>\n",
              "      <td>73</td>\n",
              "      <td>Misérables, Les (1995)</td>\n",
              "      <td>[Drama, War]</td>\n",
              "    </tr>\n",
              "    <tr>\n",
              "      <th>23</th>\n",
              "      <td>1</td>\n",
              "      <td>1</td>\n",
              "      <td>97</td>\n",
              "      <td>Hate (Haine, La) (1995)</td>\n",
              "      <td>[Crime, Drama]</td>\n",
              "    </tr>\n",
              "    <tr>\n",
              "      <th>24</th>\n",
              "      <td>1</td>\n",
              "      <td>1</td>\n",
              "      <td>70</td>\n",
              "      <td>From Dusk Till Dawn (1996)</td>\n",
              "      <td>[Action, Comedy, Horror, Thriller]</td>\n",
              "    </tr>\n",
              "    <tr>\n",
              "      <th>25</th>\n",
              "      <td>1</td>\n",
              "      <td>1</td>\n",
              "      <td>46</td>\n",
              "      <td>How to Make an American Quilt (1995)</td>\n",
              "      <td>[Drama, Romance]</td>\n",
              "    </tr>\n",
              "    <tr>\n",
              "      <th>26</th>\n",
              "      <td>1</td>\n",
              "      <td>1</td>\n",
              "      <td>25</td>\n",
              "      <td>Leaving Las Vegas (1995)</td>\n",
              "      <td>[Drama, Romance]</td>\n",
              "    </tr>\n",
              "    <tr>\n",
              "      <th>27</th>\n",
              "      <td>1</td>\n",
              "      <td>1</td>\n",
              "      <td>66</td>\n",
              "      <td>Lawnmower Man 2: Beyond Cyberspace (1996)</td>\n",
              "      <td>[Action, Sci-Fi, Thriller]</td>\n",
              "    </tr>\n",
              "    <tr>\n",
              "      <th>28</th>\n",
              "      <td>1</td>\n",
              "      <td>1</td>\n",
              "      <td>2</td>\n",
              "      <td>Jumanji (1995)</td>\n",
              "      <td>[Adventure, Children, Fantasy]</td>\n",
              "    </tr>\n",
              "    <tr>\n",
              "      <th>29</th>\n",
              "      <td>1</td>\n",
              "      <td>1</td>\n",
              "      <td>71</td>\n",
              "      <td>Fair Game (1995)</td>\n",
              "      <td>[Action]</td>\n",
              "    </tr>\n",
              "    <tr>\n",
              "      <th>30</th>\n",
              "      <td>1</td>\n",
              "      <td>1</td>\n",
              "      <td>3</td>\n",
              "      <td>Grumpier Old Men (1995)</td>\n",
              "      <td>[Comedy, Romance]</td>\n",
              "    </tr>\n",
              "    <tr>\n",
              "      <th>31</th>\n",
              "      <td>1</td>\n",
              "      <td>1</td>\n",
              "      <td>99</td>\n",
              "      <td>Heidi Fleiss: Hollywood Madam (1995)</td>\n",
              "      <td>[Documentary]</td>\n",
              "    </tr>\n",
              "    <tr>\n",
              "      <th>32</th>\n",
              "      <td>1</td>\n",
              "      <td>1</td>\n",
              "      <td>60</td>\n",
              "      <td>Indian in the Cupboard, The (1995)</td>\n",
              "      <td>[Adventure, Children, Fantasy]</td>\n",
              "    </tr>\n",
              "    <tr>\n",
              "      <th>33</th>\n",
              "      <td>1</td>\n",
              "      <td>1</td>\n",
              "      <td>52</td>\n",
              "      <td>Mighty Aphrodite (1995)</td>\n",
              "      <td>[Comedy, Drama, Romance]</td>\n",
              "    </tr>\n",
              "    <tr>\n",
              "      <th>34</th>\n",
              "      <td>1</td>\n",
              "      <td>1</td>\n",
              "      <td>84</td>\n",
              "      <td>Last Summer in the Hamptons (1995)</td>\n",
              "      <td>[Comedy, Drama]</td>\n",
              "    </tr>\n",
              "    <tr>\n",
              "      <th>35</th>\n",
              "      <td>1</td>\n",
              "      <td>1</td>\n",
              "      <td>62</td>\n",
              "      <td>Mr. Holland's Opus (1995)</td>\n",
              "      <td>[Drama]</td>\n",
              "    </tr>\n",
              "    <tr>\n",
              "      <th>36</th>\n",
              "      <td>1</td>\n",
              "      <td>1</td>\n",
              "      <td>10</td>\n",
              "      <td>GoldenEye (1995)</td>\n",
              "      <td>[Action, Adventure, Thriller]</td>\n",
              "    </tr>\n",
              "    <tr>\n",
              "      <th>37</th>\n",
              "      <td>1</td>\n",
              "      <td>1</td>\n",
              "      <td>5</td>\n",
              "      <td>Father of the Bride Part II (1995)</td>\n",
              "      <td>[Comedy]</td>\n",
              "    </tr>\n",
              "    <tr>\n",
              "      <th>38</th>\n",
              "      <td>1</td>\n",
              "      <td>1</td>\n",
              "      <td>72</td>\n",
              "      <td>Kicking and Screaming (1995)</td>\n",
              "      <td>[Comedy, Drama]</td>\n",
              "    </tr>\n",
              "    <tr>\n",
              "      <th>39</th>\n",
              "      <td>1</td>\n",
              "      <td>1</td>\n",
              "      <td>21</td>\n",
              "      <td>Get Shorty (1995)</td>\n",
              "      <td>[Comedy, Crime, Thriller]</td>\n",
              "    </tr>\n",
              "    <tr>\n",
              "      <th>40</th>\n",
              "      <td>2</td>\n",
              "      <td>2</td>\n",
              "      <td>45</td>\n",
              "      <td>To Die For (1995)</td>\n",
              "      <td>[Comedy, Drama, Thriller]</td>\n",
              "    </tr>\n",
              "    <tr>\n",
              "      <th>41</th>\n",
              "      <td>2</td>\n",
              "      <td>2</td>\n",
              "      <td>58</td>\n",
              "      <td>Postman, The (Postino, Il) (1994)</td>\n",
              "      <td>[Comedy, Drama, Romance]</td>\n",
              "    </tr>\n",
              "    <tr>\n",
              "      <th>42</th>\n",
              "      <td>2</td>\n",
              "      <td>2</td>\n",
              "      <td>9</td>\n",
              "      <td>Sudden Death (1995)</td>\n",
              "      <td>[Action]</td>\n",
              "    </tr>\n",
              "    <tr>\n",
              "      <th>43</th>\n",
              "      <td>2</td>\n",
              "      <td>2</td>\n",
              "      <td>4</td>\n",
              "      <td>Waiting to Exhale (1995)</td>\n",
              "      <td>[Comedy, Drama, Romance]</td>\n",
              "    </tr>\n",
              "    <tr>\n",
              "      <th>44</th>\n",
              "      <td>2</td>\n",
              "      <td>2</td>\n",
              "      <td>80</td>\n",
              "      <td>White Balloon, The (Badkonake sefid) (1995)</td>\n",
              "      <td>[Children, Drama]</td>\n",
              "    </tr>\n",
              "    <tr>\n",
              "      <th>45</th>\n",
              "      <td>2</td>\n",
              "      <td>2</td>\n",
              "      <td>83</td>\n",
              "      <td>Once Upon a Time... When We Were Colored (1995)</td>\n",
              "      <td>[Drama, Romance]</td>\n",
              "    </tr>\n",
              "    <tr>\n",
              "      <th>46</th>\n",
              "      <td>2</td>\n",
              "      <td>2</td>\n",
              "      <td>86</td>\n",
              "      <td>White Squall (1996)</td>\n",
              "      <td>[Action, Adventure, Drama]</td>\n",
              "    </tr>\n",
              "    <tr>\n",
              "      <th>47</th>\n",
              "      <td>2</td>\n",
              "      <td>2</td>\n",
              "      <td>1</td>\n",
              "      <td>Toy Story (1995)</td>\n",
              "      <td>[Adventure, Animation, Children, Comedy, Fantasy]</td>\n",
              "    </tr>\n",
              "    <tr>\n",
              "      <th>48</th>\n",
              "      <td>2</td>\n",
              "      <td>2</td>\n",
              "      <td>17</td>\n",
              "      <td>Sense and Sensibility (1995)</td>\n",
              "      <td>[Drama, Romance]</td>\n",
              "    </tr>\n",
              "    <tr>\n",
              "      <th>49</th>\n",
              "      <td>2</td>\n",
              "      <td>2</td>\n",
              "      <td>30</td>\n",
              "      <td>Shanghai Triad (Yao a yao yao dao waipo qiao) ...</td>\n",
              "      <td>[Crime, Drama]</td>\n",
              "    </tr>\n",
              "    <tr>\n",
              "      <th>50</th>\n",
              "      <td>2</td>\n",
              "      <td>2</td>\n",
              "      <td>24</td>\n",
              "      <td>Powder (1995)</td>\n",
              "      <td>[Drama, Sci-Fi]</td>\n",
              "    </tr>\n",
              "    <tr>\n",
              "      <th>51</th>\n",
              "      <td>2</td>\n",
              "      <td>2</td>\n",
              "      <td>93</td>\n",
              "      <td>Vampire in Brooklyn (1995)</td>\n",
              "      <td>[Comedy, Horror, Romance]</td>\n",
              "    </tr>\n",
              "    <tr>\n",
              "      <th>52</th>\n",
              "      <td>2</td>\n",
              "      <td>2</td>\n",
              "      <td>14</td>\n",
              "      <td>Nixon (1995)</td>\n",
              "      <td>[Drama]</td>\n",
              "    </tr>\n",
              "    <tr>\n",
              "      <th>53</th>\n",
              "      <td>2</td>\n",
              "      <td>2</td>\n",
              "      <td>49</td>\n",
              "      <td>When Night Is Falling (1995)</td>\n",
              "      <td>[Drama, Romance]</td>\n",
              "    </tr>\n",
              "    <tr>\n",
              "      <th>54</th>\n",
              "      <td>2</td>\n",
              "      <td>2</td>\n",
              "      <td>27</td>\n",
              "      <td>Now and Then (1995)</td>\n",
              "      <td>[Children, Drama]</td>\n",
              "    </tr>\n",
              "    <tr>\n",
              "      <th>55</th>\n",
              "      <td>2</td>\n",
              "      <td>2</td>\n",
              "      <td>76</td>\n",
              "      <td>Screamers (1995)</td>\n",
              "      <td>[Action, Sci-Fi, Thriller]</td>\n",
              "    </tr>\n",
              "    <tr>\n",
              "      <th>56</th>\n",
              "      <td>2</td>\n",
              "      <td>2</td>\n",
              "      <td>7</td>\n",
              "      <td>Sabrina (1995)</td>\n",
              "      <td>[Comedy, Romance]</td>\n",
              "    </tr>\n",
              "    <tr>\n",
              "      <th>57</th>\n",
              "      <td>2</td>\n",
              "      <td>2</td>\n",
              "      <td>98</td>\n",
              "      <td>Shopping (1994)</td>\n",
              "      <td>[Action, Thriller]</td>\n",
              "    </tr>\n",
              "    <tr>\n",
              "      <th>58</th>\n",
              "      <td>2</td>\n",
              "      <td>2</td>\n",
              "      <td>47</td>\n",
              "      <td>Seven (a.k.a. Se7en) (1995)</td>\n",
              "      <td>[Mystery, Thriller]</td>\n",
              "    </tr>\n",
              "    <tr>\n",
              "      <th>59</th>\n",
              "      <td>2</td>\n",
              "      <td>2</td>\n",
              "      <td>81</td>\n",
              "      <td>Things to Do in Denver When You're Dead (1995)</td>\n",
              "      <td>[Crime, Drama, Romance]</td>\n",
              "    </tr>\n",
              "  </tbody>\n",
              "</table>\n",
              "</div>"
            ],
            "application/vnd.google.colaboratory.module+javascript": "\n      import \"https://ssl.gstatic.com/colaboratory/data_table/e523c247d1e24a05/data_table.js\";\n\n      const table = window.createDataTable({\n        data: [[{\n            'v': 0,\n            'f': \"0\",\n        },\n{\n            'v': 0,\n            'f': \"0\",\n        },\n{\n            'v': 94,\n            'f': \"94\",\n        },\n\"Beautiful Girls (1996)\",\n[\"Comedy\", \"Drama\", \"Romance\"]],\n [{\n            'v': 0,\n            'f': \"0\",\n        },\n{\n            'v': 0,\n            'f': \"0\",\n        },\n{\n            'v': 54,\n            'f': \"54\",\n        },\n\"Big Green, The (1995)\",\n[\"Children\", \"Comedy\"]],\n [{\n            'v': 0,\n            'f': \"0\",\n        },\n{\n            'v': 0,\n            'f': \"0\",\n        },\n{\n            'v': 87,\n            'f': \"87\",\n        },\n\"Dunston Checks In (1996)\",\n[\"Children\", \"Comedy\"]],\n [{\n            'v': 0,\n            'f': \"0\",\n        },\n{\n            'v': 0,\n            'f': \"0\",\n        },\n{\n            'v': 88,\n            'f': \"88\",\n        },\n\"Black Sheep (1996)\",\n[\"Comedy\"]],\n [{\n            'v': 0,\n            'f': \"0\",\n        },\n{\n            'v': 0,\n            'f': \"0\",\n        },\n{\n            'v': 12,\n            'f': \"12\",\n        },\n\"Dracula: Dead and Loving It (1995)\",\n[\"Comedy\", \"Horror\"]],\n [{\n            'v': 0,\n            'f': \"0\",\n        },\n{\n            'v': 0,\n            'f': \"0\",\n        },\n{\n            'v': 39,\n            'f': \"39\",\n        },\n\"Clueless (1995)\",\n[\"Comedy\", \"Romance\"]],\n [{\n            'v': 0,\n            'f': \"0\",\n        },\n{\n            'v': 0,\n            'f': \"0\",\n        },\n{\n            'v': 35,\n            'f': \"35\",\n        },\n\"Carrington (1995)\",\n[\"Drama\", \"Romance\"]],\n [{\n            'v': 0,\n            'f': \"0\",\n        },\n{\n            'v': 0,\n            'f': \"0\",\n        },\n{\n            'v': 13,\n            'f': \"13\",\n        },\n\"Balto (1995)\",\n[\"Adventure\", \"Animation\", \"Children\"]],\n [{\n            'v': 0,\n            'f': \"0\",\n        },\n{\n            'v': 0,\n            'f': \"0\",\n        },\n{\n            'v': 22,\n            'f': \"22\",\n        },\n\"Copycat (1995)\",\n[\"Crime\", \"Drama\", \"Horror\", \"Mystery\", \"Thriller\"]],\n [{\n            'v': 0,\n            'f': \"0\",\n        },\n{\n            'v': 0,\n            'f': \"0\",\n        },\n{\n            'v': 36,\n            'f': \"36\",\n        },\n\"Dead Man Walking (1995)\",\n[\"Crime\", \"Drama\"]],\n [{\n            'v': 0,\n            'f': \"0\",\n        },\n{\n            'v': 0,\n            'f': \"0\",\n        },\n{\n            'v': 59,\n            'f': \"59\",\n        },\n\"Confessional, The (Confessionnal, Le) (1995)\",\n[\"Drama\", \"Mystery\"]],\n [{\n            'v': 0,\n            'f': \"0\",\n        },\n{\n            'v': 0,\n            'f': \"0\",\n        },\n{\n            'v': 34,\n            'f': \"34\",\n        },\n\"Babe (1995)\",\n[\"Children\", \"Drama\"]],\n [{\n            'v': 0,\n            'f': \"0\",\n        },\n{\n            'v': 0,\n            'f': \"0\",\n        },\n{\n            'v': 19,\n            'f': \"19\",\n        },\n\"Ace Ventura: When Nature Calls (1995)\",\n[\"Comedy\"]],\n [{\n            'v': 0,\n            'f': \"0\",\n        },\n{\n            'v': 0,\n            'f': \"0\",\n        },\n{\n            'v': 23,\n            'f': \"23\",\n        },\n\"Assassins (1995)\",\n[\"Action\", \"Crime\", \"Thriller\"]],\n [{\n            'v': 0,\n            'f': \"0\",\n        },\n{\n            'v': 0,\n            'f': \"0\",\n        },\n{\n            'v': 16,\n            'f': \"16\",\n        },\n\"Casino (1995)\",\n[\"Crime\", \"Drama\"]],\n [{\n            'v': 0,\n            'f': \"0\",\n        },\n{\n            'v': 0,\n            'f': \"0\",\n        },\n{\n            'v': 61,\n            'f': \"61\",\n        },\n\"Eye for an Eye (1996)\",\n[\"Drama\", \"Thriller\"]],\n [{\n            'v': 0,\n            'f': \"0\",\n        },\n{\n            'v': 0,\n            'f': \"0\",\n        },\n{\n            'v': 78,\n            'f': \"78\",\n        },\n\"Crossing Guard, The (1995)\",\n[\"Action\", \"Crime\", \"Drama\", \"Thriller\"]],\n [{\n            'v': 0,\n            'f': \"0\",\n        },\n{\n            'v': 0,\n            'f': \"0\",\n        },\n{\n            'v': 40,\n            'f': \"40\",\n        },\n\"Cry, the Beloved Country (1995)\",\n[\"Drama\"]],\n [{\n            'v': 0,\n            'f': \"0\",\n        },\n{\n            'v': 0,\n            'f': \"0\",\n        },\n{\n            'v': 74,\n            'f': \"74\",\n        },\n\"Bed of Roses (1996)\",\n[\"Drama\", \"Romance\"]],\n [{\n            'v': 0,\n            'f': \"0\",\n        },\n{\n            'v': 0,\n            'f': \"0\",\n        },\n{\n            'v': 42,\n            'f': \"42\",\n        },\n\"Dead Presidents (1995)\",\n[\"Action\", \"Crime\", \"Drama\"]],\n [{\n            'v': 1,\n            'f': \"1\",\n        },\n{\n            'v': 1,\n            'f': \"1\",\n        },\n{\n            'v': 20,\n            'f': \"20\",\n        },\n\"Money Train (1995)\",\n[\"Action\", \"Comedy\", \"Crime\", \"Drama\", \"Thriller\"]],\n [{\n            'v': 1,\n            'f': \"1\",\n        },\n{\n            'v': 1,\n            'f': \"1\",\n        },\n{\n            'v': 57,\n            'f': \"57\",\n        },\n\"Home for the Holidays (1995)\",\n[\"Drama\"]],\n [{\n            'v': 1,\n            'f': \"1\",\n        },\n{\n            'v': 1,\n            'f': \"1\",\n        },\n{\n            'v': 73,\n            'f': \"73\",\n        },\n\"Mis\\u00e9rables, Les (1995)\",\n[\"Drama\", \"War\"]],\n [{\n            'v': 1,\n            'f': \"1\",\n        },\n{\n            'v': 1,\n            'f': \"1\",\n        },\n{\n            'v': 97,\n            'f': \"97\",\n        },\n\"Hate (Haine, La) (1995)\",\n[\"Crime\", \"Drama\"]],\n [{\n            'v': 1,\n            'f': \"1\",\n        },\n{\n            'v': 1,\n            'f': \"1\",\n        },\n{\n            'v': 70,\n            'f': \"70\",\n        },\n\"From Dusk Till Dawn (1996)\",\n[\"Action\", \"Comedy\", \"Horror\", \"Thriller\"]],\n [{\n            'v': 1,\n            'f': \"1\",\n        },\n{\n            'v': 1,\n            'f': \"1\",\n        },\n{\n            'v': 46,\n            'f': \"46\",\n        },\n\"How to Make an American Quilt (1995)\",\n[\"Drama\", \"Romance\"]],\n [{\n            'v': 1,\n            'f': \"1\",\n        },\n{\n            'v': 1,\n            'f': \"1\",\n        },\n{\n            'v': 25,\n            'f': \"25\",\n        },\n\"Leaving Las Vegas (1995)\",\n[\"Drama\", \"Romance\"]],\n [{\n            'v': 1,\n            'f': \"1\",\n        },\n{\n            'v': 1,\n            'f': \"1\",\n        },\n{\n            'v': 66,\n            'f': \"66\",\n        },\n\"Lawnmower Man 2: Beyond Cyberspace (1996)\",\n[\"Action\", \"Sci-Fi\", \"Thriller\"]],\n [{\n            'v': 1,\n            'f': \"1\",\n        },\n{\n            'v': 1,\n            'f': \"1\",\n        },\n{\n            'v': 2,\n            'f': \"2\",\n        },\n\"Jumanji (1995)\",\n[\"Adventure\", \"Children\", \"Fantasy\"]],\n [{\n            'v': 1,\n            'f': \"1\",\n        },\n{\n            'v': 1,\n            'f': \"1\",\n        },\n{\n            'v': 71,\n            'f': \"71\",\n        },\n\"Fair Game (1995)\",\n[\"Action\"]],\n [{\n            'v': 1,\n            'f': \"1\",\n        },\n{\n            'v': 1,\n            'f': \"1\",\n        },\n{\n            'v': 3,\n            'f': \"3\",\n        },\n\"Grumpier Old Men (1995)\",\n[\"Comedy\", \"Romance\"]],\n [{\n            'v': 1,\n            'f': \"1\",\n        },\n{\n            'v': 1,\n            'f': \"1\",\n        },\n{\n            'v': 99,\n            'f': \"99\",\n        },\n\"Heidi Fleiss: Hollywood Madam (1995)\",\n[\"Documentary\"]],\n [{\n            'v': 1,\n            'f': \"1\",\n        },\n{\n            'v': 1,\n            'f': \"1\",\n        },\n{\n            'v': 60,\n            'f': \"60\",\n        },\n\"Indian in the Cupboard, The (1995)\",\n[\"Adventure\", \"Children\", \"Fantasy\"]],\n [{\n            'v': 1,\n            'f': \"1\",\n        },\n{\n            'v': 1,\n            'f': \"1\",\n        },\n{\n            'v': 52,\n            'f': \"52\",\n        },\n\"Mighty Aphrodite (1995)\",\n[\"Comedy\", \"Drama\", \"Romance\"]],\n [{\n            'v': 1,\n            'f': \"1\",\n        },\n{\n            'v': 1,\n            'f': \"1\",\n        },\n{\n            'v': 84,\n            'f': \"84\",\n        },\n\"Last Summer in the Hamptons (1995)\",\n[\"Comedy\", \"Drama\"]],\n [{\n            'v': 1,\n            'f': \"1\",\n        },\n{\n            'v': 1,\n            'f': \"1\",\n        },\n{\n            'v': 62,\n            'f': \"62\",\n        },\n\"Mr. Holland's Opus (1995)\",\n[\"Drama\"]],\n [{\n            'v': 1,\n            'f': \"1\",\n        },\n{\n            'v': 1,\n            'f': \"1\",\n        },\n{\n            'v': 10,\n            'f': \"10\",\n        },\n\"GoldenEye (1995)\",\n[\"Action\", \"Adventure\", \"Thriller\"]],\n [{\n            'v': 1,\n            'f': \"1\",\n        },\n{\n            'v': 1,\n            'f': \"1\",\n        },\n{\n            'v': 5,\n            'f': \"5\",\n        },\n\"Father of the Bride Part II (1995)\",\n[\"Comedy\"]],\n [{\n            'v': 1,\n            'f': \"1\",\n        },\n{\n            'v': 1,\n            'f': \"1\",\n        },\n{\n            'v': 72,\n            'f': \"72\",\n        },\n\"Kicking and Screaming (1995)\",\n[\"Comedy\", \"Drama\"]],\n [{\n            'v': 1,\n            'f': \"1\",\n        },\n{\n            'v': 1,\n            'f': \"1\",\n        },\n{\n            'v': 21,\n            'f': \"21\",\n        },\n\"Get Shorty (1995)\",\n[\"Comedy\", \"Crime\", \"Thriller\"]],\n [{\n            'v': 2,\n            'f': \"2\",\n        },\n{\n            'v': 2,\n            'f': \"2\",\n        },\n{\n            'v': 45,\n            'f': \"45\",\n        },\n\"To Die For (1995)\",\n[\"Comedy\", \"Drama\", \"Thriller\"]],\n [{\n            'v': 2,\n            'f': \"2\",\n        },\n{\n            'v': 2,\n            'f': \"2\",\n        },\n{\n            'v': 58,\n            'f': \"58\",\n        },\n\"Postman, The (Postino, Il) (1994)\",\n[\"Comedy\", \"Drama\", \"Romance\"]],\n [{\n            'v': 2,\n            'f': \"2\",\n        },\n{\n            'v': 2,\n            'f': \"2\",\n        },\n{\n            'v': 9,\n            'f': \"9\",\n        },\n\"Sudden Death (1995)\",\n[\"Action\"]],\n [{\n            'v': 2,\n            'f': \"2\",\n        },\n{\n            'v': 2,\n            'f': \"2\",\n        },\n{\n            'v': 4,\n            'f': \"4\",\n        },\n\"Waiting to Exhale (1995)\",\n[\"Comedy\", \"Drama\", \"Romance\"]],\n [{\n            'v': 2,\n            'f': \"2\",\n        },\n{\n            'v': 2,\n            'f': \"2\",\n        },\n{\n            'v': 80,\n            'f': \"80\",\n        },\n\"White Balloon, The (Badkonake sefid) (1995)\",\n[\"Children\", \"Drama\"]],\n [{\n            'v': 2,\n            'f': \"2\",\n        },\n{\n            'v': 2,\n            'f': \"2\",\n        },\n{\n            'v': 83,\n            'f': \"83\",\n        },\n\"Once Upon a Time... When We Were Colored (1995)\",\n[\"Drama\", \"Romance\"]],\n [{\n            'v': 2,\n            'f': \"2\",\n        },\n{\n            'v': 2,\n            'f': \"2\",\n        },\n{\n            'v': 86,\n            'f': \"86\",\n        },\n\"White Squall (1996)\",\n[\"Action\", \"Adventure\", \"Drama\"]],\n [{\n            'v': 2,\n            'f': \"2\",\n        },\n{\n            'v': 2,\n            'f': \"2\",\n        },\n{\n            'v': 1,\n            'f': \"1\",\n        },\n\"Toy Story (1995)\",\n[\"Adventure\", \"Animation\", \"Children\", \"Comedy\", \"Fantasy\"]],\n [{\n            'v': 2,\n            'f': \"2\",\n        },\n{\n            'v': 2,\n            'f': \"2\",\n        },\n{\n            'v': 17,\n            'f': \"17\",\n        },\n\"Sense and Sensibility (1995)\",\n[\"Drama\", \"Romance\"]],\n [{\n            'v': 2,\n            'f': \"2\",\n        },\n{\n            'v': 2,\n            'f': \"2\",\n        },\n{\n            'v': 30,\n            'f': \"30\",\n        },\n\"Shanghai Triad (Yao a yao yao dao waipo qiao) (1995)\",\n[\"Crime\", \"Drama\"]],\n [{\n            'v': 2,\n            'f': \"2\",\n        },\n{\n            'v': 2,\n            'f': \"2\",\n        },\n{\n            'v': 24,\n            'f': \"24\",\n        },\n\"Powder (1995)\",\n[\"Drama\", \"Sci-Fi\"]],\n [{\n            'v': 2,\n            'f': \"2\",\n        },\n{\n            'v': 2,\n            'f': \"2\",\n        },\n{\n            'v': 93,\n            'f': \"93\",\n        },\n\"Vampire in Brooklyn (1995)\",\n[\"Comedy\", \"Horror\", \"Romance\"]],\n [{\n            'v': 2,\n            'f': \"2\",\n        },\n{\n            'v': 2,\n            'f': \"2\",\n        },\n{\n            'v': 14,\n            'f': \"14\",\n        },\n\"Nixon (1995)\",\n[\"Drama\"]],\n [{\n            'v': 2,\n            'f': \"2\",\n        },\n{\n            'v': 2,\n            'f': \"2\",\n        },\n{\n            'v': 49,\n            'f': \"49\",\n        },\n\"When Night Is Falling (1995)\",\n[\"Drama\", \"Romance\"]],\n [{\n            'v': 2,\n            'f': \"2\",\n        },\n{\n            'v': 2,\n            'f': \"2\",\n        },\n{\n            'v': 27,\n            'f': \"27\",\n        },\n\"Now and Then (1995)\",\n[\"Children\", \"Drama\"]],\n [{\n            'v': 2,\n            'f': \"2\",\n        },\n{\n            'v': 2,\n            'f': \"2\",\n        },\n{\n            'v': 76,\n            'f': \"76\",\n        },\n\"Screamers (1995)\",\n[\"Action\", \"Sci-Fi\", \"Thriller\"]],\n [{\n            'v': 2,\n            'f': \"2\",\n        },\n{\n            'v': 2,\n            'f': \"2\",\n        },\n{\n            'v': 7,\n            'f': \"7\",\n        },\n\"Sabrina (1995)\",\n[\"Comedy\", \"Romance\"]],\n [{\n            'v': 2,\n            'f': \"2\",\n        },\n{\n            'v': 2,\n            'f': \"2\",\n        },\n{\n            'v': 98,\n            'f': \"98\",\n        },\n\"Shopping (1994)\",\n[\"Action\", \"Thriller\"]],\n [{\n            'v': 2,\n            'f': \"2\",\n        },\n{\n            'v': 2,\n            'f': \"2\",\n        },\n{\n            'v': 47,\n            'f': \"47\",\n        },\n\"Seven (a.k.a. Se7en) (1995)\",\n[\"Mystery\", \"Thriller\"]],\n [{\n            'v': 2,\n            'f': \"2\",\n        },\n{\n            'v': 2,\n            'f': \"2\",\n        },\n{\n            'v': 81,\n            'f': \"81\",\n        },\n\"Things to Do in Denver When You're Dead (1995)\",\n[\"Crime\", \"Drama\", \"Romance\"]]],\n        columns: [[\"number\", \"partID\"], [\"number\", \"p\"], [\"number\", \"nF\"], [\"string\", \"titre\"], [\"string\", \"genres\"]],\n        columnOptions: [],\n        rowsPerPage: 10,\n        helpUrl: \"https://colab.research.google.com/notebooks/data_table.ipynb\",\n        suppressOutputScrolling: true,\n        minimumWidth: undefined,\n      });\n\n      function appendQuickchartButton(parentElement) {\n        let quickchartButtonContainerElement = document.createElement('div');\n        quickchartButtonContainerElement.innerHTML = `\n<div id=\"df-256ee744-7bcb-43e5-a0ba-ba3b10b1eb69\">\n  <button class=\"colab-df-quickchart\" onclick=\"quickchart('df-256ee744-7bcb-43e5-a0ba-ba3b10b1eb69')\"\n            title=\"Suggest charts\"\n            style=\"display:none;\">\n    \n<svg xmlns=\"http://www.w3.org/2000/svg\" height=\"24px\"viewBox=\"0 0 24 24\"\n     width=\"24px\">\n    <g>\n        <path d=\"M19 3H5c-1.1 0-2 .9-2 2v14c0 1.1.9 2 2 2h14c1.1 0 2-.9 2-2V5c0-1.1-.9-2-2-2zM9 17H7v-7h2v7zm4 0h-2V7h2v10zm4 0h-2v-4h2v4z\"/>\n    </g>\n</svg>\n  </button>\n  \n<style>\n  .colab-df-quickchart {\n      --bg-color: #E8F0FE;\n      --fill-color: #1967D2;\n      --hover-bg-color: #E2EBFA;\n      --hover-fill-color: #174EA6;\n      --disabled-fill-color: #AAA;\n      --disabled-bg-color: #DDD;\n  }\n\n  [theme=dark] .colab-df-quickchart {\n      --bg-color: #3B4455;\n      --fill-color: #D2E3FC;\n      --hover-bg-color: #434B5C;\n      --hover-fill-color: #FFFFFF;\n      --disabled-bg-color: #3B4455;\n      --disabled-fill-color: #666;\n  }\n\n  .colab-df-quickchart {\n    background-color: var(--bg-color);\n    border: none;\n    border-radius: 50%;\n    cursor: pointer;\n    display: none;\n    fill: var(--fill-color);\n    height: 32px;\n    padding: 0;\n    width: 32px;\n  }\n\n  .colab-df-quickchart:hover {\n    background-color: var(--hover-bg-color);\n    box-shadow: 0 1px 2px rgba(60, 64, 67, 0.3), 0 1px 3px 1px rgba(60, 64, 67, 0.15);\n    fill: var(--button-hover-fill-color);\n  }\n\n  .colab-df-quickchart-complete:disabled,\n  .colab-df-quickchart-complete:disabled:hover {\n    background-color: var(--disabled-bg-color);\n    fill: var(--disabled-fill-color);\n    box-shadow: none;\n  }\n\n  .colab-df-spinner {\n    border: 2px solid var(--fill-color);\n    border-color: transparent;\n    border-bottom-color: var(--fill-color);\n    animation:\n      spin 1s steps(1) infinite;\n  }\n\n  @keyframes spin {\n    0% {\n      border-color: transparent;\n      border-bottom-color: var(--fill-color);\n      border-left-color: var(--fill-color);\n    }\n    20% {\n      border-color: transparent;\n      border-left-color: var(--fill-color);\n      border-top-color: var(--fill-color);\n    }\n    30% {\n      border-color: transparent;\n      border-left-color: var(--fill-color);\n      border-top-color: var(--fill-color);\n      border-right-color: var(--fill-color);\n    }\n    40% {\n      border-color: transparent;\n      border-right-color: var(--fill-color);\n      border-top-color: var(--fill-color);\n    }\n    60% {\n      border-color: transparent;\n      border-right-color: var(--fill-color);\n    }\n    80% {\n      border-color: transparent;\n      border-right-color: var(--fill-color);\n      border-bottom-color: var(--fill-color);\n    }\n    90% {\n      border-color: transparent;\n      border-bottom-color: var(--fill-color);\n    }\n  }\n</style>\n\n  <script>\n    async function quickchart(key) {\n      const quickchartButtonEl =\n        document.querySelector('#' + key + ' button');\n      quickchartButtonEl.disabled = true;  // To prevent multiple clicks.\n      quickchartButtonEl.classList.add('colab-df-spinner');\n      try {\n        const charts = await google.colab.kernel.invokeFunction(\n            'suggestCharts', [key], {});\n      } catch (error) {\n        console.error('Error during call to suggestCharts:', error);\n      }\n      quickchartButtonEl.classList.remove('colab-df-spinner');\n      quickchartButtonEl.classList.add('colab-df-quickchart-complete');\n    }\n    (() => {\n      let quickchartButtonEl =\n        document.querySelector('#df-256ee744-7bcb-43e5-a0ba-ba3b10b1eb69 button');\n      quickchartButtonEl.style.display =\n        google.colab.kernel.accessAllowed ? 'block' : 'none';\n    })();\n  </script>\n</div>`;\n        parentElement.appendChild(quickchartButtonContainerElement);\n      }\n\n      appendQuickchartButton(table);\n    ",
            "text/plain": [
              "<google.colab.data_table.DataTable object>"
            ]
          },
          "metadata": {},
          "execution_count": 56
        }
      ]
    },
    {
      "cell_type": "markdown",
      "source": [
        "## Question 4 : Regrouper et trier\n",
        "\n",
        "Calculer le nombre de notes par année dans l'ordre croissant des années."
      ],
      "metadata": {
        "id": "hRLvbIAO3fD4"
      }
    },
    {
      "cell_type": "markdown",
      "source": [
        "## Question 5 : top fréquence\n",
        "\n",
        "Définir une fonction qui affiche les 5 mots les plus fréquents dans les titres"
      ],
      "metadata": {
        "id": "wOCWDh_-3fJy"
      }
    },
    {
      "cell_type": "markdown",
      "source": [
        "**Indications**\n",
        "\n",
        "*   Découper le titre en liste de mots puis compter la fréquence des mots dans chaque partition. On obtient des couples (mot, fréquence)\n",
        "*   Repartitionner les couples (mot, fréquence) en fonction d'un mot\n",
        "*   Additionner les fréquences pour chaque mot et les trier pour ne garder que les 5 plus fréquents.\n",
        "*   Transférer vers l'application les 5 mots plus fréquents de chaque partition puis fusionner les listes pour connaitre les 5 mots globalement les plus fréquents.\n",
        "\n",
        "Exemple de méthode non scalable à éviter car elle génère **beaucoup de transferts**  :\n",
        "*   Découper le titre en liste de mots pour obtenir des couples (film,mot)\n",
        "*   Repartitionner les données en fonction d'un mot du titre : attention, les données repartionnées sont très volumineuses.\n",
        "*   Compter la frequence des mots dans chaque partition\n",
        "\n"
      ],
      "metadata": {
        "id": "wNrRoCSe_jO9"
      }
    },
    {
      "cell_type": "code",
      "source": [
        "import re\n",
        "\n",
        "def split_title(titre):\n",
        "    titre = re.sub(r'[(),.:;!?0-9]', ' ', titre.lower()) # Supprimer les ponctuations et les chiffres\n",
        "    titre = re.sub(r'\\s+', ' ', titre) # Suppression des espaces supplémentaires\n",
        "    return titre.split()\n",
        "# Découper le titre en liste de mots\n",
        "films_split_titre = films_extrait.rdd.map(lambda x: (x.nF, split_title(x.titre))).toDF(['nF', 'word_list'])\n",
        "showPartitions(films_split_titre, 15, display_per_partition=False)"
      ],
      "metadata": {
        "colab": {
          "base_uri": "https://localhost:8080/",
          "height": 340
        },
        "id": "ISdI6fgWzhEd",
        "outputId": "b7e66653-43e3-43ee-fe6a-0bc6177be950"
      },
      "execution_count": 57,
      "outputs": [
        {
          "output_type": "execute_result",
          "data": {
            "text/html": [
              "<div>\n",
              "<style scoped>\n",
              "    .dataframe tbody tr th:only-of-type {\n",
              "        vertical-align: middle;\n",
              "    }\n",
              "\n",
              "    .dataframe tbody tr th {\n",
              "        vertical-align: top;\n",
              "    }\n",
              "\n",
              "    .dataframe thead th {\n",
              "        text-align: right;\n",
              "    }\n",
              "</style>\n",
              "<table border=\"1\" class=\"dataframe\">\n",
              "  <thead>\n",
              "    <tr style=\"text-align: right;\">\n",
              "      <th></th>\n",
              "      <th>partID</th>\n",
              "      <th>nF</th>\n",
              "      <th>word_list</th>\n",
              "    </tr>\n",
              "  </thead>\n",
              "  <tbody>\n",
              "    <tr>\n",
              "      <th>0</th>\n",
              "      <td>0</td>\n",
              "      <td>94</td>\n",
              "      <td>[beautiful, girls]</td>\n",
              "    </tr>\n",
              "    <tr>\n",
              "      <th>1</th>\n",
              "      <td>0</td>\n",
              "      <td>45</td>\n",
              "      <td>[to, die, for]</td>\n",
              "    </tr>\n",
              "    <tr>\n",
              "      <th>2</th>\n",
              "      <td>0</td>\n",
              "      <td>58</td>\n",
              "      <td>[postman, the, postino, il]</td>\n",
              "    </tr>\n",
              "    <tr>\n",
              "      <th>3</th>\n",
              "      <td>0</td>\n",
              "      <td>54</td>\n",
              "      <td>[big, green, the]</td>\n",
              "    </tr>\n",
              "    <tr>\n",
              "      <th>4</th>\n",
              "      <td>0</td>\n",
              "      <td>9</td>\n",
              "      <td>[sudden, death]</td>\n",
              "    </tr>\n",
              "    <tr>\n",
              "      <th>5</th>\n",
              "      <td>0</td>\n",
              "      <td>4</td>\n",
              "      <td>[waiting, to, exhale]</td>\n",
              "    </tr>\n",
              "    <tr>\n",
              "      <th>6</th>\n",
              "      <td>0</td>\n",
              "      <td>80</td>\n",
              "      <td>[white, balloon, the, badkonake, sefid]</td>\n",
              "    </tr>\n",
              "    <tr>\n",
              "      <th>7</th>\n",
              "      <td>0</td>\n",
              "      <td>87</td>\n",
              "      <td>[dunston, checks, in]</td>\n",
              "    </tr>\n",
              "    <tr>\n",
              "      <th>8</th>\n",
              "      <td>0</td>\n",
              "      <td>88</td>\n",
              "      <td>[black, sheep]</td>\n",
              "    </tr>\n",
              "    <tr>\n",
              "      <th>9</th>\n",
              "      <td>0</td>\n",
              "      <td>20</td>\n",
              "      <td>[money, train]</td>\n",
              "    </tr>\n",
              "    <tr>\n",
              "      <th>10</th>\n",
              "      <td>0</td>\n",
              "      <td>83</td>\n",
              "      <td>[once, upon, a, time, when, we, were, colored]</td>\n",
              "    </tr>\n",
              "    <tr>\n",
              "      <th>11</th>\n",
              "      <td>0</td>\n",
              "      <td>57</td>\n",
              "      <td>[home, for, the, holidays]</td>\n",
              "    </tr>\n",
              "    <tr>\n",
              "      <th>12</th>\n",
              "      <td>0</td>\n",
              "      <td>73</td>\n",
              "      <td>[misérables, les]</td>\n",
              "    </tr>\n",
              "    <tr>\n",
              "      <th>13</th>\n",
              "      <td>0</td>\n",
              "      <td>12</td>\n",
              "      <td>[dracula, dead, and, loving, it]</td>\n",
              "    </tr>\n",
              "    <tr>\n",
              "      <th>14</th>\n",
              "      <td>0</td>\n",
              "      <td>39</td>\n",
              "      <td>[clueless]</td>\n",
              "    </tr>\n",
              "    <tr>\n",
              "      <th>15</th>\n",
              "      <td>1</td>\n",
              "      <td>14</td>\n",
              "      <td>[nixon]</td>\n",
              "    </tr>\n",
              "    <tr>\n",
              "      <th>16</th>\n",
              "      <td>1</td>\n",
              "      <td>71</td>\n",
              "      <td>[fair, game]</td>\n",
              "    </tr>\n",
              "    <tr>\n",
              "      <th>17</th>\n",
              "      <td>1</td>\n",
              "      <td>49</td>\n",
              "      <td>[when, night, is, falling]</td>\n",
              "    </tr>\n",
              "    <tr>\n",
              "      <th>18</th>\n",
              "      <td>1</td>\n",
              "      <td>27</td>\n",
              "      <td>[now, and, then]</td>\n",
              "    </tr>\n",
              "    <tr>\n",
              "      <th>19</th>\n",
              "      <td>1</td>\n",
              "      <td>59</td>\n",
              "      <td>[confessional, the, confessionnal, le]</td>\n",
              "    </tr>\n",
              "    <tr>\n",
              "      <th>20</th>\n",
              "      <td>1</td>\n",
              "      <td>3</td>\n",
              "      <td>[grumpier, old, men]</td>\n",
              "    </tr>\n",
              "    <tr>\n",
              "      <th>21</th>\n",
              "      <td>1</td>\n",
              "      <td>34</td>\n",
              "      <td>[babe]</td>\n",
              "    </tr>\n",
              "    <tr>\n",
              "      <th>22</th>\n",
              "      <td>1</td>\n",
              "      <td>19</td>\n",
              "      <td>[ace, ventura, when, nature, calls]</td>\n",
              "    </tr>\n",
              "    <tr>\n",
              "      <th>23</th>\n",
              "      <td>1</td>\n",
              "      <td>99</td>\n",
              "      <td>[heidi, fleiss, hollywood, madam]</td>\n",
              "    </tr>\n",
              "    <tr>\n",
              "      <th>24</th>\n",
              "      <td>1</td>\n",
              "      <td>23</td>\n",
              "      <td>[assassins]</td>\n",
              "    </tr>\n",
              "    <tr>\n",
              "      <th>25</th>\n",
              "      <td>1</td>\n",
              "      <td>60</td>\n",
              "      <td>[indian, in, the, cupboard, the]</td>\n",
              "    </tr>\n",
              "    <tr>\n",
              "      <th>26</th>\n",
              "      <td>1</td>\n",
              "      <td>52</td>\n",
              "      <td>[mighty, aphrodite]</td>\n",
              "    </tr>\n",
              "    <tr>\n",
              "      <th>27</th>\n",
              "      <td>1</td>\n",
              "      <td>84</td>\n",
              "      <td>[last, summer, in, the, hamptons]</td>\n",
              "    </tr>\n",
              "    <tr>\n",
              "      <th>28</th>\n",
              "      <td>1</td>\n",
              "      <td>76</td>\n",
              "      <td>[screamers]</td>\n",
              "    </tr>\n",
              "    <tr>\n",
              "      <th>29</th>\n",
              "      <td>1</td>\n",
              "      <td>7</td>\n",
              "      <td>[sabrina]</td>\n",
              "    </tr>\n",
              "    <tr>\n",
              "      <th>30</th>\n",
              "      <td>2</td>\n",
              "      <td>72</td>\n",
              "      <td>[kicking, and, screaming]</td>\n",
              "    </tr>\n",
              "    <tr>\n",
              "      <th>31</th>\n",
              "      <td>2</td>\n",
              "      <td>21</td>\n",
              "      <td>[get, shorty]</td>\n",
              "    </tr>\n",
              "    <tr>\n",
              "      <th>32</th>\n",
              "      <td>2</td>\n",
              "      <td>63</td>\n",
              "      <td>[don't, be, a, menace, to, south, central, whi...</td>\n",
              "    </tr>\n",
              "    <tr>\n",
              "      <th>33</th>\n",
              "      <td>2</td>\n",
              "      <td>95</td>\n",
              "      <td>[broken, arrow]</td>\n",
              "    </tr>\n",
              "    <tr>\n",
              "      <th>34</th>\n",
              "      <td>2</td>\n",
              "      <td>8</td>\n",
              "      <td>[tom, and, huck]</td>\n",
              "    </tr>\n",
              "    <tr>\n",
              "      <th>35</th>\n",
              "      <td>2</td>\n",
              "      <td>53</td>\n",
              "      <td>[lamerica]</td>\n",
              "    </tr>\n",
              "    <tr>\n",
              "      <th>36</th>\n",
              "      <td>2</td>\n",
              "      <td>50</td>\n",
              "      <td>[usual, suspects, the]</td>\n",
              "    </tr>\n",
              "    <tr>\n",
              "      <th>37</th>\n",
              "      <td>2</td>\n",
              "      <td>96</td>\n",
              "      <td>[in, the, bleak, midwinter]</td>\n",
              "    </tr>\n",
              "    <tr>\n",
              "      <th>38</th>\n",
              "      <td>2</td>\n",
              "      <td>55</td>\n",
              "      <td>[georgia]</td>\n",
              "    </tr>\n",
              "    <tr>\n",
              "      <th>39</th>\n",
              "      <td>2</td>\n",
              "      <td>6</td>\n",
              "      <td>[heat]</td>\n",
              "    </tr>\n",
              "    <tr>\n",
              "      <th>40</th>\n",
              "      <td>2</td>\n",
              "      <td>31</td>\n",
              "      <td>[dangerous, minds]</td>\n",
              "    </tr>\n",
              "    <tr>\n",
              "      <th>41</th>\n",
              "      <td>2</td>\n",
              "      <td>79</td>\n",
              "      <td>[juror, the]</td>\n",
              "    </tr>\n",
              "    <tr>\n",
              "      <th>42</th>\n",
              "      <td>2</td>\n",
              "      <td>92</td>\n",
              "      <td>[mary, reilly]</td>\n",
              "    </tr>\n",
              "    <tr>\n",
              "      <th>43</th>\n",
              "      <td>2</td>\n",
              "      <td>77</td>\n",
              "      <td>[nico, icon]</td>\n",
              "    </tr>\n",
              "    <tr>\n",
              "      <th>44</th>\n",
              "      <td>2</td>\n",
              "      <td>18</td>\n",
              "      <td>[four, rooms]</td>\n",
              "    </tr>\n",
              "  </tbody>\n",
              "</table>\n",
              "</div>"
            ],
            "application/vnd.google.colaboratory.module+javascript": "\n      import \"https://ssl.gstatic.com/colaboratory/data_table/e523c247d1e24a05/data_table.js\";\n\n      const table = window.createDataTable({\n        data: [[{\n            'v': 0,\n            'f': \"0\",\n        },\n{\n            'v': 94,\n            'f': \"94\",\n        },\n[\"beautiful\", \"girls\"]],\n [{\n            'v': 0,\n            'f': \"0\",\n        },\n{\n            'v': 45,\n            'f': \"45\",\n        },\n[\"to\", \"die\", \"for\"]],\n [{\n            'v': 0,\n            'f': \"0\",\n        },\n{\n            'v': 58,\n            'f': \"58\",\n        },\n[\"postman\", \"the\", \"postino\", \"il\"]],\n [{\n            'v': 0,\n            'f': \"0\",\n        },\n{\n            'v': 54,\n            'f': \"54\",\n        },\n[\"big\", \"green\", \"the\"]],\n [{\n            'v': 0,\n            'f': \"0\",\n        },\n{\n            'v': 9,\n            'f': \"9\",\n        },\n[\"sudden\", \"death\"]],\n [{\n            'v': 0,\n            'f': \"0\",\n        },\n{\n            'v': 4,\n            'f': \"4\",\n        },\n[\"waiting\", \"to\", \"exhale\"]],\n [{\n            'v': 0,\n            'f': \"0\",\n        },\n{\n            'v': 80,\n            'f': \"80\",\n        },\n[\"white\", \"balloon\", \"the\", \"badkonake\", \"sefid\"]],\n [{\n            'v': 0,\n            'f': \"0\",\n        },\n{\n            'v': 87,\n            'f': \"87\",\n        },\n[\"dunston\", \"checks\", \"in\"]],\n [{\n            'v': 0,\n            'f': \"0\",\n        },\n{\n            'v': 88,\n            'f': \"88\",\n        },\n[\"black\", \"sheep\"]],\n [{\n            'v': 0,\n            'f': \"0\",\n        },\n{\n            'v': 20,\n            'f': \"20\",\n        },\n[\"money\", \"train\"]],\n [{\n            'v': 0,\n            'f': \"0\",\n        },\n{\n            'v': 83,\n            'f': \"83\",\n        },\n[\"once\", \"upon\", \"a\", \"time\", \"when\", \"we\", \"were\", \"colored\"]],\n [{\n            'v': 0,\n            'f': \"0\",\n        },\n{\n            'v': 57,\n            'f': \"57\",\n        },\n[\"home\", \"for\", \"the\", \"holidays\"]],\n [{\n            'v': 0,\n            'f': \"0\",\n        },\n{\n            'v': 73,\n            'f': \"73\",\n        },\n[\"mis\\u00e9rables\", \"les\"]],\n [{\n            'v': 0,\n            'f': \"0\",\n        },\n{\n            'v': 12,\n            'f': \"12\",\n        },\n[\"dracula\", \"dead\", \"and\", \"loving\", \"it\"]],\n [{\n            'v': 0,\n            'f': \"0\",\n        },\n{\n            'v': 39,\n            'f': \"39\",\n        },\n[\"clueless\"]],\n [{\n            'v': 1,\n            'f': \"1\",\n        },\n{\n            'v': 14,\n            'f': \"14\",\n        },\n[\"nixon\"]],\n [{\n            'v': 1,\n            'f': \"1\",\n        },\n{\n            'v': 71,\n            'f': \"71\",\n        },\n[\"fair\", \"game\"]],\n [{\n            'v': 1,\n            'f': \"1\",\n        },\n{\n            'v': 49,\n            'f': \"49\",\n        },\n[\"when\", \"night\", \"is\", \"falling\"]],\n [{\n            'v': 1,\n            'f': \"1\",\n        },\n{\n            'v': 27,\n            'f': \"27\",\n        },\n[\"now\", \"and\", \"then\"]],\n [{\n            'v': 1,\n            'f': \"1\",\n        },\n{\n            'v': 59,\n            'f': \"59\",\n        },\n[\"confessional\", \"the\", \"confessionnal\", \"le\"]],\n [{\n            'v': 1,\n            'f': \"1\",\n        },\n{\n            'v': 3,\n            'f': \"3\",\n        },\n[\"grumpier\", \"old\", \"men\"]],\n [{\n            'v': 1,\n            'f': \"1\",\n        },\n{\n            'v': 34,\n            'f': \"34\",\n        },\n[\"babe\"]],\n [{\n            'v': 1,\n            'f': \"1\",\n        },\n{\n            'v': 19,\n            'f': \"19\",\n        },\n[\"ace\", \"ventura\", \"when\", \"nature\", \"calls\"]],\n [{\n            'v': 1,\n            'f': \"1\",\n        },\n{\n            'v': 99,\n            'f': \"99\",\n        },\n[\"heidi\", \"fleiss\", \"hollywood\", \"madam\"]],\n [{\n            'v': 1,\n            'f': \"1\",\n        },\n{\n            'v': 23,\n            'f': \"23\",\n        },\n[\"assassins\"]],\n [{\n            'v': 1,\n            'f': \"1\",\n        },\n{\n            'v': 60,\n            'f': \"60\",\n        },\n[\"indian\", \"in\", \"the\", \"cupboard\", \"the\"]],\n [{\n            'v': 1,\n            'f': \"1\",\n        },\n{\n            'v': 52,\n            'f': \"52\",\n        },\n[\"mighty\", \"aphrodite\"]],\n [{\n            'v': 1,\n            'f': \"1\",\n        },\n{\n            'v': 84,\n            'f': \"84\",\n        },\n[\"last\", \"summer\", \"in\", \"the\", \"hamptons\"]],\n [{\n            'v': 1,\n            'f': \"1\",\n        },\n{\n            'v': 76,\n            'f': \"76\",\n        },\n[\"screamers\"]],\n [{\n            'v': 1,\n            'f': \"1\",\n        },\n{\n            'v': 7,\n            'f': \"7\",\n        },\n[\"sabrina\"]],\n [{\n            'v': 2,\n            'f': \"2\",\n        },\n{\n            'v': 72,\n            'f': \"72\",\n        },\n[\"kicking\", \"and\", \"screaming\"]],\n [{\n            'v': 2,\n            'f': \"2\",\n        },\n{\n            'v': 21,\n            'f': \"21\",\n        },\n[\"get\", \"shorty\"]],\n [{\n            'v': 2,\n            'f': \"2\",\n        },\n{\n            'v': 63,\n            'f': \"63\",\n        },\n[\"don't\", \"be\", \"a\", \"menace\", \"to\", \"south\", \"central\", \"while\", \"drinking\", \"your\", \"juice\", \"in\", \"the\", \"hood\"]],\n [{\n            'v': 2,\n            'f': \"2\",\n        },\n{\n            'v': 95,\n            'f': \"95\",\n        },\n[\"broken\", \"arrow\"]],\n [{\n            'v': 2,\n            'f': \"2\",\n        },\n{\n            'v': 8,\n            'f': \"8\",\n        },\n[\"tom\", \"and\", \"huck\"]],\n [{\n            'v': 2,\n            'f': \"2\",\n        },\n{\n            'v': 53,\n            'f': \"53\",\n        },\n[\"lamerica\"]],\n [{\n            'v': 2,\n            'f': \"2\",\n        },\n{\n            'v': 50,\n            'f': \"50\",\n        },\n[\"usual\", \"suspects\", \"the\"]],\n [{\n            'v': 2,\n            'f': \"2\",\n        },\n{\n            'v': 96,\n            'f': \"96\",\n        },\n[\"in\", \"the\", \"bleak\", \"midwinter\"]],\n [{\n            'v': 2,\n            'f': \"2\",\n        },\n{\n            'v': 55,\n            'f': \"55\",\n        },\n[\"georgia\"]],\n [{\n            'v': 2,\n            'f': \"2\",\n        },\n{\n            'v': 6,\n            'f': \"6\",\n        },\n[\"heat\"]],\n [{\n            'v': 2,\n            'f': \"2\",\n        },\n{\n            'v': 31,\n            'f': \"31\",\n        },\n[\"dangerous\", \"minds\"]],\n [{\n            'v': 2,\n            'f': \"2\",\n        },\n{\n            'v': 79,\n            'f': \"79\",\n        },\n[\"juror\", \"the\"]],\n [{\n            'v': 2,\n            'f': \"2\",\n        },\n{\n            'v': 92,\n            'f': \"92\",\n        },\n[\"mary\", \"reilly\"]],\n [{\n            'v': 2,\n            'f': \"2\",\n        },\n{\n            'v': 77,\n            'f': \"77\",\n        },\n[\"nico\", \"icon\"]],\n [{\n            'v': 2,\n            'f': \"2\",\n        },\n{\n            'v': 18,\n            'f': \"18\",\n        },\n[\"four\", \"rooms\"]]],\n        columns: [[\"number\", \"partID\"], [\"number\", \"nF\"], [\"string\", \"word_list\"]],\n        columnOptions: [],\n        rowsPerPage: 10,\n        helpUrl: \"https://colab.research.google.com/notebooks/data_table.ipynb\",\n        suppressOutputScrolling: true,\n        minimumWidth: undefined,\n      });\n\n      function appendQuickchartButton(parentElement) {\n        let quickchartButtonContainerElement = document.createElement('div');\n        quickchartButtonContainerElement.innerHTML = `\n<div id=\"df-98035507-0bbe-4482-baeb-1c614a51d87b\">\n  <button class=\"colab-df-quickchart\" onclick=\"quickchart('df-98035507-0bbe-4482-baeb-1c614a51d87b')\"\n            title=\"Suggest charts\"\n            style=\"display:none;\">\n    \n<svg xmlns=\"http://www.w3.org/2000/svg\" height=\"24px\"viewBox=\"0 0 24 24\"\n     width=\"24px\">\n    <g>\n        <path d=\"M19 3H5c-1.1 0-2 .9-2 2v14c0 1.1.9 2 2 2h14c1.1 0 2-.9 2-2V5c0-1.1-.9-2-2-2zM9 17H7v-7h2v7zm4 0h-2V7h2v10zm4 0h-2v-4h2v4z\"/>\n    </g>\n</svg>\n  </button>\n  \n<style>\n  .colab-df-quickchart {\n      --bg-color: #E8F0FE;\n      --fill-color: #1967D2;\n      --hover-bg-color: #E2EBFA;\n      --hover-fill-color: #174EA6;\n      --disabled-fill-color: #AAA;\n      --disabled-bg-color: #DDD;\n  }\n\n  [theme=dark] .colab-df-quickchart {\n      --bg-color: #3B4455;\n      --fill-color: #D2E3FC;\n      --hover-bg-color: #434B5C;\n      --hover-fill-color: #FFFFFF;\n      --disabled-bg-color: #3B4455;\n      --disabled-fill-color: #666;\n  }\n\n  .colab-df-quickchart {\n    background-color: var(--bg-color);\n    border: none;\n    border-radius: 50%;\n    cursor: pointer;\n    display: none;\n    fill: var(--fill-color);\n    height: 32px;\n    padding: 0;\n    width: 32px;\n  }\n\n  .colab-df-quickchart:hover {\n    background-color: var(--hover-bg-color);\n    box-shadow: 0 1px 2px rgba(60, 64, 67, 0.3), 0 1px 3px 1px rgba(60, 64, 67, 0.15);\n    fill: var(--button-hover-fill-color);\n  }\n\n  .colab-df-quickchart-complete:disabled,\n  .colab-df-quickchart-complete:disabled:hover {\n    background-color: var(--disabled-bg-color);\n    fill: var(--disabled-fill-color);\n    box-shadow: none;\n  }\n\n  .colab-df-spinner {\n    border: 2px solid var(--fill-color);\n    border-color: transparent;\n    border-bottom-color: var(--fill-color);\n    animation:\n      spin 1s steps(1) infinite;\n  }\n\n  @keyframes spin {\n    0% {\n      border-color: transparent;\n      border-bottom-color: var(--fill-color);\n      border-left-color: var(--fill-color);\n    }\n    20% {\n      border-color: transparent;\n      border-left-color: var(--fill-color);\n      border-top-color: var(--fill-color);\n    }\n    30% {\n      border-color: transparent;\n      border-left-color: var(--fill-color);\n      border-top-color: var(--fill-color);\n      border-right-color: var(--fill-color);\n    }\n    40% {\n      border-color: transparent;\n      border-right-color: var(--fill-color);\n      border-top-color: var(--fill-color);\n    }\n    60% {\n      border-color: transparent;\n      border-right-color: var(--fill-color);\n    }\n    80% {\n      border-color: transparent;\n      border-right-color: var(--fill-color);\n      border-bottom-color: var(--fill-color);\n    }\n    90% {\n      border-color: transparent;\n      border-bottom-color: var(--fill-color);\n    }\n  }\n</style>\n\n  <script>\n    async function quickchart(key) {\n      const quickchartButtonEl =\n        document.querySelector('#' + key + ' button');\n      quickchartButtonEl.disabled = true;  // To prevent multiple clicks.\n      quickchartButtonEl.classList.add('colab-df-spinner');\n      try {\n        const charts = await google.colab.kernel.invokeFunction(\n            'suggestCharts', [key], {});\n      } catch (error) {\n        console.error('Error during call to suggestCharts:', error);\n      }\n      quickchartButtonEl.classList.remove('colab-df-spinner');\n      quickchartButtonEl.classList.add('colab-df-quickchart-complete');\n    }\n    (() => {\n      let quickchartButtonEl =\n        document.querySelector('#df-98035507-0bbe-4482-baeb-1c614a51d87b button');\n      quickchartButtonEl.style.display =\n        google.colab.kernel.accessAllowed ? 'block' : 'none';\n    })();\n  </script>\n</div>`;\n        parentElement.appendChild(quickchartButtonContainerElement);\n      }\n\n      appendQuickchartButton(table);\n    ",
            "text/plain": [
              "<google.colab.data_table.DataTable object>"
            ]
          },
          "metadata": {},
          "execution_count": 57
        }
      ]
    },
    {
      "cell_type": "code",
      "source": [
        "def count_words(data):\n",
        "    word_count = {}\n",
        "    for _, word_list in data:\n",
        "        for word in word_list:\n",
        "            if word not in word_count:\n",
        "                word_count[word] = 0\n",
        "            word_count[word] += 1\n",
        "    for word, count in word_count.items():\n",
        "        yield (word, count)\n",
        "\n",
        "# compter la fréquence des mots dans chaque partition\n",
        "films_word_freq = films_split_titre.rdd.mapPartitions(count_words).toDF(['word', 'freq'])\n",
        "# Repartitionner les couples (mot, fréquence) en fonction d'un mot\n",
        "films_regroup = films_word_freq.repartition(3, 'word')\n",
        "\n",
        "def count_words_total(iterator):\n",
        "    word_count = {}\n",
        "    for word, count in iterator:\n",
        "        if word not in word_count:\n",
        "            word_count[word] = 0\n",
        "        word_count[word] += count\n",
        "\n",
        "    # trier pour ne garder que les 5 plus fréquents.\n",
        "    word_count = sorted(word_count.items(), key=lambda x: x[1], reverse=True)[:5]\n",
        "    for word, count in word_count:\n",
        "        yield (word, count)\n",
        "# Additionner les fréquences pour chaque mot\n",
        "films_freq_total = films_regroup.rdd.mapPartitions(count_words_total).toDF(['word', 'freq'])\n",
        "print(type(films_freq_total))\n",
        "showPartitions(films_freq_total, 15, display_per_partition=False)\n"
      ],
      "metadata": {
        "colab": {
          "base_uri": "https://localhost:8080/",
          "height": 357
        },
        "id": "9kjYphxo5Gpm",
        "outputId": "127a0bc9-b2ee-46c3-b0dc-0769dfcfc08f"
      },
      "execution_count": 58,
      "outputs": [
        {
          "output_type": "stream",
          "name": "stdout",
          "text": [
            "<class 'pyspark.sql.dataframe.DataFrame'>\n"
          ]
        },
        {
          "output_type": "execute_result",
          "data": {
            "text/html": [
              "<div>\n",
              "<style scoped>\n",
              "    .dataframe tbody tr th:only-of-type {\n",
              "        vertical-align: middle;\n",
              "    }\n",
              "\n",
              "    .dataframe tbody tr th {\n",
              "        vertical-align: top;\n",
              "    }\n",
              "\n",
              "    .dataframe thead th {\n",
              "        text-align: right;\n",
              "    }\n",
              "</style>\n",
              "<table border=\"1\" class=\"dataframe\">\n",
              "  <thead>\n",
              "    <tr style=\"text-align: right;\">\n",
              "      <th></th>\n",
              "      <th>partID</th>\n",
              "      <th>word</th>\n",
              "      <th>freq</th>\n",
              "    </tr>\n",
              "  </thead>\n",
              "  <tbody>\n",
              "    <tr>\n",
              "      <th>0</th>\n",
              "      <td>0</td>\n",
              "      <td>the</td>\n",
              "      <td>18</td>\n",
              "    </tr>\n",
              "    <tr>\n",
              "      <th>1</th>\n",
              "      <td>0</td>\n",
              "      <td>eye</td>\n",
              "      <td>2</td>\n",
              "    </tr>\n",
              "    <tr>\n",
              "      <th>2</th>\n",
              "      <td>0</td>\n",
              "      <td>k</td>\n",
              "      <td>2</td>\n",
              "    </tr>\n",
              "    <tr>\n",
              "      <th>3</th>\n",
              "      <td>0</td>\n",
              "      <td>postman</td>\n",
              "      <td>1</td>\n",
              "    </tr>\n",
              "    <tr>\n",
              "      <th>4</th>\n",
              "      <td>0</td>\n",
              "      <td>sudden</td>\n",
              "      <td>1</td>\n",
              "    </tr>\n",
              "    <tr>\n",
              "      <th>5</th>\n",
              "      <td>1</td>\n",
              "      <td>and</td>\n",
              "      <td>6</td>\n",
              "    </tr>\n",
              "    <tr>\n",
              "      <th>6</th>\n",
              "      <td>1</td>\n",
              "      <td>to</td>\n",
              "      <td>5</td>\n",
              "    </tr>\n",
              "    <tr>\n",
              "      <th>7</th>\n",
              "      <td>1</td>\n",
              "      <td>of</td>\n",
              "      <td>5</td>\n",
              "    </tr>\n",
              "    <tr>\n",
              "      <th>8</th>\n",
              "      <td>1</td>\n",
              "      <td>when</td>\n",
              "      <td>4</td>\n",
              "    </tr>\n",
              "    <tr>\n",
              "      <th>9</th>\n",
              "      <td>1</td>\n",
              "      <td>dead</td>\n",
              "      <td>4</td>\n",
              "    </tr>\n",
              "    <tr>\n",
              "      <th>10</th>\n",
              "      <td>2</td>\n",
              "      <td>in</td>\n",
              "      <td>7</td>\n",
              "    </tr>\n",
              "    <tr>\n",
              "      <th>11</th>\n",
              "      <td>2</td>\n",
              "      <td>a</td>\n",
              "      <td>7</td>\n",
              "    </tr>\n",
              "    <tr>\n",
              "      <th>12</th>\n",
              "      <td>2</td>\n",
              "      <td>for</td>\n",
              "      <td>3</td>\n",
              "    </tr>\n",
              "    <tr>\n",
              "      <th>13</th>\n",
              "      <td>2</td>\n",
              "      <td>time</td>\n",
              "      <td>3</td>\n",
              "    </tr>\n",
              "    <tr>\n",
              "      <th>14</th>\n",
              "      <td>2</td>\n",
              "      <td>it</td>\n",
              "      <td>2</td>\n",
              "    </tr>\n",
              "  </tbody>\n",
              "</table>\n",
              "</div>"
            ],
            "application/vnd.google.colaboratory.module+javascript": "\n      import \"https://ssl.gstatic.com/colaboratory/data_table/e523c247d1e24a05/data_table.js\";\n\n      const table = window.createDataTable({\n        data: [[{\n            'v': 0,\n            'f': \"0\",\n        },\n\"the\",\n{\n            'v': 18,\n            'f': \"18\",\n        }],\n [{\n            'v': 0,\n            'f': \"0\",\n        },\n\"eye\",\n{\n            'v': 2,\n            'f': \"2\",\n        }],\n [{\n            'v': 0,\n            'f': \"0\",\n        },\n\"k\",\n{\n            'v': 2,\n            'f': \"2\",\n        }],\n [{\n            'v': 0,\n            'f': \"0\",\n        },\n\"postman\",\n{\n            'v': 1,\n            'f': \"1\",\n        }],\n [{\n            'v': 0,\n            'f': \"0\",\n        },\n\"sudden\",\n{\n            'v': 1,\n            'f': \"1\",\n        }],\n [{\n            'v': 1,\n            'f': \"1\",\n        },\n\"and\",\n{\n            'v': 6,\n            'f': \"6\",\n        }],\n [{\n            'v': 1,\n            'f': \"1\",\n        },\n\"to\",\n{\n            'v': 5,\n            'f': \"5\",\n        }],\n [{\n            'v': 1,\n            'f': \"1\",\n        },\n\"of\",\n{\n            'v': 5,\n            'f': \"5\",\n        }],\n [{\n            'v': 1,\n            'f': \"1\",\n        },\n\"when\",\n{\n            'v': 4,\n            'f': \"4\",\n        }],\n [{\n            'v': 1,\n            'f': \"1\",\n        },\n\"dead\",\n{\n            'v': 4,\n            'f': \"4\",\n        }],\n [{\n            'v': 2,\n            'f': \"2\",\n        },\n\"in\",\n{\n            'v': 7,\n            'f': \"7\",\n        }],\n [{\n            'v': 2,\n            'f': \"2\",\n        },\n\"a\",\n{\n            'v': 7,\n            'f': \"7\",\n        }],\n [{\n            'v': 2,\n            'f': \"2\",\n        },\n\"for\",\n{\n            'v': 3,\n            'f': \"3\",\n        }],\n [{\n            'v': 2,\n            'f': \"2\",\n        },\n\"time\",\n{\n            'v': 3,\n            'f': \"3\",\n        }],\n [{\n            'v': 2,\n            'f': \"2\",\n        },\n\"it\",\n{\n            'v': 2,\n            'f': \"2\",\n        }]],\n        columns: [[\"number\", \"partID\"], [\"string\", \"word\"], [\"number\", \"freq\"]],\n        columnOptions: [],\n        rowsPerPage: 10,\n        helpUrl: \"https://colab.research.google.com/notebooks/data_table.ipynb\",\n        suppressOutputScrolling: true,\n        minimumWidth: undefined,\n      });\n\n      function appendQuickchartButton(parentElement) {\n        let quickchartButtonContainerElement = document.createElement('div');\n        quickchartButtonContainerElement.innerHTML = `\n<div id=\"df-216191e9-b997-40a4-8e00-0b0df56e3bda\">\n  <button class=\"colab-df-quickchart\" onclick=\"quickchart('df-216191e9-b997-40a4-8e00-0b0df56e3bda')\"\n            title=\"Suggest charts\"\n            style=\"display:none;\">\n    \n<svg xmlns=\"http://www.w3.org/2000/svg\" height=\"24px\"viewBox=\"0 0 24 24\"\n     width=\"24px\">\n    <g>\n        <path d=\"M19 3H5c-1.1 0-2 .9-2 2v14c0 1.1.9 2 2 2h14c1.1 0 2-.9 2-2V5c0-1.1-.9-2-2-2zM9 17H7v-7h2v7zm4 0h-2V7h2v10zm4 0h-2v-4h2v4z\"/>\n    </g>\n</svg>\n  </button>\n  \n<style>\n  .colab-df-quickchart {\n      --bg-color: #E8F0FE;\n      --fill-color: #1967D2;\n      --hover-bg-color: #E2EBFA;\n      --hover-fill-color: #174EA6;\n      --disabled-fill-color: #AAA;\n      --disabled-bg-color: #DDD;\n  }\n\n  [theme=dark] .colab-df-quickchart {\n      --bg-color: #3B4455;\n      --fill-color: #D2E3FC;\n      --hover-bg-color: #434B5C;\n      --hover-fill-color: #FFFFFF;\n      --disabled-bg-color: #3B4455;\n      --disabled-fill-color: #666;\n  }\n\n  .colab-df-quickchart {\n    background-color: var(--bg-color);\n    border: none;\n    border-radius: 50%;\n    cursor: pointer;\n    display: none;\n    fill: var(--fill-color);\n    height: 32px;\n    padding: 0;\n    width: 32px;\n  }\n\n  .colab-df-quickchart:hover {\n    background-color: var(--hover-bg-color);\n    box-shadow: 0 1px 2px rgba(60, 64, 67, 0.3), 0 1px 3px 1px rgba(60, 64, 67, 0.15);\n    fill: var(--button-hover-fill-color);\n  }\n\n  .colab-df-quickchart-complete:disabled,\n  .colab-df-quickchart-complete:disabled:hover {\n    background-color: var(--disabled-bg-color);\n    fill: var(--disabled-fill-color);\n    box-shadow: none;\n  }\n\n  .colab-df-spinner {\n    border: 2px solid var(--fill-color);\n    border-color: transparent;\n    border-bottom-color: var(--fill-color);\n    animation:\n      spin 1s steps(1) infinite;\n  }\n\n  @keyframes spin {\n    0% {\n      border-color: transparent;\n      border-bottom-color: var(--fill-color);\n      border-left-color: var(--fill-color);\n    }\n    20% {\n      border-color: transparent;\n      border-left-color: var(--fill-color);\n      border-top-color: var(--fill-color);\n    }\n    30% {\n      border-color: transparent;\n      border-left-color: var(--fill-color);\n      border-top-color: var(--fill-color);\n      border-right-color: var(--fill-color);\n    }\n    40% {\n      border-color: transparent;\n      border-right-color: var(--fill-color);\n      border-top-color: var(--fill-color);\n    }\n    60% {\n      border-color: transparent;\n      border-right-color: var(--fill-color);\n    }\n    80% {\n      border-color: transparent;\n      border-right-color: var(--fill-color);\n      border-bottom-color: var(--fill-color);\n    }\n    90% {\n      border-color: transparent;\n      border-bottom-color: var(--fill-color);\n    }\n  }\n</style>\n\n  <script>\n    async function quickchart(key) {\n      const quickchartButtonEl =\n        document.querySelector('#' + key + ' button');\n      quickchartButtonEl.disabled = true;  // To prevent multiple clicks.\n      quickchartButtonEl.classList.add('colab-df-spinner');\n      try {\n        const charts = await google.colab.kernel.invokeFunction(\n            'suggestCharts', [key], {});\n      } catch (error) {\n        console.error('Error during call to suggestCharts:', error);\n      }\n      quickchartButtonEl.classList.remove('colab-df-spinner');\n      quickchartButtonEl.classList.add('colab-df-quickchart-complete');\n    }\n    (() => {\n      let quickchartButtonEl =\n        document.querySelector('#df-216191e9-b997-40a4-8e00-0b0df56e3bda button');\n      quickchartButtonEl.style.display =\n        google.colab.kernel.accessAllowed ? 'block' : 'none';\n    })();\n  </script>\n</div>`;\n        parentElement.appendChild(quickchartButtonContainerElement);\n      }\n\n      appendQuickchartButton(table);\n    ",
            "text/plain": [
              "<google.colab.data_table.DataTable object>"
            ]
          },
          "metadata": {},
          "execution_count": 58
        }
      ]
    },
    {
      "cell_type": "code",
      "source": [
        "# transférer vers l'application les 5 mots plus fréquents de chaque partition\n",
        "def get_words(iterator):\n",
        "    words = []\n",
        "    for word, count in iterator:\n",
        "        words.append((word, count))\n",
        "    return words\n",
        "\n",
        "# fusionner les listes pour connaitre les 5 mots globalement\n",
        "res = films_freq_total.rdd.mapPartitions(get_words).collect()\n",
        "res = sorted(res, key=lambda x: x[1], reverse=True)[:5]\n",
        "\n",
        "print(\"top5 des mots les plus fréquents :\")\n",
        "for word, count in res:\n",
        "    print(f\"{word}: {count}\")"
      ],
      "metadata": {
        "colab": {
          "base_uri": "https://localhost:8080/"
        },
        "id": "AFHNe3_3E7a-",
        "outputId": "c5958ba8-fee3-4a78-f28c-0d2fbbdd89e5"
      },
      "execution_count": 59,
      "outputs": [
        {
          "output_type": "stream",
          "name": "stdout",
          "text": [
            "top5 des mots les plus fréquents :\n",
            "the: 18\n",
            "in: 7\n",
            "a: 7\n",
            "and: 6\n",
            "to: 5\n"
          ]
        }
      ]
    },
    {
      "cell_type": "markdown",
      "source": [
        "## Question 6 : Jointure\n",
        "Définir les fonctions pour calculer la jointure entre les extraits de films et de notes.\n",
        "Indication ne pas utiliser de jointure sur le nF.\n",
        "\n",
        "Comparer le résultat avec la requête équivalente :\n",
        "resultat = notes_extrait.join(films_extrait, \"nF\")\n"
      ],
      "metadata": {
        "id": "ZCkXEtv84V1H"
      }
    },
    {
      "cell_type": "markdown",
      "source": [
        "**Indications**\n",
        "\n",
        " * Attribuer à chaque film et chaque note un numéro de partition en fonction du numéro de film $nF$. Par exemple, le numéro de partition $numP$ peut être :\n",
        " $$ numP = nF \\%  p $$\n",
        " avec $p$ étant le nombre de partitions\n",
        " * Repartitionner les données en fonction du numéro de partition $numP$\n",
        "\n",
        " * Former des paires de partitions de film et de note telles qu'elles ont le même numéro de partition. Puis calculer la jointure.\n",
        "\n",
        "\n",
        "Remarque : Un solution correcte mais pas la plus rapide (car elle fait une jointure par boucles imbriquée qui est souvent mois rapide qu'une jointure par hachage ou par tri fusion) est de calculer tous les couples (film,note) qui ont le même numéro de partition (au lieu de former des paires de partition film/note). Il suffit ensuite calculer la jointure en filtrant les couples qui satisfont la condition de jointure.\n",
        "\n",
        "Ne pas faire de jointure sur le $nF$, qui est la solution de référence avec laquelle il faut vous comparer."
      ],
      "metadata": {
        "id": "DAe5Q9Ny_3u8"
      }
    },
    {
      "cell_type": "code",
      "source": [
        "reference = notes_extrait.join(films_extrait, \"nF\")\n",
        "display(reference)"
      ],
      "metadata": {
        "id": "ebZbTb4Tu2Ep"
      },
      "execution_count": null,
      "outputs": []
    },
    {
      "cell_type": "code",
      "source": [],
      "metadata": {
        "id": "Rmz5EiozEZUj"
      },
      "execution_count": null,
      "outputs": []
    },
    {
      "cell_type": "markdown",
      "source": [
        "## Question 7: Jointure en cas de données déséquilibrées"
      ],
      "metadata": {
        "id": "NzQfiZMjl3VS"
      }
    },
    {
      "cell_type": "markdown",
      "source": [
        "Proposer un scénario de jointure avec des données très déséquilibrées :\n",
        "un tier des notes concernent le même film."
      ],
      "metadata": {
        "id": "7-tw2Gc4367r"
      }
    },
    {
      "cell_type": "code",
      "source": [],
      "metadata": {
        "id": "A-SGfJFoAk3x"
      },
      "execution_count": null,
      "outputs": []
    },
    {
      "cell_type": "markdown",
      "source": [
        "# Exercice 2: Plan d'une requête"
      ],
      "metadata": {
        "id": "Tu4-OIM_r_Qs"
      }
    },
    {
      "cell_type": "code",
      "source": [
        "# Extraction du plan logique\n",
        "# reference.explain(extended=False)"
      ],
      "metadata": {
        "id": "y9P3Wxv8u9Cy"
      },
      "execution_count": null,
      "outputs": []
    },
    {
      "cell_type": "markdown",
      "source": [
        "Visualiser le plan d'une requête"
      ],
      "metadata": {
        "id": "L7Dss4MVr2_D"
      }
    },
    {
      "cell_type": "code",
      "source": [
        "import io\n",
        "import sys\n",
        "\n",
        "def plan_requete(requete: DataFrame, simple=True):\n",
        "  original_out = sys.stdout # sortie originale\n",
        "\n",
        "  output = io.StringIO()  # Créer un buffer pour capturer la sortie\n",
        "  sys.stdout = output  # Rediriger stdout vers le buffer\n",
        "  requete.explain(extended=False)\n",
        "  explain_output = output.getvalue()   # Récupérer le contenu capturé\n",
        "\n",
        "  sys.stdout = original_out #restaurer la sortie originale\n",
        "  return explain_output"
      ],
      "metadata": {
        "id": "HOL8QKYxyuJe"
      },
      "execution_count": null,
      "outputs": []
    },
    {
      "cell_type": "code",
      "source": [
        "requete1 = notes_extrait.join(films_extrait, \"nF\")\n",
        "plan1 = plan_requete(requete1)\n",
        "print(plan1)"
      ],
      "metadata": {
        "id": "OputE4-i2VP9"
      },
      "execution_count": null,
      "outputs": []
    },
    {
      "cell_type": "code",
      "source": [
        "# == Physical Plan ==\n",
        "# AdaptiveSparkPlan isFinalPlan=false\n",
        "# +- Project [nF#180L, nU#181L, note#182, annee#183L, titre#2749, genres#6]\n",
        "#    +- SortMergeJoin [nF#180L], [nF#2748L], Inner\n",
        "#       :- Sort [nF#180L ASC NULLS FIRST], false, 0\n",
        "#       :  +- Exchange hashpartitioning(nF#180L, 4), ENSURE_REQUIREMENTS, [plan_id=1272]\n",
        "#       :     +- Filter isnotnull(nF#180L)\n",
        "#       :        +- InMemoryTableScan [nF#180L, nU#181L, note#182, annee#183L], [isnotnull(nF#180L)]\n",
        "#       :              +- InMemoryRelation [nF#180L, nU#181L, note#182, annee#183L], StorageLevel(disk, memory, deserialized, 1 replicas)\n",
        "#       :                    +- AdaptiveSparkPlan isFinalPlan=true\n",
        "#                               +- == Final Plan ==\n",
        "#                                  ShuffleQueryStage 3\n",
        "#                                  +- Exchange RoundRobinPartitioning(3), REPARTITION_BY_NUM, [plan_id=351]\n",
        "#                                     +- *(5) Project [nF#180L, nU#181L, note#182, annee#183L]\n",
        "#                                        +- *(5) SortMergeJoin [nF#180L], [nF#0L], Inner\n",
        "#                                           :- *(3) Sort [nF#180L ASC NULLS FIRST], false, 0\n",
        "#                                           :  +- AQEShuffleRead coalesced\n",
        "#                                           :     +- ShuffleQueryStage 0\n",
        "#                                           :        +- Exchange hashpartitioning(nF#180L, 4), ENSURE_REQUIREMENTS, [plan_id=228]\n",
        "#                                           :           +- *(1) Filter ((isnotnull(nU#181L) AND (nU#181L < 1000)) AND isnotnull(nF#180L))\n",
        "#                                           :              +- FileScan json [nF#180L,nU#181L,note#182,annee#183L] Batched: false, DataFilters: [isnotnull(nU#181L), (nU#181L < 1000), isnotnull(nF#180L)], Format: JSON, Location: InMemoryFileIndex(1 paths)[file:/local/data/notes1M.json], PartitionFilters: [], PushedFilters: [IsNotNull(nU), LessThan(nU,1000), IsNotNull(nF)], ReadSchema: struct<nF:bigint,nU:bigint,note:double,annee:bigint>\n",
        "#                                           +- *(4) Sort [nF#0L ASC NULLS FIRST], false, 0\n",
        "#                                              +- AQEShuffleRead coalesced\n",
        "#                                                 +- ShuffleQueryStage 2\n",
        "#                                                    +- Exchange hashpartitioning(nF#0L, 4), ENSURE_REQUIREMENTS, [plan_id=279]\n",
        "#                                                       +- *(2) Filter isnotnull(nF#0L)\n",
        "#                                                          +- TableCacheQueryStage 1\n",
        "#                                                             +- InMemoryTableScan [nF#0L], [isnotnull(nF#0L)]\n",
        "#                                                                   +- InMemoryRelation [nF#0L, titre#1, genres#6], StorageLevel(disk, memory, deserialized, 1 replicas)\n",
        "#                                                                         +- AdaptiveSparkPlan isFinalPlan=true\n",
        "#                                           +- == Final Plan ==\n",
        "#                                              ShuffleQueryStage 0\n",
        "#                                              +- Exchange RoundRobinPartitioning(3), REPARTITION_BY_NUM, [plan_id=73]\n",
        "#                                                 +- *(1) Project [nF#0L, titre#1, g#2 AS genres#6]\n",
        "#                                                    +- *(1) Filter (isnotnull(nF#0L) AND (nF#0L < 100))\n",
        "#                                                       +- FileScan json [nF#0L,titre#1,g#2] Batched: false, DataFilters: [isnotnull(nF#0L), (nF#0L < 100)], Format: JSON, Location: InMemoryFileIndex(1 paths)[file:/local/data/films.json], PartitionFilters: [], PushedFilters: [IsNotNull(nF), LessThan(nF,100)], ReadSchema: struct<nF:bigint,titre:string,g:array<string>>\n",
        "#                                           +- == Initial Plan ==\n",
        "#                                              Exchange RoundRobinPartitioning(3), REPARTITION_BY_NUM, [plan_id=40]\n",
        "#                                              +- Project [nF#0L, titre#1, g#2 AS genres#6]\n",
        "#                                                 +- Filter (isnotnull(nF#0L) AND (nF#0L < 100))\n",
        "#                                                    +- FileScan json [nF#0L,titre#1,g#2] Batched: false, DataFilters: [isnotnull(nF#0L), (nF#0L < 100)], Format: JSON, Location: InMemoryFileIndex(1 paths)[file:/local/data/films.json], PartitionFilters: [], PushedFilters: [IsNotNull(nF), LessThan(nF,100)], ReadSchema: struct<nF:bigint,titre:string,g:array<string>>\n",
        "#                               +- == Initial Plan ==\n",
        "#                                  Exchange RoundRobinPartitioning(3), REPARTITION_BY_NUM, [plan_id=184]\n",
        "#                                  +- Project [nF#180L, nU#181L, note#182, annee#183L]\n",
        "#                                     +- SortMergeJoin [nF#180L], [nF#0L], Inner\n",
        "#                                        :- Sort [nF#180L ASC NULLS FIRST], false, 0\n",
        "#                                        :  +- Exchange hashpartitioning(nF#180L, 4), ENSURE_REQUIREMENTS, [plan_id=178]\n",
        "#                                        :     +- Filter ((isnotnull(nU#181L) AND (nU#181L < 1000)) AND isnotnull(nF#180L))\n",
        "#                                        :        +- FileScan json [nF#180L,nU#181L,note#182,annee#183L] Batched: false, DataFilters: [isnotnull(nU#181L), (nU#181L < 1000), isnotnull(nF#180L)], Format: JSON, Location: InMemoryFileIndex(1 paths)[file:/local/data/notes1M.json], PartitionFilters: [], PushedFilters: [IsNotNull(nU), LessThan(nU,1000), IsNotNull(nF)], ReadSchema: struct<nF:bigint,nU:bigint,note:double,annee:bigint>\n",
        "#                                        +- Sort [nF#0L ASC NULLS FIRST], false, 0\n",
        "#                                           +- Exchange hashpartitioning(nF#0L, 4), ENSURE_REQUIREMENTS, [plan_id=179]\n",
        "#                                              +- Filter isnotnull(nF#0L)\n",
        "#                                                 +- InMemoryTableScan [nF#0L], [isnotnull(nF#0L)]\n",
        "#                                                       +- InMemoryRelation [nF#0L, titre#1, genres#6], StorageLevel(disk, memory, deserialized, 1 replicas)\n",
        "#                                                             +- AdaptiveSparkPlan isFinalPlan=true\n",
        "#                               +- == Final Plan ==\n",
        "#                                  ShuffleQueryStage 0\n",
        "#                                  +- Exchange RoundRobinPartitioning(3), REPARTITION_BY_NUM, [plan_id=73]\n",
        "#                                     +- *(1) Project [nF#0L, titre#1, g#2 AS genres#6]\n",
        "#                                        +- *(1) Filter (isnotnull(nF#0L) AND (nF#0L < 100))\n",
        "#                                           +- FileScan json [nF#0L,titre#1,g#2] Batched: false, DataFilters: [isnotnull(nF#0L), (nF#0L < 100)], Format: JSON, Location: InMemoryFileIndex(1 paths)[file:/local/data/films.json], PartitionFilters: [], PushedFilters: [IsNotNull(nF), LessThan(nF,100)], ReadSchema: struct<nF:bigint,titre:string,g:array<string>>\n",
        "#                               +- == Initial Plan ==\n",
        "#                                  Exchange RoundRobinPartitioning(3), REPARTITION_BY_NUM, [plan_id=40]\n",
        "#                                  +- Project [nF#0L, titre#1, g#2 AS genres#6]\n",
        "#                                     +- Filter (isnotnull(nF#0L) AND (nF#0L < 100))\n",
        "#                                        +- FileScan json [nF#0L,titre#1,g#2] Batched: false, DataFilters: [isnotnull(nF#0L), (nF#0L < 100)], Format: JSON, Location: InMemoryFileIndex(1 paths)[file:/local/data/films.json], PartitionFilters: [], PushedFilters: [IsNotNull(nF), LessThan(nF,100)], ReadSchema: struct<nF:bigint,titre:string,g:array<string>>\n",
        "#       +- Sort [nF#2748L ASC NULLS FIRST], false, 0\n",
        "#          +- Exchange hashpartitioning(nF#2748L, 4), ENSURE_REQUIREMENTS, [plan_id=1273]\n",
        "#             +- Filter isnotnull(nF#2748L)\n",
        "#                +- InMemoryTableScan [nF#2748L, titre#2749, genres#6], [isnotnull(nF#2748L)]\n",
        "#                      +- InMemoryRelation [nF#2748L, titre#2749, genres#6], StorageLevel(disk, memory, deserialized, 1 replicas)\n",
        "#                            +- AdaptiveSparkPlan isFinalPlan=true\n",
        "#                               +- == Final Plan ==\n",
        "#                                  ShuffleQueryStage 0\n",
        "#                                  +- Exchange RoundRobinPartitioning(3), REPARTITION_BY_NUM, [plan_id=73]\n",
        "#                                     +- *(1) Project [nF#0L, titre#1, g#2 AS genres#6]\n",
        "#                                        +- *(1) Filter (isnotnull(nF#0L) AND (nF#0L < 100))\n",
        "#                                           +- FileScan json [nF#0L,titre#1,g#2] Batched: false, DataFilters: [isnotnull(nF#0L), (nF#0L < 100)], Format: JSON, Location: InMemoryFileIndex(1 paths)[file:/local/data/films.json], PartitionFilters: [], PushedFilters: [IsNotNull(nF), LessThan(nF,100)], ReadSchema: struct<nF:bigint,titre:string,g:array<string>>\n",
        "#                               +- == Initial Plan ==\n",
        "#                                  Exchange RoundRobinPartitioning(3), REPARTITION_BY_NUM, [plan_id=40]\n",
        "#                                  +- Project [nF#0L, titre#1, g#2 AS genres#6]\n",
        "#                                     +- Filter (isnotnull(nF#0L) AND (nF#0L < 100))\n",
        "#                                        +- FileScan json [nF#0L,titre#1,g#2] Batched: false, DataFilters: [isnotnull(nF#0L), (nF#0L < 100)], Format: JSON, Location: InMemoryFileIndex(1 paths)[file:/local/data/films.json], PartitionFilters: [], PushedFilters: [IsNotNull(nF), LessThan(nF,100)], ReadSchema: struct<nF:bigint,titre:string,g:array<string>>\n",
        "\n"
      ],
      "metadata": {
        "id": "7FM_DvdY3R8D"
      },
      "execution_count": null,
      "outputs": []
    },
    {
      "cell_type": "markdown",
      "source": [
        "## Question 1 : Parser le plan"
      ],
      "metadata": {
        "id": "wKMIswvlu6P4"
      }
    },
    {
      "cell_type": "markdown",
      "source": [
        "A partir du plan au format 'texte', construire l'arbre des opérations.\n",
        "Elaguer l'arbre : supprimer les noeuds siutés sous une opération `InMemoryTableScan`.\n",
        "Repérer les données échangées."
      ],
      "metadata": {
        "id": "lTIQ6zPf2fuk"
      }
    },
    {
      "cell_type": "code",
      "source": [],
      "metadata": {
        "id": "XljdGN5iyYCx"
      },
      "execution_count": null,
      "outputs": []
    }
  ]
}