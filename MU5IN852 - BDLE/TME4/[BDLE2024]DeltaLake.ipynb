{
  "nbformat": 4,
  "nbformat_minor": 0,
  "metadata": {
    "colab": {
      "provenance": [],
      "toc_visible": true,
      "collapsed_sections": [
        "uEE-92qgTQ4p",
        "PPmP7vcOr6XX",
        "6sBb4C8GteZR",
        "7gC5yWqIti5z",
        "LFk6LjuF6YLI"
      ]
    },
    "kernelspec": {
      "name": "python3",
      "display_name": "Python 3"
    },
    "language_info": {
      "name": "python"
    }
  },
  "cells": [
    {
      "cell_type": "markdown",
      "source": [
        "* Master DAC - BDLE\n",
        "* Author: Mohamed-Amine Baazizi\n",
        "* Affiliation: LIP6 - Faculté des Sciences - Sorbonne Université\n",
        "* Email: mohamed-amine.baazizi@lip6.fr\n",
        "* October 2024\n"
      ],
      "metadata": {
        "id": "GwjrdGLoXzly"
      }
    },
    {
      "cell_type": "markdown",
      "source": [
        "# Delta Lake\n"
      ],
      "metadata": {
        "id": "GunJfIR6YM_h"
      }
    },
    {
      "cell_type": "markdown",
      "source": [
        "## Outline"
      ],
      "metadata": {
        "id": "-kfCqy7EtbGd"
      }
    },
    {
      "cell_type": "markdown",
      "source": [
        "This lab is dedicated to practicing Delta Lake. It begins with a set of demos meant to illustrate the usage of Delta, on small examples.\n",
        "A use case based on realistic data is then presented and followed by the analysis of query plans generated for Delta operations.\n",
        "\n",
        "\n",
        "For the official documentation visit https://docs.delta.io/latest/index.html\n",
        "\n",
        "\n",
        "- For Demo1, Demo2 and Demo3 the answers are provided: run and observe\n",
        "- In the Use case section answers are not provided and left as exercice\n",
        "- In the CDF section, a scenario is provided. The task is to suggest similar updates and observe the impact on the log trail\n",
        "\n",
        "\n",
        "\n"
      ],
      "metadata": {
        "id": "GpI9l0JZYRdh"
      }
    },
    {
      "cell_type": "markdown",
      "source": [
        "## Prerequisite"
      ],
      "metadata": {
        "id": "csSU_SanYPJQ"
      }
    },
    {
      "cell_type": "markdown",
      "source": [
        "### System setup"
      ],
      "metadata": {
        "id": "BYxx4XY_TN0H"
      }
    },
    {
      "cell_type": "code",
      "source": [
        "appName = \"Delta Lake \""
      ],
      "metadata": {
        "id": "j4gPh_6COwRn"
      },
      "execution_count": null,
      "outputs": []
    },
    {
      "cell_type": "code",
      "execution_count": null,
      "metadata": {
        "id": "mW_DrY7ZlUj_"
      },
      "outputs": [],
      "source": [
        "%%capture\n",
        "!pip install -q pyspark\n",
        "!pip install -q delta-spark\n",
        "!pip install pyngrok"
      ]
    },
    {
      "cell_type": "code",
      "source": [
        "!pip list|grep spark"
      ],
      "metadata": {
        "colab": {
          "base_uri": "https://localhost:8080/"
        },
        "id": "o1YXYF4nWHNE",
        "outputId": "41b8bfa8-6c2c-419d-84e1-547cc1e9faee"
      },
      "execution_count": null,
      "outputs": [
        {
          "output_type": "stream",
          "name": "stdout",
          "text": [
            "delta-spark                        3.2.1\n",
            "pyspark                            3.5.3\n"
          ]
        }
      ]
    },
    {
      "cell_type": "code",
      "source": [
        "from pyspark import SparkConf\n",
        "from pyspark.context import SparkContext\n",
        "from pyspark.sql import SparkSession\n",
        "\n",
        "local = \"local[*]\"\n",
        "\n",
        "localConfig = SparkConf().setAppName(appName).setMaster(local).\\\n",
        "  set(\"spark.executor.memory\", \"8G\").\\\n",
        "  set(\"spark.driver.memory\",\"8G\").\\\n",
        "  set(\"spark.sql.catalogImplementation\",\"in-memory\").\\\n",
        "  set(\"spark.sql.extensions\",\"io.delta.sql.DeltaSparkSessionExtension\").\\\n",
        "  set(\"spark.sql.catalog.spark_catalog\",\"org.apache.spark.sql.delta.catalog.DeltaCatalog\").\\\n",
        "  set(\"spark.jars.packages\",\"io.delta:delta-spark_2.12:3.1.0\").\\\n",
        "  set(\"spark.databricks.delta.schema.autoMerge.enabled\",\"true\")\n",
        "\n",
        "\n",
        "spark = SparkSession.builder.config(conf = localConfig).getOrCreate()\n",
        "sc = spark.sparkContext\n",
        "sc.setLogLevel(\"ERROR\")"
      ],
      "metadata": {
        "id": "ZGcYc-DKqpUi"
      },
      "execution_count": null,
      "outputs": []
    },
    {
      "cell_type": "code",
      "source": [
        "spark"
      ],
      "metadata": {
        "colab": {
          "base_uri": "https://localhost:8080/",
          "height": 222
        },
        "id": "tvPytoK4Xl3t",
        "outputId": "6960dabc-090c-4b6f-ba2b-dbdb3cd92786"
      },
      "execution_count": null,
      "outputs": [
        {
          "output_type": "execute_result",
          "data": {
            "text/plain": [
              "<pyspark.sql.session.SparkSession at 0x7d1fbe96ef50>"
            ],
            "text/html": [
              "\n",
              "            <div>\n",
              "                <p><b>SparkSession - in-memory</b></p>\n",
              "                \n",
              "        <div>\n",
              "            <p><b>SparkContext</b></p>\n",
              "\n",
              "            <p><a href=\"http://39bdf25d0d82:4040\">Spark UI</a></p>\n",
              "\n",
              "            <dl>\n",
              "              <dt>Version</dt>\n",
              "                <dd><code>v3.5.3</code></dd>\n",
              "              <dt>Master</dt>\n",
              "                <dd><code>local[*]</code></dd>\n",
              "              <dt>AppName</dt>\n",
              "                <dd><code>Delta Lake </code></dd>\n",
              "            </dl>\n",
              "        </div>\n",
              "        \n",
              "            </div>\n",
              "        "
            ]
          },
          "metadata": {},
          "execution_count": 5
        }
      ]
    },
    {
      "cell_type": "markdown",
      "source": [
        "### Data import"
      ],
      "metadata": {
        "id": "uEE-92qgTQ4p"
      }
    },
    {
      "cell_type": "code",
      "source": [
        "%%capture\n",
        "! wget https://nuage.lip6.fr/s/BbQ9rzGHKJexKYp/download/sales.tar -O /tmp/sales.tar\n",
        "!mkdir /tmp/delta\n",
        "! tar xvf /tmp/sales.tar -C /tmp/delta\n"
      ],
      "metadata": {
        "id": "95fudS-iTbB5"
      },
      "execution_count": null,
      "outputs": []
    },
    {
      "cell_type": "code",
      "source": [
        "!ls /tmp/delta/sales"
      ],
      "metadata": {
        "colab": {
          "base_uri": "https://localhost:8080/"
        },
        "id": "o7YspSlaTdTh",
        "outputId": "fc0c4ea5-68af-48b8-83a3-1929f6f8c2bd"
      },
      "execution_count": null,
      "outputs": [
        {
          "output_type": "stream",
          "name": "stdout",
          "text": [
            "march23_sales.csv  salesOriginal.csv\n"
          ]
        }
      ]
    },
    {
      "cell_type": "markdown",
      "source": [
        "## Demo1: first steps"
      ],
      "metadata": {
        "id": "PPmP7vcOr6XX"
      }
    },
    {
      "cell_type": "markdown",
      "source": [
        "### load the data into delta"
      ],
      "metadata": {
        "id": "6sBb4C8GteZR"
      }
    },
    {
      "cell_type": "code",
      "source": [
        "query = \"\"\"\n",
        "CREATE TABLE delta.`/tmp/delta-table` USING DELTA AS SELECT col1 as id FROM VALUES 0,1,2,3,4;\n",
        "\"\"\"\n",
        "spark.sql(query)\n"
      ],
      "metadata": {
        "colab": {
          "base_uri": "https://localhost:8080/"
        },
        "id": "4pqEJ8Q5Y4SX",
        "outputId": "cc0a01e8-49dc-4e78-97cc-74580b5e5738"
      },
      "execution_count": null,
      "outputs": [
        {
          "output_type": "execute_result",
          "data": {
            "text/plain": [
              "DataFrame[]"
            ]
          },
          "metadata": {},
          "execution_count": 7
        }
      ]
    },
    {
      "cell_type": "code",
      "source": [
        "query = \"\"\"\n",
        "SELECT * FROM delta.`/tmp/delta-table`;\n",
        "\"\"\"\n",
        "spark.sql(query).show()"
      ],
      "metadata": {
        "colab": {
          "base_uri": "https://localhost:8080/"
        },
        "id": "0biz8Q2kZGh5",
        "outputId": "54ec59eb-0379-4f5d-b88b-05fb3f49fc73"
      },
      "execution_count": null,
      "outputs": [
        {
          "output_type": "stream",
          "name": "stdout",
          "text": [
            "+---+\n",
            "| id|\n",
            "+---+\n",
            "|  2|\n",
            "|  3|\n",
            "|  4|\n",
            "|  0|\n",
            "|  1|\n",
            "+---+\n",
            "\n"
          ]
        }
      ]
    },
    {
      "cell_type": "markdown",
      "source": [
        "### update the data\n",
        "#### overwrite"
      ],
      "metadata": {
        "id": "7gC5yWqIti5z"
      }
    },
    {
      "cell_type": "code",
      "source": [
        "query = \"\"\"\n",
        "INSERT OVERWRITE delta.`/tmp/delta-table` SELECT col1 as id FROM VALUES 5,6,7,8,9;\n",
        "\"\"\"\n",
        "spark.sql(query).show()\n"
      ],
      "metadata": {
        "colab": {
          "base_uri": "https://localhost:8080/"
        },
        "id": "54vtYTfOZWMg",
        "outputId": "8fd9ac2e-9bad-46d9-befa-09d2bb1fe360"
      },
      "execution_count": null,
      "outputs": [
        {
          "output_type": "stream",
          "name": "stdout",
          "text": [
            "++\n",
            "||\n",
            "++\n",
            "++\n",
            "\n"
          ]
        }
      ]
    },
    {
      "cell_type": "code",
      "source": [
        "query = \"\"\"\n",
        "SELECT * FROM delta.`/tmp/delta-table`;\n",
        "\"\"\"\n",
        "spark.sql(query).show()"
      ],
      "metadata": {
        "colab": {
          "base_uri": "https://localhost:8080/"
        },
        "id": "d4UkNiH4ZanE",
        "outputId": "c022e018-7daf-483a-958e-b99db64282d7"
      },
      "execution_count": null,
      "outputs": [
        {
          "output_type": "stream",
          "name": "stdout",
          "text": [
            "+---+\n",
            "| id|\n",
            "+---+\n",
            "|  7|\n",
            "|  8|\n",
            "|  9|\n",
            "|  5|\n",
            "|  6|\n",
            "+---+\n",
            "\n"
          ]
        }
      ]
    },
    {
      "cell_type": "markdown",
      "source": [
        "#### conditional overwrite"
      ],
      "metadata": {
        "id": "n51K-OE-zEbi"
      }
    },
    {
      "cell_type": "code",
      "source": [
        "query = \"\"\"\n",
        "UPDATE delta.`/tmp/delta-table` SET id = id + 100 WHERE id % 2 == 0;\n",
        "\"\"\"\n",
        "spark.sql(query).show()\n"
      ],
      "metadata": {
        "colab": {
          "base_uri": "https://localhost:8080/"
        },
        "id": "PgZYQlzKZmC-",
        "outputId": "cf21ec71-0ad8-477a-adde-c2114de6c6b4"
      },
      "execution_count": null,
      "outputs": [
        {
          "output_type": "stream",
          "name": "stdout",
          "text": [
            "+-----------------+\n",
            "|num_affected_rows|\n",
            "+-----------------+\n",
            "|                2|\n",
            "+-----------------+\n",
            "\n"
          ]
        }
      ]
    },
    {
      "cell_type": "code",
      "source": [
        "query = \"\"\"\n",
        "SELECT * FROM delta.`/tmp/delta-table`;\n",
        "\"\"\"\n",
        "spark.sql(query).show()"
      ],
      "metadata": {
        "colab": {
          "base_uri": "https://localhost:8080/"
        },
        "id": "ZGyGJUbTZ5Tk",
        "outputId": "c772fc60-2494-4e5e-98ae-27af3e5bf116"
      },
      "execution_count": null,
      "outputs": [
        {
          "output_type": "stream",
          "name": "stdout",
          "text": [
            "+---+\n",
            "| id|\n",
            "+---+\n",
            "|  7|\n",
            "|108|\n",
            "|  9|\n",
            "|  5|\n",
            "|106|\n",
            "+---+\n",
            "\n"
          ]
        }
      ]
    },
    {
      "cell_type": "code",
      "source": [
        "query = \"\"\"\n",
        "DELETE FROM delta.`/tmp/delta-table` WHERE id % 2 == 0;\n",
        "\"\"\"\n",
        "spark.sql(query).show()"
      ],
      "metadata": {
        "colab": {
          "base_uri": "https://localhost:8080/"
        },
        "id": "WEOePP5UaIhx",
        "outputId": "2f78b38c-4f9f-4aa7-9ed2-30ee8f612062"
      },
      "execution_count": null,
      "outputs": [
        {
          "output_type": "stream",
          "name": "stdout",
          "text": [
            "+-----------------+\n",
            "|num_affected_rows|\n",
            "+-----------------+\n",
            "|                2|\n",
            "+-----------------+\n",
            "\n"
          ]
        }
      ]
    },
    {
      "cell_type": "code",
      "source": [
        "query = \"\"\"\n",
        "SELECT * FROM delta.`/tmp/delta-table`;\n",
        "\"\"\"\n",
        "spark.sql(query).show()"
      ],
      "metadata": {
        "colab": {
          "base_uri": "https://localhost:8080/"
        },
        "id": "Tycomqu-aIfb",
        "outputId": "3e8e9e10-bf58-4816-c209-9f9a2993818c"
      },
      "execution_count": null,
      "outputs": [
        {
          "output_type": "stream",
          "name": "stdout",
          "text": [
            "+---+\n",
            "| id|\n",
            "+---+\n",
            "|  7|\n",
            "|  9|\n",
            "|  5|\n",
            "+---+\n",
            "\n"
          ]
        }
      ]
    },
    {
      "cell_type": "code",
      "source": [
        "query = \"\"\"\n",
        "CREATE TEMP VIEW newData AS SELECT col1 AS id FROM VALUES 1,3,5,7,9,11,13,15,17,19;\n",
        "\"\"\"\n",
        "spark.sql(query).show()"
      ],
      "metadata": {
        "colab": {
          "base_uri": "https://localhost:8080/"
        },
        "id": "vwV6XupUaPIL",
        "outputId": "947bc172-ea5f-47da-cc68-1d6eca640261"
      },
      "execution_count": null,
      "outputs": [
        {
          "output_type": "stream",
          "name": "stdout",
          "text": [
            "++\n",
            "||\n",
            "++\n",
            "++\n",
            "\n"
          ]
        }
      ]
    },
    {
      "cell_type": "code",
      "source": [
        "query = \"\"\"\n",
        "SELECT * FROM `newData`;\n",
        "\"\"\"\n",
        "spark.sql(query).show()"
      ],
      "metadata": {
        "colab": {
          "base_uri": "https://localhost:8080/"
        },
        "id": "M96V_5IBaZhE",
        "outputId": "1eb1e98c-b7d9-40f6-c707-d85755f6370a"
      },
      "execution_count": null,
      "outputs": [
        {
          "output_type": "stream",
          "name": "stdout",
          "text": [
            "+---+\n",
            "| id|\n",
            "+---+\n",
            "|  1|\n",
            "|  3|\n",
            "|  5|\n",
            "|  7|\n",
            "|  9|\n",
            "| 11|\n",
            "| 13|\n",
            "| 15|\n",
            "| 17|\n",
            "| 19|\n",
            "+---+\n",
            "\n"
          ]
        }
      ]
    },
    {
      "cell_type": "code",
      "source": [
        "query = \"\"\"\n",
        "MERGE INTO delta.`/tmp/delta-table` AS oldData\n",
        "USING newData\n",
        "ON oldData.id = newData.id\n",
        "WHEN MATCHED\n",
        "  THEN UPDATE SET id = newData.id\n",
        "WHEN NOT MATCHED\n",
        "  THEN INSERT (id) VALUES (newData.id);\n",
        "\"\"\"\n",
        "spark.sql(query).show()"
      ],
      "metadata": {
        "colab": {
          "base_uri": "https://localhost:8080/"
        },
        "id": "3bPAmhZlaWez",
        "outputId": "00707968-11f4-4384-da3e-f59bdf998c95"
      },
      "execution_count": null,
      "outputs": [
        {
          "output_type": "stream",
          "name": "stdout",
          "text": [
            "+-----------------+----------------+----------------+-----------------+\n",
            "|num_affected_rows|num_updated_rows|num_deleted_rows|num_inserted_rows|\n",
            "+-----------------+----------------+----------------+-----------------+\n",
            "|               10|               3|               0|                7|\n",
            "+-----------------+----------------+----------------+-----------------+\n",
            "\n"
          ]
        }
      ]
    },
    {
      "cell_type": "code",
      "source": [
        "query = \"\"\"\n",
        "SELECT * FROM delta.`/tmp/delta-table`;\n",
        "\"\"\"\n",
        "spark.sql(query).show()"
      ],
      "metadata": {
        "colab": {
          "base_uri": "https://localhost:8080/"
        },
        "id": "EVIy7AOmaPA5",
        "outputId": "2d61a58b-c587-4b98-f934-e58bb4625f73"
      },
      "execution_count": null,
      "outputs": [
        {
          "output_type": "stream",
          "name": "stdout",
          "text": [
            "+---+\n",
            "| id|\n",
            "+---+\n",
            "|  1|\n",
            "|  3|\n",
            "|  5|\n",
            "|  7|\n",
            "|  9|\n",
            "| 11|\n",
            "| 13|\n",
            "| 15|\n",
            "| 17|\n",
            "| 19|\n",
            "+---+\n",
            "\n"
          ]
        }
      ]
    },
    {
      "cell_type": "markdown",
      "source": [
        "### viewing history"
      ],
      "metadata": {
        "id": "LFk6LjuF6YLI"
      }
    },
    {
      "cell_type": "code",
      "source": [
        "query = \"\"\"\n",
        "DESCRIBE HISTORY delta.`/tmp/delta-table`\n",
        "\"\"\"\n",
        "spark.sql(query).show()"
      ],
      "metadata": {
        "colab": {
          "base_uri": "https://localhost:8080/"
        },
        "id": "yWt5s4DlEN-s",
        "outputId": "1935f814-56ae-4c1e-88bc-fbf197bb14a9"
      },
      "execution_count": null,
      "outputs": [
        {
          "output_type": "stream",
          "name": "stdout",
          "text": [
            "+-------+--------------------+------+--------+--------------------+--------------------+----+--------+---------+-----------+--------------+-------------+--------------------+------------+--------------------+\n",
            "|version|           timestamp|userId|userName|           operation| operationParameters| job|notebook|clusterId|readVersion|isolationLevel|isBlindAppend|    operationMetrics|userMetadata|          engineInfo|\n",
            "+-------+--------------------+------+--------+--------------------+--------------------+----+--------+---------+-----------+--------------+-------------+--------------------+------------+--------------------+\n",
            "|      8|2024-10-10 06:13:...|  NULL|    NULL|               MERGE|{predicate -> [\"(...|NULL|    NULL|     NULL|          7|  Serializable|        false|{numTargetRowsCop...|        NULL|Apache-Spark/3.5....|\n",
            "|      7|2024-10-10 06:12:...|  NULL|    NULL|              DELETE|{predicate -> [\"(...|NULL|    NULL|     NULL|          6|  Serializable|        false|{numRemovedFiles ...|        NULL|Apache-Spark/3.5....|\n",
            "|      6|2024-10-10 06:12:...|  NULL|    NULL|              UPDATE|{predicate -> [\"(...|NULL|    NULL|     NULL|          5|  Serializable|        false|{numRemovedFiles ...|        NULL|Apache-Spark/3.5....|\n",
            "|      5|2024-10-10 06:12:...|  NULL|    NULL|               WRITE|{mode -> Overwrit...|NULL|    NULL|     NULL|          4|  Serializable|        false|{numFiles -> 2, n...|        NULL|Apache-Spark/3.5....|\n",
            "|      4|2024-10-10 06:12:...|  NULL|    NULL|               WRITE|{mode -> Overwrit...|NULL|    NULL|     NULL|          3|  Serializable|        false|{numFiles -> 2, n...|        NULL|Apache-Spark/3.5....|\n",
            "|      3|2024-10-10 06:11:...|  NULL|    NULL|              UPDATE|{predicate -> [\"(...|NULL|    NULL|     NULL|          2|  Serializable|        false|{numRemovedFiles ...|        NULL|Apache-Spark/3.5....|\n",
            "|      2|2024-10-10 06:11:...|  NULL|    NULL|              UPDATE|{predicate -> [\"(...|NULL|    NULL|     NULL|          1|  Serializable|        false|{numRemovedFiles ...|        NULL|Apache-Spark/3.5....|\n",
            "|      1|2024-10-10 06:10:...|  NULL|    NULL|               WRITE|{mode -> Overwrit...|NULL|    NULL|     NULL|          0|  Serializable|        false|{numFiles -> 2, n...|        NULL|Apache-Spark/3.5....|\n",
            "|      0|2024-10-10 06:10:...|  NULL|    NULL|CREATE TABLE AS S...|{isManaged -> fal...|NULL|    NULL|     NULL|       NULL|  Serializable|         true|{numFiles -> 2, n...|        NULL|Apache-Spark/3.5....|\n",
            "+-------+--------------------+------+--------+--------------------+--------------------+----+--------+---------+-----------+--------------+-------------+--------------------+------------+--------------------+\n",
            "\n"
          ]
        }
      ]
    },
    {
      "cell_type": "code",
      "source": [
        "query = \"\"\"\n",
        "SELECT * FROM delta.`/tmp/delta-table` VERSION AS OF 0;\n",
        "\"\"\"\n",
        "spark.sql(query).show()"
      ],
      "metadata": {
        "colab": {
          "base_uri": "https://localhost:8080/"
        },
        "id": "4M23w7FrbuRj",
        "outputId": "52ee953f-5df3-42b0-e9b8-b2499eedffb1"
      },
      "execution_count": null,
      "outputs": [
        {
          "output_type": "stream",
          "name": "stdout",
          "text": [
            "+---+\n",
            "| id|\n",
            "+---+\n",
            "|  2|\n",
            "|  3|\n",
            "|  4|\n",
            "|  0|\n",
            "|  1|\n",
            "+---+\n",
            "\n"
          ]
        }
      ]
    },
    {
      "cell_type": "code",
      "source": [
        "query = \"\"\"\n",
        "SELECT * FROM delta.`/tmp/delta-table` VERSION AS OF 1;\n",
        "\"\"\"\n",
        "spark.sql(query).show()"
      ],
      "metadata": {
        "colab": {
          "base_uri": "https://localhost:8080/"
        },
        "id": "BxTIpNxYbzDV",
        "outputId": "3da0fe8a-8fb3-47f1-ba9f-44026e4b86e4"
      },
      "execution_count": null,
      "outputs": [
        {
          "output_type": "stream",
          "name": "stdout",
          "text": [
            "+---+\n",
            "| id|\n",
            "+---+\n",
            "|  7|\n",
            "|  8|\n",
            "|  9|\n",
            "|  5|\n",
            "|  6|\n",
            "+---+\n",
            "\n"
          ]
        }
      ]
    },
    {
      "cell_type": "markdown",
      "source": [
        "## Creating synthetic data\n"
      ],
      "metadata": {
        "id": "8h6Zc1bPoAUB"
      }
    },
    {
      "cell_type": "markdown",
      "source": [
        "### Persons"
      ],
      "metadata": {
        "id": "IQBLb81vr2_o"
      }
    },
    {
      "cell_type": "code",
      "source": [
        "query = \"\"\"\n",
        "CREATE TABLE delta.`/tmp/persons` USING DELTA AS\n",
        "SELECT col1 as serial, col2 as name, col3 as age, col4 as address\n",
        "FROM VALUES (\"12345\", \"Alice\", 25, \"123 Main St\"),\n",
        "            (\"67890\", \"Bob\", 30, \"456 Oak Ave\"),\n",
        "            (\"24680\", \"Charlie\", 35, \"789 Elm St\");\n",
        "\"\"\"\n",
        "spark.sql(query)\n"
      ],
      "metadata": {
        "colab": {
          "base_uri": "https://localhost:8080/"
        },
        "id": "Mz04HT1LqHms",
        "outputId": "845cead4-c7c2-4c3c-bf3a-676fade7e279"
      },
      "execution_count": null,
      "outputs": [
        {
          "output_type": "execute_result",
          "data": {
            "text/plain": [
              "DataFrame[]"
            ]
          },
          "metadata": {},
          "execution_count": 8
        }
      ]
    },
    {
      "cell_type": "code",
      "source": [
        "query = \"\"\"\n",
        "SELECT * FROM delta.`/tmp/persons`;\n",
        "\"\"\"\n",
        "spark.sql(query).show()"
      ],
      "metadata": {
        "colab": {
          "base_uri": "https://localhost:8080/"
        },
        "id": "BRS4ng1Exzty",
        "outputId": "817d93cb-8af6-4b26-e9e2-246f3d67f1d6"
      },
      "execution_count": null,
      "outputs": [
        {
          "output_type": "stream",
          "name": "stdout",
          "text": [
            "+------+-------+---+-----------+\n",
            "|serial|   name|age|    address|\n",
            "+------+-------+---+-----------+\n",
            "| 12345|  Alice| 25|123 Main St|\n",
            "| 67890|    Bob| 30|456 Oak Ave|\n",
            "| 24680|Charlie| 35| 789 Elm St|\n",
            "+------+-------+---+-----------+\n",
            "\n"
          ]
        }
      ]
    },
    {
      "cell_type": "code",
      "source": [
        "query = \"\"\"\n",
        "CREATE TEMP VIEW newPersons AS\n",
        "SELECT col1 as serial, col2 as name, col3 as age, col4 as address\n",
        "FROM VALUES (\"78120\", \"Dan\", 42, \"432 Holly Rd\"), (\"97362\", \"Lorry\", 40, \"290 Wise Ave\"), (\"12345\", \"Alice\", 25, \"123 Main St\")\n",
        "\"\"\"\n",
        "spark.sql(query)"
      ],
      "metadata": {
        "colab": {
          "base_uri": "https://localhost:8080/"
        },
        "id": "r7wKrQvYyCT_",
        "outputId": "81a510f2-ebff-4397-a890-328a3556f3d3"
      },
      "execution_count": null,
      "outputs": [
        {
          "output_type": "execute_result",
          "data": {
            "text/plain": [
              "DataFrame[]"
            ]
          },
          "metadata": {},
          "execution_count": 10
        }
      ]
    },
    {
      "cell_type": "code",
      "source": [
        "query = \"\"\"\n",
        "SELECT * from newPersons\n",
        "\"\"\"\n",
        "spark.sql(query).show()"
      ],
      "metadata": {
        "colab": {
          "base_uri": "https://localhost:8080/"
        },
        "id": "GjBg5aKyqjjk",
        "outputId": "9a6f2064-d1fe-4d00-dd55-f47dfb7e7920"
      },
      "execution_count": null,
      "outputs": [
        {
          "output_type": "stream",
          "name": "stdout",
          "text": [
            "+------+-----+---+------------+\n",
            "|serial| name|age|     address|\n",
            "+------+-----+---+------------+\n",
            "| 78120|  Dan| 42|432 Holly Rd|\n",
            "| 97362|Lorry| 40|290 Wise Ave|\n",
            "| 12345|Alice| 25| 123 Main St|\n",
            "+------+-----+---+------------+\n",
            "\n"
          ]
        }
      ]
    },
    {
      "cell_type": "markdown",
      "source": [
        "### Salaries"
      ],
      "metadata": {
        "id": "hrInpLvgod65"
      }
    },
    {
      "cell_type": "code",
      "source": [
        "query = \"\"\"\n",
        "CREATE TABLE delta.`/tmp/salaries` USING DELTA AS\n",
        "SELECT col1 as serial, col2 as salary\n",
        "FROM VALUES (\"12345\", 45000),\n",
        "        (\"67890\", 52000),\n",
        "        (\"24680\", 36000),\n",
        "        (\"78120\", 60000),\n",
        "        (\"97362\",38000)\n",
        "\"\"\"\n",
        "spark.sql(query)"
      ],
      "metadata": {
        "colab": {
          "base_uri": "https://localhost:8080/"
        },
        "id": "MVChthzayPAH",
        "outputId": "6366d5e6-53f4-43eb-c01b-a5c62cfefef3"
      },
      "execution_count": null,
      "outputs": [
        {
          "output_type": "execute_result",
          "data": {
            "text/plain": [
              "DataFrame[]"
            ]
          },
          "metadata": {},
          "execution_count": 12
        }
      ]
    },
    {
      "cell_type": "code",
      "source": [
        "query = \"\"\"\n",
        "SELECT * from delta.`/tmp/salaries`\n",
        "\"\"\"\n",
        "spark.sql(query).show()"
      ],
      "metadata": {
        "colab": {
          "base_uri": "https://localhost:8080/"
        },
        "id": "Q1Z-4SS8yO0_",
        "outputId": "e53598cb-704e-413f-d2cb-4b82e9304790"
      },
      "execution_count": null,
      "outputs": [
        {
          "output_type": "stream",
          "name": "stdout",
          "text": [
            "+------+------+\n",
            "|serial|salary|\n",
            "+------+------+\n",
            "| 24680| 36000|\n",
            "| 78120| 60000|\n",
            "| 97362| 38000|\n",
            "| 12345| 45000|\n",
            "| 67890| 52000|\n",
            "+------+------+\n",
            "\n"
          ]
        }
      ]
    },
    {
      "cell_type": "code",
      "source": [
        "query = \"\"\"\n",
        "CREATE TEMP VIEW newSalaries AS\n",
        "SELECT col1 as serial, col2 as salary\n",
        "FROM VALUES (\"12345\", 47000),\n",
        "        (\"67890\", 50000),\n",
        "        (\"24680\", 46000),\n",
        "        (\"78120\", 61000),\n",
        "        (\"97362\",39000)\n",
        "\"\"\"\n",
        "spark.sql(query)"
      ],
      "metadata": {
        "colab": {
          "base_uri": "https://localhost:8080/"
        },
        "id": "TgVPE7qXytsy",
        "outputId": "b1eccd57-3cf4-4dff-b2c2-f10ddd0fccb8"
      },
      "execution_count": null,
      "outputs": [
        {
          "output_type": "execute_result",
          "data": {
            "text/plain": [
              "DataFrame[]"
            ]
          },
          "metadata": {},
          "execution_count": 14
        }
      ]
    },
    {
      "cell_type": "code",
      "source": [
        "query = \"\"\"\n",
        "SELECT * from newSalaries\n",
        "\"\"\"\n",
        "spark.sql(query).show()"
      ],
      "metadata": {
        "colab": {
          "base_uri": "https://localhost:8080/"
        },
        "id": "XodXLDZGytly",
        "outputId": "990fc0f2-57ba-4cbd-8401-857b39887662"
      },
      "execution_count": null,
      "outputs": [
        {
          "output_type": "stream",
          "name": "stdout",
          "text": [
            "+------+------+\n",
            "|serial|salary|\n",
            "+------+------+\n",
            "| 12345| 47000|\n",
            "| 67890| 50000|\n",
            "| 24680| 46000|\n",
            "| 78120| 61000|\n",
            "| 97362| 39000|\n",
            "+------+------+\n",
            "\n"
          ]
        }
      ]
    },
    {
      "cell_type": "markdown",
      "source": [
        "### Sales"
      ],
      "metadata": {
        "id": "qvCkgOJ2o51k"
      }
    },
    {
      "cell_type": "code",
      "source": [
        "query = \"\"\"\n",
        "CREATE TABLE delta.`/tmp/sales` USING DELTA AS\n",
        "SELECT col1 as product_id, col2 as quantity, col3 as totalprice\n",
        "FROM VALUES (\"CHA_2\",2,60),(\"BED_4\",1,300),(\"SHO_15\",2,60)\n",
        "\"\"\"\n",
        "spark.sql(query)"
      ],
      "metadata": {
        "colab": {
          "base_uri": "https://localhost:8080/"
        },
        "id": "UHT6rUe3zGtE",
        "outputId": "0dad0021-266c-4000-c657-50226cc1476d"
      },
      "execution_count": null,
      "outputs": [
        {
          "output_type": "execute_result",
          "data": {
            "text/plain": [
              "DataFrame[]"
            ]
          },
          "metadata": {},
          "execution_count": 16
        }
      ]
    },
    {
      "cell_type": "code",
      "source": [
        "query = \"\"\"\n",
        "SELECT * FROM delta.`/tmp/sales`\n",
        "\"\"\"\n",
        "spark.sql(query).show()"
      ],
      "metadata": {
        "colab": {
          "base_uri": "https://localhost:8080/"
        },
        "id": "IcvSG8Bs1qJu",
        "outputId": "3e22c9b7-4c65-4cfa-a119-5522694837da"
      },
      "execution_count": null,
      "outputs": [
        {
          "output_type": "stream",
          "name": "stdout",
          "text": [
            "+----------+--------+----------+\n",
            "|product_id|quantity|totalprice|\n",
            "+----------+--------+----------+\n",
            "|     BED_4|       1|       300|\n",
            "|    SHO_15|       2|        60|\n",
            "|     CHA_2|       2|        60|\n",
            "+----------+--------+----------+\n",
            "\n"
          ]
        }
      ]
    },
    {
      "cell_type": "code",
      "source": [
        "query = \"\"\"\n",
        "CREATE TABLE delta.`/tmp/salesStatus` USING DELTA AS\n",
        "SELECT product_id, quantity, totalprice, 'available' as status\n",
        "FROM delta.`/tmp/sales`\n",
        "\"\"\"\n",
        "spark.sql(query)"
      ],
      "metadata": {
        "colab": {
          "base_uri": "https://localhost:8080/"
        },
        "id": "loBnyH7QGVc1",
        "outputId": "2beb1a15-093b-4218-c9f4-6e8363a3cc63"
      },
      "execution_count": null,
      "outputs": [
        {
          "output_type": "execute_result",
          "data": {
            "text/plain": [
              "DataFrame[]"
            ]
          },
          "metadata": {},
          "execution_count": 18
        }
      ]
    },
    {
      "cell_type": "code",
      "source": [
        "query = \"\"\"\n",
        "SELECT * FROM delta.`/tmp/salesStatus`\n",
        "\"\"\"\n",
        "spark.sql(query).show()"
      ],
      "metadata": {
        "colab": {
          "base_uri": "https://localhost:8080/"
        },
        "id": "i389omYMGoeL",
        "outputId": "0b5fbd13-fd66-4efc-9b7a-164eabe2d3b6"
      },
      "execution_count": null,
      "outputs": [
        {
          "output_type": "stream",
          "name": "stdout",
          "text": [
            "+----------+--------+----------+---------+\n",
            "|product_id|quantity|totalprice|   status|\n",
            "+----------+--------+----------+---------+\n",
            "|     BED_4|       1|       300|available|\n",
            "|    SHO_15|       2|        60|available|\n",
            "|     CHA_2|       2|        60|available|\n",
            "+----------+--------+----------+---------+\n",
            "\n"
          ]
        }
      ]
    },
    {
      "cell_type": "code",
      "source": [
        "query = \"\"\"\n",
        "CREATE TEMP VIEW newSales AS\n",
        "SELECT col1 as product_id, col2 as quantity, col3 as totalprice\n",
        "FROM VALUES (\"SHO_15\",3,90),(\"CHA_2\",1,30),(\"BED_6\",1,200)\n",
        "\n",
        "\"\"\"\n",
        "spark.sql(query)\n"
      ],
      "metadata": {
        "colab": {
          "base_uri": "https://localhost:8080/"
        },
        "id": "o80YSQtzzGnM",
        "outputId": "f993a18b-e29c-4d75-95a5-1d68f6bc2560"
      },
      "execution_count": null,
      "outputs": [
        {
          "output_type": "execute_result",
          "data": {
            "text/plain": [
              "DataFrame[]"
            ]
          },
          "metadata": {},
          "execution_count": 20
        }
      ]
    },
    {
      "cell_type": "code",
      "source": [
        "query = \"\"\"\n",
        "SELECT * FROM newSales\n",
        "\"\"\"\n",
        "spark.sql(query).show()"
      ],
      "metadata": {
        "colab": {
          "base_uri": "https://localhost:8080/"
        },
        "id": "Ede4oEeM2Wz1",
        "outputId": "9eb4b7ec-256b-451e-e995-456a6ca10fde"
      },
      "execution_count": null,
      "outputs": [
        {
          "output_type": "stream",
          "name": "stdout",
          "text": [
            "+----------+--------+----------+\n",
            "|product_id|quantity|totalprice|\n",
            "+----------+--------+----------+\n",
            "|    SHO_15|       3|        90|\n",
            "|     CHA_2|       1|        30|\n",
            "|     BED_6|       1|       200|\n",
            "+----------+--------+----------+\n",
            "\n"
          ]
        }
      ]
    },
    {
      "cell_type": "markdown",
      "source": [
        "### Products"
      ],
      "metadata": {
        "id": "29J3fU3po_v0"
      }
    },
    {
      "cell_type": "code",
      "source": [
        "query = \"\"\"\n",
        "CREATE TEMP VIEW products AS\n",
        "SELECT col1 as product_id, col2 as category, col3 as color\n",
        "FROM VALUES (\"CHA_2\",\"Furniture\",\"blue\"),(\"BED_4\",\"Furniture\",\"brown\"),(\"SHO_15\",\"Cloth\",\"black\")\n",
        "\n",
        "\"\"\"\n",
        "spark.sql(query)"
      ],
      "metadata": {
        "colab": {
          "base_uri": "https://localhost:8080/"
        },
        "id": "aTPJFSMp2bh7",
        "outputId": "a61a9121-f8b3-4ab1-9404-ece668d0d56b"
      },
      "execution_count": null,
      "outputs": [
        {
          "output_type": "execute_result",
          "data": {
            "text/plain": [
              "DataFrame[]"
            ]
          },
          "metadata": {},
          "execution_count": 22
        }
      ]
    },
    {
      "cell_type": "code",
      "source": [
        "query = \"\"\"\n",
        "SELECT * FROM products\n",
        "\"\"\"\n",
        "spark.sql(query).show()"
      ],
      "metadata": {
        "colab": {
          "base_uri": "https://localhost:8080/"
        },
        "id": "8RWuphHw2j-7",
        "outputId": "a9e9a92e-ce66-4a30-e330-12b2de114130"
      },
      "execution_count": null,
      "outputs": [
        {
          "output_type": "stream",
          "name": "stdout",
          "text": [
            "+----------+---------+-----+\n",
            "|product_id| category|color|\n",
            "+----------+---------+-----+\n",
            "|     CHA_2|Furniture| blue|\n",
            "|     BED_4|Furniture|brown|\n",
            "|    SHO_15|    Cloth|black|\n",
            "+----------+---------+-----+\n",
            "\n"
          ]
        }
      ]
    },
    {
      "cell_type": "markdown",
      "source": [
        "### Query the catalog"
      ],
      "metadata": {
        "id": "t0tJRTJ5FmxO"
      }
    },
    {
      "cell_type": "code",
      "source": [
        "query = \"\"\"\n",
        "SHOW Tables\n",
        "\"\"\"\n",
        "spark.sql(query).show()"
      ],
      "metadata": {
        "colab": {
          "base_uri": "https://localhost:8080/"
        },
        "id": "cpYC8IveFr6R",
        "outputId": "c162821a-66c9-418f-f618-d91716c92ff0"
      },
      "execution_count": null,
      "outputs": [
        {
          "output_type": "stream",
          "name": "stdout",
          "text": [
            "+---------+-----------+-----------+\n",
            "|namespace|  tableName|isTemporary|\n",
            "+---------+-----------+-----------+\n",
            "|         | newpersons|      false|\n",
            "|         |newsalaries|      false|\n",
            "|         |   newsales|      false|\n",
            "|         |   products|      false|\n",
            "+---------+-----------+-----------+\n",
            "\n"
          ]
        }
      ]
    },
    {
      "cell_type": "code",
      "source": [
        "query = \"\"\"\n",
        "Describe products\n",
        "\"\"\"\n",
        "spark.sql(query).show()"
      ],
      "metadata": {
        "colab": {
          "base_uri": "https://localhost:8080/"
        },
        "id": "zxZnxMF_Hgd7",
        "outputId": "07b707b0-ed2e-4e17-81cc-72bdbb5b0a32"
      },
      "execution_count": null,
      "outputs": [
        {
          "output_type": "stream",
          "name": "stdout",
          "text": [
            "+----------+---------+-------+\n",
            "|  col_name|data_type|comment|\n",
            "+----------+---------+-------+\n",
            "|product_id|   string|   NULL|\n",
            "|  category|   string|   NULL|\n",
            "|     color|   string|   NULL|\n",
            "+----------+---------+-------+\n",
            "\n"
          ]
        }
      ]
    },
    {
      "cell_type": "markdown",
      "source": [
        "## Demo2: delta operations"
      ],
      "metadata": {
        "id": "OkgbLaJW-P0w"
      }
    },
    {
      "cell_type": "markdown",
      "source": [
        "### Q1. Adding new tuples\n",
        "Consider the Delta table `persons` with the following columns: serial, name, age, and address. You have a new dataset `newPersons` with the same columns, but with additional records. Write a merge statement to update the Delta table with the new records.\n"
      ],
      "metadata": {
        "id": "aRP_QqBQN8W1"
      }
    },
    {
      "cell_type": "code",
      "source": [
        "query = \"\"\"\n",
        "Describe delta.`/tmp/persons`\n",
        "\"\"\"\n",
        "spark.sql(query).show()"
      ],
      "metadata": {
        "colab": {
          "base_uri": "https://localhost:8080/"
        },
        "id": "OKbp3K6iIAuI",
        "outputId": "94264f56-a361-4094-c501-04b343a5c5b6"
      },
      "execution_count": null,
      "outputs": [
        {
          "output_type": "stream",
          "name": "stdout",
          "text": [
            "+--------+---------+-------+\n",
            "|col_name|data_type|comment|\n",
            "+--------+---------+-------+\n",
            "|  serial|   string|   NULL|\n",
            "|    name|   string|   NULL|\n",
            "|     age|      int|   NULL|\n",
            "| address|   string|   NULL|\n",
            "+--------+---------+-------+\n",
            "\n"
          ]
        }
      ]
    },
    {
      "cell_type": "code",
      "source": [
        "query = \"\"\"\n",
        "SELECT * FROM\n",
        "delta.`/tmp/persons`\n",
        "\"\"\"\n",
        "spark.sql(query).show()"
      ],
      "metadata": {
        "id": "xuH35WVCIPO-"
      },
      "execution_count": null,
      "outputs": []
    },
    {
      "cell_type": "code",
      "source": [
        "query = \"\"\"\n",
        "MERGE INTO delta.`/tmp/persons` AS oldData\n",
        "USING newPersons\n",
        "ON oldData.serial = newPersons.serial\n",
        "WHEN NOT MATCHED\n",
        "  THEN INSERT *;\n",
        "\"\"\"\n",
        "spark.sql(query).show()"
      ],
      "metadata": {
        "colab": {
          "base_uri": "https://localhost:8080/"
        },
        "id": "GuQOLNgsEvLM",
        "outputId": "af0e7f1f-5264-4ae7-918f-3ec8bf9a1a03"
      },
      "execution_count": null,
      "outputs": [
        {
          "output_type": "stream",
          "name": "stdout",
          "text": [
            "+-----------------+----------------+----------------+-----------------+\n",
            "|num_affected_rows|num_updated_rows|num_deleted_rows|num_inserted_rows|\n",
            "+-----------------+----------------+----------------+-----------------+\n",
            "|                2|               0|               0|                2|\n",
            "+-----------------+----------------+----------------+-----------------+\n",
            "\n"
          ]
        }
      ]
    },
    {
      "cell_type": "code",
      "source": [
        "query = \"\"\"\n",
        "SELECT * FROM\n",
        "delta.`/tmp/persons`\n",
        "\"\"\"\n",
        "spark.sql(query).show()"
      ],
      "metadata": {
        "colab": {
          "base_uri": "https://localhost:8080/"
        },
        "id": "RkPVm4KAGcJ3",
        "outputId": "e2c5d720-6cf1-476e-f837-2dc0a061e2de"
      },
      "execution_count": null,
      "outputs": [
        {
          "output_type": "stream",
          "name": "stdout",
          "text": [
            "+------+-------+---+------------+\n",
            "|serial|   name|age|     address|\n",
            "+------+-------+---+------------+\n",
            "| 97362|  Lorry| 40|290 Wise Ave|\n",
            "| 12345|  Alice| 25| 123 Main St|\n",
            "| 78120|    Dan| 42|432 Holly Rd|\n",
            "| 67890|    Bob| 30| 456 Oak Ave|\n",
            "| 24680|Charlie| 35|  789 Elm St|\n",
            "+------+-------+---+------------+\n",
            "\n"
          ]
        }
      ]
    },
    {
      "cell_type": "markdown",
      "source": [
        "### Q2: updating existing tuples\n",
        "Assume you have a Delta table `salaries` with columns serial and salary. You want to update the salary of the employees who earn less than 50,000. You have a new dataset, `newSalaries` with the same columns but with updated salary information. Write a merge statement to update the `salaries` table with the new salary information.\n"
      ],
      "metadata": {
        "id": "nKD875I8OYT_"
      }
    },
    {
      "cell_type": "code",
      "source": [
        "query = \"\"\"\n",
        "Describe delta.`/tmp/salaries`\n",
        "\"\"\"\n",
        "spark.sql(query).show()"
      ],
      "metadata": {
        "colab": {
          "base_uri": "https://localhost:8080/"
        },
        "id": "8EzhpNL0Ih0u",
        "outputId": "2a83b4b4-1876-4a0c-b7c8-e90068e83b1c"
      },
      "execution_count": null,
      "outputs": [
        {
          "output_type": "stream",
          "name": "stdout",
          "text": [
            "+--------+---------+-------+\n",
            "|col_name|data_type|comment|\n",
            "+--------+---------+-------+\n",
            "|  serial|   string|   NULL|\n",
            "|  salary|      int|   NULL|\n",
            "+--------+---------+-------+\n",
            "\n"
          ]
        }
      ]
    },
    {
      "cell_type": "code",
      "source": [
        "query = \"\"\"\n",
        "SELECT * FROM\n",
        "delta.`/tmp/salaries`\n",
        "\"\"\"\n",
        "spark.sql(query).show()"
      ],
      "metadata": {
        "colab": {
          "base_uri": "https://localhost:8080/"
        },
        "id": "i9_9jpaZIlvT",
        "outputId": "ec7a790e-83cb-4215-86f8-44ef75c94b6d"
      },
      "execution_count": null,
      "outputs": [
        {
          "output_type": "stream",
          "name": "stdout",
          "text": [
            "+------+------+\n",
            "|serial|salary|\n",
            "+------+------+\n",
            "| 24680| 36000|\n",
            "| 78120| 60000|\n",
            "| 97362| 38000|\n",
            "| 12345| 45000|\n",
            "| 67890| 52000|\n",
            "+------+------+\n",
            "\n"
          ]
        }
      ]
    },
    {
      "cell_type": "code",
      "source": [
        "query = \"\"\"\n",
        "MERGE INTO delta.`/tmp/salaries` AS oldData\n",
        "USING newSalaries\n",
        "ON oldData.serial = newSalaries.serial\n",
        "WHEN MATCHED AND oldData.salary<50000\n",
        "  THEN UPDATE SET oldData.salary=newSalaries.salary;\n",
        "\"\"\"\n",
        "spark.sql(query).show()"
      ],
      "metadata": {
        "colab": {
          "base_uri": "https://localhost:8080/"
        },
        "id": "YutXzBL8Gp1U",
        "outputId": "f4e60d63-8622-4d03-d181-4ac75915282f"
      },
      "execution_count": null,
      "outputs": [
        {
          "output_type": "stream",
          "name": "stdout",
          "text": [
            "+-----------------+----------------+----------------+-----------------+\n",
            "|num_affected_rows|num_updated_rows|num_deleted_rows|num_inserted_rows|\n",
            "+-----------------+----------------+----------------+-----------------+\n",
            "|                3|               3|               0|                0|\n",
            "+-----------------+----------------+----------------+-----------------+\n",
            "\n"
          ]
        }
      ]
    },
    {
      "cell_type": "code",
      "source": [
        "query = \"\"\"\n",
        "SELECT * FROM\n",
        "delta.`/tmp/salaries`\n",
        "\"\"\"\n",
        "spark.sql(query).show()"
      ],
      "metadata": {
        "colab": {
          "base_uri": "https://localhost:8080/"
        },
        "id": "zgv1dfHtGpy1",
        "outputId": "9e9ec719-5167-47e6-cbf8-9e02ec7a77dd"
      },
      "execution_count": null,
      "outputs": [
        {
          "output_type": "stream",
          "name": "stdout",
          "text": [
            "+------+------+\n",
            "|serial|salary|\n",
            "+------+------+\n",
            "| 24680| 46000|\n",
            "| 78120| 60000|\n",
            "| 97362| 39000|\n",
            "| 12345| 47000|\n",
            "| 67890| 52000|\n",
            "+------+------+\n",
            "\n"
          ]
        }
      ]
    },
    {
      "cell_type": "markdown",
      "source": [
        "### Q3: adding new tuples and updating existing ones\n",
        "You have a Delta table `sales` with columns `product_id`, `quantity`, and `totalprice`. Write a merge statement to insert the new products from a dataframe `newSales` into `sales` and to make sure that, for existing products `sales` has the sum of the quantity and totalprice.\n"
      ],
      "metadata": {
        "id": "hU_0ZWKHoqwj"
      }
    },
    {
      "cell_type": "code",
      "source": [
        "query = \"\"\"\n",
        "Describe delta.`/tmp/sales`\n",
        "\"\"\"\n",
        "spark.sql(query).show()"
      ],
      "metadata": {
        "colab": {
          "base_uri": "https://localhost:8080/"
        },
        "id": "qHdrMl4UI32t",
        "outputId": "57f28995-ab2e-470a-d193-36149ba10265"
      },
      "execution_count": null,
      "outputs": [
        {
          "output_type": "stream",
          "name": "stdout",
          "text": [
            "+----------+---------+-------+\n",
            "|  col_name|data_type|comment|\n",
            "+----------+---------+-------+\n",
            "|product_id|   string|   NULL|\n",
            "|  quantity|      int|   NULL|\n",
            "|totalprice|      int|   NULL|\n",
            "+----------+---------+-------+\n",
            "\n"
          ]
        }
      ]
    },
    {
      "cell_type": "code",
      "source": [
        "query = \"\"\"\n",
        "SELECT * FROM\n",
        "delta.`/tmp/sales`\n",
        "\"\"\"\n",
        "spark.sql(query).show()"
      ],
      "metadata": {
        "colab": {
          "base_uri": "https://localhost:8080/"
        },
        "id": "SaYEljM4I7fS",
        "outputId": "712b89a6-ea9b-40ec-a0de-6e41065cc21e"
      },
      "execution_count": null,
      "outputs": [
        {
          "output_type": "stream",
          "name": "stdout",
          "text": [
            "+----------+--------+----------+\n",
            "|product_id|quantity|totalprice|\n",
            "+----------+--------+----------+\n",
            "|     BED_4|       1|       300|\n",
            "|    SHO_15|       2|        60|\n",
            "|     CHA_2|       2|        60|\n",
            "+----------+--------+----------+\n",
            "\n"
          ]
        }
      ]
    },
    {
      "cell_type": "code",
      "source": [
        "query = \"\"\"\n",
        "MERGE INTO delta.`/tmp/sales` AS oldData\n",
        "USING newSales\n",
        "ON oldData.product_id = newSales.product_id\n",
        "WHEN MATCHED\n",
        "  THEN UPDATE SET oldData.quantity = oldData.quantity + newSales.quantity,\n",
        "                  oldData.totalprice = oldData.totalprice + newSales.totalprice\n",
        "WHEN NOT MATCHED\n",
        "  THEN INSERT *\n",
        "\"\"\"\n",
        "spark.sql(query).show()"
      ],
      "metadata": {
        "colab": {
          "base_uri": "https://localhost:8080/"
        },
        "id": "CiHqjAQxIbAP",
        "outputId": "786faf8a-e479-480f-baaf-d12f05b30d0d"
      },
      "execution_count": null,
      "outputs": [
        {
          "output_type": "stream",
          "name": "stdout",
          "text": [
            "+-----------------+----------------+----------------+-----------------+\n",
            "|num_affected_rows|num_updated_rows|num_deleted_rows|num_inserted_rows|\n",
            "+-----------------+----------------+----------------+-----------------+\n",
            "|                3|               2|               0|                1|\n",
            "+-----------------+----------------+----------------+-----------------+\n",
            "\n"
          ]
        }
      ]
    },
    {
      "cell_type": "code",
      "source": [
        "query = \"\"\"\n",
        "SELECT * FROM\n",
        "delta.`/tmp/sales`\n",
        "\"\"\"\n",
        "spark.sql(query).show()"
      ],
      "metadata": {
        "colab": {
          "base_uri": "https://localhost:8080/"
        },
        "id": "BA6nfkPGIa5D",
        "outputId": "819da96c-72e7-4180-d0d2-35668dec3f73"
      },
      "execution_count": null,
      "outputs": [
        {
          "output_type": "stream",
          "name": "stdout",
          "text": [
            "+----------+--------+----------+\n",
            "|product_id|quantity|totalprice|\n",
            "+----------+--------+----------+\n",
            "|     BED_4|       1|       300|\n",
            "|     BED_6|       1|       200|\n",
            "|     CHA_2|       3|        90|\n",
            "|    SHO_15|       5|       150|\n",
            "+----------+--------+----------+\n",
            "\n"
          ]
        }
      ]
    },
    {
      "cell_type": "markdown",
      "source": [
        "### Q4: Merging tables with different schemas\n",
        "Consier the delta table `sales`.  Write a merge statement to augment `sales` with the cateogry and the color of the products by using an auxiliary table `Products` whose schema is `product_id`, `category` and `color` and such that `product_id` can used for matching the tuples of `sales`."
      ],
      "metadata": {
        "id": "cOCzQqTmy7h9"
      }
    },
    {
      "cell_type": "code",
      "source": [
        "query = \"\"\"\n",
        "MERGE INTO delta.`/tmp/sales` oldData\n",
        "USING products\n",
        "ON oldData.product_id = products.product_id\n",
        "WHEN MATCHED\n",
        "  THEN UPDATE SET *\n",
        "WHEN NOT MATCHED\n",
        "  THEN INSERT *\n",
        "\"\"\"\n",
        "spark.sql(query).show()"
      ],
      "metadata": {
        "colab": {
          "base_uri": "https://localhost:8080/"
        },
        "id": "eNPS7CN5Kj-v",
        "outputId": "044c3191-9aed-482e-d053-11b4e061c684"
      },
      "execution_count": null,
      "outputs": [
        {
          "output_type": "stream",
          "name": "stdout",
          "text": [
            "+-----------------+----------------+----------------+-----------------+\n",
            "|num_affected_rows|num_updated_rows|num_deleted_rows|num_inserted_rows|\n",
            "+-----------------+----------------+----------------+-----------------+\n",
            "|                3|               3|               0|                0|\n",
            "+-----------------+----------------+----------------+-----------------+\n",
            "\n"
          ]
        }
      ]
    },
    {
      "cell_type": "code",
      "source": [
        "query = \"\"\"\n",
        "SELECT * FROM delta.`/tmp/sales`\n",
        "\"\"\"\n",
        "spark.sql(query).show()"
      ],
      "metadata": {
        "colab": {
          "base_uri": "https://localhost:8080/"
        },
        "id": "jGPtjZOcLhWr",
        "outputId": "b9a08054-9a03-40d0-bf1a-9a4dfd63a363"
      },
      "execution_count": null,
      "outputs": [
        {
          "output_type": "stream",
          "name": "stdout",
          "text": [
            "+----------+--------+----------+---------+-----+\n",
            "|product_id|quantity|totalprice| category|color|\n",
            "+----------+--------+----------+---------+-----+\n",
            "|     BED_4|       1|       300|Furniture|brown|\n",
            "|     BED_6|       1|       200|     NULL| NULL|\n",
            "|     CHA_2|       3|        90|Furniture| blue|\n",
            "|    SHO_15|       5|       150|    Cloth|black|\n",
            "+----------+--------+----------+---------+-----+\n",
            "\n"
          ]
        }
      ]
    },
    {
      "cell_type": "markdown",
      "source": [
        "### Q5: updating existing tuples when not matched by source\n",
        "Consier the delta table `salesStatus` which extends the table `sales` with the column `status` meant to track the availability of products.\n",
        "Write a merge statement that:\n",
        "- updates the quantity of products in `salesStatus` by considering sales reported in `newSales` like in Q3 above and\n",
        "- marks the status of the products which are not reported in `newSales` as 'unavailable'"
      ],
      "metadata": {
        "id": "iLZxdogbGs05"
      }
    },
    {
      "cell_type": "code",
      "source": [
        "query = \"\"\"\n",
        "MERGE INTO delta.`/tmp/salesStatus` AS oldData\n",
        "USING newSales\n",
        "ON oldData.product_id = newSales.product_id\n",
        "WHEN MATCHED\n",
        "  THEN UPDATE SET oldData.quantity = oldData.quantity + newSales.quantity,\n",
        "                  oldData.totalprice = oldData.totalprice + newSales.totalprice\n",
        "WHEN NOT MATCHED BY SOURCE\n",
        "  THEN UPDATE SET oldData.status = 'unavailable'\n",
        "\"\"\"\n",
        "spark.sql(query).show()"
      ],
      "metadata": {
        "colab": {
          "base_uri": "https://localhost:8080/"
        },
        "id": "LawVDl8JIQyI",
        "outputId": "fd09b6b4-fb23-4dda-cdf0-72f18a3b220d"
      },
      "execution_count": null,
      "outputs": [
        {
          "output_type": "stream",
          "name": "stdout",
          "text": [
            "+-----------------+----------------+----------------+-----------------+\n",
            "|num_affected_rows|num_updated_rows|num_deleted_rows|num_inserted_rows|\n",
            "+-----------------+----------------+----------------+-----------------+\n",
            "|                3|               3|               0|                0|\n",
            "+-----------------+----------------+----------------+-----------------+\n",
            "\n"
          ]
        }
      ]
    },
    {
      "cell_type": "code",
      "source": [
        "query = \"\"\"\n",
        "SELECT * FROM delta.`/tmp/salesStatus`\n",
        "\"\"\"\n",
        "spark.sql(query).show()"
      ],
      "metadata": {
        "colab": {
          "base_uri": "https://localhost:8080/"
        },
        "id": "HGoK-tEEIVBc",
        "outputId": "4c55dad2-5e0d-4695-c46f-ca0916a44b5c"
      },
      "execution_count": null,
      "outputs": [
        {
          "output_type": "stream",
          "name": "stdout",
          "text": [
            "+----------+--------+----------+-----------+\n",
            "|product_id|quantity|totalprice|     status|\n",
            "+----------+--------+----------+-----------+\n",
            "|     BED_4|       1|       300|unavailable|\n",
            "|     CHA_2|       3|        90|  available|\n",
            "|    SHO_15|       5|       150|  available|\n",
            "+----------+--------+----------+-----------+\n",
            "\n"
          ]
        }
      ]
    },
    {
      "cell_type": "markdown",
      "source": [
        "## Demo 3: Attaching constraints"
      ],
      "metadata": {
        "id": "D6Q_U_6R1yBP"
      }
    },
    {
      "cell_type": "markdown",
      "source": [
        "### Not-null constraint"
      ],
      "metadata": {
        "id": "wWeLbIQj1-3D"
      }
    },
    {
      "cell_type": "code",
      "source": [
        "query = \"\"\"\n",
        "CREATE TABLE default.persons (\n",
        "    serial INT NOT NULL,\n",
        "    name STRING,\n",
        "    birthDate TIMESTAMP,\n",
        "    address STRING\n",
        "  ) USING DELTA;\n",
        "\"\"\"\n",
        "spark.sql(query)"
      ],
      "metadata": {
        "colab": {
          "base_uri": "https://localhost:8080/"
        },
        "id": "5TqMXDUD13mQ",
        "outputId": "43f29f79-cf6d-4183-eaf0-87702cd85390"
      },
      "execution_count": null,
      "outputs": [
        {
          "output_type": "execute_result",
          "data": {
            "text/plain": [
              "DataFrame[]"
            ]
          },
          "metadata": {},
          "execution_count": 7
        }
      ]
    },
    {
      "cell_type": "code",
      "source": [
        "query = \"\"\"insert into default.persons values (12345, \"Alice\",\"2000-02-01\" ,\"123 Main St\") \"\"\"\n",
        "spark.sql(query)"
      ],
      "metadata": {
        "colab": {
          "base_uri": "https://localhost:8080/"
        },
        "id": "ILZAiGWN3HzV",
        "outputId": "35b13dd4-5280-4070-cff5-231bda7ee802"
      },
      "execution_count": null,
      "outputs": [
        {
          "output_type": "execute_result",
          "data": {
            "text/plain": [
              "DataFrame[]"
            ]
          },
          "metadata": {},
          "execution_count": 8
        }
      ]
    },
    {
      "cell_type": "code",
      "source": [
        "query = \"\"\"select * from default.persons \"\"\"\n",
        "spark.sql(query).show()"
      ],
      "metadata": {
        "colab": {
          "base_uri": "https://localhost:8080/"
        },
        "id": "C7yIbaHm3bmb",
        "outputId": "29fea89e-795e-4922-d57a-c4d5c8a4a01b"
      },
      "execution_count": null,
      "outputs": [
        {
          "output_type": "stream",
          "name": "stdout",
          "text": [
            "+------+-----+-------------------+-----------+\n",
            "|serial| name|          birthDate|    address|\n",
            "+------+-----+-------------------+-----------+\n",
            "| 12345|Alice|2000-02-01 00:00:00|123 Main St|\n",
            "+------+-----+-------------------+-----------+\n",
            "\n"
          ]
        }
      ]
    },
    {
      "cell_type": "markdown",
      "source": [
        "Can we run the following statement?"
      ],
      "metadata": {
        "id": "8ukalnEM3tw0"
      }
    },
    {
      "cell_type": "code",
      "source": [
        "# query = \"\"\"insert into default.persons values (null, \"Bob\",\"1996-03-14\" ,\"456 Oak Ave\") \"\"\"\n",
        "# spark.sql(query).show()"
      ],
      "metadata": {
        "id": "e4QMxLUrMUsu"
      },
      "execution_count": null,
      "outputs": []
    },
    {
      "cell_type": "markdown",
      "source": [
        "### Predicate constraint"
      ],
      "metadata": {
        "id": "OCQ_46q02BDs"
      }
    },
    {
      "cell_type": "code",
      "source": [
        "spark.sql(\"\"\" ALTER TABLE default.persons ADD CONSTRAINT birthdate CHECK (birthDate > '2000-01-01'); \"\"\")"
      ],
      "metadata": {
        "colab": {
          "base_uri": "https://localhost:8080/"
        },
        "id": "yuhD3yaL2GU8",
        "outputId": "20fcaf1e-573c-406d-8bd8-02bd5308b3e9"
      },
      "execution_count": null,
      "outputs": [
        {
          "output_type": "execute_result",
          "data": {
            "text/plain": [
              "DataFrame[]"
            ]
          },
          "metadata": {},
          "execution_count": 62
        }
      ]
    },
    {
      "cell_type": "code",
      "source": [
        "spark.sql(\"\"\"SHOW TBLPROPERTIES default.persons\"\"\").show(truncate=False)"
      ],
      "metadata": {
        "colab": {
          "base_uri": "https://localhost:8080/"
        },
        "id": "wWsQJYGi4n0A",
        "outputId": "9a4d7436-d00f-4b37-ea25-690292a1303c"
      },
      "execution_count": null,
      "outputs": [
        {
          "output_type": "stream",
          "name": "stdout",
          "text": [
            "+---------------------------+------------------------+\n",
            "|key                        |value                   |\n",
            "+---------------------------+------------------------+\n",
            "|delta.constraints.birthdate|birthDate > '2000-01-01'|\n",
            "|delta.minReaderVersion     |1                       |\n",
            "|delta.minWriterVersion     |3                       |\n",
            "+---------------------------+------------------------+\n",
            "\n"
          ]
        }
      ]
    },
    {
      "cell_type": "code",
      "source": [
        "spark.sql(\"\"\"insert into default.persons values (47962, \"Bob\",\"2003-03-14\" ,\"456 Oak Ave\") \"\"\")"
      ],
      "metadata": {
        "colab": {
          "base_uri": "https://localhost:8080/"
        },
        "id": "L2jaoF7H35Uj",
        "outputId": "84276ae1-a40c-4644-bf36-abd464e2595f"
      },
      "execution_count": null,
      "outputs": [
        {
          "output_type": "execute_result",
          "data": {
            "text/plain": [
              "DataFrame[]"
            ]
          },
          "metadata": {},
          "execution_count": 64
        }
      ]
    },
    {
      "cell_type": "markdown",
      "source": [
        "Can we run the following statement?"
      ],
      "metadata": {
        "id": "hESBMIS434pn"
      }
    },
    {
      "cell_type": "code",
      "source": [
        "# spark.sql(\"\"\"insert into default.persons values (47962, \"Bob\",\"1999-03-14\" ,\"456 Oak Ave\") \"\"\")"
      ],
      "metadata": {
        "id": "O_zZuSuZlJPD"
      },
      "execution_count": null,
      "outputs": []
    },
    {
      "cell_type": "markdown",
      "source": [
        "### Generated columns\n",
        "The following  delta table contains three columns `year`, `month` and `day` that must correspond to the date elements in the `saledate` column."
      ],
      "metadata": {
        "id": "HVCjZ2MyDGS5"
      }
    },
    {
      "cell_type": "code",
      "source": [
        "from delta.tables import *\n",
        "DeltaTable.createOrReplace(spark) \\\n",
        "  .tableName(\"default.sales\") \\\n",
        "  .addColumn(\"saleid\", \"STRING\") \\\n",
        "  .addColumn(\"saledate\", \"TIMESTAMP\") \\\n",
        "  .addColumn(\"quantity\", \"INT\") \\\n",
        "  .addColumn(\"year\", \"INT\", generatedAlwaysAs=\"YEAR(saledate)\") \\\n",
        "  .addColumn(\"month\", \"INT\", generatedAlwaysAs=\"MONTH(saledate)\") \\\n",
        "  .addColumn(\"day\", \"INT\", generatedAlwaysAs=\"DAYOFMONTH(saledate)\") \\\n",
        "  .partitionedBy(\"year\", \"month\") \\\n",
        "  .execute()"
      ],
      "metadata": {
        "colab": {
          "base_uri": "https://localhost:8080/"
        },
        "id": "nDQp6eD7G-rG",
        "outputId": "134e221d-d010-47af-a61f-92806121be7b"
      },
      "execution_count": null,
      "outputs": [
        {
          "output_type": "execute_result",
          "data": {
            "text/plain": [
              "<delta.tables.DeltaTable at 0x7e6b8421d330>"
            ]
          },
          "metadata": {},
          "execution_count": 14
        }
      ]
    },
    {
      "cell_type": "code",
      "source": [
        "spark.sql(\"\"\" insert into default.sales\n",
        "            values ('S000000124','2023-02-26 00:00:00',2.0,2023,02,26)  \"\"\")"
      ],
      "metadata": {
        "colab": {
          "base_uri": "https://localhost:8080/"
        },
        "id": "h77HzhcKIPpi",
        "outputId": "c6d6ea1f-af97-4b82-ef06-17b2daf7f499"
      },
      "execution_count": null,
      "outputs": [
        {
          "output_type": "stream",
          "name": "stdout",
          "text": [
            "++\n",
            "||\n",
            "++\n",
            "++\n",
            "\n"
          ]
        }
      ]
    },
    {
      "cell_type": "code",
      "source": [
        "spark.sql(\"\"\" select * from default.sales \"\"\").show()"
      ],
      "metadata": {
        "colab": {
          "base_uri": "https://localhost:8080/"
        },
        "id": "KqE9dVCNIVm0",
        "outputId": "3b073a0c-13ee-4529-b47b-073d831792e6"
      },
      "execution_count": null,
      "outputs": [
        {
          "output_type": "stream",
          "name": "stdout",
          "text": [
            "+----------+-------------------+--------+----+-----+---+\n",
            "|    saleid|           saledate|quantity|year|month|day|\n",
            "+----------+-------------------+--------+----+-----+---+\n",
            "|S000000124|2023-02-26 00:00:00|       2|2023|    2| 26|\n",
            "+----------+-------------------+--------+----+-----+---+\n",
            "\n"
          ]
        }
      ]
    },
    {
      "cell_type": "markdown",
      "source": [
        "can we run the following command?"
      ],
      "metadata": {
        "id": "R0ag38IaIgvW"
      }
    },
    {
      "cell_type": "code",
      "source": [
        "# spark.sql(\"\"\" insert into default.sales values ('S000000124','2024-02-26 00:00:00',2.0,2023,02,26)  \"\"\")"
      ],
      "metadata": {
        "id": "YaBbdOXvIan7"
      },
      "execution_count": null,
      "outputs": []
    },
    {
      "cell_type": "markdown",
      "source": [
        "## Use case (answers not provided)"
      ],
      "metadata": {
        "id": "JgchT6SU7-xR"
      }
    },
    {
      "cell_type": "markdown",
      "source": [
        "### Data import"
      ],
      "metadata": {
        "id": "Z1G5IVktAXSx"
      }
    },
    {
      "cell_type": "code",
      "source": [
        "query = \"\"\"\n",
        "CREATE TABLE IF NOT EXISTS salesOriginal\n",
        "USING csv\n",
        "OPTIONS (\n",
        "  header \"true\",\n",
        "  path \"/tmp/delta/sales/salesOriginal.csv\",\n",
        "  inferSchema \"true\"\n",
        ")\n",
        "\"\"\"\n",
        "spark.sql(query)"
      ],
      "metadata": {
        "colab": {
          "base_uri": "https://localhost:8080/"
        },
        "id": "ordeWbBrN4nx",
        "outputId": "caa5c529-e750-4afe-f56f-7c012846cd17"
      },
      "execution_count": null,
      "outputs": [
        {
          "output_type": "execute_result",
          "data": {
            "text/plain": [
              "DataFrame[]"
            ]
          },
          "metadata": {},
          "execution_count": 27
        }
      ]
    },
    {
      "cell_type": "code",
      "source": [
        "query = \"\"\"\n",
        "DESCRIBE salesOriginal\n",
        "\"\"\"\n",
        "spark.sql(query).show()"
      ],
      "metadata": {
        "colab": {
          "base_uri": "https://localhost:8080/"
        },
        "id": "g0Edbb9NQMdt",
        "outputId": "ad601588-d54d-4b5e-f82f-60775b74a30f"
      },
      "execution_count": null,
      "outputs": [
        {
          "output_type": "stream",
          "name": "stdout",
          "text": [
            "+-------------+---------+-------+\n",
            "|     col_name|data_type|comment|\n",
            "+-------------+---------+-------+\n",
            "|       saleid|   string|   NULL|\n",
            "|     saledate|     date|   NULL|\n",
            "|     quantity|   double|   NULL|\n",
            "|    unitprice|   double|   NULL|\n",
            "|       shopid|   string|   NULL|\n",
            "|         city|   string|   NULL|\n",
            "|        state|   string|   NULL|\n",
            "|      country|   string|   NULL|\n",
            "|     shopsize|   string|   NULL|\n",
            "|    productid|   string|   NULL|\n",
            "|     category|   string|   NULL|\n",
            "|  subcategory|   string|   NULL|\n",
            "|         size|   string|   NULL|\n",
            "|purchaseprice|   double|   NULL|\n",
            "|        color|   string|   NULL|\n",
            "|        brand|   string|   NULL|\n",
            "+-------------+---------+-------+\n",
            "\n"
          ]
        }
      ]
    },
    {
      "cell_type": "code",
      "source": [
        "query = \"\"\"\n",
        "CREATE TABLE IF NOT EXISTS march23_sales\n",
        "USING csv\n",
        "OPTIONS (\n",
        "  header \"true\",\n",
        "  path \"/tmp/delta/sales/march23_sales.csv\",\n",
        "  inferSchema \"true\"\n",
        ")\n",
        "\"\"\"\n",
        "spark.sql(query)"
      ],
      "metadata": {
        "colab": {
          "base_uri": "https://localhost:8080/"
        },
        "id": "s0W7igW8QZbn",
        "outputId": "9481d982-9017-4ef2-9c89-c2077e86e710"
      },
      "execution_count": null,
      "outputs": [
        {
          "output_type": "execute_result",
          "data": {
            "text/plain": [
              "DataFrame[]"
            ]
          },
          "metadata": {},
          "execution_count": 69
        }
      ]
    },
    {
      "cell_type": "code",
      "source": [
        "query = \"\"\"\n",
        "DESCRIBE march23_sales\n",
        "\"\"\"\n",
        "spark.sql(query).show()"
      ],
      "metadata": {
        "colab": {
          "base_uri": "https://localhost:8080/"
        },
        "id": "v_tVBHO4QdNU",
        "outputId": "8b00dbcb-6f31-4d5d-e37f-40177ebce3f5"
      },
      "execution_count": null,
      "outputs": [
        {
          "output_type": "stream",
          "name": "stdout",
          "text": [
            "+----------+---------+-------+\n",
            "|  col_name|data_type|comment|\n",
            "+----------+---------+-------+\n",
            "|product_id|   string|   NULL|\n",
            "|  quantity|      int|   NULL|\n",
            "|totalprice|      int|   NULL|\n",
            "+----------+---------+-------+\n",
            "\n"
          ]
        }
      ]
    },
    {
      "cell_type": "markdown",
      "source": [
        "### Creation of the delta tables"
      ],
      "metadata": {
        "id": "6e_agqb2v0n2"
      }
    },
    {
      "cell_type": "code",
      "source": [
        "query = \"\"\"\n",
        "CREATE TABLE delta.`/tmp/deltaSales` USING DELTA AS SELECT * FROM salesOriginal;\n",
        "\"\"\"\n",
        "spark.sql(query)"
      ],
      "metadata": {
        "colab": {
          "base_uri": "https://localhost:8080/"
        },
        "id": "mWVBUgduQtNF",
        "outputId": "332ef7c1-c62d-40e6-f3fe-2611ca41a4d5"
      },
      "execution_count": null,
      "outputs": [
        {
          "output_type": "execute_result",
          "data": {
            "text/plain": [
              "DataFrame[]"
            ]
          },
          "metadata": {},
          "execution_count": 31
        }
      ]
    },
    {
      "cell_type": "code",
      "source": [
        "query = \"\"\"\n",
        "SELECT * FROM  delta.`/tmp/deltaSales`\n",
        "\"\"\"\n",
        "spark.sql(query).show(5)"
      ],
      "metadata": {
        "colab": {
          "base_uri": "https://localhost:8080/"
        },
        "id": "HvFi5eYOREaI",
        "outputId": "ef2b4874-a8d5-4337-c5e3-cb00f2d1eb0c"
      },
      "execution_count": null,
      "outputs": [
        {
          "output_type": "stream",
          "name": "stdout",
          "text": [
            "+----------+----------+--------+---------+------+-------------+----------+-------+--------+---------+---------+-----------+------+-------------+-----+-----+\n",
            "|    saleid|  saledate|quantity|unitprice|shopid|         city|     state|country|shopsize|productid| category|subcategory|  size|purchaseprice|color|brand|\n",
            "+----------+----------+--------+---------+------+-------------+----------+-------+--------+---------+---------+-----------+------+-------------+-----+-----+\n",
            "|S000000124|2023-02-26|     2.0|     60.0|shop_4|San Francisco|California|    USA|   small|    CHA_2|Furniture|      Chair|  NULL|         48.0| blue|Basic|\n",
            "|S000000125|2023-02-25|     1.0|    150.0|shop_5|      Houston|     Texas|    USA|   small|    BED_3|Furniture|        Bed|Single|        127.0|  red| Mega|\n",
            "|S000000126|2023-02-24|     1.0|    300.0|shop_6|  San Antonio|     Texas|    USA|   small|    BED_4|Furniture|        Bed|Double|        252.0|brown|Basic|\n",
            "|S000000127|2023-02-23|     1.0|    395.0|shop_7|      Chicago|  Illinois|    USA|   small|    BED_5|Furniture|        Bed| Queen|        333.0|black| Mega|\n",
            "|S000000128|2023-02-22|     4.0|    440.0|shop_8|   Regensburg|   Bavaria|Germany|   small|    BED_6|Furniture|        Bed|  King|        375.0|white|Basic|\n",
            "+----------+----------+--------+---------+------+-------------+----------+-------+--------+---------+---------+-----------+------+-------------+-----+-----+\n",
            "only showing top 5 rows\n",
            "\n"
          ]
        }
      ]
    },
    {
      "cell_type": "markdown",
      "source": [
        "### Adding new records\n",
        "Write a merge statement to insert the march 2023 records into `deltaSales`"
      ],
      "metadata": {
        "id": "Dmo8PBuNAK_o"
      }
    },
    {
      "cell_type": "code",
      "source": [
        "query = \"\"\"\n",
        "...\n",
        "\"\"\"\n",
        "spark.sql(query).show()"
      ],
      "metadata": {
        "colab": {
          "base_uri": "https://localhost:8080/"
        },
        "id": "_vms7G0-SprG",
        "outputId": "dabfeb8d-dcfe-4197-91a0-a4cffcd34ae5"
      },
      "execution_count": null,
      "outputs": [
        {
          "output_type": "stream",
          "name": "stdout",
          "text": [
            "+-----------------+----------------+----------------+-----------------+\n",
            "|num_affected_rows|num_updated_rows|num_deleted_rows|num_inserted_rows|\n",
            "+-----------------+----------------+----------------+-----------------+\n",
            "|               84|               0|               0|               84|\n",
            "+-----------------+----------------+----------------+-----------------+\n",
            "\n"
          ]
        }
      ]
    },
    {
      "cell_type": "markdown",
      "source": [
        "### Updating records\n",
        "Write update statements that increases the unitprice of products sold on 2023, based on their category, as follows: furniture -> 5%, others -> 10%"
      ],
      "metadata": {
        "id": "jJ0GWq2OAR06"
      }
    },
    {
      "cell_type": "code",
      "source": [
        "query = \"\"\"\n",
        "...\n",
        "\"\"\"\n",
        "spark.sql(query).show()"
      ],
      "metadata": {
        "colab": {
          "base_uri": "https://localhost:8080/"
        },
        "id": "UPs31eToTAwT",
        "outputId": "6b3ebe52-2fe5-41a9-cdec-cb9d22a3ff5b"
      },
      "execution_count": null,
      "outputs": [
        {
          "output_type": "stream",
          "name": "stdout",
          "text": [
            "+-----------------+\n",
            "|num_affected_rows|\n",
            "+-----------------+\n",
            "|              882|\n",
            "+-----------------+\n",
            "\n"
          ]
        }
      ]
    },
    {
      "cell_type": "code",
      "source": [
        "query = \"\"\"\n",
        "UPDATE delta.`/tmp/deltaSales`\n",
        "SET unitprice = unitprice * 1.1\n",
        "WHERE saledate >= '2023-01-01' and category!='Furniture'\n",
        "\"\"\"\n",
        "spark.sql(query).show()"
      ],
      "metadata": {
        "colab": {
          "base_uri": "https://localhost:8080/"
        },
        "id": "XYz5VmL-U2qn",
        "outputId": "d40eb913-db01-4fa7-d0b8-4512ba51f168"
      },
      "execution_count": null,
      "outputs": [
        {
          "output_type": "stream",
          "name": "stdout",
          "text": [
            "+-----------------+\n",
            "|num_affected_rows|\n",
            "+-----------------+\n",
            "|             1680|\n",
            "+-----------------+\n",
            "\n"
          ]
        }
      ]
    },
    {
      "cell_type": "markdown",
      "source": [
        "### Removing old records\n",
        "remove all sales older than 01-Jan-2023. How many records remain?"
      ],
      "metadata": {
        "id": "hNyHm2oly6Cg"
      }
    },
    {
      "cell_type": "code",
      "source": [
        "query = \"\"\"\n",
        "...\n",
        "\"\"\"\n",
        "spark.sql(query).show()"
      ],
      "metadata": {
        "colab": {
          "base_uri": "https://localhost:8080/",
          "height": 184
        },
        "id": "3OQOnU2nVMpV",
        "outputId": "45e2c755-9be1-4a48-ab98-67854158adc4"
      },
      "execution_count": null,
      "outputs": [
        {
          "output_type": "error",
          "ename": "NameError",
          "evalue": "name 'spark' is not defined",
          "traceback": [
            "\u001b[0;31m---------------------------------------------------------------------------\u001b[0m",
            "\u001b[0;31mNameError\u001b[0m                                 Traceback (most recent call last)",
            "\u001b[0;32m<ipython-input-1-4c6144a4642d>\u001b[0m in \u001b[0;36m<cell line: 5>\u001b[0;34m()\u001b[0m\n\u001b[1;32m      3\u001b[0m \u001b[0mWHERE\u001b[0m \u001b[0msaledate\u001b[0m \u001b[0;34m<\u001b[0m \u001b[0;34m'2023-01-01'\u001b[0m\u001b[0;34m\u001b[0m\u001b[0;34m\u001b[0m\u001b[0m\n\u001b[1;32m      4\u001b[0m \"\"\"\n\u001b[0;32m----> 5\u001b[0;31m \u001b[0mspark\u001b[0m\u001b[0;34m.\u001b[0m\u001b[0msql\u001b[0m\u001b[0;34m(\u001b[0m\u001b[0mquery\u001b[0m\u001b[0;34m)\u001b[0m\u001b[0;34m.\u001b[0m\u001b[0mshow\u001b[0m\u001b[0;34m(\u001b[0m\u001b[0;34m)\u001b[0m\u001b[0;34m\u001b[0m\u001b[0;34m\u001b[0m\u001b[0m\n\u001b[0m",
            "\u001b[0;31mNameError\u001b[0m: name 'spark' is not defined"
          ]
        }
      ]
    },
    {
      "cell_type": "markdown",
      "source": [
        "### History viewing\n"
      ],
      "metadata": {
        "id": "3y09Br-I04C8"
      }
    },
    {
      "cell_type": "code",
      "source": [
        "query = \"\"\"\n",
        "DESCRIBE HISTORY delta.`/tmp/deltaSales`\n",
        "\"\"\"\n",
        "spark.sql(query).show()"
      ],
      "metadata": {
        "colab": {
          "base_uri": "https://localhost:8080/",
          "height": 355
        },
        "id": "LWrOrQfDVfms",
        "outputId": "d0d60683-9446-45f9-9372-8fd74b8d927b"
      },
      "execution_count": null,
      "outputs": [
        {
          "output_type": "error",
          "ename": "AnalysisException",
          "evalue": "[DELTA_TABLE_ONLY_OPERATION] `/tmp/deltaSales` is not a Delta table. DESCRIBE HISTORY is only supported for Delta tables.",
          "traceback": [
            "\u001b[0;31m---------------------------------------------------------------------------\u001b[0m",
            "\u001b[0;31mAnalysisException\u001b[0m                         Traceback (most recent call last)",
            "\u001b[0;32m<ipython-input-28-ecb85a0bc16d>\u001b[0m in \u001b[0;36m<cell line: 4>\u001b[0;34m()\u001b[0m\n\u001b[1;32m      2\u001b[0m \u001b[0mDESCRIBE\u001b[0m \u001b[0mHISTORY\u001b[0m \u001b[0mdelta\u001b[0m\u001b[0;34m.\u001b[0m\u001b[0;31m`\u001b[0m\u001b[0;34m/\u001b[0m\u001b[0mtmp\u001b[0m\u001b[0;34m/\u001b[0m\u001b[0mdeltaSales\u001b[0m\u001b[0;31m`\u001b[0m\u001b[0;34m\u001b[0m\u001b[0;34m\u001b[0m\u001b[0m\n\u001b[1;32m      3\u001b[0m \"\"\"\n\u001b[0;32m----> 4\u001b[0;31m \u001b[0mspark\u001b[0m\u001b[0;34m.\u001b[0m\u001b[0msql\u001b[0m\u001b[0;34m(\u001b[0m\u001b[0mquery\u001b[0m\u001b[0;34m)\u001b[0m\u001b[0;34m.\u001b[0m\u001b[0mshow\u001b[0m\u001b[0;34m(\u001b[0m\u001b[0;34m)\u001b[0m\u001b[0;34m\u001b[0m\u001b[0;34m\u001b[0m\u001b[0m\n\u001b[0m",
            "\u001b[0;32m/usr/local/lib/python3.10/dist-packages/pyspark/sql/session.py\u001b[0m in \u001b[0;36msql\u001b[0;34m(self, sqlQuery, args, **kwargs)\u001b[0m\n\u001b[1;32m   1629\u001b[0m                     \u001b[0;34m[\u001b[0m\u001b[0m_to_java_column\u001b[0m\u001b[0;34m(\u001b[0m\u001b[0mlit\u001b[0m\u001b[0;34m(\u001b[0m\u001b[0mv\u001b[0m\u001b[0;34m)\u001b[0m\u001b[0;34m)\u001b[0m \u001b[0;32mfor\u001b[0m \u001b[0mv\u001b[0m \u001b[0;32min\u001b[0m \u001b[0;34m(\u001b[0m\u001b[0margs\u001b[0m \u001b[0;32mor\u001b[0m \u001b[0;34m[\u001b[0m\u001b[0;34m]\u001b[0m\u001b[0;34m)\u001b[0m\u001b[0;34m]\u001b[0m\u001b[0;34m\u001b[0m\u001b[0;34m\u001b[0m\u001b[0m\n\u001b[1;32m   1630\u001b[0m                 )\n\u001b[0;32m-> 1631\u001b[0;31m             \u001b[0;32mreturn\u001b[0m \u001b[0mDataFrame\u001b[0m\u001b[0;34m(\u001b[0m\u001b[0mself\u001b[0m\u001b[0;34m.\u001b[0m\u001b[0m_jsparkSession\u001b[0m\u001b[0;34m.\u001b[0m\u001b[0msql\u001b[0m\u001b[0;34m(\u001b[0m\u001b[0msqlQuery\u001b[0m\u001b[0;34m,\u001b[0m \u001b[0mlitArgs\u001b[0m\u001b[0;34m)\u001b[0m\u001b[0;34m,\u001b[0m \u001b[0mself\u001b[0m\u001b[0;34m)\u001b[0m\u001b[0;34m\u001b[0m\u001b[0;34m\u001b[0m\u001b[0m\n\u001b[0m\u001b[1;32m   1632\u001b[0m         \u001b[0;32mfinally\u001b[0m\u001b[0;34m:\u001b[0m\u001b[0;34m\u001b[0m\u001b[0;34m\u001b[0m\u001b[0m\n\u001b[1;32m   1633\u001b[0m             \u001b[0;32mif\u001b[0m \u001b[0mlen\u001b[0m\u001b[0;34m(\u001b[0m\u001b[0mkwargs\u001b[0m\u001b[0;34m)\u001b[0m \u001b[0;34m>\u001b[0m \u001b[0;36m0\u001b[0m\u001b[0;34m:\u001b[0m\u001b[0;34m\u001b[0m\u001b[0;34m\u001b[0m\u001b[0m\n",
            "\u001b[0;32m/usr/local/lib/python3.10/dist-packages/py4j/java_gateway.py\u001b[0m in \u001b[0;36m__call__\u001b[0;34m(self, *args)\u001b[0m\n\u001b[1;32m   1320\u001b[0m \u001b[0;34m\u001b[0m\u001b[0m\n\u001b[1;32m   1321\u001b[0m         \u001b[0manswer\u001b[0m \u001b[0;34m=\u001b[0m \u001b[0mself\u001b[0m\u001b[0;34m.\u001b[0m\u001b[0mgateway_client\u001b[0m\u001b[0;34m.\u001b[0m\u001b[0msend_command\u001b[0m\u001b[0;34m(\u001b[0m\u001b[0mcommand\u001b[0m\u001b[0;34m)\u001b[0m\u001b[0;34m\u001b[0m\u001b[0;34m\u001b[0m\u001b[0m\n\u001b[0;32m-> 1322\u001b[0;31m         return_value = get_return_value(\n\u001b[0m\u001b[1;32m   1323\u001b[0m             answer, self.gateway_client, self.target_id, self.name)\n\u001b[1;32m   1324\u001b[0m \u001b[0;34m\u001b[0m\u001b[0m\n",
            "\u001b[0;32m/usr/local/lib/python3.10/dist-packages/pyspark/errors/exceptions/captured.py\u001b[0m in \u001b[0;36mdeco\u001b[0;34m(*a, **kw)\u001b[0m\n\u001b[1;32m    183\u001b[0m                 \u001b[0;31m# Hide where the exception came from that shows a non-Pythonic\u001b[0m\u001b[0;34m\u001b[0m\u001b[0;34m\u001b[0m\u001b[0m\n\u001b[1;32m    184\u001b[0m                 \u001b[0;31m# JVM exception message.\u001b[0m\u001b[0;34m\u001b[0m\u001b[0;34m\u001b[0m\u001b[0m\n\u001b[0;32m--> 185\u001b[0;31m                 \u001b[0;32mraise\u001b[0m \u001b[0mconverted\u001b[0m \u001b[0;32mfrom\u001b[0m \u001b[0;32mNone\u001b[0m\u001b[0;34m\u001b[0m\u001b[0;34m\u001b[0m\u001b[0m\n\u001b[0m\u001b[1;32m    186\u001b[0m             \u001b[0;32melse\u001b[0m\u001b[0;34m:\u001b[0m\u001b[0;34m\u001b[0m\u001b[0;34m\u001b[0m\u001b[0m\n\u001b[1;32m    187\u001b[0m                 \u001b[0;32mraise\u001b[0m\u001b[0;34m\u001b[0m\u001b[0;34m\u001b[0m\u001b[0m\n",
            "\u001b[0;31mAnalysisException\u001b[0m: [DELTA_TABLE_ONLY_OPERATION] `/tmp/deltaSales` is not a Delta table. DESCRIBE HISTORY is only supported for Delta tables."
          ]
        }
      ]
    },
    {
      "cell_type": "markdown",
      "source": [
        "### Restoring to a previous version"
      ],
      "metadata": {
        "id": "a1YclKosWbn5"
      }
    },
    {
      "cell_type": "code",
      "source": [
        "query = \"\"\"\n",
        "RESTORE TABLE delta.`/tmp/deltaSales` TO VERSION AS OF 2\n",
        "\"\"\"\n",
        "spark.sql(query).show()\n"
      ],
      "metadata": {
        "colab": {
          "base_uri": "https://localhost:8080/"
        },
        "id": "ChaMilCYWbQ2",
        "outputId": "49200862-bd96-4c97-c7b7-2902bde7993e"
      },
      "execution_count": null,
      "outputs": [
        {
          "output_type": "stream",
          "name": "stdout",
          "text": [
            "+------------------------+--------------------------+-----------------+------------------+------------------+-------------------+\n",
            "|table_size_after_restore|num_of_files_after_restore|num_removed_files|num_restored_files|removed_files_size|restored_files_size|\n",
            "+------------------------+--------------------------+-----------------+------------------+------------------+-------------------+\n",
            "|                   43891|                         2|                2|                 2|             28336|              43891|\n",
            "+------------------------+--------------------------+-----------------+------------------+------------------+-------------------+\n",
            "\n"
          ]
        }
      ]
    },
    {
      "cell_type": "code",
      "source": [
        "query = \"\"\"\n",
        "DESCRIBE HISTORY delta.`/tmp/deltaSales`\n",
        "\"\"\"\n",
        "spark.sql(query).show()"
      ],
      "metadata": {
        "colab": {
          "base_uri": "https://localhost:8080/"
        },
        "id": "CqQT52ChWqd1",
        "outputId": "6d70fe4f-4000-4e49-a24c-1dabf7da26c1"
      },
      "execution_count": null,
      "outputs": [
        {
          "output_type": "stream",
          "name": "stdout",
          "text": [
            "+-------+--------------------+------+--------+--------------------+--------------------+----+--------+---------+-----------+--------------+-------------+--------------------+------------+--------------------+\n",
            "|version|           timestamp|userId|userName|           operation| operationParameters| job|notebook|clusterId|readVersion|isolationLevel|isBlindAppend|    operationMetrics|userMetadata|          engineInfo|\n",
            "+-------+--------------------+------+--------+--------------------+--------------------+----+--------+---------+-----------+--------------+-------------+--------------------+------------+--------------------+\n",
            "|      5|2024-05-11 15:00:...|  NULL|    NULL|             RESTORE|{version -> 2, ti...|NULL|    NULL|     NULL|          4|  Serializable|        false|{numRestoredFiles...|        NULL|Apache-Spark/3.5....|\n",
            "|      4|2024-05-11 14:59:...|  NULL|    NULL|              DELETE|{predicate -> [\"(...|NULL|    NULL|     NULL|          3|  Serializable|        false|{numRemovedFiles ...|        NULL|Apache-Spark/3.5....|\n",
            "|      3|2024-05-11 14:59:...|  NULL|    NULL|              UPDATE|{predicate -> [\"(...|NULL|    NULL|     NULL|          2|  Serializable|        false|{numRemovedFiles ...|        NULL|Apache-Spark/3.5....|\n",
            "|      2|2024-05-11 14:59:...|  NULL|    NULL|              UPDATE|{predicate -> [\"(...|NULL|    NULL|     NULL|          1|  Serializable|        false|{numRemovedFiles ...|        NULL|Apache-Spark/3.5....|\n",
            "|      1|2024-05-11 14:59:...|  NULL|    NULL|               MERGE|{predicate -> [\"(...|NULL|    NULL|     NULL|          0|  Serializable|        false|{numTargetRowsCop...|        NULL|Apache-Spark/3.5....|\n",
            "|      0|2024-05-11 14:58:...|  NULL|    NULL|CREATE TABLE AS S...|{isManaged -> fal...|NULL|    NULL|     NULL|       NULL|  Serializable|         true|{numFiles -> 1, n...|        NULL|Apache-Spark/3.5....|\n",
            "+-------+--------------------+------+--------+--------------------+--------------------+----+--------+---------+-----------+--------------+-------------+--------------------+------------+--------------------+\n",
            "\n"
          ]
        }
      ]
    },
    {
      "cell_type": "markdown",
      "source": [
        "### Vacuuming old records\n",
        "Permanently remove the deleted records using `vacuum`. Check the history again and make sure that the removal has been performed."
      ],
      "metadata": {
        "id": "n26NZ5ity-Rj"
      }
    },
    {
      "cell_type": "code",
      "source": [
        "query = \"\"\"\n",
        "VACUUM delta.`/tmp/deltaSales`\n",
        "\"\"\"\n",
        "spark.sql(query).show()"
      ],
      "metadata": {
        "id": "heTG79_7YWfy",
        "colab": {
          "base_uri": "https://localhost:8080/"
        },
        "outputId": "0f9b4fbf-1523-4a13-ecfa-52dd99981b4d"
      },
      "execution_count": null,
      "outputs": [
        {
          "output_type": "stream",
          "name": "stdout",
          "text": [
            "+--------------------+\n",
            "|                path|\n",
            "+--------------------+\n",
            "|file:/tmp/deltaSales|\n",
            "+--------------------+\n",
            "\n"
          ]
        }
      ]
    },
    {
      "cell_type": "code",
      "source": [
        "query = \"\"\"\n",
        "DESCRIBE HISTORY delta.`/tmp/deltaSales`\n",
        "\"\"\"\n",
        "spark.sql(query).show()"
      ],
      "metadata": {
        "colab": {
          "base_uri": "https://localhost:8080/"
        },
        "id": "Aj-BO1c2WK3x",
        "outputId": "9cdc016e-d915-4867-f0a2-a5c41fc7a27a"
      },
      "execution_count": null,
      "outputs": [
        {
          "output_type": "stream",
          "name": "stdout",
          "text": [
            "+-------+--------------------+------+--------+--------------------+--------------------+----+--------+---------+-----------+-----------------+-------------+--------------------+------------+--------------------+\n",
            "|version|           timestamp|userId|userName|           operation| operationParameters| job|notebook|clusterId|readVersion|   isolationLevel|isBlindAppend|    operationMetrics|userMetadata|          engineInfo|\n",
            "+-------+--------------------+------+--------+--------------------+--------------------+----+--------+---------+-----------+-----------------+-------------+--------------------+------------+--------------------+\n",
            "|      7|2024-05-11 15:02:...|  NULL|    NULL|          VACUUM END|{status -> COMPLE...|NULL|    NULL|     NULL|          6|SnapshotIsolation|         true|{numDeletedFiles ...|        NULL|Apache-Spark/3.5....|\n",
            "|      6|2024-05-11 15:02:...|  NULL|    NULL|        VACUUM START|{retentionCheckEn...|NULL|    NULL|     NULL|          5|SnapshotIsolation|         true|{numFilesToDelete...|        NULL|Apache-Spark/3.5....|\n",
            "|      5|2024-05-11 15:00:...|  NULL|    NULL|             RESTORE|{version -> 2, ti...|NULL|    NULL|     NULL|          4|     Serializable|        false|{numRestoredFiles...|        NULL|Apache-Spark/3.5....|\n",
            "|      4|2024-05-11 14:59:...|  NULL|    NULL|              DELETE|{predicate -> [\"(...|NULL|    NULL|     NULL|          3|     Serializable|        false|{numRemovedFiles ...|        NULL|Apache-Spark/3.5....|\n",
            "|      3|2024-05-11 14:59:...|  NULL|    NULL|              UPDATE|{predicate -> [\"(...|NULL|    NULL|     NULL|          2|     Serializable|        false|{numRemovedFiles ...|        NULL|Apache-Spark/3.5....|\n",
            "|      2|2024-05-11 14:59:...|  NULL|    NULL|              UPDATE|{predicate -> [\"(...|NULL|    NULL|     NULL|          1|     Serializable|        false|{numRemovedFiles ...|        NULL|Apache-Spark/3.5....|\n",
            "|      1|2024-05-11 14:59:...|  NULL|    NULL|               MERGE|{predicate -> [\"(...|NULL|    NULL|     NULL|          0|     Serializable|        false|{numTargetRowsCop...|        NULL|Apache-Spark/3.5....|\n",
            "|      0|2024-05-11 14:58:...|  NULL|    NULL|CREATE TABLE AS S...|{isManaged -> fal...|NULL|    NULL|     NULL|       NULL|     Serializable|         true|{numFiles -> 1, n...|        NULL|Apache-Spark/3.5....|\n",
            "+-------+--------------------+------+--------+--------------------+--------------------+----+--------+---------+-----------+-----------------+-------------+--------------------+------------+--------------------+\n",
            "\n"
          ]
        }
      ]
    },
    {
      "cell_type": "markdown",
      "source": [
        "## Change data feed"
      ],
      "metadata": {
        "id": "R7oLc2P-juaY"
      }
    },
    {
      "cell_type": "markdown",
      "source": [
        "### Table creation with CDF activated"
      ],
      "metadata": {
        "id": "GZ9_0glRj150"
      }
    },
    {
      "cell_type": "code",
      "source": [
        "query = \"\"\"\n",
        "CREATE TABLE IF NOT EXISTS salesOriginal\n",
        "USING csv\n",
        "OPTIONS (\n",
        "  header \"true\",\n",
        "  path \"/tmp/delta/sales/salesOriginal.csv\",\n",
        "  inferSchema \"true\"\n",
        ")\n",
        "\"\"\"\n",
        "spark.sql(query)"
      ],
      "metadata": {
        "colab": {
          "base_uri": "https://localhost:8080/"
        },
        "id": "DVjvb3jNjxW-",
        "outputId": "ab982f62-881f-4b91-dd09-66c041192e3e"
      },
      "execution_count": null,
      "outputs": [
        {
          "output_type": "execute_result",
          "data": {
            "text/plain": [
              "DataFrame[]"
            ]
          },
          "metadata": {},
          "execution_count": 26
        }
      ]
    },
    {
      "cell_type": "code",
      "source": [
        "query = \"\"\"\n",
        "CREATE TABLE delta.`/tmp/deltaSalesCDF` USING DELTA TBLPROPERTIES (delta.enableChangeDataFeed = true)\n",
        "AS SELECT * FROM salesOriginal\n",
        "\"\"\"\n",
        "spark.sql(query)"
      ],
      "metadata": {
        "colab": {
          "base_uri": "https://localhost:8080/"
        },
        "id": "RBYOz4X2j-xT",
        "outputId": "e1391505-99b4-45d5-ce11-c01085b31c76"
      },
      "execution_count": null,
      "outputs": [
        {
          "output_type": "execute_result",
          "data": {
            "text/plain": [
              "DataFrame[]"
            ]
          },
          "metadata": {},
          "execution_count": 27
        }
      ]
    },
    {
      "cell_type": "markdown",
      "source": [
        "### CDF for Updates"
      ],
      "metadata": {
        "id": "OmzXP3nNkhxi"
      }
    },
    {
      "cell_type": "code",
      "source": [
        "query = \"\"\"\n",
        "select count(*) as nb_rows from delta.`/tmp/deltaSalesCDF`\n",
        "\"\"\"\n",
        "spark.sql(query).show()"
      ],
      "metadata": {
        "colab": {
          "base_uri": "https://localhost:8080/"
        },
        "id": "DA4VSmLr98cY",
        "outputId": "60b1e326-7998-47e4-ac7a-2b3c0d9891fa"
      },
      "execution_count": null,
      "outputs": [
        {
          "output_type": "stream",
          "name": "stdout",
          "text": [
            "+-------+\n",
            "|nb_rows|\n",
            "+-------+\n",
            "|   4916|\n",
            "+-------+\n",
            "\n"
          ]
        }
      ]
    },
    {
      "cell_type": "code",
      "source": [
        "query = \"\"\"\n",
        "describe delta.`/tmp/deltaSalesCDF`\n",
        "\"\"\"\n",
        "spark.sql(query).show()"
      ],
      "metadata": {
        "colab": {
          "base_uri": "https://localhost:8080/"
        },
        "id": "58aHIwWM83Tp",
        "outputId": "63371633-846e-46e8-8390-2a53fb153567"
      },
      "execution_count": null,
      "outputs": [
        {
          "output_type": "stream",
          "name": "stdout",
          "text": [
            "+-------------+---------+-------+\n",
            "|     col_name|data_type|comment|\n",
            "+-------------+---------+-------+\n",
            "|       saleid|   string|   NULL|\n",
            "|     saledate|     date|   NULL|\n",
            "|     quantity|   double|   NULL|\n",
            "|    unitprice|   double|   NULL|\n",
            "|       shopid|   string|   NULL|\n",
            "|         city|   string|   NULL|\n",
            "|        state|   string|   NULL|\n",
            "|      country|   string|   NULL|\n",
            "|     shopsize|   string|   NULL|\n",
            "|    productid|   string|   NULL|\n",
            "|     category|   string|   NULL|\n",
            "|  subcategory|   string|   NULL|\n",
            "|         size|   string|   NULL|\n",
            "|purchaseprice|   double|   NULL|\n",
            "|        color|   string|   NULL|\n",
            "|        brand|   string|   NULL|\n",
            "+-------------+---------+-------+\n",
            "\n"
          ]
        }
      ]
    },
    {
      "cell_type": "code",
      "source": [
        "query = \"\"\"\n",
        "UPDATE delta.`/tmp/deltaSalesCDF`\n",
        "SET unitprice = unitprice * 1.05\n",
        "WHERE saledate >= '2023-02-01' and category='Cloth'\n",
        "\"\"\"\n",
        "spark.sql(query).show()"
      ],
      "metadata": {
        "colab": {
          "base_uri": "https://localhost:8080/"
        },
        "id": "DLJ8O6lWkkhE",
        "outputId": "47d43d59-1440-4f4b-fde1-0bcd5bf3abeb"
      },
      "execution_count": null,
      "outputs": [
        {
          "output_type": "stream",
          "name": "stdout",
          "text": [
            "+-----------------+\n",
            "|num_affected_rows|\n",
            "+-----------------+\n",
            "|              765|\n",
            "+-----------------+\n",
            "\n"
          ]
        }
      ]
    },
    {
      "cell_type": "code",
      "source": [
        "query = \"\"\"\n",
        "SELECT * FROM table_changes_by_path('/tmp/deltaSalesCDF', 0)\n",
        "\"\"\"\n",
        "spark.sql(query)\n"
      ],
      "metadata": {
        "colab": {
          "base_uri": "https://localhost:8080/"
        },
        "id": "VxKvoYpfjwys",
        "outputId": "1c04221b-3077-41a2-85de-8e7c6b98d6e6"
      },
      "execution_count": null,
      "outputs": [
        {
          "output_type": "execute_result",
          "data": {
            "text/plain": [
              "DataFrame[saleid: string, saledate: date, quantity: double, unitprice: double, shopid: string, city: string, state: string, country: string, shopsize: string, productid: string, category: string, subcategory: string, size: string, purchaseprice: double, color: string, brand: string, _change_type: string, _commit_version: bigint, _commit_timestamp: timestamp]"
            ]
          },
          "metadata": {},
          "execution_count": 36
        }
      ]
    },
    {
      "cell_type": "code",
      "source": [
        "query = \"\"\"\n",
        "SELECT _change_type, _commit_version, _commit_timestamp, count(*)\n",
        "FROM table_changes_by_path('/tmp/deltaSalesCDF', 0)\n",
        "GROUP BY _change_type, _commit_version, _commit_timestamp\n",
        "\"\"\"\n",
        "spark.sql(query).show()"
      ],
      "metadata": {
        "colab": {
          "base_uri": "https://localhost:8080/"
        },
        "id": "d76UtMwblcHo",
        "outputId": "ab34b0c5-3971-466d-ff6e-da6ab2c859f3"
      },
      "execution_count": null,
      "outputs": [
        {
          "output_type": "stream",
          "name": "stdout",
          "text": [
            "+----------------+---------------+--------------------+--------+\n",
            "|    _change_type|_commit_version|   _commit_timestamp|count(1)|\n",
            "+----------------+---------------+--------------------+--------+\n",
            "| update_preimage|              1|2024-10-10 19:40:...|     765|\n",
            "|update_postimage|              1|2024-10-10 19:40:...|     765|\n",
            "|          insert|              0|2024-10-10 19:34:...|    4916|\n",
            "+----------------+---------------+--------------------+--------+\n",
            "\n"
          ]
        }
      ]
    },
    {
      "cell_type": "code",
      "source": [
        "query = \"\"\"\n",
        "SELECT saleid, _change_type, unitprice\n",
        "FROM table_changes_by_path('/tmp/deltaSalesCDF', 0)\n",
        "WHERE saledate >= '2023-02-01' and category='Cloth' and _commit_version = 1\n",
        "CLUSTER BY saleid\n",
        "\"\"\"\n",
        "spark.sql(query).show()"
      ],
      "metadata": {
        "colab": {
          "base_uri": "https://localhost:8080/"
        },
        "id": "vVQbly6BkXeY",
        "outputId": "dc63e6f9-e795-4dec-efc9-891c21747306"
      },
      "execution_count": null,
      "outputs": [
        {
          "output_type": "stream",
          "name": "stdout",
          "text": [
            "+----------+----------------+------------------+\n",
            "|    saleid|    _change_type|         unitprice|\n",
            "+----------+----------------+------------------+\n",
            "|S000000374| update_preimage|              20.0|\n",
            "|S000000374|update_postimage|              21.0|\n",
            "|S000000609| update_preimage|              60.0|\n",
            "|S000000609|update_postimage|              63.0|\n",
            "|S000001229| update_preimage|              22.0|\n",
            "|S000001229|update_postimage|              23.1|\n",
            "|S000004225| update_preimage|              60.0|\n",
            "|S000004225|update_postimage|              63.0|\n",
            "|S000002542| update_preimage|              60.0|\n",
            "|S000002542|update_postimage|              63.0|\n",
            "|S000003739| update_preimage|              60.0|\n",
            "|S000003739|update_postimage|              63.0|\n",
            "|S000000483| update_preimage|              49.0|\n",
            "|S000000483|update_postimage|             51.45|\n",
            "|S000000851| update_preimage|              60.0|\n",
            "|S000000851|update_postimage|              63.0|\n",
            "|S000003365| update_preimage|              24.0|\n",
            "|S000003365|update_postimage|25.200000000000003|\n",
            "|S000003375| update_preimage|              60.0|\n",
            "|S000003375|update_postimage|              63.0|\n",
            "+----------+----------------+------------------+\n",
            "only showing top 20 rows\n",
            "\n"
          ]
        }
      ]
    },
    {
      "cell_type": "markdown",
      "source": [
        "### CDF for Deletes"
      ],
      "metadata": {
        "id": "OseLpQxFnKCB"
      }
    },
    {
      "cell_type": "code",
      "source": [
        "query = \"\"\"\n",
        "DELETE FROM delta.`/tmp/deltaSalesCDF`\n",
        "WHERE city = 'Chicago' and category='Cloth'\n",
        "\"\"\"\n",
        "spark.sql(query).show()"
      ],
      "metadata": {
        "colab": {
          "base_uri": "https://localhost:8080/"
        },
        "id": "384NC-GZnO9w",
        "outputId": "fc5daf63-02a2-42ac-f298-ce21a1148ea4"
      },
      "execution_count": null,
      "outputs": [
        {
          "output_type": "stream",
          "name": "stdout",
          "text": [
            "+-----------------+\n",
            "|num_affected_rows|\n",
            "+-----------------+\n",
            "|              244|\n",
            "+-----------------+\n",
            "\n"
          ]
        }
      ]
    },
    {
      "cell_type": "code",
      "source": [
        "query = \"\"\"\n",
        "SELECT _change_type, _commit_version, _commit_timestamp, count(*)\n",
        "FROM table_changes_by_path('/tmp/deltaSalesCDF', 0)\n",
        "GROUP BY _change_type, _commit_version, _commit_timestamp\n",
        "\"\"\"\n",
        "spark.sql(query).show()"
      ],
      "metadata": {
        "colab": {
          "base_uri": "https://localhost:8080/"
        },
        "id": "j2hfvqPWnO2p",
        "outputId": "01badad0-a2c8-4088-a6a6-ad44d374cda7"
      },
      "execution_count": null,
      "outputs": [
        {
          "output_type": "stream",
          "name": "stdout",
          "text": [
            "+----------------+---------------+--------------------+--------+\n",
            "|    _change_type|_commit_version|   _commit_timestamp|count(1)|\n",
            "+----------------+---------------+--------------------+--------+\n",
            "|          delete|              2|2024-05-11 17:10:...|     244|\n",
            "|          insert|              0|2024-05-11 16:51:...|    4916|\n",
            "| update_preimage|              1|2024-05-11 16:53:...|     765|\n",
            "|update_postimage|              1|2024-05-11 16:53:...|     765|\n",
            "+----------------+---------------+--------------------+--------+\n",
            "\n"
          ]
        }
      ]
    },
    {
      "cell_type": "markdown",
      "source": [
        "Retrieve the deleted records"
      ],
      "metadata": {
        "id": "dvxfKgRCoyTD"
      }
    },
    {
      "cell_type": "code",
      "source": [
        "query = \"\"\"\n",
        "SELECT distinct city, category\n",
        "FROM table_changes_by_path('/tmp/deltaSalesCDF', 2)\n",
        "\"\"\"\n",
        "spark.sql(query).show()"
      ],
      "metadata": {
        "colab": {
          "base_uri": "https://localhost:8080/"
        },
        "id": "oTEnGL67ovj4",
        "outputId": "a613b27c-2ded-4733-8043-ab00590e3210"
      },
      "execution_count": null,
      "outputs": [
        {
          "output_type": "stream",
          "name": "stdout",
          "text": [
            "+-------+--------+\n",
            "|   city|category|\n",
            "+-------+--------+\n",
            "|Chicago|   Cloth|\n",
            "+-------+--------+\n",
            "\n"
          ]
        }
      ]
    },
    {
      "cell_type": "markdown",
      "source": [
        "### Suggest an update operation then audit the changes\n",
        "\n",
        "\n"
      ],
      "metadata": {
        "id": "RT0wUVKlAkiF"
      }
    },
    {
      "cell_type": "code",
      "source": [],
      "metadata": {
        "id": "JtXCkrgpA3sD"
      },
      "execution_count": null,
      "outputs": []
    },
    {
      "cell_type": "markdown",
      "source": [
        "### Suggest a delete operation then audit the changes\n"
      ],
      "metadata": {
        "id": "1sA5GrUfA4M0"
      }
    },
    {
      "cell_type": "code",
      "source": [],
      "metadata": {
        "id": "qpoPWy9KA9Oh"
      },
      "execution_count": null,
      "outputs": []
    },
    {
      "cell_type": "markdown",
      "source": [
        "## Where to go from here"
      ],
      "metadata": {
        "id": "2hxkB0BZCcgX"
      }
    },
    {
      "cell_type": "markdown",
      "source": [
        "Study the possibility of loading JSON data with varying types by reading the official documentation is https://github.com/delta-io/delta/releases/tag/v4.0.0rc1\n",
        "\n",
        "Practice: load the `vk` dataset from the [JSON notebook](https://colab.research.google.com/drive/1Cs6nxmkxr2VCU1PslBYPouoIVLk_5WbT?usp=drive_link)"
      ],
      "metadata": {
        "id": "AHi6lXdqCg4X"
      }
    },
    {
      "cell_type": "code",
      "source": [],
      "metadata": {
        "id": "IGNP-vKTCb-v"
      },
      "execution_count": null,
      "outputs": []
    }
  ]
}