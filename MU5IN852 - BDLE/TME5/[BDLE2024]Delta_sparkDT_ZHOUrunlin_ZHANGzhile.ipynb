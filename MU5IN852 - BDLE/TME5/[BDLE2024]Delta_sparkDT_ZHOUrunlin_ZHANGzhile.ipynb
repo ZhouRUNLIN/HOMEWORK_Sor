{
  "cells": [
    {
      "cell_type": "markdown",
      "metadata": {
        "id": "GwjrdGLoXzly"
      },
      "source": [
        "* Master DAC - BDLE\n",
        "* Author: Mohamed-Amine Baazizi\n",
        "* Affiliation: LIP6 - Faculté des Sciences - Sorbonne Université\n",
        "* Email: mohamed-amine.baazizi@lip6.fr\n",
        "* October 2024"
      ]
    },
    {
      "cell_type": "markdown",
      "metadata": {
        "id": "GunJfIR6YM_h"
      },
      "source": [
        "# Building an effective data preparation pipeline for ML\n",
        "\n",
        "**Auteur:**\n",
        "\n",
        "**ZHOU runlin 28717281**\n",
        "\n",
        "**ZHANG zhile 21201131**\n",
        "\n"
      ]
    },
    {
      "cell_type": "markdown",
      "metadata": {
        "id": "-kfCqy7EtbGd"
      },
      "source": [
        "## Outline"
      ]
    },
    {
      "cell_type": "markdown",
      "metadata": {
        "id": "GpI9l0JZYRdh"
      },
      "source": [
        "This homework is about building an effective data preparation pipeline.\n",
        "It covers the following aspects covered throughout the session:\n",
        "\n",
        "* ingest raw data, curate it, transform it\n",
        "* load the data into delta tables to enforce constraints and allow updates\n",
        "* build an ML pipeline for training a decision tree model and run cross validation\n",
        "\n",
        "It is based on raw data about car prices crawled from a public source.\n",
        "Start by running some data exploration queries to decide which do select or discard based on general understanding.\n",
        "\n",
        "\n",
        "\n",
        "\n",
        "\n",
        "\n"
      ]
    },
    {
      "cell_type": "markdown",
      "metadata": {
        "id": "csSU_SanYPJQ"
      },
      "source": [
        "## Prerequisite"
      ]
    },
    {
      "cell_type": "markdown",
      "metadata": {
        "id": "BYxx4XY_TN0H"
      },
      "source": [
        "### System setup"
      ]
    },
    {
      "cell_type": "code",
      "execution_count": null,
      "metadata": {
        "id": "mW_DrY7ZlUj_"
      },
      "outputs": [],
      "source": [
        "%%capture\n",
        "!pip install -q pyspark\n",
        "!pip install -q delta-spark\n",
        "!pip install pyngrok"
      ]
    },
    {
      "cell_type": "code",
      "execution_count": null,
      "metadata": {
        "colab": {
          "base_uri": "https://localhost:8080/"
        },
        "id": "o1YXYF4nWHNE",
        "outputId": "7309e143-96a8-4dc9-8cc9-6fecd32c7a13"
      },
      "outputs": [
        {
          "output_type": "stream",
          "name": "stdout",
          "text": [
            "delta-spark                        3.2.1\n",
            "pyspark                            3.5.3\n"
          ]
        }
      ],
      "source": [
        "!pip list|grep spark"
      ]
    },
    {
      "cell_type": "code",
      "execution_count": null,
      "metadata": {
        "id": "ZGcYc-DKqpUi"
      },
      "outputs": [],
      "source": [
        "from pyspark import SparkConf\n",
        "from pyspark.context import SparkContext\n",
        "from pyspark.sql import SparkSession\n",
        "\n",
        "local = \"local[*]\"\n",
        "appName = \"ADIA certificate - Delta Lake \"\n",
        "localConfig = SparkConf().setAppName(appName).setMaster(local).\\\n",
        "  set(\"spark.executor.memory\", \"8G\").\\\n",
        "  set(\"spark.driver.memory\",\"8G\").\\\n",
        "  set(\"spark.sql.catalogImplementation\",\"in-memory\").\\\n",
        "  set(\"spark.sql.extensions\",\"io.delta.sql.DeltaSparkSessionExtension\").\\\n",
        "  set(\"spark.sql.catalog.spark_catalog\",\"org.apache.spark.sql.delta.catalog.DeltaCatalog\").\\\n",
        "  set(\"spark.jars.packages\",\"io.delta:delta-spark_2.12:3.1.0\").\\\n",
        "  set(\"spark.databricks.delta.schema.autoMerge.enabled\",\"true\")\n",
        "\n",
        "\n",
        "spark = SparkSession.builder.config(conf = localConfig).getOrCreate()\n",
        "sc = spark.sparkContext\n",
        "sc.setLogLevel(\"ERROR\")"
      ]
    },
    {
      "cell_type": "code",
      "execution_count": null,
      "metadata": {
        "colab": {
          "base_uri": "https://localhost:8080/",
          "height": 216
        },
        "id": "tvPytoK4Xl3t",
        "outputId": "1773e702-80b2-4196-c8eb-2587dbc81d25"
      },
      "outputs": [
        {
          "output_type": "execute_result",
          "data": {
            "text/plain": [
              "<pyspark.sql.session.SparkSession at 0x7ee0d922c670>"
            ],
            "text/html": [
              "\n",
              "            <div>\n",
              "                <p><b>SparkSession - in-memory</b></p>\n",
              "                \n",
              "        <div>\n",
              "            <p><b>SparkContext</b></p>\n",
              "\n",
              "            <p><a href=\"http://a2637c86a1d7:4040\">Spark UI</a></p>\n",
              "\n",
              "            <dl>\n",
              "              <dt>Version</dt>\n",
              "                <dd><code>v3.5.3</code></dd>\n",
              "              <dt>Master</dt>\n",
              "                <dd><code>local[*]</code></dd>\n",
              "              <dt>AppName</dt>\n",
              "                <dd><code>ADIA certificate - Delta Lake </code></dd>\n",
              "            </dl>\n",
              "        </div>\n",
              "        \n",
              "            </div>\n",
              "        "
            ]
          },
          "metadata": {},
          "execution_count": 5
        }
      ],
      "source": [
        "spark"
      ]
    },
    {
      "cell_type": "markdown",
      "metadata": {
        "id": "uEE-92qgTQ4p"
      },
      "source": [
        "### Data import"
      ]
    },
    {
      "cell_type": "code",
      "execution_count": null,
      "metadata": {
        "id": "95fudS-iTbB5"
      },
      "outputs": [],
      "source": [
        "%%capture\n",
        "!wget --no-verbose https://nuage.lip6.fr/s/89BG8HD9r3iE693/download/MLData.tgz -O /tmp/MLData.tgz\n",
        "!tar -xzvf /tmp/MLData.tgz  --directory /tmp/"
      ]
    },
    {
      "cell_type": "code",
      "execution_count": null,
      "metadata": {
        "colab": {
          "base_uri": "https://localhost:8080/"
        },
        "id": "qiJOcxz1bLJ2",
        "outputId": "d99439ce-5946-4372-b395-cabd135974ef"
      },
      "outputs": [
        {
          "output_type": "stream",
          "name": "stdout",
          "text": [
            "total 73M\n",
            "drwxr-xr-x 2  501 staff 4.0K Jan  6  2022 .\n",
            "drwxrwxrwt 1 root root  4.0K Oct 24 08:32 ..\n",
            "-rw-r--r-- 1  501 staff  66M Jan  6  2022 autos.csv\n",
            "-rw-r--r-- 1  501 staff  176 Jan  6  2022 ._loan.csv\n",
            "-rw-r--r-- 1  501 staff 6.8M Jan  6  2022 loan.csv\n"
          ]
        }
      ],
      "source": [
        "!ls -hal /tmp/MLData"
      ]
    },
    {
      "cell_type": "code",
      "execution_count": null,
      "metadata": {
        "colab": {
          "base_uri": "https://localhost:8080/"
        },
        "id": "lDEBF-MkYhvh",
        "outputId": "a04c1ebb-2ab7-44a1-8528-6e33dca3499c"
      },
      "outputs": [
        {
          "output_type": "execute_result",
          "data": {
            "text/plain": [
              "DataFrame[]"
            ]
          },
          "metadata": {},
          "execution_count": 8
        }
      ],
      "source": [
        "query = \"\"\"\n",
        "CREATE TABLE IF NOT EXISTS raw_vehiculePrices\n",
        "USING csv\n",
        "OPTIONS (\n",
        "  header \"true\",\n",
        "  path \"/tmp/MLData/autos.csv\",\n",
        "  inferSchema \"true\"\n",
        ")\n",
        "\"\"\"\n",
        "spark.sql(query)"
      ]
    },
    {
      "cell_type": "markdown",
      "metadata": {
        "id": "0EKaX3uGYiJg"
      },
      "source": [
        "## Phase 0: Understanding the data"
      ]
    },
    {
      "cell_type": "markdown",
      "metadata": {
        "id": "h9yzUuD7uvrD"
      },
      "source": [
        "In this part, you are invited to get some knowledge about the data by reading its schema and extracting  some basic statistical information about the values of columns that you will find interesting."
      ]
    },
    {
      "cell_type": "code",
      "execution_count": null,
      "metadata": {
        "colab": {
          "base_uri": "https://localhost:8080/"
        },
        "id": "Eb6-J0azcBma",
        "outputId": "9419aaaa-bba7-4616-e680-df437cfce72e"
      },
      "outputs": [
        {
          "output_type": "stream",
          "name": "stdout",
          "text": [
            "+-------------------+---------+-------+\n",
            "|           col_name|data_type|comment|\n",
            "+-------------------+---------+-------+\n",
            "|        dateCrawled|timestamp|   NULL|\n",
            "|               name|   string|   NULL|\n",
            "|             seller|   string|   NULL|\n",
            "|          offerType|   string|   NULL|\n",
            "|              price|      int|   NULL|\n",
            "|             abtest|   string|   NULL|\n",
            "|        vehicleType|   string|   NULL|\n",
            "| yearOfRegistration|      int|   NULL|\n",
            "|            gearbox|   string|   NULL|\n",
            "|            powerPS|      int|   NULL|\n",
            "|              model|   string|   NULL|\n",
            "|          kilometer|      int|   NULL|\n",
            "|monthOfRegistration|      int|   NULL|\n",
            "|           fuelType|   string|   NULL|\n",
            "|              brand|   string|   NULL|\n",
            "|  notRepairedDamage|   string|   NULL|\n",
            "|        dateCreated|timestamp|   NULL|\n",
            "|       nrOfPictures|      int|   NULL|\n",
            "|         postalCode|      int|   NULL|\n",
            "|           lastSeen|timestamp|   NULL|\n",
            "+-------------------+---------+-------+\n",
            "\n"
          ]
        }
      ],
      "source": [
        "query = \"\"\"\n",
        "DESCRIBE raw_vehiculePrices\n",
        "\"\"\"\n",
        "spark.sql(query).show()"
      ]
    },
    {
      "cell_type": "code",
      "execution_count": null,
      "metadata": {
        "colab": {
          "base_uri": "https://localhost:8080/"
        },
        "id": "XeJDgTnicSx0",
        "outputId": "6bfc45f5-c3af-435c-d722-11f56c7e446f"
      },
      "outputs": [
        {
          "output_type": "stream",
          "name": "stdout",
          "text": [
            "+-------------------+--------------------+------+---------+-----+------+-----------+------------------+---------+-------+-----+---------+-------------------+--------+----------+-----------------+-------------------+------------+----------+-------------------+\n",
            "|        dateCrawled|                name|seller|offerType|price|abtest|vehicleType|yearOfRegistration|  gearbox|powerPS|model|kilometer|monthOfRegistration|fuelType|     brand|notRepairedDamage|        dateCreated|nrOfPictures|postalCode|           lastSeen|\n",
            "+-------------------+--------------------+------+---------+-----+------+-----------+------------------+---------+-------+-----+---------+-------------------+--------+----------+-----------------+-------------------+------------+----------+-------------------+\n",
            "|2016-03-24 11:52:17|          Golf_3_1.6|privat|  Angebot|  480|  test|       NULL|              1993|  manuell|      0| golf|   150000|                  0|  benzin|volkswagen|             NULL|2016-03-24 00:00:00|           0|     70435|2016-04-07 03:16:57|\n",
            "|2016-03-24 10:58:45|A5_Sportback_2.7_Tdi|privat|  Angebot|18300|  test|      coupe|              2011|  manuell|    190| NULL|   125000|                  5|  diesel|      audi|               ja|2016-03-24 00:00:00|           0|     66954|2016-04-07 01:46:50|\n",
            "|2016-03-14 12:52:21|Jeep_Grand_Cherok...|privat|  Angebot| 9800|  test|        suv|              2004|automatik|    163|grand|   125000|                  8|  diesel|      jeep|             NULL|2016-03-14 00:00:00|           0|     90480|2016-04-05 12:47:46|\n",
            "|2016-03-17 16:54:04|  GOLF_4_1_4__3T�RER|privat|  Angebot| 1500|  test| kleinwagen|              2001|  manuell|     75| golf|   150000|                  6|  benzin|volkswagen|             nein|2016-03-17 00:00:00|           0|     91074|2016-03-17 17:40:17|\n",
            "|2016-03-31 17:25:20|Skoda_Fabia_1.4_T...|privat|  Angebot| 3600|  test| kleinwagen|              2008|  manuell|     69|fabia|    90000|                  7|  diesel|     skoda|             nein|2016-03-31 00:00:00|           0|     60437|2016-04-06 10:17:21|\n",
            "+-------------------+--------------------+------+---------+-----+------+-----------+------------------+---------+-------+-----+---------+-------------------+--------+----------+-----------------+-------------------+------------+----------+-------------------+\n",
            "\n"
          ]
        }
      ],
      "source": [
        "query = \"\"\"\n",
        "SELECT * FROM raw_vehiculePrices TABLESAMPLE (5 ROWS);\n",
        "\"\"\"\n",
        "spark.sql(query).show()\n"
      ]
    },
    {
      "cell_type": "code",
      "execution_count": null,
      "metadata": {
        "colab": {
          "base_uri": "https://localhost:8080/"
        },
        "id": "OHSwz3vShMMx",
        "outputId": "6e63f47a-4c37-44b8-9795-33053d65631a"
      },
      "outputs": [
        {
          "output_type": "stream",
          "name": "stdout",
          "text": [
            "+-----------------------+-----------------------+-----------------------+--------------------------+\n",
            "|min(yearOfRegistration)|max(yearOfRegistration)|avg(yearOfRegistration)|median(yearOfRegistration)|\n",
            "+-----------------------+-----------------------+-----------------------+--------------------------+\n",
            "|                   1000|                   9999|     2004.5767206439623|                    2003.0|\n",
            "+-----------------------+-----------------------+-----------------------+--------------------------+\n",
            "\n"
          ]
        }
      ],
      "source": [
        "query = \"\"\"\n",
        "SELECT  min(yearOfRegistration), max(yearOfRegistration),\n",
        "          avg(yearOfRegistration), median(yearOfRegistration)\n",
        "FROM raw_vehiculePrices\n",
        "\"\"\"\n",
        "spark.sql(query).show()"
      ]
    },
    {
      "cell_type": "code",
      "execution_count": null,
      "metadata": {
        "id": "y43pSPgweGPF"
      },
      "outputs": [],
      "source": [
        "# query = \"\"\"\n",
        "# SELECT  yearOfRegistration, count(*)\n",
        "# FROM vehiculePrices\n",
        "# GROUP BY yearOfRegistration\n",
        "# order by 1 desc,2 desc\n",
        "# \"\"\"\n",
        "# spark.sql(query).show(150)"
      ]
    },
    {
      "cell_type": "code",
      "execution_count": null,
      "metadata": {
        "colab": {
          "base_uri": "https://localhost:8080/"
        },
        "id": "L07JiYkMe8Ss",
        "outputId": "6b853707-e2c9-4b5f-893e-2cc766b5da94"
      },
      "outputs": [
        {
          "output_type": "stream",
          "name": "stdout",
          "text": [
            "+----------+----------+------------------+-------------+\n",
            "|min(price)|max(price)|        avg(price)|median(price)|\n",
            "+----------+----------+------------------+-------------+\n",
            "|         0|2147483647|17286.338865535483|       2950.0|\n",
            "+----------+----------+------------------+-------------+\n",
            "\n"
          ]
        }
      ],
      "source": [
        "query = \"\"\"\n",
        "SELECT  min(price), max(price),\n",
        "          avg(price), median(price)\n",
        "FROM raw_vehiculePrices\n",
        "\"\"\"\n",
        "spark.sql(query).show()"
      ]
    },
    {
      "cell_type": "code",
      "execution_count": null,
      "metadata": {
        "colab": {
          "base_uri": "https://localhost:8080/"
        },
        "id": "1i5aH7TuiB7U",
        "outputId": "3259af73-9d36-4eb5-8128-4caee12ced33"
      },
      "outputs": [
        {
          "output_type": "stream",
          "name": "stdout",
          "text": [
            "+--------------+--------------+------------------+-----------------+\n",
            "|min(kilometer)|max(kilometer)|    avg(kilometer)|median(kilometer)|\n",
            "+--------------+--------------+------------------+-----------------+\n",
            "|          5000|        150000|125618.56044408226|         150000.0|\n",
            "+--------------+--------------+------------------+-----------------+\n",
            "\n"
          ]
        }
      ],
      "source": [
        "query = \"\"\"\n",
        "SELECT  min(kilometer), max(kilometer),\n",
        "          avg(kilometer), median(kilometer)\n",
        "FROM raw_vehiculePrices\n",
        "\"\"\"\n",
        "spark.sql(query).show()"
      ]
    },
    {
      "cell_type": "markdown",
      "metadata": {
        "id": "5eQ7H8YNvJ-C"
      },
      "source": [
        "## Phase 1: Cleaning the data and selecting relevant columns"
      ]
    },
    {
      "cell_type": "markdown",
      "metadata": {
        "id": "aElQN6zKvLrO"
      },
      "source": [
        "In this part you are invited to decide which columns are useful for you analysis and to perform some cleaning on the data by removing outlier values (e.g. remove records with strange values for a specific column).\n",
        "The result of your cleaning and selection should be stored in a table called `phase1`"
      ]
    },
    {
      "cell_type": "code",
      "execution_count": null,
      "metadata": {
        "colab": {
          "base_uri": "https://localhost:8080/"
        },
        "id": "qYIa2vMuBahw",
        "outputId": "ac0c9c1f-48f2-46e6-a1b6-f6b8211eadd1"
      },
      "outputs": [
        {
          "output_type": "stream",
          "name": "stdout",
          "text": [
            "+--------+------------+\n",
            "|count(1)|nrOfPictures|\n",
            "+--------+------------+\n",
            "|  371823|           0|\n",
            "|       1|        NULL|\n",
            "+--------+------------+\n",
            "\n"
          ]
        }
      ],
      "source": [
        "query = \"\"\"\n",
        "SELECT  count(*), nrOfPictures\n",
        "FROM raw_vehiculePrices\n",
        "GROUP BY nrOfPictures\n",
        "order by 1 desc,2 desc\n",
        "\"\"\"\n",
        "spark.sql(query).show()"
      ]
    },
    {
      "cell_type": "code",
      "execution_count": null,
      "metadata": {
        "colab": {
          "base_uri": "https://localhost:8080/"
        },
        "id": "EPN6EUQGwpgJ",
        "outputId": "643362ce-e68a-419f-a0b3-92c5966163b3"
      },
      "outputs": [
        {
          "output_type": "stream",
          "name": "stdout",
          "text": [
            "+--------+-------------------+\n",
            "|count(1)|monthOfRegistration|\n",
            "+--------+-------------------+\n",
            "|   37706|                  0|\n",
            "|   36191|                  3|\n",
            "|   33201|                  6|\n",
            "|   30945|                  4|\n",
            "|   30649|                  5|\n",
            "|   28983|                  7|\n",
            "|   27360|                 10|\n",
            "|   25509|                 11|\n",
            "|   25404|                 12|\n",
            "|   25089|                  9|\n",
            "|   24576|                  1|\n",
            "|   23782|                  8|\n",
            "|   22428|                  2|\n",
            "|       1|               NULL|\n",
            "+--------+-------------------+\n",
            "\n"
          ]
        }
      ],
      "source": [
        "query = \"\"\"\n",
        "SELECT  count(*), monthOfRegistration\n",
        "FROM raw_vehiculePrices\n",
        "GROUP BY monthOfRegistration\n",
        "order by 1 desc,2 desc\n",
        "\"\"\"\n",
        "spark.sql(query).show()"
      ]
    },
    {
      "cell_type": "code",
      "execution_count": null,
      "metadata": {
        "colab": {
          "base_uri": "https://localhost:8080/"
        },
        "id": "_6LjdkwCGCqc",
        "outputId": "f103a8a0-2863-452e-884e-e6dd8499d33b"
      },
      "outputs": [
        {
          "output_type": "stream",
          "name": "stdout",
          "text": [
            "+--------+-------------------+\n",
            "|count(1)|monthOfRegistration|\n",
            "+--------+-------------------+\n",
            "|   37706|                  0|\n",
            "|   36191|                  3|\n",
            "|   33201|                  6|\n",
            "|   30945|                  4|\n",
            "|   30649|                  5|\n",
            "|   28983|                  7|\n",
            "|   27360|                 10|\n",
            "|   25509|                 11|\n",
            "|   25404|                 12|\n",
            "|   25089|                  9|\n",
            "|   24576|                  1|\n",
            "|   23782|                  8|\n",
            "|   22428|                  2|\n",
            "|       1|               NULL|\n",
            "+--------+-------------------+\n",
            "\n"
          ]
        }
      ],
      "source": [
        "query = \"\"\"\n",
        "SELECT  count(*), monthOfRegistration\n",
        "FROM raw_vehiculePrices\n",
        "GROUP BY monthOfRegistration\n",
        "order by 1 desc,2 desc\n",
        "\"\"\"\n",
        "spark.sql(query).show()"
      ]
    },
    {
      "cell_type": "code",
      "execution_count": null,
      "metadata": {
        "colab": {
          "base_uri": "https://localhost:8080/"
        },
        "id": "GQ6JlUgsCIyc",
        "outputId": "4ffdba43-2fc7-455e-fea6-9cdcb8145110"
      },
      "outputs": [
        {
          "output_type": "execute_result",
          "data": {
            "text/plain": [
              "DataFrame[]"
            ]
          },
          "metadata": {},
          "execution_count": 18
        }
      ],
      "source": [
        "query = \"\"\"\n",
        "DROP TABLE IF EXISTS phase1\n",
        "\"\"\"\n",
        "spark.sql(query)\n",
        "\n",
        "query = \"\"\"\n",
        "CREATE OR REPLACE TABLE phase1\n",
        "USING delta\n",
        "AS\n",
        "SELECT  *\n",
        "FROM raw_vehiculePrices\n",
        "WHERE yearOfRegistration > 1900 and yearOfRegistration < 2024 and price > 500 and monthOfRegistration > 0 and kilometer > 0\n",
        "  and dateCreated < dateCrawled and dateCreated < lastSeen\n",
        "  and name is not null and seller is not null and offerType is not null and abtest is not null\n",
        "  and vehicleType is not null and gearbox is not null and model is not null and fuelType is not null\n",
        "  and brand is not null and notRepairedDamage is not null and dateCreated is not null\n",
        "\"\"\"\n",
        "spark.sql(query)"
      ]
    },
    {
      "cell_type": "code",
      "execution_count": null,
      "metadata": {
        "colab": {
          "base_uri": "https://localhost:8080/"
        },
        "id": "krsvswNBwpYh",
        "outputId": "d7aa2df7-6ad3-41ae-dad1-da09b13b9300"
      },
      "outputs": [
        {
          "output_type": "stream",
          "name": "stdout",
          "text": [
            "+----------+----------+-----------------+-------------+\n",
            "|min(price)|max(price)|       avg(price)|median(price)|\n",
            "+----------+----------+-----------------+-------------+\n",
            "|       501|  99999999|8790.667430541642|       4300.0|\n",
            "+----------+----------+-----------------+-------------+\n",
            "\n"
          ]
        }
      ],
      "source": [
        "query = \"\"\"\n",
        "SELECT  min(price), max(price),\n",
        "          avg(price), median(price)\n",
        "FROM phase1\n",
        "\"\"\"\n",
        "spark.sql(query).show()"
      ]
    },
    {
      "cell_type": "code",
      "execution_count": null,
      "metadata": {
        "colab": {
          "base_uri": "https://localhost:8080/"
        },
        "id": "P00ro5cz-9gC",
        "outputId": "0fba1682-4c9d-4ee9-b4b1-3350c8bb8bcd"
      },
      "outputs": [
        {
          "output_type": "stream",
          "name": "stdout",
          "text": [
            "+--------+---------+\n",
            "|count(1)|kilometer|\n",
            "+--------+---------+\n",
            "|  144067|   150000|\n",
            "|   27103|   125000|\n",
            "|   11468|   100000|\n",
            "|    9525|    90000|\n",
            "|    8634|    80000|\n",
            "|    7787|    70000|\n",
            "|    7102|    60000|\n",
            "|    6276|    50000|\n",
            "|    5290|    40000|\n",
            "|    4807|    30000|\n",
            "|    4195|    20000|\n",
            "|    1871|     5000|\n",
            "|    1443|    10000|\n",
            "+--------+---------+\n",
            "\n"
          ]
        }
      ],
      "source": [
        "query = \"\"\"\n",
        "SELECT  count(*), kilometer\n",
        "FROM phase1\n",
        "GROUP BY kilometer\n",
        "order by 1 desc,2 desc\n",
        "\"\"\"\n",
        "spark.sql(query).show()"
      ]
    },
    {
      "cell_type": "code",
      "execution_count": null,
      "metadata": {
        "colab": {
          "base_uri": "https://localhost:8080/"
        },
        "id": "Zn08zG11GkuC",
        "outputId": "5d52a3cb-179c-476f-b10f-18ec566dd30f"
      },
      "outputs": [
        {
          "output_type": "stream",
          "name": "stdout",
          "text": [
            "+--------+------+\n",
            "|count(1)| price|\n",
            "+--------+------+\n",
            "|       3|195000|\n",
            "|       3|150000|\n",
            "|       3|145000|\n",
            "|       3|129000|\n",
            "|       3|116000|\n",
            "|       3|112000|\n",
            "|       3|110000|\n",
            "|       3|109000|\n",
            "|       3|104900|\n",
            "|       3| 99900|\n",
            "|       3| 88900|\n",
            "|       3| 87900|\n",
            "|       3| 84999|\n",
            "|       3| 83500|\n",
            "|       3| 82500|\n",
            "|       3| 79900|\n",
            "|       3| 79500|\n",
            "|       3| 78500|\n",
            "|       3| 76000|\n",
            "|       3| 75900|\n",
            "+--------+------+\n",
            "only showing top 20 rows\n",
            "\n"
          ]
        }
      ],
      "source": [
        "query = \"\"\"\n",
        "SELECT count(*), price\n",
        "FROM phase1\n",
        "GROUP BY price\n",
        "having count(*) > 2\n",
        "order by 1, 2 desc\n",
        "\"\"\"\n",
        "spark.sql(query).show()"
      ]
    },
    {
      "cell_type": "code",
      "execution_count": null,
      "metadata": {
        "colab": {
          "base_uri": "https://localhost:8080/"
        },
        "id": "b0dDG939H0Gd",
        "outputId": "e98af2ec-6b68-454a-cf20-dfdfab9affaa"
      },
      "outputs": [
        {
          "output_type": "execute_result",
          "data": {
            "text/plain": [
              "DataFrame[]"
            ]
          },
          "metadata": {},
          "execution_count": 22
        }
      ],
      "source": [
        "query = \"\"\"\n",
        "CREATE OR REPLACE TABLE temp_phase1\n",
        "USING delta\n",
        "AS\n",
        "SELECT *, COUNT(*) OVER (PARTITION BY price) AS price_count\n",
        "FROM phase1;\n",
        "\"\"\"\n",
        "spark.sql(query)\n",
        "\n",
        "query = \"\"\"\n",
        "DELETE FROM temp_phase1\n",
        "WHERE price_count <= 2;\n",
        "\"\"\"\n",
        "spark.sql(query)\n",
        "\n",
        "query = \"\"\"\n",
        "DROP TABLE IF EXISTS phase1\n",
        "\"\"\"\n",
        "spark.sql(query)\n",
        "\n",
        "query = \"\"\"\n",
        "CREATE OR REPLACE TABLE phase1\n",
        "USING delta\n",
        "AS\n",
        "SELECT dateCrawled, name, seller, offerType, price, abtest, vehicleType,\n",
        "       yearOfRegistration, gearbox, powerPS, model, kilometer, monthOfRegistration,\n",
        "       fuelType, brand, notRepairedDamage, dateCreated, nrOfPictures,\n",
        "       postalCode, lastSeen\n",
        "FROM temp_phase1\n",
        "\"\"\"\n",
        "spark.sql(query)"
      ]
    },
    {
      "cell_type": "code",
      "execution_count": null,
      "metadata": {
        "colab": {
          "base_uri": "https://localhost:8080/"
        },
        "id": "N1stV56sJuvY",
        "outputId": "e0f29f60-aef8-4711-8ccb-47937277822e"
      },
      "outputs": [
        {
          "output_type": "stream",
          "name": "stdout",
          "text": [
            "+----------+----------+-----------------+-------------+\n",
            "|min(price)|max(price)|       avg(price)|median(price)|\n",
            "+----------+----------+-----------------+-------------+\n",
            "|       510|    225000|6932.356494751951|       4250.0|\n",
            "+----------+----------+-----------------+-------------+\n",
            "\n"
          ]
        }
      ],
      "source": [
        "query = \"\"\"\n",
        "SELECT  min(price), max(price),\n",
        "          avg(price), median(price)\n",
        "FROM temp_phase1\n",
        "\"\"\"\n",
        "spark.sql(query).show()"
      ]
    },
    {
      "cell_type": "markdown",
      "metadata": {
        "id": "Bi9Ni16awq_N"
      },
      "source": [
        "**Give a brief summary of your choices**\n",
        "\n",
        "This process ensures that only valid records with realistic and complete data are retained. The following key cleaning operations were performed:\n",
        "- Filtering rows based on business rules and data quality checks.\n",
        "- Removing rare and potentially outlier prices.\n",
        "- Retaining only relevant columns for further analysis or use.\n",
        "\n",
        "For example, the price of a sold car cannot be zero, the month of the registeration also cannot be zero.\n",
        "\n"
      ]
    },
    {
      "cell_type": "markdown",
      "metadata": {
        "id": "imiDhnt7Ymi3"
      },
      "source": [
        "## Phase 2: Organizing the data"
      ]
    },
    {
      "cell_type": "markdown",
      "metadata": {
        "id": "9EEhbLS3w5G4"
      },
      "source": [
        "In this part you are invited to load the data into delta tables where you will define meaningful constraints and conditions to be fulfiled by any future incoming data.\n",
        "The result of this phase should a delta table called `deltaPrices`"
      ]
    },
    {
      "cell_type": "code",
      "execution_count": null,
      "metadata": {
        "colab": {
          "base_uri": "https://localhost:8080/"
        },
        "id": "BkWSLKNFYrmb",
        "outputId": "8635900a-cdcf-4ed1-f130-9ad823dc700f"
      },
      "outputs": [
        {
          "output_type": "execute_result",
          "data": {
            "text/plain": [
              "DataFrame[]"
            ]
          },
          "metadata": {},
          "execution_count": 24
        }
      ],
      "source": [
        "# 创建 deltaPrices 表\n",
        "query = \"\"\"\n",
        "CREATE OR REPLACE TABLE deltaPrices (\n",
        "    dateCrawled TIMESTAMP,\n",
        "    name STRING,\n",
        "    seller STRING,\n",
        "    offerType STRING,\n",
        "    price INT,\n",
        "    abtest STRING,\n",
        "    vehicleType STRING,\n",
        "    yearOfRegistration INT,\n",
        "    gearbox STRING,\n",
        "    powerPS INT,\n",
        "    model STRING,\n",
        "    kilometer INT,\n",
        "    monthOfRegistration INT,\n",
        "    fuelType STRING,\n",
        "    brand STRING,\n",
        "    notRepairedDamage STRING,\n",
        "    dateCreated TIMESTAMP,\n",
        "    nrOfPictures INT,\n",
        "    postalCode INT,\n",
        "    lastSeen TIMESTAMP\n",
        ")\n",
        "USING DELTA;\n",
        "\"\"\"\n",
        "spark.sql(query)\n"
      ]
    },
    {
      "cell_type": "code",
      "execution_count": null,
      "metadata": {
        "colab": {
          "base_uri": "https://localhost:8080/"
        },
        "id": "kjuBWpDSxZmV",
        "outputId": "1a28aa85-1cbc-4077-ed92-36cfb9e71bca"
      },
      "outputs": [
        {
          "output_type": "execute_result",
          "data": {
            "text/plain": [
              "DataFrame[]"
            ]
          },
          "metadata": {},
          "execution_count": 25
        }
      ],
      "source": [
        "query = \"\"\"\n",
        "INSERT INTO deltaPrices\n",
        "SELECT *\n",
        "FROM phase1\n",
        "WHERE price >= 510 AND price <= 225000\n",
        "  AND yearOfRegistration BETWEEN 1900 AND YEAR(CURRENT_DATE)\n",
        "  AND powerPS > 0 AND powerPS < 20000\n",
        "  AND kilometer >= 5000 AND kilometer <= 150000;\n",
        "\"\"\"\n",
        "spark.sql(query)"
      ]
    },
    {
      "cell_type": "code",
      "execution_count": null,
      "metadata": {
        "colab": {
          "base_uri": "https://localhost:8080/"
        },
        "id": "j20wLbh1MXme",
        "outputId": "b68dcd59-73a7-4171-82d3-aa68b47a1420"
      },
      "outputs": [
        {
          "output_type": "stream",
          "name": "stdout",
          "text": [
            "+----------+----------+-----------------+-------------+\n",
            "|min(price)|max(price)|       avg(price)|median(price)|\n",
            "+----------+----------+-----------------+-------------+\n",
            "|       510|    225000|7017.582971192949|       4350.0|\n",
            "+----------+----------+-----------------+-------------+\n",
            "\n"
          ]
        }
      ],
      "source": [
        "query = \"\"\"\n",
        "SELECT  min(price), max(price),\n",
        "          avg(price), median(price)\n",
        "FROM deltaPrices\n",
        "\"\"\"\n",
        "spark.sql(query).show()"
      ]
    },
    {
      "cell_type": "code",
      "execution_count": null,
      "metadata": {
        "colab": {
          "base_uri": "https://localhost:8080/"
        },
        "id": "byEV9FIyMcqI",
        "outputId": "1f08a03c-fa48-4671-9f9a-6b5653a0f759"
      },
      "outputs": [
        {
          "output_type": "stream",
          "name": "stdout",
          "text": [
            "+------------+------------+-----------------+---------------+\n",
            "|min(powerPS)|max(powerPS)|     avg(powerPS)|median(powerPS)|\n",
            "+------------+------------+-----------------+---------------+\n",
            "|           1|       17700|132.5757705199566|          120.0|\n",
            "+------------+------------+-----------------+---------------+\n",
            "\n"
          ]
        }
      ],
      "source": [
        "query = \"\"\"\n",
        "SELECT  min(powerPS), max(powerPS),\n",
        "          avg(powerPS), median(powerPS)\n",
        "FROM deltaPrices\n",
        "\"\"\"\n",
        "spark.sql(query).show()"
      ]
    },
    {
      "cell_type": "code",
      "execution_count": null,
      "metadata": {
        "colab": {
          "base_uri": "https://localhost:8080/"
        },
        "id": "RoHaJYUsMn8T",
        "outputId": "85a0ec43-b37e-4ef8-a22c-f63828b20380"
      },
      "outputs": [
        {
          "output_type": "stream",
          "name": "stdout",
          "text": [
            "+--------------+--------------+------------------+-----------------+\n",
            "|min(kilometer)|max(kilometer)|    avg(kilometer)|median(kilometer)|\n",
            "+--------------+--------------+------------------+-----------------+\n",
            "|          5000|        150000|123094.06641879847|         150000.0|\n",
            "+--------------+--------------+------------------+-----------------+\n",
            "\n"
          ]
        }
      ],
      "source": [
        "query = \"\"\"\n",
        "SELECT  min(kilometer), max(kilometer),\n",
        "          avg(kilometer), median(kilometer)\n",
        "FROM deltaPrices\n",
        "\"\"\"\n",
        "spark.sql(query).show()"
      ]
    },
    {
      "cell_type": "markdown",
      "metadata": {
        "id": "C0YP77iE0-O6"
      },
      "source": [
        "Comment on the constraints you added\n",
        "\n",
        "\n",
        "After data cleaning in the first step, we successfully removed the outliers. Therefore we believe that normal data appearing below the minimum value or greater than the maximum value will be very rare. Therefore, we consider only data in the range \\[min, max\\] as normal"
      ]
    },
    {
      "cell_type": "markdown",
      "metadata": {
        "id": "fki_wgyWxL1C"
      },
      "source": [
        "## Phase 3: Analysing the data and ensuring query evaluation effeciency"
      ]
    },
    {
      "cell_type": "markdown",
      "metadata": {
        "id": "t4BJIJ4y0Y8b"
      },
      "source": [
        "Suggest 2 or 3 meaningfull queries as described above and suggest a data organization scheme for optimizing one such query of your choice."
      ]
    },
    {
      "cell_type": "code",
      "execution_count": null,
      "metadata": {
        "id": "CTP7VHrjxVKX",
        "colab": {
          "base_uri": "https://localhost:8080/"
        },
        "outputId": "aac4337a-1b99-40c4-a660-4d40c0c1c815"
      },
      "outputs": [
        {
          "output_type": "stream",
          "name": "stdout",
          "text": [
            "Enter your authtoken, which can be copied from https://dashboard.ngrok.com/get-started/your-authtoken\n",
            "··········\n"
          ]
        },
        {
          "output_type": "stream",
          "name": "stderr",
          "text": [
            "WARNING:pyngrok.process.ngrok:t=2024-10-24T08:35:39+0000 lvl=warn msg=\"can't bind default web address, trying alternatives\" obj=web addr=127.0.0.1:4040\n"
          ]
        },
        {
          "output_type": "stream",
          "name": "stdout",
          "text": [
            " * ngrok tunnel \"https://8158-34-125-204-244.ngrok-free.app\" -> \"http://127.0.0.1:4040\"\n"
          ]
        }
      ],
      "source": [
        "from pyngrok import ngrok, conf\n",
        "import getpass\n",
        "\n",
        "print(\"Enter your authtoken, which can be copied \"\n",
        "\"from https://dashboard.ngrok.com/get-started/your-authtoken\")\n",
        "conf.get_default().auth_token = getpass.getpass()\n",
        "\n",
        "ui_port = 4040\n",
        "public_url = ngrok.connect(ui_port).public_url\n",
        "print(f\" * ngrok tunnel \\\"{public_url}\\\" -> \\\"http://127.0.0.1:{ui_port}\\\"\")"
      ]
    },
    {
      "cell_type": "code",
      "execution_count": null,
      "metadata": {
        "colab": {
          "base_uri": "https://localhost:8080/"
        },
        "id": "H2rgqbLzkIsq",
        "outputId": "2c6c3527-7a95-47b3-e09a-fc371959f844"
      },
      "outputs": [
        {
          "output_type": "stream",
          "name": "stdout",
          "text": [
            "Correlation with price:\n",
            "price                  1.000000\n",
            "yearOfRegistration     0.440699\n",
            "powerPS                0.259631\n",
            "postalCode             0.067653\n",
            "monthOfRegistration   -0.003259\n",
            "kilometer             -0.455710\n",
            "nrOfPictures                NaN\n",
            "Name: price, dtype: float64\n",
            "Selected features based on correlation: ['powerPS', 'kilometer', 'yearOfRegistration']\n"
          ]
        }
      ],
      "source": [
        "from pyspark.sql import SparkSession\n",
        "from pyspark.sql.functions import year, col, avg\n",
        "from pyspark.ml import Pipeline\n",
        "from pyspark.ml.feature import StringIndexer, VectorAssembler, VectorIndexer\n",
        "import pandas as pd\n",
        "\n",
        "# Initialize SparkSession\n",
        "spark = SparkSession.builder.appName(\"OptimizeQueryWithCorrelation\").getOrCreate()\n",
        "df = spark.table(\"deltaPrices\")\n",
        "df = df.withColumn(\"year\", year(col(\"dateCreated\")))\n",
        "\n",
        "# choisit les colonnes numériques\n",
        "numeric_cols = [\"price\", \"powerPS\", \"kilometer\", \"yearOfRegistration\", \"postalCode\", \"nrOfPictures\", \"monthOfRegistration\"]\n",
        "correlation_df = df.select([col(c) for c in numeric_cols]).toPandas()\n",
        "\n",
        "\n",
        "# calcule la matrice de corrélation\n",
        "correlation_matrix = correlation_df.corr()\n",
        "print(\"Correlation with price:\")\n",
        "print(correlation_matrix[\"price\"].sort_values(ascending=False))\n",
        "\n",
        "\n",
        "# Par la corrélation, on choisit les colonnes qui ont une corrélation supérieure à 0.25 ou inférieure à -0.25 avec le prix\n",
        "selected_features = correlation_matrix[\"price\"][(correlation_matrix[\"price\"] > 0.25) | (correlation_matrix[\"price\"] < -0.25)].index.tolist()\n",
        "selected_features.remove(\"price\")\n",
        "print(f\"Selected features based on correlation: {selected_features}\")\n",
        "\n",
        "# Define the StringIndexer to convert the categorical 'gearbox' column to numerical index\n",
        "label_col = \"gearbox\"\n",
        "indexed_label_col = \"indexed_gearbox\"\n",
        "label_indexer = StringIndexer(inputCol=label_col, outputCol=indexed_label_col, handleInvalid=\"keep\")\n",
        "\n",
        "vec_assembler = VectorAssembler(inputCols=selected_features, outputCol=\"features_vector\")\n",
        "vec_indexer = VectorIndexer(inputCol=\"features_vector\", outputCol=\"features\", maxCategories=3)\n",
        "\n",
        "# Cree un pipeline avec les etapes\n",
        "stages = [label_indexer, vec_assembler, vec_indexer]\n",
        "pipeline = Pipeline(stages=stages)\n",
        "# Fit the pipeline\n",
        "model = pipeline.fit(df)\n",
        "transformed_df = model.transform(df)\n"
      ]
    },
    {
      "cell_type": "code",
      "execution_count": null,
      "metadata": {
        "colab": {
          "base_uri": "https://localhost:8080/"
        },
        "id": "PYu36XnVhghj",
        "outputId": "d580cd63-3aef-4a00-9584-f39698e86bdc"
      },
      "outputs": [
        {
          "output_type": "stream",
          "name": "stdout",
          "text": [
            "+---------+----+-----------------+\n",
            "|  gearbox|year|        avg_price|\n",
            "+---------+----+-----------------+\n",
            "|automatik|2015|          11834.8|\n",
            "|  manuell|2015|9233.615384615385|\n",
            "|automatik|2016|11423.03049594229|\n",
            "|  manuell|2016|5612.816970393791|\n",
            "+---------+----+-----------------+\n",
            "\n"
          ]
        }
      ],
      "source": [
        "query = \"\"\"\n",
        "SELECT gearbox, YEAR(dateCreated) as year, AVG(price) as avg_price\n",
        "FROM deltaPrices\n",
        "GROUP BY gearbox, year\n",
        "ORDER BY year, avg_price DESC;\n",
        "\"\"\"\n",
        "spark.sql(query).show()"
      ]
    },
    {
      "cell_type": "code",
      "execution_count": null,
      "metadata": {
        "colab": {
          "base_uri": "https://localhost:8080/"
        },
        "id": "4NxTgGI8kTPA",
        "outputId": "ad16d5a2-8905-457e-e0e5-c5153753c466"
      },
      "outputs": [
        {
          "output_type": "stream",
          "name": "stdout",
          "text": [
            "+---------------+----+-----------------+\n",
            "|indexed_gearbox|year|        avg_price|\n",
            "+---------------+----+-----------------+\n",
            "|            1.0|2015|          11834.8|\n",
            "|            0.0|2015|9233.615384615385|\n",
            "|            1.0|2016|11423.03049594229|\n",
            "|            0.0|2016|5612.816970393791|\n",
            "+---------------+----+-----------------+\n",
            "\n"
          ]
        }
      ],
      "source": [
        "# 分组聚合，计算平均价格\n",
        "result_df = transformed_df.groupBy(\"indexed_gearbox\", \"year\").agg(avg(\"price\").alias(\"avg_price\"))\n",
        "result_df = result_df.orderBy(col(\"year\").asc(), col(\"avg_price\").desc())\n",
        "result_df.show()"
      ]
    },
    {
      "cell_type": "code",
      "execution_count": null,
      "metadata": {
        "colab": {
          "base_uri": "https://localhost:8080/"
        },
        "id": "Zp1zEzkZxOaY",
        "outputId": "7dc70202-6e37-45dd-929a-9f37b3a29a1b"
      },
      "outputs": [
        {
          "output_type": "stream",
          "name": "stdout",
          "text": [
            "+----------+-----------+------------------+\n",
            "|    seller|vehicleType|         avg_price|\n",
            "+----------+-----------+------------------+\n",
            "|    privat|        suv|13801.530453447813|\n",
            "|    privat|      coupe|11502.184746825522|\n",
            "|    privat|     cabrio|10546.197891654465|\n",
            "|    privat|        bus|  7268.99056727368|\n",
            "|gewerblich|  limousine|            6900.0|\n",
            "|    privat|  limousine| 6760.974133380257|\n",
            "|    privat|      kombi| 6754.698268980295|\n",
            "|    privat|     andere| 5119.884555382216|\n",
            "|    privat| kleinwagen| 3576.979805071446|\n",
            "|gewerblich| kleinwagen|            1100.0|\n",
            "+----------+-----------+------------------+\n",
            "\n"
          ]
        }
      ],
      "source": [
        "query = \"\"\"\n",
        "SELECT seller, vehicleType, avg(price) as avg_price\n",
        "FROM deltaPrices\n",
        "GROUP BY seller, vehicleType\n",
        "ORDER BY avg_price DESC;\n",
        "\"\"\"\n",
        "spark.sql(query).show()"
      ]
    },
    {
      "cell_type": "markdown",
      "metadata": {
        "id": "BOfKxBYryX8Y"
      },
      "source": [
        "## Ingesting new data and reruning analytics  "
      ]
    },
    {
      "cell_type": "markdown",
      "metadata": {
        "id": "QSfuBf4KyiuZ"
      },
      "source": [
        "In this part you are invited to suggest the insertion of fictious new data that conforms to the schema established in phase 2 and to rerun some queries of phase 3 to see the evolution of the result. Ideally, write a query that compares an aggregation value in two different versions of the data by exploiting the delta history feature."
      ]
    },
    {
      "cell_type": "code",
      "source": [
        "# read from the original table\n",
        "delta_prices_df = spark.table(\"deltaPrices\")\n",
        "\n",
        "# select a slice of the table\n",
        "slice_df = delta_prices_df.select(\"brand\", \"model\", \"price\")\n",
        "slice_df.write.format(\"delta\").mode(\"overwrite\").saveAsTable(\"brand_model_price\")"
      ],
      "metadata": {
        "id": "ELwhjmMyzGci"
      },
      "execution_count": null,
      "outputs": []
    },
    {
      "cell_type": "code",
      "source": [
        "df = spark.table(\"deltaPrices\")\n",
        "possible_data_list = []\n",
        "brands = df.select(\"brand\").distinct().collect()\n",
        "\n",
        "for brand in brands:\n",
        "    models = df.filter(df.brand == brand[0]).select(\"model\").distinct().collect()\n",
        "    for model in models:\n",
        "        possible_data_list.append((brand[0], model[0]))\n",
        "\n",
        "print(possible_data_list[20])"
      ],
      "metadata": {
        "colab": {
          "base_uri": "https://localhost:8080/"
        },
        "id": "wp7ZGDuI0bkg",
        "outputId": "2bbf1e6f-41ef-480d-fe62-9573a4e5f4f4"
      },
      "execution_count": null,
      "outputs": [
        {
          "output_type": "stream",
          "name": "stdout",
          "text": [
            "('lada', 'samara')\n"
          ]
        }
      ]
    },
    {
      "cell_type": "code",
      "source": [
        "history_query = \"\"\"\n",
        "DESCRIBE HISTORY brand_model_price;\n",
        "\"\"\"\n",
        "history_df = spark.sql(history_query)\n",
        "history_df.show()"
      ],
      "metadata": {
        "colab": {
          "base_uri": "https://localhost:8080/"
        },
        "id": "Sp4XFlVF0Xge",
        "outputId": "eb6d9c19-311e-435d-dcf6-5ad1e76aa6a9"
      },
      "execution_count": null,
      "outputs": [
        {
          "output_type": "stream",
          "name": "stdout",
          "text": [
            "+-------+--------------------+------+--------+--------------------+--------------------+----+--------+---------+-----------+--------------+-------------+--------------------+------------+--------------------+\n",
            "|version|           timestamp|userId|userName|           operation| operationParameters| job|notebook|clusterId|readVersion|isolationLevel|isBlindAppend|    operationMetrics|userMetadata|          engineInfo|\n",
            "+-------+--------------------+------+--------+--------------------+--------------------+----+--------+---------+-----------+--------------+-------------+--------------------+------------+--------------------+\n",
            "|      0|2024-10-22 18:35:...|  NULL|    NULL|CREATE OR REPLACE...|{isManaged -> tru...|NULL|    NULL|     NULL|       NULL|  Serializable|        false|{numFiles -> 2, n...|        NULL|Apache-Spark/3.5....|\n",
            "+-------+--------------------+------+--------+--------------------+--------------------+----+--------+---------+-----------+--------------+-------------+--------------------+------------+--------------------+\n",
            "\n"
          ]
        }
      ]
    },
    {
      "cell_type": "code",
      "source": [
        "import random\n",
        "\n",
        "# insert a serie of random data\n",
        "random_insert_query = \"\"\"\n",
        "INSERT INTO brand_model_price (brand, model, price)\n",
        "VALUES\n",
        "\"\"\"\n",
        "nb_inserts = 1000\n",
        "random_values = []\n",
        "for i in range(nb_inserts):\n",
        "    brand, model = random.choice(possible_data_list)\n",
        "    price = random.randint(510, 225000)\n",
        "    random_data = f\"('{brand}', '{model}', {price})\"\n",
        "    random_values.append(random_data)\n",
        "\n",
        "# construct the sql line\n",
        "random_insert_query += \", \".join(random_values) + \";\"\n",
        "spark.sql(random_insert_query)"
      ],
      "metadata": {
        "colab": {
          "base_uri": "https://localhost:8080/"
        },
        "id": "4gt1GQGX1jU6",
        "outputId": "80e78533-4957-422e-e398-85e512757c3a"
      },
      "execution_count": null,
      "outputs": [
        {
          "output_type": "execute_result",
          "data": {
            "text/plain": [
              "DataFrame[]"
            ]
          },
          "metadata": {},
          "execution_count": 38
        }
      ]
    },
    {
      "cell_type": "code",
      "source": [
        "history_query = \"\"\"\n",
        "DESCRIBE HISTORY brand_model_price;\n",
        "\"\"\"\n",
        "history_df = spark.sql(history_query)\n",
        "history_df.show()"
      ],
      "metadata": {
        "colab": {
          "base_uri": "https://localhost:8080/"
        },
        "id": "x6Df7oSk2Puj",
        "outputId": "65709ec2-dc5b-40ba-864b-28523731394f"
      },
      "execution_count": null,
      "outputs": [
        {
          "output_type": "stream",
          "name": "stdout",
          "text": [
            "+-------+--------------------+------+--------+--------------------+--------------------+----+--------+---------+-----------+--------------+-------------+--------------------+------------+--------------------+\n",
            "|version|           timestamp|userId|userName|           operation| operationParameters| job|notebook|clusterId|readVersion|isolationLevel|isBlindAppend|    operationMetrics|userMetadata|          engineInfo|\n",
            "+-------+--------------------+------+--------+--------------------+--------------------+----+--------+---------+-----------+--------------+-------------+--------------------+------------+--------------------+\n",
            "|      1|2024-10-22 18:36:...|  NULL|    NULL|               WRITE|{mode -> Append, ...|NULL|    NULL|     NULL|          0|  Serializable|         true|{numFiles -> 2, n...|        NULL|Apache-Spark/3.5....|\n",
            "|      0|2024-10-22 18:35:...|  NULL|    NULL|CREATE OR REPLACE...|{isManaged -> tru...|NULL|    NULL|     NULL|       NULL|  Serializable|        false|{numFiles -> 2, n...|        NULL|Apache-Spark/3.5....|\n",
            "+-------+--------------------+------+--------+--------------------+--------------------+----+--------+---------+-----------+--------------+-------------+--------------------+------------+--------------------+\n",
            "\n"
          ]
        }
      ]
    },
    {
      "cell_type": "code",
      "execution_count": null,
      "metadata": {
        "id": "Aa7FU_EOzQ7O",
        "colab": {
          "base_uri": "https://localhost:8080/"
        },
        "outputId": "082e6500-642a-4ce8-daef-dd0bc6718ee1"
      },
      "outputs": [
        {
          "output_type": "stream",
          "name": "stdout",
          "text": [
            "+----------+---------------+-----------------+------------------+------------------+\n",
            "|     brand|          model|current_avg_price|previous_avg_price|      price_change|\n",
            "+----------+---------------+-----------------+------------------+------------------+\n",
            "|     rover|       defender|         120501.0|             550.0|          119951.0|\n",
            "|    lancia|     elefantino|          85638.6|             999.0|           84639.6|\n",
            "|     rover|      discovery|         93976.67|           16000.0|          77976.67|\n",
            "|      lada|         kalina|          75195.3|            2079.8|           73115.5|\n",
            "|     rover|     freelander|         68915.14|            1950.0|          66965.14|\n",
            "|     rover|     rangerover|         81968.17|          20733.33|          61234.84|\n",
            "|land_rover|        serie_3|         72851.57|          13083.33|59768.240000000005|\n",
            "|      lada|         samara|         41541.25|            1849.0|          39692.25|\n",
            "|land_rover|discovery_sport|          83282.0|           47950.0|           35332.0|\n",
            "|land_rover|        serie_2|         46929.71|           11747.5|          35182.21|\n",
            "|      saab|           9000|         35496.48|           3174.67|32321.810000000005|\n",
            "|  daihatsu|        materia|         36704.47|           5090.58|          31613.89|\n",
            "|  daihatsu|           move|         31541.19|            928.27|          30612.92|\n",
            "|  daihatsu|        charade|          32248.5|            2477.0|           29771.5|\n",
            "|    lancia|          kappa|         27755.83|            2461.0|          25294.83|\n",
            "|     smart|         andere|         25590.68|           4659.42|20931.260000000002|\n",
            "|    lancia|          delta|         32685.22|          11939.85|20745.370000000003|\n",
            "|      ford|          b_max|         31515.27|          12311.13|          19204.14|\n",
            "|land_rover|         andere|         34809.12|          18341.43|16467.690000000002|\n",
            "|      audi|            200|         21334.75|           5140.36|          16194.39|\n",
            "+----------+---------------+-----------------+------------------+------------------+\n",
            "only showing top 20 rows\n",
            "\n"
          ]
        }
      ],
      "source": [
        "# comparing the difference of two version\n",
        "# the changes of the averange price\n",
        "compare_query = \"\"\"\n",
        "WITH prev_version AS (\n",
        "    SELECT brand, model, ROUND(AVG(price), 2) AS avg_price\n",
        "    FROM brand_model_price VERSION AS OF 0 -- 假设0是旧版本\n",
        "    GROUP BY brand, model\n",
        "),\n",
        "current_version AS (\n",
        "    SELECT brand, model, ROUND(AVG(price), 2) AS avg_price\n",
        "    FROM brand_model_price VERSION AS OF 1 -- 假设1是新版本\n",
        "    GROUP BY brand, model\n",
        ")\n",
        "SELECT\n",
        "    current_version.brand,\n",
        "    current_version.model,\n",
        "    current_version.avg_price AS current_avg_price,\n",
        "    prev_version.avg_price AS previous_avg_price,\n",
        "    (current_version.avg_price - prev_version.avg_price) AS price_change\n",
        "FROM current_version\n",
        "JOIN prev_version\n",
        "ON current_version.brand = prev_version.brand\n",
        "AND current_version.model = prev_version.model\n",
        "ORDER BY price_change DESC;\n",
        "\"\"\"\n",
        "spark.sql(compare_query).show()"
      ]
    }
  ],
  "metadata": {
    "colab": {
      "provenance": []
    },
    "kernelspec": {
      "display_name": "Python 3",
      "name": "python3"
    },
    "language_info": {
      "name": "python"
    }
  },
  "nbformat": 4,
  "nbformat_minor": 0
}